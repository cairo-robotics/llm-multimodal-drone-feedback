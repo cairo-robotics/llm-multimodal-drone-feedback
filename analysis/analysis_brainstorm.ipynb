{
 "cells": [
  {
   "cell_type": "markdown",
   "metadata": {},
   "source": [
    "# Imports"
   ]
  },
  {
   "cell_type": "code",
   "execution_count": 1,
   "metadata": {},
   "outputs": [],
   "source": [
    "import warnings\n",
    "warnings.filterwarnings(\"ignore\")\n",
    "\n",
    "import pandas as pd\n",
    "import matplotlib.pyplot as plt\n",
    "import glob\n",
    "\n",
    "import utils # offload data processing into .py file"
   ]
  },
  {
   "cell_type": "code",
   "execution_count": 2,
   "metadata": {},
   "outputs": [],
   "source": [
    "data_dir = 'C:/Users/Emily Jensen/OneDrive - UCB-O365/Drone Feedback Data/data/'"
   ]
  },
  {
   "cell_type": "markdown",
   "metadata": {},
   "source": [
    "Open all of the relevant data files/directories\n",
    "\n",
    "Emily downloaded the final data and Qualtrics surveys on 4/16/24"
   ]
  },
  {
   "cell_type": "markdown",
   "metadata": {},
   "source": [
    "Qualtrics export settings:\n",
    "\n",
    "<img src=\"qualtrics_export_settings.png\" alt=\"Qualtrics Export Settings\" width=\"500px\">"
   ]
  },
  {
   "cell_type": "markdown",
   "metadata": {},
   "source": [
    "# Load Data"
   ]
  },
  {
   "cell_type": "markdown",
   "metadata": {},
   "source": [
    "Notes on participants that seem to have restarted the experiment:\n",
    "- `5bd49bcc25db7b0001794063` restarted after trial 1 - KEEP\n",
    "- `5c90094e71f3100016181ea9` restarted after trial 3 and again after trial 1 - KEEP\n",
    "- `5ef9f528c7ae587afa25fe9b` restarted after trial 6 - REMOVE\n",
    "- `60fcc292d13ae9614d4a77a7` restarted after trial 3 - KEEP\n",
    "- `6105c41aa4fe602501d5a8cc` restarted after trial 8 - REMOVE\n",
    "- `610796f1301fccdca446af57` restarted after trial 7 - REMOVE\n",
    "- `629658baad2881aba974c6c3` restarted after trial 2 - KEEP\n",
    "- `63026a8fd8429b224cd2a134` restarted before completing trial 1 - KEEP\n",
    "- `631f1b608af38f654d2a3b1f` restarted after trial 15 - REMOVE\n",
    "- `637d4196c70a66e28ecede34` restarted before completing trial 1 - KEEP\n",
    "- `6388b6c86e47b08e1eded1fd` restarted before completing trial 1 - KEEP\n",
    "- `63ba10de73415d047e1d6731` restarted after trial 5 and again after trial 1 - REMOVE\n",
    "- `643c6175d46d41e74033994f` restarted after trial 8 and again after trial 1 - REMOVE\n",
    "- `652ab7948cb59f4c50c7972a` restarted after trial 1 - KEEP\n",
    "- `6596a5cad60ef105b6c18897` restarted after trial 1 - KEEP\n",
    "- `65cba99c92b362b45e414da7` restarted after trial 17 - REMOVE\n",
    "\n",
    "We will keep the participants who complete less than 5 trials before completing a complete run.\n",
    "\n",
    "Participant `6400dc9f84ed19aeedc1a2cc` seems to have filled out the qualtrics survey twice. The numerical data are the same and the free response questions have very similar content so I feel fine only keeping the first entry.\n",
    "\n",
    "This has been implemented in `utils.load_data()`"
   ]
  },
  {
   "cell_type": "code",
   "execution_count": 2,
   "metadata": {},
   "outputs": [
    {
     "name": "stdout",
     "output_type": "stream",
     "text": [
      "Dropped 17 duplicate IDs:\n",
      "['5bd49bcc25db7b0001794063' '5c90094e71f3100016181ea9'\n",
      " '5ef9f528c7ae587afa25fe9b' '60fcc292d13ae9614d4a77a7'\n",
      " '6105c41aa4fe602501d5a8cc' '610796f1301fccdca446af57'\n",
      " '629658baad2881aba974c6c3' '63026a8fd8429b224cd2a134'\n",
      " '631f1b608af38f654d2a3b1f' '637d4196c70a66e28ecede34'\n",
      " '6388b6c86e47b08e1eded1fd' '63ba10de73415d047e1d6731'\n",
      " '6400dc9f84ed19aeedc1a2cc' '643c6175d46d41e74033994f'\n",
      " '652ab7948cb59f4c50c7972a' '6596a5cad60ef105b6c18897'\n",
      " '65cba99c92b362b45e414da7']\n",
      "Final number of IDs in participant file: 140\n",
      "Final number of IDs in trial file: 140\n"
     ]
    }
   ],
   "source": [
    "part_file, trial_file, ids = utils.load_data()"
   ]
  },
  {
   "cell_type": "markdown",
   "metadata": {},
   "source": [
    "# Basic stats\n",
    "\n",
    "This is after filtering out participants that restarted the experiment"
   ]
  },
  {
   "cell_type": "code",
   "execution_count": 3,
   "metadata": {},
   "outputs": [
    {
     "name": "stdout",
     "output_type": "stream",
     "text": [
      "           count  proportion\n",
      "condition                   \n",
      "full          46        0.33\n",
      "score         47        0.34\n",
      "text          47        0.34\n",
      "            count  proportion\n",
      "gender                       \n",
      "Man            62        0.44\n",
      "Non-binary      7        0.05\n",
      "Woman          71        0.51\n",
      "                  count  proportion\n",
      "drone_experience                   \n",
      "None                114        0.81\n",
      "Some                 20        0.14\n",
      "Regularly             5        0.04\n",
      "Professional          1        0.01\n",
      "                       count  proportion\n",
      "video_game_experience                   \n",
      "None                      24        0.17\n",
      "Monthly                   39        0.28\n",
      "Weekly                    36        0.26\n",
      "Daily                     41        0.29\n",
      "                   count  proportion\n",
      "feedback_helped                     \n",
      "Strongly Disagree     22        0.16\n",
      "Disagree              17        0.12\n",
      "Neutral               22        0.16\n",
      "Agree                 59        0.42\n",
      "Strongly Agree        20        0.14\n",
      "                           count  proportion\n",
      "feedback_helped_collapsed                   \n",
      "Disagree                      39        0.28\n",
      "Neutral                       22        0.16\n",
      "Agree                         79        0.56\n",
      "\n",
      "age:\n",
      "count    140.00\n",
      "mean      38.34\n",
      "std       12.20\n",
      "min       18.00\n",
      "25%       30.00\n",
      "50%       35.50\n",
      "75%       47.00\n",
      "max       74.00\n",
      "Name: age, dtype: float64\n",
      "\n",
      "total_time_seconds:\n",
      "count     140.00\n",
      "mean     1798.05\n",
      "std       637.74\n",
      "min       805.44\n",
      "25%      1346.67\n",
      "50%      1640.47\n",
      "75%      2118.95\n",
      "max      5192.21\n",
      "Name: total_time_seconds, dtype: float64\n",
      "\n",
      "avg_feedback_time_seconds:\n",
      "count    140.00\n",
      "mean      34.07\n",
      "std       23.39\n",
      "min        0.86\n",
      "25%       21.65\n",
      "50%       29.05\n",
      "75%       40.67\n",
      "max      226.05\n",
      "Name: avg_feedback_time_seconds, dtype: float64\n",
      "\n",
      "n_safe_landings:\n",
      "count    140.00\n",
      "mean       7.83\n",
      "std        5.32\n",
      "min        0.00\n",
      "25%        3.00\n",
      "50%        8.00\n",
      "75%       12.00\n",
      "max       19.00\n",
      "Name: n_safe_landings, dtype: float64\n"
     ]
    }
   ],
   "source": [
    "utils.run_basic_stats(part_file)"
   ]
  },
  {
   "cell_type": "markdown",
   "metadata": {},
   "source": [
    "# Research Themes"
   ]
  },
  {
   "cell_type": "markdown",
   "metadata": {},
   "source": [
    "## Perception of Feedback"
   ]
  },
  {
   "cell_type": "markdown",
   "metadata": {},
   "source": [
    "### What is associated with overall feedback helpfulness rating?"
   ]
  },
  {
   "cell_type": "code",
   "execution_count": 4,
   "metadata": {},
   "outputs": [
    {
     "name": "stdout",
     "output_type": "stream",
     "text": [
      "Optimization terminated successfully.\n",
      "         Current function value: 1.164818\n",
      "         Iterations: 66\n",
      "         Function evaluations: 73\n",
      "         Gradient evaluations: 73\n",
      "                             OrderedModel Results                             \n",
      "==============================================================================\n",
      "Dep. Variable:        feedback_helped   Log-Likelihood:                -163.07\n",
      "Model:                   OrderedModel   AIC:                             364.1\n",
      "Method:            Maximum Likelihood   BIC:                             420.0\n",
      "Date:                Thu, 25 Apr 2024                                         \n",
      "Time:                        12:50:35                                         \n",
      "No. Observations:                 140                                         \n",
      "Df Residuals:                     121                                         \n",
      "Df Model:                          15                                         \n",
      "==============================================================================================\n",
      "                                 coef    std err          z      P>|z|      [0.025      0.975]\n",
      "----------------------------------------------------------------------------------------------\n",
      "age                           -0.0025      0.017     -0.146      0.884      -0.036       0.031\n",
      "drone_experience_code         -0.2682      0.362     -0.741      0.458      -0.977       0.441\n",
      "video_game_experience_code     0.1857      0.188      0.990      0.322      -0.182       0.553\n",
      "total_time_seconds             0.0007      0.001      0.969      0.332      -0.001       0.002\n",
      "avg_feedback_time_seconds     -0.0207      0.017     -1.212      0.225      -0.054       0.013\n",
      "avg_trial_time_seconds        -0.0121      0.020     -0.598      0.550      -0.052       0.027\n",
      "gender_Non-binary             -0.3100      0.808     -0.384      0.701      -1.894       1.274\n",
      "gender_Woman                  -0.0567      0.405     -0.140      0.889      -0.850       0.737\n",
      "condition_code                 0.0378      0.210      0.180      0.857      -0.374       0.450\n",
      "n_safe_landings                0.0510      0.037      1.379      0.168      -0.021       0.123\n",
      "mode_motivation_code           0.5394      0.309      1.746      0.081      -0.066       1.145\n",
      "mode_manageable_code           0.2775      0.279      0.995      0.320      -0.269       0.824\n",
      "mode_actionable_code           0.2045      0.221      0.926      0.355      -0.228       0.638\n",
      "mode_timely_code              -0.0366      0.302     -0.121      0.904      -0.629       0.555\n",
      "mode_reflection_code           1.1103      0.311      3.570      0.000       0.501       1.720\n",
      "Strongly Disagree/Disagree     3.5106      1.282      2.738      0.006       0.997       6.024\n",
      "Disagree/Neutral               0.1862      0.229      0.814      0.416      -0.262       0.635\n",
      "Neutral/Agree                  0.0518      0.199      0.261      0.794      -0.337       0.441\n",
      "Agree/Strongly Agree           1.0766      0.120      9.002      0.000       0.842       1.311\n",
      "==============================================================================================\n"
     ]
    }
   ],
   "source": [
    "ind_vars = ['age', 'drone_experience_code', \n",
    "            'video_game_experience_code', 'total_time_seconds', \n",
    "            'avg_feedback_time_seconds','avg_trial_time_seconds', \n",
    "            'gender_Non-binary', 'gender_Woman', \n",
    "            'condition_code', 'n_safe_landings'] + [f'mode_{q}_code' for q in ['motivation', 'manageable', 'actionable', 'timely', 'reflection']]\n",
    "\n",
    "dep_var = 'feedback_helped'\n",
    "utils.run_ordered_model(dep_var, ind_vars, part_file)"
   ]
  },
  {
   "cell_type": "code",
   "execution_count": 5,
   "metadata": {},
   "outputs": [
    {
     "name": "stdout",
     "output_type": "stream",
     "text": [
      "Optimization terminated successfully.\n",
      "         Current function value: 0.708879\n",
      "         Iterations: 70\n",
      "         Function evaluations: 79\n",
      "         Gradient evaluations: 79\n",
      "                                 OrderedModel Results                                \n",
      "=====================================================================================\n",
      "Dep. Variable:     feedback_helped_collapsed   Log-Likelihood:                -99.243\n",
      "Model:                          OrderedModel   AIC:                             232.5\n",
      "Method:                   Maximum Likelihood   BIC:                             282.5\n",
      "Date:                       Thu, 25 Apr 2024                                         \n",
      "Time:                               12:51:55                                         \n",
      "No. Observations:                        140                                         \n",
      "Df Residuals:                            123                                         \n",
      "Df Model:                                 15                                         \n",
      "==================================================================================================\n",
      "                                     coef    std err          z      P>|z|      [0.025      0.975]\n",
      "--------------------------------------------------------------------------------------------------\n",
      "age                                0.0189      0.021      0.919      0.358      -0.021       0.059\n",
      "drone_experience_code             -0.1799      0.413     -0.436      0.663      -0.988       0.629\n",
      "video_game_experience_code         0.0073      0.226      0.032      0.974      -0.436       0.451\n",
      "total_time_seconds                -0.0004      0.001     -0.415      0.678      -0.002       0.001\n",
      "avg_feedback_time_seconds          0.0015      0.022      0.070      0.944      -0.042       0.045\n",
      "avg_trial_time_seconds             0.0210      0.024      0.867      0.386      -0.026       0.069\n",
      "gender_Non-binary                  1.1588      1.148      1.010      0.313      -1.091       3.409\n",
      "gender_Woman                       0.0090      0.469      0.019      0.985      -0.911       0.929\n",
      "condition_code                     0.2926      0.263      1.111      0.266      -0.223       0.808\n",
      "n_safe_landings                    0.0891      0.047      1.912      0.056      -0.002       0.180\n",
      "mode_motivation_collapsed_code     1.0717      0.446      2.404      0.016       0.198       1.946\n",
      "mode_manageable_collapsed_code     1.2624      0.438      2.883      0.004       0.404       2.121\n",
      "mode_actionable_collapsed_code     0.1669      0.336      0.497      0.619      -0.491       0.825\n",
      "mode_timely_collapsed_code        -1.1028      0.468     -2.358      0.018      -2.019      -0.186\n",
      "mode_reflection_collapsed_code     1.0712      0.420      2.550      0.011       0.248       1.895\n",
      "Disagree/Neutral                   3.7708      1.444      2.611      0.009       0.940       6.601\n",
      "Neutral/Agree                      0.1337      0.200      0.667      0.505      -0.259       0.526\n",
      "==================================================================================================\n"
     ]
    }
   ],
   "source": [
    "ind_vars = ['age', 'drone_experience_code', \n",
    "            'video_game_experience_code', 'total_time_seconds', \n",
    "            'avg_feedback_time_seconds','avg_trial_time_seconds', \n",
    "            'gender_Non-binary', 'gender_Woman', \n",
    "            'condition_code', 'n_safe_landings'] + [f'mode_{q}_code' for q in ['motivation_collapsed', 'manageable_collapsed', 'actionable_collapsed', 'timely_collapsed', 'reflection_collapsed']]\n",
    "\n",
    "dep_var = 'feedback_helped_collapsed'\n",
    "\n",
    "utils.run_ordered_model(dep_var, ind_vars, part_file)"
   ]
  },
  {
   "cell_type": "markdown",
   "metadata": {},
   "source": [
    "### What is associated with overall rating for each dimension?"
   ]
  },
  {
   "cell_type": "code",
   "execution_count": 6,
   "metadata": {},
   "outputs": [
    {
     "name": "stdout",
     "output_type": "stream",
     "text": [
      "Optimization terminated successfully.\n",
      "         Current function value: 1.382803\n",
      "         Iterations: 46\n",
      "         Function evaluations: 51\n",
      "         Gradient evaluations: 51\n",
      "                              OrderedModel Results                              \n",
      "================================================================================\n",
      "Dep. Variable:     mode_motivation_code   Log-Likelihood:                -193.59\n",
      "Model:                     OrderedModel   AIC:                             415.2\n",
      "Method:              Maximum Likelihood   BIC:                             456.4\n",
      "Date:                  Thu, 25 Apr 2024                                         \n",
      "Time:                          14:29:36                                         \n",
      "No. Observations:                   140                                         \n",
      "Df Residuals:                       126                                         \n",
      "Df Model:                            10                                         \n",
      "==============================================================================================\n",
      "                                 coef    std err          z      P>|z|      [0.025      0.975]\n",
      "----------------------------------------------------------------------------------------------\n",
      "age                            0.0339      0.015      2.251      0.024       0.004       0.063\n",
      "drone_experience_code          0.1841      0.319      0.578      0.563      -0.440       0.809\n",
      "video_game_experience_code     0.1049      0.174      0.603      0.547      -0.236       0.446\n",
      "total_time_seconds            -0.0007      0.001     -1.043      0.297      -0.002       0.001\n",
      "avg_feedback_time_seconds      0.0235      0.016      1.444      0.149      -0.008       0.055\n",
      "avg_trial_time_seconds         0.0185      0.020      0.928      0.353      -0.021       0.058\n",
      "gender_Non-binary              0.2549      0.730      0.349      0.727      -1.176       1.686\n",
      "gender_Woman                   0.4336      0.373      1.162      0.245      -0.298       1.165\n",
      "condition_code                 0.0154      0.200      0.077      0.939      -0.377       0.408\n",
      "n_safe_landings               -0.0288      0.034     -0.836      0.403      -0.096       0.039\n",
      "0/1                           -1.1998      1.019     -1.177      0.239      -3.197       0.798\n",
      "1/2                           -0.0114      0.283     -0.040      0.968      -0.567       0.544\n",
      "2/3                            0.3425      0.155      2.213      0.027       0.039       0.646\n",
      "3/4                            0.5941      0.122      4.890      0.000       0.356       0.832\n",
      "==============================================================================================\n"
     ]
    }
   ],
   "source": [
    "ind_vars = ['age', 'drone_experience_code', \n",
    "            'video_game_experience_code', 'total_time_seconds', \n",
    "            'avg_feedback_time_seconds','avg_trial_time_seconds', \n",
    "            'gender_Non-binary', 'gender_Woman', \n",
    "            'condition_code', 'n_safe_landings']\n",
    "\n",
    "dep_var = 'mode_motivation_code'\n",
    "\n",
    "utils.run_ordered_model(dep_var, ind_vars, part_file)"
   ]
  },
  {
   "cell_type": "code",
   "execution_count": 7,
   "metadata": {},
   "outputs": [
    {
     "name": "stdout",
     "output_type": "stream",
     "text": [
      "Optimization terminated successfully.\n",
      "         Current function value: 0.915881\n",
      "         Iterations: 43\n",
      "         Function evaluations: 48\n",
      "         Gradient evaluations: 48\n",
      "                                   OrderedModel Results                                   \n",
      "==========================================================================================\n",
      "Dep. Variable:     mode_motivation_collapsed_code   Log-Likelihood:                -128.22\n",
      "Model:                               OrderedModel   AIC:                             280.4\n",
      "Method:                        Maximum Likelihood   BIC:                             315.7\n",
      "Date:                            Thu, 25 Apr 2024                                         \n",
      "Time:                                    14:30:22                                         \n",
      "No. Observations:                             140                                         \n",
      "Df Residuals:                                 128                                         \n",
      "Df Model:                                      10                                         \n",
      "==============================================================================================\n",
      "                                 coef    std err          z      P>|z|      [0.025      0.975]\n",
      "----------------------------------------------------------------------------------------------\n",
      "age                            0.0151      0.016      0.922      0.357      -0.017       0.047\n",
      "drone_experience_code         -0.0430      0.325     -0.132      0.895      -0.679       0.593\n",
      "video_game_experience_code    -0.0381      0.188     -0.203      0.839      -0.406       0.330\n",
      "total_time_seconds            -0.0006      0.001     -0.798      0.425      -0.002       0.001\n",
      "avg_feedback_time_seconds      0.0304      0.021      1.442      0.149      -0.011       0.072\n",
      "avg_trial_time_seconds         0.0150      0.020      0.738      0.460      -0.025       0.055\n",
      "gender_Non-binary              0.3615      0.835      0.433      0.665      -1.274       1.997\n",
      "gender_Woman                   0.2844      0.396      0.719      0.472      -0.491       1.060\n",
      "condition_code                 0.1110      0.220      0.505      0.613      -0.319       0.541\n",
      "n_safe_landings               -0.0181      0.038     -0.476      0.634      -0.092       0.056\n",
      "0/1                           -0.6218      1.055     -0.589      0.556      -2.690       1.447\n",
      "1/2                            0.2412      0.161      1.495      0.135      -0.075       0.557\n",
      "==============================================================================================\n"
     ]
    }
   ],
   "source": [
    "ind_vars = ['age', 'drone_experience_code', \n",
    "            'video_game_experience_code', 'total_time_seconds', \n",
    "            'avg_feedback_time_seconds','avg_trial_time_seconds', \n",
    "            'gender_Non-binary', 'gender_Woman', \n",
    "            'condition_code', 'n_safe_landings']\n",
    "\n",
    "dep_var = 'mode_motivation_collapsed_code'\n",
    "\n",
    "utils.run_ordered_model(dep_var, ind_vars, part_file)"
   ]
  },
  {
   "cell_type": "code",
   "execution_count": 8,
   "metadata": {},
   "outputs": [
    {
     "name": "stdout",
     "output_type": "stream",
     "text": [
      "Optimization terminated successfully.\n",
      "         Current function value: 1.169085\n",
      "         Iterations: 50\n",
      "         Function evaluations: 56\n",
      "         Gradient evaluations: 56\n",
      "                              OrderedModel Results                              \n",
      "================================================================================\n",
      "Dep. Variable:     mode_manageable_code   Log-Likelihood:                -163.67\n",
      "Model:                     OrderedModel   AIC:                             355.3\n",
      "Method:              Maximum Likelihood   BIC:                             396.5\n",
      "Date:                  Thu, 25 Apr 2024                                         \n",
      "Time:                          14:31:10                                         \n",
      "No. Observations:                   140                                         \n",
      "Df Residuals:                       126                                         \n",
      "Df Model:                            10                                         \n",
      "==============================================================================================\n",
      "                                 coef    std err          z      P>|z|      [0.025      0.975]\n",
      "----------------------------------------------------------------------------------------------\n",
      "age                           -0.0229      0.017     -1.389      0.165      -0.055       0.009\n",
      "drone_experience_code         -0.5244      0.333     -1.577      0.115      -1.176       0.128\n",
      "video_game_experience_code     0.0363      0.187      0.194      0.846      -0.329       0.402\n",
      "total_time_seconds             0.0012      0.001      1.673      0.094      -0.000       0.003\n",
      "avg_feedback_time_seconds     -0.0091      0.017     -0.542      0.588      -0.042       0.024\n",
      "avg_trial_time_seconds        -0.0370      0.020     -1.863      0.062      -0.076       0.002\n",
      "gender_Non-binary             -1.1552      0.781     -1.479      0.139      -2.686       0.376\n",
      "gender_Woman                  -0.4997      0.406     -1.231      0.218      -1.296       0.296\n",
      "condition_code                 0.0077      0.210      0.037      0.971      -0.404       0.419\n",
      "n_safe_landings               -0.0213      0.038     -0.569      0.570      -0.095       0.052\n",
      "0/1                           -3.8090      1.165     -3.270      0.001      -6.092      -1.526\n",
      "1/2                            0.2849      0.252      1.130      0.259      -0.209       0.779\n",
      "2/3                            1.0740      0.097     11.114      0.000       0.885       1.263\n",
      "3/4                            0.0824      0.221      0.373      0.709      -0.350       0.515\n",
      "==============================================================================================\n"
     ]
    }
   ],
   "source": [
    "ind_vars = ['age', 'drone_experience_code', \n",
    "            'video_game_experience_code', 'total_time_seconds', \n",
    "            'avg_feedback_time_seconds','avg_trial_time_seconds', \n",
    "            'gender_Non-binary', 'gender_Woman', \n",
    "            'condition_code', 'n_safe_landings']\n",
    "\n",
    "dep_var = 'mode_manageable_code'\n",
    "\n",
    "utils.run_ordered_model(dep_var, ind_vars, part_file)"
   ]
  },
  {
   "cell_type": "code",
   "execution_count": 9,
   "metadata": {},
   "outputs": [
    {
     "name": "stdout",
     "output_type": "stream",
     "text": [
      "Optimization terminated successfully.\n",
      "         Current function value: 0.952677\n",
      "         Iterations: 40\n",
      "         Function evaluations: 48\n",
      "         Gradient evaluations: 48\n",
      "                                   OrderedModel Results                                   \n",
      "==========================================================================================\n",
      "Dep. Variable:     mode_manageable_collapsed_code   Log-Likelihood:                -133.37\n",
      "Model:                               OrderedModel   AIC:                             290.7\n",
      "Method:                        Maximum Likelihood   BIC:                             326.0\n",
      "Date:                            Thu, 25 Apr 2024                                         \n",
      "Time:                                    14:31:33                                         \n",
      "No. Observations:                             140                                         \n",
      "Df Residuals:                                 128                                         \n",
      "Df Model:                                      10                                         \n",
      "==============================================================================================\n",
      "                                 coef    std err          z      P>|z|      [0.025      0.975]\n",
      "----------------------------------------------------------------------------------------------\n",
      "age                           -0.0207      0.016     -1.266      0.206      -0.053       0.011\n",
      "drone_experience_code         -0.3008      0.342     -0.880      0.379      -0.971       0.369\n",
      "video_game_experience_code     0.1257      0.185      0.680      0.497      -0.237       0.488\n",
      "total_time_seconds             0.0011      0.001      1.599      0.110      -0.000       0.003\n",
      "avg_feedback_time_seconds     -0.0323      0.017     -1.911      0.056      -0.065       0.001\n",
      "avg_trial_time_seconds        -0.0228      0.020     -1.149      0.251      -0.062       0.016\n",
      "gender_Non-binary             -0.9903      0.799     -1.239      0.215      -2.557       0.576\n",
      "gender_Woman                  -0.2838      0.397     -0.715      0.475      -1.062       0.494\n",
      "condition_code                 0.0197      0.208      0.095      0.924      -0.388       0.428\n",
      "n_safe_landings               -0.0105      0.037     -0.283      0.777      -0.083       0.062\n",
      "0/1                           -2.3022      1.113     -2.068      0.039      -4.484      -0.120\n",
      "1/2                            0.9872      0.099      9.930      0.000       0.792       1.182\n",
      "==============================================================================================\n"
     ]
    }
   ],
   "source": [
    "ind_vars = ['age', 'drone_experience_code', \n",
    "            'video_game_experience_code', 'total_time_seconds', \n",
    "            'avg_feedback_time_seconds','avg_trial_time_seconds', \n",
    "            'gender_Non-binary', 'gender_Woman', \n",
    "            'condition_code', 'n_safe_landings']\n",
    "\n",
    "dep_var = 'mode_manageable_collapsed_code'\n",
    "\n",
    "utils.run_ordered_model(dep_var, ind_vars, part_file)"
   ]
  },
  {
   "cell_type": "code",
   "execution_count": 10,
   "metadata": {},
   "outputs": [
    {
     "name": "stdout",
     "output_type": "stream",
     "text": [
      "Optimization terminated successfully.\n",
      "         Current function value: 0.957511\n",
      "         Iterations: 52\n",
      "         Function evaluations: 59\n",
      "         Gradient evaluations: 59\n",
      "                             OrderedModel Results                             \n",
      "==============================================================================\n",
      "Dep. Variable:       mode_timely_code   Log-Likelihood:                -134.05\n",
      "Model:                   OrderedModel   AIC:                             296.1\n",
      "Method:            Maximum Likelihood   BIC:                             337.3\n",
      "Date:                Thu, 25 Apr 2024                                         \n",
      "Time:                        14:31:51                                         \n",
      "No. Observations:                 140                                         \n",
      "Df Residuals:                     126                                         \n",
      "Df Model:                          10                                         \n",
      "==============================================================================================\n",
      "                                 coef    std err          z      P>|z|      [0.025      0.975]\n",
      "----------------------------------------------------------------------------------------------\n",
      "age                           -0.0083      0.017     -0.486      0.627      -0.042       0.025\n",
      "drone_experience_code          0.0912      0.352      0.259      0.796      -0.599       0.781\n",
      "video_game_experience_code     0.3059      0.197      1.556      0.120      -0.079       0.691\n",
      "total_time_seconds             0.0008      0.001      1.121      0.262      -0.001       0.002\n",
      "avg_feedback_time_seconds     -0.0281      0.017     -1.617      0.106      -0.062       0.006\n",
      "avg_trial_time_seconds        -0.0254      0.021     -1.192      0.233      -0.067       0.016\n",
      "gender_Non-binary             -0.6700      0.852     -0.786      0.432      -2.340       1.000\n",
      "gender_Woman                   0.0287      0.420      0.068      0.946      -0.795       0.853\n",
      "condition_code                 0.1600      0.225      0.711      0.477      -0.281       0.601\n",
      "n_safe_landings                0.0560      0.039      1.449      0.147      -0.020       0.132\n",
      "0/1                           -3.9522      1.333     -2.965      0.003      -6.565      -1.339\n",
      "1/2                           -0.0409      0.589     -0.069      0.945      -1.195       1.114\n",
      "2/3                            1.4707      0.115     12.750      0.000       1.245       1.697\n",
      "3/4                            0.0273      0.197      0.139      0.890      -0.359       0.413\n",
      "==============================================================================================\n"
     ]
    }
   ],
   "source": [
    "ind_vars = ['age', 'drone_experience_code', \n",
    "            'video_game_experience_code', 'total_time_seconds', \n",
    "            'avg_feedback_time_seconds','avg_trial_time_seconds', \n",
    "            'gender_Non-binary', 'gender_Woman', \n",
    "            'condition_code', 'n_safe_landings']\n",
    "\n",
    "dep_var = 'mode_timely_code'\n",
    "\n",
    "utils.run_ordered_model(dep_var, ind_vars, part_file)"
   ]
  },
  {
   "cell_type": "code",
   "execution_count": 11,
   "metadata": {},
   "outputs": [
    {
     "name": "stdout",
     "output_type": "stream",
     "text": [
      "Optimization terminated successfully.\n",
      "         Current function value: 0.738533\n",
      "         Iterations: 44\n",
      "         Function evaluations: 49\n",
      "         Gradient evaluations: 49\n",
      "                                 OrderedModel Results                                 \n",
      "======================================================================================\n",
      "Dep. Variable:     mode_timely_collapsed_code   Log-Likelihood:                -103.39\n",
      "Model:                           OrderedModel   AIC:                             230.8\n",
      "Method:                    Maximum Likelihood   BIC:                             266.1\n",
      "Date:                        Thu, 25 Apr 2024                                         \n",
      "Time:                                14:32:09                                         \n",
      "No. Observations:                         140                                         \n",
      "Df Residuals:                             128                                         \n",
      "Df Model:                                  10                                         \n",
      "==============================================================================================\n",
      "                                 coef    std err          z      P>|z|      [0.025      0.975]\n",
      "----------------------------------------------------------------------------------------------\n",
      "age                           -0.0049      0.017     -0.282      0.778      -0.039       0.029\n",
      "drone_experience_code          0.0721      0.368      0.196      0.845      -0.650       0.794\n",
      "video_game_experience_code     0.2476      0.201      1.234      0.217      -0.146       0.641\n",
      "total_time_seconds             0.0009      0.001      1.250      0.211      -0.001       0.002\n",
      "avg_feedback_time_seconds     -0.0339      0.018     -1.864      0.062      -0.070       0.002\n",
      "avg_trial_time_seconds        -0.0338      0.022     -1.506      0.132      -0.078       0.010\n",
      "gender_Non-binary             -0.5944      0.858     -0.693      0.488      -2.275       1.086\n",
      "gender_Woman                   0.0805      0.423      0.190      0.849      -0.749       0.910\n",
      "condition_code                 0.2303      0.229      1.008      0.314      -0.218       0.678\n",
      "n_safe_landings                0.0597      0.040      1.494      0.135      -0.019       0.138\n",
      "0/1                           -2.8225      1.213     -2.326      0.020      -5.200      -0.445\n",
      "1/2                            1.4209      0.112     12.637      0.000       1.201       1.641\n",
      "==============================================================================================\n"
     ]
    }
   ],
   "source": [
    "ind_vars = ['age', 'drone_experience_code', \n",
    "            'video_game_experience_code', 'total_time_seconds', \n",
    "            'avg_feedback_time_seconds','avg_trial_time_seconds', \n",
    "            'gender_Non-binary', 'gender_Woman', \n",
    "            'condition_code', 'n_safe_landings']\n",
    "\n",
    "dep_var = 'mode_timely_collapsed_code'\n",
    "\n",
    "utils.run_ordered_model(dep_var, ind_vars, part_file)"
   ]
  },
  {
   "cell_type": "code",
   "execution_count": 12,
   "metadata": {},
   "outputs": [
    {
     "name": "stdout",
     "output_type": "stream",
     "text": [
      "Optimization terminated successfully.\n",
      "         Current function value: 1.310754\n",
      "         Iterations: 46\n",
      "         Function evaluations: 54\n",
      "         Gradient evaluations: 54\n",
      "                              OrderedModel Results                              \n",
      "================================================================================\n",
      "Dep. Variable:     mode_reflection_code   Log-Likelihood:                -183.51\n",
      "Model:                     OrderedModel   AIC:                             395.0\n",
      "Method:              Maximum Likelihood   BIC:                             436.2\n",
      "Date:                  Thu, 25 Apr 2024                                         \n",
      "Time:                          14:32:31                                         \n",
      "No. Observations:                   140                                         \n",
      "Df Residuals:                       126                                         \n",
      "Df Model:                            10                                         \n",
      "==============================================================================================\n",
      "                                 coef    std err          z      P>|z|      [0.025      0.975]\n",
      "----------------------------------------------------------------------------------------------\n",
      "age                            0.0545      0.016      3.483      0.000       0.024       0.085\n",
      "drone_experience_code          0.3457      0.303      1.143      0.253      -0.247       0.939\n",
      "video_game_experience_code    -0.0349      0.178     -0.196      0.845      -0.384       0.314\n",
      "total_time_seconds            -0.0003      0.001     -0.434      0.664      -0.002       0.001\n",
      "avg_feedback_time_seconds     -0.0031      0.017     -0.182      0.856      -0.036       0.030\n",
      "avg_trial_time_seconds         0.0053      0.021      0.258      0.797      -0.035       0.046\n",
      "gender_Non-binary             -0.1687      0.737     -0.229      0.819      -1.613       1.275\n",
      "gender_Woman                   0.1395      0.384      0.364      0.716      -0.613       0.892\n",
      "condition_code                -0.1378      0.201     -0.684      0.494      -0.533       0.257\n",
      "n_safe_landings               -0.0304      0.035     -0.868      0.385      -0.099       0.038\n",
      "0/1                           -1.6240      1.045     -1.554      0.120      -3.673       0.425\n",
      "1/2                           -0.1209      0.310     -0.389      0.697      -0.729       0.488\n",
      "2/3                            0.2387      0.177      1.348      0.178      -0.108       0.586\n",
      "3/4                            0.7200      0.117      6.174      0.000       0.491       0.949\n",
      "==============================================================================================\n"
     ]
    }
   ],
   "source": [
    "ind_vars = ['age', 'drone_experience_code', \n",
    "            'video_game_experience_code', 'total_time_seconds', \n",
    "            'avg_feedback_time_seconds','avg_trial_time_seconds', \n",
    "            'gender_Non-binary', 'gender_Woman', \n",
    "            'condition_code', 'n_safe_landings']\n",
    "\n",
    "dep_var = 'mode_reflection_code'\n",
    "\n",
    "utils.run_ordered_model(dep_var, ind_vars, part_file)"
   ]
  },
  {
   "cell_type": "code",
   "execution_count": 13,
   "metadata": {},
   "outputs": [
    {
     "name": "stdout",
     "output_type": "stream",
     "text": [
      "Optimization terminated successfully.\n",
      "         Current function value: 0.795676\n",
      "         Iterations: 46\n",
      "         Function evaluations: 54\n",
      "         Gradient evaluations: 54\n",
      "                                   OrderedModel Results                                   \n",
      "==========================================================================================\n",
      "Dep. Variable:     mode_reflection_collapsed_code   Log-Likelihood:                -111.39\n",
      "Model:                               OrderedModel   AIC:                             246.8\n",
      "Method:                        Maximum Likelihood   BIC:                             282.1\n",
      "Date:                            Thu, 25 Apr 2024                                         \n",
      "Time:                                    14:32:50                                         \n",
      "No. Observations:                             140                                         \n",
      "Df Residuals:                                 128                                         \n",
      "Df Model:                                      10                                         \n",
      "==============================================================================================\n",
      "                                 coef    std err          z      P>|z|      [0.025      0.975]\n",
      "----------------------------------------------------------------------------------------------\n",
      "age                            0.0615      0.020      3.089      0.002       0.022       0.101\n",
      "drone_experience_code          0.6915      0.459      1.507      0.132      -0.208       1.591\n",
      "video_game_experience_code    -0.1165      0.207     -0.562      0.574      -0.523       0.290\n",
      "total_time_seconds            -0.0009      0.001     -1.238      0.216      -0.002       0.001\n",
      "avg_feedback_time_seconds      0.0179      0.018      0.989      0.323      -0.018       0.053\n",
      "avg_trial_time_seconds         0.0199      0.021      0.940      0.347      -0.022       0.061\n",
      "gender_Non-binary             -0.0661      0.788     -0.084      0.933      -1.610       1.478\n",
      "gender_Woman                   0.2462      0.432      0.570      0.569      -0.600       1.092\n",
      "condition_code                -0.0371      0.235     -0.158      0.875      -0.498       0.424\n",
      "n_safe_landings               -0.0051      0.040     -0.127      0.899      -0.084       0.074\n",
      "0/1                           -0.0221      1.131     -0.019      0.984      -2.239       2.195\n",
      "1/2                            0.1129      0.187      0.603      0.546      -0.254       0.480\n",
      "==============================================================================================\n"
     ]
    }
   ],
   "source": [
    "ind_vars = ['age', 'drone_experience_code', \n",
    "            'video_game_experience_code', 'total_time_seconds', \n",
    "            'avg_feedback_time_seconds','avg_trial_time_seconds', \n",
    "            'gender_Non-binary', 'gender_Woman', \n",
    "            'condition_code', 'n_safe_landings']\n",
    "\n",
    "dep_var = 'mode_reflection_collapsed_code'\n",
    "\n",
    "utils.run_ordered_model(dep_var, ind_vars, part_file)"
   ]
  },
  {
   "cell_type": "code",
   "execution_count": 14,
   "metadata": {},
   "outputs": [
    {
     "name": "stdout",
     "output_type": "stream",
     "text": [
      "Optimization terminated successfully.\n",
      "         Current function value: 1.436502\n",
      "         Iterations: 46\n",
      "         Function evaluations: 52\n",
      "         Gradient evaluations: 52\n",
      "                              OrderedModel Results                              \n",
      "================================================================================\n",
      "Dep. Variable:     mode_actionable_code   Log-Likelihood:                -201.11\n",
      "Model:                     OrderedModel   AIC:                             430.2\n",
      "Method:              Maximum Likelihood   BIC:                             471.4\n",
      "Date:                  Thu, 25 Apr 2024                                         \n",
      "Time:                          14:34:59                                         \n",
      "No. Observations:                   140                                         \n",
      "Df Residuals:                       126                                         \n",
      "Df Model:                            10                                         \n",
      "==============================================================================================\n",
      "                                 coef    std err          z      P>|z|      [0.025      0.975]\n",
      "----------------------------------------------------------------------------------------------\n",
      "age                            0.0183      0.015      1.200      0.230      -0.012       0.048\n",
      "drone_experience_code          0.4852      0.310      1.565      0.118      -0.122       1.093\n",
      "video_game_experience_code     0.3507      0.178      1.970      0.049       0.002       0.700\n",
      "total_time_seconds             0.0002      0.001      0.299      0.765      -0.001       0.001\n",
      "avg_feedback_time_seconds     -0.0174      0.016     -1.092      0.275      -0.049       0.014\n",
      "avg_trial_time_seconds         0.0120      0.019      0.639      0.523      -0.025       0.049\n",
      "gender_Non-binary             -0.2253      0.693     -0.325      0.745      -1.583       1.132\n",
      "gender_Woman                   0.0272      0.375      0.072      0.942      -0.709       0.763\n",
      "condition_code                 0.0466      0.192      0.242      0.808      -0.330       0.423\n",
      "n_safe_landings               -0.0441      0.035     -1.274      0.203      -0.112       0.024\n",
      "0/1                           -1.3547      1.022     -1.326      0.185      -3.357       0.648\n",
      "1/2                            0.2122      0.220      0.966      0.334      -0.218       0.643\n",
      "2/3                            0.0609      0.166      0.367      0.714      -0.264       0.386\n",
      "3/4                            0.6741      0.122      5.543      0.000       0.436       0.912\n",
      "==============================================================================================\n"
     ]
    }
   ],
   "source": [
    "ind_vars = ['age', 'drone_experience_code', \n",
    "            'video_game_experience_code', 'total_time_seconds', \n",
    "            'avg_feedback_time_seconds','avg_trial_time_seconds', \n",
    "            'gender_Non-binary', 'gender_Woman', \n",
    "            'condition_code', 'n_safe_landings']\n",
    "\n",
    "dep_var = 'mode_actionable_code'\n",
    "\n",
    "utils.run_ordered_model(dep_var, ind_vars, part_file)"
   ]
  },
  {
   "cell_type": "code",
   "execution_count": 15,
   "metadata": {},
   "outputs": [
    {
     "name": "stdout",
     "output_type": "stream",
     "text": [
      "Optimization terminated successfully.\n",
      "         Current function value: 0.963605\n",
      "         Iterations: 42\n",
      "         Function evaluations: 48\n",
      "         Gradient evaluations: 48\n",
      "                                   OrderedModel Results                                   \n",
      "==========================================================================================\n",
      "Dep. Variable:     mode_actionable_collapsed_code   Log-Likelihood:                -134.90\n",
      "Model:                               OrderedModel   AIC:                             293.8\n",
      "Method:                        Maximum Likelihood   BIC:                             329.1\n",
      "Date:                            Thu, 25 Apr 2024                                         \n",
      "Time:                                    14:35:19                                         \n",
      "No. Observations:                             140                                         \n",
      "Df Residuals:                                 128                                         \n",
      "Df Model:                                      10                                         \n",
      "==============================================================================================\n",
      "                                 coef    std err          z      P>|z|      [0.025      0.975]\n",
      "----------------------------------------------------------------------------------------------\n",
      "age                            0.0078      0.017      0.468      0.639      -0.025       0.040\n",
      "drone_experience_code          0.3915      0.354      1.108      0.268      -0.301       1.084\n",
      "video_game_experience_code     0.2306      0.185      1.247      0.212      -0.132       0.593\n",
      "total_time_seconds         -5.408e-05      0.001     -0.076      0.939      -0.001       0.001\n",
      "avg_feedback_time_seconds     -0.0091      0.017     -0.539      0.590      -0.042       0.024\n",
      "avg_trial_time_seconds         0.0213      0.020      1.057      0.290      -0.018       0.061\n",
      "gender_Non-binary             -0.7416      0.741     -1.002      0.317      -2.193       0.710\n",
      "gender_Woman                  -0.1794      0.397     -0.452      0.652      -0.958       0.599\n",
      "condition_code                -0.0159      0.213     -0.075      0.941      -0.434       0.402\n",
      "n_safe_landings               -0.0512      0.037     -1.379      0.168      -0.124       0.022\n",
      "0/1                           -0.8315      1.063     -0.782      0.434      -2.914       1.251\n",
      "1/2                            0.0359      0.169      0.213      0.831      -0.295       0.366\n",
      "==============================================================================================\n"
     ]
    }
   ],
   "source": [
    "ind_vars = ['age', 'drone_experience_code', \n",
    "            'video_game_experience_code', 'total_time_seconds', \n",
    "            'avg_feedback_time_seconds','avg_trial_time_seconds', \n",
    "            'gender_Non-binary', 'gender_Woman', \n",
    "            'condition_code', 'n_safe_landings']\n",
    "\n",
    "dep_var = 'mode_actionable_collapsed_code'\n",
    "\n",
    "utils.run_ordered_model(dep_var, ind_vars, part_file)"
   ]
  },
  {
   "cell_type": "markdown",
   "metadata": {},
   "source": [
    "### What is associated with trial rating in each direction?"
   ]
  },
  {
   "cell_type": "code",
   "execution_count": 16,
   "metadata": {},
   "outputs": [
    {
     "name": "stdout",
     "output_type": "stream",
     "text": [
      "Optimization terminated successfully.\n",
      "         Current function value: 1.459320\n",
      "         Iterations: 27\n",
      "         Function evaluations: 30\n",
      "         Gradient evaluations: 30\n",
      "                             OrderedModel Results                             \n",
      "==============================================================================\n",
      "Dep. Variable:             motivation   Log-Likelihood:                -4086.1\n",
      "Model:                   OrderedModel   AIC:                             8190.\n",
      "Method:            Maximum Likelihood   BIC:                             8244.\n",
      "Date:                Thu, 25 Apr 2024                                         \n",
      "Time:                        14:35:49                                         \n",
      "No. Observations:                2800                                         \n",
      "Df Residuals:                    2791                                         \n",
      "Df Model:                           5                                         \n",
      "==============================================================================================\n",
      "                                 coef    std err          z      P>|z|      [0.025      0.975]\n",
      "----------------------------------------------------------------------------------------------\n",
      "trial_time_seconds             0.0018      0.001      1.726      0.084      -0.000       0.004\n",
      "feedback_time_seconds          0.0015      0.001      2.241      0.025       0.000       0.003\n",
      "trial                         -0.0346      0.006     -5.583      0.000      -0.047      -0.022\n",
      "outcome_code                  -0.0584      0.046     -1.267      0.205      -0.149       0.032\n",
      "condition_code                 0.1231      0.042      2.940      0.003       0.041       0.205\n",
      "Strongly Disagree/Disagree    -2.7895      0.120    -23.310      0.000      -3.024      -2.555\n",
      "Disagree/Neutral              -0.0301      0.060     -0.504      0.614      -0.147       0.087\n",
      "Neutral/Agree                  0.3378      0.033     10.282      0.000       0.273       0.402\n",
      "Agree/Strongly Agree           0.4127      0.029     14.085      0.000       0.355       0.470\n",
      "==============================================================================================\n"
     ]
    }
   ],
   "source": [
    "ind_vars = ['trial_time_seconds', 'feedback_time_seconds', 'trial', 'outcome_code', 'condition_code']\n",
    "\n",
    "dep_var = 'motivation'\n",
    "\n",
    "utils.run_ordered_model(dep_var, ind_vars, trial_file)"
   ]
  },
  {
   "cell_type": "code",
   "execution_count": 17,
   "metadata": {},
   "outputs": [
    {
     "name": "stdout",
     "output_type": "stream",
     "text": [
      "Optimization terminated successfully.\n",
      "         Current function value: 0.971199\n",
      "         Iterations: 22\n",
      "         Function evaluations: 25\n",
      "         Gradient evaluations: 25\n",
      "                              OrderedModel Results                              \n",
      "================================================================================\n",
      "Dep. Variable:     motivation_collapsed   Log-Likelihood:                -2719.4\n",
      "Model:                     OrderedModel   AIC:                             5453.\n",
      "Method:              Maximum Likelihood   BIC:                             5494.\n",
      "Date:                  Thu, 25 Apr 2024                                         \n",
      "Time:                          14:36:11                                         \n",
      "No. Observations:                  2800                                         \n",
      "Df Residuals:                      2793                                         \n",
      "Df Model:                             5                                         \n",
      "=========================================================================================\n",
      "                            coef    std err          z      P>|z|      [0.025      0.975]\n",
      "-----------------------------------------------------------------------------------------\n",
      "trial_time_seconds        0.0040      0.002      2.642      0.008       0.001       0.007\n",
      "feedback_time_seconds     0.0028      0.001      2.477      0.013       0.001       0.005\n",
      "trial                    -0.0439      0.007     -6.527      0.000      -0.057      -0.031\n",
      "outcome_code              0.0284      0.049      0.575      0.565      -0.069       0.125\n",
      "condition_code            0.0703      0.046      1.539      0.124      -0.019       0.160\n",
      "Disagree/Neutral         -1.7798      0.120    -14.817      0.000      -2.015      -1.544\n",
      "Neutral/Agree             0.3424      0.033     10.423      0.000       0.278       0.407\n",
      "=========================================================================================\n"
     ]
    }
   ],
   "source": [
    "ind_vars = ['trial_time_seconds', 'feedback_time_seconds', 'trial', 'outcome_code', 'condition_code']\n",
    "\n",
    "dep_var = 'motivation_collapsed'\n",
    "\n",
    "utils.run_ordered_model(dep_var, ind_vars, trial_file)"
   ]
  },
  {
   "cell_type": "code",
   "execution_count": 18,
   "metadata": {},
   "outputs": [
    {
     "name": "stdout",
     "output_type": "stream",
     "text": [
      "Optimization terminated successfully.\n",
      "         Current function value: 1.286556\n",
      "         Iterations: 22\n",
      "         Function evaluations: 26\n",
      "         Gradient evaluations: 26\n",
      "                             OrderedModel Results                             \n",
      "==============================================================================\n",
      "Dep. Variable:             manageable   Log-Likelihood:                -3602.4\n",
      "Model:                   OrderedModel   AIC:                             7223.\n",
      "Method:            Maximum Likelihood   BIC:                             7276.\n",
      "Date:                Thu, 25 Apr 2024                                         \n",
      "Time:                        14:36:27                                         \n",
      "No. Observations:                2800                                         \n",
      "Df Residuals:                    2791                                         \n",
      "Df Model:                           5                                         \n",
      "==============================================================================================\n",
      "                                 coef    std err          z      P>|z|      [0.025      0.975]\n",
      "----------------------------------------------------------------------------------------------\n",
      "trial_time_seconds            -0.0004      0.001     -0.339      0.735      -0.002       0.002\n",
      "feedback_time_seconds         -0.0002      0.000     -0.653      0.514      -0.001       0.000\n",
      "trial                          0.0011      0.006      0.164      0.870      -0.012       0.014\n",
      "outcome_code                   0.0157      0.049      0.323      0.747      -0.080       0.111\n",
      "condition_code                -0.0068      0.044     -0.156      0.876      -0.092       0.079\n",
      "Much too little/Too little    -3.1030      0.133    -23.330      0.000      -3.364      -2.842\n",
      "Too little/Just right          0.4226      0.054      7.785      0.000       0.316       0.529\n",
      "Just right/Too much            0.9054      0.022     40.592      0.000       0.862       0.949\n",
      "Too much/Much too much         0.1142      0.044      2.622      0.009       0.029       0.200\n",
      "==============================================================================================\n"
     ]
    }
   ],
   "source": [
    "ind_vars = ['trial_time_seconds', 'feedback_time_seconds', 'trial', 'outcome_code', 'condition_code']\n",
    "\n",
    "dep_var = 'manageable'\n",
    "\n",
    "utils.run_ordered_model(dep_var, ind_vars, trial_file)"
   ]
  },
  {
   "cell_type": "code",
   "execution_count": 19,
   "metadata": {},
   "outputs": [
    {
     "name": "stdout",
     "output_type": "stream",
     "text": [
      "Optimization terminated successfully.\n",
      "         Current function value: 0.994083\n",
      "         Iterations: 18\n",
      "         Function evaluations: 22\n",
      "         Gradient evaluations: 22\n",
      "                              OrderedModel Results                              \n",
      "================================================================================\n",
      "Dep. Variable:     manageable_collapsed   Log-Likelihood:                -2783.4\n",
      "Model:                     OrderedModel   AIC:                             5581.\n",
      "Method:              Maximum Likelihood   BIC:                             5622.\n",
      "Date:                  Thu, 25 Apr 2024                                         \n",
      "Time:                          14:36:54                                         \n",
      "No. Observations:                  2800                                         \n",
      "Df Residuals:                      2793                                         \n",
      "Df Model:                             5                                         \n",
      "=========================================================================================\n",
      "                            coef    std err          z      P>|z|      [0.025      0.975]\n",
      "-----------------------------------------------------------------------------------------\n",
      "trial_time_seconds    -2.307e-05      0.001     -0.021      0.983      -0.002       0.002\n",
      "feedback_time_seconds    -0.0004      0.000     -0.900      0.368      -0.001       0.000\n",
      "trial                     0.0004      0.007      0.060      0.952      -0.013       0.013\n",
      "outcome_code              0.0014      0.049      0.029      0.977      -0.095       0.098\n",
      "condition_code           -0.0009      0.044     -0.020      0.984      -0.088       0.086\n",
      "Too little/Just right    -1.5889      0.110    -14.467      0.000      -1.804      -1.374\n",
      "Just right/Too much       0.9054      0.022     40.597      0.000       0.862       0.949\n",
      "=========================================================================================\n"
     ]
    }
   ],
   "source": [
    "ind_vars = ['trial_time_seconds', 'feedback_time_seconds', 'trial', 'outcome_code', 'condition_code']\n",
    "\n",
    "dep_var = 'manageable_collapsed'\n",
    "\n",
    "utils.run_ordered_model(dep_var, ind_vars, trial_file)"
   ]
  },
  {
   "cell_type": "code",
   "execution_count": 20,
   "metadata": {},
   "outputs": [
    {
     "name": "stdout",
     "output_type": "stream",
     "text": [
      "Optimization terminated successfully.\n",
      "         Current function value: 1.056185\n",
      "         Iterations: 30\n",
      "         Function evaluations: 34\n",
      "         Gradient evaluations: 34\n",
      "                             OrderedModel Results                             \n",
      "==============================================================================\n",
      "Dep. Variable:                 timely   Log-Likelihood:                -2957.3\n",
      "Model:                   OrderedModel   AIC:                             5933.\n",
      "Method:            Maximum Likelihood   BIC:                             5986.\n",
      "Date:                Thu, 25 Apr 2024                                         \n",
      "Time:                        14:37:08                                         \n",
      "No. Observations:                2800                                         \n",
      "Df Residuals:                    2791                                         \n",
      "Df Model:                           5                                         \n",
      "======================================================================================================\n",
      "                                         coef    std err          z      P>|z|      [0.025      0.975]\n",
      "------------------------------------------------------------------------------------------------------\n",
      "trial_time_seconds                    -0.0012      0.001     -0.926      0.354      -0.004       0.001\n",
      "feedback_time_seconds                  0.0005      0.000      1.547      0.122      -0.000       0.001\n",
      "trial                                  0.0190      0.007      2.744      0.006       0.005       0.033\n",
      "outcome_code                           0.1337      0.052      2.575      0.010       0.032       0.236\n",
      "condition_code                         0.1206      0.047      2.579      0.010       0.029       0.212\n",
      "Much too infrequent/Too infrequent    -3.6757      0.179    -20.495      0.000      -4.027      -3.324\n",
      "Too infrequent/Just enough             0.2612      0.099      2.645      0.008       0.068       0.455\n",
      "Just enough/Too often                  1.2906      0.024     54.644      0.000       1.244       1.337\n",
      "Too often/Much too often               0.0828      0.043      1.945      0.052      -0.001       0.166\n",
      "======================================================================================================\n"
     ]
    }
   ],
   "source": [
    "ind_vars = ['trial_time_seconds', 'feedback_time_seconds', 'trial', 'outcome_code', 'condition_code']\n",
    "\n",
    "dep_var = 'timely'\n",
    "\n",
    "utils.run_ordered_model(dep_var, ind_vars, trial_file)"
   ]
  },
  {
   "cell_type": "code",
   "execution_count": 21,
   "metadata": {},
   "outputs": [
    {
     "name": "stdout",
     "output_type": "stream",
     "text": [
      "Optimization terminated successfully.\n",
      "         Current function value: 0.810716\n",
      "         Iterations: 23\n",
      "         Function evaluations: 28\n",
      "         Gradient evaluations: 28\n",
      "                             OrderedModel Results                             \n",
      "==============================================================================\n",
      "Dep. Variable:       timely_collapsed   Log-Likelihood:                -2270.0\n",
      "Model:                   OrderedModel   AIC:                             4554.\n",
      "Method:            Maximum Likelihood   BIC:                             4596.\n",
      "Date:                Thu, 25 Apr 2024                                         \n",
      "Time:                        14:37:23                                         \n",
      "No. Observations:                2800                                         \n",
      "Df Residuals:                    2793                                         \n",
      "Df Model:                           5                                         \n",
      "==============================================================================================\n",
      "                                 coef    std err          z      P>|z|      [0.025      0.975]\n",
      "----------------------------------------------------------------------------------------------\n",
      "trial_time_seconds            -0.0014      0.001     -1.049      0.294      -0.004       0.001\n",
      "feedback_time_seconds          0.0012      0.001      1.638      0.101      -0.000       0.003\n",
      "trial                          0.0155      0.007      2.201      0.028       0.002       0.029\n",
      "outcome_code                   0.1345      0.053      2.556      0.011       0.031       0.238\n",
      "condition_code                 0.1096      0.047      2.312      0.021       0.017       0.202\n",
      "Too infrequent/Just enough    -2.4059      0.132    -18.267      0.000      -2.664      -2.148\n",
      "Just enough/Too often          1.2904      0.024     54.636      0.000       1.244       1.337\n",
      "==============================================================================================\n"
     ]
    }
   ],
   "source": [
    "ind_vars = ['trial_time_seconds', 'feedback_time_seconds', 'trial', 'outcome_code', 'condition_code']\n",
    "\n",
    "dep_var = 'timely_collapsed'\n",
    "\n",
    "utils.run_ordered_model(dep_var, ind_vars, trial_file)"
   ]
  },
  {
   "cell_type": "code",
   "execution_count": 22,
   "metadata": {},
   "outputs": [
    {
     "name": "stdout",
     "output_type": "stream",
     "text": [
      "Optimization terminated successfully.\n",
      "         Current function value: 1.451882\n",
      "         Iterations: 26\n",
      "         Function evaluations: 30\n",
      "         Gradient evaluations: 30\n",
      "                             OrderedModel Results                             \n",
      "==============================================================================\n",
      "Dep. Variable:             reflection   Log-Likelihood:                -4065.3\n",
      "Model:                   OrderedModel   AIC:                             8149.\n",
      "Method:            Maximum Likelihood   BIC:                             8202.\n",
      "Date:                Thu, 25 Apr 2024                                         \n",
      "Time:                        14:38:16                                         \n",
      "No. Observations:                2800                                         \n",
      "Df Residuals:                    2791                                         \n",
      "Df Model:                           5                                         \n",
      "==============================================================================================\n",
      "                                 coef    std err          z      P>|z|      [0.025      0.975]\n",
      "----------------------------------------------------------------------------------------------\n",
      "trial_time_seconds             0.0019      0.001      1.587      0.112      -0.000       0.004\n",
      "feedback_time_seconds          0.0003      0.000      1.015      0.310      -0.000       0.001\n",
      "trial                         -0.0205      0.006     -3.312      0.001      -0.033      -0.008\n",
      "outcome_code                  -0.1323      0.046     -2.847      0.004      -0.223      -0.041\n",
      "condition_code                 0.1065      0.042      2.561      0.010       0.025       0.188\n",
      "Strongly Disagree/Disagree    -2.8207      0.120    -23.574      0.000      -3.055      -2.586\n",
      "Disagree/Neutral              -0.0102      0.060     -0.169      0.865      -0.128       0.108\n",
      "Neutral/Agree                  0.1928      0.037      5.278      0.000       0.121       0.264\n",
      "Agree/Strongly Agree           0.4550      0.028     16.370      0.000       0.400       0.509\n",
      "==============================================================================================\n"
     ]
    }
   ],
   "source": [
    "ind_vars = ['trial_time_seconds', 'feedback_time_seconds', 'trial', 'outcome_code', 'condition_code']\n",
    "\n",
    "dep_var = 'reflection'\n",
    "\n",
    "utils.run_ordered_model(dep_var, ind_vars, trial_file)"
   ]
  },
  {
   "cell_type": "code",
   "execution_count": 23,
   "metadata": {},
   "outputs": [
    {
     "name": "stdout",
     "output_type": "stream",
     "text": [
      "Optimization terminated successfully.\n",
      "         Current function value: 0.930230\n",
      "         Iterations: 23\n",
      "         Function evaluations: 26\n",
      "         Gradient evaluations: 26\n",
      "                              OrderedModel Results                              \n",
      "================================================================================\n",
      "Dep. Variable:     reflection_collapsed   Log-Likelihood:                -2604.6\n",
      "Model:                     OrderedModel   AIC:                             5223.\n",
      "Method:              Maximum Likelihood   BIC:                             5265.\n",
      "Date:                  Thu, 25 Apr 2024                                         \n",
      "Time:                          14:38:32                                         \n",
      "No. Observations:                  2800                                         \n",
      "Df Residuals:                      2793                                         \n",
      "Df Model:                             5                                         \n",
      "=========================================================================================\n",
      "                            coef    std err          z      P>|z|      [0.025      0.975]\n",
      "-----------------------------------------------------------------------------------------\n",
      "trial_time_seconds        0.0020      0.001      1.490      0.136      -0.001       0.005\n",
      "feedback_time_seconds     0.0046      0.001      3.395      0.001       0.002       0.007\n",
      "trial                    -0.0314      0.007     -4.543      0.000      -0.045      -0.018\n",
      "outcome_code             -0.0011      0.051     -0.022      0.982      -0.101       0.099\n",
      "condition_code            0.0866      0.046      1.882      0.060      -0.004       0.177\n",
      "Disagree/Neutral         -1.6910      0.122    -13.838      0.000      -1.931      -1.452\n",
      "Neutral/Agree             0.1992      0.037      5.458      0.000       0.128       0.271\n",
      "=========================================================================================\n"
     ]
    }
   ],
   "source": [
    "ind_vars = ['trial_time_seconds', 'feedback_time_seconds', 'trial', 'outcome_code', 'condition_code']\n",
    "\n",
    "dep_var = 'reflection_collapsed'\n",
    "\n",
    "utils.run_ordered_model(dep_var, ind_vars, trial_file)"
   ]
  },
  {
   "cell_type": "code",
   "execution_count": 24,
   "metadata": {},
   "outputs": [
    {
     "name": "stdout",
     "output_type": "stream",
     "text": [
      "Optimization terminated successfully.\n",
      "         Current function value: 1.498727\n",
      "         Iterations: 24\n",
      "         Function evaluations: 28\n",
      "         Gradient evaluations: 28\n",
      "                             OrderedModel Results                             \n",
      "==============================================================================\n",
      "Dep. Variable:             actionable   Log-Likelihood:                -4196.4\n",
      "Model:                   OrderedModel   AIC:                             8411.\n",
      "Method:            Maximum Likelihood   BIC:                             8464.\n",
      "Date:                Thu, 25 Apr 2024                                         \n",
      "Time:                        14:38:45                                         \n",
      "No. Observations:                2800                                         \n",
      "Df Residuals:                    2791                                         \n",
      "Df Model:                           5                                         \n",
      "==============================================================================================\n",
      "                                 coef    std err          z      P>|z|      [0.025      0.975]\n",
      "----------------------------------------------------------------------------------------------\n",
      "trial_time_seconds             0.0028      0.001      2.361      0.018       0.000       0.005\n",
      "feedback_time_seconds         -0.0004      0.000     -0.945      0.345      -0.001       0.000\n",
      "trial                         -0.0110      0.006     -1.793      0.073      -0.023       0.001\n",
      "outcome_code                  -0.0648      0.046     -1.406      0.160      -0.155       0.026\n",
      "condition_code                 0.0847      0.041      2.065      0.039       0.004       0.165\n",
      "Strongly Disagree/Disagree    -2.5226      0.116    -21.797      0.000      -2.749      -2.296\n",
      "Disagree/Neutral               0.2287      0.048      4.767      0.000       0.135       0.323\n",
      "Neutral/Agree                  0.0885      0.035      2.498      0.012       0.019       0.158\n",
      "Agree/Strongly Agree           0.5002      0.029     17.477      0.000       0.444       0.556\n",
      "==============================================================================================\n"
     ]
    }
   ],
   "source": [
    "ind_vars = ['trial_time_seconds', 'feedback_time_seconds', 'trial', 'outcome_code', 'condition_code']\n",
    "\n",
    "dep_var = 'actionable'\n",
    "\n",
    "utils.run_ordered_model(dep_var, ind_vars, trial_file)"
   ]
  },
  {
   "cell_type": "code",
   "execution_count": 25,
   "metadata": {},
   "outputs": [
    {
     "name": "stdout",
     "output_type": "stream",
     "text": [
      "Optimization terminated successfully.\n",
      "         Current function value: 1.010890\n",
      "         Iterations: 21\n",
      "         Function evaluations: 24\n",
      "         Gradient evaluations: 24\n",
      "                              OrderedModel Results                              \n",
      "================================================================================\n",
      "Dep. Variable:     actionable_collapsed   Log-Likelihood:                -2830.5\n",
      "Model:                     OrderedModel   AIC:                             5675.\n",
      "Method:              Maximum Likelihood   BIC:                             5717.\n",
      "Date:                  Thu, 25 Apr 2024                                         \n",
      "Time:                          14:39:06                                         \n",
      "No. Observations:                  2800                                         \n",
      "Df Residuals:                      2793                                         \n",
      "Df Model:                             5                                         \n",
      "=========================================================================================\n",
      "                            coef    std err          z      P>|z|      [0.025      0.975]\n",
      "-----------------------------------------------------------------------------------------\n",
      "trial_time_seconds        0.0030      0.001      2.149      0.032       0.000       0.006\n",
      "feedback_time_seconds    -0.0002      0.000     -0.514      0.608      -0.001       0.001\n",
      "trial                    -0.0190      0.007     -2.892      0.004      -0.032      -0.006\n",
      "outcome_code             -0.0241      0.049     -0.491      0.623      -0.120       0.072\n",
      "condition_code            0.0427      0.044      0.964      0.335      -0.044       0.130\n",
      "Disagree/Neutral         -1.3323      0.111    -12.029      0.000      -1.549      -1.115\n",
      "Neutral/Agree             0.0894      0.035      2.524      0.012       0.020       0.159\n",
      "=========================================================================================\n"
     ]
    }
   ],
   "source": [
    "ind_vars = ['trial_time_seconds', 'feedback_time_seconds', 'trial', 'outcome_code', 'condition_code']\n",
    "\n",
    "dep_var = 'actionable_collapsed'\n",
    "\n",
    "utils.run_ordered_model(dep_var, ind_vars, trial_file)"
   ]
  },
  {
   "cell_type": "markdown",
   "metadata": {},
   "source": [
    "### Distributions of dimensional ratings across groups"
   ]
  },
  {
   "cell_type": "markdown",
   "metadata": {},
   "source": [
    "**MOTIVATION**"
   ]
  },
  {
   "cell_type": "code",
   "execution_count": 3,
   "metadata": {},
   "outputs": [
    {
     "name": "stdout",
     "output_type": "stream",
     "text": [
      "mode_motivation_code     0     1     2     3     4\n",
      "condition                                         \n",
      "full                  0.04  0.09  0.28  0.41  0.17\n",
      "score                 0.02  0.13  0.32  0.32  0.21\n",
      "text                  0.13  0.04  0.17  0.43  0.23\n",
      "KruskalResult(statistic=0.43155195894923065, pvalue=0.8059158233386281)\n"
     ]
    }
   ],
   "source": [
    "utils.run_kruskal('mode_motivation_code', part_file)"
   ]
  },
  {
   "cell_type": "code",
   "execution_count": 4,
   "metadata": {},
   "outputs": [
    {
     "name": "stdout",
     "output_type": "stream",
     "text": [
      "mode_motivation_collapsed_code     0     1     2\n",
      "condition                                       \n",
      "full                            0.17  0.24  0.59\n",
      "score                           0.15  0.30  0.55\n",
      "text                            0.17  0.17  0.66\n",
      "KruskalResult(statistic=0.6481920488654879, pvalue=0.723180796019913)\n"
     ]
    }
   ],
   "source": [
    "utils.run_kruskal('mode_motivation_collapsed_code', part_file)"
   ]
  },
  {
   "cell_type": "markdown",
   "metadata": {},
   "source": [
    "**MANAGEABLE**"
   ]
  },
  {
   "cell_type": "code",
   "execution_count": 5,
   "metadata": {},
   "outputs": [
    {
     "name": "stdout",
     "output_type": "stream",
     "text": [
      "mode_manageable_code     0     1     2     3     4\n",
      "condition                                         \n",
      "full                  0.02  0.09  0.63  0.15  0.11\n",
      "score                 0.06  0.21  0.57  0.06  0.09\n",
      "text                  0.06  0.04  0.57  0.19  0.13\n",
      "KruskalResult(statistic=6.632292158000268, pvalue=0.0362924307404955)\n",
      "         full    score     text\n",
      "full   1.0000  0.13710  1.00000\n",
      "score  0.1371  1.00000  0.04875\n",
      "text   1.0000  0.04875  1.00000\n"
     ]
    }
   ],
   "source": [
    "utils.run_kruskal('mode_manageable_code', part_file)"
   ]
  },
  {
   "cell_type": "code",
   "execution_count": 6,
   "metadata": {},
   "outputs": [
    {
     "name": "stdout",
     "output_type": "stream",
     "text": [
      "mode_manageable_collapsed_code     0     1     2\n",
      "condition                                       \n",
      "full                            0.11  0.57  0.33\n",
      "score                           0.30  0.57  0.13\n",
      "text                            0.11  0.53  0.36\n",
      "KruskalResult(statistic=11.809795531702507, pvalue=0.0027260604629594626)\n",
      "          full     score      text\n",
      "full   1.00000  0.014940  1.000000\n",
      "score  0.01494  1.000000  0.005519\n",
      "text   1.00000  0.005519  1.000000\n"
     ]
    }
   ],
   "source": [
    "utils.run_kruskal('mode_manageable_collapsed_code', part_file)"
   ]
  },
  {
   "cell_type": "markdown",
   "metadata": {},
   "source": [
    "**ACTIONABLE**"
   ]
  },
  {
   "cell_type": "code",
   "execution_count": 7,
   "metadata": {},
   "outputs": [
    {
     "name": "stdout",
     "output_type": "stream",
     "text": [
      "mode_actionable_code     0     1     2     3     4\n",
      "condition                                         \n",
      "full                  0.02  0.09  0.24  0.52  0.13\n",
      "score                 0.15  0.26  0.28  0.17  0.15\n",
      "text                  0.06  0.09  0.15  0.49  0.21\n",
      "KruskalResult(statistic=13.057351043388742, pvalue=0.0014609395516731044)\n",
      "         full     score      text\n",
      "full   1.0000  0.012600  1.000000\n",
      "score  0.0126  1.000000  0.002544\n",
      "text   1.0000  0.002544  1.000000\n"
     ]
    }
   ],
   "source": [
    "utils.run_kruskal('mode_actionable_code', part_file)"
   ]
  },
  {
   "cell_type": "code",
   "execution_count": 8,
   "metadata": {},
   "outputs": [
    {
     "name": "stdout",
     "output_type": "stream",
     "text": [
      "mode_actionable_collapsed_code     0     1     2\n",
      "condition                                       \n",
      "full                            0.13  0.22  0.65\n",
      "score                           0.38  0.28  0.34\n",
      "text                            0.17  0.15  0.68\n",
      "KruskalResult(statistic=14.523440697446256, pvalue=0.0007018994844579877)\n",
      "           full     score      text\n",
      "full   1.000000  0.003259  1.000000\n",
      "score  0.003259  1.000000  0.002635\n",
      "text   1.000000  0.002635  1.000000\n"
     ]
    }
   ],
   "source": [
    "utils.run_kruskal('mode_actionable_collapsed_code', part_file)"
   ]
  },
  {
   "cell_type": "markdown",
   "metadata": {},
   "source": [
    "**TIMELY**"
   ]
  },
  {
   "cell_type": "code",
   "execution_count": 9,
   "metadata": {},
   "outputs": [
    {
     "name": "stdout",
     "output_type": "stream",
     "text": [
      "mode_timely_code     0     1     2     3     4\n",
      "condition                                     \n",
      "full              0.00  0.00  0.74  0.13  0.13\n",
      "score             0.02  0.06  0.62  0.19  0.11\n",
      "text              0.02  0.00  0.60  0.17  0.21\n",
      "KruskalResult(statistic=2.2477217663637394, pvalue=0.3250224951563972)\n"
     ]
    }
   ],
   "source": [
    "utils.run_kruskal('mode_timely_code', part_file)"
   ]
  },
  {
   "cell_type": "code",
   "execution_count": 10,
   "metadata": {},
   "outputs": [
    {
     "name": "stdout",
     "output_type": "stream",
     "text": [
      "mode_timely_collapsed_code     0     1     2\n",
      "condition                                   \n",
      "full                        0.02  0.72  0.26\n",
      "score                       0.09  0.62  0.30\n",
      "text                        0.02  0.57  0.40\n",
      "KruskalResult(statistic=2.6246380095924167, pvalue=0.26919506733620596)\n"
     ]
    }
   ],
   "source": [
    "utils.run_kruskal('mode_timely_collapsed_code', part_file)"
   ]
  },
  {
   "cell_type": "markdown",
   "metadata": {},
   "source": [
    "**REFLECTION**"
   ]
  },
  {
   "cell_type": "code",
   "execution_count": 11,
   "metadata": {},
   "outputs": [
    {
     "name": "stdout",
     "output_type": "stream",
     "text": [
      "mode_reflection_code     0     1     2     3     4\n",
      "condition                                         \n",
      "full                  0.04  0.04  0.22  0.46  0.24\n",
      "score                 0.09  0.11  0.17  0.38  0.26\n",
      "text                  0.06  0.06  0.21  0.43  0.23\n",
      "KruskalResult(statistic=0.27633119068024015, pvalue=0.8709544538045556)\n"
     ]
    }
   ],
   "source": [
    "utils.run_kruskal('mode_reflection_code', part_file)"
   ]
  },
  {
   "cell_type": "code",
   "execution_count": 12,
   "metadata": {},
   "outputs": [
    {
     "name": "stdout",
     "output_type": "stream",
     "text": [
      "mode_reflection_collapsed_code     0     1     2\n",
      "condition                                       \n",
      "full                            0.13  0.20  0.67\n",
      "score                           0.21  0.15  0.64\n",
      "text                            0.13  0.19  0.68\n",
      "KruskalResult(statistic=0.5021944141381096, pvalue=0.77794674596029)\n"
     ]
    }
   ],
   "source": [
    "utils.run_kruskal('mode_reflection_collapsed_code', part_file)"
   ]
  },
  {
   "cell_type": "markdown",
   "metadata": {},
   "source": [
    "### Did they think the feedback helped?"
   ]
  },
  {
   "cell_type": "code",
   "execution_count": 13,
   "metadata": {},
   "outputs": [
    {
     "name": "stdout",
     "output_type": "stream",
     "text": [
      "feedback_helped_code     0     1     2     3     4\n",
      "condition                                         \n",
      "full                  0.09  0.13  0.22  0.43  0.13\n",
      "score                 0.21  0.15  0.19  0.30  0.15\n",
      "text                  0.17  0.09  0.06  0.53  0.15\n",
      "KruskalResult(statistic=2.602881435028445, pvalue=0.27213943441344146)\n"
     ]
    }
   ],
   "source": [
    "utils.run_kruskal('feedback_helped_code', part_file)"
   ]
  },
  {
   "cell_type": "code",
   "execution_count": 14,
   "metadata": {},
   "outputs": [
    {
     "name": "stdout",
     "output_type": "stream",
     "text": [
      "feedback_helped_collapsed_code     0     1     2\n",
      "condition                                       \n",
      "full                            0.22  0.22  0.57\n",
      "score                           0.36  0.19  0.45\n",
      "text                            0.26  0.06  0.68\n",
      "KruskalResult(statistic=4.270066164579718, pvalue=0.11824067863952731)\n"
     ]
    }
   ],
   "source": [
    "utils.run_kruskal('feedback_helped_collapsed_code', part_file)"
   ]
  },
  {
   "cell_type": "markdown",
   "metadata": {},
   "source": [
    "## Evolution of Performance"
   ]
  },
  {
   "cell_type": "markdown",
   "metadata": {},
   "source": [
    "For each condition, plot out the success of the trial for each participant"
   ]
  },
  {
   "cell_type": "code",
   "execution_count": 16,
   "metadata": {},
   "outputs": [
    {
     "name": "stdout",
     "output_type": "stream",
     "text": [
      "skipping participant 637d4196c70a66e28ecede34 trial 4\n"
     ]
    },
    {
     "data": {
      "image/png": "[encoded data removed]",
      "text/plain": [
       "<Figure size 640x480 with 1 Axes>"
      ]
     },
     "metadata": {},
     "output_type": "display_data"
    }
   ],
   "source": [
    "fig, ax = plt.subplots()\n",
    "n_trials = 20\n",
    "\n",
    "for i in range(len(ids['score'])):\n",
    "    part = ids['score'].iloc[i]\n",
    "    data = pd.read_csv(data_dir + part + '/survey_responses.csv')\n",
    "    for trial in range(n_trials):\n",
    "        try:\n",
    "            outcome = data[data['trial'] == trial+1]['outcome'].values[0]\n",
    "            if outcome == 'Safe':\n",
    "                ax.plot(trial, i, 'go')\n",
    "            elif outcome == 'Unsafe':\n",
    "                ax.plot(trial, i, 'ko')\n",
    "            else:\n",
    "                ax.plot(trial, i, 'ro')\n",
    "        except:\n",
    "            print(f\"skipping participant {part} trial {trial}\")\n",
    "\n",
    "ax.set_aspect('equal')\n",
    "ax.set_title('Outcomes for score condition')\n",
    "plt.show()"
   ]
  },
  {
   "cell_type": "code",
   "execution_count": 17,
   "metadata": {},
   "outputs": [
    {
     "name": "stdout",
     "output_type": "stream",
     "text": [
      "skipping participant 6522a86994a5ce0d7bb9feba trial 9\n"
     ]
    },
    {
     "data": {
      "image/png": "[encoded data removed]",
      "text/plain": [
       "<Figure size 640x480 with 1 Axes>"
      ]
     },
     "metadata": {},
     "output_type": "display_data"
    }
   ],
   "source": [
    "fig, ax = plt.subplots()\n",
    "n_trials = 20\n",
    "\n",
    "for i in range(len(ids['text'])):\n",
    "    part = ids['text'].iloc[i]\n",
    "    data = pd.read_csv(data_dir + part + '/survey_responses.csv')\n",
    "    for trial in range(n_trials):\n",
    "        try:\n",
    "            outcome = data[data['trial'] == trial+1]['outcome'].values[0]\n",
    "            if outcome == 'Safe':\n",
    "                ax.plot(trial, i, 'go')\n",
    "            elif outcome == 'Unsafe':\n",
    "                ax.plot(trial, i, 'ko')\n",
    "            else:\n",
    "                ax.plot(trial, i, 'ro')\n",
    "        except:\n",
    "            print(f\"skipping participant {part} trial {trial}\")\n",
    "\n",
    "ax.set_aspect('equal')\n",
    "ax.set_title('Outcomes for text condition')\n",
    "plt.show()"
   ]
  },
  {
   "cell_type": "code",
   "execution_count": 18,
   "metadata": {},
   "outputs": [
    {
     "data": {
      "image/png": "[encoded data removed]",
      "text/plain": [
       "<Figure size 640x480 with 1 Axes>"
      ]
     },
     "metadata": {},
     "output_type": "display_data"
    }
   ],
   "source": [
    "fig, ax = plt.subplots()\n",
    "n_trials = 20\n",
    "\n",
    "for i in range(len(ids['full'])):\n",
    "    part = ids['full'].iloc[i]\n",
    "    data = pd.read_csv(data_dir + part + '/survey_responses.csv')\n",
    "    for trial in range(n_trials):\n",
    "        try:\n",
    "            outcome = data[data['trial'] == trial+1]['outcome'].values[0]\n",
    "            if outcome == 'Safe':\n",
    "                ax.plot(trial, i, 'go')\n",
    "            elif outcome == 'Unsafe':\n",
    "                ax.plot(trial, i, 'ko')\n",
    "            else:\n",
    "                ax.plot(trial, i, 'ro')\n",
    "        except:\n",
    "            print(f\"skipping participant {part} trial {trial}\")\n",
    "\n",
    "ax.set_aspect('equal')\n",
    "ax.set_title('Outcomes for full condition')\n",
    "plt.show()"
   ]
  },
  {
   "cell_type": "markdown",
   "metadata": {},
   "source": [
    "### Are there different numbers of successful trials between conditions?"
   ]
  },
  {
   "cell_type": "code",
   "execution_count": 20,
   "metadata": {},
   "outputs": [
    {
     "name": "stdout",
     "output_type": "stream",
     "text": [
      "n_safe_landings    0     1     2     3     4     5     6     7     8     9   \\\n",
      "condition                                                                     \n",
      "full             0.02  0.04  0.07  0.09  0.02  0.09  0.07  0.09  0.07  0.02   \n",
      "score            0.21  0.04  0.04  0.02  0.04  0.02  0.02  0.02  0.04  0.09   \n",
      "text             0.11  0.06  0.06  0.04  0.04  0.09  0.11  0.04  0.04  0.04   \n",
      "\n",
      "n_safe_landings    10    11    12    13    14    15    16    17    18    19  \n",
      "condition                                                                    \n",
      "full             0.09  0.13  0.04  0.09  0.02  0.00  0.04  0.02  0.00  0.00  \n",
      "score            0.04  0.04  0.04  0.09  0.06  0.06  0.06  0.04  0.00  0.00  \n",
      "text             0.04  0.04  0.06  0.06  0.02  0.02  0.04  0.00  0.04  0.02  \n",
      "KruskalResult(statistic=0.3282885481106896, pvalue=0.8486195792596276)\n"
     ]
    }
   ],
   "source": [
    "utils.run_kruskal('n_safe_landings', part_file)"
   ]
  },
  {
   "cell_type": "code",
   "execution_count": 4,
   "metadata": {},
   "outputs": [
    {
     "name": "stdout",
     "output_type": "stream",
     "text": [
      "F_onewayResult(statistic=0.10932977141061748, pvalue=0.8965128827700789)\n"
     ]
    }
   ],
   "source": [
    "utils.run_anova('n_safe_landings', part_file)"
   ]
  },
  {
   "cell_type": "code",
   "execution_count": 21,
   "metadata": {},
   "outputs": [
    {
     "name": "stdout",
     "output_type": "stream",
     "text": [
      "n_unsafe_landings    0     1     2     3     4     5     6     7     8     9   \\\n",
      "condition                                                                       \n",
      "full               0.00  0.00  0.02  0.02  0.11  0.00  0.13  0.09  0.17  0.13   \n",
      "score              0.04  0.02  0.04  0.13  0.13  0.13  0.02  0.09  0.09  0.04   \n",
      "text               0.02  0.02  0.11  0.04  0.11  0.06  0.04  0.06  0.13  0.09   \n",
      "\n",
      "n_unsafe_landings    10    11    12    13    14    15    16  \n",
      "condition                                                    \n",
      "full               0.09  0.13  0.04  0.02  0.02  0.00  0.02  \n",
      "score              0.02  0.09  0.06  0.09  0.02  0.00  0.00  \n",
      "text               0.04  0.11  0.11  0.04  0.00  0.02  0.00  \n",
      "KruskalResult(statistic=3.7317756447577453, pvalue=0.15475875059211597)\n"
     ]
    }
   ],
   "source": [
    "utils.run_kruskal('n_unsafe_landings', part_file)"
   ]
  },
  {
   "cell_type": "code",
   "execution_count": 5,
   "metadata": {},
   "outputs": [
    {
     "name": "stdout",
     "output_type": "stream",
     "text": [
      "F_onewayResult(statistic=2.0800743417168293, pvalue=0.1288485429731383)\n"
     ]
    }
   ],
   "source": [
    "utils.run_anova('n_unsafe_landings', part_file)"
   ]
  },
  {
   "cell_type": "code",
   "execution_count": 22,
   "metadata": {},
   "outputs": [
    {
     "name": "stdout",
     "output_type": "stream",
     "text": [
      "n_crashes    0     1     2     3     4     5     6     7     8     10    11  \\\n",
      "condition                                                                     \n",
      "full       0.13  0.20  0.09  0.15  0.07  0.07  0.09  0.11  0.04  0.02  0.04   \n",
      "score      0.06  0.17  0.11  0.15  0.06  0.04  0.06  0.15  0.06  0.00  0.02   \n",
      "text       0.13  0.06  0.13  0.11  0.06  0.13  0.09  0.11  0.04  0.02  0.04   \n",
      "\n",
      "n_crashes    12    13    16    17    19    20    21  \n",
      "condition                                            \n",
      "full       0.00  0.00  0.00  0.00  0.00  0.00  0.00  \n",
      "score      0.00  0.02  0.02  0.02  0.02  0.00  0.02  \n",
      "text       0.02  0.02  0.00  0.02  0.00  0.02  0.00  \n",
      "KruskalResult(statistic=2.427835812493259, pvalue=0.29703125612261755)\n"
     ]
    }
   ],
   "source": [
    "utils.run_kruskal('n_crashes', part_file)"
   ]
  },
  {
   "cell_type": "code",
   "execution_count": 6,
   "metadata": {},
   "outputs": [
    {
     "name": "stdout",
     "output_type": "stream",
     "text": [
      "F_onewayResult(statistic=1.8774914729229217, pvalue=0.1568881070997451)\n"
     ]
    }
   ],
   "source": [
    "utils.run_anova('n_crashes', part_file)"
   ]
  },
  {
   "cell_type": "markdown",
   "metadata": {},
   "source": [
    "### Differences in outcomes in first/last half of the experiment?"
   ]
  },
  {
   "cell_type": "code",
   "execution_count": 3,
   "metadata": {},
   "outputs": [
    {
     "name": "stdout",
     "output_type": "stream",
     "text": [
      "TtestResult(statistic=5.633664455670916, pvalue=4.320430451907026e-08, df=278.0)\n"
     ]
    }
   ],
   "source": [
    "utils.run_ttest_quantiles('Crash', [0.5, 0.5], part_file, trial_file)"
   ]
  },
  {
   "cell_type": "code",
   "execution_count": 4,
   "metadata": {},
   "outputs": [
    {
     "name": "stdout",
     "output_type": "stream",
     "text": [
      "TtestResult(statistic=0.8505916423258506, pvalue=0.3957282418771677, df=278.0)\n"
     ]
    }
   ],
   "source": [
    "utils.run_ttest_quantiles('Unsafe', [0.5, 0.5], part_file, trial_file)"
   ]
  },
  {
   "cell_type": "code",
   "execution_count": 5,
   "metadata": {},
   "outputs": [
    {
     "name": "stdout",
     "output_type": "stream",
     "text": [
      "TtestResult(statistic=-5.235443102333366, pvalue=3.25070245666022e-07, df=278.0)\n"
     ]
    }
   ],
   "source": [
    "utils.run_ttest_quantiles('Safe', [0.5, 0.5], part_file, trial_file)"
   ]
  },
  {
   "cell_type": "code",
   "execution_count": 6,
   "metadata": {},
   "outputs": [
    {
     "name": "stdout",
     "output_type": "stream",
     "text": [
      "TtestResult(statistic=2.4386545123528447, pvalue=0.016661783261118435, df=92.0)\n"
     ]
    }
   ],
   "source": [
    "utils.run_ttest_quantiles('Crash', [0.5, 0.5], part_file, trial_file, idx=ids['score'])"
   ]
  },
  {
   "cell_type": "code",
   "execution_count": 7,
   "metadata": {},
   "outputs": [
    {
     "name": "stdout",
     "output_type": "stream",
     "text": [
      "TtestResult(statistic=1.4493606400646586, pvalue=0.1506371503822467, df=92.0)\n"
     ]
    }
   ],
   "source": [
    "utils.run_ttest_quantiles('Unsafe', [0.5, 0.5], part_file, trial_file, idx=ids['score'])"
   ]
  },
  {
   "cell_type": "code",
   "execution_count": 8,
   "metadata": {},
   "outputs": [
    {
     "name": "stdout",
     "output_type": "stream",
     "text": [
      "TtestResult(statistic=-3.062685498520051, pvalue=0.002876730761670611, df=92.0)\n"
     ]
    }
   ],
   "source": [
    "utils.run_ttest_quantiles('Safe', [0.5, 0.5], part_file, trial_file, idx=ids['score'])"
   ]
  },
  {
   "cell_type": "code",
   "execution_count": 9,
   "metadata": {},
   "outputs": [
    {
     "name": "stdout",
     "output_type": "stream",
     "text": [
      "TtestResult(statistic=3.1905611577968975, pvalue=0.0019425953332966122, df=92.0)\n"
     ]
    }
   ],
   "source": [
    "utils.run_ttest_quantiles('Crash', [0.5, 0.5], part_file, trial_file, idx=ids['text'])"
   ]
  },
  {
   "cell_type": "code",
   "execution_count": 10,
   "metadata": {},
   "outputs": [
    {
     "name": "stdout",
     "output_type": "stream",
     "text": [
      "TtestResult(statistic=-0.8075754942814276, pvalue=0.4214180868540339, df=92.0)\n"
     ]
    }
   ],
   "source": [
    "utils.run_ttest_quantiles('Unsafe', [0.5, 0.5], part_file, trial_file, idx=ids['text'])"
   ]
  },
  {
   "cell_type": "code",
   "execution_count": 11,
   "metadata": {},
   "outputs": [
    {
     "name": "stdout",
     "output_type": "stream",
     "text": [
      "TtestResult(statistic=-2.077179514449732, pvalue=0.0405723280140886, df=92.0)\n"
     ]
    }
   ],
   "source": [
    "utils.run_ttest_quantiles('Safe', [0.5, 0.5], part_file, trial_file, idx=ids['text'])"
   ]
  },
  {
   "cell_type": "code",
   "execution_count": 12,
   "metadata": {},
   "outputs": [
    {
     "name": "stdout",
     "output_type": "stream",
     "text": [
      "TtestResult(statistic=4.720723780858188, pvalue=8.586253857861992e-06, df=90.0)\n"
     ]
    }
   ],
   "source": [
    "utils.run_ttest_quantiles('Crash', [0.5, 0.5], part_file, trial_file, idx=ids['full'])"
   ]
  },
  {
   "cell_type": "code",
   "execution_count": 13,
   "metadata": {},
   "outputs": [
    {
     "name": "stdout",
     "output_type": "stream",
     "text": [
      "TtestResult(statistic=0.893558875097702, pvalue=0.37394117316444864, df=90.0)\n"
     ]
    }
   ],
   "source": [
    "utils.run_ttest_quantiles('Unsafe', [0.5, 0.5], part_file, trial_file, idx=ids['full'])"
   ]
  },
  {
   "cell_type": "code",
   "execution_count": 14,
   "metadata": {},
   "outputs": [
    {
     "name": "stdout",
     "output_type": "stream",
     "text": [
      "TtestResult(statistic=-4.152592211179453, pvalue=7.459320283752578e-05, df=90.0)\n"
     ]
    }
   ],
   "source": [
    "utils.run_ttest_quantiles('Safe', [0.5, 0.5], part_file, trial_file, idx=ids['full'])"
   ]
  },
  {
   "cell_type": "code",
   "execution_count": 225,
   "metadata": {},
   "outputs": [],
   "source": [
    "outcome_counts2['safe_diffs'] = outcome_counts2['Safe'] - outcome_counts1['Safe']\n",
    "outcome_counts2['unsafe_diffs'] = outcome_counts2['Unsafe'] - outcome_counts1['Unsafe']\n",
    "outcome_counts2['crash_diffs'] = outcome_counts2['Crash'] - outcome_counts1['Crash']"
   ]
  },
  {
   "cell_type": "code",
   "execution_count": 226,
   "metadata": {},
   "outputs": [
    {
     "data": {
      "text/plain": [
       "F_onewayResult(statistic=1.6430121371757918, pvalue=0.1971841221169359)"
      ]
     },
     "execution_count": 226,
     "metadata": {},
     "output_type": "execute_result"
    }
   ],
   "source": [
    "stats.f_oneway(outcome_counts2[outcome_counts2['condition'] == 'score']['safe_diffs'],\n",
    "              outcome_counts2[outcome_counts2['condition'] == 'text']['safe_diffs'],\n",
    "              outcome_counts2[outcome_counts2['condition'] == 'full']['safe_diffs'])"
   ]
  },
  {
   "cell_type": "code",
   "execution_count": 227,
   "metadata": {},
   "outputs": [
    {
     "data": {
      "text/plain": [
       "KruskalResult(statistic=2.7350356698010168, pvalue=0.254738478422149)"
      ]
     },
     "execution_count": 227,
     "metadata": {},
     "output_type": "execute_result"
    }
   ],
   "source": [
    "stats.kruskal(outcome_counts2[outcome_counts2['condition'] == 'score']['safe_diffs'],\n",
    "              outcome_counts2[outcome_counts2['condition'] == 'text']['safe_diffs'],\n",
    "              outcome_counts2[outcome_counts2['condition'] == 'full']['safe_diffs'])"
   ]
  },
  {
   "cell_type": "code",
   "execution_count": 228,
   "metadata": {},
   "outputs": [
    {
     "data": {
      "text/plain": [
       "F_onewayResult(statistic=2.909467117065238, pvalue=0.057880514075348465)"
      ]
     },
     "execution_count": 228,
     "metadata": {},
     "output_type": "execute_result"
    }
   ],
   "source": [
    "stats.f_oneway(outcome_counts2[outcome_counts2['condition'] == 'score']['unsafe_diffs'],\n",
    "              outcome_counts2[outcome_counts2['condition'] == 'text']['unsafe_diffs'],\n",
    "              outcome_counts2[outcome_counts2['condition'] == 'full']['unsafe_diffs'])"
   ]
  },
  {
   "cell_type": "code",
   "execution_count": 229,
   "metadata": {},
   "outputs": [
    {
     "data": {
      "text/plain": [
       "KruskalResult(statistic=6.819249735520675, pvalue=0.033053597520524024)"
      ]
     },
     "execution_count": 229,
     "metadata": {},
     "output_type": "execute_result"
    }
   ],
   "source": [
    "stats.kruskal(outcome_counts2[outcome_counts2['condition'] == 'score']['unsafe_diffs'],\n",
    "              outcome_counts2[outcome_counts2['condition'] == 'text']['unsafe_diffs'],\n",
    "              outcome_counts2[outcome_counts2['condition'] == 'full']['unsafe_diffs'])"
   ]
  },
  {
   "cell_type": "code",
   "execution_count": 233,
   "metadata": {},
   "outputs": [
    {
     "data": {
      "text/html": [
       "<div>\n",
       "<style scoped>\n",
       "    .dataframe tbody tr th:only-of-type {\n",
       "        vertical-align: middle;\n",
       "    }\n",
       "\n",
       "    .dataframe tbody tr th {\n",
       "        vertical-align: top;\n",
       "    }\n",
       "\n",
       "    .dataframe thead th {\n",
       "        text-align: right;\n",
       "    }\n",
       "</style>\n",
       "<table border=\"1\" class=\"dataframe\">\n",
       "  <thead>\n",
       "    <tr style=\"text-align: right;\">\n",
       "      <th></th>\n",
       "      <th>full</th>\n",
       "      <th>score</th>\n",
       "      <th>text</th>\n",
       "    </tr>\n",
       "  </thead>\n",
       "  <tbody>\n",
       "    <tr>\n",
       "      <th>full</th>\n",
       "      <td>1.000000</td>\n",
       "      <td>1.00000</td>\n",
       "      <td>0.219093</td>\n",
       "    </tr>\n",
       "    <tr>\n",
       "      <th>score</th>\n",
       "      <td>1.000000</td>\n",
       "      <td>1.00000</td>\n",
       "      <td>0.033360</td>\n",
       "    </tr>\n",
       "    <tr>\n",
       "      <th>text</th>\n",
       "      <td>0.219093</td>\n",
       "      <td>0.03336</td>\n",
       "      <td>1.000000</td>\n",
       "    </tr>\n",
       "  </tbody>\n",
       "</table>\n",
       "</div>"
      ],
      "text/plain": [
       "           full    score      text\n",
       "full   1.000000  1.00000  0.219093\n",
       "score  1.000000  1.00000  0.033360\n",
       "text   0.219093  0.03336  1.000000"
      ]
     },
     "execution_count": 233,
     "metadata": {},
     "output_type": "execute_result"
    }
   ],
   "source": [
    "sp.posthoc_dunn(outcome_counts2, val_col='unsafe_diffs', group_col='condition', p_adjust='bonferroni')"
   ]
  },
  {
   "cell_type": "code",
   "execution_count": 230,
   "metadata": {},
   "outputs": [
    {
     "data": {
      "text/plain": [
       "F_onewayResult(statistic=0.644283694216729, pvalue=0.5266218067470263)"
      ]
     },
     "execution_count": 230,
     "metadata": {},
     "output_type": "execute_result"
    }
   ],
   "source": [
    "stats.f_oneway(outcome_counts2[outcome_counts2['condition'] == 'score']['crash_diffs'],\n",
    "              outcome_counts2[outcome_counts2['condition'] == 'text']['crash_diffs'],\n",
    "              outcome_counts2[outcome_counts2['condition'] == 'full']['crash_diffs'])"
   ]
  },
  {
   "cell_type": "code",
   "execution_count": 231,
   "metadata": {},
   "outputs": [
    {
     "data": {
      "text/plain": [
       "KruskalResult(statistic=0.8000267500539454, pvalue=0.6703110805469004)"
      ]
     },
     "execution_count": 231,
     "metadata": {},
     "output_type": "execute_result"
    }
   ],
   "source": [
    "stats.kruskal(outcome_counts2[outcome_counts2['condition'] == 'score']['crash_diffs'],\n",
    "              outcome_counts2[outcome_counts2['condition'] == 'text']['crash_diffs'],\n",
    "              outcome_counts2[outcome_counts2['condition'] == 'full']['crash_diffs'])"
   ]
  },
  {
   "cell_type": "code",
   "execution_count": 232,
   "metadata": {},
   "outputs": [
    {
     "data": {
      "text/html": [
       "<div>\n",
       "<style scoped>\n",
       "    .dataframe tbody tr th:only-of-type {\n",
       "        vertical-align: middle;\n",
       "    }\n",
       "\n",
       "    .dataframe tbody tr th {\n",
       "        vertical-align: top;\n",
       "    }\n",
       "\n",
       "    .dataframe thead th {\n",
       "        text-align: right;\n",
       "    }\n",
       "</style>\n",
       "<table border=\"1\" class=\"dataframe\">\n",
       "  <thead>\n",
       "    <tr style=\"text-align: right;\">\n",
       "      <th></th>\n",
       "      <th>crash_diffs</th>\n",
       "      <th>unsafe_diffs</th>\n",
       "      <th>safe_diffs</th>\n",
       "    </tr>\n",
       "    <tr>\n",
       "      <th>condition</th>\n",
       "      <th></th>\n",
       "      <th></th>\n",
       "      <th></th>\n",
       "    </tr>\n",
       "  </thead>\n",
       "  <tbody>\n",
       "    <tr>\n",
       "      <th>full</th>\n",
       "      <td>-1.826087</td>\n",
       "      <td>-0.347826</td>\n",
       "      <td>2.173913</td>\n",
       "    </tr>\n",
       "    <tr>\n",
       "      <th>score</th>\n",
       "      <td>-1.340426</td>\n",
       "      <td>-0.659574</td>\n",
       "      <td>2.000000</td>\n",
       "    </tr>\n",
       "    <tr>\n",
       "      <th>text</th>\n",
       "      <td>-1.638298</td>\n",
       "      <td>0.361702</td>\n",
       "      <td>1.319149</td>\n",
       "    </tr>\n",
       "  </tbody>\n",
       "</table>\n",
       "</div>"
      ],
      "text/plain": [
       "           crash_diffs  unsafe_diffs  safe_diffs\n",
       "condition                                       \n",
       "full         -1.826087     -0.347826    2.173913\n",
       "score        -1.340426     -0.659574    2.000000\n",
       "text         -1.638298      0.361702    1.319149"
      ]
     },
     "execution_count": 232,
     "metadata": {},
     "output_type": "execute_result"
    }
   ],
   "source": [
    "outcome_counts2.groupby('condition')[['crash_diffs','unsafe_diffs','safe_diffs']].mean()"
   ]
  },
  {
   "cell_type": "markdown",
   "metadata": {},
   "source": [
    "### What about first and last quarter?"
   ]
  },
  {
   "cell_type": "code",
   "execution_count": 234,
   "metadata": {},
   "outputs": [],
   "source": [
    "first_quarter = all_responses[all_responses['trial'] < 6]\n",
    "last_quarter = all_responses[all_responses['trial'] >= 16]\n",
    "\n",
    "outcome_counts_q1 = pd.merge(first_quarter.groupby('prolific_id')['outcome'].value_counts().unstack(), merged_filtered[['prolific_id', 'condition']], left_index=True, right_on='prolific_id')\n",
    "outcome_counts_q4 = pd.merge(last_quarter.groupby('prolific_id')['outcome'].value_counts().unstack(), merged_filtered[['prolific_id', 'condition']], left_index=True, right_on='prolific_id')"
   ]
  },
  {
   "cell_type": "code",
   "execution_count": 15,
   "metadata": {},
   "outputs": [
    {
     "name": "stdout",
     "output_type": "stream",
     "text": [
      "TtestResult(statistic=8.010999084784098, pvalue=3.147803515352688e-14, df=278.0)\n"
     ]
    }
   ],
   "source": [
    "utils.run_ttest_quantiles('Crash', [0.25, 0.75], part_file, trial_file)"
   ]
  },
  {
   "cell_type": "code",
   "execution_count": 16,
   "metadata": {},
   "outputs": [
    {
     "name": "stdout",
     "output_type": "stream",
     "text": [
      "TtestResult(statistic=1.4169572551332483, pvalue=0.15761508724495682, df=278.0)\n"
     ]
    }
   ],
   "source": [
    "utils.run_ttest_quantiles('Unsafe', [0.25, 0.75], part_file, trial_file)"
   ]
  },
  {
   "cell_type": "code",
   "execution_count": 17,
   "metadata": {},
   "outputs": [
    {
     "name": "stdout",
     "output_type": "stream",
     "text": [
      "TtestResult(statistic=-8.427673115158571, pvalue=1.9249792954425605e-15, df=278.0)\n"
     ]
    }
   ],
   "source": [
    "utils.run_ttest_quantiles('Safe', [0.25, 0.75], part_file, trial_file)"
   ]
  },
  {
   "cell_type": "code",
   "execution_count": 18,
   "metadata": {},
   "outputs": [
    {
     "name": "stdout",
     "output_type": "stream",
     "text": [
      "TtestResult(statistic=3.7037499116624994, pvalue=0.0003621406437764596, df=92.0)\n"
     ]
    }
   ],
   "source": [
    "utils.run_ttest_quantiles('Crash', [0.25, 0.75], part_file, trial_file, idx=ids['score'])"
   ]
  },
  {
   "cell_type": "code",
   "execution_count": 19,
   "metadata": {},
   "outputs": [
    {
     "name": "stdout",
     "output_type": "stream",
     "text": [
      "TtestResult(statistic=1.4371535059124823, pvalue=0.15406675214338203, df=92.0)\n"
     ]
    }
   ],
   "source": [
    "utils.run_ttest_quantiles('Unsafe', [0.25, 0.75], part_file, trial_file, idx=ids['score'])"
   ]
  },
  {
   "cell_type": "code",
   "execution_count": 20,
   "metadata": {},
   "outputs": [
    {
     "name": "stdout",
     "output_type": "stream",
     "text": [
      "TtestResult(statistic=-4.735188528307348, pvalue=7.912579661417964e-06, df=92.0)\n"
     ]
    }
   ],
   "source": [
    "utils.run_ttest_quantiles('Safe', [0.25, 0.75], part_file, trial_file, idx=ids['score'])"
   ]
  },
  {
   "cell_type": "code",
   "execution_count": 21,
   "metadata": {},
   "outputs": [
    {
     "name": "stdout",
     "output_type": "stream",
     "text": [
      "TtestResult(statistic=4.854698921987593, pvalue=4.912735619232404e-06, df=92.0)\n"
     ]
    }
   ],
   "source": [
    "utils.run_ttest_quantiles('Crash', [0.25, 0.75], part_file, trial_file, idx=ids['text'])"
   ]
  },
  {
   "cell_type": "code",
   "execution_count": 22,
   "metadata": {},
   "outputs": [
    {
     "name": "stdout",
     "output_type": "stream",
     "text": [
      "TtestResult(statistic=-0.5601363976428997, pvalue=0.5767478158549038, df=92.0)\n"
     ]
    }
   ],
   "source": [
    "utils.run_ttest_quantiles('Unsafe', [0.25, 0.75], part_file, trial_file, idx=ids['text'])"
   ]
  },
  {
   "cell_type": "code",
   "execution_count": 23,
   "metadata": {},
   "outputs": [
    {
     "name": "stdout",
     "output_type": "stream",
     "text": [
      "TtestResult(statistic=-3.7357130085251193, pvalue=0.00032445312046758425, df=92.0)\n"
     ]
    }
   ],
   "source": [
    "utils.run_ttest_quantiles('Safe', [0.25, 0.75], part_file, trial_file, idx=ids['text'])"
   ]
  },
  {
   "cell_type": "code",
   "execution_count": 24,
   "metadata": {},
   "outputs": [
    {
     "name": "stdout",
     "output_type": "stream",
     "text": [
      "TtestResult(statistic=5.952522654434597, pvalue=5.0037872772396944e-08, df=90.0)\n"
     ]
    }
   ],
   "source": [
    "utils.run_ttest_quantiles('Crash', [0.25, 0.75], part_file, trial_file, idx=ids['full'])"
   ]
  },
  {
   "cell_type": "code",
   "execution_count": 25,
   "metadata": {},
   "outputs": [
    {
     "name": "stdout",
     "output_type": "stream",
     "text": [
      "TtestResult(statistic=1.680399992113654, pvalue=0.09634737767740048, df=90.0)\n"
     ]
    }
   ],
   "source": [
    "utils.run_ttest_quantiles('Unsafe', [0.25, 0.75], part_file, trial_file, idx=ids['full'])"
   ]
  },
  {
   "cell_type": "code",
   "execution_count": 26,
   "metadata": {},
   "outputs": [
    {
     "name": "stdout",
     "output_type": "stream",
     "text": [
      "TtestResult(statistic=-6.418463814719516, pvalue=6.306000288633041e-09, df=90.0)\n"
     ]
    }
   ],
   "source": [
    "utils.run_ttest_quantiles('Safe', [0.25, 0.75], part_file, trial_file, idx=ids['full'])"
   ]
  },
  {
   "cell_type": "code",
   "execution_count": 247,
   "metadata": {},
   "outputs": [],
   "source": [
    "outcome_counts_q4['safe_diffs'] = outcome_counts_q4['Safe'] - outcome_counts_q1['Safe']\n",
    "outcome_counts_q4['unsafe_diffs'] = outcome_counts_q4['Unsafe'] - outcome_counts_q1['Unsafe']\n",
    "outcome_counts_q4['crash_diffs'] = outcome_counts_q4['Crash'] - outcome_counts_q1['Crash']"
   ]
  },
  {
   "cell_type": "code",
   "execution_count": 248,
   "metadata": {},
   "outputs": [
    {
     "data": {
      "text/plain": [
       "F_onewayResult(statistic=1.2649347727221183, pvalue=0.2855330994390296)"
      ]
     },
     "execution_count": 248,
     "metadata": {},
     "output_type": "execute_result"
    }
   ],
   "source": [
    "stats.f_oneway(outcome_counts_q4[outcome_counts_q4['condition'] == 'score']['safe_diffs'],\n",
    "              outcome_counts_q4[outcome_counts_q4['condition'] == 'text']['safe_diffs'],\n",
    "              outcome_counts_q4[outcome_counts_q4['condition'] == 'full']['safe_diffs'])"
   ]
  },
  {
   "cell_type": "code",
   "execution_count": 249,
   "metadata": {},
   "outputs": [
    {
     "data": {
      "text/plain": [
       "KruskalResult(statistic=2.4724571350413926, pvalue=0.2904776716248768)"
      ]
     },
     "execution_count": 249,
     "metadata": {},
     "output_type": "execute_result"
    }
   ],
   "source": [
    "stats.kruskal(outcome_counts_q4[outcome_counts_q4['condition'] == 'score']['safe_diffs'],\n",
    "              outcome_counts_q4[outcome_counts_q4['condition'] == 'text']['safe_diffs'],\n",
    "              outcome_counts_q4[outcome_counts_q4['condition'] == 'full']['safe_diffs'])"
   ]
  },
  {
   "cell_type": "code",
   "execution_count": 250,
   "metadata": {},
   "outputs": [
    {
     "data": {
      "text/plain": [
       "F_onewayResult(statistic=1.759523461800475, pvalue=0.17599403880751385)"
      ]
     },
     "execution_count": 250,
     "metadata": {},
     "output_type": "execute_result"
    }
   ],
   "source": [
    "stats.f_oneway(outcome_counts_q4[outcome_counts_q4['condition'] == 'score']['unsafe_diffs'],\n",
    "              outcome_counts_q4[outcome_counts_q4['condition'] == 'text']['unsafe_diffs'],\n",
    "              outcome_counts_q4[outcome_counts_q4['condition'] == 'full']['unsafe_diffs'])"
   ]
  },
  {
   "cell_type": "code",
   "execution_count": 251,
   "metadata": {},
   "outputs": [
    {
     "data": {
      "text/plain": [
       "KruskalResult(statistic=3.8702532961464042, pvalue=0.14440597892638643)"
      ]
     },
     "execution_count": 251,
     "metadata": {},
     "output_type": "execute_result"
    }
   ],
   "source": [
    "stats.kruskal(outcome_counts_q4[outcome_counts_q4['condition'] == 'score']['unsafe_diffs'],\n",
    "              outcome_counts_q4[outcome_counts_q4['condition'] == 'text']['unsafe_diffs'],\n",
    "              outcome_counts_q4[outcome_counts_q4['condition'] == 'full']['unsafe_diffs'])"
   ]
  },
  {
   "cell_type": "code",
   "execution_count": 252,
   "metadata": {},
   "outputs": [
    {
     "data": {
      "text/plain": [
       "F_onewayResult(statistic=0.26900476844327365, pvalue=0.7645422838139977)"
      ]
     },
     "execution_count": 252,
     "metadata": {},
     "output_type": "execute_result"
    }
   ],
   "source": [
    "stats.f_oneway(outcome_counts_q4[outcome_counts_q4['condition'] == 'score']['crash_diffs'],\n",
    "              outcome_counts_q4[outcome_counts_q4['condition'] == 'text']['crash_diffs'],\n",
    "              outcome_counts_q4[outcome_counts_q4['condition'] == 'full']['crash_diffs'])"
   ]
  },
  {
   "cell_type": "code",
   "execution_count": 253,
   "metadata": {},
   "outputs": [
    {
     "data": {
      "text/plain": [
       "KruskalResult(statistic=0.5204944662009738, pvalue=0.7708609798923889)"
      ]
     },
     "execution_count": 253,
     "metadata": {},
     "output_type": "execute_result"
    }
   ],
   "source": [
    "stats.kruskal(outcome_counts_q4[outcome_counts_q4['condition'] == 'score']['crash_diffs'],\n",
    "              outcome_counts_q4[outcome_counts_q4['condition'] == 'text']['crash_diffs'],\n",
    "              outcome_counts_q4[outcome_counts_q4['condition'] == 'full']['crash_diffs'])"
   ]
  },
  {
   "cell_type": "code",
   "execution_count": 254,
   "metadata": {},
   "outputs": [
    {
     "data": {
      "text/html": [
       "<div>\n",
       "<style scoped>\n",
       "    .dataframe tbody tr th:only-of-type {\n",
       "        vertical-align: middle;\n",
       "    }\n",
       "\n",
       "    .dataframe tbody tr th {\n",
       "        vertical-align: top;\n",
       "    }\n",
       "\n",
       "    .dataframe thead th {\n",
       "        text-align: right;\n",
       "    }\n",
       "</style>\n",
       "<table border=\"1\" class=\"dataframe\">\n",
       "  <thead>\n",
       "    <tr style=\"text-align: right;\">\n",
       "      <th></th>\n",
       "      <th>crash_diffs</th>\n",
       "      <th>unsafe_diffs</th>\n",
       "      <th>safe_diffs</th>\n",
       "    </tr>\n",
       "    <tr>\n",
       "      <th>condition</th>\n",
       "      <th></th>\n",
       "      <th></th>\n",
       "      <th></th>\n",
       "    </tr>\n",
       "  </thead>\n",
       "  <tbody>\n",
       "    <tr>\n",
       "      <th>full</th>\n",
       "      <td>-1.391304</td>\n",
       "      <td>-0.413043</td>\n",
       "      <td>1.804348</td>\n",
       "    </tr>\n",
       "    <tr>\n",
       "      <th>score</th>\n",
       "      <td>-1.191489</td>\n",
       "      <td>-0.382979</td>\n",
       "      <td>1.595745</td>\n",
       "    </tr>\n",
       "    <tr>\n",
       "      <th>text</th>\n",
       "      <td>-1.404255</td>\n",
       "      <td>0.148936</td>\n",
       "      <td>1.255319</td>\n",
       "    </tr>\n",
       "  </tbody>\n",
       "</table>\n",
       "</div>"
      ],
      "text/plain": [
       "           crash_diffs  unsafe_diffs  safe_diffs\n",
       "condition                                       \n",
       "full         -1.391304     -0.413043    1.804348\n",
       "score        -1.191489     -0.382979    1.595745\n",
       "text         -1.404255      0.148936    1.255319"
      ]
     },
     "execution_count": 254,
     "metadata": {},
     "output_type": "execute_result"
    }
   ],
   "source": [
    "outcome_counts_q4.groupby('condition')[['crash_diffs','unsafe_diffs','safe_diffs']].mean()"
   ]
  },
  {
   "cell_type": "markdown",
   "metadata": {},
   "source": [
    "### Look at robustness and efficiency"
   ]
  },
  {
   "cell_type": "code",
   "execution_count": 264,
   "metadata": {},
   "outputs": [
    {
     "data": {
      "text/plain": [
       "{'left_boundary': {'max': -99999, 'min': 99999},\n",
       " 'right_boundary': {'max': -99999, 'min': 99999},\n",
       " 'top_boundary': {'max': -99999, 'min': 99999},\n",
       " 'bottom_boundary': {'max': -99999, 'min': 99999},\n",
       " 'landing_left': {'max': -99999, 'min': 99999},\n",
       " 'landing_right': {'max': -99999, 'min': 99999},\n",
       " 'landing_speed': {'max': -99999, 'min': 99999},\n",
       " 'landing_angle': {'max': -99999, 'min': 99999}}"
      ]
     },
     "execution_count": 264,
     "metadata": {},
     "output_type": "execute_result"
    }
   ],
   "source": [
    "# what are max and min values for the robustness and efficiency measures?\n",
    "robustness_cols = ['left_boundary',\t'right_boundary', 'top_boundary', 'bottom_boundary', 'landing_left', 'landing_right', 'landing_speed','landing_angle']\n",
    "robustness_files = glob.glob(f'{data_dir}*/*/robustness.csv')\n",
    "robustness_vals = {v : {'max':-99999, 'min':99999} for v in robustness_cols}\n",
    "robustness_vals"
   ]
  },
  {
   "cell_type": "code",
   "execution_count": 265,
   "metadata": {},
   "outputs": [
    {
     "ename": "TypeError",
     "evalue": "string indices must be integers",
     "output_type": "error",
     "traceback": [
      "\u001b[1;31m---------------------------------------------------------------------------\u001b[0m",
      "\u001b[1;31mTypeError\u001b[0m                                 Traceback (most recent call last)",
      "Cell \u001b[1;32mIn[265], line 4\u001b[0m\n\u001b[0;32m      2\u001b[0m df \u001b[38;5;241m=\u001b[39m pd\u001b[38;5;241m.\u001b[39mread_csv(f)\n\u001b[0;32m      3\u001b[0m \u001b[38;5;28;01mfor\u001b[39;00m col \u001b[38;5;129;01min\u001b[39;00m robustness_cols:\n\u001b[1;32m----> 4\u001b[0m     \u001b[38;5;28;01mif\u001b[39;00m \u001b[38;5;28mmin\u001b[39m(df[col]) \u001b[38;5;241m<\u001b[39m robustness_vals[\u001b[43mcol\u001b[49m\u001b[43m[\u001b[49m\u001b[38;5;124;43m'\u001b[39;49m\u001b[38;5;124;43mmin\u001b[39;49m\u001b[38;5;124;43m'\u001b[39;49m\u001b[43m]\u001b[49m]:\n\u001b[0;32m      5\u001b[0m         robustness_vals[col[\u001b[38;5;124m'\u001b[39m\u001b[38;5;124mmin\u001b[39m\u001b[38;5;124m'\u001b[39m]] \u001b[38;5;241m=\u001b[39m \u001b[38;5;28mmin\u001b[39m(df[col])\n\u001b[0;32m      6\u001b[0m     \u001b[38;5;28;01mif\u001b[39;00m \u001b[38;5;28mmax\u001b[39m(df[col]) \u001b[38;5;241m>\u001b[39m robustness_vals[col[\u001b[38;5;124m'\u001b[39m\u001b[38;5;124mmax\u001b[39m\u001b[38;5;124m'\u001b[39m]]:\n",
      "\u001b[1;31mTypeError\u001b[0m: string indices must be integers"
     ]
    }
   ],
   "source": [
    "for f in robustness_files:\n",
    "    df = pd.read_csv(f)\n",
    "    for col in robustness_cols:\n",
    "        if min(df[col]) < robustness_vals[col['min']]:\n",
    "            robustness_vals[col['min']] = min(df[col])\n",
    "        if max(df[col]) > robustness_vals[col['max']]:\n",
    "            robustness_vals[col['max']] = max(df[col])\n",
    "\n",
    "robustness_vals"
   ]
  },
  {
   "cell_type": "code",
   "execution_count": null,
   "metadata": {},
   "outputs": [],
   "source": [
    "f = robustness_files[0]\n"
   ]
  },
  {
   "cell_type": "code",
   "execution_count": null,
   "metadata": {},
   "outputs": [],
   "source": [
    "fig, ax = plt.subplots()\n",
    "n_trials = 20\n",
    "\n",
    "for i in range(len(score_ids)):\n",
    "    part = score_ids.iloc[i]\n",
    "    for trial in range(n_trials):\n",
    "        try:\n",
    "            outcome = data[data['trial'] == trial+1]['outcome'].values[0]\n",
    "            trial_data = pd.read_csv(f\"{data_dir}{part}/trial_{trial+1}/robustness.csv\")\n",
    "\n",
    "            if outcome == 'Safe':\n",
    "                ax.plot(trial, i, 'go')\n",
    "            elif outcome == 'Unsafe':\n",
    "                ax.plot(trial, i, 'ko')\n",
    "            else:\n",
    "                pass # don't graph anything for crashes\n",
    "        except:\n",
    "            print(f\"skipping participant {part} trial {trial}\")\n",
    "\n",
    "ax.set_aspect('equal')\n",
    "ax.set_title('Outcomes for score condition')\n",
    "plt.show()"
   ]
  },
  {
   "cell_type": "markdown",
   "metadata": {},
   "source": [
    "# Pulling out qualitative stuff"
   ]
  },
  {
   "cell_type": "markdown",
   "metadata": {},
   "source": [
    "Grab all the images. This only needs to be done once."
   ]
  },
  {
   "cell_type": "code",
   "execution_count": null,
   "metadata": {},
   "outputs": [],
   "source": [
    "utils.copy_images(part_file['prolific_id'])"
   ]
  }
 ],
 "metadata": {
  "kernelspec": {
   "display_name": "venv",
   "language": "python",
   "name": "python3"
  },
  "language_info": {
   "codemirror_mode": {
    "name": "ipython",
    "version": 3
   },
   "file_extension": ".py",
   "mimetype": "text/x-python",
   "name": "python",
   "nbconvert_exporter": "python",
   "pygments_lexer": "ipython3",
   "version": "3.10.4"
  }
 },
 "nbformat": 4,
 "nbformat_minor": 2
}

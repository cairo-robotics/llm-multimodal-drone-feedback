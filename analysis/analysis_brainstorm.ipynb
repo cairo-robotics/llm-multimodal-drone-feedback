{
 "cells": [
  {
   "cell_type": "markdown",
   "metadata": {},
   "source": [
    "# Run this on startup"
   ]
  },
  {
   "cell_type": "code",
   "execution_count": 1,
   "metadata": {},
   "outputs": [
    {
     "name": "stderr",
     "output_type": "stream",
     "text": [
      "C:\\Users\\Emily Jensen\\AppData\\Local\\Temp\\ipykernel_3776\\4080736814.py:1: DeprecationWarning: \n",
      "Pyarrow will become a required dependency of pandas in the next major release of pandas (pandas 3.0),\n",
      "(to allow more performant data types, such as the Arrow string type, and better interoperability with other libraries)\n",
      "but was not found to be installed on your system.\n",
      "If this would cause problems for you,\n",
      "please provide us feedback at https://github.com/pandas-dev/pandas/issues/54466\n",
      "        \n",
      "  import pandas as pd\n"
     ]
    }
   ],
   "source": [
    "import pandas as pd"
   ]
  },
  {
   "cell_type": "markdown",
   "metadata": {},
   "source": [
    "Open all of the relevant data files/directories"
   ]
  },
  {
   "cell_type": "code",
   "execution_count": 34,
   "metadata": {},
   "outputs": [],
   "source": [
    "data_dir = '../static/data/'\n",
    "\n",
    "conditions_file = data_dir + 'conditions.csv'\n",
    "conditions = pd.read_csv(conditions_file)\n",
    "\n",
    "exit_survey_file = data_dir + 'exit_survey.csv'\n",
    "exit_survey = pd.read_csv(exit_survey_file)"
   ]
  },
  {
   "cell_type": "markdown",
   "metadata": {},
   "source": [
    "Process qualtrics data as needed."
   ]
  },
  {
   "cell_type": "code",
   "execution_count": 35,
   "metadata": {},
   "outputs": [
    {
     "data": {
      "text/html": [
       "<div>\n",
       "<style scoped>\n",
       "    .dataframe tbody tr th:only-of-type {\n",
       "        vertical-align: middle;\n",
       "    }\n",
       "\n",
       "    .dataframe tbody tr th {\n",
       "        vertical-align: top;\n",
       "    }\n",
       "\n",
       "    .dataframe thead th {\n",
       "        text-align: right;\n",
       "    }\n",
       "</style>\n",
       "<table border=\"1\" class=\"dataframe\">\n",
       "  <thead>\n",
       "    <tr style=\"text-align: right;\">\n",
       "      <th></th>\n",
       "      <th>start_date</th>\n",
       "      <th>end_date</th>\n",
       "      <th>duration</th>\n",
       "      <th>is_finished</th>\n",
       "      <th>prolific_id</th>\n",
       "      <th>gender</th>\n",
       "      <th>age</th>\n",
       "      <th>drone_experience</th>\n",
       "      <th>video_game_experience</th>\n",
       "      <th>feedback_helped</th>\n",
       "      <th>change_from_feedback</th>\n",
       "      <th>comments</th>\n",
       "    </tr>\n",
       "  </thead>\n",
       "  <tbody>\n",
       "    <tr>\n",
       "      <th>2</th>\n",
       "      <td>2024-02-16 13:19:00</td>\n",
       "      <td>2024-02-16 13:44:00</td>\n",
       "      <td>1484</td>\n",
       "      <td>True</td>\n",
       "      <td>b</td>\n",
       "      <td>Woman</td>\n",
       "      <td>24</td>\n",
       "      <td>Some</td>\n",
       "      <td>Weekly</td>\n",
       "      <td>Agree</td>\n",
       "      <td>asd</td>\n",
       "      <td>asd</td>\n",
       "    </tr>\n",
       "    <tr>\n",
       "      <th>3</th>\n",
       "      <td>2024-02-20 11:39:00</td>\n",
       "      <td>2024-02-20 12:19:00</td>\n",
       "      <td>2394</td>\n",
       "      <td>True</td>\n",
       "      <td>Shivendra</td>\n",
       "      <td>Man</td>\n",
       "      <td>31</td>\n",
       "      <td>Some</td>\n",
       "      <td>None</td>\n",
       "      <td>Agree</td>\n",
       "      <td>Yes</td>\n",
       "      <td>NaN</td>\n",
       "    </tr>\n",
       "    <tr>\n",
       "      <th>4</th>\n",
       "      <td>2024-02-21 12:23:00</td>\n",
       "      <td>2024-02-21 12:24:00</td>\n",
       "      <td>53</td>\n",
       "      <td>True</td>\n",
       "      <td>8aksf09q</td>\n",
       "      <td>Man</td>\n",
       "      <td>19</td>\n",
       "      <td>None</td>\n",
       "      <td>None</td>\n",
       "      <td>Strongly Disagree</td>\n",
       "      <td>I hated this</td>\n",
       "      <td>NaN</td>\n",
       "    </tr>\n",
       "    <tr>\n",
       "      <th>5</th>\n",
       "      <td>2024-02-21 12:24:00</td>\n",
       "      <td>2024-02-21 12:25:00</td>\n",
       "      <td>24</td>\n",
       "      <td>True</td>\n",
       "      <td>apel09210h</td>\n",
       "      <td>Woman</td>\n",
       "      <td>76</td>\n",
       "      <td>Some</td>\n",
       "      <td>Monthly</td>\n",
       "      <td>Disagree</td>\n",
       "      <td>it was awesome</td>\n",
       "      <td>NaN</td>\n",
       "    </tr>\n",
       "    <tr>\n",
       "      <th>6</th>\n",
       "      <td>2024-02-21 12:25:00</td>\n",
       "      <td>2024-02-21 12:25:00</td>\n",
       "      <td>23</td>\n",
       "      <td>True</td>\n",
       "      <td>9sk3h59s</td>\n",
       "      <td>Non-binary</td>\n",
       "      <td>33</td>\n",
       "      <td>Regularly</td>\n",
       "      <td>Weekly</td>\n",
       "      <td>Neutral</td>\n",
       "      <td>meh</td>\n",
       "      <td>NaN</td>\n",
       "    </tr>\n",
       "    <tr>\n",
       "      <th>7</th>\n",
       "      <td>2024-02-21 12:25:00</td>\n",
       "      <td>2024-02-21 12:26:00</td>\n",
       "      <td>24</td>\n",
       "      <td>True</td>\n",
       "      <td>9wbnns76</td>\n",
       "      <td>Prefer not to say</td>\n",
       "      <td>25</td>\n",
       "      <td>Professional</td>\n",
       "      <td>Daily</td>\n",
       "      <td>Agree</td>\n",
       "      <td>a fake answer</td>\n",
       "      <td>NaN</td>\n",
       "    </tr>\n",
       "    <tr>\n",
       "      <th>8</th>\n",
       "      <td>2024-02-21 12:26:00</td>\n",
       "      <td>2024-02-21 12:26:00</td>\n",
       "      <td>22</td>\n",
       "      <td>True</td>\n",
       "      <td>s92hfks3</td>\n",
       "      <td>Man</td>\n",
       "      <td>44</td>\n",
       "      <td>Some</td>\n",
       "      <td>Weekly</td>\n",
       "      <td>Strongly Agree</td>\n",
       "      <td>what</td>\n",
       "      <td>NaN</td>\n",
       "    </tr>\n",
       "  </tbody>\n",
       "</table>\n",
       "</div>"
      ],
      "text/plain": [
       "           start_date            end_date  duration  is_finished prolific_id  \\\n",
       "2 2024-02-16 13:19:00 2024-02-16 13:44:00      1484         True           b   \n",
       "3 2024-02-20 11:39:00 2024-02-20 12:19:00      2394         True   Shivendra   \n",
       "4 2024-02-21 12:23:00 2024-02-21 12:24:00        53         True    8aksf09q   \n",
       "5 2024-02-21 12:24:00 2024-02-21 12:25:00        24         True  apel09210h   \n",
       "6 2024-02-21 12:25:00 2024-02-21 12:25:00        23         True    9sk3h59s   \n",
       "7 2024-02-21 12:25:00 2024-02-21 12:26:00        24         True    9wbnns76   \n",
       "8 2024-02-21 12:26:00 2024-02-21 12:26:00        22         True    s92hfks3   \n",
       "\n",
       "              gender  age drone_experience video_game_experience  \\\n",
       "2              Woman   24             Some                Weekly   \n",
       "3                Man   31             Some                  None   \n",
       "4                Man   19             None                  None   \n",
       "5              Woman   76             Some               Monthly   \n",
       "6         Non-binary   33        Regularly                Weekly   \n",
       "7  Prefer not to say   25     Professional                 Daily   \n",
       "8                Man   44             Some                Weekly   \n",
       "\n",
       "     feedback_helped change_from_feedback comments  \n",
       "2              Agree                  asd      asd  \n",
       "3              Agree                  Yes      NaN  \n",
       "4  Strongly Disagree         I hated this      NaN  \n",
       "5           Disagree       it was awesome      NaN  \n",
       "6            Neutral                  meh      NaN  \n",
       "7              Agree        a fake answer      NaN  \n",
       "8     Strongly Agree                 what      NaN  "
      ]
     },
     "execution_count": 35,
     "metadata": {},
     "output_type": "execute_result"
    }
   ],
   "source": [
    "qualtrics_columns = {\n",
    "    'StartDate': 'start_date',\n",
    "    'EndDate': 'end_date',\n",
    "    'Duration (in seconds)': 'duration',\n",
    "    'Finished': 'is_finished', # 1 is finished\n",
    "    'Q9': 'prolific_id', # user inputted prolific id\n",
    "    'Q1': 'gender', # mapping below\n",
    "    'Q8': 'age', # number input\n",
    "    'Q3': 'drone_experience', # mapping below\n",
    "    'Q4': 'video_game_experience', # mapping below\n",
    "    'Q5': 'feedback_helped', # likert mapping below\n",
    "    'Q6': 'change_from_feedback', # open text response\n",
    "    'Q7': 'comments' # open text response, optional\n",
    "}\n",
    "\n",
    "# rename columns\n",
    "exit_survey = exit_survey.rename(columns=qualtrics_columns)\n",
    "\n",
    "# remove extra columns and rows\n",
    "exit_survey = exit_survey.drop(columns=['Status', 'Progress', 'RecordedDate', 'ResponseId', 'DistributionChannel', 'UserLanguage'])\n",
    "exit_survey = exit_survey.drop([0,1])\n",
    "\n",
    "# set data types\n",
    "exit_survey['start_date'] = pd.to_datetime(exit_survey['start_date'])\n",
    "exit_survey['end_date'] = pd.to_datetime(exit_survey['end_date'])\n",
    "exit_survey['duration'] = pd.to_numeric(exit_survey['duration'])\n",
    "exit_survey['is_finished'] = exit_survey['is_finished'].astype(bool)\n",
    "exit_survey['age'] = pd.to_numeric(exit_survey['age'])\n",
    "\n",
    "# process categorical data\n",
    "gender_map = {'1': \"Man\", '2': \"Woman\", '3': \"Non-binary\", '4': \"Prefer not to say\"}\n",
    "exit_survey['gender'] = exit_survey['gender'].replace(gender_map)\n",
    "exit_survey['gender'] = pd.Categorical(exit_survey['gender'])\n",
    "\n",
    "drone_map = {'1': \"None\", '2': \"Some\", '3': \"Regularly\", '4': \"Professional\"}\n",
    "exit_survey['drone_experience'] = exit_survey['drone_experience'].replace(drone_map)\n",
    "exit_survey['drone_experience'] = pd.Categorical(exit_survey['drone_experience'], categories=['None', 'Some', 'Regularly', 'Professional'], ordered=True)\n",
    "\n",
    "game_map = {'1': \"None\", '2': \"Monthly\", '3': \"Weekly\", '4': \"Daily\"}\n",
    "exit_survey['video_game_experience'] = exit_survey['video_game_experience'].replace(game_map)\n",
    "exit_survey['video_game_experience'] = pd.Categorical(exit_survey['video_game_experience'], categories=['None', 'Monthly', 'Weekly', 'Daily'], ordered=True)\n",
    "\n",
    "likert_map = {'1': \"Strongly Disagree\", '2': \"Disagree\", '3': \"Neutral\", '4': \"Agree\", '5': \"Strongly Agree\"}\n",
    "exit_survey['feedback_helped'] = exit_survey['feedback_helped'].replace(likert_map)\n",
    "exit_survey['feedback_helped'] = pd.Categorical(exit_survey['feedback_helped'], categories=['Strongly Disagree', 'Disagree', 'Neutral', 'Agree', 'Strongly Agree'], ordered=True)\n",
    "\n",
    "exit_survey"
   ]
  },
  {
   "cell_type": "markdown",
   "metadata": {},
   "source": [
    "# Check participant data"
   ]
  },
  {
   "cell_type": "markdown",
   "metadata": {},
   "source": [
    "## Match data sources"
   ]
  },
  {
   "cell_type": "markdown",
   "metadata": {},
   "source": [
    "Do participants match between data from webpage and data from exit survey?"
   ]
  },
  {
   "cell_type": "code",
   "execution_count": 37,
   "metadata": {},
   "outputs": [
    {
     "name": "stdout",
     "output_type": "stream",
     "text": [
      "Web participants not in exit survey:\n",
      "\tbreanne\n",
      "\temily\n",
      "\temily\n",
      "\tShivendra Agrawal\n",
      "\temily\n",
      "\temily\n",
      "\temily\n",
      "\temily\n",
      "\temily\n",
      "\temily\n",
      "Exit survey participants not in web:\n",
      "\tb\n",
      "\tShivendra\n",
      "\t8aksf09q\n",
      "\tapel09210h\n",
      "\t9sk3h59s\n",
      "\t9wbnns76\n",
      "\ts92hfks3\n"
     ]
    }
   ],
   "source": [
    "web_participants = conditions['user_id']\n",
    "exit_survey_participants = exit_survey['prolific_id']\n",
    "\n",
    "# check if all web participants are in exit survey\n",
    "print(\"Web participants not in exit survey:\")\n",
    "for user_id in web_participants:\n",
    "    if user_id not in exit_survey_participants:\n",
    "        print(\"\\t\" + user_id)\n",
    "\n",
    "# check if all exit survey participants are in web\n",
    "print(\"Exit survey participants not in web:\")\n",
    "for user_id in exit_survey_participants:\n",
    "    if user_id not in web_participants:\n",
    "        print(\"\\t\" + user_id)"
   ]
  },
  {
   "cell_type": "markdown",
   "metadata": {},
   "source": [
    "Notes about manually fixing mismatches between web and exit survey data:\n",
    "- Example here"
   ]
  },
  {
   "cell_type": "markdown",
   "metadata": {},
   "source": [
    "## Distributions of demographic data"
   ]
  },
  {
   "cell_type": "code",
   "execution_count": 39,
   "metadata": {},
   "outputs": [
    {
     "data": {
      "text/plain": [
       "gender\n",
       "Man                  3\n",
       "Woman                2\n",
       "Non-binary           1\n",
       "Prefer not to say    1\n",
       "Name: count, dtype: int64"
      ]
     },
     "execution_count": 39,
     "metadata": {},
     "output_type": "execute_result"
    }
   ],
   "source": [
    "exit_survey['gender'].value_counts()\n"
   ]
  },
  {
   "cell_type": "code",
   "execution_count": 41,
   "metadata": {},
   "outputs": [
    {
     "data": {
      "text/plain": [
       "count     7.0\n",
       "mean     36.0\n",
       "std      19.4\n",
       "min      19.0\n",
       "25%      24.5\n",
       "50%      31.0\n",
       "75%      38.5\n",
       "max      76.0\n",
       "Name: age, dtype: float64"
      ]
     },
     "execution_count": 41,
     "metadata": {},
     "output_type": "execute_result"
    }
   ],
   "source": [
    "exit_survey['age'].describe().round(1)"
   ]
  },
  {
   "cell_type": "code",
   "execution_count": 50,
   "metadata": {},
   "outputs": [
    {
     "data": {
      "text/plain": [
       "drone_experience\n",
       "None            1\n",
       "Some            4\n",
       "Regularly       1\n",
       "Professional    1\n",
       "Name: count, dtype: int64"
      ]
     },
     "execution_count": 50,
     "metadata": {},
     "output_type": "execute_result"
    }
   ],
   "source": [
    "exit_survey['drone_experience'].value_counts().sort_index()"
   ]
  },
  {
   "cell_type": "code",
   "execution_count": 49,
   "metadata": {},
   "outputs": [
    {
     "data": {
      "text/plain": [
       "video_game_experience\n",
       "None       2\n",
       "Monthly    1\n",
       "Weekly     3\n",
       "Daily      1\n",
       "Name: count, dtype: int64"
      ]
     },
     "execution_count": 49,
     "metadata": {},
     "output_type": "execute_result"
    }
   ],
   "source": [
    "exit_survey['video_game_experience'].value_counts().sort_index()"
   ]
  },
  {
   "cell_type": "code",
   "execution_count": 48,
   "metadata": {},
   "outputs": [
    {
     "data": {
      "text/plain": [
       "feedback_helped\n",
       "Strongly Disagree    1\n",
       "Disagree             1\n",
       "Neutral              1\n",
       "Agree                3\n",
       "Strongly Agree       1\n",
       "Name: count, dtype: int64"
      ]
     },
     "execution_count": 48,
     "metadata": {},
     "output_type": "execute_result"
    }
   ],
   "source": [
    "exit_survey['feedback_helped'].value_counts().sort_index()"
   ]
  },
  {
   "cell_type": "markdown",
   "metadata": {},
   "source": [
    "# Research Questions"
   ]
  },
  {
   "cell_type": "markdown",
   "metadata": {},
   "source": [
    "## How do learners perceive the feedback along each dimension?"
   ]
  },
  {
   "cell_type": "markdown",
   "metadata": {},
   "source": [
    "## Which feedback modality leads to higher performance improvements?"
   ]
  },
  {
   "cell_type": "markdown",
   "metadata": {},
   "source": []
  }
 ],
 "metadata": {
  "kernelspec": {
   "display_name": "venv",
   "language": "python",
   "name": "python3"
  },
  "language_info": {
   "codemirror_mode": {
    "name": "ipython",
    "version": 3
   },
   "file_extension": ".py",
   "mimetype": "text/x-python",
   "name": "python",
   "nbconvert_exporter": "python",
   "pygments_lexer": "ipython3",
   "version": "3.10.4"
  }
 },
 "nbformat": 4,
 "nbformat_minor": 2
}

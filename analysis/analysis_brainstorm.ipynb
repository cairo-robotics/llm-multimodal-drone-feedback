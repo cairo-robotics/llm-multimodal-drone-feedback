{
 "cells": [
  {
   "cell_type": "markdown",
   "metadata": {},
   "source": [
    "# Imports"
   ]
  },
  {
   "cell_type": "code",
   "execution_count": 39,
   "metadata": {},
   "outputs": [],
   "source": [
    "import warnings\n",
    "warnings.filterwarnings(\"ignore\")\n",
    "\n",
    "import pandas as pd\n",
    "import os\n",
    "import shutil\n",
    "import scipy.stats as stats\n",
    "import scikit_posthocs as sp\n",
    "import statsmodels.api as sm\n",
    "from statsmodels.miscmodels.ordinal_model import OrderedModel"
   ]
  },
  {
   "cell_type": "markdown",
   "metadata": {},
   "source": [
    "Open all of the relevant data files/directories\n",
    "\n",
    "Emily downloaded the final data and Qualtrics surveys on 4/16/24"
   ]
  },
  {
   "cell_type": "markdown",
   "metadata": {},
   "source": [
    "Qualtrics export settings:\n",
    "\n",
    "<img src=\"qualtrics_export_settings.png\" alt=\"Qualtrics Export Settings\" width=\"500px\">"
   ]
  },
  {
   "cell_type": "code",
   "execution_count": 2,
   "metadata": {},
   "outputs": [],
   "source": [
    "data_dir = 'C:/Users/Emily Jensen/OneDrive - UCB-O365/Drone Feedback Data/data/'\n",
    "\n",
    "conditions_file = data_dir + 'conditions.csv'\n",
    "conditions = pd.read_csv(conditions_file)\n",
    "\n",
    "exit_survey_file = data_dir + 'exit_survey.csv'\n",
    "exit_survey = pd.read_csv(exit_survey_file)"
   ]
  },
  {
   "cell_type": "markdown",
   "metadata": {},
   "source": [
    "# Data Cleaning"
   ]
  },
  {
   "cell_type": "markdown",
   "metadata": {},
   "source": [
    "## Set participant info data types and remove test data"
   ]
  },
  {
   "cell_type": "code",
   "execution_count": null,
   "metadata": {},
   "outputs": [],
   "source": [
    "# list each column and its data type\n",
    "print(conditions.dtypes)"
   ]
  },
  {
   "cell_type": "code",
   "execution_count": 3,
   "metadata": {},
   "outputs": [
    {
     "name": "stdout",
     "output_type": "stream",
     "text": [
      "time         datetime64[ns]\n",
      "user_id              object\n",
      "condition          category\n",
      "dtype: object\n"
     ]
    }
   ],
   "source": [
    "# make time column a datetime object\n",
    "conditions['time'] = pd.to_datetime(conditions['time'])\n",
    "\n",
    "# make condition column a category\n",
    "conditions['condition'] = conditions['condition'].astype('category')\n",
    "\n",
    "print(conditions.dtypes)"
   ]
  },
  {
   "cell_type": "code",
   "execution_count": 4,
   "metadata": {},
   "outputs": [
    {
     "name": "stdout",
     "output_type": "stream",
     "text": [
      "218\n"
     ]
    }
   ],
   "source": [
    "# remove entries that happened before 11:15am on 2024-04-10\n",
    "# this is when we launched the first experiment condition\n",
    "conditions = conditions[conditions['time'] >= '2024-04-10 11:15:00']\n",
    "\n",
    "# remove any entries where user_id includes 'emily'\n",
    "conditions = conditions[~conditions['user_id'].str.contains('emily')]\n",
    "\n",
    "print(len(conditions))"
   ]
  },
  {
   "cell_type": "code",
   "execution_count": 5,
   "metadata": {},
   "outputs": [
    {
     "name": "stdout",
     "output_type": "stream",
     "text": [
      "['5f84d512acba571a2bdda680' '5760a995f371330006a47cb3'\n",
      " '5eb4955dab41e130f24d08c9' '640156a5f2395bf80ca0c451'\n",
      " '6413599c09e145dd93c7aeac' '5f2dc46d6fa1250ee8a1a15d'\n",
      " '60fde5e29e585481874a9d16' '6526a14c3f9823cccedb7687'\n",
      " '62d1228fcd446896ce7c9ec0' '63e688adbc8788de6d596c93'\n",
      " '61036bbd791964fafe65236a' '63d79e5ecdcf4d0dbd646bf6'\n",
      " '5dccb82a76eab294aa4837ff' '5d34d17089232600011ade3a'\n",
      " '6113a1bd2592fc45dff695a2' '6108614d6f2cdb85bd396d6e'\n",
      " '56bae08f30d6b30005f8537a' '612e41fb25de530ea83df0bc'\n",
      " '5f888877136ad50208b48b47' '65cba99c92b362b45e414da7'\n",
      " '62c50bf9b7587ff5073cd7fb' '63b6dfb29118fec2d923f8c3'\n",
      " '654d0bd1f4ba143e0503a02f' '5f5fa5d24b9f98028f4090e7'\n",
      " '5dce3ccc32ccbf0cd54263db' '611291090e626fdfde536f38'\n",
      " '62e185484154c451882a8a3d' '60d76140337e60ae26f7fce9'\n",
      " '6333c1f5756acfabfde457ed' '60b7bd75af8c92afa748324f'\n",
      " '60255901704fd208ecdcf32b' '63626a68cf44b4184483c8e8'\n",
      " '614e664d1657383cbf801e52' '610803b9ce5f71efbd6e1722'\n",
      " '5700be5c8a49c7000e0c768f' '5d9b866189c03c001540eff1'\n",
      " '626966a12d29060d48439d01' '63ed0ed001893f9028e06e41'\n",
      " '5de6eca0a91be366cbb5ffe2' '5f513339b2c26c338771f1d0'\n",
      " '5b824fb6cc06660001a302d4' '63b4a880e615d21a58306118'\n",
      " '5efcaaee74e56207d16db007' '5f35cd449bf003039842077f'\n",
      " '5b75b2ebc5e14d00013669fc' '643b53b6aeaabf186d24e099'\n",
      " '5de6766e89d6b4000f71bc0d' '629658baad2881aba974c6c3'\n",
      " '646b9dd602296866debaec41' '62d9e46fded6a6209a518499'\n",
      " '60580179f67fdaeb815ab9fc' '5dea7a7df87f5519e686ff7b'\n",
      " '5e93e2a7a5de13720dffc7f9' '62bc3401dc67c7598dbba4a6'\n",
      " '5a6cc406d5d4cb0001d664aa' '6266b4ea9408fc167507d923'\n",
      " '5b0fa626bd9c310001568d6c' '5c4684826a7dbc00017c0a87'\n",
      " '655f90dc3ab2904c2db16f42' '6596a5cad60ef105b6c18897'\n",
      " '64d8bb260860973a90493f15' '65103993db511843e8ed8285'\n",
      " '65c10c2abe42175a96e3ef2f' '5c12b0ba17e18d0001e7629e'\n",
      " '659eea0011db3620094caa90' '60c2b160526d0ae3b07ca006'\n",
      " '5c588d147831040001973ab3' '5ed6b2dd7478e0122030e7ff'\n",
      " '63614a46bd1e8547e0a8b8ba' '643c6175d46d41e74033994f'\n",
      " '65a8e09cb517c52021059686' '5f6666e43be0b923d23c8df8'\n",
      " '6105c41aa4fe602501d5a8cc' '61bb3a5340db417c1a138ffc'\n",
      " '60fcc292d13ae9614d4a77a7' '5e153f25dc79bdb5290738bd'\n",
      " '60e9c78a617cbabf4732fee6' '5efe46699aca1b332ff927bc'\n",
      " '64dbb43e8bfa212e6da507e5' '652b45ca9fb27ba9325a99cd'\n",
      " '655f9d1c94dedff4c7b786e8' '5ba3223a68b542000112c1b6'\n",
      " '5f5fef6ce0809f0d5b3cde5c' '62daa52d86e66e5feaf3bc15'\n",
      " '63ea5b93d1c6d38e1f57dcfa' '652ab7948cb59f4c50c7972a'\n",
      " '65608f82fbcd84adaf29427b' '64d6ce5da504fd69ac11e7c4'\n",
      " '65a5372ee7a6f4f7ed04f2e6' '5d44afdcad6d110019b0a960'\n",
      " '65a4333efc75f965e7fc0cb5' '5f5834134283933a1c3b42d0'\n",
      " '652eba765a354b18c33ce55d' '5e5023405c27990580d81c72'\n",
      " '5a6eac90d5d4cb0001d6815a' '614c86f68018ec28d1550e76'\n",
      " '6516fc85c3f5d2912d6518f6' '646691e373f0424399e2de28'\n",
      " '587674406e2f8d00015c6148' '63ba10de73415d047e1d6731'\n",
      " '633f63a85f73534dbcfa5ae5' '63026a8fd8429b224cd2a134'\n",
      " '559d9916fdf99b1e2b2dc6b8' '60fdf01326f76cc0c5be3d2f'\n",
      " '6466a623d58139575eb88c6c' '6103975ca7d27831aba29dfb'\n",
      " '590eb4006d77630001d3a28a' '5fe0d610dd8cf1a331961cbe'\n",
      " '5f16c677bc5f86028f33fc62' '63034df51d918e1e3b97e5ce'\n",
      " '5b1f185488ee7400012b4b5c' '5c4ea7c3889752000156ddc5'\n",
      " '6537d3aef0f4a4896f7c3ae9' '591648cf6ddd3b00016424ca'\n",
      " '5f5aa60bef062519ff711fe6' '569b36e3af9ad70006640dd9'\n",
      " '5bfff7c02213be0001c2c7cf' '65a03d9edc0d74b929e38a76'\n",
      " '637d4196c70a66e28ecede34' '602c42fcd6ab3e5033c45951'\n",
      " '5f1b84872171f838a8a3cfa9' '5e52a7cc53ecf12b883e1e1f'\n",
      " '646f74e17638d9361ed60551' '5c570f52b45c6600010b6d1e'\n",
      " '6095fc75ab1d101e060d808b' '5fc5e7f29b30921814e73ea1'\n",
      " '5c3d040cc2d0b700017c715b' '5bd612ce860b840001dc1a74'\n",
      " '5bd49bcc25db7b0001794063' '631f1b608af38f654d2a3b1f'\n",
      " '630d42ab004b0f34fcf4b52e' '5c1a0a74cdd50e00014c7f75'\n",
      " '5bc934c69427200001dd4ef2' '5b22f24c38fc0c0001313ea8'\n",
      " '5fab76ecea3019678ca9ef4d' '659f1e6392a74cfe36923af7'\n",
      " '641361334c91a0c6ff4c5b79' '610796f1301fccdca446af57'\n",
      " '65c1779a3f438c1cdcd9641a' '5ee38ef98c0c440172e022ac'\n",
      " '5e164e81502213c397f0cf39' '5deaa726df55eb1cc1b9474f'\n",
      " '5c2965d11c8e4c0001b309b7' '6580563ab7a54f1d93ec09f3'\n",
      " '5e076e0c53e8461018058048' '62795175ca262157d4c321c2'\n",
      " '633f4f203450d46b01e3d16b' '62ea3271cc6c19525f896495'\n",
      " '628d78a2ccf4a41f24c2d2d8' '5f336ae68853aa176a3f0267'\n",
      " '63fceba525d21052bc1ee390' '6107a4b7744b9b0ca7328cee'\n",
      " '65cefb1a4565306b90516a56' '5b6a87d2cda8590001db8e07'\n",
      " '5f4825050fc6402cb19feade' '5f4000a47ed89c0e7f2e3760'\n",
      " '5c90094e71f3100016181ea9' '642c4f6e95f13dc4c1b54712'\n",
      " '5dee8ee31255595293a9906b' '5a5ec648eedc32000142ce86'\n",
      " '6101ea05dc5f3b0d1df5ccff' '5ef78f819d93424af2af742b'\n",
      " '5834a80a106ee1000120abd3' '5ef9f528c7ae587afa25fe9b'\n",
      " '5e4465013f75e52fc82f7096' '6286d3ac3a161dab706a695c'\n",
      " '63d485aaf47a463859d6c9c0' '58ee956a575c01000180b080'\n",
      " '65ede6b8d079917c5421785e' '5ea237d872cd2a144b99a177'\n",
      " '60fefe875a7f07ec491382f7' '5d4fc7b44ec90b0017218453'\n",
      " '61735e55ab7dfe9f9e48cb87' '5e7a5c9d7567f003b57b85e9'\n",
      " '6522a86994a5ce0d7bb9feba' '6341b95632265cb75975ae2c'\n",
      " '5ab6cbbbf69e940001d8e446' '6148ea50509c9ce6c1f023c0'\n",
      " '6388b6c86e47b08e1eded1fd' '6400dc9f84ed19aeedc1a2cc'\n",
      " '63fd0a7da4c0df409be0a784' '5f90581950d8520e8c7d3890'\n",
      " '6433027685899f1cfc35e39e' '632ff41f3631baf749984e3e'\n",
      " '5f88877885e51d02acd71b12' '5e5de7a9151524109818ad6a'\n",
      " '59a1ddac5dfd6b000152601f' '6174b049932ee98236563b51'\n",
      " '64abee38a80dfb5e45212487']\n"
     ]
    }
   ],
   "source": [
    "# looks like we retain just prolific ids\n",
    "# this includes people who dropped out\n",
    "print(conditions['user_id'].unique())"
   ]
  },
  {
   "cell_type": "code",
   "execution_count": 6,
   "metadata": {},
   "outputs": [],
   "source": [
    "qualtrics_columns = {\n",
    "    'StartDate': 'start_date',\n",
    "    'EndDate': 'end_date',\n",
    "    'Duration (in seconds)': 'duration',\n",
    "    'Finished': 'is_finished', # 1 is finished\n",
    "    'Q9': 'prolific_id', # user inputted prolific id\n",
    "    'Q1': 'gender', # mapping below\n",
    "    'Q8': 'age', # number input\n",
    "    'Q3': 'drone_experience', # mapping below\n",
    "    'Q4': 'video_game_experience', # mapping below\n",
    "    'Q5': 'feedback_helped', # likert mapping below\n",
    "    'Q6': 'change_from_feedback', # open text response\n",
    "    'Q7': 'comments' # open text response, optional\n",
    "}\n",
    "\n",
    "# rename columns\n",
    "exit_survey = exit_survey.rename(columns=qualtrics_columns)\n",
    "\n",
    "# remove extra columns and rows\n",
    "exit_survey = exit_survey.drop(columns=['Status', 'Progress', 'RecordedDate', 'ResponseId', 'DistributionChannel', 'UserLanguage'])\n",
    "exit_survey = exit_survey.drop([0,1])\n",
    "\n",
    "# set data types\n",
    "exit_survey['start_date'] = pd.to_datetime(exit_survey['start_date'])\n",
    "exit_survey['end_date'] = pd.to_datetime(exit_survey['end_date'])\n",
    "exit_survey['duration'] = pd.to_numeric(exit_survey['duration'])\n",
    "exit_survey['is_finished'] = exit_survey['is_finished'].astype(bool)\n",
    "exit_survey['age'] = pd.to_numeric(exit_survey['age'])"
   ]
  },
  {
   "cell_type": "code",
   "execution_count": 7,
   "metadata": {},
   "outputs": [
    {
     "name": "stdout",
     "output_type": "stream",
     "text": [
      "148\n"
     ]
    }
   ],
   "source": [
    "# remove entries that happened before 11:15am on 2024-04-10\n",
    "# this is when we launched the first experiment condition\n",
    "exit_survey = exit_survey[exit_survey['start_date'] >= '2024-04-10 11:15:00']\n",
    "\n",
    "# remove any entries where prolific_id includes 'emily'\n",
    "exit_survey = exit_survey[~exit_survey['prolific_id'].str.contains('emily')]\n",
    "\n",
    "print(len(exit_survey))"
   ]
  },
  {
   "cell_type": "code",
   "execution_count": null,
   "metadata": {},
   "outputs": [],
   "source": [
    "# looks like we retain just prolific ids\n",
    "# this does not include people who dropped out\n",
    "print(exit_survey['prolific_id'].unique())"
   ]
  },
  {
   "cell_type": "code",
   "execution_count": 8,
   "metadata": {},
   "outputs": [
    {
     "data": {
      "text/html": [
       "<div>\n",
       "<style scoped>\n",
       "    .dataframe tbody tr th:only-of-type {\n",
       "        vertical-align: middle;\n",
       "    }\n",
       "\n",
       "    .dataframe tbody tr th {\n",
       "        vertical-align: top;\n",
       "    }\n",
       "\n",
       "    .dataframe thead th {\n",
       "        text-align: right;\n",
       "    }\n",
       "</style>\n",
       "<table border=\"1\" class=\"dataframe\">\n",
       "  <thead>\n",
       "    <tr style=\"text-align: right;\">\n",
       "      <th></th>\n",
       "      <th>start_date</th>\n",
       "      <th>end_date</th>\n",
       "      <th>duration</th>\n",
       "      <th>is_finished</th>\n",
       "      <th>prolific_id</th>\n",
       "      <th>gender</th>\n",
       "      <th>age</th>\n",
       "      <th>drone_experience</th>\n",
       "      <th>video_game_experience</th>\n",
       "      <th>feedback_helped</th>\n",
       "      <th>change_from_feedback</th>\n",
       "      <th>comments</th>\n",
       "      <th>feedback_helped_collapsed</th>\n",
       "    </tr>\n",
       "  </thead>\n",
       "  <tbody>\n",
       "    <tr>\n",
       "      <th>3</th>\n",
       "      <td>2024-04-10 11:35:59</td>\n",
       "      <td>2024-04-10 11:59:47</td>\n",
       "      <td>1428</td>\n",
       "      <td>True</td>\n",
       "      <td>5eb4955dab41e130f24d08c9</td>\n",
       "      <td>Woman</td>\n",
       "      <td>48</td>\n",
       "      <td>None</td>\n",
       "      <td>Weekly</td>\n",
       "      <td>Strongly Agree</td>\n",
       "      <td>I did change my technique, I started going up ...</td>\n",
       "      <td>NaN</td>\n",
       "      <td>Agree</td>\n",
       "    </tr>\n",
       "    <tr>\n",
       "      <th>4</th>\n",
       "      <td>2024-04-10 11:39:03</td>\n",
       "      <td>2024-04-10 12:11:03</td>\n",
       "      <td>1919</td>\n",
       "      <td>True</td>\n",
       "      <td>640156a5f2395bf80ca0c451</td>\n",
       "      <td>Man</td>\n",
       "      <td>33</td>\n",
       "      <td>None</td>\n",
       "      <td>Daily</td>\n",
       "      <td>Disagree</td>\n",
       "      <td>I tried to take into account what it was sayin...</td>\n",
       "      <td>NaN</td>\n",
       "      <td>Disagree</td>\n",
       "    </tr>\n",
       "    <tr>\n",
       "      <th>5</th>\n",
       "      <td>2024-04-10 11:21:24</td>\n",
       "      <td>2024-04-10 12:15:07</td>\n",
       "      <td>3222</td>\n",
       "      <td>True</td>\n",
       "      <td>5760a995f371330006a47cb3</td>\n",
       "      <td>Woman</td>\n",
       "      <td>33</td>\n",
       "      <td>None</td>\n",
       "      <td>Daily</td>\n",
       "      <td>Neutral</td>\n",
       "      <td>Yes. I began to tap buttons instead of holding...</td>\n",
       "      <td>NaN</td>\n",
       "      <td>Neutral</td>\n",
       "    </tr>\n",
       "    <tr>\n",
       "      <th>6</th>\n",
       "      <td>2024-04-10 11:58:31</td>\n",
       "      <td>2024-04-10 12:18:50</td>\n",
       "      <td>1218</td>\n",
       "      <td>True</td>\n",
       "      <td>5f2dc46d6fa1250ee8a1a15d</td>\n",
       "      <td>Woman</td>\n",
       "      <td>37</td>\n",
       "      <td>None</td>\n",
       "      <td>None</td>\n",
       "      <td>Neutral</td>\n",
       "      <td>It was easier for me to adjust based on my con...</td>\n",
       "      <td>NaN</td>\n",
       "      <td>Neutral</td>\n",
       "    </tr>\n",
       "    <tr>\n",
       "      <th>7</th>\n",
       "      <td>2024-04-10 11:59:20</td>\n",
       "      <td>2024-04-10 12:21:20</td>\n",
       "      <td>1320</td>\n",
       "      <td>True</td>\n",
       "      <td>60fde5e29e585481874a9d16</td>\n",
       "      <td>Non-binary</td>\n",
       "      <td>41</td>\n",
       "      <td>None</td>\n",
       "      <td>Monthly</td>\n",
       "      <td>Agree</td>\n",
       "      <td>i figured out how to slow the drone down befor...</td>\n",
       "      <td>NaN</td>\n",
       "      <td>Agree</td>\n",
       "    </tr>\n",
       "    <tr>\n",
       "      <th>8</th>\n",
       "      <td>2024-04-10 12:03:02</td>\n",
       "      <td>2024-04-10 12:24:52</td>\n",
       "      <td>1310</td>\n",
       "      <td>True</td>\n",
       "      <td>62d1228fcd446896ce7c9ec0</td>\n",
       "      <td>Man</td>\n",
       "      <td>31</td>\n",
       "      <td>None</td>\n",
       "      <td>Weekly</td>\n",
       "      <td>Neutral</td>\n",
       "      <td>No</td>\n",
       "      <td>no</td>\n",
       "      <td>Neutral</td>\n",
       "    </tr>\n",
       "    <tr>\n",
       "      <th>9</th>\n",
       "      <td>2024-04-10 12:00:10</td>\n",
       "      <td>2024-04-10 12:34:04</td>\n",
       "      <td>2034</td>\n",
       "      <td>True</td>\n",
       "      <td>6526a14c3f9823cccedb7687</td>\n",
       "      <td>Woman</td>\n",
       "      <td>46</td>\n",
       "      <td>None</td>\n",
       "      <td>None</td>\n",
       "      <td>Strongly Agree</td>\n",
       "      <td>Showing where I overcompensated and suggesting...</td>\n",
       "      <td>This was fun, thanks. If this will actually be...</td>\n",
       "      <td>Agree</td>\n",
       "    </tr>\n",
       "    <tr>\n",
       "      <th>10</th>\n",
       "      <td>2024-04-10 12:07:18</td>\n",
       "      <td>2024-04-10 12:38:48</td>\n",
       "      <td>1889</td>\n",
       "      <td>True</td>\n",
       "      <td>63e688adbc8788de6d596c93</td>\n",
       "      <td>Woman</td>\n",
       "      <td>45</td>\n",
       "      <td>None</td>\n",
       "      <td>Monthly</td>\n",
       "      <td>Agree</td>\n",
       "      <td>The feedback helped me know what to work on to...</td>\n",
       "      <td>NaN</td>\n",
       "      <td>Agree</td>\n",
       "    </tr>\n",
       "    <tr>\n",
       "      <th>11</th>\n",
       "      <td>2024-04-10 12:20:59</td>\n",
       "      <td>2024-04-10 12:43:45</td>\n",
       "      <td>1366</td>\n",
       "      <td>True</td>\n",
       "      <td>5f888877136ad50208b48b47</td>\n",
       "      <td>Man</td>\n",
       "      <td>23</td>\n",
       "      <td>None</td>\n",
       "      <td>Monthly</td>\n",
       "      <td>Agree</td>\n",
       "      <td>Feedbacks were very similar</td>\n",
       "      <td>NaN</td>\n",
       "      <td>Agree</td>\n",
       "    </tr>\n",
       "    <tr>\n",
       "      <th>12</th>\n",
       "      <td>2024-04-10 12:12:43</td>\n",
       "      <td>2024-04-10 12:44:32</td>\n",
       "      <td>1909</td>\n",
       "      <td>True</td>\n",
       "      <td>5d34d17089232600011ade3a</td>\n",
       "      <td>Man</td>\n",
       "      <td>35</td>\n",
       "      <td>None</td>\n",
       "      <td>Weekly</td>\n",
       "      <td>Strongly Agree</td>\n",
       "      <td>Towards the end, i started getting too confide...</td>\n",
       "      <td>No technical issues with this survey</td>\n",
       "      <td>Agree</td>\n",
       "    </tr>\n",
       "  </tbody>\n",
       "</table>\n",
       "</div>"
      ],
      "text/plain": [
       "            start_date            end_date  duration  is_finished  \\\n",
       "3  2024-04-10 11:35:59 2024-04-10 11:59:47      1428         True   \n",
       "4  2024-04-10 11:39:03 2024-04-10 12:11:03      1919         True   \n",
       "5  2024-04-10 11:21:24 2024-04-10 12:15:07      3222         True   \n",
       "6  2024-04-10 11:58:31 2024-04-10 12:18:50      1218         True   \n",
       "7  2024-04-10 11:59:20 2024-04-10 12:21:20      1320         True   \n",
       "8  2024-04-10 12:03:02 2024-04-10 12:24:52      1310         True   \n",
       "9  2024-04-10 12:00:10 2024-04-10 12:34:04      2034         True   \n",
       "10 2024-04-10 12:07:18 2024-04-10 12:38:48      1889         True   \n",
       "11 2024-04-10 12:20:59 2024-04-10 12:43:45      1366         True   \n",
       "12 2024-04-10 12:12:43 2024-04-10 12:44:32      1909         True   \n",
       "\n",
       "                 prolific_id      gender  age drone_experience  \\\n",
       "3   5eb4955dab41e130f24d08c9       Woman   48             None   \n",
       "4   640156a5f2395bf80ca0c451         Man   33             None   \n",
       "5   5760a995f371330006a47cb3       Woman   33             None   \n",
       "6   5f2dc46d6fa1250ee8a1a15d       Woman   37             None   \n",
       "7   60fde5e29e585481874a9d16  Non-binary   41             None   \n",
       "8   62d1228fcd446896ce7c9ec0         Man   31             None   \n",
       "9   6526a14c3f9823cccedb7687       Woman   46             None   \n",
       "10  63e688adbc8788de6d596c93       Woman   45             None   \n",
       "11  5f888877136ad50208b48b47         Man   23             None   \n",
       "12  5d34d17089232600011ade3a         Man   35             None   \n",
       "\n",
       "   video_game_experience feedback_helped  \\\n",
       "3                 Weekly  Strongly Agree   \n",
       "4                  Daily        Disagree   \n",
       "5                  Daily         Neutral   \n",
       "6                   None         Neutral   \n",
       "7                Monthly           Agree   \n",
       "8                 Weekly         Neutral   \n",
       "9                   None  Strongly Agree   \n",
       "10               Monthly           Agree   \n",
       "11               Monthly           Agree   \n",
       "12                Weekly  Strongly Agree   \n",
       "\n",
       "                                 change_from_feedback  \\\n",
       "3   I did change my technique, I started going up ...   \n",
       "4   I tried to take into account what it was sayin...   \n",
       "5   Yes. I began to tap buttons instead of holding...   \n",
       "6   It was easier for me to adjust based on my con...   \n",
       "7   i figured out how to slow the drone down befor...   \n",
       "8                                                  No   \n",
       "9   Showing where I overcompensated and suggesting...   \n",
       "10  The feedback helped me know what to work on to...   \n",
       "11                        Feedbacks were very similar   \n",
       "12  Towards the end, i started getting too confide...   \n",
       "\n",
       "                                             comments  \\\n",
       "3                                                 NaN   \n",
       "4                                                 NaN   \n",
       "5                                                 NaN   \n",
       "6                                                 NaN   \n",
       "7                                                 NaN   \n",
       "8                                                  no   \n",
       "9   This was fun, thanks. If this will actually be...   \n",
       "10                                                NaN   \n",
       "11                                                NaN   \n",
       "12               No technical issues with this survey   \n",
       "\n",
       "   feedback_helped_collapsed  \n",
       "3                      Agree  \n",
       "4                   Disagree  \n",
       "5                    Neutral  \n",
       "6                    Neutral  \n",
       "7                      Agree  \n",
       "8                    Neutral  \n",
       "9                      Agree  \n",
       "10                     Agree  \n",
       "11                     Agree  \n",
       "12                     Agree  "
      ]
     },
     "execution_count": 8,
     "metadata": {},
     "output_type": "execute_result"
    }
   ],
   "source": [
    "# process categorical data\n",
    "exit_survey['gender'] = pd.Categorical(exit_survey['gender'])\n",
    "\n",
    "drone_map = {'I have never flown a drone': \"None\", \n",
    "             'I have tried flying a drone a few times': \"Some\", \n",
    "             'I regularly fly drones': \"Regularly\", \n",
    "             'I am an expert or professional drone pilot': \"Professional\"}\n",
    "exit_survey['drone_experience'] = exit_survey['drone_experience'].replace(drone_map)\n",
    "exit_survey['drone_experience'] = pd.Categorical(exit_survey['drone_experience'], categories=['None', 'Some', 'Regularly', 'Professional'], ordered=True)\n",
    "\n",
    "game_map = {'I do not play video games': \"None\", \n",
    "            'I play video games at least once per month': \"Monthly\", \n",
    "            'I play video games at least once per week': \"Weekly\", \n",
    "            'I play video games almost every day': \"Daily\"}\n",
    "exit_survey['video_game_experience'] = exit_survey['video_game_experience'].replace(game_map)\n",
    "exit_survey['video_game_experience'] = pd.Categorical(exit_survey['video_game_experience'], categories=['None', 'Monthly', 'Weekly', 'Daily'], ordered=True)\n",
    "\n",
    "likert_map = {'1 - Strongly Disagree': \"Strongly Disagree\", \n",
    "              '2': \"Disagree\", \n",
    "              '3 - Neither agree nor disagree': \"Neutral\", \n",
    "              '4': \"Agree\", \n",
    "              '5 - Strongly Agree': \"Strongly Agree\"}\n",
    "exit_survey['feedback_helped'] = exit_survey['feedback_helped'].replace(likert_map)\n",
    "exit_survey['feedback_helped'] = pd.Categorical(exit_survey['feedback_helped'], categories=['Strongly Disagree', 'Disagree', 'Neutral', 'Agree', 'Strongly Agree'], ordered=True)\n",
    "\n",
    "likert_map_collapsed = {'Strongly Disagree': \"Disagree\", \n",
    "                        'Disagree': \"Disagree\", \n",
    "                        'Neutral': \"Neutral\", \n",
    "                        'Agree': \"Agree\", \n",
    "                        'Strongly Agree': \"Agree\"}\n",
    "exit_survey['feedback_helped_collapsed'] = exit_survey['feedback_helped'].replace(likert_map_collapsed)\n",
    "exit_survey['feedback_helped_collapsed'] = pd.Categorical(exit_survey['feedback_helped_collapsed'], categories=['Disagree', 'Neutral', 'Agree'], ordered=True)\n",
    "\n",
    "exit_survey.head(10)"
   ]
  },
  {
   "cell_type": "code",
   "execution_count": 9,
   "metadata": {},
   "outputs": [
    {
     "name": "stdout",
     "output_type": "stream",
     "text": [
      "168\n"
     ]
    }
   ],
   "source": [
    "# merge conditions and exit_survey on user_id and prolific_id\n",
    "# only keep rows that have a match in both dataframes\n",
    "merged = pd.merge(conditions, exit_survey, left_on='user_id', right_on='prolific_id', how='inner')\n",
    "\n",
    "# drop extra user_id column\n",
    "merged = merged.drop(columns=['user_id'])\n",
    "\n",
    "print(len(merged)) # why are there more rows than exit_survey?"
   ]
  },
  {
   "cell_type": "code",
   "execution_count": 10,
   "metadata": {},
   "outputs": [
    {
     "name": "stdout",
     "output_type": "stream",
     "text": [
      "['5bd49bcc25db7b0001794063' '5c90094e71f3100016181ea9'\n",
      " '5ef9f528c7ae587afa25fe9b' '60fcc292d13ae9614d4a77a7'\n",
      " '6105c41aa4fe602501d5a8cc' '610796f1301fccdca446af57'\n",
      " '629658baad2881aba974c6c3' '63026a8fd8429b224cd2a134'\n",
      " '631f1b608af38f654d2a3b1f' '637d4196c70a66e28ecede34'\n",
      " '6388b6c86e47b08e1eded1fd' '63ba10de73415d047e1d6731'\n",
      " '6400dc9f84ed19aeedc1a2cc' '643c6175d46d41e74033994f'\n",
      " '652ab7948cb59f4c50c7972a' '6596a5cad60ef105b6c18897'\n",
      " '65cba99c92b362b45e414da7']\n"
     ]
    }
   ],
   "source": [
    "# participants who show up multiple times in the merged dataframe\n",
    "# this is because they restarted the experiment and have multiple entries in the conditions file\n",
    "duplicate_ids = merged[merged.duplicated(subset='prolific_id', keep=False)]['prolific_id'].unique()\n",
    "duplicate_ids.sort()\n",
    "print(duplicate_ids)"
   ]
  },
  {
   "cell_type": "code",
   "execution_count": 11,
   "metadata": {},
   "outputs": [
    {
     "name": "stdout",
     "output_type": "stream",
     "text": [
      "147\n"
     ]
    }
   ],
   "source": [
    "# drop duplicate entries with duplicate ids\n",
    "merged = merged.drop_duplicates(subset='prolific_id', keep='first')\n",
    "print(len(merged)) # better number!"
   ]
  },
  {
   "cell_type": "code",
   "execution_count": 12,
   "metadata": {},
   "outputs": [],
   "source": [
    "# save merged dataframe to file\n",
    "participant_file = data_dir + 'participant_info.csv'\n",
    "merged.to_csv(participant_file, index=False)"
   ]
  },
  {
   "cell_type": "markdown",
   "metadata": {},
   "source": [
    "Notes on participants that seem to have restarted the experiment:\n",
    "- `5bd49bcc25db7b0001794063` restarted after trial 1 - KEEP\n",
    "- `5c90094e71f3100016181ea9` restarted after trial 3 and again after trial 1 - KEEP\n",
    "- `5ef9f528c7ae587afa25fe9b` restarted after trial 6 - REMOVE\n",
    "- `60fcc292d13ae9614d4a77a7` restarted after trial 3 - KEEP\n",
    "- `6105c41aa4fe602501d5a8cc` restarted after trial 8 - REMOVE\n",
    "- `610796f1301fccdca446af57` restarted after trial 7 - REMOVE\n",
    "- `629658baad2881aba974c6c3` restarted after trial 2 - KEEP\n",
    "- `63026a8fd8429b224cd2a134` restarted before completing trial 1 - KEEP\n",
    "- `631f1b608af38f654d2a3b1f` restarted after trial 15 - REMOVE\n",
    "- `637d4196c70a66e28ecede34` restarted before completing trial 1 - KEEP\n",
    "- `6388b6c86e47b08e1eded1fd` restarted before completing trial 1 - KEEP\n",
    "- `63ba10de73415d047e1d6731` restarted after trial 5 and again after trial 1 - REMOVE\n",
    "- `643c6175d46d41e74033994f` restarted after trial 8 and again after trial 1 - REMOVE\n",
    "- `652ab7948cb59f4c50c7972a` restarted after trial 1 - KEEP\n",
    "- `6596a5cad60ef105b6c18897` restarted after trial 1 - KEEP\n",
    "- `65cba99c92b362b45e414da7` restarted after trial 17 - REMOVE\n",
    "\n",
    "We will keep the participants who complete less than 5 trials before completing a complete run.\n",
    "\n",
    "Participant `6400dc9f84ed19aeedc1a2cc` seems to have filled out the qualtrics survey twice. The numerical data are the same and the free response questions have very similar content so I feel fine only keeping the first entry."
   ]
  },
  {
   "cell_type": "code",
   "execution_count": 13,
   "metadata": {},
   "outputs": [],
   "source": [
    "# list of participants to remove from all analysis\n",
    "# we will retain participants that restarted within the first 5 trials\n",
    "remove_ids = ['5ef9f528c7ae587afa25fe9b', '6105c41aa4fe602501d5a8cc', \n",
    "              '610796f1301fccdca446af57', '631f1b608af38f654d2a3b1f', \n",
    "              '63ba10de73415d047e1d6731', '643c6175d46d41e74033994f', \n",
    "              '65cba99c92b362b45e414da7']"
   ]
  },
  {
   "cell_type": "code",
   "execution_count": 14,
   "metadata": {},
   "outputs": [
    {
     "name": "stdout",
     "output_type": "stream",
     "text": [
      "140\n"
     ]
    }
   ],
   "source": [
    "# remove participants from merged dataframe\n",
    "merged_filtered = merged[~merged['prolific_id'].isin(remove_ids)]\n",
    "print(len(merged_filtered))"
   ]
  },
  {
   "cell_type": "code",
   "execution_count": 15,
   "metadata": {},
   "outputs": [],
   "source": [
    "# calculate total time spent on the experiment\n",
    "def calculate_total_time(user_id):\n",
    "    log = pd.read_csv(data_dir + user_id + '/log.txt', sep=': ', names=['time','message'], parse_dates=['time'])\n",
    "    start_time = log[log['message'].str.contains('Received user ID')].iloc[-1]['time'] # choose the last one in case they restarted\n",
    "    end_time = log[log['message'].str.contains('qualtrics')].iloc[-1]['time'] # choose last one just to be consistent\n",
    "    return end_time - start_time"
   ]
  },
  {
   "cell_type": "code",
   "execution_count": 16,
   "metadata": {},
   "outputs": [],
   "source": [
    "merged_filtered['total_time'] = merged_filtered['prolific_id'].apply(calculate_total_time)"
   ]
  },
  {
   "cell_type": "code",
   "execution_count": 79,
   "metadata": {},
   "outputs": [],
   "source": [
    "def calculate_n_successful(user_id):\n",
    "    surveys = pd.read_csv(data_dir + user_id + '/survey_responses.csv')\n",
    "    n_safe = len(surveys[surveys['outcome'] == 'Safe'])\n",
    "    return n_safe\n",
    "    "
   ]
  },
  {
   "cell_type": "code",
   "execution_count": 80,
   "metadata": {},
   "outputs": [],
   "source": [
    "merged_filtered['n_safe_landings'] = merged_filtered['prolific_id'].apply(calculate_n_successful)"
   ]
  },
  {
   "cell_type": "code",
   "execution_count": 17,
   "metadata": {},
   "outputs": [],
   "source": [
    "filtered_participant_file = data_dir + 'participant_info_filtered.csv'\n",
    "merged_filtered.to_csv(filtered_participant_file, index=False)"
   ]
  },
  {
   "cell_type": "markdown",
   "metadata": {},
   "source": [
    "# Distributions of demographic data\n",
    "\n",
    "This is after filtering out participants that restarted the experiment"
   ]
  },
  {
   "cell_type": "code",
   "execution_count": 18,
   "metadata": {},
   "outputs": [
    {
     "name": "stdout",
     "output_type": "stream",
     "text": [
      "condition\n",
      "score    47\n",
      "text     47\n",
      "full     46\n",
      "demo      0\n",
      "Name: count, dtype: int64\n"
     ]
    }
   ],
   "source": [
    "# number of participants in each condition\n",
    "print(merged_filtered['condition'].value_counts())"
   ]
  },
  {
   "cell_type": "code",
   "execution_count": 19,
   "metadata": {},
   "outputs": [
    {
     "name": "stdout",
     "output_type": "stream",
     "text": [
      "gender\n",
      "Woman         71\n",
      "Man           62\n",
      "Non-binary     7\n",
      "Name: count, dtype: int64\n",
      "gender\n",
      "Woman         0.51\n",
      "Man           0.44\n",
      "Non-binary    0.05\n",
      "Name: count, dtype: float64\n"
     ]
    }
   ],
   "source": [
    "# gender distribution\n",
    "print(merged_filtered['gender'].value_counts())\n",
    "print((merged_filtered['gender'].value_counts()/len(merged_filtered)).round(2))\n"
   ]
  },
  {
   "cell_type": "code",
   "execution_count": 20,
   "metadata": {},
   "outputs": [
    {
     "name": "stdout",
     "output_type": "stream",
     "text": [
      "count    140.0\n",
      "mean      38.3\n",
      "std       12.2\n",
      "min       18.0\n",
      "25%       30.0\n",
      "50%       35.5\n",
      "75%       47.0\n",
      "max       74.0\n",
      "Name: age, dtype: float64\n"
     ]
    }
   ],
   "source": [
    "# age distribution\n",
    "print(merged_filtered['age'].describe().round(1))"
   ]
  },
  {
   "cell_type": "code",
   "execution_count": 21,
   "metadata": {},
   "outputs": [
    {
     "name": "stdout",
     "output_type": "stream",
     "text": [
      "drone_experience\n",
      "None            114\n",
      "Some             20\n",
      "Regularly         5\n",
      "Professional      1\n",
      "Name: count, dtype: int64\n",
      "drone_experience\n",
      "None            0.81\n",
      "Some            0.14\n",
      "Regularly       0.04\n",
      "Professional    0.01\n",
      "Name: count, dtype: float64\n"
     ]
    }
   ],
   "source": [
    "# previous experience with flying drones\n",
    "print(merged_filtered['drone_experience'].value_counts().sort_index())\n",
    "print((merged_filtered['drone_experience'].value_counts().sort_index()/len(merged_filtered)).round(2))"
   ]
  },
  {
   "cell_type": "code",
   "execution_count": 22,
   "metadata": {},
   "outputs": [
    {
     "name": "stdout",
     "output_type": "stream",
     "text": [
      "video_game_experience\n",
      "None       24\n",
      "Monthly    39\n",
      "Weekly     36\n",
      "Daily      41\n",
      "Name: count, dtype: int64\n",
      "video_game_experience\n",
      "None       0.17\n",
      "Monthly    0.28\n",
      "Weekly     0.26\n",
      "Daily      0.29\n",
      "Name: count, dtype: float64\n"
     ]
    }
   ],
   "source": [
    "# video game experience\n",
    "print(merged_filtered['video_game_experience'].value_counts().sort_index())\n",
    "print((merged_filtered['video_game_experience'].value_counts().sort_index()/len(merged_filtered)).round(2))"
   ]
  },
  {
   "cell_type": "code",
   "execution_count": 23,
   "metadata": {},
   "outputs": [
    {
     "name": "stdout",
     "output_type": "stream",
     "text": [
      "feedback_helped\n",
      "Strongly Disagree    22\n",
      "Disagree             17\n",
      "Neutral              22\n",
      "Agree                59\n",
      "Strongly Agree       20\n",
      "Name: count, dtype: int64\n",
      "feedback_helped\n",
      "Strongly Disagree    0.16\n",
      "Disagree             0.12\n",
      "Neutral              0.16\n",
      "Agree                0.42\n",
      "Strongly Agree       0.14\n",
      "Name: count, dtype: float64\n"
     ]
    }
   ],
   "source": [
    "# overall view of feedback perception\n",
    "print(merged_filtered['feedback_helped'].value_counts().sort_index())\n",
    "print((merged_filtered['feedback_helped'].value_counts().sort_index()/len(merged_filtered)).round(2))"
   ]
  },
  {
   "cell_type": "code",
   "execution_count": 24,
   "metadata": {},
   "outputs": [
    {
     "name": "stdout",
     "output_type": "stream",
     "text": [
      "feedback_helped_collapsed\n",
      "Disagree    39\n",
      "Neutral     22\n",
      "Agree       79\n",
      "Name: count, dtype: int64\n",
      "feedback_helped_collapsed\n",
      "Disagree    0.28\n",
      "Neutral     0.16\n",
      "Agree       0.56\n",
      "Name: count, dtype: float64\n"
     ]
    }
   ],
   "source": [
    "# overall view of feedback perception (collapsed)\n",
    "print(merged_filtered['feedback_helped_collapsed'].value_counts().sort_index())\n",
    "print((merged_filtered['feedback_helped_collapsed'].value_counts().sort_index()/len(merged_filtered)).round(2))"
   ]
  },
  {
   "cell_type": "code",
   "execution_count": 25,
   "metadata": {},
   "outputs": [
    {
     "name": "stdout",
     "output_type": "stream",
     "text": [
      "count                          140\n",
      "mean        0 days 00:29:58.052765\n",
      "std      0 days 00:10:37.740892576\n",
      "min         0 days 00:13:25.435327\n",
      "25%      0 days 00:22:26.670653750\n",
      "50%      0 days 00:27:20.474471500\n",
      "75%      0 days 00:35:18.946242250\n",
      "max         0 days 01:26:32.209476\n",
      "Name: total_time, dtype: object\n"
     ]
    }
   ],
   "source": [
    "# time taken to complete the trials\n",
    "print(merged_filtered['total_time'].describe())"
   ]
  },
  {
   "cell_type": "markdown",
   "metadata": {},
   "source": [
    "# Research Themes"
   ]
  },
  {
   "cell_type": "markdown",
   "metadata": {},
   "source": [
    "## Perception of Feedback"
   ]
  },
  {
   "cell_type": "markdown",
   "metadata": {},
   "source": [
    "### Combine all survey responses"
   ]
  },
  {
   "cell_type": "code",
   "execution_count": 26,
   "metadata": {},
   "outputs": [
    {
     "data": {
      "text/html": [
       "<div>\n",
       "<style scoped>\n",
       "    .dataframe tbody tr th:only-of-type {\n",
       "        vertical-align: middle;\n",
       "    }\n",
       "\n",
       "    .dataframe tbody tr th {\n",
       "        vertical-align: top;\n",
       "    }\n",
       "\n",
       "    .dataframe thead th {\n",
       "        text-align: right;\n",
       "    }\n",
       "</style>\n",
       "<table border=\"1\" class=\"dataframe\">\n",
       "  <thead>\n",
       "    <tr style=\"text-align: right;\">\n",
       "      <th></th>\n",
       "      <th>trial</th>\n",
       "      <th>motivation</th>\n",
       "      <th>manageable</th>\n",
       "      <th>actionable</th>\n",
       "      <th>timely</th>\n",
       "      <th>reflection</th>\n",
       "      <th>outcome</th>\n",
       "      <th>prolific_id</th>\n",
       "    </tr>\n",
       "  </thead>\n",
       "  <tbody>\n",
       "    <tr>\n",
       "      <th>0</th>\n",
       "      <td>1</td>\n",
       "      <td>3</td>\n",
       "      <td>3</td>\n",
       "      <td>4</td>\n",
       "      <td>3</td>\n",
       "      <td>3</td>\n",
       "      <td>Crash</td>\n",
       "      <td>5760a995f371330006a47cb3</td>\n",
       "    </tr>\n",
       "    <tr>\n",
       "      <th>1</th>\n",
       "      <td>2</td>\n",
       "      <td>3</td>\n",
       "      <td>3</td>\n",
       "      <td>4</td>\n",
       "      <td>3</td>\n",
       "      <td>4</td>\n",
       "      <td>Crash</td>\n",
       "      <td>5760a995f371330006a47cb3</td>\n",
       "    </tr>\n",
       "    <tr>\n",
       "      <th>2</th>\n",
       "      <td>3</td>\n",
       "      <td>3</td>\n",
       "      <td>3</td>\n",
       "      <td>4</td>\n",
       "      <td>3</td>\n",
       "      <td>3</td>\n",
       "      <td>Unsafe</td>\n",
       "      <td>5760a995f371330006a47cb3</td>\n",
       "    </tr>\n",
       "    <tr>\n",
       "      <th>3</th>\n",
       "      <td>4</td>\n",
       "      <td>3</td>\n",
       "      <td>3</td>\n",
       "      <td>4</td>\n",
       "      <td>3</td>\n",
       "      <td>3</td>\n",
       "      <td>Unsafe</td>\n",
       "      <td>5760a995f371330006a47cb3</td>\n",
       "    </tr>\n",
       "    <tr>\n",
       "      <th>4</th>\n",
       "      <td>5</td>\n",
       "      <td>3</td>\n",
       "      <td>3</td>\n",
       "      <td>4</td>\n",
       "      <td>3</td>\n",
       "      <td>3</td>\n",
       "      <td>Crash</td>\n",
       "      <td>5760a995f371330006a47cb3</td>\n",
       "    </tr>\n",
       "  </tbody>\n",
       "</table>\n",
       "</div>"
      ],
      "text/plain": [
       "   trial  motivation  manageable  actionable  timely  reflection outcome  \\\n",
       "0      1           3           3           4       3           3   Crash   \n",
       "1      2           3           3           4       3           4   Crash   \n",
       "2      3           3           3           4       3           3  Unsafe   \n",
       "3      4           3           3           4       3           3  Unsafe   \n",
       "4      5           3           3           4       3           3   Crash   \n",
       "\n",
       "                prolific_id  \n",
       "0  5760a995f371330006a47cb3  \n",
       "1  5760a995f371330006a47cb3  \n",
       "2  5760a995f371330006a47cb3  \n",
       "3  5760a995f371330006a47cb3  \n",
       "4  5760a995f371330006a47cb3  "
      ]
     },
     "execution_count": 26,
     "metadata": {},
     "output_type": "execute_result"
    }
   ],
   "source": [
    "# combine survey responses from trials into one dataframe\n",
    "responses = []\n",
    "\n",
    "for participant in merged_filtered['prolific_id']:\n",
    "    surveys = pd.read_csv(data_dir + participant + '/survey_responses.csv')\n",
    "    surveys['prolific_id'] = participant\n",
    "    responses.append(surveys)\n",
    "\n",
    "all_responses = pd.concat(responses, ignore_index=True)\n",
    "all_responses.head()"
   ]
  },
  {
   "cell_type": "code",
   "execution_count": 27,
   "metadata": {},
   "outputs": [
    {
     "data": {
      "text/html": [
       "<div>\n",
       "<style scoped>\n",
       "    .dataframe tbody tr th:only-of-type {\n",
       "        vertical-align: middle;\n",
       "    }\n",
       "\n",
       "    .dataframe tbody tr th {\n",
       "        vertical-align: top;\n",
       "    }\n",
       "\n",
       "    .dataframe thead th {\n",
       "        text-align: right;\n",
       "    }\n",
       "</style>\n",
       "<table border=\"1\" class=\"dataframe\">\n",
       "  <thead>\n",
       "    <tr style=\"text-align: right;\">\n",
       "      <th></th>\n",
       "      <th>trial</th>\n",
       "      <th>motivation</th>\n",
       "      <th>manageable</th>\n",
       "      <th>actionable</th>\n",
       "      <th>timely</th>\n",
       "      <th>reflection</th>\n",
       "      <th>outcome</th>\n",
       "      <th>prolific_id</th>\n",
       "      <th>motivation_collapsed</th>\n",
       "      <th>actionable_collapsed</th>\n",
       "      <th>reflection_collapsed</th>\n",
       "      <th>manageable_collapsed</th>\n",
       "      <th>timely_collapsed</th>\n",
       "    </tr>\n",
       "  </thead>\n",
       "  <tbody>\n",
       "    <tr>\n",
       "      <th>0</th>\n",
       "      <td>1</td>\n",
       "      <td>Neutral</td>\n",
       "      <td>Just right</td>\n",
       "      <td>Agree</td>\n",
       "      <td>Just enough</td>\n",
       "      <td>Neutral</td>\n",
       "      <td>Crash</td>\n",
       "      <td>5760a995f371330006a47cb3</td>\n",
       "      <td>Neutral</td>\n",
       "      <td>Agree</td>\n",
       "      <td>Neutral</td>\n",
       "      <td>Just right</td>\n",
       "      <td>Just enough</td>\n",
       "    </tr>\n",
       "    <tr>\n",
       "      <th>1</th>\n",
       "      <td>2</td>\n",
       "      <td>Neutral</td>\n",
       "      <td>Just right</td>\n",
       "      <td>Agree</td>\n",
       "      <td>Just enough</td>\n",
       "      <td>Agree</td>\n",
       "      <td>Crash</td>\n",
       "      <td>5760a995f371330006a47cb3</td>\n",
       "      <td>Neutral</td>\n",
       "      <td>Agree</td>\n",
       "      <td>Agree</td>\n",
       "      <td>Just right</td>\n",
       "      <td>Just enough</td>\n",
       "    </tr>\n",
       "    <tr>\n",
       "      <th>2</th>\n",
       "      <td>3</td>\n",
       "      <td>Neutral</td>\n",
       "      <td>Just right</td>\n",
       "      <td>Agree</td>\n",
       "      <td>Just enough</td>\n",
       "      <td>Neutral</td>\n",
       "      <td>Unsafe</td>\n",
       "      <td>5760a995f371330006a47cb3</td>\n",
       "      <td>Neutral</td>\n",
       "      <td>Agree</td>\n",
       "      <td>Neutral</td>\n",
       "      <td>Just right</td>\n",
       "      <td>Just enough</td>\n",
       "    </tr>\n",
       "    <tr>\n",
       "      <th>3</th>\n",
       "      <td>4</td>\n",
       "      <td>Neutral</td>\n",
       "      <td>Just right</td>\n",
       "      <td>Agree</td>\n",
       "      <td>Just enough</td>\n",
       "      <td>Neutral</td>\n",
       "      <td>Unsafe</td>\n",
       "      <td>5760a995f371330006a47cb3</td>\n",
       "      <td>Neutral</td>\n",
       "      <td>Agree</td>\n",
       "      <td>Neutral</td>\n",
       "      <td>Just right</td>\n",
       "      <td>Just enough</td>\n",
       "    </tr>\n",
       "    <tr>\n",
       "      <th>4</th>\n",
       "      <td>5</td>\n",
       "      <td>Neutral</td>\n",
       "      <td>Just right</td>\n",
       "      <td>Agree</td>\n",
       "      <td>Just enough</td>\n",
       "      <td>Neutral</td>\n",
       "      <td>Crash</td>\n",
       "      <td>5760a995f371330006a47cb3</td>\n",
       "      <td>Neutral</td>\n",
       "      <td>Agree</td>\n",
       "      <td>Neutral</td>\n",
       "      <td>Just right</td>\n",
       "      <td>Just enough</td>\n",
       "    </tr>\n",
       "  </tbody>\n",
       "</table>\n",
       "</div>"
      ],
      "text/plain": [
       "   trial motivation  manageable actionable       timely reflection outcome  \\\n",
       "0      1    Neutral  Just right      Agree  Just enough    Neutral   Crash   \n",
       "1      2    Neutral  Just right      Agree  Just enough      Agree   Crash   \n",
       "2      3    Neutral  Just right      Agree  Just enough    Neutral  Unsafe   \n",
       "3      4    Neutral  Just right      Agree  Just enough    Neutral  Unsafe   \n",
       "4      5    Neutral  Just right      Agree  Just enough    Neutral   Crash   \n",
       "\n",
       "                prolific_id motivation_collapsed actionable_collapsed  \\\n",
       "0  5760a995f371330006a47cb3              Neutral                Agree   \n",
       "1  5760a995f371330006a47cb3              Neutral                Agree   \n",
       "2  5760a995f371330006a47cb3              Neutral                Agree   \n",
       "3  5760a995f371330006a47cb3              Neutral                Agree   \n",
       "4  5760a995f371330006a47cb3              Neutral                Agree   \n",
       "\n",
       "  reflection_collapsed manageable_collapsed timely_collapsed  \n",
       "0              Neutral           Just right      Just enough  \n",
       "1                Agree           Just right      Just enough  \n",
       "2              Neutral           Just right      Just enough  \n",
       "3              Neutral           Just right      Just enough  \n",
       "4              Neutral           Just right      Just enough  "
      ]
     },
     "execution_count": 27,
     "metadata": {},
     "output_type": "execute_result"
    }
   ],
   "source": [
    "# make survey responses categorical\n",
    "survey_likert_map = {'1': \"Strongly Disagree\", \n",
    "                     '2': \"Disagree\", \n",
    "                     '3': \"Neutral\", \n",
    "                     '4': \"Agree\", \n",
    "                     '5': \"Strongly Agree\"}\n",
    "likert_categories = ['Strongly Disagree', 'Disagree', 'Neutral', 'Agree', 'Strongly Agree']\n",
    "\n",
    "\n",
    "all_responses['motivation'] = all_responses['motivation'].apply(str)\n",
    "all_responses['motivation'] = all_responses['motivation'].replace(survey_likert_map)\n",
    "all_responses['motivation'] = pd.Categorical(all_responses['motivation'], categories=likert_categories, ordered=True)\n",
    "all_responses['motivation_collapsed'] = all_responses['motivation'].replace(likert_map_collapsed)\n",
    "all_responses['motivation_collapsed'] = pd.Categorical(all_responses['motivation_collapsed'], categories=['Disagree', 'Neutral', 'Agree'], ordered=True)\n",
    "\n",
    "all_responses['actionable'] = all_responses['actionable'].apply(str)\n",
    "all_responses['actionable'] = all_responses['actionable'].replace(survey_likert_map)\n",
    "all_responses['actionable'] = pd.Categorical(all_responses['actionable'], categories=likert_categories, ordered=True)\n",
    "all_responses['actionable_collapsed'] = all_responses['actionable'].replace(likert_map_collapsed)\n",
    "all_responses['actionable_collapsed'] = pd.Categorical(all_responses['actionable_collapsed'], categories=['Disagree', 'Neutral', 'Agree'], ordered=True)\n",
    "\n",
    "all_responses['reflection'] = all_responses['reflection'].apply(str)\n",
    "all_responses['reflection'] = all_responses['reflection'].replace(survey_likert_map)\n",
    "all_responses['reflection'] = pd.Categorical(all_responses['reflection'], categories=likert_categories, ordered=True)\n",
    "all_responses['reflection_collapsed'] = all_responses['reflection'].replace(likert_map_collapsed)\n",
    "all_responses['reflection_collapsed'] = pd.Categorical(all_responses['reflection_collapsed'], categories=['Disagree', 'Neutral', 'Agree'], ordered=True)\n",
    "\n",
    "manageable_likert_map = {'1': \"Much too little\",\n",
    "                         '2': \"Too little\",\n",
    "                         '3': \"Just right\",\n",
    "                         '4': \"Too much\",\n",
    "                         '5': \"Much too much\"}\n",
    "manageable_categories = ['Much too little', 'Too little', 'Just right', 'Too much', 'Much too much']\n",
    "manageable_likert_map_collapsed = {'Much too little': \"Too little\",\n",
    "                                   'Too little': \"Too little\",\n",
    "                                   'Just right': \"Just right\",\n",
    "                                   'Too much': \"Too much\",\n",
    "                                   'Much too much': \"Too much\"}\n",
    "\n",
    "all_responses['manageable'] = all_responses['manageable'].apply(str)\n",
    "all_responses['manageable'] = all_responses['manageable'].replace(manageable_likert_map)\n",
    "all_responses['manageable'] = pd.Categorical(all_responses['manageable'], categories=manageable_categories, ordered=True)\n",
    "all_responses['manageable_collapsed'] = all_responses['manageable'].replace(manageable_likert_map_collapsed)\n",
    "all_responses['manageable_collapsed'] = pd.Categorical(all_responses['manageable_collapsed'], categories=['Too little', 'Just right', 'Too much'], ordered=True)\n",
    "\n",
    "timely_likert_map = {'1': \"Much too infrequent\",\n",
    "                     '2': \"Too infrequent\",\n",
    "                     '3': \"Just enough\",\n",
    "                     '4': \"Too often\",\n",
    "                     '5': \"Much too often\"}\n",
    "timely_categories = ['Much too infrequent', 'Too infrequent', 'Just enough', 'Too often', 'Much too often']\n",
    "timely_likert_map_collapsed = {'Much too infrequent': \"Too infrequent\",\n",
    "                               'Too infrequent': \"Too infrequent\",\n",
    "                               'Just enough': \"Just enough\",\n",
    "                               'Too often': \"Too often\",\n",
    "                               'Much too often': \"Too often\"}\n",
    "\n",
    "all_responses['timely'] = all_responses['timely'].apply(str)\n",
    "all_responses['timely'] = all_responses['timely'].replace(timely_likert_map)\n",
    "all_responses['timely'] = pd.Categorical(all_responses['timely'], categories=timely_categories, ordered=True)\n",
    "all_responses['timely_collapsed'] = all_responses['timely'].replace(timely_likert_map_collapsed)\n",
    "all_responses['timely_collapsed'] = pd.Categorical(all_responses['timely_collapsed'], categories=['Too infrequent', 'Just enough', 'Too often'], ordered=True)\n",
    "\n",
    "all_responses['outcome'] = pd.Categorical(all_responses['outcome'], categories=['Crash', 'Unsafe', 'Safe'], ordered=True)\n",
    "\n",
    "all_responses.head()"
   ]
  },
  {
   "cell_type": "code",
   "execution_count": null,
   "metadata": {},
   "outputs": [],
   "source": [
    "print(len(all_responses))"
   ]
  },
  {
   "cell_type": "code",
   "execution_count": null,
   "metadata": {},
   "outputs": [],
   "source": [
    "all_responses.dtypes"
   ]
  },
  {
   "cell_type": "code",
   "execution_count": 28,
   "metadata": {},
   "outputs": [
    {
     "name": "stdout",
     "output_type": "stream",
     "text": [
      "   trial motivation  manageable actionable       timely reflection outcome  \\\n",
      "0      1    Neutral  Just right      Agree  Just enough    Neutral   Crash   \n",
      "1      2    Neutral  Just right      Agree  Just enough      Agree   Crash   \n",
      "2      3    Neutral  Just right      Agree  Just enough    Neutral  Unsafe   \n",
      "3      4    Neutral  Just right      Agree  Just enough    Neutral  Unsafe   \n",
      "4      5    Neutral  Just right      Agree  Just enough    Neutral   Crash   \n",
      "\n",
      "                prolific_id motivation_collapsed actionable_collapsed  \\\n",
      "0  5760a995f371330006a47cb3              Neutral                Agree   \n",
      "1  5760a995f371330006a47cb3              Neutral                Agree   \n",
      "2  5760a995f371330006a47cb3              Neutral                Agree   \n",
      "3  5760a995f371330006a47cb3              Neutral                Agree   \n",
      "4  5760a995f371330006a47cb3              Neutral                Agree   \n",
      "\n",
      "  reflection_collapsed manageable_collapsed timely_collapsed condition  \n",
      "0              Neutral           Just right      Just enough      full  \n",
      "1                Agree           Just right      Just enough      full  \n",
      "2              Neutral           Just right      Just enough      full  \n",
      "3              Neutral           Just right      Just enough      full  \n",
      "4              Neutral           Just right      Just enough      full  \n",
      "      trial motivation  manageable actionable          timely reflection  \\\n",
      "2795     16   Disagree  Just right      Agree  Much too often      Agree   \n",
      "2796     17      Agree  Just right      Agree  Much too often      Agree   \n",
      "2797     18   Disagree    Too much      Agree  Much too often      Agree   \n",
      "2798     19   Disagree  Just right      Agree  Much too often      Agree   \n",
      "2799     20   Disagree  Just right      Agree  Much too often      Agree   \n",
      "\n",
      "     outcome               prolific_id motivation_collapsed  \\\n",
      "2795  Unsafe  64abee38a80dfb5e45212487             Disagree   \n",
      "2796    Safe  64abee38a80dfb5e45212487                Agree   \n",
      "2797  Unsafe  64abee38a80dfb5e45212487             Disagree   \n",
      "2798    Safe  64abee38a80dfb5e45212487             Disagree   \n",
      "2799  Unsafe  64abee38a80dfb5e45212487             Disagree   \n",
      "\n",
      "     actionable_collapsed reflection_collapsed manageable_collapsed  \\\n",
      "2795                Agree                Agree           Just right   \n",
      "2796                Agree                Agree           Just right   \n",
      "2797                Agree                Agree             Too much   \n",
      "2798                Agree                Agree           Just right   \n",
      "2799                Agree                Agree           Just right   \n",
      "\n",
      "     timely_collapsed condition  \n",
      "2795        Too often      text  \n",
      "2796        Too often      text  \n",
      "2797        Too often      text  \n",
      "2798        Too often      text  \n",
      "2799        Too often      text  \n"
     ]
    }
   ],
   "source": [
    "# add column for feedback condition\n",
    "all_responses['condition'] = all_responses['prolific_id'].map(merged_filtered.set_index('prolific_id')['condition'])\n",
    "all_responses['condition'] = pd.Categorical(all_responses['condition'], categories=['score', 'text', 'full'], ordered=True)\n",
    "print(all_responses.head())\n",
    "print(all_responses.tail())"
   ]
  },
  {
   "cell_type": "code",
   "execution_count": 29,
   "metadata": {},
   "outputs": [],
   "source": [
    "def calculate_trial_time(user_id, trial_num):\n",
    "    log = pd.read_csv(data_dir + user_id + '/log.txt', sep=': ', names=['time','message'], parse_dates=['time'])\n",
    "    trial_start_idx = log[log['message'].str.contains(f'Trial {trial_num} started')].iloc[-1].name\n",
    "    start_time = log.loc[trial_start_idx]['time']\n",
    "    end_time = log.loc[trial_start_idx+1]['time'] # next line is when trajectory data is sent to the server\n",
    "    return end_time - start_time"
   ]
  },
  {
   "cell_type": "code",
   "execution_count": 30,
   "metadata": {},
   "outputs": [],
   "source": [
    "all_responses['trial_time'] = all_responses.apply(lambda x: calculate_trial_time(x['prolific_id'], x['trial']), axis=1)"
   ]
  },
  {
   "cell_type": "code",
   "execution_count": 31,
   "metadata": {},
   "outputs": [
    {
     "data": {
      "text/plain": [
       "count                         2800\n",
       "mean     0 days 00:00:29.385628283\n",
       "std      0 days 00:00:33.595747335\n",
       "min       -1 days +23:59:59.999928\n",
       "25%      0 days 00:00:16.338158750\n",
       "50%      0 days 00:00:24.289769500\n",
       "75%         0 days 00:00:36.310053\n",
       "max         0 days 00:17:52.321791\n",
       "Name: trial_time, dtype: object"
      ]
     },
     "execution_count": 31,
     "metadata": {},
     "output_type": "execute_result"
    }
   ],
   "source": [
    "all_responses['trial_time'].describe()"
   ]
  },
  {
   "cell_type": "code",
   "execution_count": 32,
   "metadata": {},
   "outputs": [],
   "source": [
    "def calculate_feedback_time(user_id, trial_num):\n",
    "    log = pd.read_csv(data_dir + user_id + '/log.txt', sep=': ', names=['time','message'], parse_dates=['time'])\n",
    "    trial_start_idx = log[log['message'].str.contains(f'Trial {trial_num} started')].iloc[-1].name\n",
    "    start_time = log.loc[trial_start_idx+3]['time'] # saved feedback to file\n",
    "    end_time = log.loc[trial_start_idx+4]['time'] # received survey responses\n",
    "    return end_time - start_time"
   ]
  },
  {
   "cell_type": "code",
   "execution_count": 33,
   "metadata": {},
   "outputs": [],
   "source": [
    "all_responses['feedback_time'] = all_responses.apply(lambda x: calculate_feedback_time(x['prolific_id'], x['trial']), axis=1)"
   ]
  },
  {
   "cell_type": "code",
   "execution_count": 34,
   "metadata": {},
   "outputs": [
    {
     "data": {
      "text/plain": [
       "count                         2800\n",
       "mean     0 days 00:00:34.071604695\n",
       "std      0 days 00:01:31.318088845\n",
       "min         0 days 00:00:00.001766\n",
       "25%         0 days 00:00:14.383753\n",
       "50%      0 days 00:00:24.099650500\n",
       "75%      0 days 00:00:36.450295500\n",
       "max         0 days 01:07:44.941621\n",
       "Name: feedback_time, dtype: object"
      ]
     },
     "execution_count": 34,
     "metadata": {},
     "output_type": "execute_result"
    }
   ],
   "source": [
    "all_responses['feedback_time'].describe()"
   ]
  },
  {
   "cell_type": "code",
   "execution_count": 85,
   "metadata": {},
   "outputs": [],
   "source": [
    "def mode_survey_response(user_id, question):\n",
    "    part_df = all_responses[all_responses['prolific_id'] == user_id]\n",
    "    return part_df[question].value_counts().index[0]"
   ]
  },
  {
   "cell_type": "code",
   "execution_count": 86,
   "metadata": {},
   "outputs": [
    {
     "name": "stdout",
     "output_type": "stream",
     "text": [
      "motivation\n",
      "manageable\n",
      "actionable\n",
      "timely\n",
      "reflection\n",
      "motivation_collapsed\n",
      "manageable_collapsed\n",
      "actionable_collapsed\n",
      "timely_collapsed\n",
      "reflection_collapsed\n"
     ]
    }
   ],
   "source": [
    "questions = ['motivation', 'manageable', 'actionable', 'timely', 'reflection', 'motivation_collapsed', 'manageable_collapsed', 'actionable_collapsed', 'timely_collapsed', 'reflection_collapsed']\n",
    "\n",
    "for q in questions:\n",
    "    print(q)\n",
    "    merged_filtered[f'mode_{q}'] = merged_filtered['prolific_id'].apply(lambda x: mode_survey_response(x, q))"
   ]
  },
  {
   "cell_type": "code",
   "execution_count": 35,
   "metadata": {},
   "outputs": [],
   "source": [
    "survey_file = data_dir + 'survey_responses_combined.csv'\n",
    "all_responses.to_csv(survey_file, index=False)"
   ]
  },
  {
   "cell_type": "code",
   "execution_count": 36,
   "metadata": {},
   "outputs": [
    {
     "data": {
      "text/html": [
       "<div>\n",
       "<style scoped>\n",
       "    .dataframe tbody tr th:only-of-type {\n",
       "        vertical-align: middle;\n",
       "    }\n",
       "\n",
       "    .dataframe tbody tr th {\n",
       "        vertical-align: top;\n",
       "    }\n",
       "\n",
       "    .dataframe thead th {\n",
       "        text-align: right;\n",
       "    }\n",
       "</style>\n",
       "<table border=\"1\" class=\"dataframe\">\n",
       "  <thead>\n",
       "    <tr style=\"text-align: right;\">\n",
       "      <th></th>\n",
       "      <th>time</th>\n",
       "      <th>condition</th>\n",
       "      <th>start_date</th>\n",
       "      <th>end_date</th>\n",
       "      <th>duration</th>\n",
       "      <th>is_finished</th>\n",
       "      <th>prolific_id</th>\n",
       "      <th>gender</th>\n",
       "      <th>age</th>\n",
       "      <th>drone_experience</th>\n",
       "      <th>video_game_experience</th>\n",
       "      <th>feedback_helped</th>\n",
       "      <th>change_from_feedback</th>\n",
       "      <th>comments</th>\n",
       "      <th>feedback_helped_collapsed</th>\n",
       "      <th>total_time</th>\n",
       "      <th>trial_time</th>\n",
       "      <th>feedback_time</th>\n",
       "    </tr>\n",
       "  </thead>\n",
       "  <tbody>\n",
       "    <tr>\n",
       "      <th>0</th>\n",
       "      <td>2024-04-10 11:21:44.981234</td>\n",
       "      <td>full</td>\n",
       "      <td>2024-04-10 11:21:24</td>\n",
       "      <td>2024-04-10 12:15:07</td>\n",
       "      <td>3222</td>\n",
       "      <td>True</td>\n",
       "      <td>5760a995f371330006a47cb3</td>\n",
       "      <td>Woman</td>\n",
       "      <td>33</td>\n",
       "      <td>None</td>\n",
       "      <td>Daily</td>\n",
       "      <td>Neutral</td>\n",
       "      <td>Yes. I began to tap buttons instead of holding...</td>\n",
       "      <td>NaN</td>\n",
       "      <td>Neutral</td>\n",
       "      <td>0 days 00:51:22.367016</td>\n",
       "      <td>0 days 00:00:57.915392900</td>\n",
       "      <td>0 days 00:01:11.068398650</td>\n",
       "    </tr>\n",
       "    <tr>\n",
       "      <th>1</th>\n",
       "      <td>2024-04-10 11:36:12.740984</td>\n",
       "      <td>full</td>\n",
       "      <td>2024-04-10 11:35:59</td>\n",
       "      <td>2024-04-10 11:59:47</td>\n",
       "      <td>1428</td>\n",
       "      <td>True</td>\n",
       "      <td>5eb4955dab41e130f24d08c9</td>\n",
       "      <td>Woman</td>\n",
       "      <td>48</td>\n",
       "      <td>None</td>\n",
       "      <td>Weekly</td>\n",
       "      <td>Strongly Agree</td>\n",
       "      <td>I did change my technique, I started going up ...</td>\n",
       "      <td>NaN</td>\n",
       "      <td>Agree</td>\n",
       "      <td>0 days 00:22:30.360526</td>\n",
       "      <td>0 days 00:00:31.817062550</td>\n",
       "      <td>0 days 00:00:14.629016350</td>\n",
       "    </tr>\n",
       "    <tr>\n",
       "      <th>2</th>\n",
       "      <td>2024-04-10 11:39:27.099011</td>\n",
       "      <td>full</td>\n",
       "      <td>2024-04-10 11:39:03</td>\n",
       "      <td>2024-04-10 12:11:03</td>\n",
       "      <td>1919</td>\n",
       "      <td>True</td>\n",
       "      <td>640156a5f2395bf80ca0c451</td>\n",
       "      <td>Man</td>\n",
       "      <td>33</td>\n",
       "      <td>None</td>\n",
       "      <td>Daily</td>\n",
       "      <td>Disagree</td>\n",
       "      <td>I tried to take into account what it was sayin...</td>\n",
       "      <td>NaN</td>\n",
       "      <td>Disagree</td>\n",
       "      <td>0 days 00:29:46.060749</td>\n",
       "      <td>0 days 00:00:24.128714850</td>\n",
       "      <td>0 days 00:00:28.866800950</td>\n",
       "    </tr>\n",
       "    <tr>\n",
       "      <th>3</th>\n",
       "      <td>2024-04-10 11:58:52.113563</td>\n",
       "      <td>full</td>\n",
       "      <td>2024-04-10 11:58:31</td>\n",
       "      <td>2024-04-10 12:18:50</td>\n",
       "      <td>1218</td>\n",
       "      <td>True</td>\n",
       "      <td>5f2dc46d6fa1250ee8a1a15d</td>\n",
       "      <td>Woman</td>\n",
       "      <td>37</td>\n",
       "      <td>None</td>\n",
       "      <td>None</td>\n",
       "      <td>Neutral</td>\n",
       "      <td>It was easier for me to adjust based on my con...</td>\n",
       "      <td>NaN</td>\n",
       "      <td>Neutral</td>\n",
       "      <td>0 days 00:19:21.925813</td>\n",
       "      <td>0 days 00:00:21.398428350</td>\n",
       "      <td>0 days 00:00:20.921589200</td>\n",
       "    </tr>\n",
       "    <tr>\n",
       "      <th>4</th>\n",
       "      <td>2024-04-10 11:59:59.500492</td>\n",
       "      <td>full</td>\n",
       "      <td>2024-04-10 11:59:20</td>\n",
       "      <td>2024-04-10 12:21:20</td>\n",
       "      <td>1320</td>\n",
       "      <td>True</td>\n",
       "      <td>60fde5e29e585481874a9d16</td>\n",
       "      <td>Non-binary</td>\n",
       "      <td>41</td>\n",
       "      <td>None</td>\n",
       "      <td>Monthly</td>\n",
       "      <td>Agree</td>\n",
       "      <td>i figured out how to slow the drone down befor...</td>\n",
       "      <td>NaN</td>\n",
       "      <td>Agree</td>\n",
       "      <td>0 days 00:20:45.190436</td>\n",
       "      <td>0 days 00:00:22.604352150</td>\n",
       "      <td>0 days 00:00:00.862269400</td>\n",
       "    </tr>\n",
       "  </tbody>\n",
       "</table>\n",
       "</div>"
      ],
      "text/plain": [
       "                        time condition          start_date  \\\n",
       "0 2024-04-10 11:21:44.981234      full 2024-04-10 11:21:24   \n",
       "1 2024-04-10 11:36:12.740984      full 2024-04-10 11:35:59   \n",
       "2 2024-04-10 11:39:27.099011      full 2024-04-10 11:39:03   \n",
       "3 2024-04-10 11:58:52.113563      full 2024-04-10 11:58:31   \n",
       "4 2024-04-10 11:59:59.500492      full 2024-04-10 11:59:20   \n",
       "\n",
       "             end_date  duration  is_finished               prolific_id  \\\n",
       "0 2024-04-10 12:15:07      3222         True  5760a995f371330006a47cb3   \n",
       "1 2024-04-10 11:59:47      1428         True  5eb4955dab41e130f24d08c9   \n",
       "2 2024-04-10 12:11:03      1919         True  640156a5f2395bf80ca0c451   \n",
       "3 2024-04-10 12:18:50      1218         True  5f2dc46d6fa1250ee8a1a15d   \n",
       "4 2024-04-10 12:21:20      1320         True  60fde5e29e585481874a9d16   \n",
       "\n",
       "       gender  age drone_experience video_game_experience feedback_helped  \\\n",
       "0       Woman   33             None                 Daily         Neutral   \n",
       "1       Woman   48             None                Weekly  Strongly Agree   \n",
       "2         Man   33             None                 Daily        Disagree   \n",
       "3       Woman   37             None                  None         Neutral   \n",
       "4  Non-binary   41             None               Monthly           Agree   \n",
       "\n",
       "                                change_from_feedback comments  \\\n",
       "0  Yes. I began to tap buttons instead of holding...      NaN   \n",
       "1  I did change my technique, I started going up ...      NaN   \n",
       "2  I tried to take into account what it was sayin...      NaN   \n",
       "3  It was easier for me to adjust based on my con...      NaN   \n",
       "4  i figured out how to slow the drone down befor...      NaN   \n",
       "\n",
       "  feedback_helped_collapsed             total_time                trial_time  \\\n",
       "0                   Neutral 0 days 00:51:22.367016 0 days 00:00:57.915392900   \n",
       "1                     Agree 0 days 00:22:30.360526 0 days 00:00:31.817062550   \n",
       "2                  Disagree 0 days 00:29:46.060749 0 days 00:00:24.128714850   \n",
       "3                   Neutral 0 days 00:19:21.925813 0 days 00:00:21.398428350   \n",
       "4                     Agree 0 days 00:20:45.190436 0 days 00:00:22.604352150   \n",
       "\n",
       "              feedback_time  \n",
       "0 0 days 00:01:11.068398650  \n",
       "1 0 days 00:00:14.629016350  \n",
       "2 0 days 00:00:28.866800950  \n",
       "3 0 days 00:00:20.921589200  \n",
       "4 0 days 00:00:00.862269400  "
      ]
     },
     "execution_count": 36,
     "metadata": {},
     "output_type": "execute_result"
    }
   ],
   "source": [
    "# calculate average trial and feedback times for each participant\n",
    "avg_trial_time = all_responses.groupby('prolific_id')['trial_time'].mean()\n",
    "avg_feedback_time = all_responses.groupby('prolific_id')['feedback_time'].mean()\n",
    "\n",
    "# merge with merged_filtered dataframe\n",
    "merged_filtered = pd.merge(merged_filtered, avg_trial_time, left_on='prolific_id', right_index=True)\n",
    "merged_filtered = pd.merge(merged_filtered, avg_feedback_time, left_on='prolific_id', right_index=True)\n",
    "\n",
    "merged_filtered.head()"
   ]
  },
  {
   "cell_type": "code",
   "execution_count": 37,
   "metadata": {},
   "outputs": [],
   "source": [
    "# rename trial and feedback time columns\n",
    "merged_filtered = merged_filtered.rename(columns={'trial_time': 'avg_trial_time', 'feedback_time': 'avg_feedback_time'})"
   ]
  },
  {
   "cell_type": "code",
   "execution_count": 87,
   "metadata": {},
   "outputs": [],
   "source": [
    "merged_filtered.to_csv(filtered_participant_file, index=False)"
   ]
  },
  {
   "cell_type": "markdown",
   "metadata": {},
   "source": [
    "### What is associated with overall feedback helpfulness rating?"
   ]
  },
  {
   "cell_type": "code",
   "execution_count": 46,
   "metadata": {},
   "outputs": [
    {
     "data": {
      "text/plain": [
       "Index(['gender_Non-binary', 'gender_Woman'], dtype='object')"
      ]
     },
     "execution_count": 46,
     "metadata": {},
     "output_type": "execute_result"
    }
   ],
   "source": [
    "# convert gender into a dummy variable\n",
    "merged_filtered = pd.get_dummies(merged_filtered, columns=['gender'], drop_first=True)\n",
    "merged_filtered.columns[merged_filtered.columns.str.startswith('gender_').tolist()]"
   ]
  },
  {
   "cell_type": "code",
   "execution_count": 51,
   "metadata": {},
   "outputs": [],
   "source": [
    "merged_filtered['total_time_seconds'] = merged_filtered['total_time'].dt.total_seconds()\n",
    "merged_filtered['avg_trial_time_seconds'] = merged_filtered['avg_trial_time'].dt.total_seconds()\n",
    "merged_filtered['avg_feedback_time_seconds'] = merged_filtered['avg_feedback_time'].dt.total_seconds()"
   ]
  },
  {
   "cell_type": "code",
   "execution_count": 76,
   "metadata": {},
   "outputs": [],
   "source": [
    "feedback_mapping = {category: code for code, category in enumerate(merged_filtered['feedback_helped'].cat.categories)}\n",
    "merged_filtered['feedback_helped_code'] = merged_filtered['feedback_helped'].map(feedback_mapping)\n",
    "\n",
    "feedback_mapping_collapsed = {category: code for code, category in enumerate(merged_filtered['feedback_helped_collapsed'].cat.categories)}\n",
    "merged_filtered['feedback_helped_collapsed_code'] = merged_filtered['feedback_helped_collapsed'].map(feedback_mapping_collapsed)\n",
    "\n",
    "drone_mapping = {category: code for code, category in enumerate(merged_filtered['drone_experience'].cat.categories)}\n",
    "merged_filtered['drone_experience_code'] = merged_filtered['drone_experience'].map(drone_mapping)\n",
    "\n",
    "game_mapping = {category: code for code, category in enumerate(merged_filtered['video_game_experience'].cat.categories)}\n",
    "merged_filtered['video_game_experience_code'] = merged_filtered['video_game_experience'].map(game_mapping)\n",
    "\n",
    "condition_mapping = {category: code for code, category in enumerate(merged_filtered['condition'].cat.categories)}\n",
    "merged_filtered['condition_code'] = merged_filtered['condition'].map(condition_mapping)"
   ]
  },
  {
   "cell_type": "code",
   "execution_count": 89,
   "metadata": {},
   "outputs": [],
   "source": [
    "for q in questions:\n",
    "    mapping = {category: code for code, category in enumerate(all_responses[f'{q}'].cat.categories)}\n",
    "    merged_filtered[f'mode_{q}_code'] = merged_filtered[f'mode_{q}'].map(mapping)"
   ]
  },
  {
   "cell_type": "code",
   "execution_count": 67,
   "metadata": {},
   "outputs": [],
   "source": [
    "merged_filtered['gender_Non-binary'] = merged_filtered['gender_Non-binary'].astype(int)\n",
    "merged_filtered['gender_Woman'] = merged_filtered['gender_Woman'].astype(int)"
   ]
  },
  {
   "cell_type": "code",
   "execution_count": 91,
   "metadata": {},
   "outputs": [
    {
     "name": "stdout",
     "output_type": "stream",
     "text": [
      "Optimization terminated successfully.\n",
      "         Current function value: 1.159675\n",
      "         Iterations: 71\n",
      "         Function evaluations: 79\n",
      "         Gradient evaluations: 79\n",
      "                             OrderedModel Results                             \n",
      "==============================================================================\n",
      "Dep. Variable:        feedback_helped   Log-Likelihood:                -162.35\n",
      "Model:                   OrderedModel   AIC:                             364.7\n",
      "Method:            Maximum Likelihood   BIC:                             423.5\n",
      "Date:                Sun, 21 Apr 2024                                         \n",
      "Time:                        15:05:08                                         \n",
      "No. Observations:                 140                                         \n",
      "Df Residuals:                     120                                         \n",
      "Df Model:                          16                                         \n",
      "==================================================================================================\n",
      "                                     coef    std err          z      P>|z|      [0.025      0.975]\n",
      "--------------------------------------------------------------------------------------------------\n",
      "age                                0.0033      0.018      0.187      0.852      -0.031       0.038\n",
      "drone_experience_code             -0.2298      0.364     -0.632      0.528      -0.943       0.483\n",
      "video_game_experience_code         0.2255      0.191      1.181      0.238      -0.149       0.600\n",
      "total_time_seconds                 0.0006      0.001      0.877      0.380      -0.001       0.002\n",
      "avg_feedback_time_seconds         -0.0210      0.017     -1.202      0.229      -0.055       0.013\n",
      "avg_trial_time_seconds            -0.0114      0.020     -0.570      0.568      -0.051       0.028\n",
      "gender_Non-binary                 -0.3314      0.829     -0.400      0.689      -1.957       1.294\n",
      "gender_Woman                      -0.0202      0.405     -0.050      0.960      -0.815       0.774\n",
      "condition_code                     0.0148      0.211      0.070      0.944      -0.399       0.429\n",
      "n_safe_landings                    0.0496      0.037      1.344      0.179      -0.023       0.122\n",
      "mode_motivation_code               0.0278      0.525      0.053      0.958      -1.002       1.057\n",
      "mode_manageable_code               0.2965      0.284      1.045      0.296      -0.260       0.853\n",
      "mode_actionable_code               0.2280      0.224      1.016      0.310      -0.212       0.668\n",
      "mode_timely_code                  -0.1062      0.312     -0.340      0.734      -0.718       0.506\n",
      "mode_reflection_code               1.1237      0.309      3.634      0.000       0.518       1.730\n",
      "mode_motivation_collapsed_code     0.7439      0.618      1.205      0.228      -0.467       1.954\n",
      "Strongly Disagree/Disagree         3.4005      1.313      2.590      0.010       0.827       5.974\n",
      "Disagree/Neutral                   0.2074      0.229      0.905      0.365      -0.242       0.657\n",
      "Neutral/Agree                      0.0692      0.199      0.347      0.728      -0.321       0.460\n",
      "Agree/Strongly Agree               1.0681      0.119      8.986      0.000       0.835       1.301\n",
      "==================================================================================================\n"
     ]
    }
   ],
   "source": [
    "ind_vars = ['age', 'drone_experience_code', \n",
    "            'video_game_experience_code', 'total_time_seconds', \n",
    "            'avg_feedback_time_seconds','avg_trial_time_seconds', \n",
    "            'gender_Non-binary', 'gender_Woman', \n",
    "            'condition_code', 'n_safe_landings'] + [f'mode_{q}_code' for q in questions[:6]]\n",
    "\n",
    "model = OrderedModel(merged_filtered['feedback_helped'],\n",
    "                     merged_filtered[ind_vars],\n",
    "                     distr='logit')\n",
    "\n",
    "results = model.fit(method='bfgs')\n",
    "print(results.summary())"
   ]
  },
  {
   "cell_type": "code",
   "execution_count": 94,
   "metadata": {},
   "outputs": [
    {
     "name": "stdout",
     "output_type": "stream",
     "text": [
      "Optimization terminated successfully.\n",
      "         Current function value: 0.708879\n",
      "         Iterations: 70\n",
      "         Function evaluations: 79\n",
      "         Gradient evaluations: 79\n",
      "                                 OrderedModel Results                                \n",
      "=====================================================================================\n",
      "Dep. Variable:     feedback_helped_collapsed   Log-Likelihood:                -99.243\n",
      "Model:                          OrderedModel   AIC:                             232.5\n",
      "Method:                   Maximum Likelihood   BIC:                             282.5\n",
      "Date:                       Sun, 21 Apr 2024                                         \n",
      "Time:                               15:08:24                                         \n",
      "No. Observations:                        140                                         \n",
      "Df Residuals:                            123                                         \n",
      "Df Model:                                 15                                         \n",
      "==================================================================================================\n",
      "                                     coef    std err          z      P>|z|      [0.025      0.975]\n",
      "--------------------------------------------------------------------------------------------------\n",
      "age                                0.0189      0.021      0.919      0.358      -0.021       0.059\n",
      "drone_experience_code             -0.1799      0.413     -0.436      0.663      -0.988       0.629\n",
      "video_game_experience_code         0.0073      0.226      0.032      0.974      -0.436       0.451\n",
      "total_time_seconds                -0.0004      0.001     -0.415      0.678      -0.002       0.001\n",
      "avg_feedback_time_seconds          0.0015      0.022      0.070      0.944      -0.042       0.045\n",
      "avg_trial_time_seconds             0.0210      0.024      0.867      0.386      -0.026       0.069\n",
      "gender_Non-binary                  1.1588      1.148      1.010      0.313      -1.091       3.409\n",
      "gender_Woman                       0.0090      0.469      0.019      0.985      -0.911       0.929\n",
      "condition_code                     0.2926      0.263      1.111      0.266      -0.223       0.808\n",
      "n_safe_landings                    0.0891      0.047      1.912      0.056      -0.002       0.180\n",
      "mode_motivation_collapsed_code     1.0717      0.446      2.404      0.016       0.198       1.946\n",
      "mode_manageable_collapsed_code     1.2624      0.438      2.883      0.004       0.404       2.121\n",
      "mode_actionable_collapsed_code     0.1669      0.336      0.497      0.619      -0.491       0.825\n",
      "mode_timely_collapsed_code        -1.1028      0.468     -2.358      0.018      -2.019      -0.186\n",
      "mode_reflection_collapsed_code     1.0712      0.420      2.550      0.011       0.248       1.895\n",
      "Disagree/Neutral                   4.0634      1.479      2.748      0.006       1.165       6.962\n",
      "Neutral/Agree                      0.1337      0.200      0.667      0.505      -0.259       0.526\n",
      "==================================================================================================\n"
     ]
    }
   ],
   "source": [
    "ind_vars = ['age', 'drone_experience_code', \n",
    "            'video_game_experience_code', 'total_time_seconds', \n",
    "            'avg_feedback_time_seconds','avg_trial_time_seconds', \n",
    "            'gender_Non-binary', 'gender_Woman', \n",
    "            'condition_code', 'n_safe_landings'] + [f'mode_{q}_code' for q in questions[5:]]\n",
    "\n",
    "model = OrderedModel(merged_filtered['feedback_helped_collapsed'],\n",
    "                     merged_filtered[ind_vars],\n",
    "                     distr='logit')\n",
    "\n",
    "results = model.fit(method='bfgs')\n",
    "print(results.summary())"
   ]
  },
  {
   "cell_type": "markdown",
   "metadata": {},
   "source": [
    "### What is associated with overall rating for each dimension?"
   ]
  },
  {
   "cell_type": "code",
   "execution_count": 96,
   "metadata": {},
   "outputs": [
    {
     "name": "stdout",
     "output_type": "stream",
     "text": [
      "Optimization terminated successfully.\n",
      "         Current function value: 1.382803\n",
      "         Iterations: 46\n",
      "         Function evaluations: 51\n",
      "         Gradient evaluations: 51\n",
      "                              OrderedModel Results                              \n",
      "================================================================================\n",
      "Dep. Variable:     mode_motivation_code   Log-Likelihood:                -193.59\n",
      "Model:                     OrderedModel   AIC:                             415.2\n",
      "Method:              Maximum Likelihood   BIC:                             456.4\n",
      "Date:                  Sun, 21 Apr 2024                                         \n",
      "Time:                          15:31:26                                         \n",
      "No. Observations:                   140                                         \n",
      "Df Residuals:                       126                                         \n",
      "Df Model:                            10                                         \n",
      "==============================================================================================\n",
      "                                 coef    std err          z      P>|z|      [0.025      0.975]\n",
      "----------------------------------------------------------------------------------------------\n",
      "age                            0.0339      0.015      2.251      0.024       0.004       0.063\n",
      "drone_experience_code          0.1841      0.319      0.578      0.563      -0.440       0.809\n",
      "video_game_experience_code     0.1049      0.174      0.603      0.547      -0.236       0.446\n",
      "total_time_seconds            -0.0007      0.001     -1.043      0.297      -0.002       0.001\n",
      "avg_feedback_time_seconds      0.0235      0.016      1.444      0.149      -0.008       0.055\n",
      "avg_trial_time_seconds         0.0185      0.020      0.928      0.353      -0.021       0.058\n",
      "gender_Non-binary              0.2549      0.730      0.349      0.727      -1.176       1.686\n",
      "gender_Woman                   0.4336      0.373      1.162      0.245      -0.298       1.165\n",
      "condition_code                 0.0154      0.200      0.077      0.939      -0.377       0.408\n",
      "n_safe_landings               -0.0288      0.034     -0.836      0.403      -0.096       0.039\n",
      "0/1                           -1.1843      1.034     -1.146      0.252      -3.210       0.842\n",
      "1/2                           -0.0114      0.283     -0.040      0.968      -0.567       0.544\n",
      "2/3                            0.3425      0.155      2.213      0.027       0.039       0.646\n",
      "3/4                            0.5941      0.122      4.890      0.000       0.356       0.832\n",
      "==============================================================================================\n"
     ]
    }
   ],
   "source": [
    "ind_vars = ['age', 'drone_experience_code', \n",
    "            'video_game_experience_code', 'total_time_seconds', \n",
    "            'avg_feedback_time_seconds','avg_trial_time_seconds', \n",
    "            'gender_Non-binary', 'gender_Woman', \n",
    "            'condition_code', 'n_safe_landings']\n",
    "\n",
    "model = OrderedModel(merged_filtered['mode_motivation_code'],\n",
    "                     merged_filtered[ind_vars],\n",
    "                     distr='logit')\n",
    "\n",
    "results = model.fit(method='bfgs')\n",
    "print(results.summary())"
   ]
  },
  {
   "cell_type": "code",
   "execution_count": 97,
   "metadata": {},
   "outputs": [
    {
     "name": "stdout",
     "output_type": "stream",
     "text": [
      "Optimization terminated successfully.\n",
      "         Current function value: 0.915881\n",
      "         Iterations: 44\n",
      "         Function evaluations: 49\n",
      "         Gradient evaluations: 49\n",
      "                                   OrderedModel Results                                   \n",
      "==========================================================================================\n",
      "Dep. Variable:     mode_motivation_collapsed_code   Log-Likelihood:                -128.22\n",
      "Model:                               OrderedModel   AIC:                             280.4\n",
      "Method:                        Maximum Likelihood   BIC:                             315.7\n",
      "Date:                            Sun, 21 Apr 2024                                         \n",
      "Time:                                    15:32:31                                         \n",
      "No. Observations:                             140                                         \n",
      "Df Residuals:                                 128                                         \n",
      "Df Model:                                      10                                         \n",
      "==============================================================================================\n",
      "                                 coef    std err          z      P>|z|      [0.025      0.975]\n",
      "----------------------------------------------------------------------------------------------\n",
      "age                            0.0151      0.016      0.922      0.357      -0.017       0.047\n",
      "drone_experience_code         -0.0430      0.325     -0.132      0.895      -0.679       0.593\n",
      "video_game_experience_code    -0.0381      0.188     -0.203      0.839      -0.406       0.330\n",
      "total_time_seconds            -0.0006      0.001     -0.798      0.425      -0.002       0.001\n",
      "avg_feedback_time_seconds      0.0304      0.021      1.442      0.149      -0.011       0.072\n",
      "avg_trial_time_seconds         0.0150      0.020      0.738      0.460      -0.025       0.055\n",
      "gender_Non-binary              0.3615      0.835      0.433      0.665      -1.274       1.997\n",
      "gender_Woman                   0.2844      0.396      0.719      0.472      -0.491       1.060\n",
      "condition_code                 0.1110      0.220      0.505      0.613      -0.319       0.541\n",
      "n_safe_landings               -0.0181      0.038     -0.476      0.634      -0.092       0.056\n",
      "0/1                           -0.5108      1.090     -0.469      0.639      -2.647       1.625\n",
      "1/2                            0.2412      0.161      1.495      0.135      -0.075       0.557\n",
      "==============================================================================================\n"
     ]
    }
   ],
   "source": [
    "ind_vars = ['age', 'drone_experience_code', \n",
    "            'video_game_experience_code', 'total_time_seconds', \n",
    "            'avg_feedback_time_seconds','avg_trial_time_seconds', \n",
    "            'gender_Non-binary', 'gender_Woman', \n",
    "            'condition_code', 'n_safe_landings']\n",
    "\n",
    "model = OrderedModel(merged_filtered['mode_motivation_collapsed_code'],\n",
    "                     merged_filtered[ind_vars],\n",
    "                     distr='logit')\n",
    "\n",
    "results = model.fit(method='bfgs')\n",
    "print(results.summary())"
   ]
  },
  {
   "cell_type": "code",
   "execution_count": 99,
   "metadata": {},
   "outputs": [
    {
     "name": "stdout",
     "output_type": "stream",
     "text": [
      "Optimization terminated successfully.\n",
      "         Current function value: 1.169085\n",
      "         Iterations: 48\n",
      "         Function evaluations: 55\n",
      "         Gradient evaluations: 55\n",
      "                              OrderedModel Results                              \n",
      "================================================================================\n",
      "Dep. Variable:     mode_manageable_code   Log-Likelihood:                -163.67\n",
      "Model:                     OrderedModel   AIC:                             355.3\n",
      "Method:              Maximum Likelihood   BIC:                             396.5\n",
      "Date:                  Sun, 21 Apr 2024                                         \n",
      "Time:                          15:33:35                                         \n",
      "No. Observations:                   140                                         \n",
      "Df Residuals:                       126                                         \n",
      "Df Model:                            10                                         \n",
      "==============================================================================================\n",
      "                                 coef    std err          z      P>|z|      [0.025      0.975]\n",
      "----------------------------------------------------------------------------------------------\n",
      "age                           -0.0229      0.017     -1.389      0.165      -0.055       0.009\n",
      "drone_experience_code         -0.5244      0.333     -1.577      0.115      -1.176       0.128\n",
      "video_game_experience_code     0.0363      0.187      0.194      0.846      -0.329       0.402\n",
      "total_time_seconds             0.0012      0.001      1.673      0.094      -0.000       0.003\n",
      "avg_feedback_time_seconds     -0.0091      0.017     -0.542      0.588      -0.042       0.024\n",
      "avg_trial_time_seconds        -0.0370      0.020     -1.863      0.062      -0.076       0.002\n",
      "gender_Non-binary             -1.1552      0.781     -1.479      0.139      -2.686       0.376\n",
      "gender_Woman                  -0.4997      0.406     -1.231      0.218      -1.296       0.296\n",
      "condition_code                 0.0077      0.210      0.037      0.971      -0.404       0.419\n",
      "n_safe_landings               -0.0213      0.038     -0.569      0.570      -0.095       0.052\n",
      "0/1                           -3.8013      1.187     -3.203      0.001      -6.127      -1.476\n",
      "1/2                            0.2849      0.252      1.130      0.259      -0.209       0.779\n",
      "2/3                            1.0740      0.097     11.114      0.000       0.885       1.263\n",
      "3/4                            0.0824      0.221      0.373      0.709      -0.350       0.515\n",
      "==============================================================================================\n"
     ]
    }
   ],
   "source": [
    "ind_vars = ['age', 'drone_experience_code', \n",
    "            'video_game_experience_code', 'total_time_seconds', \n",
    "            'avg_feedback_time_seconds','avg_trial_time_seconds', \n",
    "            'gender_Non-binary', 'gender_Woman', \n",
    "            'condition_code', 'n_safe_landings']\n",
    "\n",
    "model = OrderedModel(merged_filtered['mode_manageable_code'],\n",
    "                     merged_filtered[ind_vars],\n",
    "                     distr='logit')\n",
    "\n",
    "results = model.fit(method='bfgs')\n",
    "print(results.summary())"
   ]
  },
  {
   "cell_type": "code",
   "execution_count": 100,
   "metadata": {},
   "outputs": [
    {
     "name": "stdout",
     "output_type": "stream",
     "text": [
      "Optimization terminated successfully.\n",
      "         Current function value: 0.952677\n",
      "         Iterations: 40\n",
      "         Function evaluations: 48\n",
      "         Gradient evaluations: 48\n",
      "                                   OrderedModel Results                                   \n",
      "==========================================================================================\n",
      "Dep. Variable:     mode_manageable_collapsed_code   Log-Likelihood:                -133.37\n",
      "Model:                               OrderedModel   AIC:                             290.7\n",
      "Method:                        Maximum Likelihood   BIC:                             326.0\n",
      "Date:                            Sun, 21 Apr 2024                                         \n",
      "Time:                                    15:34:50                                         \n",
      "No. Observations:                             140                                         \n",
      "Df Residuals:                                 128                                         \n",
      "Df Model:                                      10                                         \n",
      "==============================================================================================\n",
      "                                 coef    std err          z      P>|z|      [0.025      0.975]\n",
      "----------------------------------------------------------------------------------------------\n",
      "age                           -0.0207      0.016     -1.266      0.206      -0.053       0.011\n",
      "drone_experience_code         -0.3008      0.342     -0.880      0.379      -0.971       0.369\n",
      "video_game_experience_code     0.1257      0.185      0.680      0.497      -0.237       0.488\n",
      "total_time_seconds             0.0011      0.001      1.599      0.110      -0.000       0.003\n",
      "avg_feedback_time_seconds     -0.0323      0.017     -1.911      0.056      -0.065       0.001\n",
      "avg_trial_time_seconds        -0.0228      0.020     -1.149      0.251      -0.062       0.016\n",
      "gender_Non-binary             -0.9903      0.799     -1.239      0.215      -2.557       0.576\n",
      "gender_Woman                  -0.2838      0.397     -0.715      0.475      -1.062       0.494\n",
      "condition_code                 0.0197      0.208      0.095      0.924      -0.388       0.428\n",
      "n_safe_landings               -0.0105      0.037     -0.283      0.777      -0.083       0.062\n",
      "0/1                           -2.2825      1.136     -2.009      0.045      -4.510      -0.055\n",
      "1/2                            0.9872      0.099      9.930      0.000       0.792       1.182\n",
      "==============================================================================================\n"
     ]
    }
   ],
   "source": [
    "ind_vars = ['age', 'drone_experience_code', \n",
    "            'video_game_experience_code', 'total_time_seconds', \n",
    "            'avg_feedback_time_seconds','avg_trial_time_seconds', \n",
    "            'gender_Non-binary', 'gender_Woman', \n",
    "            'condition_code', 'n_safe_landings']\n",
    "\n",
    "model = OrderedModel(merged_filtered['mode_manageable_collapsed_code'],\n",
    "                     merged_filtered[ind_vars],\n",
    "                     distr='logit')\n",
    "\n",
    "results = model.fit(method='bfgs')\n",
    "print(results.summary())"
   ]
  },
  {
   "cell_type": "code",
   "execution_count": 103,
   "metadata": {},
   "outputs": [
    {
     "name": "stdout",
     "output_type": "stream",
     "text": [
      "Optimization terminated successfully.\n",
      "         Current function value: 0.957511\n",
      "         Iterations: 52\n",
      "         Function evaluations: 59\n",
      "         Gradient evaluations: 59\n",
      "                             OrderedModel Results                             \n",
      "==============================================================================\n",
      "Dep. Variable:       mode_timely_code   Log-Likelihood:                -134.05\n",
      "Model:                   OrderedModel   AIC:                             296.1\n",
      "Method:            Maximum Likelihood   BIC:                             337.3\n",
      "Date:                Sun, 21 Apr 2024                                         \n",
      "Time:                        15:37:17                                         \n",
      "No. Observations:                 140                                         \n",
      "Df Residuals:                     126                                         \n",
      "Df Model:                          10                                         \n",
      "==============================================================================================\n",
      "                                 coef    std err          z      P>|z|      [0.025      0.975]\n",
      "----------------------------------------------------------------------------------------------\n",
      "age                           -0.0083      0.017     -0.486      0.627      -0.042       0.025\n",
      "drone_experience_code          0.0912      0.352      0.259      0.796      -0.599       0.781\n",
      "video_game_experience_code     0.3059      0.197      1.556      0.120      -0.079       0.691\n",
      "total_time_seconds             0.0008      0.001      1.121      0.262      -0.001       0.002\n",
      "avg_feedback_time_seconds     -0.0281      0.017     -1.617      0.106      -0.062       0.006\n",
      "avg_trial_time_seconds        -0.0254      0.021     -1.192      0.233      -0.067       0.016\n",
      "gender_Non-binary             -0.6700      0.852     -0.786      0.432      -2.340       1.000\n",
      "gender_Woman                   0.0287      0.420      0.068      0.946      -0.795       0.853\n",
      "condition_code                 0.1600      0.225      0.711      0.477      -0.281       0.601\n",
      "n_safe_landings                0.0560      0.039      1.449      0.147      -0.020       0.132\n",
      "0/1                           -3.7922      1.353     -2.802      0.005      -6.445      -1.140\n",
      "1/2                           -0.0409      0.589     -0.069      0.945      -1.195       1.114\n",
      "2/3                            1.4707      0.115     12.750      0.000       1.245       1.697\n",
      "3/4                            0.0273      0.197      0.139      0.890      -0.359       0.413\n",
      "==============================================================================================\n"
     ]
    }
   ],
   "source": [
    "ind_vars = ['age', 'drone_experience_code', \n",
    "            'video_game_experience_code', 'total_time_seconds', \n",
    "            'avg_feedback_time_seconds','avg_trial_time_seconds', \n",
    "            'gender_Non-binary', 'gender_Woman', \n",
    "            'condition_code', 'n_safe_landings']\n",
    "\n",
    "model = OrderedModel(merged_filtered['mode_timely_code'],\n",
    "                     merged_filtered[ind_vars],\n",
    "                     distr='logit')\n",
    "\n",
    "results = model.fit(method='bfgs')\n",
    "print(results.summary())"
   ]
  },
  {
   "cell_type": "code",
   "execution_count": 102,
   "metadata": {},
   "outputs": [
    {
     "name": "stdout",
     "output_type": "stream",
     "text": [
      "Optimization terminated successfully.\n",
      "         Current function value: 0.738533\n",
      "         Iterations: 44\n",
      "         Function evaluations: 49\n",
      "         Gradient evaluations: 49\n",
      "                                 OrderedModel Results                                 \n",
      "======================================================================================\n",
      "Dep. Variable:     mode_timely_collapsed_code   Log-Likelihood:                -103.39\n",
      "Model:                           OrderedModel   AIC:                             230.8\n",
      "Method:                    Maximum Likelihood   BIC:                             266.1\n",
      "Date:                        Sun, 21 Apr 2024                                         \n",
      "Time:                                15:36:15                                         \n",
      "No. Observations:                         140                                         \n",
      "Df Residuals:                             128                                         \n",
      "Df Model:                                  10                                         \n",
      "==============================================================================================\n",
      "                                 coef    std err          z      P>|z|      [0.025      0.975]\n",
      "----------------------------------------------------------------------------------------------\n",
      "age                           -0.0049      0.017     -0.282      0.778      -0.039       0.029\n",
      "drone_experience_code          0.0721      0.368      0.196      0.845      -0.650       0.794\n",
      "video_game_experience_code     0.2476      0.201      1.234      0.217      -0.146       0.641\n",
      "total_time_seconds             0.0009      0.001      1.250      0.211      -0.001       0.002\n",
      "avg_feedback_time_seconds     -0.0339      0.018     -1.864      0.062      -0.070       0.002\n",
      "avg_trial_time_seconds        -0.0338      0.022     -1.506      0.132      -0.078       0.010\n",
      "gender_Non-binary             -0.5944      0.858     -0.693      0.488      -2.275       1.086\n",
      "gender_Woman                   0.0805      0.423      0.190      0.849      -0.749       0.910\n",
      "condition_code                 0.2303      0.229      1.008      0.314      -0.218       0.678\n",
      "n_safe_landings                0.0597      0.040      1.494      0.135      -0.019       0.138\n",
      "0/1                           -2.5922      1.235     -2.099      0.036      -5.013      -0.171\n",
      "1/2                            1.4209      0.112     12.637      0.000       1.201       1.641\n",
      "==============================================================================================\n"
     ]
    }
   ],
   "source": [
    "ind_vars = ['age', 'drone_experience_code', \n",
    "            'video_game_experience_code', 'total_time_seconds', \n",
    "            'avg_feedback_time_seconds','avg_trial_time_seconds', \n",
    "            'gender_Non-binary', 'gender_Woman', \n",
    "            'condition_code', 'n_safe_landings']\n",
    "\n",
    "model = OrderedModel(merged_filtered['mode_timely_collapsed_code'],\n",
    "                     merged_filtered[ind_vars],\n",
    "                     distr='logit')\n",
    "\n",
    "results = model.fit(method='bfgs')\n",
    "print(results.summary())"
   ]
  },
  {
   "cell_type": "code",
   "execution_count": 104,
   "metadata": {},
   "outputs": [
    {
     "name": "stdout",
     "output_type": "stream",
     "text": [
      "Optimization terminated successfully.\n",
      "         Current function value: 1.310754\n",
      "         Iterations: 45\n",
      "         Function evaluations: 53\n",
      "         Gradient evaluations: 53\n",
      "                              OrderedModel Results                              \n",
      "================================================================================\n",
      "Dep. Variable:     mode_reflection_code   Log-Likelihood:                -183.51\n",
      "Model:                     OrderedModel   AIC:                             395.0\n",
      "Method:              Maximum Likelihood   BIC:                             436.2\n",
      "Date:                  Sun, 21 Apr 2024                                         \n",
      "Time:                          15:37:44                                         \n",
      "No. Observations:                   140                                         \n",
      "Df Residuals:                       126                                         \n",
      "Df Model:                            10                                         \n",
      "==============================================================================================\n",
      "                                 coef    std err          z      P>|z|      [0.025      0.975]\n",
      "----------------------------------------------------------------------------------------------\n",
      "age                            0.0545      0.016      3.483      0.000       0.024       0.085\n",
      "drone_experience_code          0.3457      0.303      1.143      0.253      -0.247       0.939\n",
      "video_game_experience_code    -0.0349      0.178     -0.196      0.845      -0.384       0.314\n",
      "total_time_seconds            -0.0003      0.001     -0.434      0.664      -0.002       0.001\n",
      "avg_feedback_time_seconds     -0.0031      0.017     -0.182      0.856      -0.036       0.030\n",
      "avg_trial_time_seconds         0.0053      0.021      0.258      0.797      -0.035       0.046\n",
      "gender_Non-binary             -0.1687      0.737     -0.229      0.819      -1.613       1.275\n",
      "gender_Woman                   0.1395      0.384      0.364      0.716      -0.613       0.892\n",
      "condition_code                -0.1378      0.201     -0.684      0.494      -0.533       0.257\n",
      "n_safe_landings               -0.0304      0.035     -0.868      0.385      -0.099       0.038\n",
      "0/1                           -1.7618      1.070     -1.647      0.100      -3.858       0.335\n",
      "1/2                           -0.1209      0.310     -0.389      0.697      -0.729       0.488\n",
      "2/3                            0.2387      0.177      1.348      0.178      -0.108       0.586\n",
      "3/4                            0.7200      0.117      6.174      0.000       0.491       0.949\n",
      "==============================================================================================\n"
     ]
    }
   ],
   "source": [
    "ind_vars = ['age', 'drone_experience_code', \n",
    "            'video_game_experience_code', 'total_time_seconds', \n",
    "            'avg_feedback_time_seconds','avg_trial_time_seconds', \n",
    "            'gender_Non-binary', 'gender_Woman', \n",
    "            'condition_code', 'n_safe_landings']\n",
    "\n",
    "model = OrderedModel(merged_filtered['mode_reflection_code'],\n",
    "                     merged_filtered[ind_vars],\n",
    "                     distr='logit')\n",
    "\n",
    "results = model.fit(method='bfgs')\n",
    "print(results.summary())"
   ]
  },
  {
   "cell_type": "code",
   "execution_count": 105,
   "metadata": {},
   "outputs": [
    {
     "name": "stdout",
     "output_type": "stream",
     "text": [
      "Optimization terminated successfully.\n",
      "         Current function value: 0.795676\n",
      "         Iterations: 46\n",
      "         Function evaluations: 54\n",
      "         Gradient evaluations: 54\n",
      "                                   OrderedModel Results                                   \n",
      "==========================================================================================\n",
      "Dep. Variable:     mode_reflection_collapsed_code   Log-Likelihood:                -111.39\n",
      "Model:                               OrderedModel   AIC:                             246.8\n",
      "Method:                        Maximum Likelihood   BIC:                             282.1\n",
      "Date:                            Sun, 21 Apr 2024                                         \n",
      "Time:                                    15:38:35                                         \n",
      "No. Observations:                             140                                         \n",
      "Df Residuals:                                 128                                         \n",
      "Df Model:                                      10                                         \n",
      "==============================================================================================\n",
      "                                 coef    std err          z      P>|z|      [0.025      0.975]\n",
      "----------------------------------------------------------------------------------------------\n",
      "age                            0.0615      0.020      3.089      0.002       0.022       0.101\n",
      "drone_experience_code          0.6915      0.459      1.507      0.132      -0.208       1.591\n",
      "video_game_experience_code    -0.1165      0.207     -0.562      0.574      -0.523       0.290\n",
      "total_time_seconds            -0.0009      0.001     -1.238      0.216      -0.002       0.001\n",
      "avg_feedback_time_seconds      0.0179      0.018      0.989      0.323      -0.018       0.053\n",
      "avg_trial_time_seconds         0.0199      0.021      0.940      0.347      -0.022       0.061\n",
      "gender_Non-binary             -0.0661      0.788     -0.084      0.933      -1.610       1.478\n",
      "gender_Woman                   0.2462      0.432      0.570      0.569      -0.600       1.092\n",
      "condition_code                -0.0371      0.235     -0.158      0.875      -0.498       0.424\n",
      "n_safe_landings               -0.0051      0.040     -0.127      0.899      -0.084       0.074\n",
      "0/1                           -0.0592      1.164     -0.051      0.959      -2.341       2.223\n",
      "1/2                            0.1129      0.187      0.603      0.546      -0.254       0.480\n",
      "==============================================================================================\n"
     ]
    }
   ],
   "source": [
    "ind_vars = ['age', 'drone_experience_code', \n",
    "            'video_game_experience_code', 'total_time_seconds', \n",
    "            'avg_feedback_time_seconds','avg_trial_time_seconds', \n",
    "            'gender_Non-binary', 'gender_Woman', \n",
    "            'condition_code', 'n_safe_landings']\n",
    "\n",
    "model = OrderedModel(merged_filtered['mode_reflection_collapsed_code'],\n",
    "                     merged_filtered[ind_vars],\n",
    "                     distr='logit')\n",
    "\n",
    "results = model.fit(method='bfgs')\n",
    "print(results.summary())"
   ]
  },
  {
   "cell_type": "code",
   "execution_count": 106,
   "metadata": {},
   "outputs": [
    {
     "name": "stdout",
     "output_type": "stream",
     "text": [
      "Optimization terminated successfully.\n",
      "         Current function value: 1.436502\n",
      "         Iterations: 45\n",
      "         Function evaluations: 51\n",
      "         Gradient evaluations: 51\n",
      "                              OrderedModel Results                              \n",
      "================================================================================\n",
      "Dep. Variable:     mode_actionable_code   Log-Likelihood:                -201.11\n",
      "Model:                     OrderedModel   AIC:                             430.2\n",
      "Method:              Maximum Likelihood   BIC:                             471.4\n",
      "Date:                  Sun, 21 Apr 2024                                         \n",
      "Time:                          15:39:19                                         \n",
      "No. Observations:                   140                                         \n",
      "Df Residuals:                       126                                         \n",
      "Df Model:                            10                                         \n",
      "==============================================================================================\n",
      "                                 coef    std err          z      P>|z|      [0.025      0.975]\n",
      "----------------------------------------------------------------------------------------------\n",
      "age                            0.0183      0.015      1.200      0.230      -0.012       0.048\n",
      "drone_experience_code          0.4852      0.310      1.565      0.118      -0.122       1.093\n",
      "video_game_experience_code     0.3507      0.178      1.970      0.049       0.002       0.700\n",
      "total_time_seconds             0.0002      0.001      0.299      0.765      -0.001       0.001\n",
      "avg_feedback_time_seconds     -0.0174      0.016     -1.092      0.275      -0.049       0.014\n",
      "avg_trial_time_seconds         0.0120      0.019      0.639      0.523      -0.025       0.049\n",
      "gender_Non-binary             -0.2253      0.693     -0.325      0.745      -1.583       1.132\n",
      "gender_Woman                   0.0272      0.375      0.072      0.942      -0.709       0.763\n",
      "condition_code                 0.0466      0.192      0.242      0.808      -0.330       0.423\n",
      "n_safe_landings               -0.0441      0.035     -1.274      0.203      -0.112       0.024\n",
      "0/1                           -1.3081      1.037     -1.261      0.207      -3.342       0.725\n",
      "1/2                            0.2122      0.220      0.966      0.334      -0.218       0.643\n",
      "2/3                            0.0609      0.166      0.367      0.714      -0.264       0.386\n",
      "3/4                            0.6741      0.122      5.543      0.000       0.436       0.912\n",
      "==============================================================================================\n"
     ]
    }
   ],
   "source": [
    "ind_vars = ['age', 'drone_experience_code', \n",
    "            'video_game_experience_code', 'total_time_seconds', \n",
    "            'avg_feedback_time_seconds','avg_trial_time_seconds', \n",
    "            'gender_Non-binary', 'gender_Woman', \n",
    "            'condition_code', 'n_safe_landings']\n",
    "\n",
    "model = OrderedModel(merged_filtered['mode_actionable_code'],\n",
    "                     merged_filtered[ind_vars],\n",
    "                     distr='logit')\n",
    "\n",
    "results = model.fit(method='bfgs')\n",
    "print(results.summary())"
   ]
  },
  {
   "cell_type": "code",
   "execution_count": 107,
   "metadata": {},
   "outputs": [
    {
     "name": "stdout",
     "output_type": "stream",
     "text": [
      "Optimization terminated successfully.\n",
      "         Current function value: 0.963605\n",
      "         Iterations: 42\n",
      "         Function evaluations: 48\n",
      "         Gradient evaluations: 48\n",
      "                                   OrderedModel Results                                   \n",
      "==========================================================================================\n",
      "Dep. Variable:     mode_actionable_collapsed_code   Log-Likelihood:                -134.90\n",
      "Model:                               OrderedModel   AIC:                             293.8\n",
      "Method:                        Maximum Likelihood   BIC:                             329.1\n",
      "Date:                            Sun, 21 Apr 2024                                         \n",
      "Time:                                    15:40:13                                         \n",
      "No. Observations:                             140                                         \n",
      "Df Residuals:                                 128                                         \n",
      "Df Model:                                      10                                         \n",
      "==============================================================================================\n",
      "                                 coef    std err          z      P>|z|      [0.025      0.975]\n",
      "----------------------------------------------------------------------------------------------\n",
      "age                            0.0078      0.017      0.468      0.639      -0.025       0.040\n",
      "drone_experience_code          0.3915      0.354      1.108      0.268      -0.301       1.084\n",
      "video_game_experience_code     0.2306      0.185      1.247      0.212      -0.132       0.593\n",
      "total_time_seconds         -5.408e-05      0.001     -0.076      0.939      -0.001       0.001\n",
      "avg_feedback_time_seconds     -0.0091      0.017     -0.539      0.590      -0.042       0.024\n",
      "avg_trial_time_seconds         0.0213      0.020      1.057      0.290      -0.018       0.061\n",
      "gender_Non-binary             -0.7416      0.741     -1.002      0.317      -2.193       0.710\n",
      "gender_Woman                  -0.1794      0.397     -0.452      0.652      -0.958       0.599\n",
      "condition_code                -0.0159      0.213     -0.075      0.941      -0.434       0.402\n",
      "n_safe_landings               -0.0512      0.037     -1.379      0.168      -0.124       0.022\n",
      "0/1                           -0.8474      1.080     -0.785      0.433      -2.964       1.269\n",
      "1/2                            0.0359      0.169      0.213      0.831      -0.295       0.366\n",
      "==============================================================================================\n"
     ]
    }
   ],
   "source": [
    "ind_vars = ['age', 'drone_experience_code', \n",
    "            'video_game_experience_code', 'total_time_seconds', \n",
    "            'avg_feedback_time_seconds','avg_trial_time_seconds', \n",
    "            'gender_Non-binary', 'gender_Woman', \n",
    "            'condition_code', 'n_safe_landings']\n",
    "\n",
    "model = OrderedModel(merged_filtered['mode_actionable_collapsed_code'],\n",
    "                     merged_filtered[ind_vars],\n",
    "                     distr='logit')\n",
    "\n",
    "results = model.fit(method='bfgs')\n",
    "print(results.summary())"
   ]
  },
  {
   "cell_type": "markdown",
   "metadata": {},
   "source": [
    "### What is associated with trial rating in each direction?"
   ]
  },
  {
   "cell_type": "code",
   "execution_count": 108,
   "metadata": {},
   "outputs": [],
   "source": [
    "all_responses['trial_time_seconds'] = all_responses['trial_time'].dt.total_seconds()\n",
    "all_responses['feedback_time_seconds'] = all_responses['feedback_time'].dt.total_seconds()"
   ]
  },
  {
   "cell_type": "code",
   "execution_count": 109,
   "metadata": {},
   "outputs": [],
   "source": [
    "outcome_mapping = {category: code for code, category in enumerate(all_responses['outcome'].cat.categories)}\n",
    "all_responses['outcome_code'] = all_responses['outcome'].map(outcome_mapping)\n",
    "\n",
    "all_responses['condition_code'] = all_responses['condition'].map(condition_mapping)"
   ]
  },
  {
   "cell_type": "code",
   "execution_count": 110,
   "metadata": {},
   "outputs": [
    {
     "name": "stdout",
     "output_type": "stream",
     "text": [
      "Optimization terminated successfully.\n",
      "         Current function value: 1.459320\n",
      "         Iterations: 26\n",
      "         Function evaluations: 29\n",
      "         Gradient evaluations: 29\n",
      "                             OrderedModel Results                             \n",
      "==============================================================================\n",
      "Dep. Variable:             motivation   Log-Likelihood:                -4086.1\n",
      "Model:                   OrderedModel   AIC:                             8190.\n",
      "Method:            Maximum Likelihood   BIC:                             8244.\n",
      "Date:                Sun, 21 Apr 2024                                         \n",
      "Time:                        15:51:29                                         \n",
      "No. Observations:                2800                                         \n",
      "Df Residuals:                    2791                                         \n",
      "Df Model:                           5                                         \n",
      "==============================================================================================\n",
      "                                 coef    std err          z      P>|z|      [0.025      0.975]\n",
      "----------------------------------------------------------------------------------------------\n",
      "trial_time_seconds             0.0018      0.001      1.726      0.084      -0.000       0.004\n",
      "feedback_time_seconds          0.0015      0.001      2.241      0.025       0.000       0.003\n",
      "trial                         -0.0346      0.006     -5.583      0.000      -0.047      -0.022\n",
      "outcome_code                  -0.0584      0.046     -1.267      0.205      -0.149       0.032\n",
      "condition_code                 0.1231      0.042      2.940      0.003       0.041       0.205\n",
      "Strongly Disagree/Disagree    -2.6663      0.140    -19.084      0.000      -2.940      -2.392\n",
      "Disagree/Neutral              -0.0301      0.060     -0.504      0.614      -0.147       0.087\n",
      "Neutral/Agree                  0.3378      0.033     10.282      0.000       0.273       0.402\n",
      "Agree/Strongly Agree           0.4127      0.029     14.085      0.000       0.355       0.470\n",
      "==============================================================================================\n"
     ]
    }
   ],
   "source": [
    "ind_vars = ['trial_time_seconds', 'feedback_time_seconds', 'trial', 'outcome_code', 'condition_code']\n",
    "\n",
    "model = OrderedModel(all_responses['motivation'],\n",
    "                     all_responses[ind_vars],\n",
    "                     distr='logit')\n",
    "\n",
    "results = model.fit(method='bfgs')\n",
    "print(results.summary())"
   ]
  },
  {
   "cell_type": "code",
   "execution_count": 111,
   "metadata": {},
   "outputs": [
    {
     "name": "stdout",
     "output_type": "stream",
     "text": [
      "Optimization terminated successfully.\n",
      "         Current function value: 0.971199\n",
      "         Iterations: 23\n",
      "         Function evaluations: 26\n",
      "         Gradient evaluations: 26\n",
      "                              OrderedModel Results                              \n",
      "================================================================================\n",
      "Dep. Variable:     motivation_collapsed   Log-Likelihood:                -2719.4\n",
      "Model:                     OrderedModel   AIC:                             5453.\n",
      "Method:              Maximum Likelihood   BIC:                             5494.\n",
      "Date:                  Sun, 21 Apr 2024                                         \n",
      "Time:                          15:53:46                                         \n",
      "No. Observations:                  2800                                         \n",
      "Df Residuals:                      2793                                         \n",
      "Df Model:                             5                                         \n",
      "=========================================================================================\n",
      "                            coef    std err          z      P>|z|      [0.025      0.975]\n",
      "-----------------------------------------------------------------------------------------\n",
      "trial_time_seconds        0.0040      0.002      2.642      0.008       0.001       0.007\n",
      "feedback_time_seconds     0.0028      0.001      2.477      0.013       0.001       0.005\n",
      "trial                    -0.0439      0.007     -6.527      0.000      -0.057      -0.031\n",
      "outcome_code              0.0284      0.049      0.575      0.565      -0.069       0.125\n",
      "condition_code            0.0703      0.046      1.539      0.124      -0.019       0.160\n",
      "Disagree/Neutral         -1.7095      0.144    -11.873      0.000      -1.992      -1.427\n",
      "Neutral/Agree             0.3424      0.033     10.423      0.000       0.278       0.407\n",
      "=========================================================================================\n"
     ]
    }
   ],
   "source": [
    "ind_vars = ['trial_time_seconds', 'feedback_time_seconds', 'trial', 'outcome_code', 'condition_code']\n",
    "\n",
    "model = OrderedModel(all_responses['motivation_collapsed'],\n",
    "                     all_responses[ind_vars],\n",
    "                     distr='logit')\n",
    "\n",
    "results = model.fit(method='bfgs')\n",
    "print(results.summary())"
   ]
  },
  {
   "cell_type": "code",
   "execution_count": 112,
   "metadata": {},
   "outputs": [
    {
     "name": "stdout",
     "output_type": "stream",
     "text": [
      "Optimization terminated successfully.\n",
      "         Current function value: 1.286556\n",
      "         Iterations: 24\n",
      "         Function evaluations: 28\n",
      "         Gradient evaluations: 28\n",
      "                             OrderedModel Results                             \n",
      "==============================================================================\n",
      "Dep. Variable:             manageable   Log-Likelihood:                -3602.4\n",
      "Model:                   OrderedModel   AIC:                             7223.\n",
      "Method:            Maximum Likelihood   BIC:                             7276.\n",
      "Date:                Sun, 21 Apr 2024                                         \n",
      "Time:                        15:54:58                                         \n",
      "No. Observations:                2800                                         \n",
      "Df Residuals:                    2791                                         \n",
      "Df Model:                           5                                         \n",
      "==============================================================================================\n",
      "                                 coef    std err          z      P>|z|      [0.025      0.975]\n",
      "----------------------------------------------------------------------------------------------\n",
      "trial_time_seconds            -0.0004      0.001     -0.339      0.735      -0.002       0.002\n",
      "feedback_time_seconds         -0.0002      0.000     -0.653      0.514      -0.001       0.000\n",
      "trial                          0.0011      0.006      0.164      0.870      -0.012       0.014\n",
      "outcome_code                   0.0157      0.049      0.323      0.747      -0.080       0.111\n",
      "condition_code                -0.0068      0.044     -0.156      0.876      -0.092       0.079\n",
      "Much too little/Too little    -3.1098      0.153    -20.266      0.000      -3.411      -2.809\n",
      "Too little/Just right          0.4226      0.054      7.785      0.000       0.316       0.529\n",
      "Just right/Too much            0.9054      0.022     40.592      0.000       0.862       0.949\n",
      "Too much/Much too much         0.1142      0.044      2.622      0.009       0.029       0.200\n",
      "==============================================================================================\n"
     ]
    }
   ],
   "source": [
    "ind_vars = ['trial_time_seconds', 'feedback_time_seconds', 'trial', 'outcome_code', 'condition_code']\n",
    "\n",
    "model = OrderedModel(all_responses['manageable'],\n",
    "                     all_responses[ind_vars],\n",
    "                     distr='logit')\n",
    "\n",
    "results = model.fit(method='bfgs')\n",
    "print(results.summary())"
   ]
  },
  {
   "cell_type": "code",
   "execution_count": 113,
   "metadata": {},
   "outputs": [
    {
     "name": "stdout",
     "output_type": "stream",
     "text": [
      "Optimization terminated successfully.\n",
      "         Current function value: 0.994083\n",
      "         Iterations: 18\n",
      "         Function evaluations: 22\n",
      "         Gradient evaluations: 22\n",
      "                              OrderedModel Results                              \n",
      "================================================================================\n",
      "Dep. Variable:     manageable_collapsed   Log-Likelihood:                -2783.4\n",
      "Model:                     OrderedModel   AIC:                             5581.\n",
      "Method:              Maximum Likelihood   BIC:                             5622.\n",
      "Date:                  Sun, 21 Apr 2024                                         \n",
      "Time:                          15:55:45                                         \n",
      "No. Observations:                  2800                                         \n",
      "Df Residuals:                      2793                                         \n",
      "Df Model:                             5                                         \n",
      "=========================================================================================\n",
      "                            coef    std err          z      P>|z|      [0.025      0.975]\n",
      "-----------------------------------------------------------------------------------------\n",
      "trial_time_seconds    -2.307e-05      0.001     -0.021      0.983      -0.002       0.002\n",
      "feedback_time_seconds    -0.0004      0.000     -0.900      0.368      -0.001       0.000\n",
      "trial                     0.0004      0.007      0.060      0.952      -0.013       0.013\n",
      "outcome_code              0.0014      0.049      0.029      0.977      -0.095       0.098\n",
      "condition_code           -0.0009      0.044     -0.020      0.984      -0.088       0.086\n",
      "Too little/Just right    -1.5898      0.134    -11.820      0.000      -1.853      -1.326\n",
      "Just right/Too much       0.9054      0.022     40.597      0.000       0.862       0.949\n",
      "=========================================================================================\n"
     ]
    }
   ],
   "source": [
    "ind_vars = ['trial_time_seconds', 'feedback_time_seconds', 'trial', 'outcome_code', 'condition_code']\n",
    "\n",
    "model = OrderedModel(all_responses['manageable_collapsed'],\n",
    "                     all_responses[ind_vars],\n",
    "                     distr='logit')\n",
    "\n",
    "results = model.fit(method='bfgs')\n",
    "print(results.summary())"
   ]
  },
  {
   "cell_type": "code",
   "execution_count": 114,
   "metadata": {},
   "outputs": [
    {
     "name": "stdout",
     "output_type": "stream",
     "text": [
      "Optimization terminated successfully.\n",
      "         Current function value: 1.056185\n",
      "         Iterations: 30\n",
      "         Function evaluations: 34\n",
      "         Gradient evaluations: 34\n",
      "                             OrderedModel Results                             \n",
      "==============================================================================\n",
      "Dep. Variable:                 timely   Log-Likelihood:                -2957.3\n",
      "Model:                   OrderedModel   AIC:                             5933.\n",
      "Method:            Maximum Likelihood   BIC:                             5986.\n",
      "Date:                Sun, 21 Apr 2024                                         \n",
      "Time:                        15:56:15                                         \n",
      "No. Observations:                2800                                         \n",
      "Df Residuals:                    2791                                         \n",
      "Df Model:                           5                                         \n",
      "======================================================================================================\n",
      "                                         coef    std err          z      P>|z|      [0.025      0.975]\n",
      "------------------------------------------------------------------------------------------------------\n",
      "trial_time_seconds                    -0.0012      0.001     -0.926      0.354      -0.004       0.001\n",
      "feedback_time_seconds                  0.0005      0.000      1.547      0.122      -0.000       0.001\n",
      "trial                                  0.0190      0.007      2.744      0.006       0.005       0.033\n",
      "outcome_code                           0.1337      0.052      2.575      0.010       0.032       0.236\n",
      "condition_code                         0.1206      0.047      2.579      0.010       0.029       0.212\n",
      "Much too infrequent/Too infrequent    -3.5551      0.197    -18.060      0.000      -3.941      -3.169\n",
      "Too infrequent/Just enough             0.2612      0.099      2.645      0.008       0.068       0.455\n",
      "Just enough/Too often                  1.2906      0.024     54.644      0.000       1.244       1.337\n",
      "Too often/Much too often               0.0828      0.043      1.945      0.052      -0.001       0.166\n",
      "======================================================================================================\n"
     ]
    }
   ],
   "source": [
    "ind_vars = ['trial_time_seconds', 'feedback_time_seconds', 'trial', 'outcome_code', 'condition_code']\n",
    "\n",
    "model = OrderedModel(all_responses['timely'],\n",
    "                     all_responses[ind_vars],\n",
    "                     distr='logit')\n",
    "\n",
    "results = model.fit(method='bfgs')\n",
    "print(results.summary())"
   ]
  },
  {
   "cell_type": "code",
   "execution_count": 115,
   "metadata": {},
   "outputs": [
    {
     "name": "stdout",
     "output_type": "stream",
     "text": [
      "Optimization terminated successfully.\n",
      "         Current function value: 0.810716\n",
      "         Iterations: 21\n",
      "         Function evaluations: 26\n",
      "         Gradient evaluations: 26\n",
      "                             OrderedModel Results                             \n",
      "==============================================================================\n",
      "Dep. Variable:       timely_collapsed   Log-Likelihood:                -2270.0\n",
      "Model:                   OrderedModel   AIC:                             4554.\n",
      "Method:            Maximum Likelihood   BIC:                             4596.\n",
      "Date:                Sun, 21 Apr 2024                                         \n",
      "Time:                        15:57:15                                         \n",
      "No. Observations:                2800                                         \n",
      "Df Residuals:                    2793                                         \n",
      "Df Model:                           5                                         \n",
      "==============================================================================================\n",
      "                                 coef    std err          z      P>|z|      [0.025      0.975]\n",
      "----------------------------------------------------------------------------------------------\n",
      "trial_time_seconds            -0.0014      0.001     -1.049      0.294      -0.004       0.001\n",
      "feedback_time_seconds          0.0012      0.001      1.638      0.101      -0.000       0.003\n",
      "trial                          0.0155      0.007      2.201      0.028       0.002       0.029\n",
      "outcome_code                   0.1345      0.053      2.556      0.011       0.031       0.238\n",
      "condition_code                 0.1095      0.047      2.312      0.021       0.017       0.202\n",
      "Too infrequent/Just enough    -2.2963      0.155    -14.798      0.000      -2.600      -1.992\n",
      "Just enough/Too often          1.2904      0.024     54.636      0.000       1.244       1.337\n",
      "==============================================================================================\n"
     ]
    }
   ],
   "source": [
    "ind_vars = ['trial_time_seconds', 'feedback_time_seconds', 'trial', 'outcome_code', 'condition_code']\n",
    "\n",
    "model = OrderedModel(all_responses['timely_collapsed'],\n",
    "                     all_responses[ind_vars],\n",
    "                     distr='logit')\n",
    "\n",
    "results = model.fit(method='bfgs')\n",
    "print(results.summary())"
   ]
  },
  {
   "cell_type": "code",
   "execution_count": 116,
   "metadata": {},
   "outputs": [
    {
     "name": "stdout",
     "output_type": "stream",
     "text": [
      "Optimization terminated successfully.\n",
      "         Current function value: 1.451882\n",
      "         Iterations: 26\n",
      "         Function evaluations: 30\n",
      "         Gradient evaluations: 30\n",
      "                             OrderedModel Results                             \n",
      "==============================================================================\n",
      "Dep. Variable:             reflection   Log-Likelihood:                -4065.3\n",
      "Model:                   OrderedModel   AIC:                             8149.\n",
      "Method:            Maximum Likelihood   BIC:                             8202.\n",
      "Date:                Sun, 21 Apr 2024                                         \n",
      "Time:                        15:58:15                                         \n",
      "No. Observations:                2800                                         \n",
      "Df Residuals:                    2791                                         \n",
      "Df Model:                           5                                         \n",
      "==============================================================================================\n",
      "                                 coef    std err          z      P>|z|      [0.025      0.975]\n",
      "----------------------------------------------------------------------------------------------\n",
      "trial_time_seconds             0.0019      0.001      1.587      0.112      -0.000       0.004\n",
      "feedback_time_seconds          0.0003      0.000      1.015      0.310      -0.000       0.001\n",
      "trial                         -0.0205      0.006     -3.312      0.001      -0.033      -0.008\n",
      "outcome_code                  -0.1323      0.046     -2.847      0.004      -0.223      -0.041\n",
      "condition_code                 0.1065      0.042      2.561      0.010       0.025       0.188\n",
      "Strongly Disagree/Disagree    -2.7142      0.140    -19.414      0.000      -2.988      -2.440\n",
      "Disagree/Neutral              -0.0102      0.060     -0.169      0.866      -0.128       0.108\n",
      "Neutral/Agree                  0.1928      0.037      5.278      0.000       0.121       0.264\n",
      "Agree/Strongly Agree           0.4550      0.028     16.370      0.000       0.400       0.509\n",
      "==============================================================================================\n"
     ]
    }
   ],
   "source": [
    "ind_vars = ['trial_time_seconds', 'feedback_time_seconds', 'trial', 'outcome_code', 'condition_code']\n",
    "\n",
    "model = OrderedModel(all_responses['reflection'],\n",
    "                     all_responses[ind_vars],\n",
    "                     distr='logit')\n",
    "\n",
    "results = model.fit(method='bfgs')\n",
    "print(results.summary())"
   ]
  },
  {
   "cell_type": "code",
   "execution_count": 117,
   "metadata": {},
   "outputs": [
    {
     "name": "stdout",
     "output_type": "stream",
     "text": [
      "Optimization terminated successfully.\n",
      "         Current function value: 0.930230\n",
      "         Iterations: 23\n",
      "         Function evaluations: 26\n",
      "         Gradient evaluations: 26\n",
      "                              OrderedModel Results                              \n",
      "================================================================================\n",
      "Dep. Variable:     reflection_collapsed   Log-Likelihood:                -2604.6\n",
      "Model:                     OrderedModel   AIC:                             5223.\n",
      "Method:              Maximum Likelihood   BIC:                             5265.\n",
      "Date:                  Sun, 21 Apr 2024                                         \n",
      "Time:                          15:59:30                                         \n",
      "No. Observations:                  2800                                         \n",
      "Df Residuals:                      2793                                         \n",
      "Df Model:                             5                                         \n",
      "=========================================================================================\n",
      "                            coef    std err          z      P>|z|      [0.025      0.975]\n",
      "-----------------------------------------------------------------------------------------\n",
      "trial_time_seconds        0.0020      0.001      1.490      0.136      -0.001       0.005\n",
      "feedback_time_seconds     0.0046      0.001      3.395      0.001       0.002       0.007\n",
      "trial                    -0.0314      0.007     -4.543      0.000      -0.045      -0.018\n",
      "outcome_code             -0.0011      0.051     -0.022      0.982      -0.101       0.099\n",
      "condition_code            0.0866      0.046      1.882      0.060      -0.004       0.177\n",
      "Disagree/Neutral         -1.6044      0.146    -10.999      0.000      -1.890      -1.319\n",
      "Neutral/Agree             0.1992      0.037      5.458      0.000       0.128       0.271\n",
      "=========================================================================================\n"
     ]
    }
   ],
   "source": [
    "ind_vars = ['trial_time_seconds', 'feedback_time_seconds', 'trial', 'outcome_code', 'condition_code']\n",
    "\n",
    "model = OrderedModel(all_responses['reflection_collapsed'],\n",
    "                     all_responses[ind_vars],\n",
    "                     distr='logit')\n",
    "\n",
    "results = model.fit(method='bfgs')\n",
    "print(results.summary())"
   ]
  },
  {
   "cell_type": "code",
   "execution_count": 118,
   "metadata": {},
   "outputs": [
    {
     "name": "stdout",
     "output_type": "stream",
     "text": [
      "Optimization terminated successfully.\n",
      "         Current function value: 1.498727\n",
      "         Iterations: 25\n",
      "         Function evaluations: 29\n",
      "         Gradient evaluations: 29\n",
      "                             OrderedModel Results                             \n",
      "==============================================================================\n",
      "Dep. Variable:             actionable   Log-Likelihood:                -4196.4\n",
      "Model:                   OrderedModel   AIC:                             8411.\n",
      "Method:            Maximum Likelihood   BIC:                             8464.\n",
      "Date:                Sun, 21 Apr 2024                                         \n",
      "Time:                        16:00:20                                         \n",
      "No. Observations:                2800                                         \n",
      "Df Residuals:                    2791                                         \n",
      "Df Model:                           5                                         \n",
      "==============================================================================================\n",
      "                                 coef    std err          z      P>|z|      [0.025      0.975]\n",
      "----------------------------------------------------------------------------------------------\n",
      "trial_time_seconds             0.0028      0.001      2.361      0.018       0.000       0.005\n",
      "feedback_time_seconds         -0.0004      0.000     -0.945      0.345      -0.001       0.000\n",
      "trial                         -0.0110      0.006     -1.793      0.073      -0.023       0.001\n",
      "outcome_code                  -0.0648      0.046     -1.406      0.160      -0.155       0.026\n",
      "condition_code                 0.0847      0.041      2.065      0.039       0.004       0.165\n",
      "Strongly Disagree/Disagree    -2.4379      0.136    -17.962      0.000      -2.704      -2.172\n",
      "Disagree/Neutral               0.2287      0.048      4.767      0.000       0.135       0.323\n",
      "Neutral/Agree                  0.0885      0.035      2.498      0.012       0.019       0.158\n",
      "Agree/Strongly Agree           0.5002      0.029     17.477      0.000       0.444       0.556\n",
      "==============================================================================================\n"
     ]
    }
   ],
   "source": [
    "ind_vars = ['trial_time_seconds', 'feedback_time_seconds', 'trial', 'outcome_code', 'condition_code']\n",
    "\n",
    "model = OrderedModel(all_responses['actionable'],\n",
    "                     all_responses[ind_vars],\n",
    "                     distr='logit')\n",
    "\n",
    "results = model.fit(method='bfgs')\n",
    "print(results.summary())"
   ]
  },
  {
   "cell_type": "code",
   "execution_count": 119,
   "metadata": {},
   "outputs": [
    {
     "name": "stdout",
     "output_type": "stream",
     "text": [
      "Optimization terminated successfully.\n",
      "         Current function value: 1.010890\n",
      "         Iterations: 20\n",
      "         Function evaluations: 23\n",
      "         Gradient evaluations: 23\n",
      "                              OrderedModel Results                              \n",
      "================================================================================\n",
      "Dep. Variable:     actionable_collapsed   Log-Likelihood:                -2830.5\n",
      "Model:                     OrderedModel   AIC:                             5675.\n",
      "Method:              Maximum Likelihood   BIC:                             5717.\n",
      "Date:                  Sun, 21 Apr 2024                                         \n",
      "Time:                          16:01:18                                         \n",
      "No. Observations:                  2800                                         \n",
      "Df Residuals:                      2793                                         \n",
      "Df Model:                             5                                         \n",
      "=========================================================================================\n",
      "                            coef    std err          z      P>|z|      [0.025      0.975]\n",
      "-----------------------------------------------------------------------------------------\n",
      "trial_time_seconds        0.0030      0.001      2.149      0.032       0.000       0.006\n",
      "feedback_time_seconds    -0.0002      0.000     -0.513      0.608      -0.001       0.001\n",
      "trial                    -0.0190      0.007     -2.892      0.004      -0.032      -0.006\n",
      "outcome_code             -0.0241      0.049     -0.491      0.623      -0.120       0.072\n",
      "condition_code            0.0427      0.044      0.964      0.335      -0.044       0.130\n",
      "Disagree/Neutral         -1.2896      0.135     -9.526      0.000      -1.555      -1.024\n",
      "Neutral/Agree             0.0894      0.035      2.524      0.012       0.020       0.159\n",
      "=========================================================================================\n"
     ]
    }
   ],
   "source": [
    "ind_vars = ['trial_time_seconds', 'feedback_time_seconds', 'trial', 'outcome_code', 'condition_code']\n",
    "\n",
    "model = OrderedModel(all_responses['actionable_collapsed'],\n",
    "                     all_responses[ind_vars],\n",
    "                     distr='logit')\n",
    "\n",
    "results = model.fit(method='bfgs')\n",
    "print(results.summary())"
   ]
  },
  {
   "cell_type": "code",
   "execution_count": 120,
   "metadata": {},
   "outputs": [
    {
     "data": {
      "text/html": [
       "<div>\n",
       "<style scoped>\n",
       "    .dataframe tbody tr th:only-of-type {\n",
       "        vertical-align: middle;\n",
       "    }\n",
       "\n",
       "    .dataframe tbody tr th {\n",
       "        vertical-align: top;\n",
       "    }\n",
       "\n",
       "    .dataframe thead th {\n",
       "        text-align: right;\n",
       "    }\n",
       "</style>\n",
       "<table border=\"1\" class=\"dataframe\">\n",
       "  <thead>\n",
       "    <tr style=\"text-align: right;\">\n",
       "      <th></th>\n",
       "      <th>outcome_code</th>\n",
       "      <th>outcome</th>\n",
       "      <th>condition_code</th>\n",
       "      <th>condition</th>\n",
       "    </tr>\n",
       "  </thead>\n",
       "  <tbody>\n",
       "    <tr>\n",
       "      <th>0</th>\n",
       "      <td>0</td>\n",
       "      <td>Crash</td>\n",
       "      <td>1</td>\n",
       "      <td>full</td>\n",
       "    </tr>\n",
       "    <tr>\n",
       "      <th>1</th>\n",
       "      <td>0</td>\n",
       "      <td>Crash</td>\n",
       "      <td>1</td>\n",
       "      <td>full</td>\n",
       "    </tr>\n",
       "    <tr>\n",
       "      <th>2</th>\n",
       "      <td>1</td>\n",
       "      <td>Unsafe</td>\n",
       "      <td>1</td>\n",
       "      <td>full</td>\n",
       "    </tr>\n",
       "    <tr>\n",
       "      <th>3</th>\n",
       "      <td>1</td>\n",
       "      <td>Unsafe</td>\n",
       "      <td>1</td>\n",
       "      <td>full</td>\n",
       "    </tr>\n",
       "    <tr>\n",
       "      <th>4</th>\n",
       "      <td>0</td>\n",
       "      <td>Crash</td>\n",
       "      <td>1</td>\n",
       "      <td>full</td>\n",
       "    </tr>\n",
       "    <tr>\n",
       "      <th>...</th>\n",
       "      <td>...</td>\n",
       "      <td>...</td>\n",
       "      <td>...</td>\n",
       "      <td>...</td>\n",
       "    </tr>\n",
       "    <tr>\n",
       "      <th>2795</th>\n",
       "      <td>1</td>\n",
       "      <td>Unsafe</td>\n",
       "      <td>3</td>\n",
       "      <td>text</td>\n",
       "    </tr>\n",
       "    <tr>\n",
       "      <th>2796</th>\n",
       "      <td>2</td>\n",
       "      <td>Safe</td>\n",
       "      <td>3</td>\n",
       "      <td>text</td>\n",
       "    </tr>\n",
       "    <tr>\n",
       "      <th>2797</th>\n",
       "      <td>1</td>\n",
       "      <td>Unsafe</td>\n",
       "      <td>3</td>\n",
       "      <td>text</td>\n",
       "    </tr>\n",
       "    <tr>\n",
       "      <th>2798</th>\n",
       "      <td>2</td>\n",
       "      <td>Safe</td>\n",
       "      <td>3</td>\n",
       "      <td>text</td>\n",
       "    </tr>\n",
       "    <tr>\n",
       "      <th>2799</th>\n",
       "      <td>1</td>\n",
       "      <td>Unsafe</td>\n",
       "      <td>3</td>\n",
       "      <td>text</td>\n",
       "    </tr>\n",
       "  </tbody>\n",
       "</table>\n",
       "<p>2800 rows × 4 columns</p>\n",
       "</div>"
      ],
      "text/plain": [
       "     outcome_code outcome condition_code condition\n",
       "0               0   Crash              1      full\n",
       "1               0   Crash              1      full\n",
       "2               1  Unsafe              1      full\n",
       "3               1  Unsafe              1      full\n",
       "4               0   Crash              1      full\n",
       "...           ...     ...            ...       ...\n",
       "2795            1  Unsafe              3      text\n",
       "2796            2    Safe              3      text\n",
       "2797            1  Unsafe              3      text\n",
       "2798            2    Safe              3      text\n",
       "2799            1  Unsafe              3      text\n",
       "\n",
       "[2800 rows x 4 columns]"
      ]
     },
     "execution_count": 120,
     "metadata": {},
     "output_type": "execute_result"
    }
   ],
   "source": [
    "all_responses[['outcome_code', 'outcome', 'condition_code', 'condition']]"
   ]
  },
  {
   "cell_type": "markdown",
   "metadata": {},
   "source": [
    "### Aggregate trial survey responses across conditions"
   ]
  },
  {
   "cell_type": "code",
   "execution_count": null,
   "metadata": {},
   "outputs": [],
   "source": [
    "# choose the most common answer per participant per column\n",
    "# this is so each participant only appears once\n",
    "most_common = all_responses.groupby('prolific_id').agg(lambda x: x.value_counts().idxmax())\n",
    "most_common.head()"
   ]
  },
  {
   "cell_type": "code",
   "execution_count": null,
   "metadata": {},
   "outputs": [],
   "source": [
    "most_common.shape"
   ]
  },
  {
   "cell_type": "markdown",
   "metadata": {},
   "source": [
    "**MOTIVATION**"
   ]
  },
  {
   "cell_type": "code",
   "execution_count": null,
   "metadata": {},
   "outputs": [],
   "source": [
    "motivation_responses = most_common.groupby('condition')['motivation'].value_counts(normalize=True).unstack().round(2).sort_index()\n",
    "motivation_responses"
   ]
  },
  {
   "cell_type": "code",
   "execution_count": null,
   "metadata": {},
   "outputs": [],
   "source": [
    "motivation_freq = most_common.groupby('condition')['motivation'].value_counts(normalize=False).unstack().round(2).sort_index()\n",
    "motivation_freq # need to do a non-parametric test"
   ]
  },
  {
   "cell_type": "code",
   "execution_count": null,
   "metadata": {},
   "outputs": [],
   "source": [
    "motivation_grouped = most_common.groupby('condition')['motivation'].apply(list)\n",
    "motivation_grouped"
   ]
  },
  {
   "cell_type": "code",
   "execution_count": null,
   "metadata": {},
   "outputs": [],
   "source": [
    "data_for_test = [group for group in motivation_grouped]\n",
    "stats.kruskal(*data_for_test)"
   ]
  },
  {
   "cell_type": "markdown",
   "metadata": {},
   "source": [
    "**MANAGEABLE**"
   ]
  },
  {
   "cell_type": "code",
   "execution_count": null,
   "metadata": {},
   "outputs": [],
   "source": [
    "manageable_responses = most_common.groupby('condition')['manageable'].value_counts(normalize=True).unstack().round(2).sort_index()\n",
    "manageable_responses"
   ]
  },
  {
   "cell_type": "code",
   "execution_count": null,
   "metadata": {},
   "outputs": [],
   "source": [
    "manageable_freq = most_common.groupby('condition')['manageable'].value_counts(normalize=False).unstack().round(2).sort_index()\n",
    "manageable_freq"
   ]
  },
  {
   "cell_type": "code",
   "execution_count": null,
   "metadata": {},
   "outputs": [],
   "source": [
    "manageable_grouped = most_common.groupby('condition')['manageable'].apply(list)\n",
    "manageable_grouped"
   ]
  },
  {
   "cell_type": "code",
   "execution_count": null,
   "metadata": {},
   "outputs": [],
   "source": [
    "data_for_test = [group for group in manageable_grouped]\n",
    "stats.kruskal(*data_for_test)"
   ]
  },
  {
   "cell_type": "markdown",
   "metadata": {},
   "source": [
    "**ACTIONABLE**"
   ]
  },
  {
   "cell_type": "code",
   "execution_count": null,
   "metadata": {},
   "outputs": [],
   "source": [
    "actionable_responses = most_common.groupby('condition')['actionable'].value_counts(normalize=True).unstack().round(2).sort_index()\n",
    "actionable_responses"
   ]
  },
  {
   "cell_type": "code",
   "execution_count": null,
   "metadata": {},
   "outputs": [],
   "source": [
    "actionable_freq = most_common.groupby('condition')['actionable'].value_counts(normalize=False).unstack().round(2).sort_index()\n",
    "actionable_freq"
   ]
  },
  {
   "cell_type": "code",
   "execution_count": null,
   "metadata": {},
   "outputs": [],
   "source": [
    "actionable_grouped = most_common.groupby('condition')['actionable'].apply(list)\n",
    "actionable_grouped"
   ]
  },
  {
   "cell_type": "code",
   "execution_count": null,
   "metadata": {},
   "outputs": [],
   "source": [
    "data_for_test = [group for group in actionable_grouped]\n",
    "stats.kruskal(*data_for_test)"
   ]
  },
  {
   "cell_type": "code",
   "execution_count": null,
   "metadata": {},
   "outputs": [],
   "source": [
    "# do Dunn's Test to check which groups are different from each other\n",
    "sp.posthoc_dunn(most_common, val_col='actionable', group_col='condition', p_adjust='bonferroni')"
   ]
  },
  {
   "cell_type": "markdown",
   "metadata": {},
   "source": [
    "**TIMELY**"
   ]
  },
  {
   "cell_type": "code",
   "execution_count": null,
   "metadata": {},
   "outputs": [],
   "source": [
    "timely_responses = most_common.groupby('condition')['timely'].value_counts(normalize=True).unstack().round(2).sort_index()\n",
    "timely_responses"
   ]
  },
  {
   "cell_type": "code",
   "execution_count": null,
   "metadata": {},
   "outputs": [],
   "source": [
    "timely_freq = most_common.groupby('condition')['timely'].value_counts(normalize=False).unstack().round(2).sort_index()\n",
    "timely_freq"
   ]
  },
  {
   "cell_type": "code",
   "execution_count": null,
   "metadata": {},
   "outputs": [],
   "source": [
    "timely_grouped = most_common.groupby('condition')['timely'].apply(list)\n",
    "timely_grouped"
   ]
  },
  {
   "cell_type": "code",
   "execution_count": null,
   "metadata": {},
   "outputs": [],
   "source": [
    "data_for_test = [group for group in timely_grouped]\n",
    "stats.kruskal(*data_for_test)"
   ]
  },
  {
   "cell_type": "markdown",
   "metadata": {},
   "source": [
    "**REFLECTION**"
   ]
  },
  {
   "cell_type": "code",
   "execution_count": null,
   "metadata": {},
   "outputs": [],
   "source": [
    "reflection_responses = most_common.groupby('condition')['reflection'].value_counts(normalize=True).unstack().round(2).sort_index()\n",
    "reflection_responses"
   ]
  },
  {
   "cell_type": "code",
   "execution_count": null,
   "metadata": {},
   "outputs": [],
   "source": [
    "reflection_freq = most_common.groupby('condition')['reflection'].value_counts(normalize=False).unstack().round(2).sort_index()\n",
    "reflection_freq"
   ]
  },
  {
   "cell_type": "code",
   "execution_count": null,
   "metadata": {},
   "outputs": [],
   "source": [
    "reflection_grouped = most_common.groupby('condition')['reflection'].apply(list)\n",
    "reflection_grouped"
   ]
  },
  {
   "cell_type": "code",
   "execution_count": null,
   "metadata": {},
   "outputs": [],
   "source": [
    "data_for_test = [group for group in reflection_grouped]\n",
    "stats.kruskal(*data_for_test)"
   ]
  },
  {
   "cell_type": "markdown",
   "metadata": {},
   "source": [
    "## Did they think the feedback helped?"
   ]
  },
  {
   "cell_type": "code",
   "execution_count": null,
   "metadata": {},
   "outputs": [],
   "source": [
    "overall_responses = merged.groupby('condition')['feedback_helped'].value_counts(normalize=True).unstack().round(2).sort_index()\n",
    "overall_responses.drop(index=['demo'])"
   ]
  },
  {
   "cell_type": "code",
   "execution_count": null,
   "metadata": {},
   "outputs": [],
   "source": [
    "overall_freq = merged.groupby('condition')['feedback_helped'].value_counts(normalize=False).unstack().round(2).sort_index()\n",
    "overall_freq.drop(index=['demo'])"
   ]
  },
  {
   "cell_type": "code",
   "execution_count": null,
   "metadata": {},
   "outputs": [],
   "source": [
    "overall_grouped = merged.groupby('condition')['feedback_helped'].apply(list)\n",
    "overall_grouped = overall_grouped.drop(index=['demo'])\n",
    "overall_grouped"
   ]
  },
  {
   "cell_type": "code",
   "execution_count": null,
   "metadata": {},
   "outputs": [],
   "source": [
    "data_for_test = [group for group in overall_grouped]\n",
    "stats.kruskal(*data_for_test)"
   ]
  },
  {
   "cell_type": "markdown",
   "metadata": {},
   "source": [
    "## Which feedback modality leads to higher performance improvements?"
   ]
  },
  {
   "cell_type": "markdown",
   "metadata": {},
   "source": [
    "# Start looking at trajectory data"
   ]
  },
  {
   "cell_type": "markdown",
   "metadata": {},
   "source": [
    "Grab all the images"
   ]
  },
  {
   "cell_type": "code",
   "execution_count": null,
   "metadata": {},
   "outputs": [],
   "source": [
    "# make images folder if it doesn't exist\n",
    "if not os.path.exists(data_dir + 'images'):\n",
    "    os.makedirs(data_dir + 'images')\n",
    "    os.makedirs(data_dir + 'images/raw')\n",
    "    os.makedirs(data_dir + 'images/processed')\n",
    "\n",
    "# for each participant, save image from each trial\n",
    "user_dirs = os.listdir(data_dir)\n",
    "for user in conditions['user_id']:\n",
    "    print(user)\n",
    "    if user not in user_dirs:\n",
    "        continue\n",
    "    for trials in os.listdir(data_dir + user):\n",
    "        if not os.path.isdir(data_dir + user + '/' + trials):\n",
    "            continue\n",
    "        raw_image = data_dir + user + '/' + trials + '/trajectory.png'\n",
    "        processed_image = data_dir + user + '/' + trials + '/trajectory_with_feedback.png'\n",
    "        # copy images to images folder\n",
    "        if not os.path.exists(raw_image) or not os.path.exists(processed_image):\n",
    "            continue\n",
    "        shutil.copy(raw_image, data_dir + 'images/raw/' + user + '_' + trials + '_raw.png')\n",
    "        shutil.copy(processed_image, data_dir + 'images/processed/' + user + '_' + trials + '_processed.png')"
   ]
  }
 ],
 "metadata": {
  "kernelspec": {
   "display_name": "venv",
   "language": "python",
   "name": "python3"
  },
  "language_info": {
   "codemirror_mode": {
    "name": "ipython",
    "version": 3
   },
   "file_extension": ".py",
   "mimetype": "text/x-python",
   "name": "python",
   "nbconvert_exporter": "python",
   "pygments_lexer": "ipython3",
   "version": "3.10.4"
  }
 },
 "nbformat": 4,
 "nbformat_minor": 2
}

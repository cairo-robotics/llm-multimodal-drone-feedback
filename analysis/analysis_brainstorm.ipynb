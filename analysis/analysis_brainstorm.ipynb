{
 "cells": [
  {
   "cell_type": "markdown",
   "metadata": {},
   "source": [
    "# Run this on startup"
   ]
  },
  {
   "cell_type": "code",
   "execution_count": 1,
   "metadata": {},
   "outputs": [
    {
     "name": "stderr",
     "output_type": "stream",
     "text": [
      "C:\\Users\\Emily Jensen\\AppData\\Local\\Temp\\ipykernel_3776\\4080736814.py:1: DeprecationWarning: \n",
      "Pyarrow will become a required dependency of pandas in the next major release of pandas (pandas 3.0),\n",
      "(to allow more performant data types, such as the Arrow string type, and better interoperability with other libraries)\n",
      "but was not found to be installed on your system.\n",
      "If this would cause problems for you,\n",
      "please provide us feedback at https://github.com/pandas-dev/pandas/issues/54466\n",
      "        \n",
      "  import pandas as pd\n"
     ]
    }
   ],
   "source": [
    "import pandas as pd"
   ]
  },
  {
   "cell_type": "markdown",
   "metadata": {},
   "source": [
    "Open all of the relevant data files/directories"
   ]
  },
  {
   "cell_type": "code",
   "execution_count": 23,
   "metadata": {},
   "outputs": [],
   "source": [
    "data_dir = '../static/data/'\n",
    "\n",
    "conditions_file = data_dir + 'conditions.csv'\n",
    "conditions = pd.read_csv(conditions_file)\n",
    "\n",
    "exit_survey_file = data_dir + 'exit_survey.csv'\n",
    "exit_survey = pd.read_csv(exit_survey_file)\n",
    "exit_survey = exit_survey.drop([0,1]) # drop extra qualtrics rows"
   ]
  },
  {
   "cell_type": "markdown",
   "metadata": {},
   "source": [
    "Rename qualtrics values to something understandable by people. Only relevant values are defined here."
   ]
  },
  {
   "cell_type": "code",
   "execution_count": 24,
   "metadata": {},
   "outputs": [
    {
     "data": {
      "text/html": [
       "<div>\n",
       "<style scoped>\n",
       "    .dataframe tbody tr th:only-of-type {\n",
       "        vertical-align: middle;\n",
       "    }\n",
       "\n",
       "    .dataframe tbody tr th {\n",
       "        vertical-align: top;\n",
       "    }\n",
       "\n",
       "    .dataframe thead th {\n",
       "        text-align: right;\n",
       "    }\n",
       "</style>\n",
       "<table border=\"1\" class=\"dataframe\">\n",
       "  <thead>\n",
       "    <tr style=\"text-align: right;\">\n",
       "      <th></th>\n",
       "      <th>start_date</th>\n",
       "      <th>end_date</th>\n",
       "      <th>duration</th>\n",
       "      <th>is_finished</th>\n",
       "      <th>prolific_id</th>\n",
       "      <th>gender</th>\n",
       "      <th>age</th>\n",
       "      <th>drone_experience</th>\n",
       "      <th>video_game_experience</th>\n",
       "      <th>feedback_helped</th>\n",
       "      <th>change_from_feedback</th>\n",
       "      <th>comments</th>\n",
       "    </tr>\n",
       "  </thead>\n",
       "  <tbody>\n",
       "    <tr>\n",
       "      <th>2</th>\n",
       "      <td>2/16/2024 13:19</td>\n",
       "      <td>2/16/2024 13:44</td>\n",
       "      <td>1484</td>\n",
       "      <td>1</td>\n",
       "      <td>b</td>\n",
       "      <td>Woman</td>\n",
       "      <td>24</td>\n",
       "      <td>Some</td>\n",
       "      <td>Weekly</td>\n",
       "      <td>Agree</td>\n",
       "      <td>asd</td>\n",
       "      <td>asd</td>\n",
       "    </tr>\n",
       "    <tr>\n",
       "      <th>3</th>\n",
       "      <td>2/20/2024 11:39</td>\n",
       "      <td>2/20/2024 12:19</td>\n",
       "      <td>2394</td>\n",
       "      <td>1</td>\n",
       "      <td>Shivendra</td>\n",
       "      <td>Man</td>\n",
       "      <td>31</td>\n",
       "      <td>Some</td>\n",
       "      <td>None</td>\n",
       "      <td>Agree</td>\n",
       "      <td>Yes</td>\n",
       "      <td>NaN</td>\n",
       "    </tr>\n",
       "    <tr>\n",
       "      <th>4</th>\n",
       "      <td>2/21/2024 12:23</td>\n",
       "      <td>2/21/2024 12:24</td>\n",
       "      <td>53</td>\n",
       "      <td>1</td>\n",
       "      <td>8aksf09q</td>\n",
       "      <td>Man</td>\n",
       "      <td>19</td>\n",
       "      <td>None</td>\n",
       "      <td>None</td>\n",
       "      <td>Strongly Disagree</td>\n",
       "      <td>I hated this</td>\n",
       "      <td>NaN</td>\n",
       "    </tr>\n",
       "    <tr>\n",
       "      <th>5</th>\n",
       "      <td>2/21/2024 12:24</td>\n",
       "      <td>2/21/2024 12:25</td>\n",
       "      <td>24</td>\n",
       "      <td>1</td>\n",
       "      <td>apel09210h</td>\n",
       "      <td>Woman</td>\n",
       "      <td>76</td>\n",
       "      <td>Some</td>\n",
       "      <td>Monthly</td>\n",
       "      <td>Disagree</td>\n",
       "      <td>it was awesome</td>\n",
       "      <td>NaN</td>\n",
       "    </tr>\n",
       "    <tr>\n",
       "      <th>6</th>\n",
       "      <td>2/21/2024 12:25</td>\n",
       "      <td>2/21/2024 12:25</td>\n",
       "      <td>23</td>\n",
       "      <td>1</td>\n",
       "      <td>9sk3h59s</td>\n",
       "      <td>Non-binary</td>\n",
       "      <td>33</td>\n",
       "      <td>Regularly</td>\n",
       "      <td>Weekly</td>\n",
       "      <td>Neutral</td>\n",
       "      <td>meh</td>\n",
       "      <td>NaN</td>\n",
       "    </tr>\n",
       "    <tr>\n",
       "      <th>7</th>\n",
       "      <td>2/21/2024 12:25</td>\n",
       "      <td>2/21/2024 12:26</td>\n",
       "      <td>24</td>\n",
       "      <td>1</td>\n",
       "      <td>9wbnns76</td>\n",
       "      <td>Prefer not to say</td>\n",
       "      <td>25</td>\n",
       "      <td>Professional</td>\n",
       "      <td>Daily</td>\n",
       "      <td>Agree</td>\n",
       "      <td>a fake answer</td>\n",
       "      <td>NaN</td>\n",
       "    </tr>\n",
       "    <tr>\n",
       "      <th>8</th>\n",
       "      <td>2/21/2024 12:26</td>\n",
       "      <td>2/21/2024 12:26</td>\n",
       "      <td>22</td>\n",
       "      <td>1</td>\n",
       "      <td>s92hfks3</td>\n",
       "      <td>Man</td>\n",
       "      <td>44</td>\n",
       "      <td>Some</td>\n",
       "      <td>Weekly</td>\n",
       "      <td>Strongly Agree</td>\n",
       "      <td>what</td>\n",
       "      <td>NaN</td>\n",
       "    </tr>\n",
       "  </tbody>\n",
       "</table>\n",
       "</div>"
      ],
      "text/plain": [
       "        start_date         end_date duration is_finished prolific_id  \\\n",
       "2  2/16/2024 13:19  2/16/2024 13:44     1484           1           b   \n",
       "3  2/20/2024 11:39  2/20/2024 12:19     2394           1   Shivendra   \n",
       "4  2/21/2024 12:23  2/21/2024 12:24       53           1    8aksf09q   \n",
       "5  2/21/2024 12:24  2/21/2024 12:25       24           1  apel09210h   \n",
       "6  2/21/2024 12:25  2/21/2024 12:25       23           1    9sk3h59s   \n",
       "7  2/21/2024 12:25  2/21/2024 12:26       24           1    9wbnns76   \n",
       "8  2/21/2024 12:26  2/21/2024 12:26       22           1    s92hfks3   \n",
       "\n",
       "              gender age drone_experience video_game_experience  \\\n",
       "2              Woman  24             Some                Weekly   \n",
       "3                Man  31             Some                  None   \n",
       "4                Man  19             None                  None   \n",
       "5              Woman  76             Some               Monthly   \n",
       "6         Non-binary  33        Regularly                Weekly   \n",
       "7  Prefer not to say  25     Professional                 Daily   \n",
       "8                Man  44             Some                Weekly   \n",
       "\n",
       "     feedback_helped change_from_feedback comments  \n",
       "2              Agree                  asd      asd  \n",
       "3              Agree                  Yes      NaN  \n",
       "4  Strongly Disagree         I hated this      NaN  \n",
       "5           Disagree       it was awesome      NaN  \n",
       "6            Neutral                  meh      NaN  \n",
       "7              Agree        a fake answer      NaN  \n",
       "8     Strongly Agree                 what      NaN  "
      ]
     },
     "execution_count": 24,
     "metadata": {},
     "output_type": "execute_result"
    }
   ],
   "source": [
    "qualtrics_columns = {\n",
    "    'StartDate': 'start_date',\n",
    "    'EndDate': 'end_date',\n",
    "    'Duration (in seconds)': 'duration',\n",
    "    'Finished': 'is_finished', # 1 is finished\n",
    "    'Q9': 'prolific_id', # user inputted prolific id\n",
    "    'Q1': 'gender', # mapping below\n",
    "    'Q8': 'age', # number input\n",
    "    'Q3': 'drone_experience', # mapping below\n",
    "    'Q4': 'video_game_experience', # mapping below\n",
    "    'Q5': 'feedback_helped', # likert mapping below\n",
    "    'Q6': 'change_from_feedback', # open text response\n",
    "    'Q7': 'comments' # open text response, optional\n",
    "}\n",
    "\n",
    "# rename columns\n",
    "exit_survey = exit_survey.rename(columns=qualtrics_columns)\n",
    "# remove extra columns\n",
    "exit_survey = exit_survey.drop(columns=['Status', 'Progress', 'RecordedDate', 'ResponseId', 'DistributionChannel', 'UserLanguage'])\n",
    "\n",
    "# replace numeric values with strings\n",
    "gender_map = {'1': \"Man\", '2': \"Woman\", '3': \"Non-binary\", '4': \"Prefer not to say\"}\n",
    "exit_survey['gender'] = exit_survey['gender'].replace(gender_map)\n",
    "drone_map = {'1': \"None\", '2': \"Some\", '3': \"Regularly\", '4': \"Professional\"}\n",
    "exit_survey['drone_experience'] = exit_survey['drone_experience'].replace(drone_map)\n",
    "game_map = {'1': \"None\", '2': \"Monthly\", '3': \"Weekly\", '4': \"Daily\"}\n",
    "exit_survey['video_game_experience'] = exit_survey['video_game_experience'].replace(game_map)\n",
    "likert_map = {'1': \"Strongly Disagree\", '2': \"Disagree\", '3': \"Neutral\", '4': \"Agree\", '5': \"Strongly Agree\"}\n",
    "exit_survey['feedback_helped'] = exit_survey['feedback_helped'].replace(likert_map)\n",
    "\n",
    "exit_survey"
   ]
  },
  {
   "cell_type": "markdown",
   "metadata": {},
   "source": [
    "# Check participant data"
   ]
  },
  {
   "cell_type": "markdown",
   "metadata": {},
   "source": [
    "## Match data sources"
   ]
  },
  {
   "cell_type": "markdown",
   "metadata": {},
   "source": [
    "Do participants match between data from webpage and data from exit survey?"
   ]
  },
  {
   "cell_type": "code",
   "execution_count": 8,
   "metadata": {},
   "outputs": [
    {
     "name": "stdout",
     "output_type": "stream",
     "text": [
      "Web participants not in exit survey:\n",
      "\tbreanne\n",
      "\temily\n",
      "\temily\n",
      "\tShivendra Agrawal\n",
      "\temily\n",
      "\temily\n",
      "\temily\n",
      "\temily\n",
      "\temily\n",
      "\temily\n",
      "Exit survey participants not in web:\n",
      "\tb\n",
      "\tShivendra\n",
      "\t8aksf09q\n",
      "\tapel09210h\n",
      "\t9sk3h59s\n",
      "\t9wbnns76\n",
      "\ts92hfks3\n"
     ]
    }
   ],
   "source": [
    "web_participants = conditions['user_id']\n",
    "exit_survey_participants = exit_survey[qualtrics_columns['prolific_id']]\n",
    "\n",
    "# check if all web participants are in exit survey\n",
    "print(\"Web participants not in exit survey:\")\n",
    "for user_id in web_participants:\n",
    "    if user_id not in exit_survey_participants:\n",
    "        print(\"\\t\" + user_id)\n",
    "\n",
    "# check if all exit survey participants are in web\n",
    "print(\"Exit survey participants not in web:\")\n",
    "for user_id in exit_survey_participants:\n",
    "    if user_id not in web_participants:\n",
    "        print(\"\\t\" + user_id)"
   ]
  },
  {
   "cell_type": "markdown",
   "metadata": {},
   "source": [
    "Notes about manually fixing mismatches between web and exit survey data:\n",
    "- Example here"
   ]
  },
  {
   "cell_type": "markdown",
   "metadata": {},
   "source": [
    "## Distributions of demographic data"
   ]
  },
  {
   "cell_type": "code",
   "execution_count": 25,
   "metadata": {},
   "outputs": [
    {
     "data": {
      "text/plain": [
       "gender\n",
       "Man                  3\n",
       "Woman                2\n",
       "Non-binary           1\n",
       "Prefer not to say    1\n",
       "Name: count, dtype: int64"
      ]
     },
     "execution_count": 25,
     "metadata": {},
     "output_type": "execute_result"
    }
   ],
   "source": [
    "exit_survey['gender'].value_counts()\n"
   ]
  },
  {
   "cell_type": "code",
   "execution_count": 26,
   "metadata": {},
   "outputs": [
    {
     "data": {
      "text/plain": [
       "count     7.000000\n",
       "mean     36.000000\n",
       "std      19.373521\n",
       "min      19.000000\n",
       "25%      24.500000\n",
       "50%      31.000000\n",
       "75%      38.500000\n",
       "max      76.000000\n",
       "Name: age, dtype: float64"
      ]
     },
     "execution_count": 26,
     "metadata": {},
     "output_type": "execute_result"
    }
   ],
   "source": [
    "exit_survey['age'].astype(int).describe()"
   ]
  },
  {
   "cell_type": "code",
   "execution_count": 27,
   "metadata": {},
   "outputs": [
    {
     "data": {
      "text/plain": [
       "drone_experience\n",
       "Some            4\n",
       "None            1\n",
       "Regularly       1\n",
       "Professional    1\n",
       "Name: count, dtype: int64"
      ]
     },
     "execution_count": 27,
     "metadata": {},
     "output_type": "execute_result"
    }
   ],
   "source": [
    "exit_survey['drone_experience'].value_counts()"
   ]
  },
  {
   "cell_type": "code",
   "execution_count": 28,
   "metadata": {},
   "outputs": [
    {
     "data": {
      "text/plain": [
       "video_game_experience\n",
       "Weekly     3\n",
       "None       2\n",
       "Monthly    1\n",
       "Daily      1\n",
       "Name: count, dtype: int64"
      ]
     },
     "execution_count": 28,
     "metadata": {},
     "output_type": "execute_result"
    }
   ],
   "source": [
    "exit_survey['video_game_experience'].value_counts()"
   ]
  },
  {
   "cell_type": "code",
   "execution_count": 29,
   "metadata": {},
   "outputs": [
    {
     "data": {
      "text/plain": [
       "feedback_helped\n",
       "Agree                3\n",
       "Strongly Disagree    1\n",
       "Disagree             1\n",
       "Neutral              1\n",
       "Strongly Agree       1\n",
       "Name: count, dtype: int64"
      ]
     },
     "execution_count": 29,
     "metadata": {},
     "output_type": "execute_result"
    }
   ],
   "source": [
    "exit_survey['feedback_helped'].value_counts()"
   ]
  },
  {
   "cell_type": "markdown",
   "metadata": {},
   "source": [
    "# Research Questions"
   ]
  },
  {
   "cell_type": "markdown",
   "metadata": {},
   "source": [
    "## How do learners perceive the feedback along each dimension?"
   ]
  },
  {
   "cell_type": "markdown",
   "metadata": {},
   "source": [
    "## Which feedback modality leads to higher performance improvements?"
   ]
  },
  {
   "cell_type": "markdown",
   "metadata": {},
   "source": []
  }
 ],
 "metadata": {
  "kernelspec": {
   "display_name": "venv",
   "language": "python",
   "name": "python3"
  },
  "language_info": {
   "codemirror_mode": {
    "name": "ipython",
    "version": 3
   },
   "file_extension": ".py",
   "mimetype": "text/x-python",
   "name": "python",
   "nbconvert_exporter": "python",
   "pygments_lexer": "ipython3",
   "version": "3.10.4"
  }
 },
 "nbformat": 4,
 "nbformat_minor": 2
}

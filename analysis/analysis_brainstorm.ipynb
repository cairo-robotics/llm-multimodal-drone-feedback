{
 "cells": [
  {
   "cell_type": "markdown",
   "metadata": {},
   "source": [
    "# Imports"
   ]
  },
  {
   "cell_type": "code",
   "execution_count": 1,
   "metadata": {},
   "outputs": [
    {
     "name": "stderr",
     "output_type": "stream",
     "text": [
      "C:\\Users\\Emily Jensen\\AppData\\Local\\Temp\\ipykernel_15064\\4139014559.py:1: DeprecationWarning: \n",
      "Pyarrow will become a required dependency of pandas in the next major release of pandas (pandas 3.0),\n",
      "(to allow more performant data types, such as the Arrow string type, and better interoperability with other libraries)\n",
      "but was not found to be installed on your system.\n",
      "If this would cause problems for you,\n",
      "please provide us feedback at https://github.com/pandas-dev/pandas/issues/54466\n",
      "        \n",
      "  import pandas as pd\n"
     ]
    }
   ],
   "source": [
    "import pandas as pd\n",
    "import os\n",
    "import shutil"
   ]
  },
  {
   "cell_type": "markdown",
   "metadata": {},
   "source": [
    "Open all of the relevant data files/directories\n",
    "\n",
    "**Note**: Remember to download the latest data and qualtrics surveys! Emily last downloaded Qualtrics and data at the end of 4/12"
   ]
  },
  {
   "cell_type": "markdown",
   "metadata": {},
   "source": [
    "Qualtrics export settings:\n",
    "\n",
    "<img src=\"qualtrics_export_settings.png\" alt=\"Qualtrics Export Settings\" width=\"500px\">"
   ]
  },
  {
   "cell_type": "code",
   "execution_count": 2,
   "metadata": {},
   "outputs": [],
   "source": [
    "data_dir = 'C:/Users/Emily Jensen/OneDrive - UCB-O365/Drone Feedback Data/data/'\n",
    "\n",
    "conditions_file = data_dir + 'conditions.csv'\n",
    "conditions = pd.read_csv(conditions_file)\n",
    "\n",
    "exit_survey_file = data_dir + 'exit_survey.csv'\n",
    "exit_survey = pd.read_csv(exit_survey_file)"
   ]
  },
  {
   "cell_type": "markdown",
   "metadata": {},
   "source": [
    "# Data Cleaning"
   ]
  },
  {
   "cell_type": "markdown",
   "metadata": {},
   "source": [
    "## Set participant info data types and remove test data"
   ]
  },
  {
   "cell_type": "code",
   "execution_count": 3,
   "metadata": {},
   "outputs": [
    {
     "name": "stdout",
     "output_type": "stream",
     "text": [
      "time         object\n",
      "user_id      object\n",
      "condition    object\n",
      "dtype: object\n"
     ]
    }
   ],
   "source": [
    "# list each column and its data type\n",
    "print(conditions.dtypes)"
   ]
  },
  {
   "cell_type": "code",
   "execution_count": 4,
   "metadata": {},
   "outputs": [
    {
     "name": "stdout",
     "output_type": "stream",
     "text": [
      "time         datetime64[ns]\n",
      "user_id              object\n",
      "condition          category\n",
      "dtype: object\n"
     ]
    }
   ],
   "source": [
    "# make time column a datetime object\n",
    "conditions['time'] = pd.to_datetime(conditions['time'])\n",
    "\n",
    "# make condition column a category\n",
    "conditions['condition'] = conditions['condition'].astype('category')\n",
    "\n",
    "print(conditions.dtypes)"
   ]
  },
  {
   "cell_type": "code",
   "execution_count": 5,
   "metadata": {},
   "outputs": [
    {
     "name": "stdout",
     "output_type": "stream",
     "text": [
      "191\n"
     ]
    }
   ],
   "source": [
    "# remove entries that happened before 11:15am on 2024-04-10\n",
    "# this is when we launched the first experiment condition\n",
    "conditions = conditions[conditions['time'] >= '2024-04-10 11:15:00']\n",
    "\n",
    "# remove any entries where user_id includes 'emily'\n",
    "conditions = conditions[~conditions['user_id'].str.contains('emily')]\n",
    "\n",
    "print(len(conditions))"
   ]
  },
  {
   "cell_type": "code",
   "execution_count": 6,
   "metadata": {},
   "outputs": [
    {
     "name": "stdout",
     "output_type": "stream",
     "text": [
      "['5f84d512acba571a2bdda680' '5760a995f371330006a47cb3'\n",
      " '5eb4955dab41e130f24d08c9' '640156a5f2395bf80ca0c451'\n",
      " '6413599c09e145dd93c7aeac' '5f2dc46d6fa1250ee8a1a15d'\n",
      " '60fde5e29e585481874a9d16' '6526a14c3f9823cccedb7687'\n",
      " '62d1228fcd446896ce7c9ec0' '63e688adbc8788de6d596c93'\n",
      " '61036bbd791964fafe65236a' '63d79e5ecdcf4d0dbd646bf6'\n",
      " '5dccb82a76eab294aa4837ff' '5d34d17089232600011ade3a'\n",
      " '6113a1bd2592fc45dff695a2' '6108614d6f2cdb85bd396d6e'\n",
      " '56bae08f30d6b30005f8537a' '612e41fb25de530ea83df0bc'\n",
      " '5f888877136ad50208b48b47' '65cba99c92b362b45e414da7'\n",
      " '62c50bf9b7587ff5073cd7fb' '63b6dfb29118fec2d923f8c3'\n",
      " '654d0bd1f4ba143e0503a02f' '5f5fa5d24b9f98028f4090e7'\n",
      " '5dce3ccc32ccbf0cd54263db' '611291090e626fdfde536f38'\n",
      " '62e185484154c451882a8a3d' '60d76140337e60ae26f7fce9'\n",
      " '6333c1f5756acfabfde457ed' '60b7bd75af8c92afa748324f'\n",
      " '60255901704fd208ecdcf32b' '63626a68cf44b4184483c8e8'\n",
      " '614e664d1657383cbf801e52' '610803b9ce5f71efbd6e1722'\n",
      " '5700be5c8a49c7000e0c768f' '5d9b866189c03c001540eff1'\n",
      " '626966a12d29060d48439d01' '63ed0ed001893f9028e06e41'\n",
      " '5de6eca0a91be366cbb5ffe2' '5f513339b2c26c338771f1d0'\n",
      " '5b824fb6cc06660001a302d4' '63b4a880e615d21a58306118'\n",
      " '5efcaaee74e56207d16db007' '5f35cd449bf003039842077f'\n",
      " '5b75b2ebc5e14d00013669fc' '643b53b6aeaabf186d24e099'\n",
      " '5de6766e89d6b4000f71bc0d' '629658baad2881aba974c6c3'\n",
      " '646b9dd602296866debaec41' '62d9e46fded6a6209a518499'\n",
      " '60580179f67fdaeb815ab9fc' '5dea7a7df87f5519e686ff7b'\n",
      " '5e93e2a7a5de13720dffc7f9' '62bc3401dc67c7598dbba4a6'\n",
      " '5a6cc406d5d4cb0001d664aa' '6266b4ea9408fc167507d923'\n",
      " '5b0fa626bd9c310001568d6c' '5c4684826a7dbc00017c0a87'\n",
      " '655f90dc3ab2904c2db16f42' '6596a5cad60ef105b6c18897'\n",
      " '64d8bb260860973a90493f15' '65103993db511843e8ed8285'\n",
      " '65c10c2abe42175a96e3ef2f' '5c12b0ba17e18d0001e7629e'\n",
      " '659eea0011db3620094caa90' '60c2b160526d0ae3b07ca006'\n",
      " '5c588d147831040001973ab3' '5ed6b2dd7478e0122030e7ff'\n",
      " '63614a46bd1e8547e0a8b8ba' '643c6175d46d41e74033994f'\n",
      " '65a8e09cb517c52021059686' '5f6666e43be0b923d23c8df8'\n",
      " '6105c41aa4fe602501d5a8cc' '61bb3a5340db417c1a138ffc'\n",
      " '60fcc292d13ae9614d4a77a7' '5e153f25dc79bdb5290738bd'\n",
      " '60e9c78a617cbabf4732fee6' '5efe46699aca1b332ff927bc'\n",
      " '64dbb43e8bfa212e6da507e5' '652b45ca9fb27ba9325a99cd'\n",
      " '655f9d1c94dedff4c7b786e8' '5ba3223a68b542000112c1b6'\n",
      " '5f5fef6ce0809f0d5b3cde5c' '62daa52d86e66e5feaf3bc15'\n",
      " '63ea5b93d1c6d38e1f57dcfa' '652ab7948cb59f4c50c7972a'\n",
      " '65608f82fbcd84adaf29427b' '64d6ce5da504fd69ac11e7c4'\n",
      " '65a5372ee7a6f4f7ed04f2e6' '5d44afdcad6d110019b0a960'\n",
      " '65a4333efc75f965e7fc0cb5' '5f5834134283933a1c3b42d0'\n",
      " '652eba765a354b18c33ce55d' '5e5023405c27990580d81c72'\n",
      " '5a6eac90d5d4cb0001d6815a' '614c86f68018ec28d1550e76'\n",
      " '6516fc85c3f5d2912d6518f6' '646691e373f0424399e2de28'\n",
      " '587674406e2f8d00015c6148' '63ba10de73415d047e1d6731'\n",
      " '633f63a85f73534dbcfa5ae5' '63026a8fd8429b224cd2a134'\n",
      " '559d9916fdf99b1e2b2dc6b8' '60fdf01326f76cc0c5be3d2f'\n",
      " '6466a623d58139575eb88c6c' '6103975ca7d27831aba29dfb'\n",
      " '590eb4006d77630001d3a28a' '5fe0d610dd8cf1a331961cbe'\n",
      " '5f16c677bc5f86028f33fc62' '63034df51d918e1e3b97e5ce'\n",
      " '5b1f185488ee7400012b4b5c' '5c4ea7c3889752000156ddc5'\n",
      " '6537d3aef0f4a4896f7c3ae9' '591648cf6ddd3b00016424ca'\n",
      " '5f5aa60bef062519ff711fe6' '569b36e3af9ad70006640dd9'\n",
      " '5bfff7c02213be0001c2c7cf' '65a03d9edc0d74b929e38a76'\n",
      " '637d4196c70a66e28ecede34' '602c42fcd6ab3e5033c45951'\n",
      " '5f1b84872171f838a8a3cfa9' '5e52a7cc53ecf12b883e1e1f'\n",
      " '646f74e17638d9361ed60551' '5c570f52b45c6600010b6d1e'\n",
      " '6095fc75ab1d101e060d808b' '5fc5e7f29b30921814e73ea1'\n",
      " '5c3d040cc2d0b700017c715b' '5bd612ce860b840001dc1a74'\n",
      " '5bd49bcc25db7b0001794063' '631f1b608af38f654d2a3b1f'\n",
      " '630d42ab004b0f34fcf4b52e' '5c1a0a74cdd50e00014c7f75'\n",
      " '5bc934c69427200001dd4ef2' '5b22f24c38fc0c0001313ea8'\n",
      " '5fab76ecea3019678ca9ef4d' '659f1e6392a74cfe36923af7'\n",
      " '641361334c91a0c6ff4c5b79' '610796f1301fccdca446af57'\n",
      " '65c1779a3f438c1cdcd9641a' '5ee38ef98c0c440172e022ac'\n",
      " '5e164e81502213c397f0cf39' '5deaa726df55eb1cc1b9474f'\n",
      " '5c2965d11c8e4c0001b309b7' '6580563ab7a54f1d93ec09f3'\n",
      " '5e076e0c53e8461018058048' '62795175ca262157d4c321c2'\n",
      " '633f4f203450d46b01e3d16b' '62ea3271cc6c19525f896495'\n",
      " '628d78a2ccf4a41f24c2d2d8' '5f336ae68853aa176a3f0267'\n",
      " '63fceba525d21052bc1ee390' '6107a4b7744b9b0ca7328cee'\n",
      " '65cefb1a4565306b90516a56' '5b6a87d2cda8590001db8e07'\n",
      " '5f4825050fc6402cb19feade' '5f4000a47ed89c0e7f2e3760'\n",
      " '5c90094e71f3100016181ea9' '642c4f6e95f13dc4c1b54712'\n",
      " '5dee8ee31255595293a9906b' '5a5ec648eedc32000142ce86'\n",
      " '6101ea05dc5f3b0d1df5ccff' '5ef78f819d93424af2af742b'\n",
      " '5834a80a106ee1000120abd3' '5ef9f528c7ae587afa25fe9b']\n"
     ]
    }
   ],
   "source": [
    "# looks like we retain just prolific ids\n",
    "print(conditions['user_id'].unique())"
   ]
  },
  {
   "cell_type": "code",
   "execution_count": 7,
   "metadata": {},
   "outputs": [],
   "source": [
    "qualtrics_columns = {\n",
    "    'StartDate': 'start_date',\n",
    "    'EndDate': 'end_date',\n",
    "    'Duration (in seconds)': 'duration',\n",
    "    'Finished': 'is_finished', # 1 is finished\n",
    "    'Q9': 'prolific_id', # user inputted prolific id\n",
    "    'Q1': 'gender', # mapping below\n",
    "    'Q8': 'age', # number input\n",
    "    'Q3': 'drone_experience', # mapping below\n",
    "    'Q4': 'video_game_experience', # mapping below\n",
    "    'Q5': 'feedback_helped', # likert mapping below\n",
    "    'Q6': 'change_from_feedback', # open text response\n",
    "    'Q7': 'comments' # open text response, optional\n",
    "}\n",
    "\n",
    "# rename columns\n",
    "exit_survey = exit_survey.rename(columns=qualtrics_columns)\n",
    "\n",
    "# remove extra columns and rows\n",
    "exit_survey = exit_survey.drop(columns=['Status', 'Progress', 'RecordedDate', 'ResponseId', 'DistributionChannel', 'UserLanguage'])\n",
    "exit_survey = exit_survey.drop([0,1])\n",
    "\n",
    "# set data types\n",
    "exit_survey['start_date'] = pd.to_datetime(exit_survey['start_date'])\n",
    "exit_survey['end_date'] = pd.to_datetime(exit_survey['end_date'])\n",
    "exit_survey['duration'] = pd.to_numeric(exit_survey['duration'])\n",
    "exit_survey['is_finished'] = exit_survey['is_finished'].astype(bool)\n",
    "exit_survey['age'] = pd.to_numeric(exit_survey['age'])"
   ]
  },
  {
   "cell_type": "code",
   "execution_count": 8,
   "metadata": {},
   "outputs": [
    {
     "name": "stdout",
     "output_type": "stream",
     "text": [
      "127\n"
     ]
    }
   ],
   "source": [
    "# remove entries that happened before 11:15am on 2024-04-10\n",
    "# this is when we launched the first experiment condition\n",
    "exit_survey = exit_survey[exit_survey['start_date'] >= '2024-04-10 11:15:00']\n",
    "\n",
    "# remove any entries where prolific_id includes 'emily'\n",
    "exit_survey = exit_survey[~exit_survey['prolific_id'].str.contains('emily')]\n",
    "\n",
    "print(len(exit_survey))"
   ]
  },
  {
   "cell_type": "code",
   "execution_count": 9,
   "metadata": {},
   "outputs": [
    {
     "name": "stdout",
     "output_type": "stream",
     "text": [
      "['5eb4955dab41e130f24d08c9' '640156a5f2395bf80ca0c451'\n",
      " '5760a995f371330006a47cb3' '5f2dc46d6fa1250ee8a1a15d'\n",
      " '60fde5e29e585481874a9d16' '62d1228fcd446896ce7c9ec0'\n",
      " '6526a14c3f9823cccedb7687' '63e688adbc8788de6d596c93'\n",
      " '5f888877136ad50208b48b47' '5d34d17089232600011ade3a'\n",
      " '62c50bf9b7587ff5073cd7fb' '63d79e5ecdcf4d0dbd646bf6'\n",
      " '60d76140337e60ae26f7fce9' '6333c1f5756acfabfde457ed'\n",
      " '610803b9ce5f71efbd6e1722' '60b7bd75af8c92afa748324f'\n",
      " '63626a68cf44b4184483c8e8' '63b6dfb29118fec2d923f8c3'\n",
      " '5dccb82a76eab294aa4837ff' '5efcaaee74e56207d16db007'\n",
      " '5dce3ccc32ccbf0cd54263db' '5d9b866189c03c001540eff1'\n",
      " '5f513339b2c26c338771f1d0' '614e664d1657383cbf801e52'\n",
      " '60255901704fd208ecdcf32b' '5de6eca0a91be366cbb5ffe2'\n",
      " '643b53b6aeaabf186d24e099' '5b75b2ebc5e14d00013669fc'\n",
      " '62d9e46fded6a6209a518499' '63ed0ed001893f9028e06e41'\n",
      " '5a6cc406d5d4cb0001d664aa' '629658baad2881aba974c6c3'\n",
      " '5c4684826a7dbc00017c0a87' '56bae08f30d6b30005f8537a'\n",
      " '65cba99c92b362b45e414da7' '5b824fb6cc06660001a302d4'\n",
      " '60580179f67fdaeb815ab9fc' '62bc3401dc67c7598dbba4a6'\n",
      " '5e93e2a7a5de13720dffc7f9' '6596a5cad60ef105b6c18897'\n",
      " '5dea7a7df87f5519e686ff7b' '659eea0011db3620094caa90'\n",
      " '655f90dc3ab2904c2db16f42' '65103993db511843e8ed8285'\n",
      " '65c10c2abe42175a96e3ef2f' '5c12b0ba17e18d0001e7629e'\n",
      " '60c2b160526d0ae3b07ca006' '5c588d147831040001973ab3'\n",
      " '5ed6b2dd7478e0122030e7ff' '63614a46bd1e8547e0a8b8ba'\n",
      " '65a8e09cb517c52021059686' '5f5fef6ce0809f0d5b3cde5c'\n",
      " '61bb3a5340db417c1a138ffc' '6105c41aa4fe602501d5a8cc'\n",
      " '5ba3223a68b542000112c1b6' '60e9c78a617cbabf4732fee6'\n",
      " '64d6ce5da504fd69ac11e7c4' '60fcc292d13ae9614d4a77a7'\n",
      " '62daa52d86e66e5feaf3bc15' '5efe46699aca1b332ff927bc'\n",
      " '643c6175d46d41e74033994f' '5d44afdcad6d110019b0a960'\n",
      " '5a6eac90d5d4cb0001d6815a' '590eb4006d77630001d3a28a'\n",
      " '5f6666e43be0b923d23c8df8' '6516fc85c3f5d2912d6518f6'\n",
      " '6103975ca7d27831aba29dfb' '6466a623d58139575eb88c6c'\n",
      " '614c86f68018ec28d1550e76' '569b36e3af9ad70006640dd9'\n",
      " '652b45ca9fb27ba9325a99cd' '646691e373f0424399e2de28'\n",
      " '63034df51d918e1e3b97e5ce' '652ab7948cb59f4c50c7972a'\n",
      " '5f16c677bc5f86028f33fc62' '5b1f185488ee7400012b4b5c'\n",
      " '65608f82fbcd84adaf29427b' '5e5023405c27990580d81c72'\n",
      " '5fe0d610dd8cf1a331961cbe' '587674406e2f8d00015c6148'\n",
      " '5bfff7c02213be0001c2c7cf' '65a03d9edc0d74b929e38a76'\n",
      " '633f63a85f73534dbcfa5ae5' '652eba765a354b18c33ce55d'\n",
      " '602c42fcd6ab3e5033c45951' '63026a8fd8429b224cd2a134'\n",
      " '5f5aa60bef062519ff711fe6' '637d4196c70a66e28ecede34'\n",
      " '5e52a7cc53ecf12b883e1e1f' '646f74e17638d9361ed60551'\n",
      " '5f1b84872171f838a8a3cfa9' '5e153f25dc79bdb5290738bd'\n",
      " '63ba10de73415d047e1d6731' '5c570f52b45c6600010b6d1e'\n",
      " '6095fc75ab1d101e060d808b' '5fc5e7f29b30921814e73ea1'\n",
      " '5c3d040cc2d0b700017c715b' '5bd612ce860b840001dc1a74'\n",
      " '659f1e6392a74cfe36923af7' '5bd49bcc25db7b0001794063'\n",
      " '631f1b608af38f654d2a3b1f' '5c1a0a74cdd50e00014c7f75'\n",
      " '5b22f24c38fc0c0001313ea8' '610796f1301fccdca446af57'\n",
      " '5fab76ecea3019678ca9ef4d' '5ee38ef98c0c440172e022ac'\n",
      " '62ea3271cc6c19525f896495' '5c2965d11c8e4c0001b309b7'\n",
      " '5e164e81502213c397f0cf39' '63fceba525d21052bc1ee390'\n",
      " '633f4f203450d46b01e3d16b' '5f336ae68853aa176a3f0267'\n",
      " '5dee8ee31255595293a9906b' '5f4000a47ed89c0e7f2e3760'\n",
      " '642c4f6e95f13dc4c1b54712' '65c1779a3f438c1cdcd9641a'\n",
      " '6107a4b7744b9b0ca7328cee' '6101ea05dc5f3b0d1df5ccff'\n",
      " '5ef78f819d93424af2af742b' '5e076e0c53e8461018058048'\n",
      " '65cefb1a4565306b90516a56' '628d78a2ccf4a41f24c2d2d8'\n",
      " '62795175ca262157d4c321c2' '5c90094e71f3100016181ea9'\n",
      " '5834a80a106ee1000120abd3' '5a5ec648eedc32000142ce86'\n",
      " '5ef9f528c7ae587afa25fe9b']\n"
     ]
    }
   ],
   "source": [
    "# looks like we retain just prolific ids\n",
    "print(exit_survey['prolific_id'].unique())"
   ]
  },
  {
   "cell_type": "code",
   "execution_count": 10,
   "metadata": {},
   "outputs": [
    {
     "data": {
      "text/html": [
       "<div>\n",
       "<style scoped>\n",
       "    .dataframe tbody tr th:only-of-type {\n",
       "        vertical-align: middle;\n",
       "    }\n",
       "\n",
       "    .dataframe tbody tr th {\n",
       "        vertical-align: top;\n",
       "    }\n",
       "\n",
       "    .dataframe thead th {\n",
       "        text-align: right;\n",
       "    }\n",
       "</style>\n",
       "<table border=\"1\" class=\"dataframe\">\n",
       "  <thead>\n",
       "    <tr style=\"text-align: right;\">\n",
       "      <th></th>\n",
       "      <th>start_date</th>\n",
       "      <th>end_date</th>\n",
       "      <th>duration</th>\n",
       "      <th>is_finished</th>\n",
       "      <th>prolific_id</th>\n",
       "      <th>gender</th>\n",
       "      <th>age</th>\n",
       "      <th>drone_experience</th>\n",
       "      <th>video_game_experience</th>\n",
       "      <th>feedback_helped</th>\n",
       "      <th>change_from_feedback</th>\n",
       "      <th>comments</th>\n",
       "    </tr>\n",
       "  </thead>\n",
       "  <tbody>\n",
       "    <tr>\n",
       "      <th>3</th>\n",
       "      <td>2024-04-10 11:35:59</td>\n",
       "      <td>2024-04-10 11:59:47</td>\n",
       "      <td>1428</td>\n",
       "      <td>True</td>\n",
       "      <td>5eb4955dab41e130f24d08c9</td>\n",
       "      <td>Woman</td>\n",
       "      <td>48</td>\n",
       "      <td>None</td>\n",
       "      <td>Weekly</td>\n",
       "      <td>Strongly Agree</td>\n",
       "      <td>I did change my technique, I started going up ...</td>\n",
       "      <td>NaN</td>\n",
       "    </tr>\n",
       "    <tr>\n",
       "      <th>4</th>\n",
       "      <td>2024-04-10 11:39:03</td>\n",
       "      <td>2024-04-10 12:11:03</td>\n",
       "      <td>1919</td>\n",
       "      <td>True</td>\n",
       "      <td>640156a5f2395bf80ca0c451</td>\n",
       "      <td>Man</td>\n",
       "      <td>33</td>\n",
       "      <td>None</td>\n",
       "      <td>Daily</td>\n",
       "      <td>Disagree</td>\n",
       "      <td>I tried to take into account what it was sayin...</td>\n",
       "      <td>NaN</td>\n",
       "    </tr>\n",
       "    <tr>\n",
       "      <th>5</th>\n",
       "      <td>2024-04-10 11:21:24</td>\n",
       "      <td>2024-04-10 12:15:07</td>\n",
       "      <td>3222</td>\n",
       "      <td>True</td>\n",
       "      <td>5760a995f371330006a47cb3</td>\n",
       "      <td>Woman</td>\n",
       "      <td>33</td>\n",
       "      <td>None</td>\n",
       "      <td>Daily</td>\n",
       "      <td>Neutral</td>\n",
       "      <td>Yes. I began to tap buttons instead of holding...</td>\n",
       "      <td>NaN</td>\n",
       "    </tr>\n",
       "    <tr>\n",
       "      <th>6</th>\n",
       "      <td>2024-04-10 11:58:31</td>\n",
       "      <td>2024-04-10 12:18:50</td>\n",
       "      <td>1218</td>\n",
       "      <td>True</td>\n",
       "      <td>5f2dc46d6fa1250ee8a1a15d</td>\n",
       "      <td>Woman</td>\n",
       "      <td>37</td>\n",
       "      <td>None</td>\n",
       "      <td>None</td>\n",
       "      <td>Neutral</td>\n",
       "      <td>It was easier for me to adjust based on my con...</td>\n",
       "      <td>NaN</td>\n",
       "    </tr>\n",
       "    <tr>\n",
       "      <th>7</th>\n",
       "      <td>2024-04-10 11:59:20</td>\n",
       "      <td>2024-04-10 12:21:20</td>\n",
       "      <td>1320</td>\n",
       "      <td>True</td>\n",
       "      <td>60fde5e29e585481874a9d16</td>\n",
       "      <td>Non-binary</td>\n",
       "      <td>41</td>\n",
       "      <td>None</td>\n",
       "      <td>Monthly</td>\n",
       "      <td>Agree</td>\n",
       "      <td>i figured out how to slow the drone down befor...</td>\n",
       "      <td>NaN</td>\n",
       "    </tr>\n",
       "    <tr>\n",
       "      <th>8</th>\n",
       "      <td>2024-04-10 12:03:02</td>\n",
       "      <td>2024-04-10 12:24:52</td>\n",
       "      <td>1310</td>\n",
       "      <td>True</td>\n",
       "      <td>62d1228fcd446896ce7c9ec0</td>\n",
       "      <td>Man</td>\n",
       "      <td>31</td>\n",
       "      <td>None</td>\n",
       "      <td>Weekly</td>\n",
       "      <td>Neutral</td>\n",
       "      <td>No</td>\n",
       "      <td>no</td>\n",
       "    </tr>\n",
       "    <tr>\n",
       "      <th>9</th>\n",
       "      <td>2024-04-10 12:00:10</td>\n",
       "      <td>2024-04-10 12:34:04</td>\n",
       "      <td>2034</td>\n",
       "      <td>True</td>\n",
       "      <td>6526a14c3f9823cccedb7687</td>\n",
       "      <td>Woman</td>\n",
       "      <td>46</td>\n",
       "      <td>None</td>\n",
       "      <td>None</td>\n",
       "      <td>Strongly Agree</td>\n",
       "      <td>Showing where I overcompensated and suggesting...</td>\n",
       "      <td>This was fun, thanks. If this will actually be...</td>\n",
       "    </tr>\n",
       "    <tr>\n",
       "      <th>10</th>\n",
       "      <td>2024-04-10 12:07:18</td>\n",
       "      <td>2024-04-10 12:38:48</td>\n",
       "      <td>1889</td>\n",
       "      <td>True</td>\n",
       "      <td>63e688adbc8788de6d596c93</td>\n",
       "      <td>Woman</td>\n",
       "      <td>45</td>\n",
       "      <td>None</td>\n",
       "      <td>Monthly</td>\n",
       "      <td>Agree</td>\n",
       "      <td>The feedback helped me know what to work on to...</td>\n",
       "      <td>NaN</td>\n",
       "    </tr>\n",
       "    <tr>\n",
       "      <th>11</th>\n",
       "      <td>2024-04-10 12:20:59</td>\n",
       "      <td>2024-04-10 12:43:45</td>\n",
       "      <td>1366</td>\n",
       "      <td>True</td>\n",
       "      <td>5f888877136ad50208b48b47</td>\n",
       "      <td>Man</td>\n",
       "      <td>23</td>\n",
       "      <td>None</td>\n",
       "      <td>Monthly</td>\n",
       "      <td>Agree</td>\n",
       "      <td>Feedbacks were very similar</td>\n",
       "      <td>NaN</td>\n",
       "    </tr>\n",
       "    <tr>\n",
       "      <th>12</th>\n",
       "      <td>2024-04-10 12:12:43</td>\n",
       "      <td>2024-04-10 12:44:32</td>\n",
       "      <td>1909</td>\n",
       "      <td>True</td>\n",
       "      <td>5d34d17089232600011ade3a</td>\n",
       "      <td>Man</td>\n",
       "      <td>35</td>\n",
       "      <td>None</td>\n",
       "      <td>Weekly</td>\n",
       "      <td>Strongly Agree</td>\n",
       "      <td>Towards the end, i started getting too confide...</td>\n",
       "      <td>No technical issues with this survey</td>\n",
       "    </tr>\n",
       "  </tbody>\n",
       "</table>\n",
       "</div>"
      ],
      "text/plain": [
       "            start_date            end_date  duration  is_finished  \\\n",
       "3  2024-04-10 11:35:59 2024-04-10 11:59:47      1428         True   \n",
       "4  2024-04-10 11:39:03 2024-04-10 12:11:03      1919         True   \n",
       "5  2024-04-10 11:21:24 2024-04-10 12:15:07      3222         True   \n",
       "6  2024-04-10 11:58:31 2024-04-10 12:18:50      1218         True   \n",
       "7  2024-04-10 11:59:20 2024-04-10 12:21:20      1320         True   \n",
       "8  2024-04-10 12:03:02 2024-04-10 12:24:52      1310         True   \n",
       "9  2024-04-10 12:00:10 2024-04-10 12:34:04      2034         True   \n",
       "10 2024-04-10 12:07:18 2024-04-10 12:38:48      1889         True   \n",
       "11 2024-04-10 12:20:59 2024-04-10 12:43:45      1366         True   \n",
       "12 2024-04-10 12:12:43 2024-04-10 12:44:32      1909         True   \n",
       "\n",
       "                 prolific_id      gender  age drone_experience  \\\n",
       "3   5eb4955dab41e130f24d08c9       Woman   48             None   \n",
       "4   640156a5f2395bf80ca0c451         Man   33             None   \n",
       "5   5760a995f371330006a47cb3       Woman   33             None   \n",
       "6   5f2dc46d6fa1250ee8a1a15d       Woman   37             None   \n",
       "7   60fde5e29e585481874a9d16  Non-binary   41             None   \n",
       "8   62d1228fcd446896ce7c9ec0         Man   31             None   \n",
       "9   6526a14c3f9823cccedb7687       Woman   46             None   \n",
       "10  63e688adbc8788de6d596c93       Woman   45             None   \n",
       "11  5f888877136ad50208b48b47         Man   23             None   \n",
       "12  5d34d17089232600011ade3a         Man   35             None   \n",
       "\n",
       "   video_game_experience feedback_helped  \\\n",
       "3                 Weekly  Strongly Agree   \n",
       "4                  Daily        Disagree   \n",
       "5                  Daily         Neutral   \n",
       "6                   None         Neutral   \n",
       "7                Monthly           Agree   \n",
       "8                 Weekly         Neutral   \n",
       "9                   None  Strongly Agree   \n",
       "10               Monthly           Agree   \n",
       "11               Monthly           Agree   \n",
       "12                Weekly  Strongly Agree   \n",
       "\n",
       "                                 change_from_feedback  \\\n",
       "3   I did change my technique, I started going up ...   \n",
       "4   I tried to take into account what it was sayin...   \n",
       "5   Yes. I began to tap buttons instead of holding...   \n",
       "6   It was easier for me to adjust based on my con...   \n",
       "7   i figured out how to slow the drone down befor...   \n",
       "8                                                  No   \n",
       "9   Showing where I overcompensated and suggesting...   \n",
       "10  The feedback helped me know what to work on to...   \n",
       "11                        Feedbacks were very similar   \n",
       "12  Towards the end, i started getting too confide...   \n",
       "\n",
       "                                             comments  \n",
       "3                                                 NaN  \n",
       "4                                                 NaN  \n",
       "5                                                 NaN  \n",
       "6                                                 NaN  \n",
       "7                                                 NaN  \n",
       "8                                                  no  \n",
       "9   This was fun, thanks. If this will actually be...  \n",
       "10                                                NaN  \n",
       "11                                                NaN  \n",
       "12               No technical issues with this survey  "
      ]
     },
     "execution_count": 10,
     "metadata": {},
     "output_type": "execute_result"
    }
   ],
   "source": [
    "# process categorical data\n",
    "exit_survey['gender'] = pd.Categorical(exit_survey['gender'])\n",
    "\n",
    "drone_map = {'I have never flown a drone': \"None\", \n",
    "             'I have tried flying a drone a few times': \"Some\", \n",
    "             'I regularly fly drones': \"Regularly\", \n",
    "             'I am an expert or professional drone pilot': \"Professional\"}\n",
    "exit_survey['drone_experience'] = exit_survey['drone_experience'].replace(drone_map)\n",
    "exit_survey['drone_experience'] = pd.Categorical(exit_survey['drone_experience'], categories=['None', 'Some', 'Regularly', 'Professional'], ordered=True)\n",
    "\n",
    "game_map = {'I do not play video games': \"None\", \n",
    "            'I play video games at least once per month': \"Monthly\", \n",
    "            'I play video games at least once per week': \"Weekly\", \n",
    "            'I play video games almost every day': \"Daily\"}\n",
    "exit_survey['video_game_experience'] = exit_survey['video_game_experience'].replace(game_map)\n",
    "exit_survey['video_game_experience'] = pd.Categorical(exit_survey['video_game_experience'], categories=['None', 'Monthly', 'Weekly', 'Daily'], ordered=True)\n",
    "\n",
    "likert_map = {'1 - Strongly Disagree': \"Strongly Disagree\", \n",
    "              '2': \"Disagree\", \n",
    "              '3 - Neither agree nor disagree': \"Neutral\", \n",
    "              '4': \"Agree\", \n",
    "              '5 - Strongly Agree': \"Strongly Agree\"}\n",
    "exit_survey['feedback_helped'] = exit_survey['feedback_helped'].replace(likert_map)\n",
    "exit_survey['feedback_helped'] = pd.Categorical(exit_survey['feedback_helped'], categories=['Strongly Disagree', 'Disagree', 'Neutral', 'Agree', 'Strongly Agree'], ordered=True)\n",
    "\n",
    "exit_survey.head(10)"
   ]
  },
  {
   "cell_type": "code",
   "execution_count": 11,
   "metadata": {},
   "outputs": [
    {
     "data": {
      "text/plain": [
       "127"
      ]
     },
     "execution_count": 11,
     "metadata": {},
     "output_type": "execute_result"
    }
   ],
   "source": [
    "len(exit_survey)"
   ]
  },
  {
   "cell_type": "code",
   "execution_count": 12,
   "metadata": {},
   "outputs": [
    {
     "name": "stdout",
     "output_type": "stream",
     "text": [
      "146\n"
     ]
    }
   ],
   "source": [
    "# merge conditions and exit_survey on user_id and prolific_id\n",
    "# only keep rows that have a match in both dataframes\n",
    "merged = pd.merge(conditions, exit_survey, left_on='user_id', right_on='prolific_id', how='inner')\n",
    "\n",
    "# drop extra user_id column\n",
    "merged = merged.drop(columns=['user_id'])\n",
    "\n",
    "print(len(merged)) # why are there more rows than exit_survey?"
   ]
  },
  {
   "cell_type": "code",
   "execution_count": 15,
   "metadata": {},
   "outputs": [
    {
     "name": "stdout",
     "output_type": "stream",
     "text": [
      "['5bd49bcc25db7b0001794063' '5c90094e71f3100016181ea9'\n",
      " '5ef9f528c7ae587afa25fe9b' '60fcc292d13ae9614d4a77a7'\n",
      " '6105c41aa4fe602501d5a8cc' '610796f1301fccdca446af57'\n",
      " '629658baad2881aba974c6c3' '63026a8fd8429b224cd2a134'\n",
      " '631f1b608af38f654d2a3b1f' '637d4196c70a66e28ecede34'\n",
      " '63ba10de73415d047e1d6731' '643c6175d46d41e74033994f'\n",
      " '652ab7948cb59f4c50c7972a' '6596a5cad60ef105b6c18897'\n",
      " '65cba99c92b362b45e414da7']\n"
     ]
    }
   ],
   "source": [
    "# participants who show up multiple times in the merged dataframe\n",
    "# this is because they restarted the experiment and have multiple entries in the conditions file\n",
    "duplicate_ids = merged[merged.duplicated(subset='prolific_id', keep=False)]['prolific_id'].unique()\n",
    "duplicate_ids.sort()\n",
    "print(duplicate_ids)"
   ]
  },
  {
   "cell_type": "code",
   "execution_count": 17,
   "metadata": {},
   "outputs": [
    {
     "name": "stdout",
     "output_type": "stream",
     "text": [
      "127\n"
     ]
    }
   ],
   "source": [
    "# drop duplicate entries with duplicate ids\n",
    "merged = merged.drop_duplicates(subset='prolific_id')\n",
    "print(len(merged)) # better number!"
   ]
  },
  {
   "cell_type": "code",
   "execution_count": 18,
   "metadata": {},
   "outputs": [],
   "source": [
    "# save merged dataframe to file\n",
    "participant_file = data_dir + 'participant_info.csv'\n",
    "merged.to_csv(participant_file, index=False)"
   ]
  },
  {
   "cell_type": "markdown",
   "metadata": {},
   "source": [
    "Notes on participants that seem to have restarted the experiment:\n",
    "- `5bd49bcc25db7b0001794063` restarted after trial 1\n",
    "- `5c90094e71f3100016181ea9` restarted after trial 3 and again after trial 1\n",
    "- `5ef9f528c7ae587afa25fe9b` restarted after trial 6\n",
    "- `60fcc292d13ae9614d4a77a7` restarted after trial 3\n",
    "- `6105c41aa4fe602501d5a8cc` restarted after trial 8\n",
    "- `610796f1301fccdca446af57` restarted after trial 7\n",
    "- `629658baad2881aba974c6c3` restarted after trial 2\n",
    "- `63026a8fd8429b224cd2a134` restarted before completing trial 1\n",
    "- `631f1b608af38f654d2a3b1f` restarted after trial 15\n",
    "- `637d4196c70a66e28ecede34` restarted before completing trial 1\n",
    "- `63ba10de73415d047e1d6731` restarted after trial 5 and again after trial 1\n",
    "- `643c6175d46d41e74033994f` restarted after trial 8 and again after trial 1\n",
    "- `652ab7948cb59f4c50c7972a` restarted after trial 1\n",
    "- `6596a5cad60ef105b6c18897` restarted after trial 1\n",
    "- `65cba99c92b362b45e414da7` restarted after trial 17"
   ]
  },
  {
   "cell_type": "markdown",
   "metadata": {},
   "source": [
    "# Distributions of demographic data"
   ]
  },
  {
   "cell_type": "code",
   "execution_count": 22,
   "metadata": {},
   "outputs": [
    {
     "name": "stdout",
     "output_type": "stream",
     "text": [
      "gender\n",
      "Woman         67\n",
      "Man           53\n",
      "Non-binary     7\n",
      "Name: count, dtype: int64\n",
      "gender\n",
      "Woman         0.53\n",
      "Man           0.42\n",
      "Non-binary    0.06\n",
      "Name: count, dtype: float64\n"
     ]
    }
   ],
   "source": [
    "# gender distribution\n",
    "print(merged['gender'].value_counts())\n",
    "print((merged['gender'].value_counts()/len(merged)).round(2))\n"
   ]
  },
  {
   "cell_type": "code",
   "execution_count": 23,
   "metadata": {},
   "outputs": [
    {
     "name": "stdout",
     "output_type": "stream",
     "text": [
      "count    127.0\n",
      "mean      37.8\n",
      "std       12.2\n",
      "min       18.0\n",
      "25%       29.0\n",
      "50%       35.0\n",
      "75%       47.0\n",
      "max       74.0\n",
      "Name: age, dtype: float64\n"
     ]
    }
   ],
   "source": [
    "# age distribution\n",
    "print(merged['age'].describe().round(1))"
   ]
  },
  {
   "cell_type": "code",
   "execution_count": 25,
   "metadata": {},
   "outputs": [
    {
     "name": "stdout",
     "output_type": "stream",
     "text": [
      "drone_experience\n",
      "None            103\n",
      "Some             18\n",
      "Regularly         5\n",
      "Professional      1\n",
      "Name: count, dtype: int64\n",
      "drone_experience\n",
      "None            0.81\n",
      "Some            0.14\n",
      "Regularly       0.04\n",
      "Professional    0.01\n",
      "Name: count, dtype: float64\n"
     ]
    }
   ],
   "source": [
    "# previous experience with flying drones\n",
    "print(merged['drone_experience'].value_counts().sort_index())\n",
    "print((merged['drone_experience'].value_counts().sort_index()/len(merged)).round(2))"
   ]
  },
  {
   "cell_type": "code",
   "execution_count": 26,
   "metadata": {},
   "outputs": [
    {
     "name": "stdout",
     "output_type": "stream",
     "text": [
      "video_game_experience\n",
      "None       22\n",
      "Monthly    41\n",
      "Weekly     32\n",
      "Daily      32\n",
      "Name: count, dtype: int64\n",
      "video_game_experience\n",
      "None       0.17\n",
      "Monthly    0.32\n",
      "Weekly     0.25\n",
      "Daily      0.25\n",
      "Name: count, dtype: float64\n"
     ]
    }
   ],
   "source": [
    "# video game experience\n",
    "print(merged['video_game_experience'].value_counts().sort_index())\n",
    "print((merged['video_game_experience'].value_counts().sort_index()/len(merged)).round(2))"
   ]
  },
  {
   "cell_type": "code",
   "execution_count": 27,
   "metadata": {},
   "outputs": [
    {
     "name": "stdout",
     "output_type": "stream",
     "text": [
      "feedback_helped\n",
      "Strongly Disagree    18\n",
      "Disagree             14\n",
      "Neutral              23\n",
      "Agree                53\n",
      "Strongly Agree       19\n",
      "Name: count, dtype: int64\n",
      "feedback_helped\n",
      "Strongly Disagree    0.14\n",
      "Disagree             0.11\n",
      "Neutral              0.18\n",
      "Agree                0.42\n",
      "Strongly Agree       0.15\n",
      "Name: count, dtype: float64\n"
     ]
    }
   ],
   "source": [
    "# overall view of feedback perception\n",
    "print(merged['feedback_helped'].value_counts().sort_index())\n",
    "print((merged['feedback_helped'].value_counts().sort_index()/len(merged)).round(2))"
   ]
  },
  {
   "cell_type": "markdown",
   "metadata": {},
   "source": [
    "# Start looking at trajectory data"
   ]
  },
  {
   "cell_type": "markdown",
   "metadata": {},
   "source": [
    "Grab all the images"
   ]
  },
  {
   "cell_type": "code",
   "execution_count": null,
   "metadata": {},
   "outputs": [],
   "source": [
    "# make images folder if it doesn't exist\n",
    "if not os.path.exists(data_dir + 'images'):\n",
    "    os.makedirs(data_dir + 'images')\n",
    "    os.makedirs(data_dir + 'images/raw')\n",
    "    os.makedirs(data_dir + 'images/processed')\n",
    "\n",
    "# for each participant, save image from each trial\n",
    "user_dirs = os.listdir(data_dir)\n",
    "for user in conditions['user_id']:\n",
    "    print(user)\n",
    "    if user not in user_dirs:\n",
    "        continue\n",
    "    for trials in os.listdir(data_dir + user):\n",
    "        if not os.path.isdir(data_dir + user + '/' + trials):\n",
    "            continue\n",
    "        raw_image = data_dir + user + '/' + trials + '/trajectory.png'\n",
    "        processed_image = data_dir + user + '/' + trials + '/trajectory_with_feedback.png'\n",
    "        # copy images to images folder\n",
    "        if not os.path.exists(raw_image) or not os.path.exists(processed_image):\n",
    "            continue\n",
    "        shutil.copy(raw_image, data_dir + 'images/raw/' + user + '_' + trials + '_raw.png')\n",
    "        shutil.copy(processed_image, data_dir + 'images/processed/' + user + '_' + trials + '_processed.png')"
   ]
  },
  {
   "cell_type": "markdown",
   "metadata": {},
   "source": [
    "# Research Questions"
   ]
  },
  {
   "cell_type": "markdown",
   "metadata": {},
   "source": [
    "## How do learners perceive the feedback along each dimension?"
   ]
  },
  {
   "cell_type": "markdown",
   "metadata": {},
   "source": [
    "## Which feedback modality leads to higher performance improvements?"
   ]
  },
  {
   "cell_type": "markdown",
   "metadata": {},
   "source": []
  }
 ],
 "metadata": {
  "kernelspec": {
   "display_name": "venv",
   "language": "python",
   "name": "python3"
  },
  "language_info": {
   "codemirror_mode": {
    "name": "ipython",
    "version": 3
   },
   "file_extension": ".py",
   "mimetype": "text/x-python",
   "name": "python",
   "nbconvert_exporter": "python",
   "pygments_lexer": "ipython3",
   "version": "3.10.4"
  }
 },
 "nbformat": 4,
 "nbformat_minor": 2
}

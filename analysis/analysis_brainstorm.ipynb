{
 "cells": [
  {
   "cell_type": "markdown",
   "metadata": {},
   "source": [
    "# Imports"
   ]
  },
  {
   "cell_type": "code",
   "execution_count": 1,
   "metadata": {},
   "outputs": [],
   "source": [
    "import warnings\n",
    "warnings.filterwarnings(\"ignore\")\n",
    "\n",
    "import pandas as pd\n",
    "import os\n",
    "import shutil\n",
    "import scipy.stats as stats\n",
    "import scikit_posthocs as sp"
   ]
  },
  {
   "cell_type": "markdown",
   "metadata": {},
   "source": [
    "Open all of the relevant data files/directories\n",
    "\n",
    "Emily downloaded the final data and Qualtrics surveys on 4/16/24"
   ]
  },
  {
   "cell_type": "markdown",
   "metadata": {},
   "source": [
    "Qualtrics export settings:\n",
    "\n",
    "<img src=\"qualtrics_export_settings.png\" alt=\"Qualtrics Export Settings\" width=\"500px\">"
   ]
  },
  {
   "cell_type": "code",
   "execution_count": 2,
   "metadata": {},
   "outputs": [],
   "source": [
    "data_dir = 'C:/Users/Emily Jensen/OneDrive - UCB-O365/Drone Feedback Data/data/'\n",
    "\n",
    "conditions_file = data_dir + 'conditions.csv'\n",
    "conditions = pd.read_csv(conditions_file)\n",
    "\n",
    "exit_survey_file = data_dir + 'exit_survey.csv'\n",
    "exit_survey = pd.read_csv(exit_survey_file)"
   ]
  },
  {
   "cell_type": "markdown",
   "metadata": {},
   "source": [
    "# Data Cleaning"
   ]
  },
  {
   "cell_type": "markdown",
   "metadata": {},
   "source": [
    "## Set participant info data types and remove test data"
   ]
  },
  {
   "cell_type": "code",
   "execution_count": 3,
   "metadata": {},
   "outputs": [
    {
     "name": "stdout",
     "output_type": "stream",
     "text": [
      "time         object\n",
      "user_id      object\n",
      "condition    object\n",
      "dtype: object\n"
     ]
    }
   ],
   "source": [
    "# list each column and its data type\n",
    "print(conditions.dtypes)"
   ]
  },
  {
   "cell_type": "code",
   "execution_count": 3,
   "metadata": {},
   "outputs": [
    {
     "name": "stdout",
     "output_type": "stream",
     "text": [
      "time         datetime64[ns]\n",
      "user_id              object\n",
      "condition          category\n",
      "dtype: object\n"
     ]
    }
   ],
   "source": [
    "# make time column a datetime object\n",
    "conditions['time'] = pd.to_datetime(conditions['time'])\n",
    "\n",
    "# make condition column a category\n",
    "conditions['condition'] = conditions['condition'].astype('category')\n",
    "\n",
    "print(conditions.dtypes)"
   ]
  },
  {
   "cell_type": "code",
   "execution_count": 4,
   "metadata": {},
   "outputs": [
    {
     "name": "stdout",
     "output_type": "stream",
     "text": [
      "218\n"
     ]
    }
   ],
   "source": [
    "# remove entries that happened before 11:15am on 2024-04-10\n",
    "# this is when we launched the first experiment condition\n",
    "conditions = conditions[conditions['time'] >= '2024-04-10 11:15:00']\n",
    "\n",
    "# remove any entries where user_id includes 'emily'\n",
    "conditions = conditions[~conditions['user_id'].str.contains('emily')]\n",
    "\n",
    "print(len(conditions))"
   ]
  },
  {
   "cell_type": "code",
   "execution_count": 5,
   "metadata": {},
   "outputs": [
    {
     "name": "stdout",
     "output_type": "stream",
     "text": [
      "['5f84d512acba571a2bdda680' '5760a995f371330006a47cb3'\n",
      " '5eb4955dab41e130f24d08c9' '640156a5f2395bf80ca0c451'\n",
      " '6413599c09e145dd93c7aeac' '5f2dc46d6fa1250ee8a1a15d'\n",
      " '60fde5e29e585481874a9d16' '6526a14c3f9823cccedb7687'\n",
      " '62d1228fcd446896ce7c9ec0' '63e688adbc8788de6d596c93'\n",
      " '61036bbd791964fafe65236a' '63d79e5ecdcf4d0dbd646bf6'\n",
      " '5dccb82a76eab294aa4837ff' '5d34d17089232600011ade3a'\n",
      " '6113a1bd2592fc45dff695a2' '6108614d6f2cdb85bd396d6e'\n",
      " '56bae08f30d6b30005f8537a' '612e41fb25de530ea83df0bc'\n",
      " '5f888877136ad50208b48b47' '65cba99c92b362b45e414da7'\n",
      " '62c50bf9b7587ff5073cd7fb' '63b6dfb29118fec2d923f8c3'\n",
      " '654d0bd1f4ba143e0503a02f' '5f5fa5d24b9f98028f4090e7'\n",
      " '5dce3ccc32ccbf0cd54263db' '611291090e626fdfde536f38'\n",
      " '62e185484154c451882a8a3d' '60d76140337e60ae26f7fce9'\n",
      " '6333c1f5756acfabfde457ed' '60b7bd75af8c92afa748324f'\n",
      " '60255901704fd208ecdcf32b' '63626a68cf44b4184483c8e8'\n",
      " '614e664d1657383cbf801e52' '610803b9ce5f71efbd6e1722'\n",
      " '5700be5c8a49c7000e0c768f' '5d9b866189c03c001540eff1'\n",
      " '626966a12d29060d48439d01' '63ed0ed001893f9028e06e41'\n",
      " '5de6eca0a91be366cbb5ffe2' '5f513339b2c26c338771f1d0'\n",
      " '5b824fb6cc06660001a302d4' '63b4a880e615d21a58306118'\n",
      " '5efcaaee74e56207d16db007' '5f35cd449bf003039842077f'\n",
      " '5b75b2ebc5e14d00013669fc' '643b53b6aeaabf186d24e099'\n",
      " '5de6766e89d6b4000f71bc0d' '629658baad2881aba974c6c3'\n",
      " '646b9dd602296866debaec41' '62d9e46fded6a6209a518499'\n",
      " '60580179f67fdaeb815ab9fc' '5dea7a7df87f5519e686ff7b'\n",
      " '5e93e2a7a5de13720dffc7f9' '62bc3401dc67c7598dbba4a6'\n",
      " '5a6cc406d5d4cb0001d664aa' '6266b4ea9408fc167507d923'\n",
      " '5b0fa626bd9c310001568d6c' '5c4684826a7dbc00017c0a87'\n",
      " '655f90dc3ab2904c2db16f42' '6596a5cad60ef105b6c18897'\n",
      " '64d8bb260860973a90493f15' '65103993db511843e8ed8285'\n",
      " '65c10c2abe42175a96e3ef2f' '5c12b0ba17e18d0001e7629e'\n",
      " '659eea0011db3620094caa90' '60c2b160526d0ae3b07ca006'\n",
      " '5c588d147831040001973ab3' '5ed6b2dd7478e0122030e7ff'\n",
      " '63614a46bd1e8547e0a8b8ba' '643c6175d46d41e74033994f'\n",
      " '65a8e09cb517c52021059686' '5f6666e43be0b923d23c8df8'\n",
      " '6105c41aa4fe602501d5a8cc' '61bb3a5340db417c1a138ffc'\n",
      " '60fcc292d13ae9614d4a77a7' '5e153f25dc79bdb5290738bd'\n",
      " '60e9c78a617cbabf4732fee6' '5efe46699aca1b332ff927bc'\n",
      " '64dbb43e8bfa212e6da507e5' '652b45ca9fb27ba9325a99cd'\n",
      " '655f9d1c94dedff4c7b786e8' '5ba3223a68b542000112c1b6'\n",
      " '5f5fef6ce0809f0d5b3cde5c' '62daa52d86e66e5feaf3bc15'\n",
      " '63ea5b93d1c6d38e1f57dcfa' '652ab7948cb59f4c50c7972a'\n",
      " '65608f82fbcd84adaf29427b' '64d6ce5da504fd69ac11e7c4'\n",
      " '65a5372ee7a6f4f7ed04f2e6' '5d44afdcad6d110019b0a960'\n",
      " '65a4333efc75f965e7fc0cb5' '5f5834134283933a1c3b42d0'\n",
      " '652eba765a354b18c33ce55d' '5e5023405c27990580d81c72'\n",
      " '5a6eac90d5d4cb0001d6815a' '614c86f68018ec28d1550e76'\n",
      " '6516fc85c3f5d2912d6518f6' '646691e373f0424399e2de28'\n",
      " '587674406e2f8d00015c6148' '63ba10de73415d047e1d6731'\n",
      " '633f63a85f73534dbcfa5ae5' '63026a8fd8429b224cd2a134'\n",
      " '559d9916fdf99b1e2b2dc6b8' '60fdf01326f76cc0c5be3d2f'\n",
      " '6466a623d58139575eb88c6c' '6103975ca7d27831aba29dfb'\n",
      " '590eb4006d77630001d3a28a' '5fe0d610dd8cf1a331961cbe'\n",
      " '5f16c677bc5f86028f33fc62' '63034df51d918e1e3b97e5ce'\n",
      " '5b1f185488ee7400012b4b5c' '5c4ea7c3889752000156ddc5'\n",
      " '6537d3aef0f4a4896f7c3ae9' '591648cf6ddd3b00016424ca'\n",
      " '5f5aa60bef062519ff711fe6' '569b36e3af9ad70006640dd9'\n",
      " '5bfff7c02213be0001c2c7cf' '65a03d9edc0d74b929e38a76'\n",
      " '637d4196c70a66e28ecede34' '602c42fcd6ab3e5033c45951'\n",
      " '5f1b84872171f838a8a3cfa9' '5e52a7cc53ecf12b883e1e1f'\n",
      " '646f74e17638d9361ed60551' '5c570f52b45c6600010b6d1e'\n",
      " '6095fc75ab1d101e060d808b' '5fc5e7f29b30921814e73ea1'\n",
      " '5c3d040cc2d0b700017c715b' '5bd612ce860b840001dc1a74'\n",
      " '5bd49bcc25db7b0001794063' '631f1b608af38f654d2a3b1f'\n",
      " '630d42ab004b0f34fcf4b52e' '5c1a0a74cdd50e00014c7f75'\n",
      " '5bc934c69427200001dd4ef2' '5b22f24c38fc0c0001313ea8'\n",
      " '5fab76ecea3019678ca9ef4d' '659f1e6392a74cfe36923af7'\n",
      " '641361334c91a0c6ff4c5b79' '610796f1301fccdca446af57'\n",
      " '65c1779a3f438c1cdcd9641a' '5ee38ef98c0c440172e022ac'\n",
      " '5e164e81502213c397f0cf39' '5deaa726df55eb1cc1b9474f'\n",
      " '5c2965d11c8e4c0001b309b7' '6580563ab7a54f1d93ec09f3'\n",
      " '5e076e0c53e8461018058048' '62795175ca262157d4c321c2'\n",
      " '633f4f203450d46b01e3d16b' '62ea3271cc6c19525f896495'\n",
      " '628d78a2ccf4a41f24c2d2d8' '5f336ae68853aa176a3f0267'\n",
      " '63fceba525d21052bc1ee390' '6107a4b7744b9b0ca7328cee'\n",
      " '65cefb1a4565306b90516a56' '5b6a87d2cda8590001db8e07'\n",
      " '5f4825050fc6402cb19feade' '5f4000a47ed89c0e7f2e3760'\n",
      " '5c90094e71f3100016181ea9' '642c4f6e95f13dc4c1b54712'\n",
      " '5dee8ee31255595293a9906b' '5a5ec648eedc32000142ce86'\n",
      " '6101ea05dc5f3b0d1df5ccff' '5ef78f819d93424af2af742b'\n",
      " '5834a80a106ee1000120abd3' '5ef9f528c7ae587afa25fe9b'\n",
      " '5e4465013f75e52fc82f7096' '6286d3ac3a161dab706a695c'\n",
      " '63d485aaf47a463859d6c9c0' '58ee956a575c01000180b080'\n",
      " '65ede6b8d079917c5421785e' '5ea237d872cd2a144b99a177'\n",
      " '60fefe875a7f07ec491382f7' '5d4fc7b44ec90b0017218453'\n",
      " '61735e55ab7dfe9f9e48cb87' '5e7a5c9d7567f003b57b85e9'\n",
      " '6522a86994a5ce0d7bb9feba' '6341b95632265cb75975ae2c'\n",
      " '5ab6cbbbf69e940001d8e446' '6148ea50509c9ce6c1f023c0'\n",
      " '6388b6c86e47b08e1eded1fd' '6400dc9f84ed19aeedc1a2cc'\n",
      " '63fd0a7da4c0df409be0a784' '5f90581950d8520e8c7d3890'\n",
      " '6433027685899f1cfc35e39e' '632ff41f3631baf749984e3e'\n",
      " '5f88877885e51d02acd71b12' '5e5de7a9151524109818ad6a'\n",
      " '59a1ddac5dfd6b000152601f' '6174b049932ee98236563b51'\n",
      " '64abee38a80dfb5e45212487']\n"
     ]
    }
   ],
   "source": [
    "# looks like we retain just prolific ids\n",
    "# this includes people who dropped out\n",
    "print(conditions['user_id'].unique())"
   ]
  },
  {
   "cell_type": "code",
   "execution_count": 6,
   "metadata": {},
   "outputs": [],
   "source": [
    "qualtrics_columns = {\n",
    "    'StartDate': 'start_date',\n",
    "    'EndDate': 'end_date',\n",
    "    'Duration (in seconds)': 'duration',\n",
    "    'Finished': 'is_finished', # 1 is finished\n",
    "    'Q9': 'prolific_id', # user inputted prolific id\n",
    "    'Q1': 'gender', # mapping below\n",
    "    'Q8': 'age', # number input\n",
    "    'Q3': 'drone_experience', # mapping below\n",
    "    'Q4': 'video_game_experience', # mapping below\n",
    "    'Q5': 'feedback_helped', # likert mapping below\n",
    "    'Q6': 'change_from_feedback', # open text response\n",
    "    'Q7': 'comments' # open text response, optional\n",
    "}\n",
    "\n",
    "# rename columns\n",
    "exit_survey = exit_survey.rename(columns=qualtrics_columns)\n",
    "\n",
    "# remove extra columns and rows\n",
    "exit_survey = exit_survey.drop(columns=['Status', 'Progress', 'RecordedDate', 'ResponseId', 'DistributionChannel', 'UserLanguage'])\n",
    "exit_survey = exit_survey.drop([0,1])\n",
    "\n",
    "# set data types\n",
    "exit_survey['start_date'] = pd.to_datetime(exit_survey['start_date'])\n",
    "exit_survey['end_date'] = pd.to_datetime(exit_survey['end_date'])\n",
    "exit_survey['duration'] = pd.to_numeric(exit_survey['duration'])\n",
    "exit_survey['is_finished'] = exit_survey['is_finished'].astype(bool)\n",
    "exit_survey['age'] = pd.to_numeric(exit_survey['age'])"
   ]
  },
  {
   "cell_type": "code",
   "execution_count": 7,
   "metadata": {},
   "outputs": [
    {
     "name": "stdout",
     "output_type": "stream",
     "text": [
      "148\n"
     ]
    }
   ],
   "source": [
    "# remove entries that happened before 11:15am on 2024-04-10\n",
    "# this is when we launched the first experiment condition\n",
    "exit_survey = exit_survey[exit_survey['start_date'] >= '2024-04-10 11:15:00']\n",
    "\n",
    "# remove any entries where prolific_id includes 'emily'\n",
    "exit_survey = exit_survey[~exit_survey['prolific_id'].str.contains('emily')]\n",
    "\n",
    "print(len(exit_survey))"
   ]
  },
  {
   "cell_type": "code",
   "execution_count": 8,
   "metadata": {},
   "outputs": [
    {
     "name": "stdout",
     "output_type": "stream",
     "text": [
      "['5eb4955dab41e130f24d08c9' '640156a5f2395bf80ca0c451'\n",
      " '5760a995f371330006a47cb3' '5f2dc46d6fa1250ee8a1a15d'\n",
      " '60fde5e29e585481874a9d16' '62d1228fcd446896ce7c9ec0'\n",
      " '6526a14c3f9823cccedb7687' '63e688adbc8788de6d596c93'\n",
      " '5f888877136ad50208b48b47' '5d34d17089232600011ade3a'\n",
      " '62c50bf9b7587ff5073cd7fb' '63d79e5ecdcf4d0dbd646bf6'\n",
      " '60d76140337e60ae26f7fce9' '6333c1f5756acfabfde457ed'\n",
      " '610803b9ce5f71efbd6e1722' '60b7bd75af8c92afa748324f'\n",
      " '63626a68cf44b4184483c8e8' '63b6dfb29118fec2d923f8c3'\n",
      " '5dccb82a76eab294aa4837ff' '5efcaaee74e56207d16db007'\n",
      " '5dce3ccc32ccbf0cd54263db' '5d9b866189c03c001540eff1'\n",
      " '5f513339b2c26c338771f1d0' '614e664d1657383cbf801e52'\n",
      " '60255901704fd208ecdcf32b' '5de6eca0a91be366cbb5ffe2'\n",
      " '643b53b6aeaabf186d24e099' '5b75b2ebc5e14d00013669fc'\n",
      " '62d9e46fded6a6209a518499' '63ed0ed001893f9028e06e41'\n",
      " '5a6cc406d5d4cb0001d664aa' '629658baad2881aba974c6c3'\n",
      " '5c4684826a7dbc00017c0a87' '56bae08f30d6b30005f8537a'\n",
      " '65cba99c92b362b45e414da7' '5b824fb6cc06660001a302d4'\n",
      " '60580179f67fdaeb815ab9fc' '62bc3401dc67c7598dbba4a6'\n",
      " '5e93e2a7a5de13720dffc7f9' '6596a5cad60ef105b6c18897'\n",
      " '5dea7a7df87f5519e686ff7b' '659eea0011db3620094caa90'\n",
      " '655f90dc3ab2904c2db16f42' '65103993db511843e8ed8285'\n",
      " '65c10c2abe42175a96e3ef2f' '5c12b0ba17e18d0001e7629e'\n",
      " '60c2b160526d0ae3b07ca006' '5c588d147831040001973ab3'\n",
      " '5ed6b2dd7478e0122030e7ff' '63614a46bd1e8547e0a8b8ba'\n",
      " '65a8e09cb517c52021059686' '5f5fef6ce0809f0d5b3cde5c'\n",
      " '61bb3a5340db417c1a138ffc' '6105c41aa4fe602501d5a8cc'\n",
      " '5ba3223a68b542000112c1b6' '60e9c78a617cbabf4732fee6'\n",
      " '64d6ce5da504fd69ac11e7c4' '60fcc292d13ae9614d4a77a7'\n",
      " '62daa52d86e66e5feaf3bc15' '5efe46699aca1b332ff927bc'\n",
      " '643c6175d46d41e74033994f' '5d44afdcad6d110019b0a960'\n",
      " '5a6eac90d5d4cb0001d6815a' '590eb4006d77630001d3a28a'\n",
      " '5f6666e43be0b923d23c8df8' '6516fc85c3f5d2912d6518f6'\n",
      " '6103975ca7d27831aba29dfb' '6466a623d58139575eb88c6c'\n",
      " '614c86f68018ec28d1550e76' '569b36e3af9ad70006640dd9'\n",
      " '652b45ca9fb27ba9325a99cd' '646691e373f0424399e2de28'\n",
      " '63034df51d918e1e3b97e5ce' '652ab7948cb59f4c50c7972a'\n",
      " '5f16c677bc5f86028f33fc62' '5b1f185488ee7400012b4b5c'\n",
      " '65608f82fbcd84adaf29427b' '5e5023405c27990580d81c72'\n",
      " '5fe0d610dd8cf1a331961cbe' '587674406e2f8d00015c6148'\n",
      " '5bfff7c02213be0001c2c7cf' '65a03d9edc0d74b929e38a76'\n",
      " '633f63a85f73534dbcfa5ae5' '652eba765a354b18c33ce55d'\n",
      " '602c42fcd6ab3e5033c45951' '63026a8fd8429b224cd2a134'\n",
      " '5f5aa60bef062519ff711fe6' '637d4196c70a66e28ecede34'\n",
      " '5e52a7cc53ecf12b883e1e1f' '646f74e17638d9361ed60551'\n",
      " '5f1b84872171f838a8a3cfa9' '5e153f25dc79bdb5290738bd'\n",
      " '63ba10de73415d047e1d6731' '5c570f52b45c6600010b6d1e'\n",
      " '6095fc75ab1d101e060d808b' '5fc5e7f29b30921814e73ea1'\n",
      " '5c3d040cc2d0b700017c715b' '5bd612ce860b840001dc1a74'\n",
      " '659f1e6392a74cfe36923af7' '5bd49bcc25db7b0001794063'\n",
      " '631f1b608af38f654d2a3b1f' '5c1a0a74cdd50e00014c7f75'\n",
      " '5b22f24c38fc0c0001313ea8' '610796f1301fccdca446af57'\n",
      " '5fab76ecea3019678ca9ef4d' '5ee38ef98c0c440172e022ac'\n",
      " '62ea3271cc6c19525f896495' '5c2965d11c8e4c0001b309b7'\n",
      " '5e164e81502213c397f0cf39' '63fceba525d21052bc1ee390'\n",
      " '633f4f203450d46b01e3d16b' '5f336ae68853aa176a3f0267'\n",
      " '5dee8ee31255595293a9906b' '5f4000a47ed89c0e7f2e3760'\n",
      " '642c4f6e95f13dc4c1b54712' '65c1779a3f438c1cdcd9641a'\n",
      " '6107a4b7744b9b0ca7328cee' '6101ea05dc5f3b0d1df5ccff'\n",
      " '5ef78f819d93424af2af742b' '5e076e0c53e8461018058048'\n",
      " '65cefb1a4565306b90516a56' '628d78a2ccf4a41f24c2d2d8'\n",
      " '62795175ca262157d4c321c2' '5c90094e71f3100016181ea9'\n",
      " '5834a80a106ee1000120abd3' '5a5ec648eedc32000142ce86'\n",
      " '5ef9f528c7ae587afa25fe9b' '5e4465013f75e52fc82f7096'\n",
      " '5ea237d872cd2a144b99a177' '65ede6b8d079917c5421785e'\n",
      " '63d485aaf47a463859d6c9c0' '6286d3ac3a161dab706a695c'\n",
      " '5e7a5c9d7567f003b57b85e9' '5d4fc7b44ec90b0017218453'\n",
      " '6522a86994a5ce0d7bb9feba' '6341b95632265cb75975ae2c'\n",
      " '5f90581950d8520e8c7d3890' '6400dc9f84ed19aeedc1a2cc'\n",
      " '632ff41f3631baf749984e3e' '63fd0a7da4c0df409be0a784'\n",
      " '5ab6cbbbf69e940001d8e446' '6148ea50509c9ce6c1f023c0'\n",
      " '6388b6c86e47b08e1eded1fd' '5e5de7a9151524109818ad6a'\n",
      " '59a1ddac5dfd6b000152601f' '64abee38a80dfb5e45212487'\n",
      " '6174b049932ee98236563b51']\n"
     ]
    }
   ],
   "source": [
    "# looks like we retain just prolific ids\n",
    "# this does not include people who dropped out\n",
    "print(exit_survey['prolific_id'].unique())"
   ]
  },
  {
   "cell_type": "code",
   "execution_count": 9,
   "metadata": {},
   "outputs": [
    {
     "data": {
      "text/html": [
       "<div>\n",
       "<style scoped>\n",
       "    .dataframe tbody tr th:only-of-type {\n",
       "        vertical-align: middle;\n",
       "    }\n",
       "\n",
       "    .dataframe tbody tr th {\n",
       "        vertical-align: top;\n",
       "    }\n",
       "\n",
       "    .dataframe thead th {\n",
       "        text-align: right;\n",
       "    }\n",
       "</style>\n",
       "<table border=\"1\" class=\"dataframe\">\n",
       "  <thead>\n",
       "    <tr style=\"text-align: right;\">\n",
       "      <th></th>\n",
       "      <th>start_date</th>\n",
       "      <th>end_date</th>\n",
       "      <th>duration</th>\n",
       "      <th>is_finished</th>\n",
       "      <th>prolific_id</th>\n",
       "      <th>gender</th>\n",
       "      <th>age</th>\n",
       "      <th>drone_experience</th>\n",
       "      <th>video_game_experience</th>\n",
       "      <th>feedback_helped</th>\n",
       "      <th>change_from_feedback</th>\n",
       "      <th>comments</th>\n",
       "      <th>feedback_helped_collapsed</th>\n",
       "    </tr>\n",
       "  </thead>\n",
       "  <tbody>\n",
       "    <tr>\n",
       "      <th>3</th>\n",
       "      <td>2024-04-10 11:35:59</td>\n",
       "      <td>2024-04-10 11:59:47</td>\n",
       "      <td>1428</td>\n",
       "      <td>True</td>\n",
       "      <td>5eb4955dab41e130f24d08c9</td>\n",
       "      <td>Woman</td>\n",
       "      <td>48</td>\n",
       "      <td>None</td>\n",
       "      <td>Weekly</td>\n",
       "      <td>Strongly Agree</td>\n",
       "      <td>I did change my technique, I started going up ...</td>\n",
       "      <td>NaN</td>\n",
       "      <td>Agree</td>\n",
       "    </tr>\n",
       "    <tr>\n",
       "      <th>4</th>\n",
       "      <td>2024-04-10 11:39:03</td>\n",
       "      <td>2024-04-10 12:11:03</td>\n",
       "      <td>1919</td>\n",
       "      <td>True</td>\n",
       "      <td>640156a5f2395bf80ca0c451</td>\n",
       "      <td>Man</td>\n",
       "      <td>33</td>\n",
       "      <td>None</td>\n",
       "      <td>Daily</td>\n",
       "      <td>Disagree</td>\n",
       "      <td>I tried to take into account what it was sayin...</td>\n",
       "      <td>NaN</td>\n",
       "      <td>Disagree</td>\n",
       "    </tr>\n",
       "    <tr>\n",
       "      <th>5</th>\n",
       "      <td>2024-04-10 11:21:24</td>\n",
       "      <td>2024-04-10 12:15:07</td>\n",
       "      <td>3222</td>\n",
       "      <td>True</td>\n",
       "      <td>5760a995f371330006a47cb3</td>\n",
       "      <td>Woman</td>\n",
       "      <td>33</td>\n",
       "      <td>None</td>\n",
       "      <td>Daily</td>\n",
       "      <td>Neutral</td>\n",
       "      <td>Yes. I began to tap buttons instead of holding...</td>\n",
       "      <td>NaN</td>\n",
       "      <td>Neutral</td>\n",
       "    </tr>\n",
       "    <tr>\n",
       "      <th>6</th>\n",
       "      <td>2024-04-10 11:58:31</td>\n",
       "      <td>2024-04-10 12:18:50</td>\n",
       "      <td>1218</td>\n",
       "      <td>True</td>\n",
       "      <td>5f2dc46d6fa1250ee8a1a15d</td>\n",
       "      <td>Woman</td>\n",
       "      <td>37</td>\n",
       "      <td>None</td>\n",
       "      <td>None</td>\n",
       "      <td>Neutral</td>\n",
       "      <td>It was easier for me to adjust based on my con...</td>\n",
       "      <td>NaN</td>\n",
       "      <td>Neutral</td>\n",
       "    </tr>\n",
       "    <tr>\n",
       "      <th>7</th>\n",
       "      <td>2024-04-10 11:59:20</td>\n",
       "      <td>2024-04-10 12:21:20</td>\n",
       "      <td>1320</td>\n",
       "      <td>True</td>\n",
       "      <td>60fde5e29e585481874a9d16</td>\n",
       "      <td>Non-binary</td>\n",
       "      <td>41</td>\n",
       "      <td>None</td>\n",
       "      <td>Monthly</td>\n",
       "      <td>Agree</td>\n",
       "      <td>i figured out how to slow the drone down befor...</td>\n",
       "      <td>NaN</td>\n",
       "      <td>Agree</td>\n",
       "    </tr>\n",
       "    <tr>\n",
       "      <th>8</th>\n",
       "      <td>2024-04-10 12:03:02</td>\n",
       "      <td>2024-04-10 12:24:52</td>\n",
       "      <td>1310</td>\n",
       "      <td>True</td>\n",
       "      <td>62d1228fcd446896ce7c9ec0</td>\n",
       "      <td>Man</td>\n",
       "      <td>31</td>\n",
       "      <td>None</td>\n",
       "      <td>Weekly</td>\n",
       "      <td>Neutral</td>\n",
       "      <td>No</td>\n",
       "      <td>no</td>\n",
       "      <td>Neutral</td>\n",
       "    </tr>\n",
       "    <tr>\n",
       "      <th>9</th>\n",
       "      <td>2024-04-10 12:00:10</td>\n",
       "      <td>2024-04-10 12:34:04</td>\n",
       "      <td>2034</td>\n",
       "      <td>True</td>\n",
       "      <td>6526a14c3f9823cccedb7687</td>\n",
       "      <td>Woman</td>\n",
       "      <td>46</td>\n",
       "      <td>None</td>\n",
       "      <td>None</td>\n",
       "      <td>Strongly Agree</td>\n",
       "      <td>Showing where I overcompensated and suggesting...</td>\n",
       "      <td>This was fun, thanks. If this will actually be...</td>\n",
       "      <td>Agree</td>\n",
       "    </tr>\n",
       "    <tr>\n",
       "      <th>10</th>\n",
       "      <td>2024-04-10 12:07:18</td>\n",
       "      <td>2024-04-10 12:38:48</td>\n",
       "      <td>1889</td>\n",
       "      <td>True</td>\n",
       "      <td>63e688adbc8788de6d596c93</td>\n",
       "      <td>Woman</td>\n",
       "      <td>45</td>\n",
       "      <td>None</td>\n",
       "      <td>Monthly</td>\n",
       "      <td>Agree</td>\n",
       "      <td>The feedback helped me know what to work on to...</td>\n",
       "      <td>NaN</td>\n",
       "      <td>Agree</td>\n",
       "    </tr>\n",
       "    <tr>\n",
       "      <th>11</th>\n",
       "      <td>2024-04-10 12:20:59</td>\n",
       "      <td>2024-04-10 12:43:45</td>\n",
       "      <td>1366</td>\n",
       "      <td>True</td>\n",
       "      <td>5f888877136ad50208b48b47</td>\n",
       "      <td>Man</td>\n",
       "      <td>23</td>\n",
       "      <td>None</td>\n",
       "      <td>Monthly</td>\n",
       "      <td>Agree</td>\n",
       "      <td>Feedbacks were very similar</td>\n",
       "      <td>NaN</td>\n",
       "      <td>Agree</td>\n",
       "    </tr>\n",
       "    <tr>\n",
       "      <th>12</th>\n",
       "      <td>2024-04-10 12:12:43</td>\n",
       "      <td>2024-04-10 12:44:32</td>\n",
       "      <td>1909</td>\n",
       "      <td>True</td>\n",
       "      <td>5d34d17089232600011ade3a</td>\n",
       "      <td>Man</td>\n",
       "      <td>35</td>\n",
       "      <td>None</td>\n",
       "      <td>Weekly</td>\n",
       "      <td>Strongly Agree</td>\n",
       "      <td>Towards the end, i started getting too confide...</td>\n",
       "      <td>No technical issues with this survey</td>\n",
       "      <td>Agree</td>\n",
       "    </tr>\n",
       "  </tbody>\n",
       "</table>\n",
       "</div>"
      ],
      "text/plain": [
       "            start_date            end_date  duration  is_finished  \\\n",
       "3  2024-04-10 11:35:59 2024-04-10 11:59:47      1428         True   \n",
       "4  2024-04-10 11:39:03 2024-04-10 12:11:03      1919         True   \n",
       "5  2024-04-10 11:21:24 2024-04-10 12:15:07      3222         True   \n",
       "6  2024-04-10 11:58:31 2024-04-10 12:18:50      1218         True   \n",
       "7  2024-04-10 11:59:20 2024-04-10 12:21:20      1320         True   \n",
       "8  2024-04-10 12:03:02 2024-04-10 12:24:52      1310         True   \n",
       "9  2024-04-10 12:00:10 2024-04-10 12:34:04      2034         True   \n",
       "10 2024-04-10 12:07:18 2024-04-10 12:38:48      1889         True   \n",
       "11 2024-04-10 12:20:59 2024-04-10 12:43:45      1366         True   \n",
       "12 2024-04-10 12:12:43 2024-04-10 12:44:32      1909         True   \n",
       "\n",
       "                 prolific_id      gender  age drone_experience  \\\n",
       "3   5eb4955dab41e130f24d08c9       Woman   48             None   \n",
       "4   640156a5f2395bf80ca0c451         Man   33             None   \n",
       "5   5760a995f371330006a47cb3       Woman   33             None   \n",
       "6   5f2dc46d6fa1250ee8a1a15d       Woman   37             None   \n",
       "7   60fde5e29e585481874a9d16  Non-binary   41             None   \n",
       "8   62d1228fcd446896ce7c9ec0         Man   31             None   \n",
       "9   6526a14c3f9823cccedb7687       Woman   46             None   \n",
       "10  63e688adbc8788de6d596c93       Woman   45             None   \n",
       "11  5f888877136ad50208b48b47         Man   23             None   \n",
       "12  5d34d17089232600011ade3a         Man   35             None   \n",
       "\n",
       "   video_game_experience feedback_helped  \\\n",
       "3                 Weekly  Strongly Agree   \n",
       "4                  Daily        Disagree   \n",
       "5                  Daily         Neutral   \n",
       "6                   None         Neutral   \n",
       "7                Monthly           Agree   \n",
       "8                 Weekly         Neutral   \n",
       "9                   None  Strongly Agree   \n",
       "10               Monthly           Agree   \n",
       "11               Monthly           Agree   \n",
       "12                Weekly  Strongly Agree   \n",
       "\n",
       "                                 change_from_feedback  \\\n",
       "3   I did change my technique, I started going up ...   \n",
       "4   I tried to take into account what it was sayin...   \n",
       "5   Yes. I began to tap buttons instead of holding...   \n",
       "6   It was easier for me to adjust based on my con...   \n",
       "7   i figured out how to slow the drone down befor...   \n",
       "8                                                  No   \n",
       "9   Showing where I overcompensated and suggesting...   \n",
       "10  The feedback helped me know what to work on to...   \n",
       "11                        Feedbacks were very similar   \n",
       "12  Towards the end, i started getting too confide...   \n",
       "\n",
       "                                             comments  \\\n",
       "3                                                 NaN   \n",
       "4                                                 NaN   \n",
       "5                                                 NaN   \n",
       "6                                                 NaN   \n",
       "7                                                 NaN   \n",
       "8                                                  no   \n",
       "9   This was fun, thanks. If this will actually be...   \n",
       "10                                                NaN   \n",
       "11                                                NaN   \n",
       "12               No technical issues with this survey   \n",
       "\n",
       "   feedback_helped_collapsed  \n",
       "3                      Agree  \n",
       "4                   Disagree  \n",
       "5                    Neutral  \n",
       "6                    Neutral  \n",
       "7                      Agree  \n",
       "8                    Neutral  \n",
       "9                      Agree  \n",
       "10                     Agree  \n",
       "11                     Agree  \n",
       "12                     Agree  "
      ]
     },
     "execution_count": 9,
     "metadata": {},
     "output_type": "execute_result"
    }
   ],
   "source": [
    "# process categorical data\n",
    "exit_survey['gender'] = pd.Categorical(exit_survey['gender'])\n",
    "\n",
    "drone_map = {'I have never flown a drone': \"None\", \n",
    "             'I have tried flying a drone a few times': \"Some\", \n",
    "             'I regularly fly drones': \"Regularly\", \n",
    "             'I am an expert or professional drone pilot': \"Professional\"}\n",
    "exit_survey['drone_experience'] = exit_survey['drone_experience'].replace(drone_map)\n",
    "exit_survey['drone_experience'] = pd.Categorical(exit_survey['drone_experience'], categories=['None', 'Some', 'Regularly', 'Professional'], ordered=True)\n",
    "\n",
    "game_map = {'I do not play video games': \"None\", \n",
    "            'I play video games at least once per month': \"Monthly\", \n",
    "            'I play video games at least once per week': \"Weekly\", \n",
    "            'I play video games almost every day': \"Daily\"}\n",
    "exit_survey['video_game_experience'] = exit_survey['video_game_experience'].replace(game_map)\n",
    "exit_survey['video_game_experience'] = pd.Categorical(exit_survey['video_game_experience'], categories=['None', 'Monthly', 'Weekly', 'Daily'], ordered=True)\n",
    "\n",
    "likert_map = {'1 - Strongly Disagree': \"Strongly Disagree\", \n",
    "              '2': \"Disagree\", \n",
    "              '3 - Neither agree nor disagree': \"Neutral\", \n",
    "              '4': \"Agree\", \n",
    "              '5 - Strongly Agree': \"Strongly Agree\"}\n",
    "exit_survey['feedback_helped'] = exit_survey['feedback_helped'].replace(likert_map)\n",
    "exit_survey['feedback_helped'] = pd.Categorical(exit_survey['feedback_helped'], categories=['Strongly Disagree', 'Disagree', 'Neutral', 'Agree', 'Strongly Agree'], ordered=True)\n",
    "\n",
    "likert_map_collapsed = {'Strongly Disagree': \"Disagree\", \n",
    "                        'Disagree': \"Disagree\", \n",
    "                        'Neutral': \"Neutral\", \n",
    "                        'Agree': \"Agree\", \n",
    "                        'Strongly Agree': \"Agree\"}\n",
    "exit_survey['feedback_helped_collapsed'] = exit_survey['feedback_helped'].replace(likert_map_collapsed)\n",
    "exit_survey['feedback_helped_collapsed'] = pd.Categorical(exit_survey['feedback_helped_collapsed'], categories=['Disagree', 'Neutral', 'Agree'], ordered=True)\n",
    "\n",
    "exit_survey.head(10)"
   ]
  },
  {
   "cell_type": "code",
   "execution_count": 10,
   "metadata": {},
   "outputs": [
    {
     "name": "stdout",
     "output_type": "stream",
     "text": [
      "168\n"
     ]
    }
   ],
   "source": [
    "# merge conditions and exit_survey on user_id and prolific_id\n",
    "# only keep rows that have a match in both dataframes\n",
    "merged = pd.merge(conditions, exit_survey, left_on='user_id', right_on='prolific_id', how='inner')\n",
    "\n",
    "# drop extra user_id column\n",
    "merged = merged.drop(columns=['user_id'])\n",
    "\n",
    "print(len(merged)) # why are there more rows than exit_survey?"
   ]
  },
  {
   "cell_type": "code",
   "execution_count": 11,
   "metadata": {},
   "outputs": [
    {
     "name": "stdout",
     "output_type": "stream",
     "text": [
      "['5bd49bcc25db7b0001794063' '5c90094e71f3100016181ea9'\n",
      " '5ef9f528c7ae587afa25fe9b' '60fcc292d13ae9614d4a77a7'\n",
      " '6105c41aa4fe602501d5a8cc' '610796f1301fccdca446af57'\n",
      " '629658baad2881aba974c6c3' '63026a8fd8429b224cd2a134'\n",
      " '631f1b608af38f654d2a3b1f' '637d4196c70a66e28ecede34'\n",
      " '6388b6c86e47b08e1eded1fd' '63ba10de73415d047e1d6731'\n",
      " '6400dc9f84ed19aeedc1a2cc' '643c6175d46d41e74033994f'\n",
      " '652ab7948cb59f4c50c7972a' '6596a5cad60ef105b6c18897'\n",
      " '65cba99c92b362b45e414da7']\n"
     ]
    }
   ],
   "source": [
    "# participants who show up multiple times in the merged dataframe\n",
    "# this is because they restarted the experiment and have multiple entries in the conditions file\n",
    "duplicate_ids = merged[merged.duplicated(subset='prolific_id', keep=False)]['prolific_id'].unique()\n",
    "duplicate_ids.sort()\n",
    "print(duplicate_ids)"
   ]
  },
  {
   "cell_type": "code",
   "execution_count": 12,
   "metadata": {},
   "outputs": [
    {
     "name": "stdout",
     "output_type": "stream",
     "text": [
      "147\n"
     ]
    }
   ],
   "source": [
    "# drop duplicate entries with duplicate ids\n",
    "merged = merged.drop_duplicates(subset='prolific_id', keep='first')\n",
    "print(len(merged)) # better number!"
   ]
  },
  {
   "cell_type": "code",
   "execution_count": 13,
   "metadata": {},
   "outputs": [],
   "source": [
    "# save merged dataframe to file\n",
    "participant_file = data_dir + 'participant_info.csv'\n",
    "merged.to_csv(participant_file, index=False)"
   ]
  },
  {
   "cell_type": "markdown",
   "metadata": {},
   "source": [
    "Notes on participants that seem to have restarted the experiment:\n",
    "- `5bd49bcc25db7b0001794063` restarted after trial 1 - KEEP\n",
    "- `5c90094e71f3100016181ea9` restarted after trial 3 and again after trial 1 - KEEP\n",
    "- `5ef9f528c7ae587afa25fe9b` restarted after trial 6 - REMOVE\n",
    "- `60fcc292d13ae9614d4a77a7` restarted after trial 3 - KEEP\n",
    "- `6105c41aa4fe602501d5a8cc` restarted after trial 8 - REMOVE\n",
    "- `610796f1301fccdca446af57` restarted after trial 7 - REMOVE\n",
    "- `629658baad2881aba974c6c3` restarted after trial 2 - KEEP\n",
    "- `63026a8fd8429b224cd2a134` restarted before completing trial 1 - KEEP\n",
    "- `631f1b608af38f654d2a3b1f` restarted after trial 15 - REMOVE\n",
    "- `637d4196c70a66e28ecede34` restarted before completing trial 1 - KEEP\n",
    "- `6388b6c86e47b08e1eded1fd` restarted before completing trial 1 - KEEP\n",
    "- `63ba10de73415d047e1d6731` restarted after trial 5 and again after trial 1 - REMOVE\n",
    "- `643c6175d46d41e74033994f` restarted after trial 8 and again after trial 1 - REMOVE\n",
    "- `652ab7948cb59f4c50c7972a` restarted after trial 1 - KEEP\n",
    "- `6596a5cad60ef105b6c18897` restarted after trial 1 - KEEP\n",
    "- `65cba99c92b362b45e414da7` restarted after trial 17 - REMOVE\n",
    "\n",
    "We will keep the participants who complete less than 5 trials before completing a complete run.\n",
    "\n",
    "Participant `6400dc9f84ed19aeedc1a2cc` seems to have filled out the qualtrics survey twice. The numerical data are the same and the free response questions have very similar content so I feel fine only keeping the first entry."
   ]
  },
  {
   "cell_type": "code",
   "execution_count": 14,
   "metadata": {},
   "outputs": [],
   "source": [
    "# list of participants to remove from all analysis\n",
    "# we will retain participants that restarted within the first 5 trials\n",
    "remove_ids = ['5ef9f528c7ae587afa25fe9b', '6105c41aa4fe602501d5a8cc', \n",
    "              '610796f1301fccdca446af57', '631f1b608af38f654d2a3b1f', \n",
    "              '63ba10de73415d047e1d6731', '643c6175d46d41e74033994f', \n",
    "              '65cba99c92b362b45e414da7']"
   ]
  },
  {
   "cell_type": "code",
   "execution_count": 15,
   "metadata": {},
   "outputs": [
    {
     "name": "stdout",
     "output_type": "stream",
     "text": [
      "140\n"
     ]
    }
   ],
   "source": [
    "# remove participants from merged dataframe\n",
    "merged_filtered = merged[~merged['prolific_id'].isin(remove_ids)]\n",
    "print(len(merged_filtered))"
   ]
  },
  {
   "cell_type": "code",
   "execution_count": 33,
   "metadata": {},
   "outputs": [],
   "source": [
    "# calculate total time spent on the experiment\n",
    "def calculate_total_time(user_id):\n",
    "    log = pd.read_csv(data_dir + user_id + '/log.txt', sep=': ', names=['time','message'], parse_dates=['time'])\n",
    "    start_time = log[log['message'].str.contains('Received user ID')].iloc[-1]['time'] # choose the last one in case they restarted\n",
    "    end_time = log[log['message'].str.contains('qualtrics')].iloc[-1]['time'] # choose last one just to be consistent\n",
    "    return end_time - start_time"
   ]
  },
  {
   "cell_type": "code",
   "execution_count": 35,
   "metadata": {},
   "outputs": [],
   "source": [
    "merged_filtered['total_time'] = merged_filtered['prolific_id'].apply(calculate_total_time)"
   ]
  },
  {
   "cell_type": "code",
   "execution_count": 36,
   "metadata": {},
   "outputs": [],
   "source": [
    "filtered_participant_file = data_dir + 'participant_info_filtered.csv'\n",
    "merged_filtered.to_csv(filtered_participant_file, index=False)"
   ]
  },
  {
   "cell_type": "markdown",
   "metadata": {},
   "source": [
    "# Distributions of demographic data\n",
    "\n",
    "This is after filtering out participants that restarted the experiment"
   ]
  },
  {
   "cell_type": "code",
   "execution_count": 37,
   "metadata": {},
   "outputs": [
    {
     "name": "stdout",
     "output_type": "stream",
     "text": [
      "condition\n",
      "score    47\n",
      "text     47\n",
      "full     46\n",
      "demo      0\n",
      "Name: count, dtype: int64\n"
     ]
    }
   ],
   "source": [
    "# number of participants in each condition\n",
    "print(merged_filtered['condition'].value_counts())"
   ]
  },
  {
   "cell_type": "code",
   "execution_count": 38,
   "metadata": {},
   "outputs": [
    {
     "name": "stdout",
     "output_type": "stream",
     "text": [
      "gender\n",
      "Woman         71\n",
      "Man           62\n",
      "Non-binary     7\n",
      "Name: count, dtype: int64\n",
      "gender\n",
      "Woman         0.51\n",
      "Man           0.44\n",
      "Non-binary    0.05\n",
      "Name: count, dtype: float64\n"
     ]
    }
   ],
   "source": [
    "# gender distribution\n",
    "print(merged_filtered['gender'].value_counts())\n",
    "print((merged_filtered['gender'].value_counts()/len(merged_filtered)).round(2))\n"
   ]
  },
  {
   "cell_type": "code",
   "execution_count": 39,
   "metadata": {},
   "outputs": [
    {
     "name": "stdout",
     "output_type": "stream",
     "text": [
      "count    140.0\n",
      "mean      38.3\n",
      "std       12.2\n",
      "min       18.0\n",
      "25%       30.0\n",
      "50%       35.5\n",
      "75%       47.0\n",
      "max       74.0\n",
      "Name: age, dtype: float64\n"
     ]
    }
   ],
   "source": [
    "# age distribution\n",
    "print(merged_filtered['age'].describe().round(1))"
   ]
  },
  {
   "cell_type": "code",
   "execution_count": 40,
   "metadata": {},
   "outputs": [
    {
     "name": "stdout",
     "output_type": "stream",
     "text": [
      "drone_experience\n",
      "None            114\n",
      "Some             20\n",
      "Regularly         5\n",
      "Professional      1\n",
      "Name: count, dtype: int64\n",
      "drone_experience\n",
      "None            0.81\n",
      "Some            0.14\n",
      "Regularly       0.04\n",
      "Professional    0.01\n",
      "Name: count, dtype: float64\n"
     ]
    }
   ],
   "source": [
    "# previous experience with flying drones\n",
    "print(merged_filtered['drone_experience'].value_counts().sort_index())\n",
    "print((merged_filtered['drone_experience'].value_counts().sort_index()/len(merged_filtered)).round(2))"
   ]
  },
  {
   "cell_type": "code",
   "execution_count": 41,
   "metadata": {},
   "outputs": [
    {
     "name": "stdout",
     "output_type": "stream",
     "text": [
      "video_game_experience\n",
      "None       24\n",
      "Monthly    39\n",
      "Weekly     36\n",
      "Daily      41\n",
      "Name: count, dtype: int64\n",
      "video_game_experience\n",
      "None       0.17\n",
      "Monthly    0.28\n",
      "Weekly     0.26\n",
      "Daily      0.29\n",
      "Name: count, dtype: float64\n"
     ]
    }
   ],
   "source": [
    "# video game experience\n",
    "print(merged_filtered['video_game_experience'].value_counts().sort_index())\n",
    "print((merged_filtered['video_game_experience'].value_counts().sort_index()/len(merged_filtered)).round(2))"
   ]
  },
  {
   "cell_type": "code",
   "execution_count": 42,
   "metadata": {},
   "outputs": [
    {
     "name": "stdout",
     "output_type": "stream",
     "text": [
      "feedback_helped\n",
      "Strongly Disagree    22\n",
      "Disagree             17\n",
      "Neutral              22\n",
      "Agree                59\n",
      "Strongly Agree       20\n",
      "Name: count, dtype: int64\n",
      "feedback_helped\n",
      "Strongly Disagree    0.16\n",
      "Disagree             0.12\n",
      "Neutral              0.16\n",
      "Agree                0.42\n",
      "Strongly Agree       0.14\n",
      "Name: count, dtype: float64\n"
     ]
    }
   ],
   "source": [
    "# overall view of feedback perception\n",
    "print(merged_filtered['feedback_helped'].value_counts().sort_index())\n",
    "print((merged_filtered['feedback_helped'].value_counts().sort_index()/len(merged_filtered)).round(2))"
   ]
  },
  {
   "cell_type": "code",
   "execution_count": 43,
   "metadata": {},
   "outputs": [
    {
     "name": "stdout",
     "output_type": "stream",
     "text": [
      "feedback_helped_collapsed\n",
      "Disagree    39\n",
      "Neutral     22\n",
      "Agree       79\n",
      "Name: count, dtype: int64\n",
      "feedback_helped_collapsed\n",
      "Disagree    0.28\n",
      "Neutral     0.16\n",
      "Agree       0.56\n",
      "Name: count, dtype: float64\n"
     ]
    }
   ],
   "source": [
    "# overall view of feedback perception (collapsed)\n",
    "print(merged_filtered['feedback_helped_collapsed'].value_counts().sort_index())\n",
    "print((merged_filtered['feedback_helped_collapsed'].value_counts().sort_index()/len(merged_filtered)).round(2))"
   ]
  },
  {
   "cell_type": "code",
   "execution_count": 44,
   "metadata": {},
   "outputs": [
    {
     "name": "stdout",
     "output_type": "stream",
     "text": [
      "count                          140\n",
      "mean        0 days 00:29:58.052765\n",
      "std      0 days 00:10:37.740892576\n",
      "min         0 days 00:13:25.435327\n",
      "25%      0 days 00:22:26.670653750\n",
      "50%      0 days 00:27:20.474471500\n",
      "75%      0 days 00:35:18.946242250\n",
      "max         0 days 01:26:32.209476\n",
      "Name: total_time, dtype: object\n"
     ]
    }
   ],
   "source": [
    "# time taken to complete the trials\n",
    "print(merged_filtered['total_time'].describe())"
   ]
  },
  {
   "cell_type": "markdown",
   "metadata": {},
   "source": [
    "# Research Themes"
   ]
  },
  {
   "cell_type": "markdown",
   "metadata": {},
   "source": [
    "## Perception of Feedback"
   ]
  },
  {
   "cell_type": "markdown",
   "metadata": {},
   "source": [
    "### Combine all survey responses"
   ]
  },
  {
   "cell_type": "code",
   "execution_count": 28,
   "metadata": {},
   "outputs": [
    {
     "data": {
      "text/html": [
       "<div>\n",
       "<style scoped>\n",
       "    .dataframe tbody tr th:only-of-type {\n",
       "        vertical-align: middle;\n",
       "    }\n",
       "\n",
       "    .dataframe tbody tr th {\n",
       "        vertical-align: top;\n",
       "    }\n",
       "\n",
       "    .dataframe thead th {\n",
       "        text-align: right;\n",
       "    }\n",
       "</style>\n",
       "<table border=\"1\" class=\"dataframe\">\n",
       "  <thead>\n",
       "    <tr style=\"text-align: right;\">\n",
       "      <th></th>\n",
       "      <th>trial</th>\n",
       "      <th>motivation</th>\n",
       "      <th>manageable</th>\n",
       "      <th>actionable</th>\n",
       "      <th>timely</th>\n",
       "      <th>reflection</th>\n",
       "      <th>outcome</th>\n",
       "      <th>prolific_id</th>\n",
       "    </tr>\n",
       "  </thead>\n",
       "  <tbody>\n",
       "    <tr>\n",
       "      <th>0</th>\n",
       "      <td>1</td>\n",
       "      <td>3</td>\n",
       "      <td>3</td>\n",
       "      <td>4</td>\n",
       "      <td>3</td>\n",
       "      <td>3</td>\n",
       "      <td>Crash</td>\n",
       "      <td>5760a995f371330006a47cb3</td>\n",
       "    </tr>\n",
       "    <tr>\n",
       "      <th>1</th>\n",
       "      <td>2</td>\n",
       "      <td>3</td>\n",
       "      <td>3</td>\n",
       "      <td>4</td>\n",
       "      <td>3</td>\n",
       "      <td>4</td>\n",
       "      <td>Crash</td>\n",
       "      <td>5760a995f371330006a47cb3</td>\n",
       "    </tr>\n",
       "    <tr>\n",
       "      <th>2</th>\n",
       "      <td>3</td>\n",
       "      <td>3</td>\n",
       "      <td>3</td>\n",
       "      <td>4</td>\n",
       "      <td>3</td>\n",
       "      <td>3</td>\n",
       "      <td>Unsafe</td>\n",
       "      <td>5760a995f371330006a47cb3</td>\n",
       "    </tr>\n",
       "    <tr>\n",
       "      <th>3</th>\n",
       "      <td>4</td>\n",
       "      <td>3</td>\n",
       "      <td>3</td>\n",
       "      <td>4</td>\n",
       "      <td>3</td>\n",
       "      <td>3</td>\n",
       "      <td>Unsafe</td>\n",
       "      <td>5760a995f371330006a47cb3</td>\n",
       "    </tr>\n",
       "    <tr>\n",
       "      <th>4</th>\n",
       "      <td>5</td>\n",
       "      <td>3</td>\n",
       "      <td>3</td>\n",
       "      <td>4</td>\n",
       "      <td>3</td>\n",
       "      <td>3</td>\n",
       "      <td>Crash</td>\n",
       "      <td>5760a995f371330006a47cb3</td>\n",
       "    </tr>\n",
       "  </tbody>\n",
       "</table>\n",
       "</div>"
      ],
      "text/plain": [
       "   trial  motivation  manageable  actionable  timely  reflection outcome  \\\n",
       "0      1           3           3           4       3           3   Crash   \n",
       "1      2           3           3           4       3           4   Crash   \n",
       "2      3           3           3           4       3           3  Unsafe   \n",
       "3      4           3           3           4       3           3  Unsafe   \n",
       "4      5           3           3           4       3           3   Crash   \n",
       "\n",
       "                prolific_id  \n",
       "0  5760a995f371330006a47cb3  \n",
       "1  5760a995f371330006a47cb3  \n",
       "2  5760a995f371330006a47cb3  \n",
       "3  5760a995f371330006a47cb3  \n",
       "4  5760a995f371330006a47cb3  "
      ]
     },
     "execution_count": 28,
     "metadata": {},
     "output_type": "execute_result"
    }
   ],
   "source": [
    "# combine survey responses from trials into one dataframe\n",
    "responses = []\n",
    "\n",
    "for participant in merged_filtered['prolific_id']:\n",
    "    surveys = pd.read_csv(data_dir + participant + '/survey_responses.csv')\n",
    "    surveys['prolific_id'] = participant\n",
    "    responses.append(surveys)\n",
    "\n",
    "all_responses = pd.concat(responses, ignore_index=True)\n",
    "all_responses.head()"
   ]
  },
  {
   "cell_type": "code",
   "execution_count": 29,
   "metadata": {},
   "outputs": [
    {
     "data": {
      "text/html": [
       "<div>\n",
       "<style scoped>\n",
       "    .dataframe tbody tr th:only-of-type {\n",
       "        vertical-align: middle;\n",
       "    }\n",
       "\n",
       "    .dataframe tbody tr th {\n",
       "        vertical-align: top;\n",
       "    }\n",
       "\n",
       "    .dataframe thead th {\n",
       "        text-align: right;\n",
       "    }\n",
       "</style>\n",
       "<table border=\"1\" class=\"dataframe\">\n",
       "  <thead>\n",
       "    <tr style=\"text-align: right;\">\n",
       "      <th></th>\n",
       "      <th>trial</th>\n",
       "      <th>motivation</th>\n",
       "      <th>manageable</th>\n",
       "      <th>actionable</th>\n",
       "      <th>timely</th>\n",
       "      <th>reflection</th>\n",
       "      <th>outcome</th>\n",
       "      <th>prolific_id</th>\n",
       "      <th>motivation_collapsed</th>\n",
       "      <th>actionable_collapsed</th>\n",
       "      <th>reflection_collapsed</th>\n",
       "      <th>manageable_collapsed</th>\n",
       "      <th>timely_collapsed</th>\n",
       "    </tr>\n",
       "  </thead>\n",
       "  <tbody>\n",
       "    <tr>\n",
       "      <th>0</th>\n",
       "      <td>1</td>\n",
       "      <td>Neutral</td>\n",
       "      <td>Just right</td>\n",
       "      <td>Agree</td>\n",
       "      <td>Just enough</td>\n",
       "      <td>Neutral</td>\n",
       "      <td>Crash</td>\n",
       "      <td>5760a995f371330006a47cb3</td>\n",
       "      <td>Neutral</td>\n",
       "      <td>Agree</td>\n",
       "      <td>Neutral</td>\n",
       "      <td>Just right</td>\n",
       "      <td>Just enough</td>\n",
       "    </tr>\n",
       "    <tr>\n",
       "      <th>1</th>\n",
       "      <td>2</td>\n",
       "      <td>Neutral</td>\n",
       "      <td>Just right</td>\n",
       "      <td>Agree</td>\n",
       "      <td>Just enough</td>\n",
       "      <td>Agree</td>\n",
       "      <td>Crash</td>\n",
       "      <td>5760a995f371330006a47cb3</td>\n",
       "      <td>Neutral</td>\n",
       "      <td>Agree</td>\n",
       "      <td>Agree</td>\n",
       "      <td>Just right</td>\n",
       "      <td>Just enough</td>\n",
       "    </tr>\n",
       "    <tr>\n",
       "      <th>2</th>\n",
       "      <td>3</td>\n",
       "      <td>Neutral</td>\n",
       "      <td>Just right</td>\n",
       "      <td>Agree</td>\n",
       "      <td>Just enough</td>\n",
       "      <td>Neutral</td>\n",
       "      <td>Unsafe</td>\n",
       "      <td>5760a995f371330006a47cb3</td>\n",
       "      <td>Neutral</td>\n",
       "      <td>Agree</td>\n",
       "      <td>Neutral</td>\n",
       "      <td>Just right</td>\n",
       "      <td>Just enough</td>\n",
       "    </tr>\n",
       "    <tr>\n",
       "      <th>3</th>\n",
       "      <td>4</td>\n",
       "      <td>Neutral</td>\n",
       "      <td>Just right</td>\n",
       "      <td>Agree</td>\n",
       "      <td>Just enough</td>\n",
       "      <td>Neutral</td>\n",
       "      <td>Unsafe</td>\n",
       "      <td>5760a995f371330006a47cb3</td>\n",
       "      <td>Neutral</td>\n",
       "      <td>Agree</td>\n",
       "      <td>Neutral</td>\n",
       "      <td>Just right</td>\n",
       "      <td>Just enough</td>\n",
       "    </tr>\n",
       "    <tr>\n",
       "      <th>4</th>\n",
       "      <td>5</td>\n",
       "      <td>Neutral</td>\n",
       "      <td>Just right</td>\n",
       "      <td>Agree</td>\n",
       "      <td>Just enough</td>\n",
       "      <td>Neutral</td>\n",
       "      <td>Crash</td>\n",
       "      <td>5760a995f371330006a47cb3</td>\n",
       "      <td>Neutral</td>\n",
       "      <td>Agree</td>\n",
       "      <td>Neutral</td>\n",
       "      <td>Just right</td>\n",
       "      <td>Just enough</td>\n",
       "    </tr>\n",
       "  </tbody>\n",
       "</table>\n",
       "</div>"
      ],
      "text/plain": [
       "   trial motivation  manageable actionable       timely reflection outcome  \\\n",
       "0      1    Neutral  Just right      Agree  Just enough    Neutral   Crash   \n",
       "1      2    Neutral  Just right      Agree  Just enough      Agree   Crash   \n",
       "2      3    Neutral  Just right      Agree  Just enough    Neutral  Unsafe   \n",
       "3      4    Neutral  Just right      Agree  Just enough    Neutral  Unsafe   \n",
       "4      5    Neutral  Just right      Agree  Just enough    Neutral   Crash   \n",
       "\n",
       "                prolific_id motivation_collapsed actionable_collapsed  \\\n",
       "0  5760a995f371330006a47cb3              Neutral                Agree   \n",
       "1  5760a995f371330006a47cb3              Neutral                Agree   \n",
       "2  5760a995f371330006a47cb3              Neutral                Agree   \n",
       "3  5760a995f371330006a47cb3              Neutral                Agree   \n",
       "4  5760a995f371330006a47cb3              Neutral                Agree   \n",
       "\n",
       "  reflection_collapsed manageable_collapsed timely_collapsed  \n",
       "0              Neutral           Just right      Just enough  \n",
       "1                Agree           Just right      Just enough  \n",
       "2              Neutral           Just right      Just enough  \n",
       "3              Neutral           Just right      Just enough  \n",
       "4              Neutral           Just right      Just enough  "
      ]
     },
     "execution_count": 29,
     "metadata": {},
     "output_type": "execute_result"
    }
   ],
   "source": [
    "# make survey responses categorical\n",
    "survey_likert_map = {'1': \"Strongly Disagree\", \n",
    "                     '2': \"Disagree\", \n",
    "                     '3': \"Neutral\", \n",
    "                     '4': \"Agree\", \n",
    "                     '5': \"Strongly Agree\"}\n",
    "likert_categories = ['Strongly Disagree', 'Disagree', 'Neutral', 'Agree', 'Strongly Agree']\n",
    "\n",
    "\n",
    "all_responses['motivation'] = all_responses['motivation'].apply(str)\n",
    "all_responses['motivation'] = all_responses['motivation'].replace(survey_likert_map)\n",
    "all_responses['motivation'] = pd.Categorical(all_responses['motivation'], categories=likert_categories, ordered=True)\n",
    "all_responses['motivation_collapsed'] = all_responses['motivation'].replace(likert_map_collapsed)\n",
    "all_responses['motivation_collapsed'] = pd.Categorical(all_responses['motivation_collapsed'], categories=['Disagree', 'Neutral', 'Agree'], ordered=True)\n",
    "\n",
    "all_responses['actionable'] = all_responses['actionable'].apply(str)\n",
    "all_responses['actionable'] = all_responses['actionable'].replace(survey_likert_map)\n",
    "all_responses['actionable'] = pd.Categorical(all_responses['actionable'], categories=likert_categories, ordered=True)\n",
    "all_responses['actionable_collapsed'] = all_responses['actionable'].replace(likert_map_collapsed)\n",
    "all_responses['actionable_collapsed'] = pd.Categorical(all_responses['actionable_collapsed'], categories=['Disagree', 'Neutral', 'Agree'], ordered=True)\n",
    "\n",
    "all_responses['reflection'] = all_responses['reflection'].apply(str)\n",
    "all_responses['reflection'] = all_responses['reflection'].replace(survey_likert_map)\n",
    "all_responses['reflection'] = pd.Categorical(all_responses['reflection'], categories=likert_categories, ordered=True)\n",
    "all_responses['reflection_collapsed'] = all_responses['reflection'].replace(likert_map_collapsed)\n",
    "all_responses['reflection_collapsed'] = pd.Categorical(all_responses['reflection_collapsed'], categories=['Disagree', 'Neutral', 'Agree'], ordered=True)\n",
    "\n",
    "manageable_likert_map = {'1': \"Much too little\",\n",
    "                         '2': \"Too little\",\n",
    "                         '3': \"Just right\",\n",
    "                         '4': \"Too much\",\n",
    "                         '5': \"Much too much\"}\n",
    "manageable_categories = ['Much too little', 'Too little', 'Just right', 'Too much', 'Much too much']\n",
    "manageable_likert_map_collapsed = {'Much too little': \"Too little\",\n",
    "                                   'Too little': \"Too little\",\n",
    "                                   'Just right': \"Just right\",\n",
    "                                   'Too much': \"Too much\",\n",
    "                                   'Much too much': \"Too much\"}\n",
    "\n",
    "all_responses['manageable'] = all_responses['manageable'].apply(str)\n",
    "all_responses['manageable'] = all_responses['manageable'].replace(manageable_likert_map)\n",
    "all_responses['manageable'] = pd.Categorical(all_responses['manageable'], categories=manageable_categories, ordered=True)\n",
    "all_responses['manageable_collapsed'] = all_responses['manageable'].replace(manageable_likert_map_collapsed)\n",
    "all_responses['manageable_collapsed'] = pd.Categorical(all_responses['manageable_collapsed'], categories=['Too little', 'Just right', 'Too much'], ordered=True)\n",
    "\n",
    "timely_likert_map = {'1': \"Much too infrequent\",\n",
    "                     '2': \"Too infrequent\",\n",
    "                     '3': \"Just enough\",\n",
    "                     '4': \"Too often\",\n",
    "                     '5': \"Much too often\"}\n",
    "timely_categories = ['Much too infrequent', 'Too infrequent', 'Just enough', 'Too often', 'Much too often']\n",
    "timely_likert_map_collapsed = {'Much too infrequent': \"Too infrequent\",\n",
    "                               'Too infrequent': \"Too infrequent\",\n",
    "                               'Just enough': \"Just enough\",\n",
    "                               'Too often': \"Too often\",\n",
    "                               'Much too often': \"Too often\"}\n",
    "\n",
    "all_responses['timely'] = all_responses['timely'].apply(str)\n",
    "all_responses['timely'] = all_responses['timely'].replace(timely_likert_map)\n",
    "all_responses['timely'] = pd.Categorical(all_responses['timely'], categories=timely_categories, ordered=True)\n",
    "all_responses['timely_collapsed'] = all_responses['timely'].replace(timely_likert_map_collapsed)\n",
    "all_responses['timely_collapsed'] = pd.Categorical(all_responses['timely_collapsed'], categories=['Too infrequent', 'Just enough', 'Too often'], ordered=True)\n",
    "\n",
    "all_responses['outcome'] = pd.Categorical(all_responses['outcome'], categories=['Crash', 'Unsafe', 'Safe'], ordered=True)\n",
    "\n",
    "all_responses.head()"
   ]
  },
  {
   "cell_type": "code",
   "execution_count": 26,
   "metadata": {},
   "outputs": [
    {
     "name": "stdout",
     "output_type": "stream",
     "text": [
      "2800\n"
     ]
    }
   ],
   "source": [
    "print(len(all_responses))"
   ]
  },
  {
   "cell_type": "code",
   "execution_count": 30,
   "metadata": {},
   "outputs": [
    {
     "data": {
      "text/plain": [
       "trial                      int64\n",
       "motivation              category\n",
       "manageable              category\n",
       "actionable              category\n",
       "timely                  category\n",
       "reflection              category\n",
       "outcome                 category\n",
       "prolific_id               object\n",
       "motivation_collapsed    category\n",
       "actionable_collapsed    category\n",
       "reflection_collapsed    category\n",
       "manageable_collapsed    category\n",
       "timely_collapsed        category\n",
       "dtype: object"
      ]
     },
     "execution_count": 30,
     "metadata": {},
     "output_type": "execute_result"
    }
   ],
   "source": [
    "all_responses.dtypes"
   ]
  },
  {
   "cell_type": "code",
   "execution_count": 31,
   "metadata": {},
   "outputs": [
    {
     "name": "stdout",
     "output_type": "stream",
     "text": [
      "   trial motivation  manageable actionable       timely reflection outcome  \\\n",
      "0      1    Neutral  Just right      Agree  Just enough    Neutral   Crash   \n",
      "1      2    Neutral  Just right      Agree  Just enough      Agree   Crash   \n",
      "2      3    Neutral  Just right      Agree  Just enough    Neutral  Unsafe   \n",
      "3      4    Neutral  Just right      Agree  Just enough    Neutral  Unsafe   \n",
      "4      5    Neutral  Just right      Agree  Just enough    Neutral   Crash   \n",
      "\n",
      "                prolific_id motivation_collapsed actionable_collapsed  \\\n",
      "0  5760a995f371330006a47cb3              Neutral                Agree   \n",
      "1  5760a995f371330006a47cb3              Neutral                Agree   \n",
      "2  5760a995f371330006a47cb3              Neutral                Agree   \n",
      "3  5760a995f371330006a47cb3              Neutral                Agree   \n",
      "4  5760a995f371330006a47cb3              Neutral                Agree   \n",
      "\n",
      "  reflection_collapsed manageable_collapsed timely_collapsed condition  \n",
      "0              Neutral           Just right      Just enough      full  \n",
      "1                Agree           Just right      Just enough      full  \n",
      "2              Neutral           Just right      Just enough      full  \n",
      "3              Neutral           Just right      Just enough      full  \n",
      "4              Neutral           Just right      Just enough      full  \n",
      "      trial motivation  manageable actionable          timely reflection  \\\n",
      "2795     16   Disagree  Just right      Agree  Much too often      Agree   \n",
      "2796     17      Agree  Just right      Agree  Much too often      Agree   \n",
      "2797     18   Disagree    Too much      Agree  Much too often      Agree   \n",
      "2798     19   Disagree  Just right      Agree  Much too often      Agree   \n",
      "2799     20   Disagree  Just right      Agree  Much too often      Agree   \n",
      "\n",
      "     outcome               prolific_id motivation_collapsed  \\\n",
      "2795  Unsafe  64abee38a80dfb5e45212487             Disagree   \n",
      "2796    Safe  64abee38a80dfb5e45212487                Agree   \n",
      "2797  Unsafe  64abee38a80dfb5e45212487             Disagree   \n",
      "2798    Safe  64abee38a80dfb5e45212487             Disagree   \n",
      "2799  Unsafe  64abee38a80dfb5e45212487             Disagree   \n",
      "\n",
      "     actionable_collapsed reflection_collapsed manageable_collapsed  \\\n",
      "2795                Agree                Agree           Just right   \n",
      "2796                Agree                Agree           Just right   \n",
      "2797                Agree                Agree             Too much   \n",
      "2798                Agree                Agree           Just right   \n",
      "2799                Agree                Agree           Just right   \n",
      "\n",
      "     timely_collapsed condition  \n",
      "2795        Too often      text  \n",
      "2796        Too often      text  \n",
      "2797        Too often      text  \n",
      "2798        Too often      text  \n",
      "2799        Too often      text  \n"
     ]
    }
   ],
   "source": [
    "# add column for feedback condition\n",
    "all_responses['condition'] = all_responses['prolific_id'].map(merged_filtered.set_index('prolific_id')['condition'])\n",
    "all_responses['condition'] = pd.Categorical(all_responses['condition'], categories=['score', 'text', 'full'], ordered=True)\n",
    "print(all_responses.head())\n",
    "print(all_responses.tail())"
   ]
  },
  {
   "cell_type": "code",
   "execution_count": 45,
   "metadata": {},
   "outputs": [],
   "source": [
    "def calculate_trial_time(user_id, trial_num):\n",
    "    log = pd.read_csv(data_dir + user_id + '/log.txt', sep=': ', names=['time','message'], parse_dates=['time'])\n",
    "    trial_start_idx = log[log['message'].str.contains(f'Trial {trial_num} started')].iloc[-1].name\n",
    "    start_time = log.loc[trial_start_idx]['time']\n",
    "    end_time = log.loc[trial_start_idx+1]['time'] # next line is when trajectory data is sent to the server\n",
    "    return end_time - start_time"
   ]
  },
  {
   "cell_type": "code",
   "execution_count": 47,
   "metadata": {},
   "outputs": [],
   "source": [
    "all_responses['trial_time'] = all_responses.apply(lambda x: calculate_trial_time(x['prolific_id'], x['trial']), axis=1)"
   ]
  },
  {
   "cell_type": "code",
   "execution_count": 48,
   "metadata": {},
   "outputs": [
    {
     "data": {
      "text/plain": [
       "count                         2800\n",
       "mean     0 days 00:00:29.385628283\n",
       "std      0 days 00:00:33.595747335\n",
       "min       -1 days +23:59:59.999928\n",
       "25%      0 days 00:00:16.338158750\n",
       "50%      0 days 00:00:24.289769500\n",
       "75%         0 days 00:00:36.310053\n",
       "max         0 days 00:17:52.321791\n",
       "Name: trial_time, dtype: object"
      ]
     },
     "execution_count": 48,
     "metadata": {},
     "output_type": "execute_result"
    }
   ],
   "source": [
    "all_responses['trial_time'].describe()"
   ]
  },
  {
   "cell_type": "code",
   "execution_count": 49,
   "metadata": {},
   "outputs": [],
   "source": [
    "def calculate_feedback_time(user_id, trial_num):\n",
    "    log = pd.read_csv(data_dir + user_id + '/log.txt', sep=': ', names=['time','message'], parse_dates=['time'])\n",
    "    trial_start_idx = log[log['message'].str.contains(f'Trial {trial_num} started')].iloc[-1].name\n",
    "    start_time = log.loc[trial_start_idx+3]['time'] # saved feedback to file\n",
    "    end_time = log.loc[trial_start_idx+4]['time'] # received survey responses\n",
    "    return end_time - start_time"
   ]
  },
  {
   "cell_type": "code",
   "execution_count": 50,
   "metadata": {},
   "outputs": [],
   "source": [
    "all_responses['feedback_time'] = all_responses.apply(lambda x: calculate_feedback_time(x['prolific_id'], x['trial']), axis=1)"
   ]
  },
  {
   "cell_type": "code",
   "execution_count": 51,
   "metadata": {},
   "outputs": [
    {
     "data": {
      "text/plain": [
       "count                         2800\n",
       "mean     0 days 00:00:34.071604695\n",
       "std      0 days 00:01:31.318088845\n",
       "min         0 days 00:00:00.001766\n",
       "25%         0 days 00:00:14.383753\n",
       "50%      0 days 00:00:24.099650500\n",
       "75%      0 days 00:00:36.450295500\n",
       "max         0 days 01:07:44.941621\n",
       "Name: feedback_time, dtype: object"
      ]
     },
     "execution_count": 51,
     "metadata": {},
     "output_type": "execute_result"
    }
   ],
   "source": [
    "all_responses['feedback_time'].describe()"
   ]
  },
  {
   "cell_type": "code",
   "execution_count": 52,
   "metadata": {},
   "outputs": [],
   "source": [
    "survey_file = data_dir + 'survey_responses_combined.csv'\n",
    "all_responses.to_csv(survey_file, index=False)"
   ]
  },
  {
   "cell_type": "code",
   "execution_count": 55,
   "metadata": {},
   "outputs": [
    {
     "data": {
      "text/html": [
       "<div>\n",
       "<style scoped>\n",
       "    .dataframe tbody tr th:only-of-type {\n",
       "        vertical-align: middle;\n",
       "    }\n",
       "\n",
       "    .dataframe tbody tr th {\n",
       "        vertical-align: top;\n",
       "    }\n",
       "\n",
       "    .dataframe thead th {\n",
       "        text-align: right;\n",
       "    }\n",
       "</style>\n",
       "<table border=\"1\" class=\"dataframe\">\n",
       "  <thead>\n",
       "    <tr style=\"text-align: right;\">\n",
       "      <th></th>\n",
       "      <th>time</th>\n",
       "      <th>condition</th>\n",
       "      <th>start_date</th>\n",
       "      <th>end_date</th>\n",
       "      <th>duration</th>\n",
       "      <th>is_finished</th>\n",
       "      <th>prolific_id</th>\n",
       "      <th>gender</th>\n",
       "      <th>age</th>\n",
       "      <th>drone_experience</th>\n",
       "      <th>video_game_experience</th>\n",
       "      <th>feedback_helped</th>\n",
       "      <th>change_from_feedback</th>\n",
       "      <th>comments</th>\n",
       "      <th>feedback_helped_collapsed</th>\n",
       "      <th>total_time</th>\n",
       "      <th>trial_time_x</th>\n",
       "      <th>trial_time_y</th>\n",
       "      <th>feedback_time</th>\n",
       "    </tr>\n",
       "  </thead>\n",
       "  <tbody>\n",
       "    <tr>\n",
       "      <th>0</th>\n",
       "      <td>2024-04-10 11:21:44.981234</td>\n",
       "      <td>full</td>\n",
       "      <td>2024-04-10 11:21:24</td>\n",
       "      <td>2024-04-10 12:15:07</td>\n",
       "      <td>3222</td>\n",
       "      <td>True</td>\n",
       "      <td>5760a995f371330006a47cb3</td>\n",
       "      <td>Woman</td>\n",
       "      <td>33</td>\n",
       "      <td>None</td>\n",
       "      <td>Daily</td>\n",
       "      <td>Neutral</td>\n",
       "      <td>Yes. I began to tap buttons instead of holding...</td>\n",
       "      <td>NaN</td>\n",
       "      <td>Neutral</td>\n",
       "      <td>0 days 00:51:22.367016</td>\n",
       "      <td>0 days 00:00:57.915392900</td>\n",
       "      <td>0 days 00:00:57.915392900</td>\n",
       "      <td>0 days 00:01:11.068398650</td>\n",
       "    </tr>\n",
       "    <tr>\n",
       "      <th>1</th>\n",
       "      <td>2024-04-10 11:36:12.740984</td>\n",
       "      <td>full</td>\n",
       "      <td>2024-04-10 11:35:59</td>\n",
       "      <td>2024-04-10 11:59:47</td>\n",
       "      <td>1428</td>\n",
       "      <td>True</td>\n",
       "      <td>5eb4955dab41e130f24d08c9</td>\n",
       "      <td>Woman</td>\n",
       "      <td>48</td>\n",
       "      <td>None</td>\n",
       "      <td>Weekly</td>\n",
       "      <td>Strongly Agree</td>\n",
       "      <td>I did change my technique, I started going up ...</td>\n",
       "      <td>NaN</td>\n",
       "      <td>Agree</td>\n",
       "      <td>0 days 00:22:30.360526</td>\n",
       "      <td>0 days 00:00:31.817062550</td>\n",
       "      <td>0 days 00:00:31.817062550</td>\n",
       "      <td>0 days 00:00:14.629016350</td>\n",
       "    </tr>\n",
       "    <tr>\n",
       "      <th>2</th>\n",
       "      <td>2024-04-10 11:39:27.099011</td>\n",
       "      <td>full</td>\n",
       "      <td>2024-04-10 11:39:03</td>\n",
       "      <td>2024-04-10 12:11:03</td>\n",
       "      <td>1919</td>\n",
       "      <td>True</td>\n",
       "      <td>640156a5f2395bf80ca0c451</td>\n",
       "      <td>Man</td>\n",
       "      <td>33</td>\n",
       "      <td>None</td>\n",
       "      <td>Daily</td>\n",
       "      <td>Disagree</td>\n",
       "      <td>I tried to take into account what it was sayin...</td>\n",
       "      <td>NaN</td>\n",
       "      <td>Disagree</td>\n",
       "      <td>0 days 00:29:46.060749</td>\n",
       "      <td>0 days 00:00:24.128714850</td>\n",
       "      <td>0 days 00:00:24.128714850</td>\n",
       "      <td>0 days 00:00:28.866800950</td>\n",
       "    </tr>\n",
       "    <tr>\n",
       "      <th>3</th>\n",
       "      <td>2024-04-10 11:58:52.113563</td>\n",
       "      <td>full</td>\n",
       "      <td>2024-04-10 11:58:31</td>\n",
       "      <td>2024-04-10 12:18:50</td>\n",
       "      <td>1218</td>\n",
       "      <td>True</td>\n",
       "      <td>5f2dc46d6fa1250ee8a1a15d</td>\n",
       "      <td>Woman</td>\n",
       "      <td>37</td>\n",
       "      <td>None</td>\n",
       "      <td>None</td>\n",
       "      <td>Neutral</td>\n",
       "      <td>It was easier for me to adjust based on my con...</td>\n",
       "      <td>NaN</td>\n",
       "      <td>Neutral</td>\n",
       "      <td>0 days 00:19:21.925813</td>\n",
       "      <td>0 days 00:00:21.398428350</td>\n",
       "      <td>0 days 00:00:21.398428350</td>\n",
       "      <td>0 days 00:00:20.921589200</td>\n",
       "    </tr>\n",
       "    <tr>\n",
       "      <th>4</th>\n",
       "      <td>2024-04-10 11:59:59.500492</td>\n",
       "      <td>full</td>\n",
       "      <td>2024-04-10 11:59:20</td>\n",
       "      <td>2024-04-10 12:21:20</td>\n",
       "      <td>1320</td>\n",
       "      <td>True</td>\n",
       "      <td>60fde5e29e585481874a9d16</td>\n",
       "      <td>Non-binary</td>\n",
       "      <td>41</td>\n",
       "      <td>None</td>\n",
       "      <td>Monthly</td>\n",
       "      <td>Agree</td>\n",
       "      <td>i figured out how to slow the drone down befor...</td>\n",
       "      <td>NaN</td>\n",
       "      <td>Agree</td>\n",
       "      <td>0 days 00:20:45.190436</td>\n",
       "      <td>0 days 00:00:22.604352150</td>\n",
       "      <td>0 days 00:00:22.604352150</td>\n",
       "      <td>0 days 00:00:00.862269400</td>\n",
       "    </tr>\n",
       "  </tbody>\n",
       "</table>\n",
       "</div>"
      ],
      "text/plain": [
       "                        time condition          start_date  \\\n",
       "0 2024-04-10 11:21:44.981234      full 2024-04-10 11:21:24   \n",
       "1 2024-04-10 11:36:12.740984      full 2024-04-10 11:35:59   \n",
       "2 2024-04-10 11:39:27.099011      full 2024-04-10 11:39:03   \n",
       "3 2024-04-10 11:58:52.113563      full 2024-04-10 11:58:31   \n",
       "4 2024-04-10 11:59:59.500492      full 2024-04-10 11:59:20   \n",
       "\n",
       "             end_date  duration  is_finished               prolific_id  \\\n",
       "0 2024-04-10 12:15:07      3222         True  5760a995f371330006a47cb3   \n",
       "1 2024-04-10 11:59:47      1428         True  5eb4955dab41e130f24d08c9   \n",
       "2 2024-04-10 12:11:03      1919         True  640156a5f2395bf80ca0c451   \n",
       "3 2024-04-10 12:18:50      1218         True  5f2dc46d6fa1250ee8a1a15d   \n",
       "4 2024-04-10 12:21:20      1320         True  60fde5e29e585481874a9d16   \n",
       "\n",
       "       gender  age drone_experience video_game_experience feedback_helped  \\\n",
       "0       Woman   33             None                 Daily         Neutral   \n",
       "1       Woman   48             None                Weekly  Strongly Agree   \n",
       "2         Man   33             None                 Daily        Disagree   \n",
       "3       Woman   37             None                  None         Neutral   \n",
       "4  Non-binary   41             None               Monthly           Agree   \n",
       "\n",
       "                                change_from_feedback comments  \\\n",
       "0  Yes. I began to tap buttons instead of holding...      NaN   \n",
       "1  I did change my technique, I started going up ...      NaN   \n",
       "2  I tried to take into account what it was sayin...      NaN   \n",
       "3  It was easier for me to adjust based on my con...      NaN   \n",
       "4  i figured out how to slow the drone down befor...      NaN   \n",
       "\n",
       "  feedback_helped_collapsed             total_time              trial_time_x  \\\n",
       "0                   Neutral 0 days 00:51:22.367016 0 days 00:00:57.915392900   \n",
       "1                     Agree 0 days 00:22:30.360526 0 days 00:00:31.817062550   \n",
       "2                  Disagree 0 days 00:29:46.060749 0 days 00:00:24.128714850   \n",
       "3                   Neutral 0 days 00:19:21.925813 0 days 00:00:21.398428350   \n",
       "4                     Agree 0 days 00:20:45.190436 0 days 00:00:22.604352150   \n",
       "\n",
       "               trial_time_y             feedback_time  \n",
       "0 0 days 00:00:57.915392900 0 days 00:01:11.068398650  \n",
       "1 0 days 00:00:31.817062550 0 days 00:00:14.629016350  \n",
       "2 0 days 00:00:24.128714850 0 days 00:00:28.866800950  \n",
       "3 0 days 00:00:21.398428350 0 days 00:00:20.921589200  \n",
       "4 0 days 00:00:22.604352150 0 days 00:00:00.862269400  "
      ]
     },
     "execution_count": 55,
     "metadata": {},
     "output_type": "execute_result"
    }
   ],
   "source": [
    "# calculate average trial and feedback times for each participant\n",
    "avg_trial_time = all_responses.groupby('prolific_id')['trial_time'].mean()\n",
    "avg_feedback_time = all_responses.groupby('prolific_id')['feedback_time'].mean()\n",
    "\n",
    "# merge with merged_filtered dataframe\n",
    "merged_filtered = pd.merge(merged_filtered, avg_trial_time, left_on='prolific_id', right_index=True)\n",
    "merged_filtered = pd.merge(merged_filtered, avg_feedback_time, left_on='prolific_id', right_index=True)\n",
    "\n",
    "merged_filtered.head()"
   ]
  },
  {
   "cell_type": "code",
   "execution_count": 56,
   "metadata": {},
   "outputs": [],
   "source": [
    "merged_filtered.to_csv(filtered_participant_file, index=False)"
   ]
  },
  {
   "cell_type": "markdown",
   "metadata": {},
   "source": [
    "### What is associated with overall feedback helpfulness rating?"
   ]
  },
  {
   "cell_type": "markdown",
   "metadata": {},
   "source": [
    "### Aggregate trial survey responses across conditions"
   ]
  },
  {
   "cell_type": "code",
   "execution_count": 30,
   "metadata": {},
   "outputs": [
    {
     "data": {
      "text/html": [
       "<div>\n",
       "<style scoped>\n",
       "    .dataframe tbody tr th:only-of-type {\n",
       "        vertical-align: middle;\n",
       "    }\n",
       "\n",
       "    .dataframe tbody tr th {\n",
       "        vertical-align: top;\n",
       "    }\n",
       "\n",
       "    .dataframe thead th {\n",
       "        text-align: right;\n",
       "    }\n",
       "</style>\n",
       "<table border=\"1\" class=\"dataframe\">\n",
       "  <thead>\n",
       "    <tr style=\"text-align: right;\">\n",
       "      <th></th>\n",
       "      <th>trial</th>\n",
       "      <th>motivation</th>\n",
       "      <th>manageable</th>\n",
       "      <th>actionable</th>\n",
       "      <th>timely</th>\n",
       "      <th>reflection</th>\n",
       "      <th>outcome</th>\n",
       "      <th>condition</th>\n",
       "    </tr>\n",
       "    <tr>\n",
       "      <th>prolific_id</th>\n",
       "      <th></th>\n",
       "      <th></th>\n",
       "      <th></th>\n",
       "      <th></th>\n",
       "      <th></th>\n",
       "      <th></th>\n",
       "      <th></th>\n",
       "      <th></th>\n",
       "    </tr>\n",
       "  </thead>\n",
       "  <tbody>\n",
       "    <tr>\n",
       "      <th>569b36e3af9ad70006640dd9</th>\n",
       "      <td>1</td>\n",
       "      <td>Strongly Disagree</td>\n",
       "      <td>Much too little</td>\n",
       "      <td>Strongly Disagree</td>\n",
       "      <td>Just enough</td>\n",
       "      <td>Strongly Disagree</td>\n",
       "      <td>Crash</td>\n",
       "      <td>score</td>\n",
       "    </tr>\n",
       "    <tr>\n",
       "      <th>56bae08f30d6b30005f8537a</th>\n",
       "      <td>1</td>\n",
       "      <td>Strongly Disagree</td>\n",
       "      <td>Much too much</td>\n",
       "      <td>Disagree</td>\n",
       "      <td>Much too often</td>\n",
       "      <td>Strongly Disagree</td>\n",
       "      <td>Safe</td>\n",
       "      <td>full</td>\n",
       "    </tr>\n",
       "    <tr>\n",
       "      <th>5760a995f371330006a47cb3</th>\n",
       "      <td>1</td>\n",
       "      <td>Neutral</td>\n",
       "      <td>Just right</td>\n",
       "      <td>Agree</td>\n",
       "      <td>Just enough</td>\n",
       "      <td>Neutral</td>\n",
       "      <td>Unsafe</td>\n",
       "      <td>full</td>\n",
       "    </tr>\n",
       "    <tr>\n",
       "      <th>5834a80a106ee1000120abd3</th>\n",
       "      <td>1</td>\n",
       "      <td>Strongly Agree</td>\n",
       "      <td>Just right</td>\n",
       "      <td>Strongly Agree</td>\n",
       "      <td>Just enough</td>\n",
       "      <td>Strongly Agree</td>\n",
       "      <td>Crash</td>\n",
       "      <td>text</td>\n",
       "    </tr>\n",
       "    <tr>\n",
       "      <th>587674406e2f8d00015c6148</th>\n",
       "      <td>1</td>\n",
       "      <td>Agree</td>\n",
       "      <td>Just right</td>\n",
       "      <td>Agree</td>\n",
       "      <td>Just enough</td>\n",
       "      <td>Agree</td>\n",
       "      <td>Safe</td>\n",
       "      <td>score</td>\n",
       "    </tr>\n",
       "  </tbody>\n",
       "</table>\n",
       "</div>"
      ],
      "text/plain": [
       "                          trial         motivation       manageable  \\\n",
       "prolific_id                                                           \n",
       "569b36e3af9ad70006640dd9      1  Strongly Disagree  Much too little   \n",
       "56bae08f30d6b30005f8537a      1  Strongly Disagree    Much too much   \n",
       "5760a995f371330006a47cb3      1            Neutral       Just right   \n",
       "5834a80a106ee1000120abd3      1     Strongly Agree       Just right   \n",
       "587674406e2f8d00015c6148      1              Agree       Just right   \n",
       "\n",
       "                                 actionable          timely  \\\n",
       "prolific_id                                                   \n",
       "569b36e3af9ad70006640dd9  Strongly Disagree     Just enough   \n",
       "56bae08f30d6b30005f8537a           Disagree  Much too often   \n",
       "5760a995f371330006a47cb3              Agree     Just enough   \n",
       "5834a80a106ee1000120abd3     Strongly Agree     Just enough   \n",
       "587674406e2f8d00015c6148              Agree     Just enough   \n",
       "\n",
       "                                 reflection outcome condition  \n",
       "prolific_id                                                    \n",
       "569b36e3af9ad70006640dd9  Strongly Disagree   Crash     score  \n",
       "56bae08f30d6b30005f8537a  Strongly Disagree    Safe      full  \n",
       "5760a995f371330006a47cb3            Neutral  Unsafe      full  \n",
       "5834a80a106ee1000120abd3     Strongly Agree   Crash      text  \n",
       "587674406e2f8d00015c6148              Agree    Safe     score  "
      ]
     },
     "execution_count": 30,
     "metadata": {},
     "output_type": "execute_result"
    }
   ],
   "source": [
    "# choose the most common answer per participant per column\n",
    "# this is so each participant only appears once\n",
    "most_common = all_responses.groupby('prolific_id').agg(lambda x: x.value_counts().idxmax())\n",
    "most_common.head()"
   ]
  },
  {
   "cell_type": "code",
   "execution_count": 31,
   "metadata": {},
   "outputs": [
    {
     "data": {
      "text/plain": [
       "(140, 8)"
      ]
     },
     "execution_count": 31,
     "metadata": {},
     "output_type": "execute_result"
    }
   ],
   "source": [
    "most_common.shape"
   ]
  },
  {
   "cell_type": "markdown",
   "metadata": {},
   "source": [
    "**MOTIVATION**"
   ]
  },
  {
   "cell_type": "code",
   "execution_count": 32,
   "metadata": {},
   "outputs": [
    {
     "data": {
      "text/html": [
       "<div>\n",
       "<style scoped>\n",
       "    .dataframe tbody tr th:only-of-type {\n",
       "        vertical-align: middle;\n",
       "    }\n",
       "\n",
       "    .dataframe tbody tr th {\n",
       "        vertical-align: top;\n",
       "    }\n",
       "\n",
       "    .dataframe thead th {\n",
       "        text-align: right;\n",
       "    }\n",
       "</style>\n",
       "<table border=\"1\" class=\"dataframe\">\n",
       "  <thead>\n",
       "    <tr style=\"text-align: right;\">\n",
       "      <th>motivation</th>\n",
       "      <th>Strongly Disagree</th>\n",
       "      <th>Disagree</th>\n",
       "      <th>Neutral</th>\n",
       "      <th>Agree</th>\n",
       "      <th>Strongly Agree</th>\n",
       "    </tr>\n",
       "    <tr>\n",
       "      <th>condition</th>\n",
       "      <th></th>\n",
       "      <th></th>\n",
       "      <th></th>\n",
       "      <th></th>\n",
       "      <th></th>\n",
       "    </tr>\n",
       "  </thead>\n",
       "  <tbody>\n",
       "    <tr>\n",
       "      <th>score</th>\n",
       "      <td>0.02</td>\n",
       "      <td>0.13</td>\n",
       "      <td>0.32</td>\n",
       "      <td>0.32</td>\n",
       "      <td>0.21</td>\n",
       "    </tr>\n",
       "    <tr>\n",
       "      <th>text</th>\n",
       "      <td>0.13</td>\n",
       "      <td>0.04</td>\n",
       "      <td>0.17</td>\n",
       "      <td>0.43</td>\n",
       "      <td>0.23</td>\n",
       "    </tr>\n",
       "    <tr>\n",
       "      <th>full</th>\n",
       "      <td>0.04</td>\n",
       "      <td>0.09</td>\n",
       "      <td>0.28</td>\n",
       "      <td>0.41</td>\n",
       "      <td>0.17</td>\n",
       "    </tr>\n",
       "  </tbody>\n",
       "</table>\n",
       "</div>"
      ],
      "text/plain": [
       "motivation  Strongly Disagree  Disagree  Neutral  Agree  Strongly Agree\n",
       "condition                                                              \n",
       "score                    0.02      0.13     0.32   0.32            0.21\n",
       "text                     0.13      0.04     0.17   0.43            0.23\n",
       "full                     0.04      0.09     0.28   0.41            0.17"
      ]
     },
     "execution_count": 32,
     "metadata": {},
     "output_type": "execute_result"
    }
   ],
   "source": [
    "motivation_responses = most_common.groupby('condition')['motivation'].value_counts(normalize=True).unstack().round(2).sort_index()\n",
    "motivation_responses"
   ]
  },
  {
   "cell_type": "code",
   "execution_count": 33,
   "metadata": {},
   "outputs": [
    {
     "data": {
      "text/html": [
       "<div>\n",
       "<style scoped>\n",
       "    .dataframe tbody tr th:only-of-type {\n",
       "        vertical-align: middle;\n",
       "    }\n",
       "\n",
       "    .dataframe tbody tr th {\n",
       "        vertical-align: top;\n",
       "    }\n",
       "\n",
       "    .dataframe thead th {\n",
       "        text-align: right;\n",
       "    }\n",
       "</style>\n",
       "<table border=\"1\" class=\"dataframe\">\n",
       "  <thead>\n",
       "    <tr style=\"text-align: right;\">\n",
       "      <th>motivation</th>\n",
       "      <th>Strongly Disagree</th>\n",
       "      <th>Disagree</th>\n",
       "      <th>Neutral</th>\n",
       "      <th>Agree</th>\n",
       "      <th>Strongly Agree</th>\n",
       "    </tr>\n",
       "    <tr>\n",
       "      <th>condition</th>\n",
       "      <th></th>\n",
       "      <th></th>\n",
       "      <th></th>\n",
       "      <th></th>\n",
       "      <th></th>\n",
       "    </tr>\n",
       "  </thead>\n",
       "  <tbody>\n",
       "    <tr>\n",
       "      <th>score</th>\n",
       "      <td>1</td>\n",
       "      <td>6</td>\n",
       "      <td>15</td>\n",
       "      <td>15</td>\n",
       "      <td>10</td>\n",
       "    </tr>\n",
       "    <tr>\n",
       "      <th>text</th>\n",
       "      <td>6</td>\n",
       "      <td>2</td>\n",
       "      <td>8</td>\n",
       "      <td>20</td>\n",
       "      <td>11</td>\n",
       "    </tr>\n",
       "    <tr>\n",
       "      <th>full</th>\n",
       "      <td>2</td>\n",
       "      <td>4</td>\n",
       "      <td>13</td>\n",
       "      <td>19</td>\n",
       "      <td>8</td>\n",
       "    </tr>\n",
       "  </tbody>\n",
       "</table>\n",
       "</div>"
      ],
      "text/plain": [
       "motivation  Strongly Disagree  Disagree  Neutral  Agree  Strongly Agree\n",
       "condition                                                              \n",
       "score                       1         6       15     15              10\n",
       "text                        6         2        8     20              11\n",
       "full                        2         4       13     19               8"
      ]
     },
     "execution_count": 33,
     "metadata": {},
     "output_type": "execute_result"
    }
   ],
   "source": [
    "motivation_freq = most_common.groupby('condition')['motivation'].value_counts(normalize=False).unstack().round(2).sort_index()\n",
    "motivation_freq # need to do a non-parametric test"
   ]
  },
  {
   "cell_type": "code",
   "execution_count": 34,
   "metadata": {},
   "outputs": [
    {
     "data": {
      "text/plain": [
       "condition\n",
       "score    [Strongly Disagree, Agree, Disagree, Agree, St...\n",
       "text     [Strongly Agree, Strongly Disagree, Agree, Agr...\n",
       "full     [Strongly Disagree, Neutral, Neutral, Neutral,...\n",
       "Name: motivation, dtype: object"
      ]
     },
     "execution_count": 34,
     "metadata": {},
     "output_type": "execute_result"
    }
   ],
   "source": [
    "motivation_grouped = most_common.groupby('condition')['motivation'].apply(list)\n",
    "motivation_grouped"
   ]
  },
  {
   "cell_type": "code",
   "execution_count": 35,
   "metadata": {},
   "outputs": [
    {
     "data": {
      "text/plain": [
       "KruskalResult(statistic=0.7077953154939997, pvalue=0.7019468024966999)"
      ]
     },
     "execution_count": 35,
     "metadata": {},
     "output_type": "execute_result"
    }
   ],
   "source": [
    "data_for_test = [group for group in motivation_grouped]\n",
    "stats.kruskal(*data_for_test)"
   ]
  },
  {
   "cell_type": "markdown",
   "metadata": {},
   "source": [
    "**MANAGEABLE**"
   ]
  },
  {
   "cell_type": "code",
   "execution_count": 36,
   "metadata": {},
   "outputs": [
    {
     "data": {
      "text/html": [
       "<div>\n",
       "<style scoped>\n",
       "    .dataframe tbody tr th:only-of-type {\n",
       "        vertical-align: middle;\n",
       "    }\n",
       "\n",
       "    .dataframe tbody tr th {\n",
       "        vertical-align: top;\n",
       "    }\n",
       "\n",
       "    .dataframe thead th {\n",
       "        text-align: right;\n",
       "    }\n",
       "</style>\n",
       "<table border=\"1\" class=\"dataframe\">\n",
       "  <thead>\n",
       "    <tr style=\"text-align: right;\">\n",
       "      <th>manageable</th>\n",
       "      <th>Much too little</th>\n",
       "      <th>Too little</th>\n",
       "      <th>Just right</th>\n",
       "      <th>Too much</th>\n",
       "      <th>Much too much</th>\n",
       "    </tr>\n",
       "    <tr>\n",
       "      <th>condition</th>\n",
       "      <th></th>\n",
       "      <th></th>\n",
       "      <th></th>\n",
       "      <th></th>\n",
       "      <th></th>\n",
       "    </tr>\n",
       "  </thead>\n",
       "  <tbody>\n",
       "    <tr>\n",
       "      <th>score</th>\n",
       "      <td>0.06</td>\n",
       "      <td>0.21</td>\n",
       "      <td>0.57</td>\n",
       "      <td>0.06</td>\n",
       "      <td>0.09</td>\n",
       "    </tr>\n",
       "    <tr>\n",
       "      <th>text</th>\n",
       "      <td>0.06</td>\n",
       "      <td>0.04</td>\n",
       "      <td>0.57</td>\n",
       "      <td>0.19</td>\n",
       "      <td>0.13</td>\n",
       "    </tr>\n",
       "    <tr>\n",
       "      <th>full</th>\n",
       "      <td>0.02</td>\n",
       "      <td>0.09</td>\n",
       "      <td>0.63</td>\n",
       "      <td>0.15</td>\n",
       "      <td>0.11</td>\n",
       "    </tr>\n",
       "  </tbody>\n",
       "</table>\n",
       "</div>"
      ],
      "text/plain": [
       "manageable  Much too little  Too little  Just right  Too much  Much too much\n",
       "condition                                                                   \n",
       "score                  0.06        0.21        0.57      0.06           0.09\n",
       "text                   0.06        0.04        0.57      0.19           0.13\n",
       "full                   0.02        0.09        0.63      0.15           0.11"
      ]
     },
     "execution_count": 36,
     "metadata": {},
     "output_type": "execute_result"
    }
   ],
   "source": [
    "manageable_responses = most_common.groupby('condition')['manageable'].value_counts(normalize=True).unstack().round(2).sort_index()\n",
    "manageable_responses"
   ]
  },
  {
   "cell_type": "code",
   "execution_count": 37,
   "metadata": {},
   "outputs": [
    {
     "data": {
      "text/html": [
       "<div>\n",
       "<style scoped>\n",
       "    .dataframe tbody tr th:only-of-type {\n",
       "        vertical-align: middle;\n",
       "    }\n",
       "\n",
       "    .dataframe tbody tr th {\n",
       "        vertical-align: top;\n",
       "    }\n",
       "\n",
       "    .dataframe thead th {\n",
       "        text-align: right;\n",
       "    }\n",
       "</style>\n",
       "<table border=\"1\" class=\"dataframe\">\n",
       "  <thead>\n",
       "    <tr style=\"text-align: right;\">\n",
       "      <th>manageable</th>\n",
       "      <th>Much too little</th>\n",
       "      <th>Too little</th>\n",
       "      <th>Just right</th>\n",
       "      <th>Too much</th>\n",
       "      <th>Much too much</th>\n",
       "    </tr>\n",
       "    <tr>\n",
       "      <th>condition</th>\n",
       "      <th></th>\n",
       "      <th></th>\n",
       "      <th></th>\n",
       "      <th></th>\n",
       "      <th></th>\n",
       "    </tr>\n",
       "  </thead>\n",
       "  <tbody>\n",
       "    <tr>\n",
       "      <th>score</th>\n",
       "      <td>3</td>\n",
       "      <td>10</td>\n",
       "      <td>27</td>\n",
       "      <td>3</td>\n",
       "      <td>4</td>\n",
       "    </tr>\n",
       "    <tr>\n",
       "      <th>text</th>\n",
       "      <td>3</td>\n",
       "      <td>2</td>\n",
       "      <td>27</td>\n",
       "      <td>9</td>\n",
       "      <td>6</td>\n",
       "    </tr>\n",
       "    <tr>\n",
       "      <th>full</th>\n",
       "      <td>1</td>\n",
       "      <td>4</td>\n",
       "      <td>29</td>\n",
       "      <td>7</td>\n",
       "      <td>5</td>\n",
       "    </tr>\n",
       "  </tbody>\n",
       "</table>\n",
       "</div>"
      ],
      "text/plain": [
       "manageable  Much too little  Too little  Just right  Too much  Much too much\n",
       "condition                                                                   \n",
       "score                     3          10          27         3              4\n",
       "text                      3           2          27         9              6\n",
       "full                      1           4          29         7              5"
      ]
     },
     "execution_count": 37,
     "metadata": {},
     "output_type": "execute_result"
    }
   ],
   "source": [
    "manageable_freq = most_common.groupby('condition')['manageable'].value_counts(normalize=False).unstack().round(2).sort_index()\n",
    "manageable_freq"
   ]
  },
  {
   "cell_type": "code",
   "execution_count": 38,
   "metadata": {},
   "outputs": [
    {
     "data": {
      "text/plain": [
       "condition\n",
       "score    [Much too little, Just right, Too little, Too ...\n",
       "text     [Just right, Much too much, Just right, Just r...\n",
       "full     [Much too much, Just right, Just right, Just r...\n",
       "Name: manageable, dtype: object"
      ]
     },
     "execution_count": 38,
     "metadata": {},
     "output_type": "execute_result"
    }
   ],
   "source": [
    "manageable_grouped = most_common.groupby('condition')['manageable'].apply(list)\n",
    "manageable_grouped"
   ]
  },
  {
   "cell_type": "code",
   "execution_count": 39,
   "metadata": {},
   "outputs": [
    {
     "data": {
      "text/plain": [
       "KruskalResult(statistic=0.19344660157345597, pvalue=0.9078071609117324)"
      ]
     },
     "execution_count": 39,
     "metadata": {},
     "output_type": "execute_result"
    }
   ],
   "source": [
    "data_for_test = [group for group in manageable_grouped]\n",
    "stats.kruskal(*data_for_test)"
   ]
  },
  {
   "cell_type": "markdown",
   "metadata": {},
   "source": [
    "**ACTIONABLE**"
   ]
  },
  {
   "cell_type": "code",
   "execution_count": 40,
   "metadata": {},
   "outputs": [
    {
     "data": {
      "text/html": [
       "<div>\n",
       "<style scoped>\n",
       "    .dataframe tbody tr th:only-of-type {\n",
       "        vertical-align: middle;\n",
       "    }\n",
       "\n",
       "    .dataframe tbody tr th {\n",
       "        vertical-align: top;\n",
       "    }\n",
       "\n",
       "    .dataframe thead th {\n",
       "        text-align: right;\n",
       "    }\n",
       "</style>\n",
       "<table border=\"1\" class=\"dataframe\">\n",
       "  <thead>\n",
       "    <tr style=\"text-align: right;\">\n",
       "      <th>actionable</th>\n",
       "      <th>Strongly Disagree</th>\n",
       "      <th>Disagree</th>\n",
       "      <th>Neutral</th>\n",
       "      <th>Agree</th>\n",
       "      <th>Strongly Agree</th>\n",
       "    </tr>\n",
       "    <tr>\n",
       "      <th>condition</th>\n",
       "      <th></th>\n",
       "      <th></th>\n",
       "      <th></th>\n",
       "      <th></th>\n",
       "      <th></th>\n",
       "    </tr>\n",
       "  </thead>\n",
       "  <tbody>\n",
       "    <tr>\n",
       "      <th>score</th>\n",
       "      <td>0.15</td>\n",
       "      <td>0.26</td>\n",
       "      <td>0.28</td>\n",
       "      <td>0.17</td>\n",
       "      <td>0.15</td>\n",
       "    </tr>\n",
       "    <tr>\n",
       "      <th>text</th>\n",
       "      <td>0.06</td>\n",
       "      <td>0.09</td>\n",
       "      <td>0.15</td>\n",
       "      <td>0.49</td>\n",
       "      <td>0.21</td>\n",
       "    </tr>\n",
       "    <tr>\n",
       "      <th>full</th>\n",
       "      <td>0.02</td>\n",
       "      <td>0.09</td>\n",
       "      <td>0.24</td>\n",
       "      <td>0.52</td>\n",
       "      <td>0.13</td>\n",
       "    </tr>\n",
       "  </tbody>\n",
       "</table>\n",
       "</div>"
      ],
      "text/plain": [
       "actionable  Strongly Disagree  Disagree  Neutral  Agree  Strongly Agree\n",
       "condition                                                              \n",
       "score                    0.15      0.26     0.28   0.17            0.15\n",
       "text                     0.06      0.09     0.15   0.49            0.21\n",
       "full                     0.02      0.09     0.24   0.52            0.13"
      ]
     },
     "execution_count": 40,
     "metadata": {},
     "output_type": "execute_result"
    }
   ],
   "source": [
    "actionable_responses = most_common.groupby('condition')['actionable'].value_counts(normalize=True).unstack().round(2).sort_index()\n",
    "actionable_responses"
   ]
  },
  {
   "cell_type": "code",
   "execution_count": 41,
   "metadata": {},
   "outputs": [
    {
     "data": {
      "text/html": [
       "<div>\n",
       "<style scoped>\n",
       "    .dataframe tbody tr th:only-of-type {\n",
       "        vertical-align: middle;\n",
       "    }\n",
       "\n",
       "    .dataframe tbody tr th {\n",
       "        vertical-align: top;\n",
       "    }\n",
       "\n",
       "    .dataframe thead th {\n",
       "        text-align: right;\n",
       "    }\n",
       "</style>\n",
       "<table border=\"1\" class=\"dataframe\">\n",
       "  <thead>\n",
       "    <tr style=\"text-align: right;\">\n",
       "      <th>actionable</th>\n",
       "      <th>Strongly Disagree</th>\n",
       "      <th>Disagree</th>\n",
       "      <th>Neutral</th>\n",
       "      <th>Agree</th>\n",
       "      <th>Strongly Agree</th>\n",
       "    </tr>\n",
       "    <tr>\n",
       "      <th>condition</th>\n",
       "      <th></th>\n",
       "      <th></th>\n",
       "      <th></th>\n",
       "      <th></th>\n",
       "      <th></th>\n",
       "    </tr>\n",
       "  </thead>\n",
       "  <tbody>\n",
       "    <tr>\n",
       "      <th>score</th>\n",
       "      <td>7</td>\n",
       "      <td>12</td>\n",
       "      <td>13</td>\n",
       "      <td>8</td>\n",
       "      <td>7</td>\n",
       "    </tr>\n",
       "    <tr>\n",
       "      <th>text</th>\n",
       "      <td>3</td>\n",
       "      <td>4</td>\n",
       "      <td>7</td>\n",
       "      <td>23</td>\n",
       "      <td>10</td>\n",
       "    </tr>\n",
       "    <tr>\n",
       "      <th>full</th>\n",
       "      <td>1</td>\n",
       "      <td>4</td>\n",
       "      <td>11</td>\n",
       "      <td>24</td>\n",
       "      <td>6</td>\n",
       "    </tr>\n",
       "  </tbody>\n",
       "</table>\n",
       "</div>"
      ],
      "text/plain": [
       "actionable  Strongly Disagree  Disagree  Neutral  Agree  Strongly Agree\n",
       "condition                                                              \n",
       "score                       7        12       13      8               7\n",
       "text                        3         4        7     23              10\n",
       "full                        1         4       11     24               6"
      ]
     },
     "execution_count": 41,
     "metadata": {},
     "output_type": "execute_result"
    }
   ],
   "source": [
    "actionable_freq = most_common.groupby('condition')['actionable'].value_counts(normalize=False).unstack().round(2).sort_index()\n",
    "actionable_freq"
   ]
  },
  {
   "cell_type": "code",
   "execution_count": 42,
   "metadata": {},
   "outputs": [
    {
     "data": {
      "text/plain": [
       "condition\n",
       "score    [Strongly Disagree, Agree, Disagree, Strongly ...\n",
       "text     [Strongly Agree, Strongly Disagree, Neutral, N...\n",
       "full     [Disagree, Agree, Neutral, Neutral, Agree, Agr...\n",
       "Name: actionable, dtype: object"
      ]
     },
     "execution_count": 42,
     "metadata": {},
     "output_type": "execute_result"
    }
   ],
   "source": [
    "actionable_grouped = most_common.groupby('condition')['actionable'].apply(list)\n",
    "actionable_grouped"
   ]
  },
  {
   "cell_type": "code",
   "execution_count": 43,
   "metadata": {},
   "outputs": [
    {
     "data": {
      "text/plain": [
       "KruskalResult(statistic=9.531209073870448, pvalue=0.00851773739875785)"
      ]
     },
     "execution_count": 43,
     "metadata": {},
     "output_type": "execute_result"
    }
   ],
   "source": [
    "data_for_test = [group for group in actionable_grouped]\n",
    "stats.kruskal(*data_for_test)"
   ]
  },
  {
   "cell_type": "code",
   "execution_count": 44,
   "metadata": {},
   "outputs": [
    {
     "data": {
      "text/html": [
       "<div>\n",
       "<style scoped>\n",
       "    .dataframe tbody tr th:only-of-type {\n",
       "        vertical-align: middle;\n",
       "    }\n",
       "\n",
       "    .dataframe tbody tr th {\n",
       "        vertical-align: top;\n",
       "    }\n",
       "\n",
       "    .dataframe thead th {\n",
       "        text-align: right;\n",
       "    }\n",
       "</style>\n",
       "<table border=\"1\" class=\"dataframe\">\n",
       "  <thead>\n",
       "    <tr style=\"text-align: right;\">\n",
       "      <th></th>\n",
       "      <th>score</th>\n",
       "      <th>text</th>\n",
       "      <th>full</th>\n",
       "    </tr>\n",
       "  </thead>\n",
       "  <tbody>\n",
       "    <tr>\n",
       "      <th>score</th>\n",
       "      <td>1.000000</td>\n",
       "      <td>0.002544</td>\n",
       "      <td>0.0126</td>\n",
       "    </tr>\n",
       "    <tr>\n",
       "      <th>text</th>\n",
       "      <td>0.002544</td>\n",
       "      <td>1.000000</td>\n",
       "      <td>1.0000</td>\n",
       "    </tr>\n",
       "    <tr>\n",
       "      <th>full</th>\n",
       "      <td>0.012600</td>\n",
       "      <td>1.000000</td>\n",
       "      <td>1.0000</td>\n",
       "    </tr>\n",
       "  </tbody>\n",
       "</table>\n",
       "</div>"
      ],
      "text/plain": [
       "          score      text    full\n",
       "score  1.000000  0.002544  0.0126\n",
       "text   0.002544  1.000000  1.0000\n",
       "full   0.012600  1.000000  1.0000"
      ]
     },
     "execution_count": 44,
     "metadata": {},
     "output_type": "execute_result"
    }
   ],
   "source": [
    "# do Dunn's Test to check which groups are different from each other\n",
    "sp.posthoc_dunn(most_common, val_col='actionable', group_col='condition', p_adjust='bonferroni')"
   ]
  },
  {
   "cell_type": "markdown",
   "metadata": {},
   "source": [
    "**TIMELY**"
   ]
  },
  {
   "cell_type": "code",
   "execution_count": 45,
   "metadata": {},
   "outputs": [
    {
     "data": {
      "text/html": [
       "<div>\n",
       "<style scoped>\n",
       "    .dataframe tbody tr th:only-of-type {\n",
       "        vertical-align: middle;\n",
       "    }\n",
       "\n",
       "    .dataframe tbody tr th {\n",
       "        vertical-align: top;\n",
       "    }\n",
       "\n",
       "    .dataframe thead th {\n",
       "        text-align: right;\n",
       "    }\n",
       "</style>\n",
       "<table border=\"1\" class=\"dataframe\">\n",
       "  <thead>\n",
       "    <tr style=\"text-align: right;\">\n",
       "      <th>timely</th>\n",
       "      <th>Much too infrequent</th>\n",
       "      <th>Too infrequent</th>\n",
       "      <th>Just enough</th>\n",
       "      <th>Too often</th>\n",
       "      <th>Much too often</th>\n",
       "    </tr>\n",
       "    <tr>\n",
       "      <th>condition</th>\n",
       "      <th></th>\n",
       "      <th></th>\n",
       "      <th></th>\n",
       "      <th></th>\n",
       "      <th></th>\n",
       "    </tr>\n",
       "  </thead>\n",
       "  <tbody>\n",
       "    <tr>\n",
       "      <th>score</th>\n",
       "      <td>0.02</td>\n",
       "      <td>0.06</td>\n",
       "      <td>0.62</td>\n",
       "      <td>0.19</td>\n",
       "      <td>0.11</td>\n",
       "    </tr>\n",
       "    <tr>\n",
       "      <th>text</th>\n",
       "      <td>0.02</td>\n",
       "      <td>0.00</td>\n",
       "      <td>0.60</td>\n",
       "      <td>0.17</td>\n",
       "      <td>0.21</td>\n",
       "    </tr>\n",
       "    <tr>\n",
       "      <th>full</th>\n",
       "      <td>0.00</td>\n",
       "      <td>0.00</td>\n",
       "      <td>0.74</td>\n",
       "      <td>0.13</td>\n",
       "      <td>0.13</td>\n",
       "    </tr>\n",
       "  </tbody>\n",
       "</table>\n",
       "</div>"
      ],
      "text/plain": [
       "timely     Much too infrequent  Too infrequent  Just enough  Too often  \\\n",
       "condition                                                                \n",
       "score                     0.02            0.06         0.62       0.19   \n",
       "text                      0.02            0.00         0.60       0.17   \n",
       "full                      0.00            0.00         0.74       0.13   \n",
       "\n",
       "timely     Much too often  \n",
       "condition                  \n",
       "score                0.11  \n",
       "text                 0.21  \n",
       "full                 0.13  "
      ]
     },
     "execution_count": 45,
     "metadata": {},
     "output_type": "execute_result"
    }
   ],
   "source": [
    "timely_responses = most_common.groupby('condition')['timely'].value_counts(normalize=True).unstack().round(2).sort_index()\n",
    "timely_responses"
   ]
  },
  {
   "cell_type": "code",
   "execution_count": 46,
   "metadata": {},
   "outputs": [
    {
     "data": {
      "text/html": [
       "<div>\n",
       "<style scoped>\n",
       "    .dataframe tbody tr th:only-of-type {\n",
       "        vertical-align: middle;\n",
       "    }\n",
       "\n",
       "    .dataframe tbody tr th {\n",
       "        vertical-align: top;\n",
       "    }\n",
       "\n",
       "    .dataframe thead th {\n",
       "        text-align: right;\n",
       "    }\n",
       "</style>\n",
       "<table border=\"1\" class=\"dataframe\">\n",
       "  <thead>\n",
       "    <tr style=\"text-align: right;\">\n",
       "      <th>timely</th>\n",
       "      <th>Much too infrequent</th>\n",
       "      <th>Too infrequent</th>\n",
       "      <th>Just enough</th>\n",
       "      <th>Too often</th>\n",
       "      <th>Much too often</th>\n",
       "    </tr>\n",
       "    <tr>\n",
       "      <th>condition</th>\n",
       "      <th></th>\n",
       "      <th></th>\n",
       "      <th></th>\n",
       "      <th></th>\n",
       "      <th></th>\n",
       "    </tr>\n",
       "  </thead>\n",
       "  <tbody>\n",
       "    <tr>\n",
       "      <th>score</th>\n",
       "      <td>1</td>\n",
       "      <td>3</td>\n",
       "      <td>29</td>\n",
       "      <td>9</td>\n",
       "      <td>5</td>\n",
       "    </tr>\n",
       "    <tr>\n",
       "      <th>text</th>\n",
       "      <td>1</td>\n",
       "      <td>0</td>\n",
       "      <td>28</td>\n",
       "      <td>8</td>\n",
       "      <td>10</td>\n",
       "    </tr>\n",
       "    <tr>\n",
       "      <th>full</th>\n",
       "      <td>0</td>\n",
       "      <td>0</td>\n",
       "      <td>34</td>\n",
       "      <td>6</td>\n",
       "      <td>6</td>\n",
       "    </tr>\n",
       "  </tbody>\n",
       "</table>\n",
       "</div>"
      ],
      "text/plain": [
       "timely     Much too infrequent  Too infrequent  Just enough  Too often  \\\n",
       "condition                                                                \n",
       "score                        1               3           29          9   \n",
       "text                         1               0           28          8   \n",
       "full                         0               0           34          6   \n",
       "\n",
       "timely     Much too often  \n",
       "condition                  \n",
       "score                   5  \n",
       "text                   10  \n",
       "full                    6  "
      ]
     },
     "execution_count": 46,
     "metadata": {},
     "output_type": "execute_result"
    }
   ],
   "source": [
    "timely_freq = most_common.groupby('condition')['timely'].value_counts(normalize=False).unstack().round(2).sort_index()\n",
    "timely_freq"
   ]
  },
  {
   "cell_type": "code",
   "execution_count": 47,
   "metadata": {},
   "outputs": [
    {
     "data": {
      "text/plain": [
       "condition\n",
       "score    [Just enough, Just enough, Too often, Just eno...\n",
       "text     [Just enough, Much too often, Just enough, Jus...\n",
       "full     [Much too often, Just enough, Just enough, Muc...\n",
       "Name: timely, dtype: object"
      ]
     },
     "execution_count": 47,
     "metadata": {},
     "output_type": "execute_result"
    }
   ],
   "source": [
    "timely_grouped = most_common.groupby('condition')['timely'].apply(list)\n",
    "timely_grouped"
   ]
  },
  {
   "cell_type": "code",
   "execution_count": 48,
   "metadata": {},
   "outputs": [
    {
     "data": {
      "text/plain": [
       "KruskalResult(statistic=2.1658535335540203, pvalue=0.33860306180640587)"
      ]
     },
     "execution_count": 48,
     "metadata": {},
     "output_type": "execute_result"
    }
   ],
   "source": [
    "data_for_test = [group for group in timely_grouped]\n",
    "stats.kruskal(*data_for_test)"
   ]
  },
  {
   "cell_type": "markdown",
   "metadata": {},
   "source": [
    "**REFLECTION**"
   ]
  },
  {
   "cell_type": "code",
   "execution_count": 49,
   "metadata": {},
   "outputs": [
    {
     "data": {
      "text/html": [
       "<div>\n",
       "<style scoped>\n",
       "    .dataframe tbody tr th:only-of-type {\n",
       "        vertical-align: middle;\n",
       "    }\n",
       "\n",
       "    .dataframe tbody tr th {\n",
       "        vertical-align: top;\n",
       "    }\n",
       "\n",
       "    .dataframe thead th {\n",
       "        text-align: right;\n",
       "    }\n",
       "</style>\n",
       "<table border=\"1\" class=\"dataframe\">\n",
       "  <thead>\n",
       "    <tr style=\"text-align: right;\">\n",
       "      <th>reflection</th>\n",
       "      <th>Strongly Disagree</th>\n",
       "      <th>Disagree</th>\n",
       "      <th>Neutral</th>\n",
       "      <th>Agree</th>\n",
       "      <th>Strongly Agree</th>\n",
       "    </tr>\n",
       "    <tr>\n",
       "      <th>condition</th>\n",
       "      <th></th>\n",
       "      <th></th>\n",
       "      <th></th>\n",
       "      <th></th>\n",
       "      <th></th>\n",
       "    </tr>\n",
       "  </thead>\n",
       "  <tbody>\n",
       "    <tr>\n",
       "      <th>score</th>\n",
       "      <td>0.09</td>\n",
       "      <td>0.11</td>\n",
       "      <td>0.17</td>\n",
       "      <td>0.38</td>\n",
       "      <td>0.26</td>\n",
       "    </tr>\n",
       "    <tr>\n",
       "      <th>text</th>\n",
       "      <td>0.06</td>\n",
       "      <td>0.06</td>\n",
       "      <td>0.21</td>\n",
       "      <td>0.43</td>\n",
       "      <td>0.23</td>\n",
       "    </tr>\n",
       "    <tr>\n",
       "      <th>full</th>\n",
       "      <td>0.04</td>\n",
       "      <td>0.04</td>\n",
       "      <td>0.22</td>\n",
       "      <td>0.46</td>\n",
       "      <td>0.24</td>\n",
       "    </tr>\n",
       "  </tbody>\n",
       "</table>\n",
       "</div>"
      ],
      "text/plain": [
       "reflection  Strongly Disagree  Disagree  Neutral  Agree  Strongly Agree\n",
       "condition                                                              \n",
       "score                    0.09      0.11     0.17   0.38            0.26\n",
       "text                     0.06      0.06     0.21   0.43            0.23\n",
       "full                     0.04      0.04     0.22   0.46            0.24"
      ]
     },
     "execution_count": 49,
     "metadata": {},
     "output_type": "execute_result"
    }
   ],
   "source": [
    "reflection_responses = most_common.groupby('condition')['reflection'].value_counts(normalize=True).unstack().round(2).sort_index()\n",
    "reflection_responses"
   ]
  },
  {
   "cell_type": "code",
   "execution_count": 50,
   "metadata": {},
   "outputs": [
    {
     "data": {
      "text/html": [
       "<div>\n",
       "<style scoped>\n",
       "    .dataframe tbody tr th:only-of-type {\n",
       "        vertical-align: middle;\n",
       "    }\n",
       "\n",
       "    .dataframe tbody tr th {\n",
       "        vertical-align: top;\n",
       "    }\n",
       "\n",
       "    .dataframe thead th {\n",
       "        text-align: right;\n",
       "    }\n",
       "</style>\n",
       "<table border=\"1\" class=\"dataframe\">\n",
       "  <thead>\n",
       "    <tr style=\"text-align: right;\">\n",
       "      <th>reflection</th>\n",
       "      <th>Strongly Disagree</th>\n",
       "      <th>Disagree</th>\n",
       "      <th>Neutral</th>\n",
       "      <th>Agree</th>\n",
       "      <th>Strongly Agree</th>\n",
       "    </tr>\n",
       "    <tr>\n",
       "      <th>condition</th>\n",
       "      <th></th>\n",
       "      <th></th>\n",
       "      <th></th>\n",
       "      <th></th>\n",
       "      <th></th>\n",
       "    </tr>\n",
       "  </thead>\n",
       "  <tbody>\n",
       "    <tr>\n",
       "      <th>score</th>\n",
       "      <td>4</td>\n",
       "      <td>5</td>\n",
       "      <td>8</td>\n",
       "      <td>18</td>\n",
       "      <td>12</td>\n",
       "    </tr>\n",
       "    <tr>\n",
       "      <th>text</th>\n",
       "      <td>3</td>\n",
       "      <td>3</td>\n",
       "      <td>10</td>\n",
       "      <td>20</td>\n",
       "      <td>11</td>\n",
       "    </tr>\n",
       "    <tr>\n",
       "      <th>full</th>\n",
       "      <td>2</td>\n",
       "      <td>2</td>\n",
       "      <td>10</td>\n",
       "      <td>21</td>\n",
       "      <td>11</td>\n",
       "    </tr>\n",
       "  </tbody>\n",
       "</table>\n",
       "</div>"
      ],
      "text/plain": [
       "reflection  Strongly Disagree  Disagree  Neutral  Agree  Strongly Agree\n",
       "condition                                                              \n",
       "score                       4         5        8     18              12\n",
       "text                        3         3       10     20              11\n",
       "full                        2         2       10     21              11"
      ]
     },
     "execution_count": 50,
     "metadata": {},
     "output_type": "execute_result"
    }
   ],
   "source": [
    "reflection_freq = most_common.groupby('condition')['reflection'].value_counts(normalize=False).unstack().round(2).sort_index()\n",
    "reflection_freq"
   ]
  },
  {
   "cell_type": "code",
   "execution_count": 51,
   "metadata": {},
   "outputs": [
    {
     "data": {
      "text/plain": [
       "condition\n",
       "score    [Strongly Disagree, Agree, Disagree, Agree, St...\n",
       "text     [Strongly Agree, Disagree, Agree, Agree, Agree...\n",
       "full     [Strongly Disagree, Neutral, Neutral, Neutral,...\n",
       "Name: reflection, dtype: object"
      ]
     },
     "execution_count": 51,
     "metadata": {},
     "output_type": "execute_result"
    }
   ],
   "source": [
    "reflection_grouped = most_common.groupby('condition')['reflection'].apply(list)\n",
    "reflection_grouped"
   ]
  },
  {
   "cell_type": "code",
   "execution_count": 52,
   "metadata": {},
   "outputs": [
    {
     "data": {
      "text/plain": [
       "KruskalResult(statistic=0.4678752710323547, pvalue=0.7914111703057143)"
      ]
     },
     "execution_count": 52,
     "metadata": {},
     "output_type": "execute_result"
    }
   ],
   "source": [
    "data_for_test = [group for group in reflection_grouped]\n",
    "stats.kruskal(*data_for_test)"
   ]
  },
  {
   "cell_type": "markdown",
   "metadata": {},
   "source": [
    "## Did they think the feedback helped?"
   ]
  },
  {
   "cell_type": "code",
   "execution_count": 57,
   "metadata": {},
   "outputs": [
    {
     "data": {
      "text/html": [
       "<div>\n",
       "<style scoped>\n",
       "    .dataframe tbody tr th:only-of-type {\n",
       "        vertical-align: middle;\n",
       "    }\n",
       "\n",
       "    .dataframe tbody tr th {\n",
       "        vertical-align: top;\n",
       "    }\n",
       "\n",
       "    .dataframe thead th {\n",
       "        text-align: right;\n",
       "    }\n",
       "</style>\n",
       "<table border=\"1\" class=\"dataframe\">\n",
       "  <thead>\n",
       "    <tr style=\"text-align: right;\">\n",
       "      <th>feedback_helped</th>\n",
       "      <th>Strongly Disagree</th>\n",
       "      <th>Disagree</th>\n",
       "      <th>Neutral</th>\n",
       "      <th>Agree</th>\n",
       "      <th>Strongly Agree</th>\n",
       "    </tr>\n",
       "    <tr>\n",
       "      <th>condition</th>\n",
       "      <th></th>\n",
       "      <th></th>\n",
       "      <th></th>\n",
       "      <th></th>\n",
       "      <th></th>\n",
       "    </tr>\n",
       "  </thead>\n",
       "  <tbody>\n",
       "    <tr>\n",
       "      <th>full</th>\n",
       "      <td>0.09</td>\n",
       "      <td>0.13</td>\n",
       "      <td>0.23</td>\n",
       "      <td>0.43</td>\n",
       "      <td>0.13</td>\n",
       "    </tr>\n",
       "    <tr>\n",
       "      <th>score</th>\n",
       "      <td>0.22</td>\n",
       "      <td>0.14</td>\n",
       "      <td>0.18</td>\n",
       "      <td>0.28</td>\n",
       "      <td>0.18</td>\n",
       "    </tr>\n",
       "    <tr>\n",
       "      <th>text</th>\n",
       "      <td>0.16</td>\n",
       "      <td>0.08</td>\n",
       "      <td>0.06</td>\n",
       "      <td>0.54</td>\n",
       "      <td>0.16</td>\n",
       "    </tr>\n",
       "  </tbody>\n",
       "</table>\n",
       "</div>"
      ],
      "text/plain": [
       "feedback_helped  Strongly Disagree  Disagree  Neutral  Agree  Strongly Agree\n",
       "condition                                                                   \n",
       "full                          0.09      0.13     0.23   0.43            0.13\n",
       "score                         0.22      0.14     0.18   0.28            0.18\n",
       "text                          0.16      0.08     0.06   0.54            0.16"
      ]
     },
     "execution_count": 57,
     "metadata": {},
     "output_type": "execute_result"
    }
   ],
   "source": [
    "overall_responses = merged.groupby('condition')['feedback_helped'].value_counts(normalize=True).unstack().round(2).sort_index()\n",
    "overall_responses.drop(index=['demo'])"
   ]
  },
  {
   "cell_type": "code",
   "execution_count": 58,
   "metadata": {},
   "outputs": [
    {
     "data": {
      "text/html": [
       "<div>\n",
       "<style scoped>\n",
       "    .dataframe tbody tr th:only-of-type {\n",
       "        vertical-align: middle;\n",
       "    }\n",
       "\n",
       "    .dataframe tbody tr th {\n",
       "        vertical-align: top;\n",
       "    }\n",
       "\n",
       "    .dataframe thead th {\n",
       "        text-align: right;\n",
       "    }\n",
       "</style>\n",
       "<table border=\"1\" class=\"dataframe\">\n",
       "  <thead>\n",
       "    <tr style=\"text-align: right;\">\n",
       "      <th>feedback_helped</th>\n",
       "      <th>Strongly Disagree</th>\n",
       "      <th>Disagree</th>\n",
       "      <th>Neutral</th>\n",
       "      <th>Agree</th>\n",
       "      <th>Strongly Agree</th>\n",
       "    </tr>\n",
       "    <tr>\n",
       "      <th>condition</th>\n",
       "      <th></th>\n",
       "      <th></th>\n",
       "      <th></th>\n",
       "      <th></th>\n",
       "      <th></th>\n",
       "    </tr>\n",
       "  </thead>\n",
       "  <tbody>\n",
       "    <tr>\n",
       "      <th>full</th>\n",
       "      <td>4</td>\n",
       "      <td>6</td>\n",
       "      <td>11</td>\n",
       "      <td>20</td>\n",
       "      <td>6</td>\n",
       "    </tr>\n",
       "    <tr>\n",
       "      <th>score</th>\n",
       "      <td>11</td>\n",
       "      <td>7</td>\n",
       "      <td>9</td>\n",
       "      <td>14</td>\n",
       "      <td>9</td>\n",
       "    </tr>\n",
       "    <tr>\n",
       "      <th>text</th>\n",
       "      <td>8</td>\n",
       "      <td>4</td>\n",
       "      <td>3</td>\n",
       "      <td>27</td>\n",
       "      <td>8</td>\n",
       "    </tr>\n",
       "  </tbody>\n",
       "</table>\n",
       "</div>"
      ],
      "text/plain": [
       "feedback_helped  Strongly Disagree  Disagree  Neutral  Agree  Strongly Agree\n",
       "condition                                                                   \n",
       "full                             4         6       11     20               6\n",
       "score                           11         7        9     14               9\n",
       "text                             8         4        3     27               8"
      ]
     },
     "execution_count": 58,
     "metadata": {},
     "output_type": "execute_result"
    }
   ],
   "source": [
    "overall_freq = merged.groupby('condition')['feedback_helped'].value_counts(normalize=False).unstack().round(2).sort_index()\n",
    "overall_freq.drop(index=['demo'])"
   ]
  },
  {
   "cell_type": "code",
   "execution_count": 61,
   "metadata": {},
   "outputs": [
    {
     "data": {
      "text/plain": [
       "condition\n",
       "full     [Neutral, Strongly Agree, Disagree, Neutral, A...\n",
       "score    [Disagree, Neutral, Disagree, Strongly Agree, ...\n",
       "text     [Agree, Agree, Agree, Strongly Disagree, Agree...\n",
       "Name: feedback_helped, dtype: object"
      ]
     },
     "execution_count": 61,
     "metadata": {},
     "output_type": "execute_result"
    }
   ],
   "source": [
    "overall_grouped = merged.groupby('condition')['feedback_helped'].apply(list)\n",
    "overall_grouped = overall_grouped.drop(index=['demo'])\n",
    "overall_grouped"
   ]
  },
  {
   "cell_type": "code",
   "execution_count": 62,
   "metadata": {},
   "outputs": [
    {
     "data": {
      "text/plain": [
       "KruskalResult(statistic=5.501401384070903, pvalue=0.0638830831531614)"
      ]
     },
     "execution_count": 62,
     "metadata": {},
     "output_type": "execute_result"
    }
   ],
   "source": [
    "data_for_test = [group for group in overall_grouped]\n",
    "stats.kruskal(*data_for_test)"
   ]
  },
  {
   "cell_type": "markdown",
   "metadata": {},
   "source": [
    "## Which feedback modality leads to higher performance improvements?"
   ]
  },
  {
   "cell_type": "markdown",
   "metadata": {},
   "source": [
    "# Start looking at trajectory data"
   ]
  },
  {
   "cell_type": "markdown",
   "metadata": {},
   "source": [
    "Grab all the images"
   ]
  },
  {
   "cell_type": "code",
   "execution_count": null,
   "metadata": {},
   "outputs": [],
   "source": [
    "# make images folder if it doesn't exist\n",
    "if not os.path.exists(data_dir + 'images'):\n",
    "    os.makedirs(data_dir + 'images')\n",
    "    os.makedirs(data_dir + 'images/raw')\n",
    "    os.makedirs(data_dir + 'images/processed')\n",
    "\n",
    "# for each participant, save image from each trial\n",
    "user_dirs = os.listdir(data_dir)\n",
    "for user in conditions['user_id']:\n",
    "    print(user)\n",
    "    if user not in user_dirs:\n",
    "        continue\n",
    "    for trials in os.listdir(data_dir + user):\n",
    "        if not os.path.isdir(data_dir + user + '/' + trials):\n",
    "            continue\n",
    "        raw_image = data_dir + user + '/' + trials + '/trajectory.png'\n",
    "        processed_image = data_dir + user + '/' + trials + '/trajectory_with_feedback.png'\n",
    "        # copy images to images folder\n",
    "        if not os.path.exists(raw_image) or not os.path.exists(processed_image):\n",
    "            continue\n",
    "        shutil.copy(raw_image, data_dir + 'images/raw/' + user + '_' + trials + '_raw.png')\n",
    "        shutil.copy(processed_image, data_dir + 'images/processed/' + user + '_' + trials + '_processed.png')"
   ]
  }
 ],
 "metadata": {
  "kernelspec": {
   "display_name": "venv",
   "language": "python",
   "name": "python3"
  },
  "language_info": {
   "codemirror_mode": {
    "name": "ipython",
    "version": 3
   },
   "file_extension": ".py",
   "mimetype": "text/x-python",
   "name": "python",
   "nbconvert_exporter": "python",
   "pygments_lexer": "ipython3",
   "version": "3.10.4"
  }
 },
 "nbformat": 4,
 "nbformat_minor": 2
}

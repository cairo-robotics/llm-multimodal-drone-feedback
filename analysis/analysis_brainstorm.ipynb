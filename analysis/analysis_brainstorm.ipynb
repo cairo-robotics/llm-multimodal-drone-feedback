{
 "cells": [
  {
   "cell_type": "markdown",
   "metadata": {},
   "source": [
    "# Imports"
   ]
  },
  {
   "cell_type": "code",
   "execution_count": 1,
   "metadata": {},
   "outputs": [],
   "source": [
    "import warnings\n",
    "warnings.filterwarnings(\"ignore\")\n",
    "\n",
    "import pandas as pd\n",
    "import matplotlib.pyplot as plt\n",
    "import matplotlib as mpl\n",
    "import glob\n",
    "import scipy.stats as stats\n",
    "import scikit_posthocs as sp\n",
    "\n",
    "import utils # offload data processing into .py file"
   ]
  },
  {
   "cell_type": "code",
   "execution_count": 2,
   "metadata": {},
   "outputs": [],
   "source": [
    "data_dir = 'C:/Users/Emily Jensen/OneDrive - UCB-O365/Drone Feedback Data/data/'\n",
    "\n",
    "# data_dir = '/Users/emilyjensen/Library/CloudStorage/OneDrive-UCB-O365/Drone Feedback Data/data/'"
   ]
  },
  {
   "cell_type": "markdown",
   "metadata": {},
   "source": [
    "Open all of the relevant data files/directories\n",
    "\n",
    "Emily downloaded the final data and Qualtrics surveys on 5/17/24"
   ]
  },
  {
   "cell_type": "markdown",
   "metadata": {},
   "source": [
    "Qualtrics export settings:\n",
    "\n",
    "<img src=\"qualtrics_export_settings.png\" alt=\"Qualtrics Export Settings\" width=\"500px\">"
   ]
  },
  {
   "cell_type": "markdown",
   "metadata": {},
   "source": [
    "# Load Data"
   ]
  },
  {
   "cell_type": "markdown",
   "metadata": {},
   "source": [
    "Notes on participants that seem to have restarted the experiment:\n",
    "- `5bd49bcc25db7b0001794063` restarted after trial 1 - KEEP\n",
    "- `5c90094e71f3100016181ea9` restarted after trial 3 and again after trial 1 - KEEP\n",
    "- `5ef9f528c7ae587afa25fe9b` restarted after trial 6 - REMOVE\n",
    "- `60fcc292d13ae9614d4a77a7` restarted after trial 3 - KEEP\n",
    "- `6105c41aa4fe602501d5a8cc` restarted after trial 8 - REMOVE\n",
    "- `610796f1301fccdca446af57` restarted after trial 7 - REMOVE\n",
    "- `629658baad2881aba974c6c3` restarted after trial 2 - KEEP\n",
    "- `63026a8fd8429b224cd2a134` restarted before completing trial 1 - KEEP\n",
    "- `631f1b608af38f654d2a3b1f` restarted after trial 15 - REMOVE\n",
    "- `637d4196c70a66e28ecede34` restarted before completing trial 1 - KEEP\n",
    "- `6388b6c86e47b08e1eded1fd` restarted before completing trial 1 - KEEP\n",
    "- `63ba10de73415d047e1d6731` restarted after trial 5 and again after trial 1 - REMOVE\n",
    "- `643c6175d46d41e74033994f` restarted after trial 8 and again after trial 1 - REMOVE\n",
    "- `652ab7948cb59f4c50c7972a` restarted after trial 1 - KEEP\n",
    "- `6596a5cad60ef105b6c18897` restarted after trial 1 - KEEP\n",
    "- `65cba99c92b362b45e414da7` restarted after trial 17 - REMOVE\n",
    "\n",
    "We will keep the participants who complete less than 5 trials before completing a complete run.\n",
    "\n",
    "Participant `6400dc9f84ed19aeedc1a2cc` seems to have filled out the qualtrics survey twice. The numerical data are the same and the free response questions have very similar content so I feel fine only keeping the first entry.\n",
    "\n",
    "This has been implemented in `utils.load_data()`"
   ]
  },
  {
   "cell_type": "markdown",
   "metadata": {},
   "source": [
    "Participants removed for not providing a good-faith effort:\n",
    "\n",
    "- `63026a8fd8429b224cd2a134` \n",
    "- `637d4196c70a66e28ecede34` \n",
    "- `5f90581950d8520e8c7d3890`\n",
    "- `60706b67613f243aabd7f7bf`\n",
    "\n",
    "These participants crashed on every trial and never used horizontal inputs"
   ]
  },
  {
   "cell_type": "code",
   "execution_count": 15,
   "metadata": {},
   "outputs": [
    {
     "name": "stdout",
     "output_type": "stream",
     "text": [
      "Dropped 8 duplicate IDs:\n",
      "['5bd49bcc25db7b0001794063' '5c90094e71f3100016181ea9'\n",
      " '60fcc292d13ae9614d4a77a7' '629658baad2881aba974c6c3'\n",
      " '6388b6c86e47b08e1eded1fd' '6400dc9f84ed19aeedc1a2cc'\n",
      " '652ab7948cb59f4c50c7972a' '6596a5cad60ef105b6c18897']\n",
      "Final number of IDs in participant file: 167\n",
      "Final number of IDs in trial file: 167\n"
     ]
    }
   ],
   "source": [
    "part_file, trial_file, ids = utils.load_data()"
   ]
  },
  {
   "cell_type": "markdown",
   "metadata": {},
   "source": [
    "# Basic stats\n",
    "\n",
    "This is after filtering out participants that restarted the experiment"
   ]
  },
  {
   "cell_type": "code",
   "execution_count": 16,
   "metadata": {},
   "outputs": [
    {
     "name": "stdout",
     "output_type": "stream",
     "text": [
      "           count  proportion\n",
      "condition                   \n",
      "demo           0        0.00\n",
      "full          56        0.34\n",
      "score         55        0.33\n",
      "text          56        0.34\n",
      "            count  proportion\n",
      "gender                       \n",
      "Man            73        0.44\n",
      "Non-binary      7        0.04\n",
      "Woman          87        0.52\n",
      "                  count  proportion\n",
      "drone_experience                   \n",
      "None                136        0.81\n",
      "Some                 26        0.16\n",
      "Regularly             5        0.03\n",
      "Professional          0        0.00\n",
      "                       count  proportion\n",
      "video_game_experience                   \n",
      "None                      30        0.18\n",
      "Monthly                   46        0.28\n",
      "Weekly                    40        0.24\n",
      "Daily                     51        0.31\n",
      "                   count  proportion\n",
      "feedback_helped                     \n",
      "Strongly Disagree     23        0.14\n",
      "Disagree              22        0.13\n",
      "Neutral               26        0.16\n",
      "Agree                 71        0.43\n",
      "Strongly Agree        25        0.15\n",
      "                           count  proportion\n",
      "feedback_helped_collapsed                   \n",
      "Disagree                      45        0.27\n",
      "Neutral                       26        0.16\n",
      "Agree                         96        0.57\n",
      "\n",
      "age:\n",
      "count    167.00\n",
      "mean      38.02\n",
      "std       12.53\n",
      "min       18.00\n",
      "25%       28.00\n",
      "50%       35.00\n",
      "75%       47.00\n",
      "max       74.00\n",
      "Name: age, dtype: float64\n",
      "\n",
      "total_time_seconds:\n",
      "count     167.00\n",
      "mean     1746.99\n",
      "std       614.49\n",
      "min       805.44\n",
      "25%      1314.83\n",
      "50%      1581.18\n",
      "75%      2025.21\n",
      "max      5192.21\n",
      "Name: total_time_seconds, dtype: float64\n",
      "\n",
      "avg_feedback_time_seconds:\n",
      "count    167.00\n",
      "mean      28.12\n",
      "std       11.08\n",
      "min        0.86\n",
      "25%       20.65\n",
      "50%       27.34\n",
      "75%       33.13\n",
      "max       76.66\n",
      "Name: avg_feedback_time_seconds, dtype: float64\n",
      "\n",
      "n_safe_landings:\n",
      "count    167.00\n",
      "mean       8.22\n",
      "std        5.28\n",
      "min        0.00\n",
      "25%        4.00\n",
      "50%        8.00\n",
      "75%       13.00\n",
      "max       19.00\n",
      "Name: n_safe_landings, dtype: float64\n"
     ]
    }
   ],
   "source": [
    "utils.run_basic_stats(part_file)"
   ]
  },
  {
   "cell_type": "markdown",
   "metadata": {},
   "source": [
    "# Research Themes"
   ]
  },
  {
   "cell_type": "markdown",
   "metadata": {},
   "source": [
    "## Perception of Feedback"
   ]
  },
  {
   "cell_type": "markdown",
   "metadata": {},
   "source": [
    "### What is associated with overall feedback helpfulness rating?"
   ]
  },
  {
   "cell_type": "code",
   "execution_count": 18,
   "metadata": {},
   "outputs": [
    {
     "name": "stdout",
     "output_type": "stream",
     "text": [
      "Optimization terminated successfully.\n",
      "         Current function value: 0.719001\n",
      "         Iterations: 67\n",
      "         Function evaluations: 74\n",
      "         Gradient evaluations: 74\n",
      "                                 OrderedModel Results                                \n",
      "=====================================================================================\n",
      "Dep. Variable:     feedback_helped_collapsed   Log-Likelihood:                -120.07\n",
      "Model:                          OrderedModel   AIC:                             272.1\n",
      "Method:                   Maximum Likelihood   BIC:                             322.0\n",
      "Date:                       Sat, 18 May 2024                                         \n",
      "Time:                               17:04:46                                         \n",
      "No. Observations:                        167                                         \n",
      "Df Residuals:                            151                                         \n",
      "Df Model:                                 14                                         \n",
      "==================================================================================================\n",
      "                                     coef    std err          z      P>|z|      [0.025      0.975]\n",
      "--------------------------------------------------------------------------------------------------\n",
      "age                                0.0081      0.018      0.440      0.660      -0.028       0.044\n",
      "drone_experience_code             -0.3332      0.408     -0.817      0.414      -1.132       0.466\n",
      "video_game_experience_code         0.0230      0.197      0.117      0.907      -0.363       0.409\n",
      "total_time_seconds                -0.0005      0.000     -1.308      0.191      -0.001       0.000\n",
      "avg_feedback_time_seconds          0.0028      0.021      0.130      0.896      -0.039       0.044\n",
      "avg_trial_time_seconds             0.0366      0.023      1.567      0.117      -0.009       0.082\n",
      "gender_Non-binary                  0.8596      1.017      0.845      0.398      -1.134       2.854\n",
      "gender_Woman                       0.2823      0.442      0.639      0.523      -0.584       1.148\n",
      "n_safe_landings                    0.0851      0.045      1.893      0.058      -0.003       0.173\n",
      "mode_motivation_collapsed_code     0.9702      0.385      2.520      0.012       0.216       1.725\n",
      "mode_manageable_collapsed_code     1.1017      0.391      2.821      0.005       0.336       1.867\n",
      "mode_actionable_collapsed_code     0.3334      0.295      1.132      0.258      -0.244       0.911\n",
      "mode_timely_collapsed_code        -1.1172      0.426     -2.625      0.009      -1.952      -0.283\n",
      "mode_reflection_collapsed_code     0.7619      0.372      2.046      0.041       0.032       1.492\n",
      "Disagree/Neutral                   2.7193      1.282      2.122      0.034       0.207       5.231\n",
      "Neutral/Agree                      0.1042      0.184      0.565      0.572      -0.257       0.466\n",
      "==================================================================================================\n"
     ]
    }
   ],
   "source": [
    "ind_vars = ['age', 'drone_experience_code', \n",
    "            'video_game_experience_code', 'total_time_seconds', \n",
    "            'avg_feedback_time_seconds','avg_trial_time_seconds', \n",
    "            'gender_Non-binary', 'gender_Woman', \n",
    "            'n_safe_landings'] + [f'mode_{q}_code' for q in ['motivation_collapsed', 'manageable_collapsed', 'actionable_collapsed', 'timely_collapsed', 'reflection_collapsed']]\n",
    "\n",
    "dep_var = 'feedback_helped_collapsed'\n",
    "\n",
    "utils.run_ordered_model(dep_var, ind_vars, part_file)"
   ]
  },
  {
   "cell_type": "markdown",
   "metadata": {},
   "source": [
    "### What is associated with overall rating for each dimension?"
   ]
  },
  {
   "cell_type": "code",
   "execution_count": 19,
   "metadata": {},
   "outputs": [
    {
     "name": "stdout",
     "output_type": "stream",
     "text": [
      "Optimization terminated successfully.\n",
      "         Current function value: 0.894534\n",
      "         Iterations: 41\n",
      "         Function evaluations: 49\n",
      "         Gradient evaluations: 49\n",
      "                                   OrderedModel Results                                   \n",
      "==========================================================================================\n",
      "Dep. Variable:     mode_motivation_collapsed_code   Log-Likelihood:                -149.39\n",
      "Model:                               OrderedModel   AIC:                             320.8\n",
      "Method:                        Maximum Likelihood   BIC:                             355.1\n",
      "Date:                            Sat, 18 May 2024                                         \n",
      "Time:                                    17:07:03                                         \n",
      "No. Observations:                             167                                         \n",
      "Df Residuals:                                 156                                         \n",
      "Df Model:                                       9                                         \n",
      "==============================================================================================\n",
      "                                 coef    std err          z      P>|z|      [0.025      0.975]\n",
      "----------------------------------------------------------------------------------------------\n",
      "age                            0.0193      0.015      1.279      0.201      -0.010       0.049\n",
      "drone_experience_code          0.3985      0.373      1.068      0.285      -0.333       1.130\n",
      "video_game_experience_code    -0.0238      0.170     -0.140      0.889      -0.357       0.309\n",
      "total_time_seconds            -0.0002      0.000     -0.513      0.608      -0.001       0.000\n",
      "avg_feedback_time_seconds      0.0373      0.020      1.866      0.062      -0.002       0.076\n",
      "avg_trial_time_seconds         0.0110      0.021      0.534      0.593      -0.029       0.051\n",
      "gender_Non-binary              0.4237      0.813      0.521      0.602      -1.170       2.018\n",
      "gender_Woman                   0.4608      0.371      1.242      0.214      -0.267       1.188\n",
      "n_safe_landings                0.0041      0.037      0.112      0.911      -0.068       0.076\n",
      "0/1                            0.4164      0.963      0.432      0.665      -1.471       2.304\n",
      "1/2                            0.1999      0.152      1.311      0.190      -0.099       0.499\n",
      "==============================================================================================\n"
     ]
    }
   ],
   "source": [
    "ind_vars = ['age', 'drone_experience_code', \n",
    "            'video_game_experience_code', 'total_time_seconds', \n",
    "            'avg_feedback_time_seconds','avg_trial_time_seconds', \n",
    "            'gender_Non-binary', 'gender_Woman', \n",
    "            'n_safe_landings']\n",
    "\n",
    "dep_var = 'mode_motivation_collapsed_code'\n",
    "\n",
    "utils.run_ordered_model(dep_var, ind_vars, part_file)"
   ]
  },
  {
   "cell_type": "code",
   "execution_count": 20,
   "metadata": {},
   "outputs": [
    {
     "name": "stdout",
     "output_type": "stream",
     "text": [
      "Optimization terminated successfully.\n",
      "         Current function value: 0.948278\n",
      "         Iterations: 39\n",
      "         Function evaluations: 44\n",
      "         Gradient evaluations: 44\n",
      "                                   OrderedModel Results                                   \n",
      "==========================================================================================\n",
      "Dep. Variable:     mode_manageable_collapsed_code   Log-Likelihood:                -158.36\n",
      "Model:                               OrderedModel   AIC:                             338.7\n",
      "Method:                        Maximum Likelihood   BIC:                             373.0\n",
      "Date:                            Sat, 18 May 2024                                         \n",
      "Time:                                    17:07:23                                         \n",
      "No. Observations:                             167                                         \n",
      "Df Residuals:                                 156                                         \n",
      "Df Model:                                       9                                         \n",
      "==============================================================================================\n",
      "                                 coef    std err          z      P>|z|      [0.025      0.975]\n",
      "----------------------------------------------------------------------------------------------\n",
      "age                           -0.0098      0.014     -0.677      0.498      -0.038       0.018\n",
      "drone_experience_code         -0.8003      0.337     -2.378      0.017      -1.460      -0.141\n",
      "video_game_experience_code     0.0886      0.160      0.555      0.579      -0.224       0.402\n",
      "total_time_seconds            -0.0003      0.000     -0.988      0.323      -0.001       0.000\n",
      "avg_feedback_time_seconds      0.0071      0.018      0.405      0.686      -0.027       0.042\n",
      "avg_trial_time_seconds         0.0034      0.019      0.181      0.857      -0.034       0.041\n",
      "gender_Non-binary             -0.9552      0.775     -1.232      0.218      -2.475       0.565\n",
      "gender_Woman                  -0.4443      0.365     -1.216      0.224      -1.161       0.272\n",
      "n_safe_landings                0.0081      0.035      0.230      0.818      -0.061       0.077\n",
      "0/1                           -2.6135      0.982     -2.662      0.008      -4.538      -0.689\n",
      "1/2                            0.9966      0.092     10.871      0.000       0.817       1.176\n",
      "==============================================================================================\n"
     ]
    }
   ],
   "source": [
    "ind_vars = ['age', 'drone_experience_code', \n",
    "            'video_game_experience_code', 'total_time_seconds', \n",
    "            'avg_feedback_time_seconds','avg_trial_time_seconds', \n",
    "            'gender_Non-binary', 'gender_Woman', \n",
    "            'n_safe_landings']\n",
    "\n",
    "dep_var = 'mode_manageable_collapsed_code'\n",
    "\n",
    "utils.run_ordered_model(dep_var, ind_vars, part_file)"
   ]
  },
  {
   "cell_type": "code",
   "execution_count": 21,
   "metadata": {},
   "outputs": [
    {
     "name": "stdout",
     "output_type": "stream",
     "text": [
      "Optimization terminated successfully.\n",
      "         Current function value: 0.708858\n",
      "         Iterations: 42\n",
      "         Function evaluations: 47\n",
      "         Gradient evaluations: 47\n",
      "                                 OrderedModel Results                                 \n",
      "======================================================================================\n",
      "Dep. Variable:     mode_timely_collapsed_code   Log-Likelihood:                -118.38\n",
      "Model:                           OrderedModel   AIC:                             258.8\n",
      "Method:                    Maximum Likelihood   BIC:                             293.1\n",
      "Date:                        Sat, 18 May 2024                                         \n",
      "Time:                                17:08:17                                         \n",
      "No. Observations:                         167                                         \n",
      "Df Residuals:                             156                                         \n",
      "Df Model:                                   9                                         \n",
      "==============================================================================================\n",
      "                                 coef    std err          z      P>|z|      [0.025      0.975]\n",
      "----------------------------------------------------------------------------------------------\n",
      "age                           -0.0022      0.016     -0.141      0.888      -0.033       0.029\n",
      "drone_experience_code         -0.2335      0.388     -0.602      0.547      -0.994       0.526\n",
      "video_game_experience_code     0.2894      0.178      1.630      0.103      -0.059       0.637\n",
      "total_time_seconds            -0.0007      0.000     -1.776      0.076      -0.001    6.91e-05\n",
      "avg_feedback_time_seconds      0.0172      0.020      0.858      0.391      -0.022       0.056\n",
      "avg_trial_time_seconds        -0.0010      0.022     -0.046      0.963      -0.044       0.042\n",
      "gender_Non-binary             -0.2354      0.853     -0.276      0.783      -1.908       1.437\n",
      "gender_Woman                   0.3900      0.394      0.989      0.323      -0.383       1.163\n",
      "n_safe_landings                0.0915      0.039      2.343      0.019       0.015       0.168\n",
      "0/1                           -2.9475      1.112     -2.651      0.008      -5.127      -0.769\n",
      "1/2                            1.4914      0.105     14.159      0.000       1.285       1.698\n",
      "==============================================================================================\n"
     ]
    }
   ],
   "source": [
    "ind_vars = ['age', 'drone_experience_code', \n",
    "            'video_game_experience_code', 'total_time_seconds', \n",
    "            'avg_feedback_time_seconds','avg_trial_time_seconds', \n",
    "            'gender_Non-binary', 'gender_Woman', \n",
    "            'n_safe_landings']\n",
    "\n",
    "dep_var = 'mode_timely_collapsed_code'\n",
    "\n",
    "utils.run_ordered_model(dep_var, ind_vars, part_file)"
   ]
  },
  {
   "cell_type": "code",
   "execution_count": 22,
   "metadata": {},
   "outputs": [
    {
     "name": "stdout",
     "output_type": "stream",
     "text": [
      "Optimization terminated successfully.\n",
      "         Current function value: 0.780575\n",
      "         Iterations: 45\n",
      "         Function evaluations: 54\n",
      "         Gradient evaluations: 54\n",
      "                                   OrderedModel Results                                   \n",
      "==========================================================================================\n",
      "Dep. Variable:     mode_reflection_collapsed_code   Log-Likelihood:                -130.36\n",
      "Model:                               OrderedModel   AIC:                             282.7\n",
      "Method:                        Maximum Likelihood   BIC:                             317.0\n",
      "Date:                            Sat, 18 May 2024                                         \n",
      "Time:                                    17:09:05                                         \n",
      "No. Observations:                             167                                         \n",
      "Df Residuals:                                 156                                         \n",
      "Df Model:                                       9                                         \n",
      "==============================================================================================\n",
      "                                 coef    std err          z      P>|z|      [0.025      0.975]\n",
      "----------------------------------------------------------------------------------------------\n",
      "age                            0.0559      0.018      3.083      0.002       0.020       0.091\n",
      "drone_experience_code          0.6465      0.437      1.478      0.139      -0.211       1.504\n",
      "video_game_experience_code    -0.1051      0.186     -0.566      0.571      -0.469       0.259\n",
      "total_time_seconds            -0.0008      0.000     -2.082      0.037      -0.002   -4.83e-05\n",
      "avg_feedback_time_seconds      0.0404      0.022      1.847      0.065      -0.002       0.083\n",
      "avg_trial_time_seconds         0.0413      0.023      1.784      0.074      -0.004       0.087\n",
      "gender_Non-binary             -0.1218      0.761     -0.160      0.873      -1.614       1.370\n",
      "gender_Woman                   0.1203      0.400      0.301      0.763      -0.663       0.904\n",
      "n_safe_landings            -4.695e-05      0.040     -0.001      0.999      -0.078       0.078\n",
      "0/1                            0.9106      1.058      0.861      0.389      -1.163       2.985\n",
      "1/2                            0.2251      0.165      1.366      0.172      -0.098       0.548\n",
      "==============================================================================================\n"
     ]
    }
   ],
   "source": [
    "ind_vars = ['age', 'drone_experience_code', \n",
    "            'video_game_experience_code', 'total_time_seconds', \n",
    "            'avg_feedback_time_seconds','avg_trial_time_seconds', \n",
    "            'gender_Non-binary', 'gender_Woman', \n",
    "            'n_safe_landings']\n",
    "\n",
    "dep_var = 'mode_reflection_collapsed_code'\n",
    "\n",
    "utils.run_ordered_model(dep_var, ind_vars, part_file)"
   ]
  },
  {
   "cell_type": "code",
   "execution_count": 23,
   "metadata": {},
   "outputs": [
    {
     "name": "stdout",
     "output_type": "stream",
     "text": [
      "Optimization terminated successfully.\n",
      "         Current function value: 0.956640\n",
      "         Iterations: 39\n",
      "         Function evaluations: 48\n",
      "         Gradient evaluations: 48\n",
      "                                   OrderedModel Results                                   \n",
      "==========================================================================================\n",
      "Dep. Variable:     mode_actionable_collapsed_code   Log-Likelihood:                -159.76\n",
      "Model:                               OrderedModel   AIC:                             341.5\n",
      "Method:                        Maximum Likelihood   BIC:                             375.8\n",
      "Date:                            Sat, 18 May 2024                                         \n",
      "Time:                                    17:10:10                                         \n",
      "No. Observations:                             167                                         \n",
      "Df Residuals:                                 156                                         \n",
      "Df Model:                                       9                                         \n",
      "==============================================================================================\n",
      "                                 coef    std err          z      P>|z|      [0.025      0.975]\n",
      "----------------------------------------------------------------------------------------------\n",
      "age                            0.0142      0.015      0.959      0.338      -0.015       0.043\n",
      "drone_experience_code          0.1171      0.360      0.325      0.745      -0.589       0.823\n",
      "video_game_experience_code     0.1227      0.164      0.749      0.454      -0.198       0.444\n",
      "total_time_seconds            -0.0004      0.000     -1.369      0.171      -0.001       0.000\n",
      "avg_feedback_time_seconds      0.0224      0.019      1.196      0.232      -0.014       0.059\n",
      "avg_trial_time_seconds         0.0238      0.020      1.205      0.228      -0.015       0.063\n",
      "gender_Non-binary             -0.7173      0.725     -0.990      0.322      -2.138       0.703\n",
      "gender_Woman                  -0.3014      0.368     -0.819      0.413      -1.023       0.420\n",
      "n_safe_landings               -0.0277      0.035     -0.787      0.431      -0.097       0.041\n",
      "0/1                           -0.4435      0.948     -0.468      0.640      -2.301       1.414\n",
      "1/2                            0.0218      0.156      0.140      0.889      -0.285       0.328\n",
      "==============================================================================================\n"
     ]
    }
   ],
   "source": [
    "ind_vars = ['age', 'drone_experience_code', \n",
    "            'video_game_experience_code', 'total_time_seconds', \n",
    "            'avg_feedback_time_seconds','avg_trial_time_seconds', \n",
    "            'gender_Non-binary', 'gender_Woman', \n",
    "            'n_safe_landings']\n",
    "\n",
    "dep_var = 'mode_actionable_collapsed_code'\n",
    "\n",
    "utils.run_ordered_model(dep_var, ind_vars, part_file)"
   ]
  },
  {
   "cell_type": "markdown",
   "metadata": {},
   "source": [
    "### What is associated with trial rating for each dimension?"
   ]
  },
  {
   "cell_type": "code",
   "execution_count": 24,
   "metadata": {},
   "outputs": [
    {
     "name": "stdout",
     "output_type": "stream",
     "text": [
      "Optimization terminated successfully.\n",
      "         Current function value: 0.965110\n",
      "         Iterations: 18\n",
      "         Function evaluations: 21\n",
      "         Gradient evaluations: 21\n",
      "                              OrderedModel Results                              \n",
      "================================================================================\n",
      "Dep. Variable:     motivation_collapsed   Log-Likelihood:                -3158.8\n",
      "Model:                     OrderedModel   AIC:                             6330.\n",
      "Method:              Maximum Likelihood   BIC:                             6366.\n",
      "Date:                  Sat, 18 May 2024                                         \n",
      "Time:                          17:11:20                                         \n",
      "No. Observations:                  3273                                         \n",
      "Df Residuals:                      3267                                         \n",
      "Df Model:                             4                                         \n",
      "=========================================================================================\n",
      "                            coef    std err          z      P>|z|      [0.025      0.975]\n",
      "-----------------------------------------------------------------------------------------\n",
      "trial_time_seconds        0.0049      0.002      2.628      0.009       0.001       0.009\n",
      "feedback_time_seconds     0.0104      0.002      5.621      0.000       0.007       0.014\n",
      "trial                    -0.0338      0.006     -5.343      0.000      -0.046      -0.021\n",
      "outcome_code              0.0741      0.047      1.584      0.113      -0.018       0.166\n",
      "Disagree/Neutral         -1.4496      0.109    -13.276      0.000      -1.664      -1.236\n",
      "Neutral/Agree             0.2987      0.031      9.597      0.000       0.238       0.360\n",
      "=========================================================================================\n"
     ]
    }
   ],
   "source": [
    "ind_vars = ['trial_time_seconds', 'feedback_time_seconds', \n",
    "            'trial', 'outcome_code']\n",
    "\n",
    "dep_var = 'motivation_collapsed'\n",
    "\n",
    "utils.run_ordered_model(dep_var, ind_vars, trial_file)"
   ]
  },
  {
   "cell_type": "code",
   "execution_count": 25,
   "metadata": {},
   "outputs": [
    {
     "name": "stdout",
     "output_type": "stream",
     "text": [
      "Optimization terminated successfully.\n",
      "         Current function value: 0.988160\n",
      "         Iterations: 15\n",
      "         Function evaluations: 20\n",
      "         Gradient evaluations: 20\n",
      "                              OrderedModel Results                              \n",
      "================================================================================\n",
      "Dep. Variable:     manageable_collapsed   Log-Likelihood:                -3234.2\n",
      "Model:                     OrderedModel   AIC:                             6480.\n",
      "Method:              Maximum Likelihood   BIC:                             6517.\n",
      "Date:                  Sat, 18 May 2024                                         \n",
      "Time:                          17:12:27                                         \n",
      "No. Observations:                  3273                                         \n",
      "Df Residuals:                      3267                                         \n",
      "Df Model:                             4                                         \n",
      "=========================================================================================\n",
      "                            coef    std err          z      P>|z|      [0.025      0.975]\n",
      "-----------------------------------------------------------------------------------------\n",
      "trial_time_seconds       -0.0022      0.002     -1.214      0.225      -0.006       0.001\n",
      "feedback_time_seconds     0.0015      0.002      0.961      0.337      -0.002       0.005\n",
      "trial                    -0.0019      0.006     -0.304      0.761      -0.014       0.010\n",
      "outcome_code              0.1534      0.046      3.302      0.001       0.062       0.245\n",
      "Too little/Just right    -1.4881      0.107    -13.889      0.000      -1.698      -1.278\n",
      "Just right/Too much       0.9157      0.021     44.222      0.000       0.875       0.956\n",
      "=========================================================================================\n"
     ]
    }
   ],
   "source": [
    "ind_vars = ['trial_time_seconds', 'feedback_time_seconds', \n",
    "            'trial', 'outcome_code',]\n",
    "\n",
    "dep_var = 'manageable_collapsed'\n",
    "\n",
    "utils.run_ordered_model(dep_var, ind_vars, trial_file)"
   ]
  },
  {
   "cell_type": "code",
   "execution_count": 26,
   "metadata": {},
   "outputs": [
    {
     "name": "stdout",
     "output_type": "stream",
     "text": [
      "Optimization terminated successfully.\n",
      "         Current function value: 0.792971\n",
      "         Iterations: 19\n",
      "         Function evaluations: 22\n",
      "         Gradient evaluations: 22\n",
      "                             OrderedModel Results                             \n",
      "==============================================================================\n",
      "Dep. Variable:       timely_collapsed   Log-Likelihood:                -2595.4\n",
      "Model:                   OrderedModel   AIC:                             5203.\n",
      "Method:            Maximum Likelihood   BIC:                             5239.\n",
      "Date:                Sat, 18 May 2024                                         \n",
      "Time:                        17:13:08                                         \n",
      "No. Observations:                3273                                         \n",
      "Df Residuals:                    3267                                         \n",
      "Df Model:                           4                                         \n",
      "==============================================================================================\n",
      "                                 coef    std err          z      P>|z|      [0.025      0.975]\n",
      "----------------------------------------------------------------------------------------------\n",
      "trial_time_seconds            -0.0068      0.002     -3.436      0.001      -0.011      -0.003\n",
      "feedback_time_seconds          0.0050      0.002      2.938      0.003       0.002       0.008\n",
      "trial                          0.0172      0.007      2.547      0.011       0.004       0.030\n",
      "outcome_code                   0.3337      0.051      6.563      0.000       0.234       0.433\n",
      "Too infrequent/Just enough    -2.3038      0.126    -18.355      0.000      -2.550      -2.058\n",
      "Just enough/Too often          1.3194      0.021     61.530      0.000       1.277       1.361\n",
      "==============================================================================================\n"
     ]
    }
   ],
   "source": [
    "ind_vars = ['trial_time_seconds', 'feedback_time_seconds', \n",
    "            'trial', 'outcome_code']\n",
    "\n",
    "dep_var = 'timely_collapsed'\n",
    "\n",
    "utils.run_ordered_model(dep_var, ind_vars, trial_file)"
   ]
  },
  {
   "cell_type": "code",
   "execution_count": 27,
   "metadata": {},
   "outputs": [
    {
     "name": "stdout",
     "output_type": "stream",
     "text": [
      "Optimization terminated successfully.\n",
      "         Current function value: 0.927775\n",
      "         Iterations: 18\n",
      "         Function evaluations: 22\n",
      "         Gradient evaluations: 22\n",
      "                              OrderedModel Results                              \n",
      "================================================================================\n",
      "Dep. Variable:     reflection_collapsed   Log-Likelihood:                -3036.6\n",
      "Model:                     OrderedModel   AIC:                             6085.\n",
      "Method:              Maximum Likelihood   BIC:                             6122.\n",
      "Date:                  Sat, 18 May 2024                                         \n",
      "Time:                          17:14:57                                         \n",
      "No. Observations:                  3273                                         \n",
      "Df Residuals:                      3267                                         \n",
      "Df Model:                             4                                         \n",
      "=========================================================================================\n",
      "                            coef    std err          z      P>|z|      [0.025      0.975]\n",
      "-----------------------------------------------------------------------------------------\n",
      "trial_time_seconds        0.0082      0.002      4.159      0.000       0.004       0.012\n",
      "feedback_time_seconds     0.0098      0.002      5.190      0.000       0.006       0.014\n",
      "trial                    -0.0270      0.006     -4.172      0.000      -0.040      -0.014\n",
      "outcome_code              0.0864      0.048      1.803      0.071      -0.008       0.180\n",
      "Disagree/Neutral         -1.3487      0.111    -12.160      0.000      -1.566      -1.131\n",
      "Neutral/Agree             0.2131      0.034      6.355      0.000       0.147       0.279\n",
      "=========================================================================================\n"
     ]
    }
   ],
   "source": [
    "ind_vars = ['trial_time_seconds', 'feedback_time_seconds', \n",
    "            'trial', 'outcome_code']\n",
    "\n",
    "dep_var = 'reflection_collapsed'\n",
    "\n",
    "utils.run_ordered_model(dep_var, ind_vars, trial_file)"
   ]
  },
  {
   "cell_type": "code",
   "execution_count": 28,
   "metadata": {},
   "outputs": [
    {
     "name": "stdout",
     "output_type": "stream",
     "text": [
      "Optimization terminated successfully.\n",
      "         Current function value: 1.004104\n",
      "         Iterations: 20\n",
      "         Function evaluations: 23\n",
      "         Gradient evaluations: 23\n",
      "                              OrderedModel Results                              \n",
      "================================================================================\n",
      "Dep. Variable:     actionable_collapsed   Log-Likelihood:                -3286.4\n",
      "Model:                     OrderedModel   AIC:                             6585.\n",
      "Method:              Maximum Likelihood   BIC:                             6621.\n",
      "Date:                  Sat, 18 May 2024                                         \n",
      "Time:                          17:15:55                                         \n",
      "No. Observations:                  3273                                         \n",
      "Df Residuals:                      3267                                         \n",
      "Df Model:                             4                                         \n",
      "=========================================================================================\n",
      "                            coef    std err          z      P>|z|      [0.025      0.975]\n",
      "-----------------------------------------------------------------------------------------\n",
      "trial_time_seconds        0.0044      0.002      2.417      0.016       0.001       0.008\n",
      "feedback_time_seconds     0.0051      0.002      3.085      0.002       0.002       0.008\n",
      "trial                    -0.0185      0.006     -2.977      0.003      -0.031      -0.006\n",
      "outcome_code              0.0409      0.046      0.889      0.374      -0.049       0.131\n",
      "Disagree/Neutral         -1.1360      0.105    -10.806      0.000      -1.342      -0.930\n",
      "Neutral/Agree             0.0914      0.033      2.777      0.005       0.027       0.156\n",
      "=========================================================================================\n"
     ]
    }
   ],
   "source": [
    "ind_vars = ['trial_time_seconds', 'feedback_time_seconds', \n",
    "            'trial', 'outcome_code']\n",
    "\n",
    "dep_var = 'actionable_collapsed'\n",
    "\n",
    "utils.run_ordered_model(dep_var, ind_vars, trial_file)"
   ]
  },
  {
   "cell_type": "markdown",
   "metadata": {},
   "source": [
    "### Distributions of dimensional ratings across groups"
   ]
  },
  {
   "cell_type": "markdown",
   "metadata": {},
   "source": [
    "**MOTIVATION**"
   ]
  },
  {
   "cell_type": "code",
   "execution_count": 4,
   "metadata": {},
   "outputs": [
    {
     "name": "stdout",
     "output_type": "stream",
     "text": [
      "mode_motivation_code     0     1     2     3     4\n",
      "condition                                         \n",
      "full                  0.04  0.09  0.23  0.41  0.23\n",
      "score                 0.02  0.11  0.33  0.36  0.18\n",
      "text                  0.14  0.07  0.18  0.41  0.20\n",
      "KruskalResult(statistic=0.9997458136319314, pvalue=0.6066077505241452)\n"
     ]
    }
   ],
   "source": [
    "utils.run_kruskal('mode_motivation_code', part_file)"
   ]
  },
  {
   "cell_type": "code",
   "execution_count": 6,
   "metadata": {},
   "outputs": [
    {
     "name": "stdout",
     "output_type": "stream",
     "text": [
      "mode_motivation_collapsed_code     0     1     2\n",
      "condition                                       \n",
      "full                            0.16  0.20  0.64\n",
      "score                           0.13  0.29  0.58\n",
      "text                            0.21  0.18  0.61\n",
      "KruskalResult(statistic=0.30503662192804265, pvalue=0.85854317305931)\n"
     ]
    }
   ],
   "source": [
    "utils.run_kruskal('mode_motivation_collapsed_code', part_file)"
   ]
  },
  {
   "cell_type": "markdown",
   "metadata": {},
   "source": [
    "**MANAGEABLE**"
   ]
  },
  {
   "cell_type": "code",
   "execution_count": 7,
   "metadata": {},
   "outputs": [
    {
     "name": "stdout",
     "output_type": "stream",
     "text": [
      "mode_manageable_code     0     1     2     3     4\n",
      "condition                                         \n",
      "full                  0.02  0.09  0.61  0.20  0.09\n",
      "score                 0.05  0.20  0.62  0.05  0.07\n",
      "text                  0.05  0.04  0.55  0.23  0.12\n",
      "KruskalResult(statistic=10.563013477167285, pvalue=0.005084763608411042)\n",
      "           full     score     text\n",
      "full   1.000000  0.050907  1.00000\n",
      "score  0.050907  1.000000  0.00564\n",
      "text   1.000000  0.005640  1.00000\n"
     ]
    }
   ],
   "source": [
    "utils.run_kruskal('mode_manageable_code', part_file)"
   ]
  },
  {
   "cell_type": "code",
   "execution_count": 8,
   "metadata": {},
   "outputs": [
    {
     "name": "stdout",
     "output_type": "stream",
     "text": [
      "mode_manageable_collapsed_code     0     1     2\n",
      "condition                                       \n",
      "full                            0.11  0.57  0.32\n",
      "score                           0.29  0.60  0.11\n",
      "text                            0.09  0.50  0.41\n",
      "KruskalResult(statistic=18.0050963997392, pvalue=0.00012309573156971953)\n",
      "           full     score      text\n",
      "full   1.000000  0.004869  1.000000\n",
      "score  0.004869  1.000000  0.000158\n",
      "text   1.000000  0.000158  1.000000\n"
     ]
    }
   ],
   "source": [
    "utils.run_kruskal('mode_manageable_collapsed_code', part_file)"
   ]
  },
  {
   "cell_type": "markdown",
   "metadata": {},
   "source": [
    "**ACTIONABLE**"
   ]
  },
  {
   "cell_type": "code",
   "execution_count": 9,
   "metadata": {},
   "outputs": [
    {
     "name": "stdout",
     "output_type": "stream",
     "text": [
      "mode_actionable_code     0     1     2     3     4\n",
      "condition                                         \n",
      "full                  0.02  0.09  0.23  0.52  0.14\n",
      "score                 0.13  0.27  0.27  0.22  0.11\n",
      "text                  0.07  0.07  0.14  0.50  0.21\n",
      "KruskalResult(statistic=17.87965410005658, pvalue=0.000131063705685374)\n",
      "           full     score      text\n",
      "full   1.000000  0.001976  1.000000\n",
      "score  0.001976  1.000000  0.000311\n",
      "text   1.000000  0.000311  1.000000\n"
     ]
    }
   ],
   "source": [
    "utils.run_kruskal('mode_actionable_code', part_file)"
   ]
  },
  {
   "cell_type": "code",
   "execution_count": 10,
   "metadata": {},
   "outputs": [
    {
     "name": "stdout",
     "output_type": "stream",
     "text": [
      "mode_actionable_collapsed_code     0     1     2\n",
      "condition                                       \n",
      "full                            0.12  0.21  0.66\n",
      "score                           0.38  0.27  0.35\n",
      "text                            0.16  0.14  0.70\n",
      "KruskalResult(statistic=18.162206350047175, pvalue=0.00011379600128032981)\n",
      "           full     score      text\n",
      "full   1.000000  0.000846  1.000000\n",
      "score  0.000846  1.000000  0.000514\n",
      "text   1.000000  0.000514  1.000000\n"
     ]
    }
   ],
   "source": [
    "utils.run_kruskal('mode_actionable_collapsed_code', part_file)"
   ]
  },
  {
   "cell_type": "markdown",
   "metadata": {},
   "source": [
    "**TIMELY**"
   ]
  },
  {
   "cell_type": "code",
   "execution_count": 11,
   "metadata": {},
   "outputs": [
    {
     "name": "stdout",
     "output_type": "stream",
     "text": [
      "mode_timely_code     0     1     2     3     4\n",
      "condition                                     \n",
      "full              0.00  0.00  0.77  0.11  0.12\n",
      "score             0.02  0.05  0.65  0.16  0.11\n",
      "text              0.02  0.00  0.61  0.16  0.21\n",
      "KruskalResult(statistic=3.3138701960225885, pvalue=0.19072263139989332)\n"
     ]
    }
   ],
   "source": [
    "utils.run_kruskal('mode_timely_code', part_file)"
   ]
  },
  {
   "cell_type": "code",
   "execution_count": 12,
   "metadata": {},
   "outputs": [
    {
     "name": "stdout",
     "output_type": "stream",
     "text": [
      "mode_timely_collapsed_code     0     1     2\n",
      "condition                                   \n",
      "full                        0.02  0.73  0.25\n",
      "score                       0.07  0.65  0.27\n",
      "text                        0.02  0.59  0.39\n",
      "KruskalResult(statistic=3.4705139423256925, pvalue=0.17635487634546845)\n"
     ]
    }
   ],
   "source": [
    "utils.run_kruskal('mode_timely_collapsed_code', part_file)"
   ]
  },
  {
   "cell_type": "markdown",
   "metadata": {},
   "source": [
    "**REFLECTION**"
   ]
  },
  {
   "cell_type": "code",
   "execution_count": 13,
   "metadata": {},
   "outputs": [
    {
     "name": "stdout",
     "output_type": "stream",
     "text": [
      "mode_reflection_code     0     1     2     3     4\n",
      "condition                                         \n",
      "full                  0.04  0.05  0.23  0.45  0.23\n",
      "score                 0.07  0.09  0.20  0.44  0.20\n",
      "text                  0.09  0.07  0.23  0.43  0.18\n",
      "KruskalResult(statistic=1.1723319769445821, pvalue=0.5564566613531314)\n"
     ]
    }
   ],
   "source": [
    "utils.run_kruskal('mode_reflection_code', part_file)"
   ]
  },
  {
   "cell_type": "code",
   "execution_count": 14,
   "metadata": {},
   "outputs": [
    {
     "name": "stdout",
     "output_type": "stream",
     "text": [
      "mode_reflection_collapsed_code     0     1     2\n",
      "condition                                       \n",
      "full                            0.11  0.20  0.70\n",
      "score                           0.18  0.18  0.64\n",
      "text                            0.16  0.20  0.64\n",
      "KruskalResult(statistic=0.7949062470991067, pvalue=0.6720294442641839)\n"
     ]
    }
   ],
   "source": [
    "utils.run_kruskal('mode_reflection_collapsed_code', part_file)"
   ]
  },
  {
   "cell_type": "markdown",
   "metadata": {},
   "source": [
    "### Did they think the feedback helped?"
   ]
  },
  {
   "cell_type": "code",
   "execution_count": 30,
   "metadata": {},
   "outputs": [
    {
     "name": "stdout",
     "output_type": "stream",
     "text": [
      "feedback_helped_collapsed_code     0     1     2\n",
      "condition                                       \n",
      "full                            0.20  0.20  0.61\n",
      "score                           0.35  0.20  0.45\n",
      "text                            0.27  0.07  0.66\n",
      "KruskalResult(statistic=4.499176846494924, pvalue=0.1054426133607275)\n"
     ]
    }
   ],
   "source": [
    "utils.run_kruskal('feedback_helped_collapsed_code', part_file)"
   ]
  },
  {
   "cell_type": "markdown",
   "metadata": {},
   "source": [
    "## Evolution of Performance"
   ]
  },
  {
   "cell_type": "markdown",
   "metadata": {},
   "source": [
    "For each condition, plot out the success of the trial for each participant"
   ]
  },
  {
   "cell_type": "code",
   "execution_count": null,
   "metadata": {},
   "outputs": [],
   "source": [
    "fig, axs = plt.subplots(1,3, figsize=(8,6))\n",
    "n_trials = 20\n",
    "\n",
    "conditions = list(ids.keys())\n",
    "\n",
    "# for each condition\n",
    "for a in range(len(axs)):\n",
    "    overall_scores = []\n",
    "\n",
    "    # for each participant in that condition\n",
    "    for i in range(len(ids[conditions[a]])):\n",
    "        part = ids[conditions[a]].iloc[i]\n",
    "        data = pd.read_csv(data_dir + part + '/survey_responses.csv')\n",
    "\n",
    "        # score for that participant\n",
    "        data['outcome_sore'] = 0\n",
    "        data.loc[data['outcome'] == 'Unsafe', 'outcome_score'] = 3\n",
    "        data.loc[data['outcome'] == 'Crash', 'outcome_score'] = 5\n",
    "\n",
    "        total_score = data['outcome_score'].sum()\n",
    "        overall_scores.append((i, part, total_score))\n",
    "\n",
    "    # sort participants for this condition\n",
    "    sorted_participants = sorted(overall_scores, key=lambda x: x[2], reverse=True)\n",
    "\n",
    "    # plot all participants in sorted order\n",
    "    for sorted_index, (_, part, _) in enumerate(sorted_participants):\n",
    "        data = pd.read_csv(data_dir + part + '/survey_responses.csv')\n",
    "\n",
    "        # plot all trials for that participant\n",
    "        for trial in range(n_trials):\n",
    "            try:\n",
    "                outcome = data[data['trial'] == trial+1]['outcome'].values[0]\n",
    "                if outcome == 'Safe':\n",
    "                    axs[a].plot(trial, sorted_index, 'go')\n",
    "                elif outcome == 'Unsafe':\n",
    "                    axs[a].plot(trial, sorted_index, 'ko')\n",
    "                else:\n",
    "                    axs[a].plot(trial, sorted_index, 'ro')\n",
    "            except:\n",
    "                print(f\"skipping participant {part} trial {trial}\")\n",
    "\n",
    "    axs[a].set_aspect('equal')\n",
    "    axs[a].set_title(f'{conditions[a]}')\n",
    "\n",
    "plt.show()"
   ]
  },
  {
   "cell_type": "code",
   "execution_count": null,
   "metadata": {},
   "outputs": [],
   "source": [
    "fig, axs = plt.subplots(1,3, figsize=(8,6))\n",
    "n_trials = 20\n",
    "\n",
    "conditions = list(ids.keys())\n",
    "\n",
    "# for each condition\n",
    "for a in range(len(axs)):\n",
    "    overall_scores = []\n",
    "\n",
    "    # for each participant in that condition\n",
    "    for i in range(len(ids[conditions[a]])):\n",
    "        part = ids[conditions[a]].iloc[i]\n",
    "        data = pd.read_csv(data_dir + part + '/survey_responses.csv')\n",
    "\n",
    "        # score for that participant\n",
    "        data['outcome_sore'] = 0\n",
    "        data.loc[data['outcome'] == 'Crash', 'outcome_score'] = 3\n",
    "\n",
    "        total_score = data['outcome_score'].sum()\n",
    "        overall_scores.append((i, part, total_score))\n",
    "\n",
    "    # sort participants for this condition\n",
    "    sorted_participants = sorted(overall_scores, key=lambda x: x[2], reverse=True)\n",
    "\n",
    "    # plot all participants in sorted order\n",
    "    for sorted_index, (_, part, _) in enumerate(sorted_participants):\n",
    "        data = pd.read_csv(data_dir + part + '/survey_responses.csv')\n",
    "\n",
    "        # plot all trials for that participant\n",
    "        for trial in range(n_trials):\n",
    "            try:\n",
    "                outcome = data[data['trial'] == trial+1]['outcome'].values[0]\n",
    "                if outcome == 'Safe' or outcome == 'Unsafe':\n",
    "                    axs[a].plot(trial, sorted_index, 'ko')\n",
    "                else:\n",
    "                    axs[a].plot(trial, sorted_index, 'ro')\n",
    "            except:\n",
    "                print(f\"skipping participant {part} trial {trial}\")\n",
    "\n",
    "    axs[a].set_aspect('equal')\n",
    "    axs[a].set_title(f'{conditions[a]}')\n",
    "\n",
    "plt.show()"
   ]
  },
  {
   "cell_type": "markdown",
   "metadata": {},
   "source": [
    "### Recent stuff I haven't organized yet"
   ]
  },
  {
   "cell_type": "code",
   "execution_count": null,
   "metadata": {},
   "outputs": [],
   "source": [
    "# calculate if each participant got a safe landing within the first 5 trials\n",
    "part_file['safe_in_first_5'] = False\n",
    "part_file['land_in_first_5'] = False\n",
    "part_file['safe_last_5'] = 0\n",
    "part_file['unsafe_last_5'] = 0\n",
    "part_file['land_last_5'] = 0\n",
    "part_file['crash_last_5'] = 0\n",
    "\n",
    "for part in part_file['prolific_id']:\n",
    "    data = pd.read_csv(data_dir + part + '/survey_responses.csv')\n",
    "    first_five = data[data['trial'] <= 5]\n",
    "    last_five = data[data['trial'] >= 16]\n",
    "\n",
    "    n_safe = (first_five['outcome'] == 'Safe').sum()\n",
    "    if n_safe > 0:\n",
    "        part_file.loc[part_file['prolific_id'] == part, 'safe_in_first_5'] = True\n",
    "    n_land = (first_five['outcome'].isin(['Safe', 'Unsafe'])).sum()\n",
    "    if n_land > 0:\n",
    "        part_file.loc[part_file['prolific_id'] == part, 'land_in_first_5'] = True\n",
    "\n",
    "    n_safe = (last_five['outcome'] == 'Safe').sum()\n",
    "    n_unsafe = (last_five['outcome'] == 'Unsafe').sum()\n",
    "    n_crash = (last_five['outcome'] == 'Crash').sum()\n",
    "    n_land = n_safe + n_unsafe\n",
    "    part_file.loc[part_file['prolific_id'] == part, 'safe_last_5'] = n_safe\n",
    "    part_file.loc[part_file['prolific_id'] == part, 'unsafe_last_5'] = n_unsafe\n",
    "    part_file.loc[part_file['prolific_id'] == part, 'land_last_5'] = n_land\n",
    "    part_file.loc[part_file['prolific_id'] == part, 'crash_last_5'] = n_crash"
   ]
  },
  {
   "cell_type": "code",
   "execution_count": null,
   "metadata": {},
   "outputs": [],
   "source": [
    "struggle_land_ids = part_file[part_file['land_in_first_5'] == False]['prolific_id']\n",
    "struggle_safe_ids = part_file[part_file['safe_in_first_5'] == False]['prolific_id']"
   ]
  },
  {
   "cell_type": "code",
   "execution_count": null,
   "metadata": {},
   "outputs": [],
   "source": [
    "part_file.groupby('condition')['safe_in_first_5'].value_counts().unstack()"
   ]
  },
  {
   "cell_type": "code",
   "execution_count": null,
   "metadata": {},
   "outputs": [],
   "source": [
    "part_file['n_landings'] = part_file['n_safe_landings'] + part_file['n_unsafe_landings']\n",
    "part_file['any_landings'] = part_file['n_landings'] > 0"
   ]
  },
  {
   "cell_type": "code",
   "execution_count": null,
   "metadata": {},
   "outputs": [],
   "source": [
    "part_file.groupby('condition')['land_in_first_5'].value_counts().unstack()"
   ]
  },
  {
   "cell_type": "code",
   "execution_count": null,
   "metadata": {},
   "outputs": [],
   "source": [
    "part_file[part_file['prolific_id'].isin(struggle_safe_ids)].groupby('condition')['unsafe_last_5'].agg(['mean', 'std'])"
   ]
  },
  {
   "cell_type": "code",
   "execution_count": null,
   "metadata": {},
   "outputs": [],
   "source": [
    "utils.run_anova('unsafe_last_5', part_file[part_file['prolific_id'].isin(struggle_safe_ids)])"
   ]
  },
  {
   "cell_type": "code",
   "execution_count": null,
   "metadata": {},
   "outputs": [],
   "source": [
    "stats.ttest_ind(part_file.loc[(part_file['prolific_id'].isin(struggle_safe_ids)) & (part_file['condition'] == 'full'), 'n_crashes'],\n",
    "part_file.loc[(part_file['prolific_id'].isin(struggle_safe_ids)) & (part_file['condition'] == 'score'), 'n_crashes'])"
   ]
  },
  {
   "cell_type": "code",
   "execution_count": null,
   "metadata": {},
   "outputs": [],
   "source": [
    "stats.ttest_ind(part_file.loc[(part_file['prolific_id'].isin(struggle_safe_ids)) & (part_file['condition'] == 'full'), 'crash_last_5'],\n",
    "part_file.loc[(part_file['prolific_id'].isin(struggle_safe_ids)) & (part_file['condition'] == 'score'), 'crash_last_5'])"
   ]
  },
  {
   "cell_type": "code",
   "execution_count": null,
   "metadata": {},
   "outputs": [],
   "source": [
    "stats.ttest_ind(part_file.loc[(part_file['prolific_id'].isin(struggle_safe_ids)) & (part_file['condition'] == 'full'), 'land_last_5'],\n",
    "part_file.loc[(part_file['prolific_id'].isin(struggle_safe_ids)) & (part_file['condition'] == 'score'), 'land_last_5'])"
   ]
  },
  {
   "cell_type": "code",
   "execution_count": null,
   "metadata": {},
   "outputs": [],
   "source": [
    "fig, axs = plt.subplots(1,3, figsize=(12,4), sharey=True)\n",
    "\n",
    "conditions = list(ids.keys())\n",
    "\n",
    "# for each condition\n",
    "for a in range(len(axs)):\n",
    "    data = part_file[part_file['condition'] == conditions[a]]['n_landings']\n",
    "    axs[a].hist(data,bins=10,range=(0,20))\n",
    "    axs[a].set_title(f'{conditions[a]}')\n",
    "    axs[a].set_xlim(0,20)\n",
    "\n",
    "plt.show()"
   ]
  },
  {
   "cell_type": "code",
   "execution_count": null,
   "metadata": {},
   "outputs": [],
   "source": [
    "fig, axs = plt.subplots(1,2, figsize=(8,4))\n",
    "\n",
    "conditions = list(ids.keys())\n",
    "quarters = [(1,5), (6,10), (11,15), (16,20)]\n",
    "\n",
    "for c in conditions:\n",
    "    points = []\n",
    "    errs = []\n",
    "    for first, last in quarters:\n",
    "        data = trial_file.loc[(trial_file['condition'] == c) & (trial_file['trial'] >= first) & (trial_file['trial'] <= last)]\n",
    "        data['landed'] = data['outcome'].isin(['Safe', 'Unsafe'])\n",
    "        data['successful'] = data['outcome'] == 'Safe'\n",
    "        avg_land = data.groupby('prolific_id')['landed'].sum().mean()\n",
    "        land_err = data.groupby('prolific_id')['landed'].sum().std()\n",
    "        avg_success = data.groupby('prolific_id')['successful'].sum().mean()\n",
    "        success_err = data.groupby('prolific_id')['successful'].sum().std()\n",
    "        points.append((avg_land, avg_success))\n",
    "        errs.append((land_err, success_err))\n",
    "    for a in range(len(axs)):\n",
    "        x = list(range(len(quarters)))\n",
    "        # axs[a].errorbar(x, [pt[a] for pt in points], [er[a] for er in errs], label=c)\n",
    "        axs[a].plot(x, [pt[a] for pt in points], label=c)\n",
    "        axs[a].set_ylim(0,5)\n",
    "        axs[a].set_title(['non-crashes', 'safe'][a])\n",
    "\n",
    "plt.legend()\n",
    "plt.show()"
   ]
  },
  {
   "cell_type": "code",
   "execution_count": null,
   "metadata": {},
   "outputs": [],
   "source": [
    "fig, axs = plt.subplots(1,2, figsize=(8,4))\n",
    "\n",
    "conditions = list(ids.keys())\n",
    "n_trials = 20\n",
    "\n",
    "for c in conditions:\n",
    "    points = []\n",
    "    errs = []\n",
    "    for t in range(n_trials):\n",
    "        data = trial_file.loc[(trial_file['condition'] == c) &  (trial_file['trial'] <= t)]\n",
    "        data['landed'] = data['outcome'].isin(['Safe', 'Unsafe'])\n",
    "        data['successful'] = data['outcome'] == 'Safe'\n",
    "        avg_land = data.groupby('prolific_id')['landed'].sum().mean()\n",
    "        land_err = data.groupby('prolific_id')['landed'].sum().std()\n",
    "        avg_success = data.groupby('prolific_id')['successful'].sum().mean()\n",
    "        success_err = data.groupby('prolific_id')['successful'].sum().std()\n",
    "        points.append((avg_land, avg_success))\n",
    "        errs.append((land_err, success_err))\n",
    "    for a in range(len(axs)):\n",
    "        x = list(range(n_trials))\n",
    "        # axs[a].errorbar(x, [pt[a] for pt in points], [er[a] for er in errs], label=c)\n",
    "        axs[a].plot(x, [pt[a] for pt in points], label=c)\n",
    "        axs[a].set_title(['non-crashes', 'safe'][a])\n",
    "\n",
    "plt.legend()\n",
    "plt.show()"
   ]
  },
  {
   "cell_type": "code",
   "execution_count": null,
   "metadata": {},
   "outputs": [],
   "source": [
    "conditions = list(ids.keys())\n",
    "n_trials = 20\n",
    "\n",
    "for c in conditions:\n",
    "    points = []\n",
    "    errs = []\n",
    "    for t in range(n_trials):\n",
    "        data = trial_file.loc[(trial_file['condition'] == c) &  (trial_file['trial'] == t)]\n",
    "        avg_time = data['trial_time_seconds'].mean()\n",
    "        time_err = data['trial_time_seconds'].std()\n",
    "        points.append(avg_time)\n",
    "        errs.append(time_err)\n",
    "    x = list(range(n_trials))\n",
    "    # plt.errorbar(x, points, errs, label=c)\n",
    "    plt.plot(x, points, alpha=0.35, label=c)\n",
    "\n",
    "points_all = []\n",
    "for t in range(n_trials):\n",
    "        data = trial_file.loc[(trial_file['trial'] == t)]\n",
    "        avg_time = data['trial_time_seconds'].mean()\n",
    "        # time_err = data['trial_time_seconds'].std()\n",
    "        points_all.append(avg_time)\n",
    "        # errs.append(time_err)\n",
    "plt.plot(points_all, 'k', label='overall')\n",
    "\n",
    "\n",
    "plt.title('average trial time')\n",
    "plt.legend()\n",
    "plt.show()"
   ]
  },
  {
   "cell_type": "code",
   "execution_count": null,
   "metadata": {},
   "outputs": [],
   "source": [
    "conditions = list(ids.keys())\n",
    "n_trials = 20\n",
    "\n",
    "for c in conditions:\n",
    "    points = []\n",
    "    errs = []\n",
    "    for t in range(n_trials):\n",
    "        data = trial_file.loc[(trial_file['condition'] == c) &  (trial_file['trial'] == t)]\n",
    "        avg_time = data['feedback_time_seconds'].mean()\n",
    "        time_err = data['feedback_time_seconds'].std()\n",
    "        points.append(avg_time)\n",
    "        errs.append(time_err)\n",
    "    x = list(range(n_trials))\n",
    "    # plt.errorbar(x, points, errs, label=c)\n",
    "    plt.plot(x, points, alpha=0.35, label=c)\n",
    "\n",
    "points_all = []\n",
    "for t in range(n_trials):\n",
    "        data = trial_file.loc[(trial_file['trial'] == t)]\n",
    "        avg_time = data['feedback_time_seconds'].mean()\n",
    "        # time_err = data['trial_time_seconds'].std()\n",
    "        points_all.append(avg_time)\n",
    "        # errs.append(time_err)\n",
    "plt.plot(points_all, 'k', label='overall')\n",
    "\n",
    "\n",
    "plt.title('average feedback time')\n",
    "plt.legend()\n",
    "plt.show()"
   ]
  },
  {
   "cell_type": "code",
   "execution_count": null,
   "metadata": {},
   "outputs": [],
   "source": [
    "utils.run_anova('avg_trial_time_seconds', part_file)"
   ]
  },
  {
   "cell_type": "code",
   "execution_count": null,
   "metadata": {},
   "outputs": [],
   "source": [
    "utils.run_anova('avg_feedback_time_seconds', part_file)"
   ]
  },
  {
   "cell_type": "code",
   "execution_count": null,
   "metadata": {},
   "outputs": [],
   "source": [
    "part_file['got_10_landings'] = part_file['n_landings'] >= 10\n",
    "part_file.groupby('condition')['got_10_landings'].mean()"
   ]
  },
  {
   "cell_type": "code",
   "execution_count": null,
   "metadata": {},
   "outputs": [],
   "source": [
    "part_file['got_15_landings'] = part_file['n_landings'] >= 15\n",
    "part_file.groupby('condition')['got_15_landings'].mean()"
   ]
  },
  {
   "cell_type": "code",
   "execution_count": null,
   "metadata": {},
   "outputs": [],
   "source": [
    "c_table = part_file.groupby('condition')['got_15_landings'].value_counts().unstack()\n",
    "\n",
    "# Performing Fisher's Exact Test for each pair and applying Bonferroni correction\n",
    "p_values = []\n",
    "comparisons = [('full', 'score'), ('full', 'text'), ('score', 'text')]\n",
    "for group1, group2 in comparisons:\n",
    "    table = c_table.loc[[group1, group2], :]\n",
    "    oddsratio, p_value = stats.fisher_exact(table)\n",
    "    p_values.append(p_value)\n",
    "\n",
    "# Adjust p-values for multiple comparisons (Bonferroni correction)\n",
    "alpha = 0.05 / len(comparisons)\n",
    "significant_results = [p < alpha for p in p_values]\n",
    "\n",
    "# Output results\n",
    "print(f\"Adjusted alpha (Bonferroni): {alpha}\")\n",
    "print(f\"P-values: {p_values}\")\n",
    "print(f\"Significant results: {significant_results}\")"
   ]
  },
  {
   "cell_type": "code",
   "execution_count": null,
   "metadata": {},
   "outputs": [],
   "source": [
    "part_file.groupby('condition')['n_landings'].mean().round(2)"
   ]
  },
  {
   "cell_type": "code",
   "execution_count": null,
   "metadata": {},
   "outputs": [],
   "source": [
    "part_file.groupby('condition')['n_safe_landings'].sum()"
   ]
  },
  {
   "cell_type": "code",
   "execution_count": null,
   "metadata": {},
   "outputs": [],
   "source": [
    "part_file.groupby('condition')['n_unsafe_landings'].sum()"
   ]
  },
  {
   "cell_type": "code",
   "execution_count": null,
   "metadata": {},
   "outputs": [],
   "source": [
    "part_file.groupby('condition')['n_crashes'].sum()"
   ]
  },
  {
   "cell_type": "code",
   "execution_count": null,
   "metadata": {},
   "outputs": [],
   "source": [
    "part_file.groupby('condition')['n_landings'].agg(['sum', 'mean', 'std']).round(2)"
   ]
  },
  {
   "cell_type": "code",
   "execution_count": null,
   "metadata": {},
   "outputs": [],
   "source": [
    "utils.run_anova('n_landings', part_file)"
   ]
  },
  {
   "cell_type": "code",
   "execution_count": null,
   "metadata": {},
   "outputs": [],
   "source": [
    "part_file['any_safe_landings'] = part_file['n_safe_landings'] > 0\n",
    "part_file['3_safe_landings'] = part_file['n_safe_landings'] >= 3"
   ]
  },
  {
   "cell_type": "code",
   "execution_count": null,
   "metadata": {},
   "outputs": [],
   "source": [
    "print(part_file.groupby('condition')['any_safe_landings'].value_counts().unstack())\n",
    "print(part_file.groupby('condition')['3_safe_landings'].value_counts().unstack())"
   ]
  },
  {
   "cell_type": "code",
   "execution_count": null,
   "metadata": {},
   "outputs": [],
   "source": [
    "c_table = part_file.groupby('condition')['any_safe_landings'].value_counts().unstack()\n",
    "\n",
    "# Performing Fisher's Exact Test for each pair and applying Bonferroni correction\n",
    "p_values = []\n",
    "comparisons = [('full', 'score'), ('full', 'text'), ('score', 'text')]\n",
    "for group1, group2 in comparisons:\n",
    "    table = c_table.loc[[group1, group2], :]\n",
    "    oddsratio, p_value = stats.fisher_exact(table)\n",
    "    p_values.append(p_value)\n",
    "\n",
    "# Adjust p-values for multiple comparisons (Bonferroni correction)\n",
    "alpha = 0.05 / len(comparisons)\n",
    "significant_results = [p < alpha for p in p_values]\n",
    "\n",
    "# Output results\n",
    "print(f\"Adjusted alpha (Bonferroni): {alpha}\")\n",
    "print(f\"P-values: {p_values}\")\n",
    "print(f\"Significant results: {significant_results}\")"
   ]
  },
  {
   "cell_type": "code",
   "execution_count": null,
   "metadata": {},
   "outputs": [],
   "source": [
    "c_table = part_file.groupby('condition')['3_safe_landings'].value_counts().unstack()\n",
    "\n",
    "# Performing Fisher's Exact Test for each pair and applying Bonferroni correction\n",
    "p_values = []\n",
    "comparisons = [('full', 'score'), ('full', 'text'), ('score', 'text')]\n",
    "for group1, group2 in comparisons:\n",
    "    table = c_table.loc[[group1, group2], :]\n",
    "    res = stats.chi2_contingency(table)\n",
    "    p_values.append(res.pvalue)\n",
    "\n",
    "# Adjust p-values for multiple comparisons (Bonferroni correction)\n",
    "alpha = 0.05 / len(comparisons)\n",
    "significant_results = [p < alpha for p in p_values]\n",
    "\n",
    "# Output results\n",
    "print(f\"Adjusted alpha (Bonferroni): {alpha}\")\n",
    "print(f\"P-values: {p_values}\")\n",
    "print(f\"Significant results: {significant_results}\")"
   ]
  },
  {
   "cell_type": "code",
   "execution_count": null,
   "metadata": {},
   "outputs": [],
   "source": [
    "# calculate which trial they first achieved three successes in a row\n",
    "part_file['three_in_a_row_idx'] = 0\n",
    "n_trials = 20\n",
    "for i in range(len(part_file)):\n",
    "    part = part_file.iloc[i]\n",
    "    data = pd.read_csv(data_dir + part['prolific_id'] + '/survey_responses.csv')\n",
    "    for trial in range(n_trials-2):\n",
    "        try:\n",
    "            if (data['outcome'].iloc[trial] == 'Safe') & (data['outcome'].iloc[trial+1] == 'Safe') & (data['outcome'].iloc[trial+2] == 'Safe'):\n",
    "                part_file.loc[part_file['prolific_id'] == part['prolific_id'], 'three_in_a_row_idx'] = trial + 1\n",
    "                break\n",
    "        except:\n",
    "            print(f\"skipping participant {part['prolific_id']} trial {trial}\")"
   ]
  },
  {
   "cell_type": "code",
   "execution_count": null,
   "metadata": {},
   "outputs": [],
   "source": [
    "part_file[['prolific_id', 'three_in_a_row_idx']].head(10)"
   ]
  },
  {
   "cell_type": "code",
   "execution_count": null,
   "metadata": {},
   "outputs": [],
   "source": [
    "part_file['five_in_a_row_idx'] = 0\n",
    "n_trials = 20\n",
    "for i in range(len(part_file)):\n",
    "    part = part_file.iloc[i]\n",
    "    data = pd.read_csv(data_dir + part['prolific_id'] + '/survey_responses.csv')\n",
    "    for trial in range(n_trials-4):\n",
    "        try:\n",
    "            if (data['outcome'].iloc[trial] == 'Safe') & (data['outcome'].iloc[trial+1] == 'Safe') & (data['outcome'].iloc[trial+2] == 'Safe') & (data['outcome'].iloc[trial+3] == 'Safe') & (data['outcome'].iloc[trial+4] == 'Safe'):\n",
    "                part_file.loc[part_file['prolific_id'] == part['prolific_id'], 'five_in_a_row_idx'] = trial + 1\n",
    "                break\n",
    "        except:\n",
    "            print(f\"skipping participant {part['prolific_id']} trial {trial}\")"
   ]
  },
  {
   "cell_type": "code",
   "execution_count": null,
   "metadata": {},
   "outputs": [],
   "source": [
    "part_file['reached_mastery_3'] = part_file['three_in_a_row_idx'] > 0\n",
    "part_file['reached_mastery_5'] = part_file['five_in_a_row_idx'] > 0\n",
    "\n",
    "print(part_file.groupby('condition')['reached_mastery_3'].value_counts().unstack())\n",
    "print(part_file.groupby('condition')['reached_mastery_5'].value_counts().unstack())"
   ]
  },
  {
   "cell_type": "code",
   "execution_count": null,
   "metadata": {},
   "outputs": [],
   "source": [
    "c_table = part_file.groupby('condition')['reached_mastery_3'].value_counts().unstack()\n",
    "\n",
    "# Performing Fisher's Exact Test for each pair and applying Bonferroni correction\n",
    "p_values = []\n",
    "comparisons = [('full', 'score'), ('full', 'text'), ('score', 'text')]\n",
    "for group1, group2 in comparisons:\n",
    "    table = c_table.loc[[group1, group2], :]\n",
    "    res = stats.fisher_exact(table)\n",
    "    p_values.append(res.pvalue)\n",
    "\n",
    "# Adjust p-values for multiple comparisons (Bonferroni correction)\n",
    "alpha = 0.05 / len(comparisons)\n",
    "significant_results = [p < alpha for p in p_values]\n",
    "\n",
    "# Output results\n",
    "print(f\"Adjusted alpha (Bonferroni): {alpha}\")\n",
    "print(f\"P-values: {p_values}\")\n",
    "print(f\"Significant results: {significant_results}\")"
   ]
  },
  {
   "cell_type": "code",
   "execution_count": null,
   "metadata": {},
   "outputs": [],
   "source": [
    "c_table = part_file.groupby('condition')['reached_mastery_5'].value_counts().unstack()\n",
    "\n",
    "# Performing Fisher's Exact Test for each pair and applying Bonferroni correction\n",
    "p_values = []\n",
    "comparisons = [('full', 'score'), ('full', 'text'), ('score', 'text')]\n",
    "for group1, group2 in comparisons:\n",
    "    table = c_table.loc[[group1, group2], :]\n",
    "    res = stats.fisher_exact(table)\n",
    "    p_values.append(res.pvalue)\n",
    "\n",
    "# Adjust p-values for multiple comparisons (Bonferroni correction)\n",
    "alpha = 0.05 / len(comparisons)\n",
    "significant_results = [p < alpha for p in p_values]\n",
    "\n",
    "# Output results\n",
    "print(f\"Adjusted alpha (Bonferroni): {alpha}\")\n",
    "print(f\"P-values: {p_values}\")\n",
    "print(f\"Significant results: {significant_results}\")"
   ]
  },
  {
   "cell_type": "code",
   "execution_count": null,
   "metadata": {},
   "outputs": [],
   "source": [
    "print(part_file[part_file['three_in_a_row_idx'] > 0].groupby('condition')['three_in_a_row_idx'].mean())\n",
    "print(part_file[part_file['five_in_a_row_idx'] > 0].groupby('condition')['five_in_a_row_idx'].mean())"
   ]
  },
  {
   "cell_type": "code",
   "execution_count": null,
   "metadata": {},
   "outputs": [],
   "source": [
    "utils.run_kruskal('three_in_a_row_idx', part_file[part_file['three_in_a_row_idx'] > 0])"
   ]
  },
  {
   "cell_type": "code",
   "execution_count": null,
   "metadata": {},
   "outputs": [],
   "source": [
    "utils.run_anova('three_in_a_row_idx', part_file[part_file['three_in_a_row_idx'] > 0])"
   ]
  },
  {
   "cell_type": "code",
   "execution_count": null,
   "metadata": {},
   "outputs": [],
   "source": [
    "utils.run_kruskal('five_in_a_row_idx', part_file[part_file['five_in_a_row_idx'] > 0])"
   ]
  },
  {
   "cell_type": "code",
   "execution_count": null,
   "metadata": {},
   "outputs": [],
   "source": [
    "c_table = part_file.groupby('condition')['achieved_mastery_3'].value_counts().unstack()\n",
    "\n",
    "# Performing Fisher's Exact Test for each pair and applying Bonferroni correction\n",
    "p_values = []\n",
    "comparisons = [('full', 'score'), ('full', 'text'), ('score', 'text')]\n",
    "for group1, group2 in comparisons:\n",
    "    table = c_table.loc[[group1, group2], :]\n",
    "    res = stats.fisher_exact(table)\n",
    "    p_values.append(res.pvalue)\n",
    "\n",
    "# Adjust p-values for multiple comparisons (Bonferroni correction)\n",
    "alpha = 0.05 / len(comparisons)\n",
    "significant_results = [p < alpha for p in p_values]\n",
    "\n",
    "# Output results\n",
    "print(f\"Adjusted alpha (Bonferroni): {alpha}\")\n",
    "print(f\"P-values: {p_values}\")\n",
    "print(f\"Significant results: {significant_results}\")"
   ]
  },
  {
   "cell_type": "code",
   "execution_count": null,
   "metadata": {},
   "outputs": [],
   "source": [
    "part_file['achieved_mastery_5'] = part_file['five_in_a_row_idx'] > 0\n",
    "c_table = part_file.groupby('condition')['achieved_mastery_5'].value_counts().unstack()\n",
    "\n",
    "# Performing Fisher's Exact Test for each pair and applying Bonferroni correction\n",
    "p_values = []\n",
    "comparisons = [('full', 'score'), ('full', 'text'), ('score', 'text')]\n",
    "for group1, group2 in comparisons:\n",
    "    table = c_table.loc[[group1, group2], :]\n",
    "    res = stats.fisher_exact(table)\n",
    "    p_values.append(res.pvalue)\n",
    "\n",
    "# Adjust p-values for multiple comparisons (Bonferroni correction)\n",
    "alpha = 0.05 / len(comparisons)\n",
    "significant_results = [p < alpha for p in p_values]\n",
    "\n",
    "# Output results\n",
    "print(f\"Adjusted alpha (Bonferroni): {alpha}\")\n",
    "print(f\"P-values: {p_values}\")\n",
    "print(f\"Significant results: {significant_results}\")"
   ]
  },
  {
   "cell_type": "code",
   "execution_count": null,
   "metadata": {},
   "outputs": [],
   "source": [
    "# label each unsafe trial with which mistake they are making\n",
    "trial_file['mistake'] = ''\n",
    "for part in part_file['prolific_id']:\n",
    "    data = pd.read_csv(data_dir + part + '/survey_responses.csv')\n",
    "    for trial in data['trial']:\n",
    "        if data.loc[data['trial'] == trial, 'outcome'].values[0] == 'Unsafe':\n",
    "            # read in robusness file\n",
    "            robustness = pd.read_csv(data_dir + part + f'/trial_{trial}/robustness.csv')\n",
    "            reasons = \"\"\n",
    "            if robustness.iloc[-1]['landing_speed'] < 0:\n",
    "                reasons += \"landing_speed \"\n",
    "            if robustness.iloc[-1]['landing_angle'] < 0:\n",
    "                reasons += \"landing_angle \"\n",
    "            elif (robustness.iloc[-1]['landing_angle'] > 0) & (robustness.iloc[-1]['landing_speed'] > 0):\n",
    "                reasons += \"something else \"\n",
    "            trial_file.loc[(trial_file['prolific_id'] == part) & (trial_file['trial'] == trial), 'mistake'] = reasons"
   ]
  },
  {
   "cell_type": "code",
   "execution_count": null,
   "metadata": {},
   "outputs": [],
   "source": [
    "trial_file['mistake'].value_counts()"
   ]
  },
  {
   "cell_type": "code",
   "execution_count": null,
   "metadata": {},
   "outputs": [],
   "source": [
    "trial_file.groupby(['condition', 'mistake'])['trial'].count().unstack().drop(columns=[''])"
   ]
  },
  {
   "cell_type": "code",
   "execution_count": null,
   "metadata": {},
   "outputs": [],
   "source": [
    "trial_file.groupby(['condition', 'mistake'])['trial'].mean().unstack().drop(columns=['']).round(2)"
   ]
  },
  {
   "cell_type": "code",
   "execution_count": null,
   "metadata": {},
   "outputs": [],
   "source": [
    "trial_file[trial_file['mistake'] == 'something else ']"
   ]
  },
  {
   "cell_type": "markdown",
   "metadata": {},
   "source": [
    "From manual inspection, it looks like the \"something else\" instances are edge cases where the drone lands right on the edge of the landing pad. it is technically in bounds by my measures, but may have been counted as out of bounds by the javascript simulation. Should we leave as is?"
   ]
  },
  {
   "cell_type": "code",
   "execution_count": null,
   "metadata": {},
   "outputs": [],
   "source": [
    "fig, axs = plt.subplots(1,3, figsize=(8,6))\n",
    "n_trials = 20\n",
    "\n",
    "conditions = list(ids.keys())\n",
    "\n",
    "for a in range(len(axs)):\n",
    "    for i in range(len(ids[conditions[a]])):\n",
    "        part = ids[conditions[a]].iloc[i]\n",
    "        for trial in range(n_trials):\n",
    "            try:\n",
    "                reason = trial_file[(trial_file['prolific_id'] == part) & (trial_file['trial'] == trial+1)]['mistake'].values[0]\n",
    "                if 'speed' in reason and 'angle' not in reason:\n",
    "                    axs[a].plot(trial, i, 'ro')\n",
    "                elif 'angle' in reason and 'speed' not in reason:\n",
    "                    axs[a].plot(trial, i, 'bo')\n",
    "                elif 'angle' in reason and 'speed' in reason:\n",
    "                    axs[a].plot(trial, i, 'ko')\n",
    "            except:\n",
    "                print(f\"skipping participant {part} trial {trial}\")\n",
    "\n",
    "    axs[a].set_aspect('equal')\n",
    "    axs[a].set_title(f'{conditions[a]}')\n",
    "\n",
    "plt.show()"
   ]
  },
  {
   "cell_type": "code",
   "execution_count": null,
   "metadata": {},
   "outputs": [],
   "source": [
    "part_file.groupby('condition')['land_last_5'].agg(['mean', 'std'])"
   ]
  },
  {
   "cell_type": "markdown",
   "metadata": {},
   "source": [
    "### Are there different numbers of successful trials between conditions?"
   ]
  },
  {
   "cell_type": "code",
   "execution_count": null,
   "metadata": {},
   "outputs": [],
   "source": [
    "part_file.groupby('condition')['n_crashes'].agg(['mean', 'std'])"
   ]
  },
  {
   "cell_type": "code",
   "execution_count": null,
   "metadata": {},
   "outputs": [],
   "source": [
    "utils.run_kruskal('n_safe_landings', part_file)"
   ]
  },
  {
   "cell_type": "code",
   "execution_count": null,
   "metadata": {},
   "outputs": [],
   "source": [
    "utils.run_anova('n_safe_landings', part_file)"
   ]
  },
  {
   "cell_type": "code",
   "execution_count": null,
   "metadata": {},
   "outputs": [],
   "source": [
    "utils.run_kruskal('n_unsafe_landings', part_file)"
   ]
  },
  {
   "cell_type": "code",
   "execution_count": null,
   "metadata": {},
   "outputs": [],
   "source": [
    "utils.run_anova('n_unsafe_landings', part_file)"
   ]
  },
  {
   "cell_type": "code",
   "execution_count": null,
   "metadata": {},
   "outputs": [],
   "source": [
    "utils.run_kruskal('n_crashes', part_file)"
   ]
  },
  {
   "cell_type": "code",
   "execution_count": null,
   "metadata": {},
   "outputs": [],
   "source": [
    "utils.run_anova('n_crashes', part_file)"
   ]
  },
  {
   "cell_type": "markdown",
   "metadata": {},
   "source": [
    "### Differences in outcomes in first/last half of the experiment?"
   ]
  },
  {
   "cell_type": "code",
   "execution_count": null,
   "metadata": {},
   "outputs": [],
   "source": [
    "utils.run_ttest_quantiles('Crash', [0.5, 0.5], part_file, trial_file)"
   ]
  },
  {
   "cell_type": "code",
   "execution_count": null,
   "metadata": {},
   "outputs": [],
   "source": [
    "utils.run_ttest_quantiles('Unsafe', [0.5, 0.5], part_file, trial_file)"
   ]
  },
  {
   "cell_type": "code",
   "execution_count": null,
   "metadata": {},
   "outputs": [],
   "source": [
    "utils.run_ttest_quantiles('Safe', [0.5, 0.5], part_file, trial_file)"
   ]
  },
  {
   "cell_type": "code",
   "execution_count": null,
   "metadata": {},
   "outputs": [],
   "source": [
    "utils.run_ttest_quantiles('Crash', [0.5, 0.5], part_file, trial_file, idx=ids['score'])"
   ]
  },
  {
   "cell_type": "code",
   "execution_count": null,
   "metadata": {},
   "outputs": [],
   "source": [
    "utils.run_ttest_quantiles('Unsafe', [0.5, 0.5], part_file, trial_file, idx=ids['score'])"
   ]
  },
  {
   "cell_type": "code",
   "execution_count": null,
   "metadata": {},
   "outputs": [],
   "source": [
    "utils.run_ttest_quantiles('Safe', [0.5, 0.5], part_file, trial_file, idx=ids['score'])"
   ]
  },
  {
   "cell_type": "code",
   "execution_count": null,
   "metadata": {},
   "outputs": [],
   "source": [
    "utils.run_ttest_quantiles('Crash', [0.5, 0.5], part_file, trial_file, idx=ids['text'])"
   ]
  },
  {
   "cell_type": "code",
   "execution_count": null,
   "metadata": {},
   "outputs": [],
   "source": [
    "utils.run_ttest_quantiles('Unsafe', [0.5, 0.5], part_file, trial_file, idx=ids['text'])"
   ]
  },
  {
   "cell_type": "code",
   "execution_count": null,
   "metadata": {},
   "outputs": [],
   "source": [
    "utils.run_ttest_quantiles('Safe', [0.5, 0.5], part_file, trial_file, idx=ids['text'])"
   ]
  },
  {
   "cell_type": "code",
   "execution_count": null,
   "metadata": {},
   "outputs": [],
   "source": [
    "utils.run_ttest_quantiles('Crash', [0.5, 0.5], part_file, trial_file, idx=ids['full'])"
   ]
  },
  {
   "cell_type": "code",
   "execution_count": null,
   "metadata": {},
   "outputs": [],
   "source": [
    "utils.run_ttest_quantiles('Unsafe', [0.5, 0.5], part_file, trial_file, idx=ids['full'])"
   ]
  },
  {
   "cell_type": "code",
   "execution_count": null,
   "metadata": {},
   "outputs": [],
   "source": [
    "utils.run_ttest_quantiles('Safe', [0.5, 0.5], part_file, trial_file, idx=ids['full'])"
   ]
  },
  {
   "cell_type": "code",
   "execution_count": null,
   "metadata": {},
   "outputs": [],
   "source": [
    "trialsh1 = trial_file[trial_file['trial'] <= 10]\n",
    "outcomesh1 = pd.merge(trialsh1.groupby('prolific_id')['outcome'].value_counts().unstack(), part_file[['prolific_id', 'condition']], left_index=True, right_on='prolific_id')\n",
    "\n",
    "trialsh2 = trial_file[trial_file['trial'] > 10]\n",
    "outcomesh2 = pd.merge(trialsh2.groupby('prolific_id')['outcome'].value_counts().unstack(), part_file[['prolific_id', 'condition']], left_index=True, right_on='prolific_id')\n",
    "\n",
    "outcomesh2['safe_diffs'] = outcomesh2['Safe'] - outcomesh1['Safe']\n",
    "outcomesh2['unsafe_diffs'] = outcomesh2['Unsafe'] - outcomesh1['Unsafe']\n",
    "outcomesh2['crash_diffs'] = outcomesh2['Crash'] - outcomesh1['Crash']"
   ]
  },
  {
   "cell_type": "code",
   "execution_count": null,
   "metadata": {},
   "outputs": [],
   "source": [
    "stats.f_oneway(outcomesh2[outcomesh2['condition'] == 'score']['safe_diffs'],\n",
    "              outcomesh2[outcomesh2['condition'] == 'text']['safe_diffs'],\n",
    "              outcomesh2[outcomesh2['condition'] == 'full']['safe_diffs'])"
   ]
  },
  {
   "cell_type": "code",
   "execution_count": null,
   "metadata": {},
   "outputs": [],
   "source": [
    "stats.kruskal(outcomesh2[outcomesh2['condition'] == 'score']['safe_diffs'],\n",
    "              outcomesh2[outcomesh2['condition'] == 'text']['safe_diffs'],\n",
    "              outcomesh2[outcomesh2['condition'] == 'full']['safe_diffs'])"
   ]
  },
  {
   "cell_type": "code",
   "execution_count": null,
   "metadata": {},
   "outputs": [],
   "source": [
    "stats.f_oneway(outcomesh2[outcomesh2['condition'] == 'score']['unsafe_diffs'],\n",
    "              outcomesh2[outcomesh2['condition'] == 'text']['unsafe_diffs'],\n",
    "              outcomesh2[outcomesh2['condition'] == 'full']['unsafe_diffs'])"
   ]
  },
  {
   "cell_type": "code",
   "execution_count": null,
   "metadata": {},
   "outputs": [],
   "source": [
    "stats.kruskal(outcomesh2[outcomesh2['condition'] == 'score']['unsafe_diffs'],\n",
    "              outcomesh2[outcomesh2['condition'] == 'text']['unsafe_diffs'],\n",
    "              outcomesh2[outcomesh2['condition'] == 'full']['unsafe_diffs'])"
   ]
  },
  {
   "cell_type": "code",
   "execution_count": null,
   "metadata": {},
   "outputs": [],
   "source": [
    "sp.posthoc_dunn(outcomesh2, val_col='unsafe_diffs', group_col='condition', p_adjust='bonferroni')"
   ]
  },
  {
   "cell_type": "code",
   "execution_count": null,
   "metadata": {},
   "outputs": [],
   "source": [
    "stats.f_oneway(outcomesh2[outcomesh2['condition'] == 'score']['crash_diffs'],\n",
    "              outcomesh2[outcomesh2['condition'] == 'text']['crash_diffs'],\n",
    "              outcomesh2[outcomesh2['condition'] == 'full']['crash_diffs'])"
   ]
  },
  {
   "cell_type": "code",
   "execution_count": null,
   "metadata": {},
   "outputs": [],
   "source": [
    "stats.kruskal(outcomesh2[outcomesh2['condition'] == 'score']['crash_diffs'],\n",
    "              outcomesh2[outcomesh2['condition'] == 'text']['crash_diffs'],\n",
    "              outcomesh2[outcomesh2['condition'] == 'full']['crash_diffs'])"
   ]
  },
  {
   "cell_type": "code",
   "execution_count": null,
   "metadata": {},
   "outputs": [],
   "source": [
    "outcomesh2.groupby('condition')[['crash_diffs','unsafe_diffs','safe_diffs']].mean().round(2)"
   ]
  },
  {
   "cell_type": "markdown",
   "metadata": {},
   "source": [
    "### What about first and last quarter?"
   ]
  },
  {
   "cell_type": "code",
   "execution_count": null,
   "metadata": {},
   "outputs": [],
   "source": [
    "utils.run_ttest_quantiles('Crash', [0.25, 0.75], part_file, trial_file)"
   ]
  },
  {
   "cell_type": "code",
   "execution_count": null,
   "metadata": {},
   "outputs": [],
   "source": [
    "utils.run_ttest_quantiles('Unsafe', [0.25, 0.75], part_file, trial_file)"
   ]
  },
  {
   "cell_type": "code",
   "execution_count": null,
   "metadata": {},
   "outputs": [],
   "source": [
    "utils.run_ttest_quantiles('Safe', [0.25, 0.75], part_file, trial_file)"
   ]
  },
  {
   "cell_type": "code",
   "execution_count": null,
   "metadata": {},
   "outputs": [],
   "source": [
    "utils.run_ttest_quantiles('Crash', [0.25, 0.75], part_file, trial_file, idx=ids['score'])"
   ]
  },
  {
   "cell_type": "code",
   "execution_count": null,
   "metadata": {},
   "outputs": [],
   "source": [
    "utils.run_ttest_quantiles('Unsafe', [0.25, 0.75], part_file, trial_file, idx=ids['score'])"
   ]
  },
  {
   "cell_type": "code",
   "execution_count": null,
   "metadata": {},
   "outputs": [],
   "source": [
    "utils.run_ttest_quantiles('Safe', [0.25, 0.75], part_file, trial_file, idx=ids['score'])"
   ]
  },
  {
   "cell_type": "code",
   "execution_count": null,
   "metadata": {},
   "outputs": [],
   "source": [
    "utils.run_ttest_quantiles('Crash', [0.25, 0.75], part_file, trial_file, idx=ids['text'])"
   ]
  },
  {
   "cell_type": "code",
   "execution_count": null,
   "metadata": {},
   "outputs": [],
   "source": [
    "utils.run_ttest_quantiles('Unsafe', [0.25, 0.75], part_file, trial_file, idx=ids['text'])"
   ]
  },
  {
   "cell_type": "code",
   "execution_count": null,
   "metadata": {},
   "outputs": [],
   "source": [
    "utils.run_ttest_quantiles('Safe', [0.25, 0.75], part_file, trial_file, idx=ids['text'])"
   ]
  },
  {
   "cell_type": "code",
   "execution_count": null,
   "metadata": {},
   "outputs": [],
   "source": [
    "utils.run_ttest_quantiles('Crash', [0.25, 0.75], part_file, trial_file, idx=ids['full'])"
   ]
  },
  {
   "cell_type": "code",
   "execution_count": null,
   "metadata": {},
   "outputs": [],
   "source": [
    "utils.run_ttest_quantiles('Unsafe', [0.25, 0.75], part_file, trial_file, idx=ids['full'])"
   ]
  },
  {
   "cell_type": "code",
   "execution_count": null,
   "metadata": {},
   "outputs": [],
   "source": [
    "utils.run_ttest_quantiles('Safe', [0.25, 0.75], part_file, trial_file, idx=ids['full'])"
   ]
  },
  {
   "cell_type": "code",
   "execution_count": null,
   "metadata": {},
   "outputs": [],
   "source": [
    "trialsq1 = trial_file[trial_file['trial'] <= 5]\n",
    "outcomesq1 = pd.merge(trialsq1.groupby('prolific_id')['outcome'].value_counts().unstack(), part_file[['prolific_id', 'condition']], left_index=True, right_on='prolific_id')\n",
    "\n",
    "trialsq4 = trial_file[trial_file['trial'] > 15]\n",
    "outcomesq4 = pd.merge(trialsq4.groupby('prolific_id')['outcome'].value_counts().unstack(), part_file[['prolific_id', 'condition']], left_index=True, right_on='prolific_id')\n",
    "\n",
    "outcomesq4['safe_diffs'] = outcomesq4['Safe'] - outcomesq1['Safe']\n",
    "outcomesq4['unsafe_diffs'] = outcomesq4['Unsafe'] - outcomesq1['Unsafe']\n",
    "outcomesq4['crash_diffs'] = outcomesq4['Crash'] - outcomesq1['Crash']"
   ]
  },
  {
   "cell_type": "code",
   "execution_count": null,
   "metadata": {},
   "outputs": [],
   "source": [
    "stats.f_oneway(outcomesq4[outcomesq4['condition'] == 'score']['safe_diffs'],\n",
    "              outcomesq4[outcomesq4['condition'] == 'text']['safe_diffs'],\n",
    "              outcomesq4[outcomesq4['condition'] == 'full']['safe_diffs'])"
   ]
  },
  {
   "cell_type": "code",
   "execution_count": null,
   "metadata": {},
   "outputs": [],
   "source": [
    "stats.kruskal(outcomesq4[outcomesq4['condition'] == 'score']['safe_diffs'],\n",
    "              outcomesq4[outcomesq4['condition'] == 'text']['safe_diffs'],\n",
    "              outcomesq4[outcomesq4['condition'] == 'full']['safe_diffs'])"
   ]
  },
  {
   "cell_type": "code",
   "execution_count": null,
   "metadata": {},
   "outputs": [],
   "source": [
    "stats.f_oneway(outcomesq4[outcomesq4['condition'] == 'score']['unsafe_diffs'],\n",
    "              outcomesq4[outcomesq4['condition'] == 'text']['unsafe_diffs'],\n",
    "              outcomesq4[outcomesq4['condition'] == 'full']['unsafe_diffs'])"
   ]
  },
  {
   "cell_type": "code",
   "execution_count": null,
   "metadata": {},
   "outputs": [],
   "source": [
    "stats.kruskal(outcomesq4[outcomesq4['condition'] == 'score']['unsafe_diffs'],\n",
    "              outcomesq4[outcomesq4['condition'] == 'text']['unsafe_diffs'],\n",
    "              outcomesq4[outcomesq4['condition'] == 'full']['unsafe_diffs'])"
   ]
  },
  {
   "cell_type": "code",
   "execution_count": null,
   "metadata": {},
   "outputs": [],
   "source": [
    "stats.f_oneway(outcomesq4[outcomesq4['condition'] == 'score']['crash_diffs'],\n",
    "              outcomesq4[outcomesq4['condition'] == 'text']['crash_diffs'],\n",
    "              outcomesq4[outcomesq4['condition'] == 'full']['crash_diffs'])"
   ]
  },
  {
   "cell_type": "code",
   "execution_count": null,
   "metadata": {},
   "outputs": [],
   "source": [
    "stats.kruskal(outcomesq4[outcomesq4['condition'] == 'score']['crash_diffs'],\n",
    "              outcomesq4[outcomesq4['condition'] == 'text']['crash_diffs'],\n",
    "              outcomesq4[outcomesq4['condition'] == 'full']['crash_diffs'])"
   ]
  },
  {
   "cell_type": "code",
   "execution_count": null,
   "metadata": {},
   "outputs": [],
   "source": [
    "outcomesq4.groupby('condition')[['crash_diffs','unsafe_diffs','safe_diffs']].mean()"
   ]
  },
  {
   "cell_type": "markdown",
   "metadata": {},
   "source": [
    "### Look at robustness and efficiency"
   ]
  },
  {
   "cell_type": "code",
   "execution_count": null,
   "metadata": {},
   "outputs": [],
   "source": [
    "# what are max and min values for the robustness and efficiency measures?\n",
    "robustness_cols = ['left_boundary',\t'right_boundary', 'top_boundary', 'bottom_boundary', 'landing_left', 'landing_right', 'landing_speed','landing_angle']\n",
    "robustness_files = glob.glob(f'{data_dir}*/*/robustness.csv')\n",
    "robustness_vals = {v : {'max':-99999, 'min':99999} for v in robustness_cols}"
   ]
  },
  {
   "cell_type": "code",
   "execution_count": null,
   "metadata": {},
   "outputs": [],
   "source": [
    "for f in robustness_files:\n",
    "    df = pd.read_csv(f)\n",
    "    for col in robustness_cols:\n",
    "        if df[col].min() < robustness_vals[col]['min']:\n",
    "            robustness_vals[col]['min'] = min(df[col])\n",
    "        if df[col].max() > robustness_vals[col]['max']:\n",
    "            robustness_vals[col]['max'] = max(df[col])\n",
    "\n",
    "robustness_vals"
   ]
  },
  {
   "cell_type": "code",
   "execution_count": null,
   "metadata": {},
   "outputs": [],
   "source": [
    "fig, axs = plt.subplots(1,4, figsize=(10,6))\n",
    "n_trials = 20\n",
    "var = 'landing_speed'\n",
    "\n",
    "cmap = mpl.cm.seismic\n",
    "norm = mpl.colors.Normalize(vmin=robustness_vals[var]['max'], vmax=robustness_vals[var]['min'])\n",
    "\n",
    "conditions = list(ids.keys())\n",
    "\n",
    "for a in range(len(axs)-1):\n",
    "    for i in range(len(ids[conditions[a]])):\n",
    "        part = ids[conditions[a]].iloc[i]\n",
    "        data = pd.read_csv(data_dir + part + '/survey_responses.csv')\n",
    "        for trial in range(n_trials):\n",
    "            try:\n",
    "                outcome = data[data['trial'] == trial+1]['outcome'].values[0]\n",
    "                if outcome in ['Safe', 'Unsafe']:\n",
    "                    trial_data = pd.read_csv(f\"{data_dir}{part}/trial_{trial+1}/robustness.csv\")\n",
    "                    val = trial_data.iloc[-1][var]\n",
    "                    val_normed = (val - robustness_vals[var]['min'])/(robustness_vals[var]['max'] - robustness_vals[var]['min'])\n",
    "                    c = cmap(val_normed)\n",
    "                    axs[a].plot(trial, i, marker='o', color=c)\n",
    "            except:\n",
    "                print(f\"skipping participant {part} trial {trial}\")\n",
    "\n",
    "    axs[a].set_aspect('equal')\n",
    "    axs[a].set_title(f'{conditions[a]}')\n",
    "\n",
    "fig.colorbar(mpl.cm.ScalarMappable(norm=norm, cmap=cmap), orientation='vertical', label='robustness',cax=axs[-1])\n",
    "plt.show()"
   ]
  },
  {
   "cell_type": "code",
   "execution_count": null,
   "metadata": {},
   "outputs": [],
   "source": [
    "fig, axs = plt.subplots(1,4, figsize=(10,6))\n",
    "n_trials = 20\n",
    "var = 'landing_angle'\n",
    "\n",
    "cmap = mpl.cm.seismic\n",
    "norm = mpl.colors.Normalize(vmin=robustness_vals[var]['min'], vmax=robustness_vals[var]['max'])\n",
    "\n",
    "conditions = list(ids.keys())\n",
    "\n",
    "for a in range(len(axs)-1):\n",
    "    for i in range(len(ids[conditions[a]])):\n",
    "        part = ids[conditions[a]].iloc[i]\n",
    "        data = pd.read_csv(data_dir + part + '/survey_responses.csv')\n",
    "        for trial in range(n_trials):\n",
    "            try:\n",
    "                outcome = data[data['trial'] == trial+1]['outcome'].values[0]\n",
    "                if outcome in ['Safe', 'Unsafe']:\n",
    "                    trial_data = pd.read_csv(f\"{data_dir}{part}/trial_{trial+1}/robustness.csv\")\n",
    "                    val = trial_data.iloc[-1][var]\n",
    "                    val_normed = (val - robustness_vals[var]['min'])/(robustness_vals[var]['max'] - robustness_vals[var]['min'])\n",
    "                    c = cmap(val_normed)\n",
    "                    axs[a].plot(trial, i, marker='o', color=c)\n",
    "            except:\n",
    "                print(f\"skipping participant {part} trial {trial}\")\n",
    "\n",
    "    axs[a].set_aspect('equal')\n",
    "    axs[a].set_title(f'{conditions[a]}')\n",
    "\n",
    "fig.colorbar(mpl.cm.ScalarMappable(norm=norm, cmap=cmap), orientation='vertical', label='robustness',cax=axs[-1])\n",
    "plt.show()"
   ]
  },
  {
   "cell_type": "markdown",
   "metadata": {},
   "source": [
    "# Pulling out qualitative stuff"
   ]
  },
  {
   "cell_type": "markdown",
   "metadata": {},
   "source": [
    "Grab all the images. This only needs to be done once."
   ]
  },
  {
   "cell_type": "code",
   "execution_count": null,
   "metadata": {},
   "outputs": [],
   "source": [
    "utils.copy_images(part_file['prolific_id'])"
   ]
  }
 ],
 "metadata": {
  "kernelspec": {
   "display_name": "venv",
   "language": "python",
   "name": "python3"
  },
  "language_info": {
   "codemirror_mode": {
    "name": "ipython",
    "version": 3
   },
   "file_extension": ".py",
   "mimetype": "text/x-python",
   "name": "python",
   "nbconvert_exporter": "python",
   "pygments_lexer": "ipython3",
   "version": "3.10.4"
  }
 },
 "nbformat": 4,
 "nbformat_minor": 2
}

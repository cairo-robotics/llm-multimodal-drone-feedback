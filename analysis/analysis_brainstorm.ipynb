{
 "cells": [
  {
   "cell_type": "markdown",
   "metadata": {},
   "source": [
    "# Imports"
   ]
  },
  {
   "cell_type": "code",
   "execution_count": 1,
   "metadata": {},
   "outputs": [],
   "source": [
    "import warnings\n",
    "warnings.filterwarnings(\"ignore\")\n",
    "\n",
    "import pandas as pd\n",
    "import matplotlib.pyplot as plt\n",
    "import matplotlib as mpl\n",
    "import glob\n",
    "import scipy.stats as stats\n",
    "import scikit_posthocs as sp\n",
    "\n",
    "import utils # offload data processing into .py file"
   ]
  },
  {
   "cell_type": "code",
   "execution_count": 2,
   "metadata": {},
   "outputs": [],
   "source": [
    "# data_dir = 'C:/Users/Emily Jensen/OneDrive - UCB-O365/Drone Feedback Data/data/'\n",
    "\n",
    "data_dir = '/Users/emilyjensen/Library/CloudStorage/OneDrive-UCB-O365/Drone Feedback Data/data/'"
   ]
  },
  {
   "cell_type": "markdown",
   "metadata": {},
   "source": [
    "Open all of the relevant data files/directories\n",
    "\n",
    "Emily downloaded the final data and Qualtrics surveys on 4/16/24"
   ]
  },
  {
   "cell_type": "markdown",
   "metadata": {},
   "source": [
    "Qualtrics export settings:\n",
    "\n",
    "<img src=\"qualtrics_export_settings.png\" alt=\"Qualtrics Export Settings\" width=\"500px\">"
   ]
  },
  {
   "cell_type": "markdown",
   "metadata": {},
   "source": [
    "# Load Data"
   ]
  },
  {
   "cell_type": "markdown",
   "metadata": {},
   "source": [
    "Notes on participants that seem to have restarted the experiment:\n",
    "- `5bd49bcc25db7b0001794063` restarted after trial 1 - KEEP\n",
    "- `5c90094e71f3100016181ea9` restarted after trial 3 and again after trial 1 - KEEP\n",
    "- `5ef9f528c7ae587afa25fe9b` restarted after trial 6 - REMOVE\n",
    "- `60fcc292d13ae9614d4a77a7` restarted after trial 3 - KEEP\n",
    "- `6105c41aa4fe602501d5a8cc` restarted after trial 8 - REMOVE\n",
    "- `610796f1301fccdca446af57` restarted after trial 7 - REMOVE\n",
    "- `629658baad2881aba974c6c3` restarted after trial 2 - KEEP\n",
    "- `63026a8fd8429b224cd2a134` restarted before completing trial 1 - KEEP\n",
    "- `631f1b608af38f654d2a3b1f` restarted after trial 15 - REMOVE\n",
    "- `637d4196c70a66e28ecede34` restarted before completing trial 1 - KEEP\n",
    "- `6388b6c86e47b08e1eded1fd` restarted before completing trial 1 - KEEP\n",
    "- `63ba10de73415d047e1d6731` restarted after trial 5 and again after trial 1 - REMOVE\n",
    "- `643c6175d46d41e74033994f` restarted after trial 8 and again after trial 1 - REMOVE\n",
    "- `652ab7948cb59f4c50c7972a` restarted after trial 1 - KEEP\n",
    "- `6596a5cad60ef105b6c18897` restarted after trial 1 - KEEP\n",
    "- `65cba99c92b362b45e414da7` restarted after trial 17 - REMOVE\n",
    "\n",
    "We will keep the participants who complete less than 5 trials before completing a complete run.\n",
    "\n",
    "Participant `6400dc9f84ed19aeedc1a2cc` seems to have filled out the qualtrics survey twice. The numerical data are the same and the free response questions have very similar content so I feel fine only keeping the first entry.\n",
    "\n",
    "This has been implemented in `utils.load_data()`"
   ]
  },
  {
   "cell_type": "markdown",
   "metadata": {},
   "source": [
    "Participants removed for not providing a good-faith effort:\n",
    "\n",
    "- `63026a8fd8429b224cd2a134` \n",
    "- `637d4196c70a66e28ecede34` \n",
    "- `5f90581950d8520e8c7d3890`\n",
    "\n",
    "These participants crashed on every trial and never used horizontal inputs"
   ]
  },
  {
   "cell_type": "code",
   "execution_count": 3,
   "metadata": {},
   "outputs": [
    {
     "name": "stdout",
     "output_type": "stream",
     "text": [
      "Dropped 17 duplicate IDs:\n",
      "['5bd49bcc25db7b0001794063' '5c90094e71f3100016181ea9'\n",
      " '5ef9f528c7ae587afa25fe9b' '60fcc292d13ae9614d4a77a7'\n",
      " '6105c41aa4fe602501d5a8cc' '610796f1301fccdca446af57'\n",
      " '629658baad2881aba974c6c3' '63026a8fd8429b224cd2a134'\n",
      " '631f1b608af38f654d2a3b1f' '637d4196c70a66e28ecede34'\n",
      " '6388b6c86e47b08e1eded1fd' '63ba10de73415d047e1d6731'\n",
      " '6400dc9f84ed19aeedc1a2cc' '643c6175d46d41e74033994f'\n",
      " '652ab7948cb59f4c50c7972a' '6596a5cad60ef105b6c18897'\n",
      " '65cba99c92b362b45e414da7']\n",
      "Final number of IDs in participant file: 137\n",
      "Final number of IDs in trial file: 137\n"
     ]
    }
   ],
   "source": [
    "part_file, trial_file, ids = utils.load_data()"
   ]
  },
  {
   "cell_type": "markdown",
   "metadata": {},
   "source": [
    "# Basic stats\n",
    "\n",
    "This is after filtering out participants that restarted the experiment"
   ]
  },
  {
   "cell_type": "code",
   "execution_count": 4,
   "metadata": {},
   "outputs": [
    {
     "name": "stdout",
     "output_type": "stream",
     "text": [
      "           count  proportion\n",
      "condition                   \n",
      "full          46        0.34\n",
      "score         45        0.33\n",
      "text          46        0.34\n",
      "            count  proportion\n",
      "gender                       \n",
      "Man            59        0.43\n",
      "Non-binary      7        0.05\n",
      "Woman          71        0.52\n",
      "                  count  proportion\n",
      "drone_experience                   \n",
      "None                112        0.82\n",
      "Some                 20        0.15\n",
      "Regularly             5        0.04\n",
      "Professional          0        0.00\n",
      "                       count  proportion\n",
      "video_game_experience                   \n",
      "None                      24        0.18\n",
      "Monthly                   38        0.28\n",
      "Weekly                    35        0.26\n",
      "Daily                     40        0.29\n",
      "                   count  proportion\n",
      "feedback_helped                     \n",
      "Strongly Disagree     22        0.16\n",
      "Disagree              17        0.12\n",
      "Neutral               22        0.16\n",
      "Agree                 59        0.43\n",
      "Strongly Agree        17        0.12\n",
      "                           count  proportion\n",
      "feedback_helped_collapsed                   \n",
      "Disagree                      39        0.28\n",
      "Neutral                       22        0.16\n",
      "Agree                         76        0.55\n",
      "\n",
      "age:\n",
      "count    137.00\n",
      "mean      38.39\n",
      "std       12.23\n",
      "min       18.00\n",
      "25%       30.00\n",
      "50%       36.00\n",
      "75%       47.00\n",
      "max       74.00\n",
      "Name: age, dtype: float64\n",
      "\n",
      "total_time_seconds:\n",
      "count     137.00\n",
      "mean     1792.71\n",
      "std       641.94\n",
      "min       805.44\n",
      "25%      1335.60\n",
      "50%      1632.73\n",
      "75%      2107.25\n",
      "max      5192.21\n",
      "Name: total_time_seconds, dtype: float64\n",
      "\n",
      "avg_feedback_time_seconds:\n",
      "count    137.00\n",
      "mean      23.17\n",
      "std        7.68\n",
      "min        0.86\n",
      "25%       18.03\n",
      "50%       23.57\n",
      "75%       27.79\n",
      "max       51.78\n",
      "Name: avg_feedback_time_seconds, dtype: float64\n",
      "\n",
      "n_safe_landings:\n",
      "count    137.00\n",
      "mean       8.00\n",
      "std        5.25\n",
      "min        0.00\n",
      "25%        3.00\n",
      "50%        8.00\n",
      "75%       12.00\n",
      "max       19.00\n",
      "Name: n_safe_landings, dtype: float64\n"
     ]
    }
   ],
   "source": [
    "utils.run_basic_stats(part_file)"
   ]
  },
  {
   "cell_type": "code",
   "execution_count": 4,
   "metadata": {},
   "outputs": [
    {
     "data": {
      "text/plain": [
       "count    2684.000000\n",
       "mean       27.647862\n",
       "std        19.691424\n",
       "min        -0.000072\n",
       "25%        16.485780\n",
       "50%        24.353495\n",
       "75%        36.039500\n",
       "max       121.217149\n",
       "Name: trial_time_seconds, dtype: float64"
      ]
     },
     "execution_count": 4,
     "metadata": {},
     "output_type": "execute_result"
    }
   ],
   "source": [
    "trial_file['trial_time_seconds'].describe()"
   ]
  },
  {
   "cell_type": "code",
   "execution_count": 5,
   "metadata": {},
   "outputs": [
    {
     "data": {
      "text/plain": [
       "<Axes: >"
      ]
     },
     "execution_count": 5,
     "metadata": {},
     "output_type": "execute_result"
    },
    {
     "data": {
      "image/png": "[encoded data removed]",
      "text/plain": [
       "<Figure size 640x480 with 1 Axes>"
      ]
     },
     "metadata": {},
     "output_type": "display_data"
    }
   ],
   "source": [
    "trial_file.loc[(trial_file['trial_time_seconds'] < 200), 'trial_time_seconds'].hist()"
   ]
  },
  {
   "cell_type": "code",
   "execution_count": null,
   "metadata": {},
   "outputs": [],
   "source": [
    "# select participants with 'Regularly' and 'Professional' drone experience\n",
    "part_file[part_file['drone_experience'].isin(['Regularly', 'Professional'])]['n_safe_landings']"
   ]
  },
  {
   "cell_type": "markdown",
   "metadata": {},
   "source": [
    "# Research Themes"
   ]
  },
  {
   "cell_type": "markdown",
   "metadata": {},
   "source": [
    "## Perception of Feedback"
   ]
  },
  {
   "cell_type": "markdown",
   "metadata": {},
   "source": [
    "### What is associated with overall feedback helpfulness rating?"
   ]
  },
  {
   "cell_type": "code",
   "execution_count": 71,
   "metadata": {},
   "outputs": [
    {
     "name": "stdout",
     "output_type": "stream",
     "text": [
      "Optimization terminated successfully.\n",
      "         Current function value: 1.134396\n",
      "         Iterations: 64\n",
      "         Function evaluations: 70\n",
      "         Gradient evaluations: 70\n",
      "                             OrderedModel Results                             \n",
      "==============================================================================\n",
      "Dep. Variable:        feedback_helped   Log-Likelihood:                -155.41\n",
      "Model:                   OrderedModel   AIC:                             348.8\n",
      "Method:            Maximum Likelihood   BIC:                             404.3\n",
      "Date:                Sun, 05 May 2024                                         \n",
      "Time:                        17:00:04                                         \n",
      "No. Observations:                 137                                         \n",
      "Df Residuals:                     118                                         \n",
      "Df Model:                          15                                         \n",
      "==============================================================================================\n",
      "                                 coef    std err          z      P>|z|      [0.025      0.975]\n",
      "----------------------------------------------------------------------------------------------\n",
      "age                            0.0125      0.017      0.728      0.466      -0.021       0.046\n",
      "drone_experience_code         -0.5409      0.372     -1.453      0.146      -1.271       0.189\n",
      "video_game_experience_code     0.2541      0.193      1.318      0.188      -0.124       0.632\n",
      "total_time_seconds            -0.0002      0.000     -0.574      0.566      -0.001       0.001\n",
      "avg_feedback_time_seconds     -0.0225      0.019     -1.167      0.243      -0.060       0.015\n",
      "avg_trial_time_seconds         0.0312      0.021      1.486      0.137      -0.010       0.072\n",
      "gender_Non-binary             -0.3280      0.822     -0.399      0.690      -1.940       1.284\n",
      "gender_Woman                   0.0597      0.422      0.141      0.888      -0.767       0.887\n",
      "condition_code                -0.0160      0.215     -0.075      0.940      -0.437       0.405\n",
      "n_safe_landings                0.0879      0.039      2.229      0.026       0.011       0.165\n",
      "mode_motivation_code           0.9735      0.341      2.852      0.004       0.304       1.643\n",
      "mode_manageable_code           0.2093      0.279      0.751      0.453      -0.337       0.756\n",
      "mode_actionable_code           0.1942      0.221      0.879      0.380      -0.239       0.627\n",
      "mode_timely_code              -0.0915      0.307     -0.298      0.766      -0.693       0.510\n",
      "mode_reflection_code           0.6578      0.319      2.060      0.039       0.032       1.284\n",
      "Strongly Disagree/Disagree     3.6853      1.291      2.855      0.004       1.155       6.215\n",
      "Disagree/Neutral               0.2170      0.228      0.952      0.341      -0.230       0.663\n",
      "Neutral/Agree                  0.0973      0.198      0.492      0.623      -0.291       0.485\n",
      "Agree/Strongly Agree           1.1564      0.121      9.557      0.000       0.919       1.393\n",
      "==============================================================================================\n"
     ]
    }
   ],
   "source": [
    "ind_vars = ['age', 'drone_experience_code', \n",
    "            'video_game_experience_code', 'total_time_seconds', \n",
    "            'avg_feedback_time_seconds','avg_trial_time_seconds', \n",
    "            'gender_Non-binary', 'gender_Woman', \n",
    "            'condition_code', 'n_safe_landings'] + [f'mode_{q}_code' for q in ['motivation', 'manageable', 'actionable', 'timely', 'reflection']]\n",
    "\n",
    "dep_var = 'feedback_helped'\n",
    "utils.run_ordered_model(dep_var, ind_vars, part_file)"
   ]
  },
  {
   "cell_type": "code",
   "execution_count": 72,
   "metadata": {},
   "outputs": [
    {
     "name": "stdout",
     "output_type": "stream",
     "text": [
      "Optimization terminated successfully.\n",
      "         Current function value: 0.698544\n",
      "         Iterations: 71\n",
      "         Function evaluations: 77\n",
      "         Gradient evaluations: 77\n",
      "                                 OrderedModel Results                                \n",
      "=====================================================================================\n",
      "Dep. Variable:     feedback_helped_collapsed   Log-Likelihood:                -95.701\n",
      "Model:                          OrderedModel   AIC:                             225.4\n",
      "Method:                   Maximum Likelihood   BIC:                             275.0\n",
      "Date:                       Sun, 05 May 2024                                         \n",
      "Time:                               17:01:13                                         \n",
      "No. Observations:                        137                                         \n",
      "Df Residuals:                            120                                         \n",
      "Df Model:                                 15                                         \n",
      "==================================================================================================\n",
      "                                     coef    std err          z      P>|z|      [0.025      0.975]\n",
      "--------------------------------------------------------------------------------------------------\n",
      "age                                0.0219      0.021      1.041      0.298      -0.019       0.063\n",
      "drone_experience_code             -0.5133      0.448     -1.145      0.252      -1.392       0.366\n",
      "video_game_experience_code         0.0855      0.231      0.370      0.711      -0.367       0.538\n",
      "total_time_seconds                -0.0005      0.000     -1.077      0.281      -0.001       0.000\n",
      "avg_feedback_time_seconds         -0.0045      0.024     -0.190      0.850      -0.051       0.042\n",
      "avg_trial_time_seconds             0.0482      0.025      1.897      0.058      -0.002       0.098\n",
      "gender_Non-binary                  1.0530      1.115      0.944      0.345      -1.133       3.239\n",
      "gender_Woman                       0.1548      0.497      0.311      0.755      -0.819       1.129\n",
      "condition_code                     0.2034      0.267      0.763      0.445      -0.319       0.726\n",
      "n_safe_landings                    0.1186      0.050      2.351      0.019       0.020       0.218\n",
      "mode_motivation_collapsed_code     1.0900      0.464      2.347      0.019       0.180       2.000\n",
      "mode_manageable_collapsed_code     1.1174      0.441      2.534      0.011       0.253       1.982\n",
      "mode_actionable_collapsed_code     0.2328      0.342      0.681      0.496      -0.437       0.903\n",
      "mode_timely_collapsed_code        -1.2482      0.476     -2.625      0.009      -2.180      -0.316\n",
      "mode_reflection_collapsed_code     0.9549      0.429      2.227      0.026       0.115       1.795\n",
      "Disagree/Neutral                   4.0745      1.460      2.790      0.005       1.212       6.936\n",
      "Neutral/Agree                      0.1816      0.200      0.907      0.364      -0.211       0.574\n",
      "==================================================================================================\n"
     ]
    }
   ],
   "source": [
    "ind_vars = ['age', 'drone_experience_code', \n",
    "            'video_game_experience_code', 'total_time_seconds', \n",
    "            'avg_feedback_time_seconds','avg_trial_time_seconds', \n",
    "            'gender_Non-binary', 'gender_Woman', \n",
    "            'condition_code', 'n_safe_landings'] + [f'mode_{q}_code' for q in ['motivation_collapsed', 'manageable_collapsed', 'actionable_collapsed', 'timely_collapsed', 'reflection_collapsed']]\n",
    "\n",
    "dep_var = 'feedback_helped_collapsed'\n",
    "\n",
    "utils.run_ordered_model(dep_var, ind_vars, part_file)"
   ]
  },
  {
   "cell_type": "markdown",
   "metadata": {},
   "source": [
    "### What is associated with overall rating for each dimension?"
   ]
  },
  {
   "cell_type": "code",
   "execution_count": 73,
   "metadata": {},
   "outputs": [
    {
     "name": "stdout",
     "output_type": "stream",
     "text": [
      "Optimization terminated successfully.\n",
      "         Current function value: 1.360847\n",
      "         Iterations: 48\n",
      "         Function evaluations: 57\n",
      "         Gradient evaluations: 57\n",
      "                              OrderedModel Results                              \n",
      "================================================================================\n",
      "Dep. Variable:     mode_motivation_code   Log-Likelihood:                -186.44\n",
      "Model:                     OrderedModel   AIC:                             400.9\n",
      "Method:              Maximum Likelihood   BIC:                             441.8\n",
      "Date:                  Sun, 05 May 2024                                         \n",
      "Time:                          17:03:37                                         \n",
      "No. Observations:                   137                                         \n",
      "Df Residuals:                       123                                         \n",
      "Df Model:                            10                                         \n",
      "==============================================================================================\n",
      "                                 coef    std err          z      P>|z|      [0.025      0.975]\n",
      "----------------------------------------------------------------------------------------------\n",
      "age                            0.0307      0.016      1.977      0.048       0.000       0.061\n",
      "drone_experience_code          0.3818      0.354      1.078      0.281      -0.313       1.076\n",
      "video_game_experience_code     0.0553      0.179      0.309      0.757      -0.295       0.406\n",
      "total_time_seconds            -0.0004      0.000     -1.475      0.140      -0.001       0.000\n",
      "avg_feedback_time_seconds      0.0345      0.017      2.027      0.043       0.001       0.068\n",
      "avg_trial_time_seconds         0.0154      0.019      0.797      0.426      -0.023       0.053\n",
      "gender_Non-binary              0.3501      0.731      0.479      0.632      -1.084       1.784\n",
      "gender_Woman                   0.4673      0.390      1.198      0.231      -0.297       1.232\n",
      "condition_code                -0.0242      0.200     -0.120      0.904      -0.417       0.369\n",
      "n_safe_landings               -0.0282      0.036     -0.774      0.439      -0.100       0.043\n",
      "0/1                           -0.8229      1.044     -0.789      0.430      -2.868       1.222\n",
      "1/2                           -0.0136      0.283     -0.048      0.962      -0.568       0.541\n",
      "2/3                            0.3544      0.157      2.263      0.024       0.047       0.661\n",
      "3/4                            0.6612      0.122      5.421      0.000       0.422       0.900\n",
      "==============================================================================================\n"
     ]
    }
   ],
   "source": [
    "ind_vars = ['age', 'drone_experience_code', \n",
    "            'video_game_experience_code', 'total_time_seconds', \n",
    "            'avg_feedback_time_seconds','avg_trial_time_seconds', \n",
    "            'gender_Non-binary', 'gender_Woman', \n",
    "            'condition_code', 'n_safe_landings']\n",
    "\n",
    "dep_var = 'mode_motivation_code'\n",
    "\n",
    "utils.run_ordered_model(dep_var, ind_vars, part_file)"
   ]
  },
  {
   "cell_type": "code",
   "execution_count": 74,
   "metadata": {},
   "outputs": [
    {
     "name": "stdout",
     "output_type": "stream",
     "text": [
      "Optimization terminated successfully.\n",
      "         Current function value: 0.901031\n",
      "         Iterations: 45\n",
      "         Function evaluations: 53\n",
      "         Gradient evaluations: 53\n",
      "                                   OrderedModel Results                                   \n",
      "==========================================================================================\n",
      "Dep. Variable:     mode_motivation_collapsed_code   Log-Likelihood:                -123.44\n",
      "Model:                               OrderedModel   AIC:                             270.9\n",
      "Method:                        Maximum Likelihood   BIC:                             305.9\n",
      "Date:                            Sun, 05 May 2024                                         \n",
      "Time:                                    17:04:14                                         \n",
      "No. Observations:                             137                                         \n",
      "Df Residuals:                                 125                                         \n",
      "Df Model:                                      10                                         \n",
      "==============================================================================================\n",
      "                                 coef    std err          z      P>|z|      [0.025      0.975]\n",
      "----------------------------------------------------------------------------------------------\n",
      "age                            0.0100      0.017      0.596      0.551      -0.023       0.043\n",
      "drone_experience_code          0.1136      0.378      0.300      0.764      -0.628       0.855\n",
      "video_game_experience_code    -0.0404      0.194     -0.208      0.835      -0.422       0.341\n",
      "total_time_seconds            -0.0001      0.000     -0.346      0.730      -0.001       0.001\n",
      "avg_feedback_time_seconds      0.0453      0.022      2.097      0.036       0.003       0.088\n",
      "avg_trial_time_seconds         0.0139      0.022      0.635      0.526      -0.029       0.057\n",
      "gender_Non-binary              0.4659      0.835      0.558      0.577      -1.171       2.103\n",
      "gender_Woman                   0.3111      0.412      0.756      0.450      -0.496       1.118\n",
      "condition_code                 0.0823      0.222      0.371      0.711      -0.353       0.518\n",
      "n_safe_landings               -0.0279      0.040     -0.691      0.490      -0.107       0.051\n",
      "0/1                            0.1328      1.090      0.122      0.903      -2.004       2.270\n",
      "1/2                            0.2488      0.163      1.523      0.128      -0.071       0.569\n",
      "==============================================================================================\n"
     ]
    }
   ],
   "source": [
    "ind_vars = ['age', 'drone_experience_code', \n",
    "            'video_game_experience_code', 'total_time_seconds', \n",
    "            'avg_feedback_time_seconds','avg_trial_time_seconds', \n",
    "            'gender_Non-binary', 'gender_Woman', \n",
    "            'condition_code', 'n_safe_landings']\n",
    "\n",
    "dep_var = 'mode_motivation_collapsed_code'\n",
    "\n",
    "utils.run_ordered_model(dep_var, ind_vars, part_file)"
   ]
  },
  {
   "cell_type": "code",
   "execution_count": 75,
   "metadata": {},
   "outputs": [
    {
     "name": "stdout",
     "output_type": "stream",
     "text": [
      "Optimization terminated successfully.\n",
      "         Current function value: 1.159203\n",
      "         Iterations: 44\n",
      "         Function evaluations: 51\n",
      "         Gradient evaluations: 51\n",
      "                              OrderedModel Results                              \n",
      "================================================================================\n",
      "Dep. Variable:     mode_manageable_code   Log-Likelihood:                -158.81\n",
      "Model:                     OrderedModel   AIC:                             345.6\n",
      "Method:              Maximum Likelihood   BIC:                             386.5\n",
      "Date:                  Sun, 05 May 2024                                         \n",
      "Time:                          17:04:38                                         \n",
      "No. Observations:                   137                                         \n",
      "Df Residuals:                       123                                         \n",
      "Df Model:                            10                                         \n",
      "==============================================================================================\n",
      "                                 coef    std err          z      P>|z|      [0.025      0.975]\n",
      "----------------------------------------------------------------------------------------------\n",
      "age                           -0.0145      0.017     -0.872      0.383      -0.047       0.018\n",
      "drone_experience_code         -0.6808      0.369     -1.847      0.065      -1.403       0.042\n",
      "video_game_experience_code     0.0796      0.192      0.414      0.679      -0.297       0.456\n",
      "total_time_seconds             0.0007      0.000      1.904      0.057   -1.92e-05       0.001\n",
      "avg_feedback_time_seconds     -0.0128      0.019     -0.673      0.501      -0.050       0.024\n",
      "avg_trial_time_seconds        -0.0134      0.021     -0.642      0.521      -0.054       0.028\n",
      "gender_Non-binary             -1.0491      0.785     -1.336      0.182      -2.588       0.490\n",
      "gender_Woman                  -0.2225      0.423     -0.525      0.599      -1.052       0.608\n",
      "condition_code                 0.0149      0.212      0.070      0.944      -0.401       0.430\n",
      "n_safe_landings                0.0101      0.040      0.255      0.799      -0.068       0.088\n",
      "0/1                           -3.2659      1.182     -2.764      0.006      -5.582      -0.950\n",
      "1/2                            0.2962      0.251      1.180      0.238      -0.196       0.788\n",
      "2/3                            1.0893      0.097     11.277      0.000       0.900       1.279\n",
      "3/4                            0.0843      0.228      0.369      0.712      -0.363       0.532\n",
      "==============================================================================================\n"
     ]
    }
   ],
   "source": [
    "ind_vars = ['age', 'drone_experience_code', \n",
    "            'video_game_experience_code', 'total_time_seconds', \n",
    "            'avg_feedback_time_seconds','avg_trial_time_seconds', \n",
    "            'gender_Non-binary', 'gender_Woman', \n",
    "            'condition_code', 'n_safe_landings']\n",
    "\n",
    "dep_var = 'mode_manageable_code'\n",
    "\n",
    "utils.run_ordered_model(dep_var, ind_vars, part_file)"
   ]
  },
  {
   "cell_type": "code",
   "execution_count": 76,
   "metadata": {},
   "outputs": [
    {
     "name": "stdout",
     "output_type": "stream",
     "text": [
      "Optimization terminated successfully.\n",
      "         Current function value: 0.948572\n",
      "         Iterations: 40\n",
      "         Function evaluations: 46\n",
      "         Gradient evaluations: 46\n",
      "                                   OrderedModel Results                                   \n",
      "==========================================================================================\n",
      "Dep. Variable:     mode_manageable_collapsed_code   Log-Likelihood:                -129.95\n",
      "Model:                               OrderedModel   AIC:                             283.9\n",
      "Method:                        Maximum Likelihood   BIC:                             318.9\n",
      "Date:                            Sun, 05 May 2024                                         \n",
      "Time:                                    17:05:17                                         \n",
      "No. Observations:                             137                                         \n",
      "Df Residuals:                                 125                                         \n",
      "Df Model:                                      10                                         \n",
      "==============================================================================================\n",
      "                                 coef    std err          z      P>|z|      [0.025      0.975]\n",
      "----------------------------------------------------------------------------------------------\n",
      "age                           -0.0120      0.017     -0.722      0.470      -0.044       0.021\n",
      "drone_experience_code         -0.6026      0.365     -1.652      0.099      -1.318       0.112\n",
      "video_game_experience_code     0.0877      0.190      0.462      0.644      -0.284       0.460\n",
      "total_time_seconds            -0.0002      0.000     -0.710      0.478      -0.001       0.000\n",
      "avg_feedback_time_seconds      0.0058      0.019      0.306      0.759      -0.031       0.043\n",
      "avg_trial_time_seconds         0.0039      0.020      0.191      0.849      -0.036       0.043\n",
      "gender_Non-binary             -0.6472      0.797     -0.812      0.417      -2.210       0.915\n",
      "gender_Woman                  -0.1760      0.415     -0.424      0.671      -0.989       0.637\n",
      "condition_code                 0.0625      0.209      0.299      0.765      -0.348       0.473\n",
      "n_safe_landings                0.0141      0.039      0.357      0.721      -0.063       0.091\n",
      "0/1                           -2.1820      1.143     -1.909      0.056      -4.423       0.059\n",
      "1/2                            1.0108      0.098     10.278      0.000       0.818       1.204\n",
      "==============================================================================================\n"
     ]
    }
   ],
   "source": [
    "ind_vars = ['age', 'drone_experience_code', \n",
    "            'video_game_experience_code', 'total_time_seconds', \n",
    "            'avg_feedback_time_seconds','avg_trial_time_seconds', \n",
    "            'gender_Non-binary', 'gender_Woman', \n",
    "            'condition_code', 'n_safe_landings']\n",
    "\n",
    "dep_var = 'mode_manageable_collapsed_code'\n",
    "\n",
    "utils.run_ordered_model(dep_var, ind_vars, part_file)"
   ]
  },
  {
   "cell_type": "code",
   "execution_count": 77,
   "metadata": {},
   "outputs": [
    {
     "name": "stdout",
     "output_type": "stream",
     "text": [
      "Optimization terminated successfully.\n",
      "         Current function value: 0.928322\n",
      "         Iterations: 54\n",
      "         Function evaluations: 62\n",
      "         Gradient evaluations: 62\n",
      "                             OrderedModel Results                             \n",
      "==============================================================================\n",
      "Dep. Variable:       mode_timely_code   Log-Likelihood:                -127.18\n",
      "Model:                   OrderedModel   AIC:                             282.4\n",
      "Method:            Maximum Likelihood   BIC:                             323.2\n",
      "Date:                Sun, 05 May 2024                                         \n",
      "Time:                        17:05:29                                         \n",
      "No. Observations:                 137                                         \n",
      "Df Residuals:                     123                                         \n",
      "Df Model:                          10                                         \n",
      "==============================================================================================\n",
      "                                 coef    std err          z      P>|z|      [0.025      0.975]\n",
      "----------------------------------------------------------------------------------------------\n",
      "age                           -0.0024      0.017     -0.139      0.889      -0.036       0.032\n",
      "drone_experience_code         -0.2513      0.416     -0.604      0.546      -1.066       0.564\n",
      "video_game_experience_code     0.3252      0.203      1.603      0.109      -0.073       0.723\n",
      "total_time_seconds            -0.0007      0.000     -1.953      0.051      -0.001     2.7e-06\n",
      "avg_feedback_time_seconds      0.0268      0.021      1.290      0.197      -0.014       0.067\n",
      "avg_trial_time_seconds         0.0062      0.022      0.277      0.782      -0.038       0.050\n",
      "gender_Non-binary             -0.1702      0.842     -0.202      0.840      -1.821       1.480\n",
      "gender_Woman                   0.2362      0.437      0.541      0.589      -0.620       1.092\n",
      "condition_code                 0.1899      0.231      0.824      0.410      -0.262       0.642\n",
      "n_safe_landings                0.0892      0.041      2.182      0.029       0.009       0.169\n",
      "0/1                           -3.4785      1.381     -2.519      0.012      -6.185      -0.772\n",
      "1/2                           -0.0262      0.587     -0.045      0.964      -1.176       1.124\n",
      "2/3                            1.5083      0.117     12.936      0.000       1.280       1.737\n",
      "3/4                            0.0576      0.201      0.286      0.775      -0.337       0.453\n",
      "==============================================================================================\n"
     ]
    }
   ],
   "source": [
    "ind_vars = ['age', 'drone_experience_code', \n",
    "            'video_game_experience_code', 'total_time_seconds', \n",
    "            'avg_feedback_time_seconds','avg_trial_time_seconds', \n",
    "            'gender_Non-binary', 'gender_Woman', \n",
    "            'condition_code', 'n_safe_landings']\n",
    "\n",
    "dep_var = 'mode_timely_code'\n",
    "\n",
    "utils.run_ordered_model(dep_var, ind_vars, part_file)"
   ]
  },
  {
   "cell_type": "code",
   "execution_count": 78,
   "metadata": {},
   "outputs": [
    {
     "name": "stdout",
     "output_type": "stream",
     "text": [
      "Optimization terminated successfully.\n",
      "         Current function value: 0.728298\n",
      "         Iterations: 44\n",
      "         Function evaluations: 50\n",
      "         Gradient evaluations: 50\n",
      "                                 OrderedModel Results                                 \n",
      "======================================================================================\n",
      "Dep. Variable:     mode_timely_collapsed_code   Log-Likelihood:                -99.777\n",
      "Model:                           OrderedModel   AIC:                             223.6\n",
      "Method:                    Maximum Likelihood   BIC:                             258.6\n",
      "Date:                        Sun, 05 May 2024                                         \n",
      "Time:                                17:06:11                                         \n",
      "No. Observations:                         137                                         \n",
      "Df Residuals:                             125                                         \n",
      "Df Model:                                  10                                         \n",
      "==============================================================================================\n",
      "                                 coef    std err          z      P>|z|      [0.025      0.975]\n",
      "----------------------------------------------------------------------------------------------\n",
      "age                            0.0022      0.018      0.121      0.903      -0.033       0.037\n",
      "drone_experience_code         -0.3298      0.421     -0.783      0.434      -1.156       0.496\n",
      "video_game_experience_code     0.2644      0.207      1.276      0.202      -0.142       0.671\n",
      "total_time_seconds            -0.0007      0.000     -1.819      0.069      -0.001    5.33e-05\n",
      "avg_feedback_time_seconds      0.0175      0.021      0.836      0.403      -0.023       0.058\n",
      "avg_trial_time_seconds         0.0018      0.023      0.080      0.937      -0.044       0.047\n",
      "gender_Non-binary             -0.2266      0.857     -0.264      0.791      -1.906       1.453\n",
      "gender_Woman                   0.2696      0.441      0.612      0.541      -0.594       1.134\n",
      "condition_code                 0.2606      0.231      1.126      0.260      -0.193       0.714\n",
      "n_safe_landings                0.0920      0.043      2.151      0.031       0.008       0.176\n",
      "0/1                           -2.4326      1.245     -1.955      0.051      -4.872       0.007\n",
      "1/2                            1.4420      0.113     12.810      0.000       1.221       1.663\n",
      "==============================================================================================\n"
     ]
    }
   ],
   "source": [
    "ind_vars = ['age', 'drone_experience_code', \n",
    "            'video_game_experience_code', 'total_time_seconds', \n",
    "            'avg_feedback_time_seconds','avg_trial_time_seconds', \n",
    "            'gender_Non-binary', 'gender_Woman', \n",
    "            'condition_code', 'n_safe_landings']\n",
    "\n",
    "dep_var = 'mode_timely_collapsed_code'\n",
    "\n",
    "utils.run_ordered_model(dep_var, ind_vars, part_file)"
   ]
  },
  {
   "cell_type": "code",
   "execution_count": 79,
   "metadata": {},
   "outputs": [
    {
     "name": "stdout",
     "output_type": "stream",
     "text": [
      "Optimization terminated successfully.\n",
      "         Current function value: 1.278474\n",
      "         Iterations: 47\n",
      "         Function evaluations: 56\n",
      "         Gradient evaluations: 56\n",
      "                              OrderedModel Results                              \n",
      "================================================================================\n",
      "Dep. Variable:     mode_reflection_code   Log-Likelihood:                -175.15\n",
      "Model:                     OrderedModel   AIC:                             378.3\n",
      "Method:              Maximum Likelihood   BIC:                             419.2\n",
      "Date:                  Sun, 05 May 2024                                         \n",
      "Time:                          17:06:33                                         \n",
      "No. Observations:                   137                                         \n",
      "Df Residuals:                       123                                         \n",
      "Df Model:                            10                                         \n",
      "==============================================================================================\n",
      "                                 coef    std err          z      P>|z|      [0.025      0.975]\n",
      "----------------------------------------------------------------------------------------------\n",
      "age                            0.0563      0.016      3.481      0.001       0.025       0.088\n",
      "drone_experience_code          0.1890      0.334      0.566      0.572      -0.466       0.844\n",
      "video_game_experience_code    -0.0161      0.185     -0.087      0.931      -0.379       0.346\n",
      "total_time_seconds            -0.0009      0.000     -2.681      0.007      -0.002      -0.000\n",
      "avg_feedback_time_seconds      0.0268      0.018      1.489      0.136      -0.008       0.062\n",
      "avg_trial_time_seconds         0.0364      0.021      1.750      0.080      -0.004       0.077\n",
      "gender_Non-binary              0.0968      0.732      0.132      0.895      -1.338       1.532\n",
      "gender_Woman                   0.3259      0.396      0.824      0.410      -0.449       1.101\n",
      "condition_code                -0.2023      0.202     -1.000      0.317      -0.599       0.194\n",
      "n_safe_landings               -0.0121      0.036     -0.331      0.740      -0.084       0.059\n",
      "0/1                           -0.8762      1.059     -0.827      0.408      -2.953       1.200\n",
      "1/2                           -0.0575      0.309     -0.186      0.852      -0.663       0.548\n",
      "2/3                            0.2980      0.176      1.691      0.091      -0.047       0.643\n",
      "3/4                            0.7857      0.117      6.724      0.000       0.557       1.015\n",
      "==============================================================================================\n"
     ]
    }
   ],
   "source": [
    "ind_vars = ['age', 'drone_experience_code', \n",
    "            'video_game_experience_code', 'total_time_seconds', \n",
    "            'avg_feedback_time_seconds','avg_trial_time_seconds', \n",
    "            'gender_Non-binary', 'gender_Woman', \n",
    "            'condition_code', 'n_safe_landings']\n",
    "\n",
    "dep_var = 'mode_reflection_code'\n",
    "\n",
    "utils.run_ordered_model(dep_var, ind_vars, part_file)"
   ]
  },
  {
   "cell_type": "code",
   "execution_count": 80,
   "metadata": {},
   "outputs": [
    {
     "name": "stdout",
     "output_type": "stream",
     "text": [
      "Optimization terminated successfully.\n",
      "         Current function value: 0.773863\n",
      "         Iterations: 47\n",
      "         Function evaluations: 56\n",
      "         Gradient evaluations: 56\n",
      "                                   OrderedModel Results                                   \n",
      "==========================================================================================\n",
      "Dep. Variable:     mode_reflection_collapsed_code   Log-Likelihood:                -106.02\n",
      "Model:                               OrderedModel   AIC:                             236.0\n",
      "Method:                        Maximum Likelihood   BIC:                             271.1\n",
      "Date:                            Sun, 05 May 2024                                         \n",
      "Time:                                    17:07:10                                         \n",
      "No. Observations:                             137                                         \n",
      "Df Residuals:                                 125                                         \n",
      "Df Model:                                      10                                         \n",
      "==============================================================================================\n",
      "                                 coef    std err          z      P>|z|      [0.025      0.975]\n",
      "----------------------------------------------------------------------------------------------\n",
      "age                            0.0583      0.020      2.850      0.004       0.018       0.098\n",
      "drone_experience_code          0.5982      0.484      1.236      0.216      -0.350       1.547\n",
      "video_game_experience_code    -0.1012      0.217     -0.467      0.640      -0.526       0.323\n",
      "total_time_seconds            -0.0009      0.000     -2.035      0.042      -0.002   -3.17e-05\n",
      "avg_feedback_time_seconds      0.0448      0.024      1.892      0.059      -0.002       0.091\n",
      "avg_trial_time_seconds         0.0414      0.024      1.694      0.090      -0.007       0.089\n",
      "gender_Non-binary              0.0371      0.780      0.048      0.962      -1.492       1.566\n",
      "gender_Woman                   0.2837      0.457      0.621      0.535      -0.612       1.179\n",
      "condition_code                -0.0946      0.238     -0.397      0.691      -0.561       0.372\n",
      "n_safe_landings               -0.0077      0.044     -0.176      0.860      -0.093       0.078\n",
      "0/1                            1.0875      1.195      0.910      0.363      -1.255       3.430\n",
      "1/2                            0.1742      0.186      0.935      0.350      -0.191       0.540\n",
      "==============================================================================================\n"
     ]
    }
   ],
   "source": [
    "ind_vars = ['age', 'drone_experience_code', \n",
    "            'video_game_experience_code', 'total_time_seconds', \n",
    "            'avg_feedback_time_seconds','avg_trial_time_seconds', \n",
    "            'gender_Non-binary', 'gender_Woman', \n",
    "            'condition_code', 'n_safe_landings']\n",
    "\n",
    "dep_var = 'mode_reflection_collapsed_code'\n",
    "\n",
    "utils.run_ordered_model(dep_var, ind_vars, part_file)"
   ]
  },
  {
   "cell_type": "code",
   "execution_count": 81,
   "metadata": {},
   "outputs": [
    {
     "name": "stdout",
     "output_type": "stream",
     "text": [
      "Optimization terminated successfully.\n",
      "         Current function value: 1.442709\n",
      "         Iterations: 44\n",
      "         Function evaluations: 52\n",
      "         Gradient evaluations: 52\n",
      "                              OrderedModel Results                              \n",
      "================================================================================\n",
      "Dep. Variable:     mode_actionable_code   Log-Likelihood:                -197.65\n",
      "Model:                     OrderedModel   AIC:                             423.3\n",
      "Method:              Maximum Likelihood   BIC:                             464.2\n",
      "Date:                  Sun, 05 May 2024                                         \n",
      "Time:                          17:08:15                                         \n",
      "No. Observations:                   137                                         \n",
      "Df Residuals:                       123                                         \n",
      "Df Model:                            10                                         \n",
      "==============================================================================================\n",
      "                                 coef    std err          z      P>|z|      [0.025      0.975]\n",
      "----------------------------------------------------------------------------------------------\n",
      "age                            0.0161      0.016      1.024      0.306      -0.015       0.047\n",
      "drone_experience_code          0.1852      0.335      0.553      0.580      -0.471       0.842\n",
      "video_game_experience_code     0.2991      0.183      1.634      0.102      -0.060       0.658\n",
      "total_time_seconds            -0.0006      0.000     -1.766      0.077      -0.001    6.11e-05\n",
      "avg_feedback_time_seconds      0.0215      0.018      1.218      0.223      -0.013       0.056\n",
      "avg_trial_time_seconds         0.0317      0.019      1.669      0.095      -0.006       0.069\n",
      "gender_Non-binary             -0.0115      0.701     -0.016      0.987      -1.386       1.363\n",
      "gender_Woman                   0.0993      0.387      0.257      0.797      -0.659       0.858\n",
      "condition_code                 0.0177      0.193      0.091      0.927      -0.361       0.397\n",
      "n_safe_landings               -0.0319      0.036     -0.884      0.377      -0.102       0.039\n",
      "0/1                           -1.0651      1.045     -1.019      0.308      -3.114       0.984\n",
      "1/2                            0.2120      0.219      0.968      0.333      -0.217       0.641\n",
      "2/3                            0.0450      0.169      0.267      0.789      -0.285       0.375\n",
      "3/4                            0.6770      0.123      5.520      0.000       0.437       0.917\n",
      "==============================================================================================\n"
     ]
    }
   ],
   "source": [
    "ind_vars = ['age', 'drone_experience_code', \n",
    "            'video_game_experience_code', 'total_time_seconds', \n",
    "            'avg_feedback_time_seconds','avg_trial_time_seconds', \n",
    "            'gender_Non-binary', 'gender_Woman', \n",
    "            'condition_code', 'n_safe_landings']\n",
    "\n",
    "dep_var = 'mode_actionable_code'\n",
    "\n",
    "utils.run_ordered_model(dep_var, ind_vars, part_file)"
   ]
  },
  {
   "cell_type": "code",
   "execution_count": 82,
   "metadata": {},
   "outputs": [
    {
     "name": "stdout",
     "output_type": "stream",
     "text": [
      "Optimization terminated successfully.\n",
      "         Current function value: 0.964529\n",
      "         Iterations: 40\n",
      "         Function evaluations: 48\n",
      "         Gradient evaluations: 48\n",
      "                                   OrderedModel Results                                   \n",
      "==========================================================================================\n",
      "Dep. Variable:     mode_actionable_collapsed_code   Log-Likelihood:                -132.14\n",
      "Model:                               OrderedModel   AIC:                             288.3\n",
      "Method:                        Maximum Likelihood   BIC:                             323.3\n",
      "Date:                            Sun, 05 May 2024                                         \n",
      "Time:                                    17:08:25                                         \n",
      "No. Observations:                             137                                         \n",
      "Df Residuals:                                 125                                         \n",
      "Df Model:                                      10                                         \n",
      "==============================================================================================\n",
      "                                 coef    std err          z      P>|z|      [0.025      0.975]\n",
      "----------------------------------------------------------------------------------------------\n",
      "age                            0.0070      0.017      0.420      0.674      -0.026       0.040\n",
      "drone_experience_code          0.2158      0.386      0.559      0.576      -0.541       0.973\n",
      "video_game_experience_code     0.2064      0.190      1.089      0.276      -0.165       0.578\n",
      "total_time_seconds            -0.0004      0.000     -1.331      0.183      -0.001       0.000\n",
      "avg_feedback_time_seconds      0.0131      0.020      0.668      0.504      -0.025       0.052\n",
      "avg_trial_time_seconds         0.0408      0.021      1.925      0.054      -0.001       0.082\n",
      "gender_Non-binary             -0.6587      0.748     -0.880      0.379      -2.125       0.808\n",
      "gender_Woman                  -0.1735      0.410     -0.423      0.672      -0.977       0.630\n",
      "condition_code                -0.0341      0.214     -0.159      0.873      -0.454       0.385\n",
      "n_safe_landings               -0.0434      0.039     -1.117      0.264      -0.120       0.033\n",
      "0/1                           -0.3774      1.086     -0.348      0.728      -2.505       1.750\n",
      "1/2                            0.0191      0.171      0.111      0.911      -0.317       0.355\n",
      "==============================================================================================\n"
     ]
    }
   ],
   "source": [
    "ind_vars = ['age', 'drone_experience_code', \n",
    "            'video_game_experience_code', 'total_time_seconds', \n",
    "            'avg_feedback_time_seconds','avg_trial_time_seconds', \n",
    "            'gender_Non-binary', 'gender_Woman', \n",
    "            'condition_code', 'n_safe_landings']\n",
    "\n",
    "dep_var = 'mode_actionable_collapsed_code'\n",
    "\n",
    "utils.run_ordered_model(dep_var, ind_vars, part_file)"
   ]
  },
  {
   "cell_type": "markdown",
   "metadata": {},
   "source": [
    "### What is associated with trial rating for each dimension?"
   ]
  },
  {
   "cell_type": "code",
   "execution_count": 83,
   "metadata": {},
   "outputs": [
    {
     "name": "stdout",
     "output_type": "stream",
     "text": [
      "Optimization terminated successfully.\n",
      "         Current function value: 1.456427\n",
      "         Iterations: 26\n",
      "         Function evaluations: 29\n",
      "         Gradient evaluations: 29\n",
      "                             OrderedModel Results                             \n",
      "==============================================================================\n",
      "Dep. Variable:             motivation   Log-Likelihood:                -3909.0\n",
      "Model:                   OrderedModel   AIC:                             7836.\n",
      "Method:            Maximum Likelihood   BIC:                             7889.\n",
      "Date:                Sun, 05 May 2024                                         \n",
      "Time:                        17:09:41                                         \n",
      "No. Observations:                2684                                         \n",
      "Df Residuals:                    2675                                         \n",
      "Df Model:                           5                                         \n",
      "==============================================================================================\n",
      "                                 coef    std err          z      P>|z|      [0.025      0.975]\n",
      "----------------------------------------------------------------------------------------------\n",
      "trial_time_seconds             0.0045      0.002      2.418      0.016       0.001       0.008\n",
      "feedback_time_seconds          0.0092      0.002      5.585      0.000       0.006       0.012\n",
      "trial                         -0.0284      0.006     -4.428      0.000      -0.041      -0.016\n",
      "outcome_code                  -0.0308      0.048     -0.643      0.521      -0.125       0.063\n",
      "condition_code                 0.0937      0.043      2.197      0.028       0.010       0.177\n",
      "Strongly Disagree/Disagree    -2.4364      0.131    -18.658      0.000      -2.692      -2.180\n",
      "Disagree/Neutral              -0.0193      0.060     -0.322      0.748      -0.137       0.098\n",
      "Neutral/Agree                  0.3340      0.034      9.955      0.000       0.268       0.400\n",
      "Agree/Strongly Agree           0.4366      0.030     14.611      0.000       0.378       0.495\n",
      "==============================================================================================\n"
     ]
    }
   ],
   "source": [
    "ind_vars = ['trial_time_seconds', 'feedback_time_seconds', 'trial', 'outcome_code', 'condition_code']\n",
    "\n",
    "dep_var = 'motivation'\n",
    "\n",
    "utils.run_ordered_model(dep_var, ind_vars, trial_file)"
   ]
  },
  {
   "cell_type": "code",
   "execution_count": 84,
   "metadata": {},
   "outputs": [
    {
     "name": "stdout",
     "output_type": "stream",
     "text": [
      "Optimization terminated successfully.\n",
      "         Current function value: 0.970079\n",
      "         Iterations: 22\n",
      "         Function evaluations: 25\n",
      "         Gradient evaluations: 25\n",
      "                              OrderedModel Results                              \n",
      "================================================================================\n",
      "Dep. Variable:     motivation_collapsed   Log-Likelihood:                -2603.7\n",
      "Model:                     OrderedModel   AIC:                             5221.\n",
      "Method:              Maximum Likelihood   BIC:                             5263.\n",
      "Date:                  Sun, 05 May 2024                                         \n",
      "Time:                          17:11:14                                         \n",
      "No. Observations:                  2684                                         \n",
      "Df Residuals:                      2677                                         \n",
      "Df Model:                             5                                         \n",
      "=========================================================================================\n",
      "                            coef    std err          z      P>|z|      [0.025      0.975]\n",
      "-----------------------------------------------------------------------------------------\n",
      "trial_time_seconds        0.0063      0.002      3.069      0.002       0.002       0.010\n",
      "feedback_time_seconds     0.0102      0.002      5.159      0.000       0.006       0.014\n",
      "trial                    -0.0366      0.007     -5.279      0.000      -0.050      -0.023\n",
      "outcome_code              0.0455      0.051      0.883      0.377      -0.055       0.146\n",
      "condition_code            0.0498      0.047      1.070      0.284      -0.041       0.141\n",
      "Disagree/Neutral         -1.4344      0.129    -11.109      0.000      -1.688      -1.181\n",
      "Neutral/Agree             0.3379      0.034     10.071      0.000       0.272       0.404\n",
      "=========================================================================================\n"
     ]
    }
   ],
   "source": [
    "ind_vars = ['trial_time_seconds', 'feedback_time_seconds', 'trial', 'outcome_code', 'condition_code']\n",
    "\n",
    "dep_var = 'motivation_collapsed'\n",
    "\n",
    "utils.run_ordered_model(dep_var, ind_vars, trial_file)"
   ]
  },
  {
   "cell_type": "code",
   "execution_count": 85,
   "metadata": {},
   "outputs": [
    {
     "name": "stdout",
     "output_type": "stream",
     "text": [
      "Optimization terminated successfully.\n",
      "         Current function value: 1.276166\n",
      "         Iterations: 23\n",
      "         Function evaluations: 25\n",
      "         Gradient evaluations: 25\n",
      "                             OrderedModel Results                             \n",
      "==============================================================================\n",
      "Dep. Variable:             manageable   Log-Likelihood:                -3425.2\n",
      "Model:                   OrderedModel   AIC:                             6868.\n",
      "Method:            Maximum Likelihood   BIC:                             6922.\n",
      "Date:                Sun, 05 May 2024                                         \n",
      "Time:                        17:11:55                                         \n",
      "No. Observations:                2684                                         \n",
      "Df Residuals:                    2675                                         \n",
      "Df Model:                           5                                         \n",
      "==============================================================================================\n",
      "                                 coef    std err          z      P>|z|      [0.025      0.975]\n",
      "----------------------------------------------------------------------------------------------\n",
      "trial_time_seconds            -0.0027      0.002     -1.382      0.167      -0.006       0.001\n",
      "feedback_time_seconds          0.0029      0.002      1.725      0.085      -0.000       0.006\n",
      "trial                          0.0014      0.007      0.214      0.831      -0.012       0.015\n",
      "outcome_code                   0.1288      0.051      2.532      0.011       0.029       0.228\n",
      "condition_code                -0.0410      0.045     -0.918      0.359      -0.129       0.047\n",
      "Much too little/Too little    -2.9399      0.147    -20.058      0.000      -3.227      -2.653\n",
      "Too little/Just right          0.4222      0.055      7.732      0.000       0.315       0.529\n",
      "Just right/Too much            0.9161      0.023     40.543      0.000       0.872       0.960\n",
      "Too much/Much too much         0.1502      0.045      3.345      0.001       0.062       0.238\n",
      "==============================================================================================\n"
     ]
    }
   ],
   "source": [
    "ind_vars = ['trial_time_seconds', 'feedback_time_seconds', 'trial', 'outcome_code', 'condition_code']\n",
    "\n",
    "dep_var = 'manageable'\n",
    "\n",
    "utils.run_ordered_model(dep_var, ind_vars, trial_file)"
   ]
  },
  {
   "cell_type": "code",
   "execution_count": 86,
   "metadata": {},
   "outputs": [
    {
     "name": "stdout",
     "output_type": "stream",
     "text": [
      "Optimization terminated successfully.\n",
      "         Current function value: 0.991112\n",
      "         Iterations: 21\n",
      "         Function evaluations: 24\n",
      "         Gradient evaluations: 24\n",
      "                              OrderedModel Results                              \n",
      "================================================================================\n",
      "Dep. Variable:     manageable_collapsed   Log-Likelihood:                -2660.1\n",
      "Model:                     OrderedModel   AIC:                             5334.\n",
      "Method:              Maximum Likelihood   BIC:                             5376.\n",
      "Date:                  Sun, 05 May 2024                                         \n",
      "Time:                          17:12:18                                         \n",
      "No. Observations:                  2684                                         \n",
      "Df Residuals:                      2677                                         \n",
      "Df Model:                             5                                         \n",
      "=========================================================================================\n",
      "                            coef    std err          z      P>|z|      [0.025      0.975]\n",
      "-----------------------------------------------------------------------------------------\n",
      "trial_time_seconds       -0.0021      0.002     -1.076      0.282      -0.006       0.002\n",
      "feedback_time_seconds     0.0025      0.002      1.451      0.147      -0.001       0.006\n",
      "trial                     0.0010      0.007      0.148      0.882      -0.012       0.014\n",
      "outcome_code              0.1043      0.051      2.031      0.042       0.004       0.205\n",
      "condition_code           -0.0269      0.045     -0.596      0.551      -0.115       0.062\n",
      "Too little/Just right    -1.4296      0.126    -11.320      0.000      -1.677      -1.182\n",
      "Just right/Too much       0.9162      0.023     40.551      0.000       0.872       0.960\n",
      "=========================================================================================\n"
     ]
    }
   ],
   "source": [
    "ind_vars = ['trial_time_seconds', 'feedback_time_seconds', 'trial', 'outcome_code', 'condition_code']\n",
    "\n",
    "dep_var = 'manageable_collapsed'\n",
    "\n",
    "utils.run_ordered_model(dep_var, ind_vars, trial_file)"
   ]
  },
  {
   "cell_type": "code",
   "execution_count": 87,
   "metadata": {},
   "outputs": [
    {
     "name": "stdout",
     "output_type": "stream",
     "text": [
      "Optimization terminated successfully.\n",
      "         Current function value: 1.032238\n",
      "         Iterations: 29\n",
      "         Function evaluations: 31\n",
      "         Gradient evaluations: 31\n",
      "                             OrderedModel Results                             \n",
      "==============================================================================\n",
      "Dep. Variable:                 timely   Log-Likelihood:                -2770.5\n",
      "Model:                   OrderedModel   AIC:                             5559.\n",
      "Method:            Maximum Likelihood   BIC:                             5612.\n",
      "Date:                Sun, 05 May 2024                                         \n",
      "Time:                        17:12:42                                         \n",
      "No. Observations:                2684                                         \n",
      "Df Residuals:                    2675                                         \n",
      "Df Model:                           5                                         \n",
      "======================================================================================================\n",
      "                                         coef    std err          z      P>|z|      [0.025      0.975]\n",
      "------------------------------------------------------------------------------------------------------\n",
      "trial_time_seconds                    -0.0053      0.002     -2.514      0.012      -0.009      -0.001\n",
      "feedback_time_seconds                  0.0055      0.002      3.155      0.002       0.002       0.009\n",
      "trial                                  0.0153      0.007      2.108      0.035       0.001       0.030\n",
      "outcome_code                           0.3111      0.055      5.655      0.000       0.203       0.419\n",
      "condition_code                         0.0791      0.048      1.641      0.101      -0.015       0.173\n",
      "Much too infrequent/Too infrequent    -3.4985      0.191    -18.333      0.000      -3.873      -3.124\n",
      "Too infrequent/Just enough             0.2534      0.099      2.549      0.011       0.059       0.448\n",
      "Just enough/Too often                  1.3102      0.024     55.276      0.000       1.264       1.357\n",
      "Too often/Much too often               0.1270      0.044      2.886      0.004       0.041       0.213\n",
      "======================================================================================================\n"
     ]
    }
   ],
   "source": [
    "ind_vars = ['trial_time_seconds', 'feedback_time_seconds', 'trial', 'outcome_code', 'condition_code']\n",
    "\n",
    "dep_var = 'timely'\n",
    "\n",
    "utils.run_ordered_model(dep_var, ind_vars, trial_file)"
   ]
  },
  {
   "cell_type": "code",
   "execution_count": 88,
   "metadata": {},
   "outputs": [
    {
     "name": "stdout",
     "output_type": "stream",
     "text": [
      "Optimization terminated successfully.\n",
      "         Current function value: 0.798633\n",
      "         Iterations: 22\n",
      "         Function evaluations: 24\n",
      "         Gradient evaluations: 24\n",
      "                             OrderedModel Results                             \n",
      "==============================================================================\n",
      "Dep. Variable:       timely_collapsed   Log-Likelihood:                -2143.5\n",
      "Model:                   OrderedModel   AIC:                             4301.\n",
      "Method:            Maximum Likelihood   BIC:                             4342.\n",
      "Date:                Sun, 05 May 2024                                         \n",
      "Time:                        17:13:55                                         \n",
      "No. Observations:                2684                                         \n",
      "Df Residuals:                    2677                                         \n",
      "Df Model:                           5                                         \n",
      "==============================================================================================\n",
      "                                 coef    std err          z      P>|z|      [0.025      0.975]\n",
      "----------------------------------------------------------------------------------------------\n",
      "trial_time_seconds            -0.0057      0.002     -2.657      0.008      -0.010      -0.001\n",
      "feedback_time_seconds          0.0057      0.002      3.132      0.002       0.002       0.009\n",
      "trial                          0.0124      0.007      1.673      0.094      -0.002       0.027\n",
      "outcome_code                   0.2969      0.056      5.329      0.000       0.188       0.406\n",
      "condition_code                 0.0762      0.049      1.562      0.118      -0.019       0.172\n",
      "Too infrequent/Just enough    -2.2590      0.146    -15.431      0.000      -2.546      -1.972\n",
      "Just enough/Too often          1.3094      0.024     55.246      0.000       1.263       1.356\n",
      "==============================================================================================\n"
     ]
    }
   ],
   "source": [
    "ind_vars = ['trial_time_seconds', 'feedback_time_seconds', 'trial', 'outcome_code', 'condition_code']\n",
    "\n",
    "dep_var = 'timely_collapsed'\n",
    "\n",
    "utils.run_ordered_model(dep_var, ind_vars, trial_file)"
   ]
  },
  {
   "cell_type": "code",
   "execution_count": 89,
   "metadata": {},
   "outputs": [
    {
     "name": "stdout",
     "output_type": "stream",
     "text": [
      "Optimization terminated successfully.\n",
      "         Current function value: 1.448528\n",
      "         Iterations: 27\n",
      "         Function evaluations: 31\n",
      "         Gradient evaluations: 31\n",
      "                             OrderedModel Results                             \n",
      "==============================================================================\n",
      "Dep. Variable:             reflection   Log-Likelihood:                -3887.8\n",
      "Model:                   OrderedModel   AIC:                             7794.\n",
      "Method:            Maximum Likelihood   BIC:                             7847.\n",
      "Date:                Sun, 05 May 2024                                         \n",
      "Time:                        17:14:57                                         \n",
      "No. Observations:                2684                                         \n",
      "Df Residuals:                    2675                                         \n",
      "Df Model:                           5                                         \n",
      "==============================================================================================\n",
      "                                 coef    std err          z      P>|z|      [0.025      0.975]\n",
      "----------------------------------------------------------------------------------------------\n",
      "trial_time_seconds             0.0080      0.002      4.325      0.000       0.004       0.012\n",
      "feedback_time_seconds          0.0062      0.002      3.832      0.000       0.003       0.009\n",
      "trial                         -0.0178      0.006     -2.789      0.005      -0.030      -0.005\n",
      "outcome_code                  -0.0682      0.048     -1.417      0.156      -0.162       0.026\n",
      "condition_code                 0.0818      0.042      1.932      0.053      -0.001       0.165\n",
      "Strongly Disagree/Disagree    -2.4291      0.131    -18.613      0.000      -2.685      -2.173\n",
      "Disagree/Neutral               0.0147      0.060      0.243      0.808      -0.104       0.133\n",
      "Neutral/Agree                  0.2106      0.037      5.718      0.000       0.138       0.283\n",
      "Agree/Strongly Agree           0.4779      0.028     16.818      0.000       0.422       0.534\n",
      "==============================================================================================\n"
     ]
    }
   ],
   "source": [
    "ind_vars = ['trial_time_seconds', 'feedback_time_seconds', 'trial', 'outcome_code', 'condition_code']\n",
    "\n",
    "dep_var = 'reflection'\n",
    "\n",
    "utils.run_ordered_model(dep_var, ind_vars, trial_file)"
   ]
  },
  {
   "cell_type": "code",
   "execution_count": 90,
   "metadata": {},
   "outputs": [
    {
     "name": "stdout",
     "output_type": "stream",
     "text": [
      "Optimization terminated successfully.\n",
      "         Current function value: 0.931027\n",
      "         Iterations: 23\n",
      "         Function evaluations: 27\n",
      "         Gradient evaluations: 27\n",
      "                              OrderedModel Results                              \n",
      "================================================================================\n",
      "Dep. Variable:     reflection_collapsed   Log-Likelihood:                -2498.9\n",
      "Model:                     OrderedModel   AIC:                             5012.\n",
      "Method:              Maximum Likelihood   BIC:                             5053.\n",
      "Date:                  Sun, 05 May 2024                                         \n",
      "Time:                          17:16:09                                         \n",
      "No. Observations:                  2684                                         \n",
      "Df Residuals:                      2677                                         \n",
      "Df Model:                             5                                         \n",
      "=========================================================================================\n",
      "                            coef    std err          z      P>|z|      [0.025      0.975]\n",
      "-----------------------------------------------------------------------------------------\n",
      "trial_time_seconds        0.0104      0.002      4.767      0.000       0.006       0.015\n",
      "feedback_time_seconds     0.0092      0.002      4.550      0.000       0.005       0.013\n",
      "trial                    -0.0277      0.007     -3.890      0.000      -0.042      -0.014\n",
      "outcome_code              0.0397      0.053      0.751      0.453      -0.064       0.143\n",
      "condition_code            0.0720      0.047      1.535      0.125      -0.020       0.164\n",
      "Disagree/Neutral         -1.2736      0.131     -9.728      0.000      -1.530      -1.017\n",
      "Neutral/Agree             0.2167      0.037      5.885      0.000       0.145       0.289\n",
      "=========================================================================================\n"
     ]
    }
   ],
   "source": [
    "ind_vars = ['trial_time_seconds', 'feedback_time_seconds', 'trial', 'outcome_code', 'condition_code']\n",
    "\n",
    "dep_var = 'reflection_collapsed'\n",
    "\n",
    "utils.run_ordered_model(dep_var, ind_vars, trial_file)"
   ]
  },
  {
   "cell_type": "code",
   "execution_count": 91,
   "metadata": {},
   "outputs": [
    {
     "name": "stdout",
     "output_type": "stream",
     "text": [
      "Optimization terminated successfully.\n",
      "         Current function value: 1.498906\n",
      "         Iterations: 25\n",
      "         Function evaluations: 29\n",
      "         Gradient evaluations: 29\n",
      "                             OrderedModel Results                             \n",
      "==============================================================================\n",
      "Dep. Variable:             actionable   Log-Likelihood:                -4023.1\n",
      "Model:                   OrderedModel   AIC:                             8064.\n",
      "Method:            Maximum Likelihood   BIC:                             8117.\n",
      "Date:                Sun, 05 May 2024                                         \n",
      "Time:                        17:17:02                                         \n",
      "No. Observations:                2684                                         \n",
      "Df Residuals:                    2675                                         \n",
      "Df Model:                           5                                         \n",
      "==============================================================================================\n",
      "                                 coef    std err          z      P>|z|      [0.025      0.975]\n",
      "----------------------------------------------------------------------------------------------\n",
      "trial_time_seconds             0.0044      0.002      2.388      0.017       0.001       0.008\n",
      "feedback_time_seconds          0.0049      0.002      3.029      0.002       0.002       0.008\n",
      "trial                         -0.0100      0.006     -1.569      0.117      -0.022       0.002\n",
      "outcome_code                   0.0102      0.048      0.213      0.831      -0.083       0.104\n",
      "condition_code                 0.0598      0.042      1.430      0.153      -0.022       0.142\n",
      "Strongly Disagree/Disagree    -2.2263      0.127    -17.524      0.000      -2.475      -1.977\n",
      "Disagree/Neutral               0.2283      0.048      4.726      0.000       0.134       0.323\n",
      "Neutral/Agree                  0.0948      0.036      2.642      0.008       0.024       0.165\n",
      "Agree/Strongly Agree           0.5165      0.029     17.582      0.000       0.459       0.574\n",
      "==============================================================================================\n"
     ]
    }
   ],
   "source": [
    "ind_vars = ['trial_time_seconds', 'feedback_time_seconds', 'trial', 'outcome_code', 'condition_code']\n",
    "\n",
    "dep_var = 'actionable'\n",
    "\n",
    "utils.run_ordered_model(dep_var, ind_vars, trial_file)"
   ]
  },
  {
   "cell_type": "code",
   "execution_count": 92,
   "metadata": {},
   "outputs": [
    {
     "name": "stdout",
     "output_type": "stream",
     "text": [
      "Optimization terminated successfully.\n",
      "         Current function value: 1.016162\n",
      "         Iterations: 22\n",
      "         Function evaluations: 26\n",
      "         Gradient evaluations: 26\n",
      "                              OrderedModel Results                              \n",
      "================================================================================\n",
      "Dep. Variable:     actionable_collapsed   Log-Likelihood:                -2727.4\n",
      "Model:                     OrderedModel   AIC:                             5469.\n",
      "Method:              Maximum Likelihood   BIC:                             5510.\n",
      "Date:                  Sun, 05 May 2024                                         \n",
      "Time:                          17:17:41                                         \n",
      "No. Observations:                  2684                                         \n",
      "Df Residuals:                      2677                                         \n",
      "Df Model:                             5                                         \n",
      "=========================================================================================\n",
      "                            coef    std err          z      P>|z|      [0.025      0.975]\n",
      "-----------------------------------------------------------------------------------------\n",
      "trial_time_seconds        0.0055      0.002      2.773      0.006       0.002       0.009\n",
      "feedback_time_seconds     0.0042      0.002      2.400      0.016       0.001       0.008\n",
      "trial                    -0.0165      0.007     -2.437      0.015      -0.030      -0.003\n",
      "outcome_code              0.0353      0.051      0.697      0.486      -0.064       0.134\n",
      "condition_code            0.0282      0.045      0.627      0.531      -0.060       0.117\n",
      "Disagree/Neutral         -1.0336      0.124     -8.338      0.000      -1.277      -0.791\n",
      "Neutral/Agree             0.0959      0.036      2.674      0.007       0.026       0.166\n",
      "=========================================================================================\n"
     ]
    }
   ],
   "source": [
    "ind_vars = ['trial_time_seconds', 'feedback_time_seconds', 'trial', 'outcome_code', 'condition_code']\n",
    "\n",
    "dep_var = 'actionable_collapsed'\n",
    "\n",
    "utils.run_ordered_model(dep_var, ind_vars, trial_file)"
   ]
  },
  {
   "cell_type": "markdown",
   "metadata": {},
   "source": [
    "### Distributions of dimensional ratings across groups"
   ]
  },
  {
   "cell_type": "markdown",
   "metadata": {},
   "source": [
    "**MOTIVATION**"
   ]
  },
  {
   "cell_type": "code",
   "execution_count": 93,
   "metadata": {},
   "outputs": [
    {
     "name": "stdout",
     "output_type": "stream",
     "text": [
      "mode_motivation_code     0     1     2     3     4\n",
      "condition                                         \n",
      "full                  0.04  0.09  0.28  0.41  0.17\n",
      "score                 0.02  0.13  0.31  0.33  0.20\n",
      "text                  0.13  0.04  0.17  0.43  0.22\n",
      "KruskalResult(statistic=0.31567586876934506, pvalue=0.8539881728726944)\n"
     ]
    }
   ],
   "source": [
    "utils.run_kruskal('mode_motivation_code', part_file)"
   ]
  },
  {
   "cell_type": "code",
   "execution_count": 94,
   "metadata": {},
   "outputs": [
    {
     "name": "stdout",
     "output_type": "stream",
     "text": [
      "mode_motivation_collapsed_code     0     1     2\n",
      "condition                                       \n",
      "full                            0.17  0.24  0.59\n",
      "score                           0.16  0.29  0.56\n",
      "text                            0.17  0.17  0.65\n",
      "KruskalResult(statistic=0.5094110183965355, pvalue=0.7751447373473915)\n"
     ]
    }
   ],
   "source": [
    "utils.run_kruskal('mode_motivation_collapsed_code', part_file)"
   ]
  },
  {
   "cell_type": "markdown",
   "metadata": {},
   "source": [
    "**MANAGEABLE**"
   ]
  },
  {
   "cell_type": "code",
   "execution_count": 95,
   "metadata": {},
   "outputs": [
    {
     "name": "stdout",
     "output_type": "stream",
     "text": [
      "mode_manageable_code     0     1     2     3     4\n",
      "condition                                         \n",
      "full                  0.02  0.09  0.63  0.15  0.11\n",
      "score                 0.07  0.22  0.60  0.04  0.07\n",
      "text                  0.07  0.04  0.59  0.20  0.11\n",
      "KruskalResult(statistic=8.5469918210492, pvalue=0.01393298942940031)\n",
      "           full     score      text\n",
      "full   1.000000  0.047528  1.000000\n",
      "score  0.047528  1.000000  0.024559\n",
      "text   1.000000  0.024559  1.000000\n"
     ]
    }
   ],
   "source": [
    "utils.run_kruskal('mode_manageable_code', part_file)"
   ]
  },
  {
   "cell_type": "code",
   "execution_count": 96,
   "metadata": {},
   "outputs": [
    {
     "name": "stdout",
     "output_type": "stream",
     "text": [
      "mode_manageable_collapsed_code     0     1     2\n",
      "condition                                       \n",
      "full                            0.11  0.59  0.30\n",
      "score                           0.31  0.60  0.09\n",
      "text                            0.11  0.54  0.35\n",
      "KruskalResult(statistic=13.936061267415916, pvalue=0.000941505249968438)\n",
      "          full    score     text\n",
      "full   1.00000  0.00665  1.00000\n",
      "score  0.00665  1.00000  0.00208\n",
      "text   1.00000  0.00208  1.00000\n"
     ]
    }
   ],
   "source": [
    "utils.run_kruskal('mode_manageable_collapsed_code', part_file)"
   ]
  },
  {
   "cell_type": "markdown",
   "metadata": {},
   "source": [
    "**ACTIONABLE**"
   ]
  },
  {
   "cell_type": "code",
   "execution_count": 97,
   "metadata": {},
   "outputs": [
    {
     "name": "stdout",
     "output_type": "stream",
     "text": [
      "mode_actionable_code     0     1     2     3     4\n",
      "condition                                         \n",
      "full                  0.02  0.09  0.24  0.52  0.13\n",
      "score                 0.16  0.27  0.29  0.16  0.13\n",
      "text                  0.07  0.09  0.13  0.50  0.22\n",
      "KruskalResult(statistic=15.707944502215605, pvalue=0.0003882068464027618)\n",
      "           full     score      text\n",
      "full   1.000000  0.005095  1.000000\n",
      "score  0.005095  1.000000  0.000714\n",
      "text   1.000000  0.000714  1.000000\n"
     ]
    }
   ],
   "source": [
    "utils.run_kruskal('mode_actionable_code', part_file)"
   ]
  },
  {
   "cell_type": "code",
   "execution_count": 98,
   "metadata": {},
   "outputs": [
    {
     "name": "stdout",
     "output_type": "stream",
     "text": [
      "mode_actionable_collapsed_code     0     1     2\n",
      "condition                                       \n",
      "full                            0.13  0.22  0.65\n",
      "score                           0.40  0.29  0.31\n",
      "text                            0.17  0.13  0.70\n",
      "KruskalResult(statistic=16.83896372223278, pvalue=0.0002205288878245364)\n",
      "           full     score      text\n",
      "full   1.000000  0.001425  1.000000\n",
      "score  0.001425  1.000000  0.000875\n",
      "text   1.000000  0.000875  1.000000\n"
     ]
    }
   ],
   "source": [
    "utils.run_kruskal('mode_actionable_collapsed_code', part_file)"
   ]
  },
  {
   "cell_type": "markdown",
   "metadata": {},
   "source": [
    "**TIMELY**"
   ]
  },
  {
   "cell_type": "code",
   "execution_count": 99,
   "metadata": {},
   "outputs": [
    {
     "name": "stdout",
     "output_type": "stream",
     "text": [
      "mode_timely_code     0     1     2     3     4\n",
      "condition                                     \n",
      "full              0.00  0.00  0.74  0.13  0.13\n",
      "score             0.02  0.07  0.64  0.18  0.09\n",
      "text              0.02  0.00  0.61  0.17  0.20\n",
      "KruskalResult(statistic=2.5897813753657135, pvalue=0.2739278063781436)\n"
     ]
    }
   ],
   "source": [
    "utils.run_kruskal('mode_timely_code', part_file)"
   ]
  },
  {
   "cell_type": "code",
   "execution_count": 100,
   "metadata": {},
   "outputs": [
    {
     "name": "stdout",
     "output_type": "stream",
     "text": [
      "mode_timely_collapsed_code     0     1     2\n",
      "condition                                   \n",
      "full                        0.02  0.72  0.26\n",
      "score                       0.09  0.64  0.27\n",
      "text                        0.02  0.59  0.39\n",
      "KruskalResult(statistic=2.9089328827839984, pvalue=0.23352492990309748)\n"
     ]
    }
   ],
   "source": [
    "utils.run_kruskal('mode_timely_collapsed_code', part_file)"
   ]
  },
  {
   "cell_type": "markdown",
   "metadata": {},
   "source": [
    "**REFLECTION**"
   ]
  },
  {
   "cell_type": "code",
   "execution_count": 101,
   "metadata": {},
   "outputs": [
    {
     "name": "stdout",
     "output_type": "stream",
     "text": [
      "mode_reflection_code     0     1     2     3     4\n",
      "condition                                         \n",
      "full                  0.04  0.04  0.22  0.46  0.24\n",
      "score                 0.09  0.11  0.18  0.40  0.22\n",
      "text                  0.07  0.07  0.22  0.43  0.22\n",
      "KruskalResult(statistic=0.6951396880264286, pvalue=0.7064026742088294)\n"
     ]
    }
   ],
   "source": [
    "utils.run_kruskal('mode_reflection_code', part_file)"
   ]
  },
  {
   "cell_type": "code",
   "execution_count": 102,
   "metadata": {},
   "outputs": [
    {
     "name": "stdout",
     "output_type": "stream",
     "text": [
      "mode_reflection_collapsed_code     0     1     2\n",
      "condition                                       \n",
      "full                            0.13  0.20  0.67\n",
      "score                           0.22  0.16  0.62\n",
      "text                            0.13  0.20  0.67\n",
      "KruskalResult(statistic=0.7144449998691459, pvalue=0.6996168157199105)\n"
     ]
    }
   ],
   "source": [
    "utils.run_kruskal('mode_reflection_collapsed_code', part_file)"
   ]
  },
  {
   "cell_type": "markdown",
   "metadata": {},
   "source": [
    "### Did they think the feedback helped?"
   ]
  },
  {
   "cell_type": "code",
   "execution_count": 104,
   "metadata": {},
   "outputs": [
    {
     "name": "stdout",
     "output_type": "stream",
     "text": [
      "feedback_helped_code     0     1     2     3     4\n",
      "condition                                         \n",
      "full                  0.09  0.13  0.22  0.43  0.13\n",
      "score                 0.22  0.16  0.20  0.31  0.11\n",
      "text                  0.17  0.09  0.07  0.54  0.13\n",
      "KruskalResult(statistic=3.7471395176659312, pvalue=0.15357445835716177)\n"
     ]
    }
   ],
   "source": [
    "utils.run_kruskal('feedback_helped_code', part_file)"
   ]
  },
  {
   "cell_type": "code",
   "execution_count": 105,
   "metadata": {},
   "outputs": [
    {
     "name": "stdout",
     "output_type": "stream",
     "text": [
      "feedback_helped_collapsed_code     0     1     2\n",
      "condition                                       \n",
      "full                            0.22  0.22  0.57\n",
      "score                           0.38  0.20  0.42\n",
      "text                            0.26  0.07  0.67\n",
      "KruskalResult(statistic=4.9103711719278245, pvalue=0.08584726191584136)\n"
     ]
    }
   ],
   "source": [
    "utils.run_kruskal('feedback_helped_collapsed_code', part_file)"
   ]
  },
  {
   "cell_type": "markdown",
   "metadata": {},
   "source": [
    "## Evolution of Performance"
   ]
  },
  {
   "cell_type": "markdown",
   "metadata": {},
   "source": [
    "For each condition, plot out the success of the trial for each participant"
   ]
  },
  {
   "cell_type": "code",
   "execution_count": 6,
   "metadata": {},
   "outputs": [
    {
     "name": "stdout",
     "output_type": "stream",
     "text": [
      "skipping participant 6522a86994a5ce0d7bb9feba trial 9\n"
     ]
    },
    {
     "data": {
      "image/png": "[encoded data removed]",
      "text/plain": [
       "<Figure size 800x600 with 3 Axes>"
      ]
     },
     "metadata": {},
     "output_type": "display_data"
    }
   ],
   "source": [
    "fig, axs = plt.subplots(1,3, figsize=(8,6))\n",
    "n_trials = 20\n",
    "\n",
    "conditions = list(ids.keys())\n",
    "\n",
    "# for each condition\n",
    "for a in range(len(axs)):\n",
    "    overall_scores = []\n",
    "\n",
    "    # for each participant in that condition\n",
    "    for i in range(len(ids[conditions[a]])):\n",
    "        part = ids[conditions[a]].iloc[i]\n",
    "        data = pd.read_csv(data_dir + part + '/survey_responses.csv')\n",
    "\n",
    "        # score for that participant\n",
    "        data['outcome_sore'] = 0\n",
    "        data.loc[data['outcome'] == 'Unsafe', 'outcome_score'] = 3\n",
    "        data.loc[data['outcome'] == 'Crash', 'outcome_score'] = 5\n",
    "\n",
    "        total_score = data['outcome_score'].sum()\n",
    "        overall_scores.append((i, part, total_score))\n",
    "\n",
    "    # sort participants for this condition\n",
    "    sorted_participants = sorted(overall_scores, key=lambda x: x[2], reverse=True)\n",
    "\n",
    "    # plot all participants in sorted order\n",
    "    for sorted_index, (_, part, _) in enumerate(sorted_participants):\n",
    "        data = pd.read_csv(data_dir + part + '/survey_responses.csv')\n",
    "\n",
    "        # plot all trials for that participant\n",
    "        for trial in range(n_trials):\n",
    "            try:\n",
    "                outcome = data[data['trial'] == trial+1]['outcome'].values[0]\n",
    "                if outcome == 'Safe':\n",
    "                    axs[a].plot(trial, sorted_index, 'go')\n",
    "                elif outcome == 'Unsafe':\n",
    "                    axs[a].plot(trial, sorted_index, 'ko')\n",
    "                else:\n",
    "                    axs[a].plot(trial, sorted_index, 'ro')\n",
    "            except:\n",
    "                print(f\"skipping participant {part} trial {trial}\")\n",
    "\n",
    "    axs[a].set_aspect('equal')\n",
    "    axs[a].set_title(f'{conditions[a]}')\n",
    "\n",
    "plt.show()"
   ]
  },
  {
   "cell_type": "code",
   "execution_count": 7,
   "metadata": {},
   "outputs": [
    {
     "name": "stdout",
     "output_type": "stream",
     "text": [
      "skipping participant 6522a86994a5ce0d7bb9feba trial 9\n"
     ]
    },
    {
     "data": {
      "image/png": "[encoded data removed]",
      "text/plain": [
       "<Figure size 800x600 with 3 Axes>"
      ]
     },
     "metadata": {},
     "output_type": "display_data"
    }
   ],
   "source": [
    "fig, axs = plt.subplots(1,3, figsize=(8,6))\n",
    "n_trials = 20\n",
    "\n",
    "conditions = list(ids.keys())\n",
    "\n",
    "# for each condition\n",
    "for a in range(len(axs)):\n",
    "    overall_scores = []\n",
    "\n",
    "    # for each participant in that condition\n",
    "    for i in range(len(ids[conditions[a]])):\n",
    "        part = ids[conditions[a]].iloc[i]\n",
    "        data = pd.read_csv(data_dir + part + '/survey_responses.csv')\n",
    "\n",
    "        # score for that participant\n",
    "        data['outcome_sore'] = 0\n",
    "        data.loc[data['outcome'] == 'Crash', 'outcome_score'] = 3\n",
    "\n",
    "        total_score = data['outcome_score'].sum()\n",
    "        overall_scores.append((i, part, total_score))\n",
    "\n",
    "    # sort participants for this condition\n",
    "    sorted_participants = sorted(overall_scores, key=lambda x: x[2], reverse=True)\n",
    "\n",
    "    # plot all participants in sorted order\n",
    "    for sorted_index, (_, part, _) in enumerate(sorted_participants):\n",
    "        data = pd.read_csv(data_dir + part + '/survey_responses.csv')\n",
    "\n",
    "        # plot all trials for that participant\n",
    "        for trial in range(n_trials):\n",
    "            try:\n",
    "                outcome = data[data['trial'] == trial+1]['outcome'].values[0]\n",
    "                if outcome == 'Safe' or outcome == 'Unsafe':\n",
    "                    axs[a].plot(trial, sorted_index, 'ko')\n",
    "                else:\n",
    "                    axs[a].plot(trial, sorted_index, 'ro')\n",
    "            except:\n",
    "                print(f\"skipping participant {part} trial {trial}\")\n",
    "\n",
    "    axs[a].set_aspect('equal')\n",
    "    axs[a].set_title(f'{conditions[a]}')\n",
    "\n",
    "plt.show()"
   ]
  },
  {
   "cell_type": "code",
   "execution_count": 32,
   "metadata": {},
   "outputs": [],
   "source": [
    "# calculate if each participant got a safe landing within the first 5 trials\n",
    "part_file['safe_in_first_5'] = False\n",
    "part_file['land_in_first_5'] = False\n",
    "part_file['safe_last_5'] = 0\n",
    "part_file['unsafe_last_5'] = 0\n",
    "part_file['land_last_5'] = 0\n",
    "part_file['crash_last_5'] = 0\n",
    "\n",
    "for part in part_file['prolific_id']:\n",
    "    data = pd.read_csv(data_dir + part + '/survey_responses.csv')\n",
    "    first_five = data[data['trial'] <= 5]\n",
    "    last_five = data[data['trial'] >= 16]\n",
    "\n",
    "    n_safe = (first_five['outcome'] == 'Safe').sum()\n",
    "    if n_safe > 0:\n",
    "        part_file.loc[part_file['prolific_id'] == part, 'safe_in_first_5'] = True\n",
    "    n_land = (first_five['outcome'].isin(['Safe', 'Unsafe'])).sum()\n",
    "    if n_land > 0:\n",
    "        part_file.loc[part_file['prolific_id'] == part, 'land_in_first_5'] = True\n",
    "\n",
    "    n_safe = (last_five['outcome'] == 'Safe').sum()\n",
    "    n_unsafe = (last_five['outcome'] == 'Unsafe').sum()\n",
    "    n_crash = (last_five['outcome'] == 'Crash').sum()\n",
    "    n_land = n_safe + n_unsafe\n",
    "    part_file.loc[part_file['prolific_id'] == part, 'safe_last_5'] = n_safe\n",
    "    part_file.loc[part_file['prolific_id'] == part, 'unsafe_last_5'] = n_unsafe\n",
    "    part_file.loc[part_file['prolific_id'] == part, 'land_last_5'] = n_land\n",
    "    part_file.loc[part_file['prolific_id'] == part, 'crash_last_5'] = n_crash"
   ]
  },
  {
   "cell_type": "code",
   "execution_count": 33,
   "metadata": {},
   "outputs": [],
   "source": [
    "struggle_land_ids = part_file[part_file['land_in_first_5'] == False]['prolific_id']\n",
    "struggle_safe_ids = part_file[part_file['safe_in_first_5'] == False]['prolific_id']"
   ]
  },
  {
   "cell_type": "code",
   "execution_count": 35,
   "metadata": {},
   "outputs": [
    {
     "data": {
      "text/html": [
       "<div>\n",
       "<style scoped>\n",
       "    .dataframe tbody tr th:only-of-type {\n",
       "        vertical-align: middle;\n",
       "    }\n",
       "\n",
       "    .dataframe tbody tr th {\n",
       "        vertical-align: top;\n",
       "    }\n",
       "\n",
       "    .dataframe thead th {\n",
       "        text-align: right;\n",
       "    }\n",
       "</style>\n",
       "<table border=\"1\" class=\"dataframe\">\n",
       "  <thead>\n",
       "    <tr style=\"text-align: right;\">\n",
       "      <th>safe_in_first_5</th>\n",
       "      <th>False</th>\n",
       "      <th>True</th>\n",
       "    </tr>\n",
       "    <tr>\n",
       "      <th>condition</th>\n",
       "      <th></th>\n",
       "      <th></th>\n",
       "    </tr>\n",
       "  </thead>\n",
       "  <tbody>\n",
       "    <tr>\n",
       "      <th>full</th>\n",
       "      <td>23</td>\n",
       "      <td>23</td>\n",
       "    </tr>\n",
       "    <tr>\n",
       "      <th>score</th>\n",
       "      <td>23</td>\n",
       "      <td>22</td>\n",
       "    </tr>\n",
       "    <tr>\n",
       "      <th>text</th>\n",
       "      <td>23</td>\n",
       "      <td>23</td>\n",
       "    </tr>\n",
       "  </tbody>\n",
       "</table>\n",
       "</div>"
      ],
      "text/plain": [
       "safe_in_first_5  False  True \n",
       "condition                    \n",
       "full                23     23\n",
       "score               23     22\n",
       "text                23     23"
      ]
     },
     "execution_count": 35,
     "metadata": {},
     "output_type": "execute_result"
    }
   ],
   "source": [
    "part_file.groupby('condition')['safe_in_first_5'].value_counts().unstack()"
   ]
  },
  {
   "cell_type": "code",
   "execution_count": 36,
   "metadata": {},
   "outputs": [
    {
     "data": {
      "text/html": [
       "<div>\n",
       "<style scoped>\n",
       "    .dataframe tbody tr th:only-of-type {\n",
       "        vertical-align: middle;\n",
       "    }\n",
       "\n",
       "    .dataframe tbody tr th {\n",
       "        vertical-align: top;\n",
       "    }\n",
       "\n",
       "    .dataframe thead th {\n",
       "        text-align: right;\n",
       "    }\n",
       "</style>\n",
       "<table border=\"1\" class=\"dataframe\">\n",
       "  <thead>\n",
       "    <tr style=\"text-align: right;\">\n",
       "      <th></th>\n",
       "      <th>mean</th>\n",
       "      <th>std</th>\n",
       "    </tr>\n",
       "    <tr>\n",
       "      <th>condition</th>\n",
       "      <th></th>\n",
       "      <th></th>\n",
       "    </tr>\n",
       "  </thead>\n",
       "  <tbody>\n",
       "    <tr>\n",
       "      <th>full</th>\n",
       "      <td>3.0</td>\n",
       "      <td>1.414214</td>\n",
       "    </tr>\n",
       "    <tr>\n",
       "      <th>score</th>\n",
       "      <td>1.0</td>\n",
       "      <td>2.000000</td>\n",
       "    </tr>\n",
       "    <tr>\n",
       "      <th>text</th>\n",
       "      <td>1.5</td>\n",
       "      <td>1.732051</td>\n",
       "    </tr>\n",
       "  </tbody>\n",
       "</table>\n",
       "</div>"
      ],
      "text/plain": [
       "           mean       std\n",
       "condition                \n",
       "full        3.0  1.414214\n",
       "score       1.0  2.000000\n",
       "text        1.5  1.732051"
      ]
     },
     "execution_count": 36,
     "metadata": {},
     "output_type": "execute_result"
    }
   ],
   "source": [
    "part_file[part_file['prolific_id'].isin(struggle_land_ids)].groupby('condition')['safe_last_5'].agg(['mean', 'std'])"
   ]
  },
  {
   "cell_type": "code",
   "execution_count": 28,
   "metadata": {},
   "outputs": [
    {
     "data": {
      "text/html": [
       "<div>\n",
       "<style scoped>\n",
       "    .dataframe tbody tr th:only-of-type {\n",
       "        vertical-align: middle;\n",
       "    }\n",
       "\n",
       "    .dataframe tbody tr th {\n",
       "        vertical-align: top;\n",
       "    }\n",
       "\n",
       "    .dataframe thead th {\n",
       "        text-align: right;\n",
       "    }\n",
       "</style>\n",
       "<table border=\"1\" class=\"dataframe\">\n",
       "  <thead>\n",
       "    <tr style=\"text-align: right;\">\n",
       "      <th></th>\n",
       "      <th>mean</th>\n",
       "      <th>std</th>\n",
       "    </tr>\n",
       "    <tr>\n",
       "      <th>condition</th>\n",
       "      <th></th>\n",
       "      <th></th>\n",
       "    </tr>\n",
       "  </thead>\n",
       "  <tbody>\n",
       "    <tr>\n",
       "      <th>full</th>\n",
       "      <td>5.869565</td>\n",
       "      <td>2.768399</td>\n",
       "    </tr>\n",
       "    <tr>\n",
       "      <th>score</th>\n",
       "      <td>7.000000</td>\n",
       "      <td>3.977208</td>\n",
       "    </tr>\n",
       "    <tr>\n",
       "      <th>text</th>\n",
       "      <td>7.391304</td>\n",
       "      <td>3.499859</td>\n",
       "    </tr>\n",
       "  </tbody>\n",
       "</table>\n",
       "</div>"
      ],
      "text/plain": [
       "               mean       std\n",
       "condition                    \n",
       "full       5.869565  2.768399\n",
       "score      7.000000  3.977208\n",
       "text       7.391304  3.499859"
      ]
     },
     "execution_count": 28,
     "metadata": {},
     "output_type": "execute_result"
    }
   ],
   "source": [
    "part_file[part_file['prolific_id'].isin(struggle_safe_ids)].groupby('condition')['n_crashes'].agg(['mean', 'std'])"
   ]
  },
  {
   "cell_type": "code",
   "execution_count": 37,
   "metadata": {},
   "outputs": [
    {
     "name": "stdout",
     "output_type": "stream",
     "text": [
      "F_onewayResult(statistic=0.8217391304347825, pvalue=0.478005876643478)\n"
     ]
    }
   ],
   "source": [
    "utils.run_anova('safe_last_5', part_file[part_file['prolific_id'].isin(struggle_land_ids)])"
   ]
  },
  {
   "cell_type": "code",
   "execution_count": 16,
   "metadata": {},
   "outputs": [
    {
     "data": {
      "text/html": [
       "<div>\n",
       "<style scoped>\n",
       "    .dataframe tbody tr th:only-of-type {\n",
       "        vertical-align: middle;\n",
       "    }\n",
       "\n",
       "    .dataframe tbody tr th {\n",
       "        vertical-align: top;\n",
       "    }\n",
       "\n",
       "    .dataframe thead th {\n",
       "        text-align: right;\n",
       "    }\n",
       "</style>\n",
       "<table border=\"1\" class=\"dataframe\">\n",
       "  <thead>\n",
       "    <tr style=\"text-align: right;\">\n",
       "      <th></th>\n",
       "      <th>mean</th>\n",
       "      <th>std</th>\n",
       "    </tr>\n",
       "    <tr>\n",
       "      <th>condition</th>\n",
       "      <th></th>\n",
       "      <th></th>\n",
       "    </tr>\n",
       "  </thead>\n",
       "  <tbody>\n",
       "    <tr>\n",
       "      <th>full</th>\n",
       "      <td>5.000000</td>\n",
       "      <td>3.089572</td>\n",
       "    </tr>\n",
       "    <tr>\n",
       "      <th>score</th>\n",
       "      <td>4.173913</td>\n",
       "      <td>4.725676</td>\n",
       "    </tr>\n",
       "    <tr>\n",
       "      <th>text</th>\n",
       "      <td>4.521739</td>\n",
       "      <td>4.021189</td>\n",
       "    </tr>\n",
       "  </tbody>\n",
       "</table>\n",
       "</div>"
      ],
      "text/plain": [
       "               mean       std\n",
       "condition                    \n",
       "full       5.000000  3.089572\n",
       "score      4.173913  4.725676\n",
       "text       4.521739  4.021189"
      ]
     },
     "execution_count": 16,
     "metadata": {},
     "output_type": "execute_result"
    }
   ],
   "source": [
    "part_file[part_file['prolific_id'].isin(struggle_safe_ids)].groupby('condition')['n_safe_landings'].agg(['mean', 'std'])"
   ]
  },
  {
   "cell_type": "code",
   "execution_count": 14,
   "metadata": {},
   "outputs": [
    {
     "name": "stdout",
     "output_type": "stream",
     "text": [
      "F_onewayResult(statistic=0.05749674054758801, pvalue=0.9445661268627443)\n"
     ]
    }
   ],
   "source": [
    "utils.run_anova('n_safe_landings', part_file[part_file['prolific_id'].isin(struggle_land_ids)])"
   ]
  },
  {
   "cell_type": "code",
   "execution_count": 13,
   "metadata": {},
   "outputs": [
    {
     "data": {
      "text/plain": [
       "condition\n",
       "full     5.000000\n",
       "score    4.173913\n",
       "text     4.521739\n",
       "Name: n_safe_landings, dtype: float64"
      ]
     },
     "execution_count": 13,
     "metadata": {},
     "output_type": "execute_result"
    }
   ],
   "source": [
    "part_file[part_file['prolific_id'].isin(struggle_safe_ids)].groupby('condition')['n_safe_landings'].mean()"
   ]
  },
  {
   "cell_type": "code",
   "execution_count": 8,
   "metadata": {},
   "outputs": [],
   "source": [
    "part_file['n_landings'] = part_file['n_safe_landings'] + part_file['n_unsafe_landings']\n",
    "part_file['any_landings'] = part_file['n_landings'] > 0"
   ]
  },
  {
   "cell_type": "code",
   "execution_count": 9,
   "metadata": {},
   "outputs": [
    {
     "data": {
      "image/png": "[encoded data removed]",
      "text/plain": [
       "<Figure size 1200x400 with 3 Axes>"
      ]
     },
     "metadata": {},
     "output_type": "display_data"
    }
   ],
   "source": [
    "fig, axs = plt.subplots(1,3, figsize=(12,4), sharey=True)\n",
    "\n",
    "conditions = list(ids.keys())\n",
    "\n",
    "# for each condition\n",
    "for a in range(len(axs)):\n",
    "    data = part_file[part_file['condition'] == conditions[a]]['n_landings']\n",
    "    axs[a].hist(data,bins=10,range=(0,20))\n",
    "    axs[a].set_title(f'{conditions[a]}')\n",
    "    axs[a].set_xlim(0,20)\n",
    "\n",
    "plt.show()"
   ]
  },
  {
   "cell_type": "code",
   "execution_count": 10,
   "metadata": {},
   "outputs": [
    {
     "data": {
      "image/png": "[encoded data removed]",
      "text/plain": [
       "<Figure size 800x400 with 2 Axes>"
      ]
     },
     "metadata": {},
     "output_type": "display_data"
    }
   ],
   "source": [
    "fig, axs = plt.subplots(1,2, figsize=(8,4))\n",
    "\n",
    "conditions = list(ids.keys())\n",
    "quarters = [(1,5), (6,10), (11,15), (16,20)]\n",
    "\n",
    "for c in conditions:\n",
    "    points = []\n",
    "    errs = []\n",
    "    for first, last in quarters:\n",
    "        data = trial_file.loc[(trial_file['condition'] == c) & (trial_file['trial'] >= first) & (trial_file['trial'] <= last)]\n",
    "        data['landed'] = data['outcome'].isin(['Safe', 'Unsafe'])\n",
    "        data['successful'] = data['outcome'] == 'Safe'\n",
    "        avg_land = data.groupby('prolific_id')['landed'].sum().mean()\n",
    "        land_err = data.groupby('prolific_id')['landed'].sum().std()\n",
    "        avg_success = data.groupby('prolific_id')['successful'].sum().mean()\n",
    "        success_err = data.groupby('prolific_id')['successful'].sum().std()\n",
    "        points.append((avg_land, avg_success))\n",
    "        errs.append((land_err, success_err))\n",
    "    for a in range(len(axs)):\n",
    "        x = list(range(len(quarters)))\n",
    "        # axs[a].errorbar(x, [pt[a] for pt in points], [er[a] for er in errs], label=c)\n",
    "        axs[a].plot(x, [pt[a] for pt in points], label=c)\n",
    "        axs[a].set_ylim(0,5)\n",
    "        axs[a].set_title(['non-crashes', 'safe'][a])\n",
    "\n",
    "plt.legend()\n",
    "plt.show()"
   ]
  },
  {
   "cell_type": "code",
   "execution_count": 11,
   "metadata": {},
   "outputs": [
    {
     "data": {
      "image/png": "[encoded data removed]",
      "text/plain": [
       "<Figure size 800x400 with 2 Axes>"
      ]
     },
     "metadata": {},
     "output_type": "display_data"
    }
   ],
   "source": [
    "fig, axs = plt.subplots(1,2, figsize=(8,4))\n",
    "\n",
    "conditions = list(ids.keys())\n",
    "n_trials = 20\n",
    "\n",
    "for c in conditions:\n",
    "    points = []\n",
    "    errs = []\n",
    "    for t in range(n_trials):\n",
    "        data = trial_file.loc[(trial_file['condition'] == c) &  (trial_file['trial'] <= t)]\n",
    "        data['landed'] = data['outcome'].isin(['Safe', 'Unsafe'])\n",
    "        data['successful'] = data['outcome'] == 'Safe'\n",
    "        avg_land = data.groupby('prolific_id')['landed'].sum().mean()\n",
    "        land_err = data.groupby('prolific_id')['landed'].sum().std()\n",
    "        avg_success = data.groupby('prolific_id')['successful'].sum().mean()\n",
    "        success_err = data.groupby('prolific_id')['successful'].sum().std()\n",
    "        points.append((avg_land, avg_success))\n",
    "        errs.append((land_err, success_err))\n",
    "    for a in range(len(axs)):\n",
    "        x = list(range(n_trials))\n",
    "        # axs[a].errorbar(x, [pt[a] for pt in points], [er[a] for er in errs], label=c)\n",
    "        axs[a].plot(x, [pt[a] for pt in points], label=c)\n",
    "        axs[a].set_title(['non-crashes', 'safe'][a])\n",
    "\n",
    "plt.legend()\n",
    "plt.show()"
   ]
  },
  {
   "cell_type": "code",
   "execution_count": 12,
   "metadata": {},
   "outputs": [
    {
     "data": {
      "image/png": "[encoded data removed]",
      "text/plain": [
       "<Figure size 640x480 with 1 Axes>"
      ]
     },
     "metadata": {},
     "output_type": "display_data"
    }
   ],
   "source": [
    "conditions = list(ids.keys())\n",
    "n_trials = 20\n",
    "\n",
    "for c in conditions:\n",
    "    points = []\n",
    "    errs = []\n",
    "    for t in range(n_trials):\n",
    "        data = trial_file.loc[(trial_file['condition'] == c) &  (trial_file['trial'] == t)]\n",
    "        avg_time = data['trial_time_seconds'].mean()\n",
    "        time_err = data['trial_time_seconds'].std()\n",
    "        points.append(avg_time)\n",
    "        errs.append(time_err)\n",
    "    x = list(range(n_trials))\n",
    "    # plt.errorbar(x, points, errs, label=c)\n",
    "    plt.plot(x, points, alpha=0.35, label=c)\n",
    "\n",
    "points_all = []\n",
    "for t in range(n_trials):\n",
    "        data = trial_file.loc[(trial_file['trial'] == t)]\n",
    "        avg_time = data['trial_time_seconds'].mean()\n",
    "        # time_err = data['trial_time_seconds'].std()\n",
    "        points_all.append(avg_time)\n",
    "        # errs.append(time_err)\n",
    "plt.plot(points_all, 'k', label='overall')\n",
    "\n",
    "\n",
    "plt.title('average trial time')\n",
    "plt.legend()\n",
    "plt.show()"
   ]
  },
  {
   "cell_type": "code",
   "execution_count": 13,
   "metadata": {},
   "outputs": [
    {
     "data": {
      "image/png": "[encoded data removed]",
      "text/plain": [
       "<Figure size 640x480 with 1 Axes>"
      ]
     },
     "metadata": {},
     "output_type": "display_data"
    }
   ],
   "source": [
    "conditions = list(ids.keys())\n",
    "n_trials = 20\n",
    "\n",
    "for c in conditions:\n",
    "    points = []\n",
    "    errs = []\n",
    "    for t in range(n_trials):\n",
    "        data = trial_file.loc[(trial_file['condition'] == c) &  (trial_file['trial'] == t)]\n",
    "        avg_time = data['feedback_time_seconds'].mean()\n",
    "        time_err = data['feedback_time_seconds'].std()\n",
    "        points.append(avg_time)\n",
    "        errs.append(time_err)\n",
    "    x = list(range(n_trials))\n",
    "    # plt.errorbar(x, points, errs, label=c)\n",
    "    plt.plot(x, points, alpha=0.35, label=c)\n",
    "\n",
    "points_all = []\n",
    "for t in range(n_trials):\n",
    "        data = trial_file.loc[(trial_file['trial'] == t)]\n",
    "        avg_time = data['feedback_time_seconds'].mean()\n",
    "        # time_err = data['trial_time_seconds'].std()\n",
    "        points_all.append(avg_time)\n",
    "        # errs.append(time_err)\n",
    "plt.plot(points_all, 'k', label='overall')\n",
    "\n",
    "\n",
    "plt.title('average feedback time')\n",
    "plt.legend()\n",
    "plt.show()"
   ]
  },
  {
   "cell_type": "code",
   "execution_count": 15,
   "metadata": {},
   "outputs": [
    {
     "name": "stdout",
     "output_type": "stream",
     "text": [
      "F_onewayResult(statistic=1.2778041233608721, pvalue=0.2820215153963058)\n"
     ]
    }
   ],
   "source": [
    "utils.run_anova('avg_trial_time_seconds', part_file)"
   ]
  },
  {
   "cell_type": "code",
   "execution_count": 16,
   "metadata": {},
   "outputs": [
    {
     "name": "stdout",
     "output_type": "stream",
     "text": [
      "F_onewayResult(statistic=0.8428990580796365, pvalue=0.4327301173977499)\n"
     ]
    }
   ],
   "source": [
    "utils.run_anova('avg_feedback_time_seconds', part_file)"
   ]
  },
  {
   "cell_type": "code",
   "execution_count": 17,
   "metadata": {},
   "outputs": [
    {
     "data": {
      "text/plain": [
       "condition\n",
       "full     0.956522\n",
       "score    0.911111\n",
       "text     0.891304\n",
       "Name: got_10_landings, dtype: float64"
      ]
     },
     "execution_count": 17,
     "metadata": {},
     "output_type": "execute_result"
    }
   ],
   "source": [
    "part_file['got_10_landings'] = part_file['n_landings'] >= 10\n",
    "part_file.groupby('condition')['got_10_landings'].mean()"
   ]
  },
  {
   "cell_type": "code",
   "execution_count": 18,
   "metadata": {},
   "outputs": [
    {
     "data": {
      "text/plain": [
       "condition\n",
       "full     0.695652\n",
       "score    0.622222\n",
       "text     0.630435\n",
       "Name: got_15_landings, dtype: float64"
      ]
     },
     "execution_count": 18,
     "metadata": {},
     "output_type": "execute_result"
    }
   ],
   "source": [
    "part_file['got_15_landings'] = part_file['n_landings'] >= 15\n",
    "part_file.groupby('condition')['got_15_landings'].mean()"
   ]
  },
  {
   "cell_type": "code",
   "execution_count": 53,
   "metadata": {},
   "outputs": [
    {
     "name": "stdout",
     "output_type": "stream",
     "text": [
      "Adjusted alpha (Bonferroni): 0.016666666666666666\n",
      "P-values: [0.5117278111862305, 0.6594900741090258, 1.0]\n",
      "Significant results: [False, False, False]\n"
     ]
    }
   ],
   "source": [
    "c_table = part_file.groupby('condition')['got_15_landings'].value_counts().unstack()\n",
    "\n",
    "# Performing Fisher's Exact Test for each pair and applying Bonferroni correction\n",
    "p_values = []\n",
    "comparisons = [('full', 'score'), ('full', 'text'), ('score', 'text')]\n",
    "for group1, group2 in comparisons:\n",
    "    table = c_table.loc[[group1, group2], :]\n",
    "    oddsratio, p_value = stats.fisher_exact(table)\n",
    "    p_values.append(p_value)\n",
    "\n",
    "# Adjust p-values for multiple comparisons (Bonferroni correction)\n",
    "alpha = 0.05 / len(comparisons)\n",
    "significant_results = [p < alpha for p in p_values]\n",
    "\n",
    "# Output results\n",
    "print(f\"Adjusted alpha (Bonferroni): {alpha}\")\n",
    "print(f\"P-values: {p_values}\")\n",
    "print(f\"Significant results: {significant_results}\")"
   ]
  },
  {
   "cell_type": "code",
   "execution_count": 19,
   "metadata": {},
   "outputs": [
    {
     "data": {
      "text/plain": [
       "condition\n",
       "full     16.26\n",
       "score    15.36\n",
       "text     15.20\n",
       "Name: n_landings, dtype: float64"
      ]
     },
     "execution_count": 19,
     "metadata": {},
     "output_type": "execute_result"
    }
   ],
   "source": [
    "part_file.groupby('condition')['n_landings'].mean().round(2)"
   ]
  },
  {
   "cell_type": "code",
   "execution_count": 55,
   "metadata": {},
   "outputs": [
    {
     "data": {
      "text/plain": [
       "condition\n",
       "full     368\n",
       "score    374\n",
       "text     354\n",
       "Name: n_safe_landings, dtype: int64"
      ]
     },
     "execution_count": 55,
     "metadata": {},
     "output_type": "execute_result"
    }
   ],
   "source": [
    "part_file.groupby('condition')['n_safe_landings'].sum()"
   ]
  },
  {
   "cell_type": "code",
   "execution_count": 57,
   "metadata": {},
   "outputs": [
    {
     "data": {
      "text/plain": [
       "condition\n",
       "full     380\n",
       "score    317\n",
       "text     345\n",
       "Name: n_unsafe_landings, dtype: int64"
      ]
     },
     "execution_count": 57,
     "metadata": {},
     "output_type": "execute_result"
    }
   ],
   "source": [
    "part_file.groupby('condition')['n_unsafe_landings'].sum()"
   ]
  },
  {
   "cell_type": "code",
   "execution_count": 58,
   "metadata": {},
   "outputs": [
    {
     "data": {
      "text/plain": [
       "condition\n",
       "full     172\n",
       "score    209\n",
       "text     221\n",
       "Name: n_crashes, dtype: int64"
      ]
     },
     "execution_count": 58,
     "metadata": {},
     "output_type": "execute_result"
    }
   ],
   "source": [
    "part_file.groupby('condition')['n_crashes'].sum()"
   ]
  },
  {
   "cell_type": "code",
   "execution_count": 20,
   "metadata": {},
   "outputs": [
    {
     "data": {
      "text/html": [
       "<div>\n",
       "<style scoped>\n",
       "    .dataframe tbody tr th:only-of-type {\n",
       "        vertical-align: middle;\n",
       "    }\n",
       "\n",
       "    .dataframe tbody tr th {\n",
       "        vertical-align: top;\n",
       "    }\n",
       "\n",
       "    .dataframe thead th {\n",
       "        text-align: right;\n",
       "    }\n",
       "</style>\n",
       "<table border=\"1\" class=\"dataframe\">\n",
       "  <thead>\n",
       "    <tr style=\"text-align: right;\">\n",
       "      <th></th>\n",
       "      <th>sum</th>\n",
       "      <th>mean</th>\n",
       "      <th>std</th>\n",
       "    </tr>\n",
       "    <tr>\n",
       "      <th>condition</th>\n",
       "      <th></th>\n",
       "      <th></th>\n",
       "      <th></th>\n",
       "    </tr>\n",
       "  </thead>\n",
       "  <tbody>\n",
       "    <tr>\n",
       "      <th>full</th>\n",
       "      <td>748</td>\n",
       "      <td>16.26</td>\n",
       "      <td>3.08</td>\n",
       "    </tr>\n",
       "    <tr>\n",
       "      <th>score</th>\n",
       "      <td>691</td>\n",
       "      <td>15.36</td>\n",
       "      <td>3.98</td>\n",
       "    </tr>\n",
       "    <tr>\n",
       "      <th>text</th>\n",
       "      <td>699</td>\n",
       "      <td>15.20</td>\n",
       "      <td>3.87</td>\n",
       "    </tr>\n",
       "  </tbody>\n",
       "</table>\n",
       "</div>"
      ],
      "text/plain": [
       "           sum   mean   std\n",
       "condition                  \n",
       "full       748  16.26  3.08\n",
       "score      691  15.36  3.98\n",
       "text       699  15.20  3.87"
      ]
     },
     "execution_count": 20,
     "metadata": {},
     "output_type": "execute_result"
    }
   ],
   "source": [
    "part_file.groupby('condition')['n_landings'].agg(['sum', 'mean', 'std']).round(2)"
   ]
  },
  {
   "cell_type": "code",
   "execution_count": 60,
   "metadata": {},
   "outputs": [
    {
     "name": "stdout",
     "output_type": "stream",
     "text": [
      "F_onewayResult(statistic=1.1286574728134895, pvalue=0.3265224972610671)\n"
     ]
    }
   ],
   "source": [
    "utils.run_anova('n_landings', part_file)"
   ]
  },
  {
   "cell_type": "code",
   "execution_count": 21,
   "metadata": {},
   "outputs": [],
   "source": [
    "part_file['any_safe_landings'] = part_file['n_safe_landings'] > 0\n",
    "part_file['3_safe_landings'] = part_file['n_safe_landings'] >= 3"
   ]
  },
  {
   "cell_type": "code",
   "execution_count": 22,
   "metadata": {},
   "outputs": [
    {
     "name": "stdout",
     "output_type": "stream",
     "text": [
      "any_safe_landings  False  True \n",
      "condition                      \n",
      "full                   1     45\n",
      "score                  8     37\n",
      "text                   4     42\n",
      "3_safe_landings  False  True \n",
      "condition                    \n",
      "full                 6     40\n",
      "score               12     33\n",
      "text                10     36\n"
     ]
    }
   ],
   "source": [
    "print(part_file.groupby('condition')['any_safe_landings'].value_counts().unstack())\n",
    "print(part_file.groupby('condition')['3_safe_landings'].value_counts().unstack())"
   ]
  },
  {
   "cell_type": "code",
   "execution_count": 64,
   "metadata": {},
   "outputs": [
    {
     "name": "stdout",
     "output_type": "stream",
     "text": [
      "Adjusted alpha (Bonferroni): 0.016666666666666666\n",
      "P-values: [0.015187307563778372, 0.3610322262007656, 0.23052995536170712]\n",
      "Significant results: [True, False, False]\n"
     ]
    }
   ],
   "source": [
    "c_table = part_file.groupby('condition')['any_safe_landings'].value_counts().unstack()\n",
    "\n",
    "# Performing Fisher's Exact Test for each pair and applying Bonferroni correction\n",
    "p_values = []\n",
    "comparisons = [('full', 'score'), ('full', 'text'), ('score', 'text')]\n",
    "for group1, group2 in comparisons:\n",
    "    table = c_table.loc[[group1, group2], :]\n",
    "    oddsratio, p_value = stats.fisher_exact(table)\n",
    "    p_values.append(p_value)\n",
    "\n",
    "# Adjust p-values for multiple comparisons (Bonferroni correction)\n",
    "alpha = 0.05 / len(comparisons)\n",
    "significant_results = [p < alpha for p in p_values]\n",
    "\n",
    "# Output results\n",
    "print(f\"Adjusted alpha (Bonferroni): {alpha}\")\n",
    "print(f\"P-values: {p_values}\")\n",
    "print(f\"Significant results: {significant_results}\")"
   ]
  },
  {
   "cell_type": "code",
   "execution_count": 65,
   "metadata": {},
   "outputs": [
    {
     "name": "stdout",
     "output_type": "stream",
     "text": [
      "Adjusted alpha (Bonferroni): 0.016666666666666666\n",
      "P-values: [0.17132894795244324, 0.40926974331915433, 0.7610881571468915]\n",
      "Significant results: [False, False, False]\n"
     ]
    }
   ],
   "source": [
    "c_table = part_file.groupby('condition')['3_safe_landings'].value_counts().unstack()\n",
    "\n",
    "# Performing Fisher's Exact Test for each pair and applying Bonferroni correction\n",
    "p_values = []\n",
    "comparisons = [('full', 'score'), ('full', 'text'), ('score', 'text')]\n",
    "for group1, group2 in comparisons:\n",
    "    table = c_table.loc[[group1, group2], :]\n",
    "    res = stats.chi2_contingency(table)\n",
    "    p_values.append(res.pvalue)\n",
    "\n",
    "# Adjust p-values for multiple comparisons (Bonferroni correction)\n",
    "alpha = 0.05 / len(comparisons)\n",
    "significant_results = [p < alpha for p in p_values]\n",
    "\n",
    "# Output results\n",
    "print(f\"Adjusted alpha (Bonferroni): {alpha}\")\n",
    "print(f\"P-values: {p_values}\")\n",
    "print(f\"Significant results: {significant_results}\")"
   ]
  },
  {
   "cell_type": "code",
   "execution_count": 23,
   "metadata": {},
   "outputs": [
    {
     "name": "stdout",
     "output_type": "stream",
     "text": [
      "skipping participant 6522a86994a5ce0d7bb9feba trial 17\n"
     ]
    }
   ],
   "source": [
    "# calculate which trial they first achieved three successes in a row\n",
    "part_file['three_in_a_row_idx'] = 0\n",
    "n_trials = 20\n",
    "for i in range(len(part_file)):\n",
    "    part = part_file.iloc[i]\n",
    "    data = pd.read_csv(data_dir + part['prolific_id'] + '/survey_responses.csv')\n",
    "    for trial in range(n_trials-2):\n",
    "        try:\n",
    "            if (data['outcome'].iloc[trial] == 'Safe') & (data['outcome'].iloc[trial+1] == 'Safe') & (data['outcome'].iloc[trial+2] == 'Safe'):\n",
    "                part_file.loc[part_file['prolific_id'] == part['prolific_id'], 'three_in_a_row_idx'] = trial + 1\n",
    "                break\n",
    "        except:\n",
    "            print(f\"skipping participant {part['prolific_id']} trial {trial}\")"
   ]
  },
  {
   "cell_type": "code",
   "execution_count": null,
   "metadata": {},
   "outputs": [],
   "source": [
    "part_file[['prolific_id', 'three_in_a_row_idx']].head(10)"
   ]
  },
  {
   "cell_type": "code",
   "execution_count": 24,
   "metadata": {},
   "outputs": [
    {
     "name": "stdout",
     "output_type": "stream",
     "text": [
      "skipping participant 6522a86994a5ce0d7bb9feba trial 15\n"
     ]
    }
   ],
   "source": [
    "part_file['five_in_a_row_idx'] = 0\n",
    "n_trials = 20\n",
    "for i in range(len(part_file)):\n",
    "    part = part_file.iloc[i]\n",
    "    data = pd.read_csv(data_dir + part['prolific_id'] + '/survey_responses.csv')\n",
    "    for trial in range(n_trials-4):\n",
    "        try:\n",
    "            if (data['outcome'].iloc[trial] == 'Safe') & (data['outcome'].iloc[trial+1] == 'Safe') & (data['outcome'].iloc[trial+2] == 'Safe') & (data['outcome'].iloc[trial+3] == 'Safe') & (data['outcome'].iloc[trial+4] == 'Safe'):\n",
    "                part_file.loc[part_file['prolific_id'] == part['prolific_id'], 'five_in_a_row_idx'] = trial + 1\n",
    "                break\n",
    "        except:\n",
    "            print(f\"skipping participant {part['prolific_id']} trial {trial}\")"
   ]
  },
  {
   "cell_type": "code",
   "execution_count": 25,
   "metadata": {},
   "outputs": [
    {
     "name": "stdout",
     "output_type": "stream",
     "text": [
      "reached_mastery_3  False  True \n",
      "condition                      \n",
      "full                  17     29\n",
      "score                 16     29\n",
      "text                  21     25\n",
      "reached_mastery_5  False  True \n",
      "condition                      \n",
      "full                  31     15\n",
      "score                 27     18\n",
      "text                  30     16\n"
     ]
    }
   ],
   "source": [
    "part_file['reached_mastery_3'] = part_file['three_in_a_row_idx'] > 0\n",
    "part_file['reached_mastery_5'] = part_file['five_in_a_row_idx'] > 0\n",
    "\n",
    "print(part_file.groupby('condition')['reached_mastery_3'].value_counts().unstack())\n",
    "print(part_file.groupby('condition')['reached_mastery_5'].value_counts().unstack())"
   ]
  },
  {
   "cell_type": "code",
   "execution_count": 69,
   "metadata": {},
   "outputs": [
    {
     "name": "stdout",
     "output_type": "stream",
     "text": [
      "Adjusted alpha (Bonferroni): 0.016666666666666666\n",
      "P-values: [1.0, 0.5255688467805519, 0.39522767071234843]\n",
      "Significant results: [False, False, False]\n"
     ]
    }
   ],
   "source": [
    "c_table = part_file.groupby('condition')['reached_mastery_3'].value_counts().unstack()\n",
    "\n",
    "# Performing Fisher's Exact Test for each pair and applying Bonferroni correction\n",
    "p_values = []\n",
    "comparisons = [('full', 'score'), ('full', 'text'), ('score', 'text')]\n",
    "for group1, group2 in comparisons:\n",
    "    table = c_table.loc[[group1, group2], :]\n",
    "    res = stats.fisher_exact(table)\n",
    "    p_values.append(res.pvalue)\n",
    "\n",
    "# Adjust p-values for multiple comparisons (Bonferroni correction)\n",
    "alpha = 0.05 / len(comparisons)\n",
    "significant_results = [p < alpha for p in p_values]\n",
    "\n",
    "# Output results\n",
    "print(f\"Adjusted alpha (Bonferroni): {alpha}\")\n",
    "print(f\"P-values: {p_values}\")\n",
    "print(f\"Significant results: {significant_results}\")"
   ]
  },
  {
   "cell_type": "code",
   "execution_count": 70,
   "metadata": {},
   "outputs": [
    {
     "name": "stdout",
     "output_type": "stream",
     "text": [
      "Adjusted alpha (Bonferroni): 0.016666666666666666\n",
      "P-values: [0.517322927130677, 1.0, 0.6678827480256951]\n",
      "Significant results: [False, False, False]\n"
     ]
    }
   ],
   "source": [
    "c_table = part_file.groupby('condition')['reached_mastery_5'].value_counts().unstack()\n",
    "\n",
    "# Performing Fisher's Exact Test for each pair and applying Bonferroni correction\n",
    "p_values = []\n",
    "comparisons = [('full', 'score'), ('full', 'text'), ('score', 'text')]\n",
    "for group1, group2 in comparisons:\n",
    "    table = c_table.loc[[group1, group2], :]\n",
    "    res = stats.fisher_exact(table)\n",
    "    p_values.append(res.pvalue)\n",
    "\n",
    "# Adjust p-values for multiple comparisons (Bonferroni correction)\n",
    "alpha = 0.05 / len(comparisons)\n",
    "significant_results = [p < alpha for p in p_values]\n",
    "\n",
    "# Output results\n",
    "print(f\"Adjusted alpha (Bonferroni): {alpha}\")\n",
    "print(f\"P-values: {p_values}\")\n",
    "print(f\"Significant results: {significant_results}\")"
   ]
  },
  {
   "cell_type": "code",
   "execution_count": 26,
   "metadata": {},
   "outputs": [
    {
     "name": "stdout",
     "output_type": "stream",
     "text": [
      "condition\n",
      "full     9.241379\n",
      "score    8.517241\n",
      "text     8.200000\n",
      "Name: three_in_a_row_idx, dtype: float64\n",
      "condition\n",
      "full     8.333333\n",
      "score    9.111111\n",
      "text     7.187500\n",
      "Name: five_in_a_row_idx, dtype: float64\n"
     ]
    }
   ],
   "source": [
    "print(part_file[part_file['three_in_a_row_idx'] > 0].groupby('condition')['three_in_a_row_idx'].mean())\n",
    "print(part_file[part_file['five_in_a_row_idx'] > 0].groupby('condition')['five_in_a_row_idx'].mean())"
   ]
  },
  {
   "cell_type": "code",
   "execution_count": 72,
   "metadata": {},
   "outputs": [
    {
     "name": "stdout",
     "output_type": "stream",
     "text": [
      "three_in_a_row_idx    1     2     3     4     5     6     7     8     9   \\\n",
      "condition                                                                  \n",
      "full                0.03  0.07  0.00  0.14  0.07  0.00  0.10  0.00  0.03   \n",
      "score               0.00  0.07  0.07  0.03  0.14  0.07  0.10  0.17  0.03   \n",
      "text                0.12  0.04  0.04  0.12  0.04  0.12  0.08  0.08  0.04   \n",
      "\n",
      "three_in_a_row_idx    10    11    12    13    14    15    16    17    18  \n",
      "condition                                                                 \n",
      "full                0.10  0.17  0.03  0.00  0.07  0.03  0.07  0.03  0.03  \n",
      "score               0.03  0.00  0.03  0.03  0.07  0.03  0.00  0.03  0.07  \n",
      "text                0.00  0.00  0.04  0.04  0.04  0.04  0.04  0.04  0.08  \n",
      "KruskalResult(statistic=0.8359763583772802, pvalue=0.6583700108465329)\n"
     ]
    }
   ],
   "source": [
    "utils.run_kruskal('three_in_a_row_idx', part_file[part_file['three_in_a_row_idx'] > 0])"
   ]
  },
  {
   "cell_type": "code",
   "execution_count": 74,
   "metadata": {},
   "outputs": [
    {
     "name": "stdout",
     "output_type": "stream",
     "text": [
      "F_onewayResult(statistic=0.3070766233787385, pvalue=0.7364573743489766)\n"
     ]
    }
   ],
   "source": [
    "utils.run_anova('three_in_a_row_idx', part_file[part_file['three_in_a_row_idx'] > 0])"
   ]
  },
  {
   "cell_type": "code",
   "execution_count": 75,
   "metadata": {},
   "outputs": [
    {
     "name": "stdout",
     "output_type": "stream",
     "text": [
      "five_in_a_row_idx    1     2     3     4     5     6     7     8     9     10  \\\n",
      "condition                                                                       \n",
      "full               0.00  0.07  0.00  0.27  0.07  0.00  0.13  0.00  0.07  0.07   \n",
      "score              0.00  0.00  0.06  0.00  0.17  0.00  0.11  0.28  0.00  0.00   \n",
      "text               0.12  0.06  0.00  0.12  0.06  0.12  0.06  0.06  0.12  0.00   \n",
      "\n",
      "five_in_a_row_idx    11    12    13    14    15    16  \n",
      "condition                                              \n",
      "full               0.07  0.07  0.00  0.07  0.00  0.13  \n",
      "score              0.06  0.11  0.06  0.06  0.11  0.00  \n",
      "text               0.00  0.06  0.12  0.00  0.06  0.00  \n",
      "KruskalResult(statistic=1.7639930805329855, pvalue=0.4139556070448809)\n"
     ]
    }
   ],
   "source": [
    "utils.run_kruskal('five_in_a_row_idx', part_file[part_file['five_in_a_row_idx'] > 0])"
   ]
  },
  {
   "cell_type": "code",
   "execution_count": 77,
   "metadata": {},
   "outputs": [
    {
     "name": "stdout",
     "output_type": "stream",
     "text": [
      "Adjusted alpha (Bonferroni): 0.016666666666666666\n",
      "P-values: [1.0, 0.5255688467805519, 0.39522767071234843]\n",
      "Significant results: [False, False, False]\n"
     ]
    }
   ],
   "source": [
    "c_table = part_file.groupby('condition')['achieved_mastery_3'].value_counts().unstack()\n",
    "\n",
    "# Performing Fisher's Exact Test for each pair and applying Bonferroni correction\n",
    "p_values = []\n",
    "comparisons = [('full', 'score'), ('full', 'text'), ('score', 'text')]\n",
    "for group1, group2 in comparisons:\n",
    "    table = c_table.loc[[group1, group2], :]\n",
    "    res = stats.fisher_exact(table)\n",
    "    p_values.append(res.pvalue)\n",
    "\n",
    "# Adjust p-values for multiple comparisons (Bonferroni correction)\n",
    "alpha = 0.05 / len(comparisons)\n",
    "significant_results = [p < alpha for p in p_values]\n",
    "\n",
    "# Output results\n",
    "print(f\"Adjusted alpha (Bonferroni): {alpha}\")\n",
    "print(f\"P-values: {p_values}\")\n",
    "print(f\"Significant results: {significant_results}\")"
   ]
  },
  {
   "cell_type": "code",
   "execution_count": 78,
   "metadata": {},
   "outputs": [
    {
     "name": "stdout",
     "output_type": "stream",
     "text": [
      "Adjusted alpha (Bonferroni): 0.016666666666666666\n",
      "P-values: [0.517322927130677, 1.0, 0.6678827480256951]\n",
      "Significant results: [False, False, False]\n"
     ]
    }
   ],
   "source": [
    "part_file['achieved_mastery_5'] = part_file['five_in_a_row_idx'] > 0\n",
    "c_table = part_file.groupby('condition')['achieved_mastery_5'].value_counts().unstack()\n",
    "\n",
    "# Performing Fisher's Exact Test for each pair and applying Bonferroni correction\n",
    "p_values = []\n",
    "comparisons = [('full', 'score'), ('full', 'text'), ('score', 'text')]\n",
    "for group1, group2 in comparisons:\n",
    "    table = c_table.loc[[group1, group2], :]\n",
    "    res = stats.fisher_exact(table)\n",
    "    p_values.append(res.pvalue)\n",
    "\n",
    "# Adjust p-values for multiple comparisons (Bonferroni correction)\n",
    "alpha = 0.05 / len(comparisons)\n",
    "significant_results = [p < alpha for p in p_values]\n",
    "\n",
    "# Output results\n",
    "print(f\"Adjusted alpha (Bonferroni): {alpha}\")\n",
    "print(f\"P-values: {p_values}\")\n",
    "print(f\"Significant results: {significant_results}\")"
   ]
  },
  {
   "cell_type": "code",
   "execution_count": 27,
   "metadata": {},
   "outputs": [],
   "source": [
    "# label each unsafe trial with which mistake they are making\n",
    "trial_file['mistake'] = ''\n",
    "for part in part_file['prolific_id']:\n",
    "    data = pd.read_csv(data_dir + part + '/survey_responses.csv')\n",
    "    for trial in data['trial']:\n",
    "        if data.loc[data['trial'] == trial, 'outcome'].values[0] == 'Unsafe':\n",
    "            # read in robusness file\n",
    "            robustness = pd.read_csv(data_dir + part + f'/trial_{trial}/robustness.csv')\n",
    "            reasons = \"\"\n",
    "            if robustness.iloc[-1]['landing_speed'] < 0:\n",
    "                reasons += \"landing_speed \"\n",
    "            if robustness.iloc[-1]['landing_angle'] < 0:\n",
    "                reasons += \"landing_angle \"\n",
    "            elif (robustness.iloc[-1]['landing_angle'] > 0) & (robustness.iloc[-1]['landing_speed'] > 0):\n",
    "                reasons += \"something else \"\n",
    "            trial_file.loc[(trial_file['prolific_id'] == part) & (trial_file['trial'] == trial), 'mistake'] = reasons"
   ]
  },
  {
   "cell_type": "code",
   "execution_count": 28,
   "metadata": {},
   "outputs": [
    {
     "data": {
      "text/plain": [
       "mistake\n",
       "                                1662\n",
       "landing_speed landing_angle      401\n",
       "landing_speed                    334\n",
       "landing_angle                    192\n",
       "something else                    95\n",
       "Name: count, dtype: int64"
      ]
     },
     "execution_count": 28,
     "metadata": {},
     "output_type": "execute_result"
    }
   ],
   "source": [
    "trial_file['mistake'].value_counts()"
   ]
  },
  {
   "cell_type": "code",
   "execution_count": 81,
   "metadata": {},
   "outputs": [
    {
     "data": {
      "text/html": [
       "<div>\n",
       "<style scoped>\n",
       "    .dataframe tbody tr th:only-of-type {\n",
       "        vertical-align: middle;\n",
       "    }\n",
       "\n",
       "    .dataframe tbody tr th {\n",
       "        vertical-align: top;\n",
       "    }\n",
       "\n",
       "    .dataframe thead th {\n",
       "        text-align: right;\n",
       "    }\n",
       "</style>\n",
       "<table border=\"1\" class=\"dataframe\">\n",
       "  <thead>\n",
       "    <tr style=\"text-align: right;\">\n",
       "      <th>mistake</th>\n",
       "      <th>landing_angle</th>\n",
       "      <th>landing_speed</th>\n",
       "      <th>landing_speed landing_angle</th>\n",
       "      <th>something else</th>\n",
       "    </tr>\n",
       "    <tr>\n",
       "      <th>condition</th>\n",
       "      <th></th>\n",
       "      <th></th>\n",
       "      <th></th>\n",
       "      <th></th>\n",
       "    </tr>\n",
       "  </thead>\n",
       "  <tbody>\n",
       "    <tr>\n",
       "      <th>score</th>\n",
       "      <td>46</td>\n",
       "      <td>100</td>\n",
       "      <td>119</td>\n",
       "      <td>24</td>\n",
       "    </tr>\n",
       "    <tr>\n",
       "      <th>text</th>\n",
       "      <td>56</td>\n",
       "      <td>85</td>\n",
       "      <td>113</td>\n",
       "      <td>20</td>\n",
       "    </tr>\n",
       "    <tr>\n",
       "      <th>full</th>\n",
       "      <td>62</td>\n",
       "      <td>99</td>\n",
       "      <td>115</td>\n",
       "      <td>24</td>\n",
       "    </tr>\n",
       "  </tbody>\n",
       "</table>\n",
       "</div>"
      ],
      "text/plain": [
       "mistake    landing_angle   landing_speed   landing_speed landing_angle   \\\n",
       "condition                                                                 \n",
       "score                  46             100                           119   \n",
       "text                   56              85                           113   \n",
       "full                   62              99                           115   \n",
       "\n",
       "mistake    something else   \n",
       "condition                   \n",
       "score                   24  \n",
       "text                    20  \n",
       "full                    24  "
      ]
     },
     "execution_count": 81,
     "metadata": {},
     "output_type": "execute_result"
    }
   ],
   "source": [
    "trial_file.groupby(['condition', 'mistake'])['trial'].count().unstack().drop(columns=[''])"
   ]
  },
  {
   "cell_type": "code",
   "execution_count": 82,
   "metadata": {},
   "outputs": [
    {
     "data": {
      "text/html": [
       "<div>\n",
       "<style scoped>\n",
       "    .dataframe tbody tr th:only-of-type {\n",
       "        vertical-align: middle;\n",
       "    }\n",
       "\n",
       "    .dataframe tbody tr th {\n",
       "        vertical-align: top;\n",
       "    }\n",
       "\n",
       "    .dataframe thead th {\n",
       "        text-align: right;\n",
       "    }\n",
       "</style>\n",
       "<table border=\"1\" class=\"dataframe\">\n",
       "  <thead>\n",
       "    <tr style=\"text-align: right;\">\n",
       "      <th>mistake</th>\n",
       "      <th>landing_angle</th>\n",
       "      <th>landing_speed</th>\n",
       "      <th>landing_speed landing_angle</th>\n",
       "      <th>something else</th>\n",
       "    </tr>\n",
       "    <tr>\n",
       "      <th>condition</th>\n",
       "      <th></th>\n",
       "      <th></th>\n",
       "      <th></th>\n",
       "      <th></th>\n",
       "    </tr>\n",
       "  </thead>\n",
       "  <tbody>\n",
       "    <tr>\n",
       "      <th>score</th>\n",
       "      <td>10.41</td>\n",
       "      <td>11.33</td>\n",
       "      <td>8.98</td>\n",
       "      <td>12.71</td>\n",
       "    </tr>\n",
       "    <tr>\n",
       "      <th>text</th>\n",
       "      <td>10.88</td>\n",
       "      <td>11.87</td>\n",
       "      <td>9.55</td>\n",
       "      <td>12.55</td>\n",
       "    </tr>\n",
       "    <tr>\n",
       "      <th>full</th>\n",
       "      <td>12.74</td>\n",
       "      <td>10.65</td>\n",
       "      <td>9.17</td>\n",
       "      <td>11.46</td>\n",
       "    </tr>\n",
       "  </tbody>\n",
       "</table>\n",
       "</div>"
      ],
      "text/plain": [
       "mistake    landing_angle   landing_speed   landing_speed landing_angle   \\\n",
       "condition                                                                 \n",
       "score               10.41           11.33                          8.98   \n",
       "text                10.88           11.87                          9.55   \n",
       "full                12.74           10.65                          9.17   \n",
       "\n",
       "mistake    something else   \n",
       "condition                   \n",
       "score                12.71  \n",
       "text                 12.55  \n",
       "full                 11.46  "
      ]
     },
     "execution_count": 82,
     "metadata": {},
     "output_type": "execute_result"
    }
   ],
   "source": [
    "trial_file.groupby(['condition', 'mistake'])['trial'].mean().unstack().drop(columns=['']).round(2)"
   ]
  },
  {
   "cell_type": "code",
   "execution_count": null,
   "metadata": {},
   "outputs": [],
   "source": [
    "trial_file[trial_file['mistake'] == 'something else ']"
   ]
  },
  {
   "cell_type": "markdown",
   "metadata": {},
   "source": [
    "From manual inspection, it looks like the \"something else\" instances are edge cases where the drone lands right on the edge of the landing pad. it is technically in bounds by my measures, but may have been counted as out of bounds by the javascript simulation. Should we leave as is?"
   ]
  },
  {
   "cell_type": "code",
   "execution_count": 29,
   "metadata": {},
   "outputs": [
    {
     "name": "stdout",
     "output_type": "stream",
     "text": [
      "skipping participant 5f6666e43be0b923d23c8df8 trial 4\n",
      "skipping participant 60fcc292d13ae9614d4a77a7 trial 0\n",
      "skipping participant 5e153f25dc79bdb5290738bd trial 7\n",
      "skipping participant 652b45ca9fb27ba9325a99cd trial 14\n",
      "skipping participant 652ab7948cb59f4c50c7972a trial 0\n",
      "skipping participant 65608f82fbcd84adaf29427b trial 10\n",
      "skipping participant 65608f82fbcd84adaf29427b trial 11\n",
      "skipping participant 5f16c677bc5f86028f33fc62 trial 6\n",
      "skipping participant 5f5aa60bef062519ff711fe6 trial 0\n",
      "skipping participant 6095fc75ab1d101e060d808b trial 11\n",
      "skipping participant 5bd49bcc25db7b0001794063 trial 0\n",
      "skipping participant 5c1a0a74cdd50e00014c7f75 trial 16\n",
      "skipping participant 5fab76ecea3019678ca9ef4d trial 11\n",
      "skipping participant 65c1779a3f438c1cdcd9641a trial 0\n",
      "skipping participant 65c1779a3f438c1cdcd9641a trial 2\n",
      "skipping participant 5e164e81502213c397f0cf39 trial 0\n",
      "skipping participant 628d78a2ccf4a41f24c2d2d8 trial 2\n",
      "skipping participant 628d78a2ccf4a41f24c2d2d8 trial 5\n",
      "skipping participant 628d78a2ccf4a41f24c2d2d8 trial 16\n",
      "skipping participant 65cefb1a4565306b90516a56 trial 8\n",
      "skipping participant 5dee8ee31255595293a9906b trial 9\n",
      "skipping participant 5a5ec648eedc32000142ce86 trial 1\n",
      "skipping participant 5a5ec648eedc32000142ce86 trial 2\n",
      "skipping participant 5a5ec648eedc32000142ce86 trial 3\n",
      "skipping participant 5a5ec648eedc32000142ce86 trial 6\n",
      "skipping participant 5a5ec648eedc32000142ce86 trial 12\n",
      "skipping participant 6286d3ac3a161dab706a695c trial 17\n",
      "skipping participant 6522a86994a5ce0d7bb9feba trial 9\n",
      "skipping participant 6341b95632265cb75975ae2c trial 11\n",
      "skipping participant 6148ea50509c9ce6c1f023c0 trial 3\n",
      "skipping participant 6148ea50509c9ce6c1f023c0 trial 11\n",
      "skipping participant 6388b6c86e47b08e1eded1fd trial 6\n",
      "skipping participant 6388b6c86e47b08e1eded1fd trial 13\n",
      "skipping participant 59a1ddac5dfd6b000152601f trial 17\n",
      "skipping participant 5760a995f371330006a47cb3 trial 6\n",
      "skipping participant 5760a995f371330006a47cb3 trial 12\n",
      "skipping participant 5760a995f371330006a47cb3 trial 13\n",
      "skipping participant 5760a995f371330006a47cb3 trial 19\n",
      "skipping participant 640156a5f2395bf80ca0c451 trial 0\n",
      "skipping participant 63d79e5ecdcf4d0dbd646bf6 trial 5\n",
      "skipping participant 63d79e5ecdcf4d0dbd646bf6 trial 6\n",
      "skipping participant 63d79e5ecdcf4d0dbd646bf6 trial 11\n",
      "skipping participant 5dce3ccc32ccbf0cd54263db trial 4\n",
      "skipping participant 60255901704fd208ecdcf32b trial 8\n",
      "skipping participant 5b824fb6cc06660001a302d4 trial 6\n",
      "skipping participant 5dea7a7df87f5519e686ff7b trial 4\n",
      "skipping participant 5dea7a7df87f5519e686ff7b trial 6\n",
      "skipping participant 5e93e2a7a5de13720dffc7f9 trial 4\n",
      "skipping participant 5e93e2a7a5de13720dffc7f9 trial 9\n",
      "skipping participant 5e93e2a7a5de13720dffc7f9 trial 11\n",
      "skipping participant 62bc3401dc67c7598dbba4a6 trial 1\n",
      "skipping participant 655f90dc3ab2904c2db16f42 trial 6\n",
      "skipping participant 655f90dc3ab2904c2db16f42 trial 19\n",
      "skipping participant 5c12b0ba17e18d0001e7629e trial 11\n",
      "skipping participant 5c12b0ba17e18d0001e7629e trial 14\n",
      "skipping participant 5c12b0ba17e18d0001e7629e trial 17\n"
     ]
    },
    {
     "data": {
      "image/png": "[encoded data removed]",
      "text/plain": [
       "<Figure size 800x600 with 3 Axes>"
      ]
     },
     "metadata": {},
     "output_type": "display_data"
    }
   ],
   "source": [
    "fig, axs = plt.subplots(1,3, figsize=(8,6))\n",
    "n_trials = 20\n",
    "\n",
    "conditions = list(ids.keys())\n",
    "\n",
    "for a in range(len(axs)):\n",
    "    for i in range(len(ids[conditions[a]])):\n",
    "        part = ids[conditions[a]].iloc[i]\n",
    "        for trial in range(n_trials):\n",
    "            try:\n",
    "                reason = trial_file[(trial_file['prolific_id'] == part) & (trial_file['trial'] == trial+1)]['mistake'].values[0]\n",
    "                if 'speed' in reason and 'angle' not in reason:\n",
    "                    axs[a].plot(trial, i, 'ro')\n",
    "                elif 'angle' in reason and 'speed' not in reason:\n",
    "                    axs[a].plot(trial, i, 'bo')\n",
    "                elif 'angle' in reason and 'speed' in reason:\n",
    "                    axs[a].plot(trial, i, 'ko')\n",
    "            except:\n",
    "                print(f\"skipping participant {part} trial {trial}\")\n",
    "\n",
    "    axs[a].set_aspect('equal')\n",
    "    axs[a].set_title(f'{conditions[a]}')\n",
    "\n",
    "plt.show()"
   ]
  },
  {
   "cell_type": "markdown",
   "metadata": {},
   "source": [
    "### Are there different numbers of successful trials between conditions?"
   ]
  },
  {
   "cell_type": "code",
   "execution_count": 84,
   "metadata": {},
   "outputs": [
    {
     "name": "stdout",
     "output_type": "stream",
     "text": [
      "n_safe_landings    0     1     2     3     4     5     6     7     8     9   \\\n",
      "condition                                                                     \n",
      "full             0.02  0.04  0.07  0.09  0.02  0.09  0.07  0.09  0.07  0.02   \n",
      "score            0.18  0.04  0.04  0.02  0.04  0.02  0.02  0.02  0.04  0.09   \n",
      "text             0.09  0.07  0.07  0.04  0.04  0.09  0.11  0.04  0.04  0.04   \n",
      "\n",
      "n_safe_landings    10    11    12    13    14    15    16    17    18    19  \n",
      "condition                                                                    \n",
      "full             0.09  0.13  0.04  0.09  0.02  0.00  0.04  0.02  0.00  0.00  \n",
      "score            0.04  0.04  0.04  0.09  0.07  0.07  0.07  0.04  0.00  0.00  \n",
      "text             0.04  0.04  0.07  0.07  0.02  0.02  0.04  0.00  0.04  0.02  \n",
      "KruskalResult(statistic=0.40403237913950363, pvalue=0.8170816996339875)\n"
     ]
    }
   ],
   "source": [
    "utils.run_kruskal('n_safe_landings', part_file)"
   ]
  },
  {
   "cell_type": "code",
   "execution_count": 85,
   "metadata": {},
   "outputs": [
    {
     "name": "stdout",
     "output_type": "stream",
     "text": [
      "F_onewayResult(statistic=0.1544664794301834, pvalue=0.8570245676784923)\n"
     ]
    }
   ],
   "source": [
    "utils.run_anova('n_safe_landings', part_file)"
   ]
  },
  {
   "cell_type": "code",
   "execution_count": 86,
   "metadata": {},
   "outputs": [
    {
     "name": "stdout",
     "output_type": "stream",
     "text": [
      "n_unsafe_landings    1     2     3     4     5     6     7     8     9     10  \\\n",
      "condition                                                                       \n",
      "full               0.00  0.02  0.02  0.11  0.00  0.13  0.09  0.17  0.13  0.09   \n",
      "score              0.02  0.04  0.13  0.13  0.13  0.02  0.09  0.09  0.04  0.02   \n",
      "text               0.02  0.11  0.04  0.11  0.07  0.04  0.07  0.13  0.09  0.04   \n",
      "\n",
      "n_unsafe_landings    11    12    13    14    15    16  \n",
      "condition                                              \n",
      "full               0.13  0.04  0.02  0.02  0.00  0.02  \n",
      "score              0.09  0.07  0.09  0.02  0.00  0.00  \n",
      "text               0.11  0.11  0.04  0.00  0.02  0.00  \n",
      "KruskalResult(statistic=2.6519178902378977, pvalue=0.26554819081262687)\n"
     ]
    }
   ],
   "source": [
    "utils.run_kruskal('n_unsafe_landings', part_file)"
   ]
  },
  {
   "cell_type": "code",
   "execution_count": 87,
   "metadata": {},
   "outputs": [
    {
     "name": "stdout",
     "output_type": "stream",
     "text": [
      "F_onewayResult(statistic=1.4117046886173055, pvalue=0.24732849441554897)\n"
     ]
    }
   ],
   "source": [
    "utils.run_anova('n_unsafe_landings', part_file)"
   ]
  },
  {
   "cell_type": "code",
   "execution_count": 88,
   "metadata": {},
   "outputs": [
    {
     "name": "stdout",
     "output_type": "stream",
     "text": [
      "n_crashes    0     1     2     3     4     5     6     7     8     10    11  \\\n",
      "condition                                                                     \n",
      "full       0.13  0.20  0.09  0.15  0.07  0.07  0.09  0.11  0.04  0.02  0.04   \n",
      "score      0.07  0.18  0.11  0.16  0.07  0.04  0.07  0.16  0.07  0.00  0.02   \n",
      "text       0.13  0.07  0.13  0.11  0.07  0.13  0.09  0.11  0.04  0.02  0.04   \n",
      "\n",
      "n_crashes    12    13    16    17  \n",
      "condition                          \n",
      "full       0.00  0.00  0.00  0.00  \n",
      "score      0.00  0.02  0.02  0.02  \n",
      "text       0.02  0.02  0.00  0.02  \n",
      "KruskalResult(statistic=1.7063744591666914, pvalue=0.4260548310615224)\n"
     ]
    }
   ],
   "source": [
    "utils.run_kruskal('n_crashes', part_file)"
   ]
  },
  {
   "cell_type": "code",
   "execution_count": 89,
   "metadata": {},
   "outputs": [
    {
     "name": "stdout",
     "output_type": "stream",
     "text": [
      "F_onewayResult(statistic=1.1324355748023924, pvalue=0.32531158360812246)\n"
     ]
    }
   ],
   "source": [
    "utils.run_anova('n_crashes', part_file)"
   ]
  },
  {
   "cell_type": "markdown",
   "metadata": {},
   "source": [
    "### Differences in outcomes in first/last half of the experiment?"
   ]
  },
  {
   "cell_type": "code",
   "execution_count": 30,
   "metadata": {},
   "outputs": [
    {
     "name": "stdout",
     "output_type": "stream",
     "text": [
      "TtestResult(statistic=6.312020416306604, pvalue=1.114738147202173e-09, df=272.0)\n"
     ]
    }
   ],
   "source": [
    "utils.run_ttest_quantiles('Crash', [0.5, 0.5], part_file, trial_file)"
   ]
  },
  {
   "cell_type": "code",
   "execution_count": 31,
   "metadata": {},
   "outputs": [
    {
     "name": "stdout",
     "output_type": "stream",
     "text": [
      "TtestResult(statistic=0.591597647191257, pvalue=0.5546114075148025, df=272.0)\n"
     ]
    }
   ],
   "source": [
    "utils.run_ttest_quantiles('Unsafe', [0.5, 0.5], part_file, trial_file)"
   ]
  },
  {
   "cell_type": "code",
   "execution_count": 32,
   "metadata": {},
   "outputs": [
    {
     "name": "stdout",
     "output_type": "stream",
     "text": [
      "TtestResult(statistic=-5.27966707295211, pvalue=2.6506100558654545e-07, df=272.0)\n"
     ]
    }
   ],
   "source": [
    "utils.run_ttest_quantiles('Safe', [0.5, 0.5], part_file, trial_file)"
   ]
  },
  {
   "cell_type": "code",
   "execution_count": 33,
   "metadata": {},
   "outputs": [
    {
     "name": "stdout",
     "output_type": "stream",
     "text": [
      "TtestResult(statistic=2.8864476532066705, pvalue=0.004900852794567911, df=88.0)\n"
     ]
    }
   ],
   "source": [
    "utils.run_ttest_quantiles('Crash', [0.5, 0.5], part_file, trial_file, idx=ids['score'])"
   ]
  },
  {
   "cell_type": "code",
   "execution_count": 34,
   "metadata": {},
   "outputs": [
    {
     "name": "stdout",
     "output_type": "stream",
     "text": [
      "TtestResult(statistic=1.4426416215207372, pvalue=0.1526714347611448, df=88.0)\n"
     ]
    }
   ],
   "source": [
    "utils.run_ttest_quantiles('Unsafe', [0.5, 0.5], part_file, trial_file, idx=ids['score'])"
   ]
  },
  {
   "cell_type": "code",
   "execution_count": 35,
   "metadata": {},
   "outputs": [
    {
     "name": "stdout",
     "output_type": "stream",
     "text": [
      "TtestResult(statistic=-3.1127963500528684, pvalue=0.002499969735273218, df=88.0)\n"
     ]
    }
   ],
   "source": [
    "utils.run_ttest_quantiles('Safe', [0.5, 0.5], part_file, trial_file, idx=ids['score'])"
   ]
  },
  {
   "cell_type": "code",
   "execution_count": 36,
   "metadata": {},
   "outputs": [
    {
     "name": "stdout",
     "output_type": "stream",
     "text": [
      "TtestResult(statistic=3.458115066981767, pvalue=0.0008328514484824556, df=90.0)\n"
     ]
    }
   ],
   "source": [
    "utils.run_ttest_quantiles('Crash', [0.5, 0.5], part_file, trial_file, idx=ids['text'])"
   ]
  },
  {
   "cell_type": "code",
   "execution_count": 37,
   "metadata": {},
   "outputs": [
    {
     "name": "stdout",
     "output_type": "stream",
     "text": [
      "TtestResult(statistic=-0.9827881281483631, pvalue=0.3283463584931763, df=90.0)\n"
     ]
    }
   ],
   "source": [
    "utils.run_ttest_quantiles('Unsafe', [0.5, 0.5], part_file, trial_file, idx=ids['text'])"
   ]
  },
  {
   "cell_type": "code",
   "execution_count": 38,
   "metadata": {},
   "outputs": [
    {
     "name": "stdout",
     "output_type": "stream",
     "text": [
      "TtestResult(statistic=-2.0448835689992713, pvalue=0.04378696381053929, df=90.0)\n"
     ]
    }
   ],
   "source": [
    "utils.run_ttest_quantiles('Safe', [0.5, 0.5], part_file, trial_file, idx=ids['text'])"
   ]
  },
  {
   "cell_type": "code",
   "execution_count": 39,
   "metadata": {},
   "outputs": [
    {
     "name": "stdout",
     "output_type": "stream",
     "text": [
      "TtestResult(statistic=4.770064642241343, pvalue=7.066174844716378e-06, df=90.0)\n"
     ]
    }
   ],
   "source": [
    "utils.run_ttest_quantiles('Crash', [0.5, 0.5], part_file, trial_file, idx=ids['full'])"
   ]
  },
  {
   "cell_type": "code",
   "execution_count": 40,
   "metadata": {},
   "outputs": [
    {
     "name": "stdout",
     "output_type": "stream",
     "text": [
      "TtestResult(statistic=0.6202613052303488, pvalue=0.5366531897171569, df=90.0)\n"
     ]
    }
   ],
   "source": [
    "utils.run_ttest_quantiles('Unsafe', [0.5, 0.5], part_file, trial_file, idx=ids['full'])"
   ]
  },
  {
   "cell_type": "code",
   "execution_count": 41,
   "metadata": {},
   "outputs": [
    {
     "name": "stdout",
     "output_type": "stream",
     "text": [
      "TtestResult(statistic=-4.186254810721787, pvalue=6.591575565497621e-05, df=90.0)\n"
     ]
    }
   ],
   "source": [
    "utils.run_ttest_quantiles('Safe', [0.5, 0.5], part_file, trial_file, idx=ids['full'])"
   ]
  },
  {
   "cell_type": "code",
   "execution_count": 42,
   "metadata": {},
   "outputs": [],
   "source": [
    "trialsh1 = trial_file[trial_file['trial'] <= 10]\n",
    "outcomesh1 = pd.merge(trialsh1.groupby('prolific_id')['outcome'].value_counts().unstack(), part_file[['prolific_id', 'condition']], left_index=True, right_on='prolific_id')\n",
    "\n",
    "trialsh2 = trial_file[trial_file['trial'] > 10]\n",
    "outcomesh2 = pd.merge(trialsh2.groupby('prolific_id')['outcome'].value_counts().unstack(), part_file[['prolific_id', 'condition']], left_index=True, right_on='prolific_id')\n",
    "\n",
    "outcomesh2['safe_diffs'] = outcomesh2['Safe'] - outcomesh1['Safe']\n",
    "outcomesh2['unsafe_diffs'] = outcomesh2['Unsafe'] - outcomesh1['Unsafe']\n",
    "outcomesh2['crash_diffs'] = outcomesh2['Crash'] - outcomesh1['Crash']"
   ]
  },
  {
   "cell_type": "code",
   "execution_count": 43,
   "metadata": {},
   "outputs": [
    {
     "data": {
      "text/plain": [
       "F_onewayResult(statistic=1.7871280833183572, pvalue=0.1714079163360719)"
      ]
     },
     "execution_count": 43,
     "metadata": {},
     "output_type": "execute_result"
    }
   ],
   "source": [
    "stats.f_oneway(outcomesh2[outcomesh2['condition'] == 'score']['safe_diffs'],\n",
    "              outcomesh2[outcomesh2['condition'] == 'text']['safe_diffs'],\n",
    "              outcomesh2[outcomesh2['condition'] == 'full']['safe_diffs'])"
   ]
  },
  {
   "cell_type": "code",
   "execution_count": 44,
   "metadata": {},
   "outputs": [
    {
     "data": {
      "text/plain": [
       "KruskalResult(statistic=3.1259965738926008, pvalue=0.2095069665509561)"
      ]
     },
     "execution_count": 44,
     "metadata": {},
     "output_type": "execute_result"
    }
   ],
   "source": [
    "stats.kruskal(outcomesh2[outcomesh2['condition'] == 'score']['safe_diffs'],\n",
    "              outcomesh2[outcomesh2['condition'] == 'text']['safe_diffs'],\n",
    "              outcomesh2[outcomesh2['condition'] == 'full']['safe_diffs'])"
   ]
  },
  {
   "cell_type": "code",
   "execution_count": 45,
   "metadata": {},
   "outputs": [
    {
     "data": {
      "text/plain": [
       "F_onewayResult(statistic=3.0460210745420095, pvalue=0.050853313953928184)"
      ]
     },
     "execution_count": 45,
     "metadata": {},
     "output_type": "execute_result"
    }
   ],
   "source": [
    "stats.f_oneway(outcomesh2[outcomesh2['condition'] == 'score']['unsafe_diffs'],\n",
    "              outcomesh2[outcomesh2['condition'] == 'text']['unsafe_diffs'],\n",
    "              outcomesh2[outcomesh2['condition'] == 'full']['unsafe_diffs'])"
   ]
  },
  {
   "cell_type": "code",
   "execution_count": 46,
   "metadata": {},
   "outputs": [
    {
     "data": {
      "text/plain": [
       "KruskalResult(statistic=6.8345466298627064, pvalue=0.032801753162922186)"
      ]
     },
     "execution_count": 46,
     "metadata": {},
     "output_type": "execute_result"
    }
   ],
   "source": [
    "stats.kruskal(outcomesh2[outcomesh2['condition'] == 'score']['unsafe_diffs'],\n",
    "              outcomesh2[outcomesh2['condition'] == 'text']['unsafe_diffs'],\n",
    "              outcomesh2[outcomesh2['condition'] == 'full']['unsafe_diffs'])"
   ]
  },
  {
   "cell_type": "code",
   "execution_count": 47,
   "metadata": {},
   "outputs": [
    {
     "data": {
      "text/html": [
       "<div>\n",
       "<style scoped>\n",
       "    .dataframe tbody tr th:only-of-type {\n",
       "        vertical-align: middle;\n",
       "    }\n",
       "\n",
       "    .dataframe tbody tr th {\n",
       "        vertical-align: top;\n",
       "    }\n",
       "\n",
       "    .dataframe thead th {\n",
       "        text-align: right;\n",
       "    }\n",
       "</style>\n",
       "<table border=\"1\" class=\"dataframe\">\n",
       "  <thead>\n",
       "    <tr style=\"text-align: right;\">\n",
       "      <th></th>\n",
       "      <th>full</th>\n",
       "      <th>score</th>\n",
       "      <th>text</th>\n",
       "    </tr>\n",
       "  </thead>\n",
       "  <tbody>\n",
       "    <tr>\n",
       "      <th>full</th>\n",
       "      <td>1.000000</td>\n",
       "      <td>0.966245</td>\n",
       "      <td>0.324274</td>\n",
       "    </tr>\n",
       "    <tr>\n",
       "      <th>score</th>\n",
       "      <td>0.966245</td>\n",
       "      <td>1.000000</td>\n",
       "      <td>0.028946</td>\n",
       "    </tr>\n",
       "    <tr>\n",
       "      <th>text</th>\n",
       "      <td>0.324274</td>\n",
       "      <td>0.028946</td>\n",
       "      <td>1.000000</td>\n",
       "    </tr>\n",
       "  </tbody>\n",
       "</table>\n",
       "</div>"
      ],
      "text/plain": [
       "           full     score      text\n",
       "full   1.000000  0.966245  0.324274\n",
       "score  0.966245  1.000000  0.028946\n",
       "text   0.324274  0.028946  1.000000"
      ]
     },
     "execution_count": 47,
     "metadata": {},
     "output_type": "execute_result"
    }
   ],
   "source": [
    "sp.posthoc_dunn(outcomesh2, val_col='unsafe_diffs', group_col='condition', p_adjust='bonferroni')"
   ]
  },
  {
   "cell_type": "code",
   "execution_count": 48,
   "metadata": {},
   "outputs": [
    {
     "data": {
      "text/plain": [
       "F_onewayResult(statistic=0.689657622630395, pvalue=0.5035197543724557)"
      ]
     },
     "execution_count": 48,
     "metadata": {},
     "output_type": "execute_result"
    }
   ],
   "source": [
    "stats.f_oneway(outcomesh2[outcomesh2['condition'] == 'score']['crash_diffs'],\n",
    "              outcomesh2[outcomesh2['condition'] == 'text']['crash_diffs'],\n",
    "              outcomesh2[outcomesh2['condition'] == 'full']['crash_diffs'])"
   ]
  },
  {
   "cell_type": "code",
   "execution_count": 49,
   "metadata": {},
   "outputs": [
    {
     "data": {
      "text/plain": [
       "KruskalResult(statistic=0.9236707194456654, pvalue=0.630126075533876)"
      ]
     },
     "execution_count": 49,
     "metadata": {},
     "output_type": "execute_result"
    }
   ],
   "source": [
    "stats.kruskal(outcomesh2[outcomesh2['condition'] == 'score']['crash_diffs'],\n",
    "              outcomesh2[outcomesh2['condition'] == 'text']['crash_diffs'],\n",
    "              outcomesh2[outcomesh2['condition'] == 'full']['crash_diffs'])"
   ]
  },
  {
   "cell_type": "code",
   "execution_count": 50,
   "metadata": {},
   "outputs": [
    {
     "data": {
      "text/html": [
       "<div>\n",
       "<style scoped>\n",
       "    .dataframe tbody tr th:only-of-type {\n",
       "        vertical-align: middle;\n",
       "    }\n",
       "\n",
       "    .dataframe tbody tr th {\n",
       "        vertical-align: top;\n",
       "    }\n",
       "\n",
       "    .dataframe thead th {\n",
       "        text-align: right;\n",
       "    }\n",
       "</style>\n",
       "<table border=\"1\" class=\"dataframe\">\n",
       "  <thead>\n",
       "    <tr style=\"text-align: right;\">\n",
       "      <th></th>\n",
       "      <th>crash_diffs</th>\n",
       "      <th>unsafe_diffs</th>\n",
       "      <th>safe_diffs</th>\n",
       "    </tr>\n",
       "    <tr>\n",
       "      <th>condition</th>\n",
       "      <th></th>\n",
       "      <th></th>\n",
       "      <th></th>\n",
       "    </tr>\n",
       "  </thead>\n",
       "  <tbody>\n",
       "    <tr>\n",
       "      <th>full</th>\n",
       "      <td>-1.85</td>\n",
       "      <td>-0.24</td>\n",
       "      <td>2.17</td>\n",
       "    </tr>\n",
       "    <tr>\n",
       "      <th>score</th>\n",
       "      <td>-1.33</td>\n",
       "      <td>-0.64</td>\n",
       "      <td>2.02</td>\n",
       "    </tr>\n",
       "    <tr>\n",
       "      <th>text</th>\n",
       "      <td>-1.59</td>\n",
       "      <td>0.43</td>\n",
       "      <td>1.28</td>\n",
       "    </tr>\n",
       "  </tbody>\n",
       "</table>\n",
       "</div>"
      ],
      "text/plain": [
       "           crash_diffs  unsafe_diffs  safe_diffs\n",
       "condition                                       \n",
       "full             -1.85         -0.24        2.17\n",
       "score            -1.33         -0.64        2.02\n",
       "text             -1.59          0.43        1.28"
      ]
     },
     "execution_count": 50,
     "metadata": {},
     "output_type": "execute_result"
    }
   ],
   "source": [
    "outcomesh2.groupby('condition')[['crash_diffs','unsafe_diffs','safe_diffs']].mean().round(2)"
   ]
  },
  {
   "cell_type": "markdown",
   "metadata": {},
   "source": [
    "### What about first and last quarter?"
   ]
  },
  {
   "cell_type": "code",
   "execution_count": 51,
   "metadata": {},
   "outputs": [
    {
     "name": "stdout",
     "output_type": "stream",
     "text": [
      "TtestResult(statistic=8.453247764296567, pvalue=1.745785278078666e-15, df=272.0)\n"
     ]
    }
   ],
   "source": [
    "utils.run_ttest_quantiles('Crash', [0.25, 0.75], part_file, trial_file)"
   ]
  },
  {
   "cell_type": "code",
   "execution_count": 52,
   "metadata": {},
   "outputs": [
    {
     "name": "stdout",
     "output_type": "stream",
     "text": [
      "TtestResult(statistic=1.3132187170658103, pvalue=0.19021599770371042, df=272.0)\n"
     ]
    }
   ],
   "source": [
    "utils.run_ttest_quantiles('Unsafe', [0.25, 0.75], part_file, trial_file)"
   ]
  },
  {
   "cell_type": "code",
   "execution_count": 53,
   "metadata": {},
   "outputs": [
    {
     "name": "stdout",
     "output_type": "stream",
     "text": [
      "TtestResult(statistic=-8.680535729493688, pvalue=3.692134563521983e-16, df=272.0)\n"
     ]
    }
   ],
   "source": [
    "utils.run_ttest_quantiles('Safe', [0.25, 0.75], part_file, trial_file)"
   ]
  },
  {
   "cell_type": "code",
   "execution_count": 54,
   "metadata": {},
   "outputs": [
    {
     "name": "stdout",
     "output_type": "stream",
     "text": [
      "TtestResult(statistic=3.9789674085994906, pvalue=0.0001418586807287439, df=88.0)\n"
     ]
    }
   ],
   "source": [
    "utils.run_ttest_quantiles('Crash', [0.25, 0.75], part_file, trial_file, idx=ids['score'])"
   ]
  },
  {
   "cell_type": "code",
   "execution_count": 55,
   "metadata": {},
   "outputs": [
    {
     "name": "stdout",
     "output_type": "stream",
     "text": [
      "TtestResult(statistic=1.4122159278420172, pvalue=0.16141300281864054, df=88.0)\n"
     ]
    }
   ],
   "source": [
    "utils.run_ttest_quantiles('Unsafe', [0.25, 0.75], part_file, trial_file, idx=ids['score'])"
   ]
  },
  {
   "cell_type": "code",
   "execution_count": 56,
   "metadata": {},
   "outputs": [
    {
     "name": "stdout",
     "output_type": "stream",
     "text": [
      "TtestResult(statistic=-4.890096469218257, pvalue=4.506240952251832e-06, df=88.0)\n"
     ]
    }
   ],
   "source": [
    "utils.run_ttest_quantiles('Safe', [0.25, 0.75], part_file, trial_file, idx=ids['score'])"
   ]
  },
  {
   "cell_type": "code",
   "execution_count": 57,
   "metadata": {},
   "outputs": [
    {
     "name": "stdout",
     "output_type": "stream",
     "text": [
      "TtestResult(statistic=5.0453630440619355, pvalue=2.3377389780557668e-06, df=90.0)\n"
     ]
    }
   ],
   "source": [
    "utils.run_ttest_quantiles('Crash', [0.25, 0.75], part_file, trial_file, idx=ids['text'])"
   ]
  },
  {
   "cell_type": "code",
   "execution_count": 58,
   "metadata": {},
   "outputs": [
    {
     "name": "stdout",
     "output_type": "stream",
     "text": [
      "TtestResult(statistic=-0.5621729377379314, pvalue=0.5753956919133283, df=90.0)\n"
     ]
    }
   ],
   "source": [
    "utils.run_ttest_quantiles('Unsafe', [0.25, 0.75], part_file, trial_file, idx=ids['text'])"
   ]
  },
  {
   "cell_type": "code",
   "execution_count": 59,
   "metadata": {},
   "outputs": [
    {
     "name": "stdout",
     "output_type": "stream",
     "text": [
      "TtestResult(statistic=-3.87567251812528, pvalue=0.0002016706536141498, df=90.0)\n"
     ]
    }
   ],
   "source": [
    "utils.run_ttest_quantiles('Safe', [0.25, 0.75], part_file, trial_file, idx=ids['text'])"
   ]
  },
  {
   "cell_type": "code",
   "execution_count": 60,
   "metadata": {},
   "outputs": [
    {
     "name": "stdout",
     "output_type": "stream",
     "text": [
      "TtestResult(statistic=5.952522654434597, pvalue=5.0037872772396944e-08, df=90.0)\n"
     ]
    }
   ],
   "source": [
    "utils.run_ttest_quantiles('Crash', [0.25, 0.75], part_file, trial_file, idx=ids['full'])"
   ]
  },
  {
   "cell_type": "code",
   "execution_count": 61,
   "metadata": {},
   "outputs": [
    {
     "name": "stdout",
     "output_type": "stream",
     "text": [
      "TtestResult(statistic=1.5505889600819815, pvalue=0.12450971290143559, df=90.0)\n"
     ]
    }
   ],
   "source": [
    "utils.run_ttest_quantiles('Unsafe', [0.25, 0.75], part_file, trial_file, idx=ids['full'])"
   ]
  },
  {
   "cell_type": "code",
   "execution_count": 62,
   "metadata": {},
   "outputs": [
    {
     "name": "stdout",
     "output_type": "stream",
     "text": [
      "TtestResult(statistic=-6.465025016945542, pvalue=5.111929601550887e-09, df=90.0)\n"
     ]
    }
   ],
   "source": [
    "utils.run_ttest_quantiles('Safe', [0.25, 0.75], part_file, trial_file, idx=ids['full'])"
   ]
  },
  {
   "cell_type": "code",
   "execution_count": 63,
   "metadata": {},
   "outputs": [],
   "source": [
    "trialsq1 = trial_file[trial_file['trial'] <= 5]\n",
    "outcomesq1 = pd.merge(trialsq1.groupby('prolific_id')['outcome'].value_counts().unstack(), part_file[['prolific_id', 'condition']], left_index=True, right_on='prolific_id')\n",
    "\n",
    "trialsq4 = trial_file[trial_file['trial'] > 15]\n",
    "outcomesq4 = pd.merge(trialsq4.groupby('prolific_id')['outcome'].value_counts().unstack(), part_file[['prolific_id', 'condition']], left_index=True, right_on='prolific_id')\n",
    "\n",
    "outcomesq4['safe_diffs'] = outcomesq4['Safe'] - outcomesq1['Safe']\n",
    "outcomesq4['unsafe_diffs'] = outcomesq4['Unsafe'] - outcomesq1['Unsafe']\n",
    "outcomesq4['crash_diffs'] = outcomesq4['Crash'] - outcomesq1['Crash']"
   ]
  },
  {
   "cell_type": "code",
   "execution_count": 64,
   "metadata": {},
   "outputs": [
    {
     "data": {
      "text/plain": [
       "F_onewayResult(statistic=1.3209836637414718, pvalue=0.2703251007177133)"
      ]
     },
     "execution_count": 64,
     "metadata": {},
     "output_type": "execute_result"
    }
   ],
   "source": [
    "stats.f_oneway(outcomesq4[outcomesq4['condition'] == 'score']['safe_diffs'],\n",
    "              outcomesq4[outcomesq4['condition'] == 'text']['safe_diffs'],\n",
    "              outcomesq4[outcomesq4['condition'] == 'full']['safe_diffs'])"
   ]
  },
  {
   "cell_type": "code",
   "execution_count": 65,
   "metadata": {},
   "outputs": [
    {
     "data": {
      "text/plain": [
       "KruskalResult(statistic=2.37692340520991, pvalue=0.30468960697771946)"
      ]
     },
     "execution_count": 65,
     "metadata": {},
     "output_type": "execute_result"
    }
   ],
   "source": [
    "stats.kruskal(outcomesq4[outcomesq4['condition'] == 'score']['safe_diffs'],\n",
    "              outcomesq4[outcomesq4['condition'] == 'text']['safe_diffs'],\n",
    "              outcomesq4[outcomesq4['condition'] == 'full']['safe_diffs'])"
   ]
  },
  {
   "cell_type": "code",
   "execution_count": 66,
   "metadata": {},
   "outputs": [
    {
     "data": {
      "text/plain": [
       "F_onewayResult(statistic=1.6209233652471715, pvalue=0.20156838636361699)"
      ]
     },
     "execution_count": 66,
     "metadata": {},
     "output_type": "execute_result"
    }
   ],
   "source": [
    "stats.f_oneway(outcomesq4[outcomesq4['condition'] == 'score']['unsafe_diffs'],\n",
    "              outcomesq4[outcomesq4['condition'] == 'text']['unsafe_diffs'],\n",
    "              outcomesq4[outcomesq4['condition'] == 'full']['unsafe_diffs'])"
   ]
  },
  {
   "cell_type": "code",
   "execution_count": 67,
   "metadata": {},
   "outputs": [
    {
     "data": {
      "text/plain": [
       "KruskalResult(statistic=3.561145349410922, pvalue=0.16854160011497393)"
      ]
     },
     "execution_count": 67,
     "metadata": {},
     "output_type": "execute_result"
    }
   ],
   "source": [
    "stats.kruskal(outcomesq4[outcomesq4['condition'] == 'score']['unsafe_diffs'],\n",
    "              outcomesq4[outcomesq4['condition'] == 'text']['unsafe_diffs'],\n",
    "              outcomesq4[outcomesq4['condition'] == 'full']['unsafe_diffs'])"
   ]
  },
  {
   "cell_type": "code",
   "execution_count": 68,
   "metadata": {},
   "outputs": [
    {
     "data": {
      "text/plain": [
       "F_onewayResult(statistic=0.17151629199105814, pvalue=0.8425711832397592)"
      ]
     },
     "execution_count": 68,
     "metadata": {},
     "output_type": "execute_result"
    }
   ],
   "source": [
    "stats.f_oneway(outcomesq4[outcomesq4['condition'] == 'score']['crash_diffs'],\n",
    "              outcomesq4[outcomesq4['condition'] == 'text']['crash_diffs'],\n",
    "              outcomesq4[outcomesq4['condition'] == 'full']['crash_diffs'])"
   ]
  },
  {
   "cell_type": "code",
   "execution_count": 69,
   "metadata": {},
   "outputs": [
    {
     "data": {
      "text/plain": [
       "KruskalResult(statistic=0.3283557640305569, pvalue=0.8485910593660593)"
      ]
     },
     "execution_count": 69,
     "metadata": {},
     "output_type": "execute_result"
    }
   ],
   "source": [
    "stats.kruskal(outcomesq4[outcomesq4['condition'] == 'score']['crash_diffs'],\n",
    "              outcomesq4[outcomesq4['condition'] == 'text']['crash_diffs'],\n",
    "              outcomesq4[outcomesq4['condition'] == 'full']['crash_diffs'])"
   ]
  },
  {
   "cell_type": "code",
   "execution_count": 70,
   "metadata": {},
   "outputs": [
    {
     "data": {
      "text/html": [
       "<div>\n",
       "<style scoped>\n",
       "    .dataframe tbody tr th:only-of-type {\n",
       "        vertical-align: middle;\n",
       "    }\n",
       "\n",
       "    .dataframe tbody tr th {\n",
       "        vertical-align: top;\n",
       "    }\n",
       "\n",
       "    .dataframe thead th {\n",
       "        text-align: right;\n",
       "    }\n",
       "</style>\n",
       "<table border=\"1\" class=\"dataframe\">\n",
       "  <thead>\n",
       "    <tr style=\"text-align: right;\">\n",
       "      <th></th>\n",
       "      <th>crash_diffs</th>\n",
       "      <th>unsafe_diffs</th>\n",
       "      <th>safe_diffs</th>\n",
       "    </tr>\n",
       "    <tr>\n",
       "      <th>condition</th>\n",
       "      <th></th>\n",
       "      <th></th>\n",
       "      <th></th>\n",
       "    </tr>\n",
       "  </thead>\n",
       "  <tbody>\n",
       "    <tr>\n",
       "      <th>full</th>\n",
       "      <td>-1.391304</td>\n",
       "      <td>-0.369565</td>\n",
       "      <td>1.804348</td>\n",
       "    </tr>\n",
       "    <tr>\n",
       "      <th>score</th>\n",
       "      <td>-1.200000</td>\n",
       "      <td>-0.377778</td>\n",
       "      <td>1.666667</td>\n",
       "    </tr>\n",
       "    <tr>\n",
       "      <th>text</th>\n",
       "      <td>-1.304348</td>\n",
       "      <td>0.152174</td>\n",
       "      <td>1.260870</td>\n",
       "    </tr>\n",
       "  </tbody>\n",
       "</table>\n",
       "</div>"
      ],
      "text/plain": [
       "           crash_diffs  unsafe_diffs  safe_diffs\n",
       "condition                                       \n",
       "full         -1.391304     -0.369565    1.804348\n",
       "score        -1.200000     -0.377778    1.666667\n",
       "text         -1.304348      0.152174    1.260870"
      ]
     },
     "execution_count": 70,
     "metadata": {},
     "output_type": "execute_result"
    }
   ],
   "source": [
    "outcomesq4.groupby('condition')[['crash_diffs','unsafe_diffs','safe_diffs']].mean()"
   ]
  },
  {
   "cell_type": "markdown",
   "metadata": {},
   "source": [
    "### Look at robustness and efficiency"
   ]
  },
  {
   "cell_type": "code",
   "execution_count": null,
   "metadata": {},
   "outputs": [],
   "source": [
    "# what are max and min values for the robustness and efficiency measures?\n",
    "robustness_cols = ['left_boundary',\t'right_boundary', 'top_boundary', 'bottom_boundary', 'landing_left', 'landing_right', 'landing_speed','landing_angle']\n",
    "robustness_files = glob.glob(f'{data_dir}*/*/robustness.csv')\n",
    "robustness_vals = {v : {'max':-99999, 'min':99999} for v in robustness_cols}"
   ]
  },
  {
   "cell_type": "code",
   "execution_count": null,
   "metadata": {},
   "outputs": [],
   "source": [
    "for f in robustness_files:\n",
    "    df = pd.read_csv(f)\n",
    "    for col in robustness_cols:\n",
    "        if df[col].min() < robustness_vals[col]['min']:\n",
    "            robustness_vals[col]['min'] = min(df[col])\n",
    "        if df[col].max() > robustness_vals[col]['max']:\n",
    "            robustness_vals[col]['max'] = max(df[col])\n",
    "\n",
    "robustness_vals"
   ]
  },
  {
   "cell_type": "code",
   "execution_count": null,
   "metadata": {},
   "outputs": [],
   "source": [
    "fig, axs = plt.subplots(1,4, figsize=(10,6))\n",
    "n_trials = 20\n",
    "var = 'landing_speed'\n",
    "\n",
    "cmap = mpl.cm.seismic\n",
    "norm = mpl.colors.Normalize(vmin=robustness_vals[var]['max'], vmax=robustness_vals[var]['min'])\n",
    "\n",
    "conditions = list(ids.keys())\n",
    "\n",
    "for a in range(len(axs)-1):\n",
    "    for i in range(len(ids[conditions[a]])):\n",
    "        part = ids[conditions[a]].iloc[i]\n",
    "        data = pd.read_csv(data_dir + part + '/survey_responses.csv')\n",
    "        for trial in range(n_trials):\n",
    "            try:\n",
    "                outcome = data[data['trial'] == trial+1]['outcome'].values[0]\n",
    "                if outcome in ['Safe', 'Unsafe']:\n",
    "                    trial_data = pd.read_csv(f\"{data_dir}{part}/trial_{trial+1}/robustness.csv\")\n",
    "                    val = trial_data.iloc[-1][var]\n",
    "                    val_normed = (val - robustness_vals[var]['min'])/(robustness_vals[var]['max'] - robustness_vals[var]['min'])\n",
    "                    c = cmap(val_normed)\n",
    "                    axs[a].plot(trial, i, marker='o', color=c)\n",
    "            except:\n",
    "                print(f\"skipping participant {part} trial {trial}\")\n",
    "\n",
    "    axs[a].set_aspect('equal')\n",
    "    axs[a].set_title(f'{conditions[a]}')\n",
    "\n",
    "fig.colorbar(mpl.cm.ScalarMappable(norm=norm, cmap=cmap), orientation='vertical', label='robustness',cax=axs[-1])\n",
    "plt.show()"
   ]
  },
  {
   "cell_type": "code",
   "execution_count": null,
   "metadata": {},
   "outputs": [],
   "source": [
    "fig, axs = plt.subplots(1,4, figsize=(10,6))\n",
    "n_trials = 20\n",
    "var = 'landing_angle'\n",
    "\n",
    "cmap = mpl.cm.seismic\n",
    "norm = mpl.colors.Normalize(vmin=robustness_vals[var]['min'], vmax=robustness_vals[var]['max'])\n",
    "\n",
    "conditions = list(ids.keys())\n",
    "\n",
    "for a in range(len(axs)-1):\n",
    "    for i in range(len(ids[conditions[a]])):\n",
    "        part = ids[conditions[a]].iloc[i]\n",
    "        data = pd.read_csv(data_dir + part + '/survey_responses.csv')\n",
    "        for trial in range(n_trials):\n",
    "            try:\n",
    "                outcome = data[data['trial'] == trial+1]['outcome'].values[0]\n",
    "                if outcome in ['Safe', 'Unsafe']:\n",
    "                    trial_data = pd.read_csv(f\"{data_dir}{part}/trial_{trial+1}/robustness.csv\")\n",
    "                    val = trial_data.iloc[-1][var]\n",
    "                    val_normed = (val - robustness_vals[var]['min'])/(robustness_vals[var]['max'] - robustness_vals[var]['min'])\n",
    "                    c = cmap(val_normed)\n",
    "                    axs[a].plot(trial, i, marker='o', color=c)\n",
    "            except:\n",
    "                print(f\"skipping participant {part} trial {trial}\")\n",
    "\n",
    "    axs[a].set_aspect('equal')\n",
    "    axs[a].set_title(f'{conditions[a]}')\n",
    "\n",
    "fig.colorbar(mpl.cm.ScalarMappable(norm=norm, cmap=cmap), orientation='vertical', label='robustness',cax=axs[-1])\n",
    "plt.show()"
   ]
  },
  {
   "cell_type": "markdown",
   "metadata": {},
   "source": [
    "# Pulling out qualitative stuff"
   ]
  },
  {
   "cell_type": "markdown",
   "metadata": {},
   "source": [
    "Grab all the images. This only needs to be done once."
   ]
  },
  {
   "cell_type": "code",
   "execution_count": null,
   "metadata": {},
   "outputs": [],
   "source": [
    "utils.copy_images(part_file['prolific_id'])"
   ]
  }
 ],
 "metadata": {
  "kernelspec": {
   "display_name": "venv",
   "language": "python",
   "name": "python3"
  },
  "language_info": {
   "codemirror_mode": {
    "name": "ipython",
    "version": 3
   },
   "file_extension": ".py",
   "mimetype": "text/x-python",
   "name": "python",
   "nbconvert_exporter": "python",
   "pygments_lexer": "ipython3",
   "version": "3.9.6"
  }
 },
 "nbformat": 4,
 "nbformat_minor": 2
}

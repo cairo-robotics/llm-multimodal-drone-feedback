{
 "cells": [
  {
   "cell_type": "markdown",
   "metadata": {},
   "source": [
    "# Imports"
   ]
  },
  {
   "cell_type": "code",
   "execution_count": 116,
   "metadata": {},
   "outputs": [],
   "source": [
    "import warnings\n",
    "warnings.filterwarnings(\"ignore\")\n",
    "\n",
    "import pandas as pd\n",
    "import matplotlib.pyplot as plt\n",
    "import matplotlib as mpl\n",
    "import glob\n",
    "import scipy.stats as stats\n",
    "import scikit_posthocs as sp\n",
    "\n",
    "import utils # offload data processing into .py file"
   ]
  },
  {
   "cell_type": "code",
   "execution_count": 2,
   "metadata": {},
   "outputs": [],
   "source": [
    "data_dir = 'C:/Users/Emily Jensen/OneDrive - UCB-O365/Drone Feedback Data/data/'\n",
    "\n",
    "# data_dir = '/Users/emilyjensen/Library/CloudStorage/OneDrive-UCB-O365/Drone Feedback Data/data/'"
   ]
  },
  {
   "cell_type": "markdown",
   "metadata": {},
   "source": [
    "Open all of the relevant data files/directories\n",
    "\n",
    "Emily downloaded the final data and Qualtrics surveys on 4/16/24"
   ]
  },
  {
   "cell_type": "markdown",
   "metadata": {},
   "source": [
    "Qualtrics export settings:\n",
    "\n",
    "<img src=\"qualtrics_export_settings.png\" alt=\"Qualtrics Export Settings\" width=\"500px\">"
   ]
  },
  {
   "cell_type": "markdown",
   "metadata": {},
   "source": [
    "# Load Data"
   ]
  },
  {
   "cell_type": "markdown",
   "metadata": {},
   "source": [
    "Notes on participants that seem to have restarted the experiment:\n",
    "- `5bd49bcc25db7b0001794063` restarted after trial 1 - KEEP\n",
    "- `5c90094e71f3100016181ea9` restarted after trial 3 and again after trial 1 - KEEP\n",
    "- `5ef9f528c7ae587afa25fe9b` restarted after trial 6 - REMOVE\n",
    "- `60fcc292d13ae9614d4a77a7` restarted after trial 3 - KEEP\n",
    "- `6105c41aa4fe602501d5a8cc` restarted after trial 8 - REMOVE\n",
    "- `610796f1301fccdca446af57` restarted after trial 7 - REMOVE\n",
    "- `629658baad2881aba974c6c3` restarted after trial 2 - KEEP\n",
    "- `63026a8fd8429b224cd2a134` restarted before completing trial 1 - KEEP\n",
    "- `631f1b608af38f654d2a3b1f` restarted after trial 15 - REMOVE\n",
    "- `637d4196c70a66e28ecede34` restarted before completing trial 1 - KEEP\n",
    "- `6388b6c86e47b08e1eded1fd` restarted before completing trial 1 - KEEP\n",
    "- `63ba10de73415d047e1d6731` restarted after trial 5 and again after trial 1 - REMOVE\n",
    "- `643c6175d46d41e74033994f` restarted after trial 8 and again after trial 1 - REMOVE\n",
    "- `652ab7948cb59f4c50c7972a` restarted after trial 1 - KEEP\n",
    "- `6596a5cad60ef105b6c18897` restarted after trial 1 - KEEP\n",
    "- `65cba99c92b362b45e414da7` restarted after trial 17 - REMOVE\n",
    "\n",
    "We will keep the participants who complete less than 5 trials before completing a complete run.\n",
    "\n",
    "Participant `6400dc9f84ed19aeedc1a2cc` seems to have filled out the qualtrics survey twice. The numerical data are the same and the free response questions have very similar content so I feel fine only keeping the first entry.\n",
    "\n",
    "This has been implemented in `utils.load_data()`"
   ]
  },
  {
   "cell_type": "markdown",
   "metadata": {},
   "source": [
    "Participants removed for not providing a good-faith effort:\n",
    "\n",
    "- `63026a8fd8429b224cd2a134` \n",
    "- `637d4196c70a66e28ecede34` \n",
    "- `5f90581950d8520e8c7d3890`\n",
    "\n",
    "These participants crashed on every trial and never used horizontal inputs"
   ]
  },
  {
   "cell_type": "code",
   "execution_count": 3,
   "metadata": {},
   "outputs": [
    {
     "name": "stdout",
     "output_type": "stream",
     "text": [
      "Dropped 17 duplicate IDs:\n",
      "['5bd49bcc25db7b0001794063' '5c90094e71f3100016181ea9'\n",
      " '5ef9f528c7ae587afa25fe9b' '60fcc292d13ae9614d4a77a7'\n",
      " '6105c41aa4fe602501d5a8cc' '610796f1301fccdca446af57'\n",
      " '629658baad2881aba974c6c3' '63026a8fd8429b224cd2a134'\n",
      " '631f1b608af38f654d2a3b1f' '637d4196c70a66e28ecede34'\n",
      " '6388b6c86e47b08e1eded1fd' '63ba10de73415d047e1d6731'\n",
      " '6400dc9f84ed19aeedc1a2cc' '643c6175d46d41e74033994f'\n",
      " '652ab7948cb59f4c50c7972a' '6596a5cad60ef105b6c18897'\n",
      " '65cba99c92b362b45e414da7']\n",
      "Final number of IDs in participant file: 137\n",
      "Final number of IDs in trial file: 137\n"
     ]
    }
   ],
   "source": [
    "part_file, trial_file, ids = utils.load_data()"
   ]
  },
  {
   "cell_type": "markdown",
   "metadata": {},
   "source": [
    "# Basic stats\n",
    "\n",
    "This is after filtering out participants that restarted the experiment"
   ]
  },
  {
   "cell_type": "code",
   "execution_count": 4,
   "metadata": {},
   "outputs": [
    {
     "name": "stdout",
     "output_type": "stream",
     "text": [
      "           count  proportion\n",
      "condition                   \n",
      "full          46        0.34\n",
      "score         45        0.33\n",
      "text          46        0.34\n",
      "            count  proportion\n",
      "gender                       \n",
      "Man            59        0.43\n",
      "Non-binary      7        0.05\n",
      "Woman          71        0.52\n",
      "                  count  proportion\n",
      "drone_experience                   \n",
      "None                112        0.82\n",
      "Some                 20        0.15\n",
      "Regularly             5        0.04\n",
      "Professional          0        0.00\n",
      "                       count  proportion\n",
      "video_game_experience                   \n",
      "None                      24        0.18\n",
      "Monthly                   38        0.28\n",
      "Weekly                    35        0.26\n",
      "Daily                     40        0.29\n",
      "                   count  proportion\n",
      "feedback_helped                     \n",
      "Strongly Disagree     22        0.16\n",
      "Disagree              17        0.12\n",
      "Neutral               22        0.16\n",
      "Agree                 59        0.43\n",
      "Strongly Agree        17        0.12\n",
      "                           count  proportion\n",
      "feedback_helped_collapsed                   \n",
      "Disagree                      39        0.28\n",
      "Neutral                       22        0.16\n",
      "Agree                         76        0.55\n",
      "\n",
      "age:\n",
      "count    137.00\n",
      "mean      38.39\n",
      "std       12.23\n",
      "min       18.00\n",
      "25%       30.00\n",
      "50%       36.00\n",
      "75%       47.00\n",
      "max       74.00\n",
      "Name: age, dtype: float64\n",
      "\n",
      "total_time_seconds:\n",
      "count     137.00\n",
      "mean     1792.71\n",
      "std       641.94\n",
      "min       805.44\n",
      "25%      1335.60\n",
      "50%      1632.73\n",
      "75%      2107.25\n",
      "max      5192.21\n",
      "Name: total_time_seconds, dtype: float64\n",
      "\n",
      "avg_feedback_time_seconds:\n",
      "count    137.00\n",
      "mean      33.67\n",
      "std       23.30\n",
      "min        0.86\n",
      "25%       21.57\n",
      "50%       28.99\n",
      "75%       40.25\n",
      "max      226.05\n",
      "Name: avg_feedback_time_seconds, dtype: float64\n",
      "\n",
      "n_safe_landings:\n",
      "count    137.00\n",
      "mean       8.00\n",
      "std        5.25\n",
      "min        0.00\n",
      "25%        3.00\n",
      "50%        8.00\n",
      "75%       12.00\n",
      "max       19.00\n",
      "Name: n_safe_landings, dtype: float64\n"
     ]
    }
   ],
   "source": [
    "utils.run_basic_stats(part_file)"
   ]
  },
  {
   "cell_type": "code",
   "execution_count": 5,
   "metadata": {},
   "outputs": [
    {
     "data": {
      "text/plain": [
       "count    2740.000000\n",
       "mean       29.731975\n",
       "std        33.842287\n",
       "min        -0.000072\n",
       "25%        16.610697\n",
       "50%        24.607244\n",
       "75%        36.634225\n",
       "max      1072.321791\n",
       "Name: trial_time_seconds, dtype: float64"
      ]
     },
     "execution_count": 5,
     "metadata": {},
     "output_type": "execute_result"
    }
   ],
   "source": [
    "trial_file['trial_time_seconds'].describe()"
   ]
  },
  {
   "cell_type": "code",
   "execution_count": 6,
   "metadata": {},
   "outputs": [
    {
     "data": {
      "text/plain": [
       "<Axes: >"
      ]
     },
     "execution_count": 6,
     "metadata": {},
     "output_type": "execute_result"
    },
    {
     "data": {
      "image/png": "[encoded data removed]",
      "text/plain": [
       "<Figure size 640x480 with 1 Axes>"
      ]
     },
     "metadata": {},
     "output_type": "display_data"
    }
   ],
   "source": [
    "trial_file.loc[(trial_file['trial_time_seconds'] < 200), 'trial_time_seconds'].hist()"
   ]
  },
  {
   "cell_type": "code",
   "execution_count": 7,
   "metadata": {},
   "outputs": [
    {
     "data": {
      "text/plain": [
       "0.9883211678832117"
      ]
     },
     "execution_count": 7,
     "metadata": {},
     "output_type": "execute_result"
    }
   ],
   "source": [
    "len(trial_file[trial_file['trial_time_seconds'] < 120])/ len(trial_file)"
   ]
  },
  {
   "cell_type": "code",
   "execution_count": 9,
   "metadata": {},
   "outputs": [
    {
     "data": {
      "text/plain": [
       "19     14\n",
       "37     12\n",
       "64     14\n",
       "70     15\n",
       "152     6\n",
       "Name: n_safe_landings, dtype: int64"
      ]
     },
     "execution_count": 9,
     "metadata": {},
     "output_type": "execute_result"
    }
   ],
   "source": [
    "# select participants with 'Regularly' and 'Professional' drone experience\n",
    "part_file[part_file['drone_experience'].isin(['Regularly', 'Professional'])]['n_safe_landings']"
   ]
  },
  {
   "cell_type": "markdown",
   "metadata": {},
   "source": [
    "# Research Themes"
   ]
  },
  {
   "cell_type": "markdown",
   "metadata": {},
   "source": [
    "## Perception of Feedback"
   ]
  },
  {
   "cell_type": "markdown",
   "metadata": {},
   "source": [
    "### What is associated with overall feedback helpfulness rating?"
   ]
  },
  {
   "cell_type": "code",
   "execution_count": 10,
   "metadata": {},
   "outputs": [
    {
     "name": "stdout",
     "output_type": "stream",
     "text": [
      "Optimization terminated successfully.\n",
      "         Current function value: 1.141789\n",
      "         Iterations: 65\n",
      "         Function evaluations: 71\n",
      "         Gradient evaluations: 71\n",
      "                             OrderedModel Results                             \n",
      "==============================================================================\n",
      "Dep. Variable:        feedback_helped   Log-Likelihood:                -156.43\n",
      "Model:                   OrderedModel   AIC:                             350.9\n",
      "Method:            Maximum Likelihood   BIC:                             406.3\n",
      "Date:                Wed, 01 May 2024                                         \n",
      "Time:                        11:20:41                                         \n",
      "No. Observations:                 137                                         \n",
      "Df Residuals:                     118                                         \n",
      "Df Model:                          15                                         \n",
      "==============================================================================================\n",
      "                                 coef    std err          z      P>|z|      [0.025      0.975]\n",
      "----------------------------------------------------------------------------------------------\n",
      "age                            0.0086      0.017      0.496      0.620      -0.026       0.043\n",
      "drone_experience_code         -0.5555      0.372     -1.493      0.135      -1.285       0.174\n",
      "video_game_experience_code     0.2129      0.190      1.118      0.264      -0.160       0.586\n",
      "total_time_seconds             0.0004      0.001      0.635      0.526      -0.001       0.002\n",
      "avg_feedback_time_seconds     -0.0250      0.018     -1.402      0.161      -0.060       0.010\n",
      "avg_trial_time_seconds         0.0008      0.021      0.038      0.969      -0.040       0.041\n",
      "gender_Non-binary             -0.3898      0.843     -0.463      0.644      -2.042       1.262\n",
      "gender_Woman                   0.1345      0.419      0.321      0.748      -0.686       0.955\n",
      "condition_code                 0.0324      0.213      0.152      0.879      -0.386       0.451\n",
      "n_safe_landings                0.0916      0.039      2.329      0.020       0.015       0.169\n",
      "mode_motivation_code           0.8782      0.327      2.684      0.007       0.237       1.519\n",
      "mode_manageable_code           0.2198      0.282      0.780      0.435      -0.333       0.772\n",
      "mode_actionable_code           0.1372      0.229      0.599      0.549      -0.312       0.586\n",
      "mode_timely_code              -0.1364      0.304     -0.449      0.654      -0.732       0.459\n",
      "mode_reflection_code           0.7874      0.317      2.482      0.013       0.166       1.409\n",
      "Strongly Disagree/Disagree     3.6394      1.293      2.815      0.005       1.106       6.173\n",
      "Disagree/Neutral               0.1936      0.229      0.847      0.397      -0.255       0.642\n",
      "Neutral/Agree                  0.0772      0.198      0.389      0.697      -0.311       0.466\n",
      "Agree/Strongly Agree           1.1517      0.121      9.533      0.000       0.915       1.388\n",
      "==============================================================================================\n"
     ]
    }
   ],
   "source": [
    "ind_vars = ['age', 'drone_experience_code', \n",
    "            'video_game_experience_code', 'total_time_seconds', \n",
    "            'avg_feedback_time_seconds','avg_trial_time_seconds', \n",
    "            'gender_Non-binary', 'gender_Woman', \n",
    "            'condition_code', 'n_safe_landings'] + [f'mode_{q}_code' for q in ['motivation', 'manageable', 'actionable', 'timely', 'reflection']]\n",
    "\n",
    "dep_var = 'feedback_helped'\n",
    "utils.run_ordered_model(dep_var, ind_vars, part_file)"
   ]
  },
  {
   "cell_type": "code",
   "execution_count": 11,
   "metadata": {},
   "outputs": [
    {
     "name": "stdout",
     "output_type": "stream",
     "text": [
      "Optimization terminated successfully.\n",
      "         Current function value: 0.702745\n",
      "         Iterations: 70\n",
      "         Function evaluations: 77\n",
      "         Gradient evaluations: 77\n",
      "                                 OrderedModel Results                                \n",
      "=====================================================================================\n",
      "Dep. Variable:     feedback_helped_collapsed   Log-Likelihood:                -96.276\n",
      "Model:                          OrderedModel   AIC:                             226.6\n",
      "Method:                   Maximum Likelihood   BIC:                             276.2\n",
      "Date:                       Wed, 01 May 2024                                         \n",
      "Time:                               11:22:14                                         \n",
      "No. Observations:                        137                                         \n",
      "Df Residuals:                            120                                         \n",
      "Df Model:                                 15                                         \n",
      "==================================================================================================\n",
      "                                     coef    std err          z      P>|z|      [0.025      0.975]\n",
      "--------------------------------------------------------------------------------------------------\n",
      "age                                0.0245      0.021      1.165      0.244      -0.017       0.066\n",
      "drone_experience_code             -0.4977      0.442     -1.126      0.260      -1.364       0.369\n",
      "video_game_experience_code         0.0283      0.228      0.124      0.901      -0.418       0.474\n",
      "total_time_seconds                -0.0006      0.001     -0.651      0.515      -0.002       0.001\n",
      "avg_feedback_time_seconds          0.0006      0.023      0.027      0.979      -0.045       0.046\n",
      "avg_trial_time_seconds             0.0331      0.025      1.312      0.189      -0.016       0.083\n",
      "gender_Non-binary                  1.2591      1.165      1.081      0.280      -1.025       3.543\n",
      "gender_Woman                       0.1884      0.495      0.381      0.703      -0.781       1.158\n",
      "condition_code                     0.2937      0.265      1.109      0.268      -0.226       0.813\n",
      "n_safe_landings                    0.1208      0.050      2.412      0.016       0.023       0.219\n",
      "mode_motivation_collapsed_code     1.1264      0.454      2.483      0.013       0.237       2.016\n",
      "mode_manageable_collapsed_code     1.1907      0.440      2.703      0.007       0.327       2.054\n",
      "mode_actionable_collapsed_code     0.1562      0.342      0.456      0.648      -0.515       0.827\n",
      "mode_timely_collapsed_code        -1.2547      0.475     -2.640      0.008      -2.186      -0.323\n",
      "mode_reflection_collapsed_code     1.0348      0.431      2.399      0.016       0.189       1.880\n",
      "Disagree/Neutral                   3.9783      1.467      2.711      0.007       1.102       6.854\n",
      "Neutral/Agree                      0.1708      0.200      0.853      0.393      -0.221       0.563\n",
      "==================================================================================================\n"
     ]
    }
   ],
   "source": [
    "ind_vars = ['age', 'drone_experience_code', \n",
    "            'video_game_experience_code', 'total_time_seconds', \n",
    "            'avg_feedback_time_seconds','avg_trial_time_seconds', \n",
    "            'gender_Non-binary', 'gender_Woman', \n",
    "            'condition_code', 'n_safe_landings'] + [f'mode_{q}_code' for q in ['motivation_collapsed', 'manageable_collapsed', 'actionable_collapsed', 'timely_collapsed', 'reflection_collapsed']]\n",
    "\n",
    "dep_var = 'feedback_helped_collapsed'\n",
    "\n",
    "utils.run_ordered_model(dep_var, ind_vars, part_file)"
   ]
  },
  {
   "cell_type": "markdown",
   "metadata": {},
   "source": [
    "### What is associated with overall rating for each dimension?"
   ]
  },
  {
   "cell_type": "code",
   "execution_count": 12,
   "metadata": {},
   "outputs": [
    {
     "name": "stdout",
     "output_type": "stream",
     "text": [
      "Optimization terminated successfully.\n",
      "         Current function value: 1.373718\n",
      "         Iterations: 46\n",
      "         Function evaluations: 51\n",
      "         Gradient evaluations: 51\n",
      "                              OrderedModel Results                              \n",
      "================================================================================\n",
      "Dep. Variable:     mode_motivation_code   Log-Likelihood:                -188.20\n",
      "Model:                     OrderedModel   AIC:                             404.4\n",
      "Method:              Maximum Likelihood   BIC:                             445.3\n",
      "Date:                  Wed, 01 May 2024                                         \n",
      "Time:                          11:24:43                                         \n",
      "No. Observations:                   137                                         \n",
      "Df Residuals:                       123                                         \n",
      "Df Model:                            10                                         \n",
      "==============================================================================================\n",
      "                                 coef    std err          z      P>|z|      [0.025      0.975]\n",
      "----------------------------------------------------------------------------------------------\n",
      "age                            0.0352      0.015      2.283      0.022       0.005       0.065\n",
      "drone_experience_code          0.4324      0.351      1.231      0.218      -0.256       1.121\n",
      "video_game_experience_code     0.0653      0.175      0.373      0.709      -0.278       0.409\n",
      "total_time_seconds            -0.0007      0.001     -0.942      0.346      -0.002       0.001\n",
      "avg_feedback_time_seconds      0.0249      0.017      1.510      0.131      -0.007       0.057\n",
      "avg_trial_time_seconds         0.0128      0.020      0.627      0.531      -0.027       0.053\n",
      "gender_Non-binary              0.3325      0.732      0.454      0.650      -1.103       1.768\n",
      "gender_Woman                   0.4392      0.389      1.130      0.258      -0.322       1.201\n",
      "condition_code                -0.0134      0.202     -0.067      0.947      -0.409       0.382\n",
      "n_safe_landings               -0.0290      0.036     -0.807      0.420      -0.100       0.042\n",
      "0/1                           -1.1976      1.049     -1.142      0.253      -3.253       0.858\n",
      "1/2                           -0.0081      0.283     -0.028      0.977      -0.563       0.547\n",
      "2/3                            0.3102      0.159      1.948      0.051      -0.002       0.622\n",
      "3/4                            0.6320      0.122      5.193      0.000       0.393       0.871\n",
      "==============================================================================================\n"
     ]
    }
   ],
   "source": [
    "ind_vars = ['age', 'drone_experience_code', \n",
    "            'video_game_experience_code', 'total_time_seconds', \n",
    "            'avg_feedback_time_seconds','avg_trial_time_seconds', \n",
    "            'gender_Non-binary', 'gender_Woman', \n",
    "            'condition_code', 'n_safe_landings']\n",
    "\n",
    "dep_var = 'mode_motivation_code'\n",
    "\n",
    "utils.run_ordered_model(dep_var, ind_vars, part_file)"
   ]
  },
  {
   "cell_type": "code",
   "execution_count": 13,
   "metadata": {},
   "outputs": [
    {
     "name": "stdout",
     "output_type": "stream",
     "text": [
      "Optimization terminated successfully.\n",
      "         Current function value: 0.914227\n",
      "         Iterations: 45\n",
      "         Function evaluations: 50\n",
      "         Gradient evaluations: 50\n",
      "                                   OrderedModel Results                                   \n",
      "==========================================================================================\n",
      "Dep. Variable:     mode_motivation_collapsed_code   Log-Likelihood:                -125.25\n",
      "Model:                               OrderedModel   AIC:                             274.5\n",
      "Method:                        Maximum Likelihood   BIC:                             309.5\n",
      "Date:                            Wed, 01 May 2024                                         \n",
      "Time:                                    11:25:26                                         \n",
      "No. Observations:                             137                                         \n",
      "Df Residuals:                                 125                                         \n",
      "Df Model:                                      10                                         \n",
      "==============================================================================================\n",
      "                                 coef    std err          z      P>|z|      [0.025      0.975]\n",
      "----------------------------------------------------------------------------------------------\n",
      "age                            0.0185      0.017      1.108      0.268      -0.014       0.051\n",
      "drone_experience_code          0.1904      0.371      0.513      0.608      -0.536       0.917\n",
      "video_game_experience_code    -0.0564      0.189     -0.298      0.766      -0.427       0.315\n",
      "total_time_seconds            -0.0006      0.001     -0.771      0.441      -0.002       0.001\n",
      "avg_feedback_time_seconds      0.0308      0.021      1.438      0.150      -0.011       0.073\n",
      "avg_trial_time_seconds         0.0134      0.021      0.644      0.520      -0.027       0.054\n",
      "gender_Non-binary              0.4834      0.835      0.579      0.563      -1.154       2.120\n",
      "gender_Woman                   0.3591      0.408      0.880      0.379      -0.441       1.159\n",
      "condition_code                 0.0860      0.221      0.390      0.697      -0.347       0.519\n",
      "n_safe_landings               -0.0137      0.040     -0.342      0.732      -0.092       0.065\n",
      "0/1                           -0.4093      1.075     -0.381      0.703      -2.516       1.698\n",
      "1/2                            0.2309      0.164      1.411      0.158      -0.090       0.552\n",
      "==============================================================================================\n"
     ]
    }
   ],
   "source": [
    "ind_vars = ['age', 'drone_experience_code', \n",
    "            'video_game_experience_code', 'total_time_seconds', \n",
    "            'avg_feedback_time_seconds','avg_trial_time_seconds', \n",
    "            'gender_Non-binary', 'gender_Woman', \n",
    "            'condition_code', 'n_safe_landings']\n",
    "\n",
    "dep_var = 'mode_motivation_collapsed_code'\n",
    "\n",
    "utils.run_ordered_model(dep_var, ind_vars, part_file)"
   ]
  },
  {
   "cell_type": "code",
   "execution_count": 14,
   "metadata": {},
   "outputs": [
    {
     "name": "stdout",
     "output_type": "stream",
     "text": [
      "Optimization terminated successfully.\n",
      "         Current function value: 1.155081\n",
      "         Iterations: 48\n",
      "         Function evaluations: 54\n",
      "         Gradient evaluations: 54\n",
      "                              OrderedModel Results                              \n",
      "================================================================================\n",
      "Dep. Variable:     mode_manageable_code   Log-Likelihood:                -158.25\n",
      "Model:                     OrderedModel   AIC:                             344.5\n",
      "Method:              Maximum Likelihood   BIC:                             385.4\n",
      "Date:                  Wed, 01 May 2024                                         \n",
      "Time:                          11:25:46                                         \n",
      "No. Observations:                   137                                         \n",
      "Df Residuals:                       123                                         \n",
      "Df Model:                            10                                         \n",
      "==============================================================================================\n",
      "                                 coef    std err          z      P>|z|      [0.025      0.975]\n",
      "----------------------------------------------------------------------------------------------\n",
      "age                           -0.0182      0.017     -1.087      0.277      -0.051       0.015\n",
      "drone_experience_code         -0.7272      0.367     -1.982      0.047      -1.446      -0.008\n",
      "video_game_experience_code     0.0458      0.189      0.242      0.809      -0.325       0.417\n",
      "total_time_seconds             0.0010      0.001      1.415      0.157      -0.000       0.002\n",
      "avg_feedback_time_seconds     -0.0081      0.017     -0.486      0.627      -0.041       0.024\n",
      "avg_trial_time_seconds        -0.0289      0.020     -1.427      0.154      -0.069       0.011\n",
      "gender_Non-binary             -1.0953      0.787     -1.392      0.164      -2.637       0.446\n",
      "gender_Woman                  -0.2661      0.420     -0.633      0.527      -1.090       0.558\n",
      "condition_code                -0.0172      0.212     -0.081      0.935      -0.433       0.399\n",
      "n_safe_landings                0.0101      0.039      0.257      0.797      -0.067       0.087\n",
      "0/1                           -3.3172      1.192     -2.783      0.005      -5.653      -0.981\n",
      "1/2                            0.2941      0.251      1.170      0.242      -0.198       0.787\n",
      "2/3                            1.0926      0.097     11.299      0.000       0.903       1.282\n",
      "3/4                            0.0981      0.228      0.430      0.667      -0.349       0.545\n",
      "==============================================================================================\n"
     ]
    }
   ],
   "source": [
    "ind_vars = ['age', 'drone_experience_code', \n",
    "            'video_game_experience_code', 'total_time_seconds', \n",
    "            'avg_feedback_time_seconds','avg_trial_time_seconds', \n",
    "            'gender_Non-binary', 'gender_Woman', \n",
    "            'condition_code', 'n_safe_landings']\n",
    "\n",
    "dep_var = 'mode_manageable_code'\n",
    "\n",
    "utils.run_ordered_model(dep_var, ind_vars, part_file)"
   ]
  },
  {
   "cell_type": "code",
   "execution_count": 15,
   "metadata": {},
   "outputs": [
    {
     "name": "stdout",
     "output_type": "stream",
     "text": [
      "Optimization terminated successfully.\n",
      "         Current function value: 0.939331\n",
      "         Iterations: 41\n",
      "         Function evaluations: 47\n",
      "         Gradient evaluations: 47\n",
      "                                   OrderedModel Results                                   \n",
      "==========================================================================================\n",
      "Dep. Variable:     mode_manageable_collapsed_code   Log-Likelihood:                -128.69\n",
      "Model:                               OrderedModel   AIC:                             281.4\n",
      "Method:                        Maximum Likelihood   BIC:                             316.4\n",
      "Date:                            Wed, 01 May 2024                                         \n",
      "Time:                                    11:26:32                                         \n",
      "No. Observations:                             137                                         \n",
      "Df Residuals:                                 125                                         \n",
      "Df Model:                                      10                                         \n",
      "==============================================================================================\n",
      "                                 coef    std err          z      P>|z|      [0.025      0.975]\n",
      "----------------------------------------------------------------------------------------------\n",
      "age                           -0.0172      0.017     -1.033      0.301      -0.050       0.015\n",
      "drone_experience_code         -0.5544      0.363     -1.527      0.127      -1.266       0.157\n",
      "video_game_experience_code     0.1458      0.187      0.778      0.437      -0.222       0.513\n",
      "total_time_seconds             0.0009      0.001      1.335      0.182      -0.000       0.002\n",
      "avg_feedback_time_seconds     -0.0317      0.017     -1.858      0.063      -0.065       0.002\n",
      "avg_trial_time_seconds        -0.0135      0.020     -0.672      0.502      -0.053       0.026\n",
      "gender_Non-binary             -0.9592      0.807     -1.189      0.235      -2.541       0.622\n",
      "gender_Woman                  -0.0810      0.413     -0.196      0.844      -0.890       0.728\n",
      "condition_code                 0.0034      0.210      0.016      0.987      -0.409       0.416\n",
      "n_safe_landings                0.0180      0.039      0.463      0.643      -0.058       0.094\n",
      "0/1                           -1.8977      1.144     -1.659      0.097      -4.140       0.344\n",
      "1/2                            1.0186      0.100     10.216      0.000       0.823       1.214\n",
      "==============================================================================================\n"
     ]
    }
   ],
   "source": [
    "ind_vars = ['age', 'drone_experience_code', \n",
    "            'video_game_experience_code', 'total_time_seconds', \n",
    "            'avg_feedback_time_seconds','avg_trial_time_seconds', \n",
    "            'gender_Non-binary', 'gender_Woman', \n",
    "            'condition_code', 'n_safe_landings']\n",
    "\n",
    "dep_var = 'mode_manageable_collapsed_code'\n",
    "\n",
    "utils.run_ordered_model(dep_var, ind_vars, part_file)"
   ]
  },
  {
   "cell_type": "code",
   "execution_count": 16,
   "metadata": {},
   "outputs": [
    {
     "name": "stdout",
     "output_type": "stream",
     "text": [
      "Optimization terminated successfully.\n",
      "         Current function value: 0.926873\n",
      "         Iterations: 50\n",
      "         Function evaluations: 57\n",
      "         Gradient evaluations: 57\n",
      "                             OrderedModel Results                             \n",
      "==============================================================================\n",
      "Dep. Variable:       mode_timely_code   Log-Likelihood:                -126.98\n",
      "Model:                   OrderedModel   AIC:                             282.0\n",
      "Method:            Maximum Likelihood   BIC:                             322.8\n",
      "Date:                Wed, 01 May 2024                                         \n",
      "Time:                        11:27:40                                         \n",
      "No. Observations:                 137                                         \n",
      "Df Residuals:                     123                                         \n",
      "Df Model:                          10                                         \n",
      "==============================================================================================\n",
      "                                 coef    std err          z      P>|z|      [0.025      0.975]\n",
      "----------------------------------------------------------------------------------------------\n",
      "age                           -0.0027      0.018     -0.155      0.877      -0.037       0.032\n",
      "drone_experience_code         -0.1151      0.414     -0.278      0.781      -0.926       0.696\n",
      "video_game_experience_code     0.3374      0.201      1.681      0.093      -0.056       0.731\n",
      "total_time_seconds             0.0005      0.001      0.758      0.449      -0.001       0.002\n",
      "avg_feedback_time_seconds     -0.0263      0.017     -1.561      0.119      -0.059       0.007\n",
      "avg_trial_time_seconds        -0.0143      0.022     -0.659      0.510      -0.057       0.028\n",
      "gender_Non-binary             -0.5386      0.860     -0.626      0.531      -2.224       1.147\n",
      "gender_Woman                   0.3268      0.436      0.750      0.453      -0.527       1.181\n",
      "condition_code                 0.1388      0.230      0.603      0.547      -0.313       0.590\n",
      "n_safe_landings                0.0949      0.041      2.312      0.021       0.014       0.175\n",
      "0/1                           -3.4221      1.370     -2.499      0.012      -6.107      -0.738\n",
      "1/2                           -0.0097      0.586     -0.017      0.987      -1.158       1.138\n",
      "2/3                            1.5055      0.116     12.945      0.000       1.278       1.733\n",
      "3/4                            0.0619      0.202      0.307      0.759      -0.333       0.457\n",
      "==============================================================================================\n"
     ]
    }
   ],
   "source": [
    "ind_vars = ['age', 'drone_experience_code', \n",
    "            'video_game_experience_code', 'total_time_seconds', \n",
    "            'avg_feedback_time_seconds','avg_trial_time_seconds', \n",
    "            'gender_Non-binary', 'gender_Woman', \n",
    "            'condition_code', 'n_safe_landings']\n",
    "\n",
    "dep_var = 'mode_timely_code'\n",
    "\n",
    "utils.run_ordered_model(dep_var, ind_vars, part_file)"
   ]
  },
  {
   "cell_type": "code",
   "execution_count": 17,
   "metadata": {},
   "outputs": [
    {
     "name": "stdout",
     "output_type": "stream",
     "text": [
      "Optimization terminated successfully.\n",
      "         Current function value: 0.718819\n",
      "         Iterations: 43\n",
      "         Function evaluations: 48\n",
      "         Gradient evaluations: 48\n",
      "                                 OrderedModel Results                                 \n",
      "======================================================================================\n",
      "Dep. Variable:     mode_timely_collapsed_code   Log-Likelihood:                -98.478\n",
      "Model:                           OrderedModel   AIC:                             221.0\n",
      "Method:                    Maximum Likelihood   BIC:                             256.0\n",
      "Date:                        Wed, 01 May 2024                                         \n",
      "Time:                                11:28:41                                         \n",
      "No. Observations:                         137                                         \n",
      "Df Residuals:                             125                                         \n",
      "Df Model:                                  10                                         \n",
      "==============================================================================================\n",
      "                                 coef    std err          z      P>|z|      [0.025      0.975]\n",
      "----------------------------------------------------------------------------------------------\n",
      "age                         9.074e-05      0.018      0.005      0.996      -0.035       0.035\n",
      "drone_experience_code         -0.2154      0.423     -0.509      0.611      -1.044       0.614\n",
      "video_game_experience_code     0.2770      0.205      1.354      0.176      -0.124       0.678\n",
      "total_time_seconds             0.0007      0.001      0.923      0.356      -0.001       0.002\n",
      "avg_feedback_time_seconds     -0.0327      0.018     -1.803      0.071      -0.068       0.003\n",
      "avg_trial_time_seconds        -0.0226      0.023     -0.995      0.320      -0.067       0.022\n",
      "gender_Non-binary             -0.5238      0.866     -0.605      0.545      -2.222       1.174\n",
      "gender_Woman                   0.3522      0.442      0.797      0.426      -0.514       1.218\n",
      "condition_code                 0.2188      0.233      0.940      0.347      -0.237       0.675\n",
      "n_safe_landings                0.0959      0.043      2.243      0.025       0.012       0.180\n",
      "0/1                           -2.3240      1.251     -1.858      0.063      -4.776       0.128\n",
      "1/2                            1.4541      0.113     12.870      0.000       1.233       1.676\n",
      "==============================================================================================\n"
     ]
    }
   ],
   "source": [
    "ind_vars = ['age', 'drone_experience_code', \n",
    "            'video_game_experience_code', 'total_time_seconds', \n",
    "            'avg_feedback_time_seconds','avg_trial_time_seconds', \n",
    "            'gender_Non-binary', 'gender_Woman', \n",
    "            'condition_code', 'n_safe_landings']\n",
    "\n",
    "dep_var = 'mode_timely_collapsed_code'\n",
    "\n",
    "utils.run_ordered_model(dep_var, ind_vars, part_file)"
   ]
  },
  {
   "cell_type": "code",
   "execution_count": 18,
   "metadata": {},
   "outputs": [
    {
     "name": "stdout",
     "output_type": "stream",
     "text": [
      "Optimization terminated successfully.\n",
      "         Current function value: 1.298906\n",
      "         Iterations: 46\n",
      "         Function evaluations: 53\n",
      "         Gradient evaluations: 53\n",
      "                              OrderedModel Results                              \n",
      "================================================================================\n",
      "Dep. Variable:     mode_reflection_code   Log-Likelihood:                -177.95\n",
      "Model:                     OrderedModel   AIC:                             383.9\n",
      "Method:              Maximum Likelihood   BIC:                             424.8\n",
      "Date:                  Wed, 01 May 2024                                         \n",
      "Time:                          11:29:20                                         \n",
      "No. Observations:                   137                                         \n",
      "Df Residuals:                       123                                         \n",
      "Df Model:                            10                                         \n",
      "==============================================================================================\n",
      "                                 coef    std err          z      P>|z|      [0.025      0.975]\n",
      "----------------------------------------------------------------------------------------------\n",
      "age                            0.0619      0.016      3.868      0.000       0.031       0.093\n",
      "drone_experience_code          0.2879      0.331      0.870      0.384      -0.361       0.936\n",
      "video_game_experience_code    -0.0281      0.180     -0.156      0.876      -0.381       0.325\n",
      "total_time_seconds            -0.0006      0.001     -0.816      0.415      -0.002       0.001\n",
      "avg_feedback_time_seconds     -0.0003      0.017     -0.020      0.984      -0.033       0.033\n",
      "avg_trial_time_seconds         0.0165      0.021      0.782      0.434      -0.025       0.058\n",
      "gender_Non-binary              0.0039      0.734      0.005      0.996      -1.435       1.443\n",
      "gender_Woman                   0.4070      0.391      1.041      0.298      -0.360       1.174\n",
      "condition_code                -0.1632      0.203     -0.803      0.422      -0.562       0.235\n",
      "n_safe_landings               -0.0018      0.036     -0.049      0.961      -0.072       0.068\n",
      "0/1                           -1.0843      1.055     -1.028      0.304      -3.152       0.984\n",
      "1/2                           -0.0896      0.310     -0.289      0.772      -0.697       0.518\n",
      "2/3                            0.2624      0.177      1.484      0.138      -0.084       0.609\n",
      "3/4                            0.7614      0.117      6.520      0.000       0.532       0.990\n",
      "==============================================================================================\n"
     ]
    }
   ],
   "source": [
    "ind_vars = ['age', 'drone_experience_code', \n",
    "            'video_game_experience_code', 'total_time_seconds', \n",
    "            'avg_feedback_time_seconds','avg_trial_time_seconds', \n",
    "            'gender_Non-binary', 'gender_Woman', \n",
    "            'condition_code', 'n_safe_landings']\n",
    "\n",
    "dep_var = 'mode_reflection_code'\n",
    "\n",
    "utils.run_ordered_model(dep_var, ind_vars, part_file)"
   ]
  },
  {
   "cell_type": "code",
   "execution_count": 19,
   "metadata": {},
   "outputs": [
    {
     "name": "stdout",
     "output_type": "stream",
     "text": [
      "Optimization terminated successfully.\n",
      "         Current function value: 0.798554\n",
      "         Iterations: 45\n",
      "         Function evaluations: 53\n",
      "         Gradient evaluations: 53\n",
      "                                   OrderedModel Results                                   \n",
      "==========================================================================================\n",
      "Dep. Variable:     mode_reflection_collapsed_code   Log-Likelihood:                -109.40\n",
      "Model:                               OrderedModel   AIC:                             242.8\n",
      "Method:                        Maximum Likelihood   BIC:                             277.8\n",
      "Date:                            Wed, 01 May 2024                                         \n",
      "Time:                                    11:29:53                                         \n",
      "No. Observations:                             137                                         \n",
      "Df Residuals:                                 125                                         \n",
      "Df Model:                                      10                                         \n",
      "==============================================================================================\n",
      "                                 coef    std err          z      P>|z|      [0.025      0.975]\n",
      "----------------------------------------------------------------------------------------------\n",
      "age                            0.0671      0.020      3.294      0.001       0.027       0.107\n",
      "drone_experience_code          0.7430      0.479      1.550      0.121      -0.196       1.682\n",
      "video_game_experience_code    -0.1126      0.209     -0.539      0.590      -0.521       0.296\n",
      "total_time_seconds            -0.0011      0.001     -1.425      0.154      -0.003       0.000\n",
      "avg_feedback_time_seconds      0.0192      0.018      1.076      0.282      -0.016       0.054\n",
      "avg_trial_time_seconds         0.0253      0.021      1.179      0.239      -0.017       0.067\n",
      "gender_Non-binary              0.0666      0.795      0.084      0.933      -1.492       1.625\n",
      "gender_Woman                   0.4424      0.446      0.993      0.321      -0.431       1.316\n",
      "condition_code                -0.0614      0.237     -0.259      0.795      -0.526       0.403\n",
      "n_safe_landings                0.0161      0.042      0.383      0.702      -0.066       0.098\n",
      "0/1                            0.4080      1.155      0.353      0.724      -1.856       2.672\n",
      "1/2                            0.1359      0.187      0.726      0.468      -0.231       0.503\n",
      "==============================================================================================\n"
     ]
    }
   ],
   "source": [
    "ind_vars = ['age', 'drone_experience_code', \n",
    "            'video_game_experience_code', 'total_time_seconds', \n",
    "            'avg_feedback_time_seconds','avg_trial_time_seconds', \n",
    "            'gender_Non-binary', 'gender_Woman', \n",
    "            'condition_code', 'n_safe_landings']\n",
    "\n",
    "dep_var = 'mode_reflection_collapsed_code'\n",
    "\n",
    "utils.run_ordered_model(dep_var, ind_vars, part_file)"
   ]
  },
  {
   "cell_type": "code",
   "execution_count": 20,
   "metadata": {},
   "outputs": [
    {
     "name": "stdout",
     "output_type": "stream",
     "text": [
      "Optimization terminated successfully.\n",
      "         Current function value: 1.437505\n",
      "         Iterations: 44\n",
      "         Function evaluations: 52\n",
      "         Gradient evaluations: 52\n",
      "                              OrderedModel Results                              \n",
      "================================================================================\n",
      "Dep. Variable:     mode_actionable_code   Log-Likelihood:                -196.94\n",
      "Model:                     OrderedModel   AIC:                             421.9\n",
      "Method:              Maximum Likelihood   BIC:                             462.8\n",
      "Date:                  Wed, 01 May 2024                                         \n",
      "Time:                          11:30:26                                         \n",
      "No. Observations:                   137                                         \n",
      "Df Residuals:                       123                                         \n",
      "Df Model:                            10                                         \n",
      "==============================================================================================\n",
      "                                 coef    std err          z      P>|z|      [0.025      0.975]\n",
      "----------------------------------------------------------------------------------------------\n",
      "age                            0.0220      0.016      1.413      0.158      -0.009       0.053\n",
      "drone_experience_code          0.3273      0.337      0.970      0.332      -0.334       0.989\n",
      "video_game_experience_code     0.3641      0.180      2.021      0.043       0.011       0.717\n",
      "total_time_seconds          2.431e-05      0.001      0.037      0.970      -0.001       0.001\n",
      "avg_feedback_time_seconds     -0.0160      0.016     -1.009      0.313      -0.047       0.015\n",
      "avg_trial_time_seconds         0.0199      0.019      1.045      0.296      -0.017       0.057\n",
      "gender_Non-binary             -0.1762      0.692     -0.255      0.799      -1.532       1.179\n",
      "gender_Woman                   0.2329      0.391      0.596      0.551      -0.533       0.999\n",
      "condition_code                 0.0080      0.193      0.042      0.967      -0.371       0.387\n",
      "n_safe_landings               -0.0204      0.036     -0.568      0.570      -0.091       0.050\n",
      "0/1                           -0.9781      1.047     -0.935      0.350      -3.029       1.073\n",
      "1/2                            0.2252      0.219      1.027      0.305      -0.205       0.655\n",
      "2/3                            0.0735      0.166      0.444      0.657      -0.251       0.398\n",
      "3/4                            0.6863      0.123      5.582      0.000       0.445       0.927\n",
      "==============================================================================================\n"
     ]
    }
   ],
   "source": [
    "ind_vars = ['age', 'drone_experience_code', \n",
    "            'video_game_experience_code', 'total_time_seconds', \n",
    "            'avg_feedback_time_seconds','avg_trial_time_seconds', \n",
    "            'gender_Non-binary', 'gender_Woman', \n",
    "            'condition_code', 'n_safe_landings']\n",
    "\n",
    "dep_var = 'mode_actionable_code'\n",
    "\n",
    "utils.run_ordered_model(dep_var, ind_vars, part_file)"
   ]
  },
  {
   "cell_type": "code",
   "execution_count": 21,
   "metadata": {},
   "outputs": [
    {
     "name": "stdout",
     "output_type": "stream",
     "text": [
      "Optimization terminated successfully.\n",
      "         Current function value: 0.973049\n",
      "         Iterations: 41\n",
      "         Function evaluations: 47\n",
      "         Gradient evaluations: 47\n",
      "                                   OrderedModel Results                                   \n",
      "==========================================================================================\n",
      "Dep. Variable:     mode_actionable_collapsed_code   Log-Likelihood:                -133.31\n",
      "Model:                               OrderedModel   AIC:                             290.6\n",
      "Method:                        Maximum Likelihood   BIC:                             325.7\n",
      "Date:                            Wed, 01 May 2024                                         \n",
      "Time:                                    11:31:15                                         \n",
      "No. Observations:                             137                                         \n",
      "Df Residuals:                                 125                                         \n",
      "Df Model:                                      10                                         \n",
      "==============================================================================================\n",
      "                                 coef    std err          z      P>|z|      [0.025      0.975]\n",
      "----------------------------------------------------------------------------------------------\n",
      "age                            0.0111      0.017      0.661      0.509      -0.022       0.044\n",
      "drone_experience_code          0.3257      0.381      0.856      0.392      -0.420       1.072\n",
      "video_game_experience_code     0.2394      0.185      1.292      0.196      -0.124       0.603\n",
      "total_time_seconds            -0.0002      0.001     -0.230      0.818      -0.002       0.001\n",
      "avg_feedback_time_seconds     -0.0085      0.017     -0.500      0.617      -0.042       0.025\n",
      "avg_trial_time_seconds         0.0264      0.020      1.292      0.196      -0.014       0.067\n",
      "gender_Non-binary             -0.6866      0.740     -0.927      0.354      -2.138       0.764\n",
      "gender_Woman                  -0.0335      0.409     -0.082      0.935      -0.835       0.768\n",
      "condition_code                -0.0330      0.213     -0.155      0.877      -0.451       0.384\n",
      "n_safe_landings               -0.0356      0.038     -0.927      0.354      -0.111       0.040\n",
      "0/1                           -0.5147      1.083     -0.475      0.635      -2.638       1.608\n",
      "1/2                            0.0468      0.168      0.278      0.781      -0.283       0.377\n",
      "==============================================================================================\n"
     ]
    }
   ],
   "source": [
    "ind_vars = ['age', 'drone_experience_code', \n",
    "            'video_game_experience_code', 'total_time_seconds', \n",
    "            'avg_feedback_time_seconds','avg_trial_time_seconds', \n",
    "            'gender_Non-binary', 'gender_Woman', \n",
    "            'condition_code', 'n_safe_landings']\n",
    "\n",
    "dep_var = 'mode_actionable_collapsed_code'\n",
    "\n",
    "utils.run_ordered_model(dep_var, ind_vars, part_file)"
   ]
  },
  {
   "cell_type": "markdown",
   "metadata": {},
   "source": [
    "### What is associated with trial rating for each dimension?"
   ]
  },
  {
   "cell_type": "code",
   "execution_count": 22,
   "metadata": {},
   "outputs": [
    {
     "name": "stdout",
     "output_type": "stream",
     "text": [
      "Optimization terminated successfully.\n",
      "         Current function value: 1.462092\n",
      "         Iterations: 27\n",
      "         Function evaluations: 30\n",
      "         Gradient evaluations: 30\n",
      "                             OrderedModel Results                             \n",
      "==============================================================================\n",
      "Dep. Variable:             motivation   Log-Likelihood:                -4006.1\n",
      "Model:                   OrderedModel   AIC:                             8030.\n",
      "Method:            Maximum Likelihood   BIC:                             8084.\n",
      "Date:                Wed, 01 May 2024                                         \n",
      "Time:                        11:32:29                                         \n",
      "No. Observations:                2740                                         \n",
      "Df Residuals:                    2731                                         \n",
      "Df Model:                           5                                         \n",
      "==============================================================================================\n",
      "                                 coef    std err          z      P>|z|      [0.025      0.975]\n",
      "----------------------------------------------------------------------------------------------\n",
      "trial_time_seconds             0.0019      0.001      1.820      0.069      -0.000       0.004\n",
      "feedback_time_seconds          0.0016      0.001      2.273      0.023       0.000       0.003\n",
      "trial                         -0.0354      0.006     -5.628      0.000      -0.048      -0.023\n",
      "outcome_code                  -0.0167      0.047     -0.353      0.724      -0.109       0.076\n",
      "condition_code                 0.0976      0.042      2.322      0.020       0.015       0.180\n",
      "Strongly Disagree/Disagree    -2.7442      0.121    -22.756      0.000      -2.981      -2.508\n",
      "Disagree/Neutral              -0.0276      0.060     -0.463      0.643      -0.144       0.089\n",
      "Neutral/Agree                  0.3261      0.033      9.805      0.000       0.261       0.391\n",
      "Agree/Strongly Agree           0.4306      0.029     14.619      0.000       0.373       0.488\n",
      "==============================================================================================\n"
     ]
    }
   ],
   "source": [
    "ind_vars = ['trial_time_seconds', 'feedback_time_seconds', 'trial', 'outcome_code', 'condition_code']\n",
    "\n",
    "dep_var = 'motivation'\n",
    "\n",
    "utils.run_ordered_model(dep_var, ind_vars, trial_file)"
   ]
  },
  {
   "cell_type": "code",
   "execution_count": 23,
   "metadata": {},
   "outputs": [
    {
     "name": "stdout",
     "output_type": "stream",
     "text": [
      "Optimization terminated successfully.\n",
      "         Current function value: 0.974755\n",
      "         Iterations: 22\n",
      "         Function evaluations: 25\n",
      "         Gradient evaluations: 25\n",
      "                              OrderedModel Results                              \n",
      "================================================================================\n",
      "Dep. Variable:     motivation_collapsed   Log-Likelihood:                -2670.8\n",
      "Model:                     OrderedModel   AIC:                             5356.\n",
      "Method:              Maximum Likelihood   BIC:                             5397.\n",
      "Date:                  Wed, 01 May 2024                                         \n",
      "Time:                          11:34:03                                         \n",
      "No. Observations:                  2740                                         \n",
      "Df Residuals:                      2733                                         \n",
      "Df Model:                             5                                         \n",
      "=========================================================================================\n",
      "                            coef    std err          z      P>|z|      [0.025      0.975]\n",
      "-----------------------------------------------------------------------------------------\n",
      "trial_time_seconds        0.0041      0.002      2.699      0.007       0.001       0.007\n",
      "feedback_time_seconds     0.0029      0.001      2.489      0.013       0.001       0.005\n",
      "trial                    -0.0438      0.007     -6.425      0.000      -0.057      -0.030\n",
      "outcome_code              0.0570      0.051      1.125      0.260      -0.042       0.156\n",
      "condition_code            0.0519      0.046      1.133      0.257      -0.038       0.142\n",
      "Disagree/Neutral         -1.7280      0.121    -14.276      0.000      -1.965      -1.491\n",
      "Neutral/Agree             0.3308      0.033      9.949      0.000       0.266       0.396\n",
      "=========================================================================================\n"
     ]
    }
   ],
   "source": [
    "ind_vars = ['trial_time_seconds', 'feedback_time_seconds', 'trial', 'outcome_code', 'condition_code']\n",
    "\n",
    "dep_var = 'motivation_collapsed'\n",
    "\n",
    "utils.run_ordered_model(dep_var, ind_vars, trial_file)"
   ]
  },
  {
   "cell_type": "code",
   "execution_count": 24,
   "metadata": {},
   "outputs": [
    {
     "name": "stdout",
     "output_type": "stream",
     "text": [
      "Optimization terminated successfully.\n",
      "         Current function value: 1.274264\n",
      "         Iterations: 25\n",
      "         Function evaluations: 30\n",
      "         Gradient evaluations: 30\n",
      "                             OrderedModel Results                             \n",
      "==============================================================================\n",
      "Dep. Variable:             manageable   Log-Likelihood:                -3491.5\n",
      "Model:                   OrderedModel   AIC:                             7001.\n",
      "Method:            Maximum Likelihood   BIC:                             7054.\n",
      "Date:                Wed, 01 May 2024                                         \n",
      "Time:                        11:35:31                                         \n",
      "No. Observations:                2740                                         \n",
      "Df Residuals:                    2731                                         \n",
      "Df Model:                           5                                         \n",
      "==============================================================================================\n",
      "                                 coef    std err          z      P>|z|      [0.025      0.975]\n",
      "----------------------------------------------------------------------------------------------\n",
      "trial_time_seconds             0.0001      0.001      0.113      0.910      -0.002       0.002\n",
      "feedback_time_seconds         -0.0003      0.000     -0.952      0.341      -0.001       0.000\n",
      "trial                         -0.0002      0.007     -0.036      0.971      -0.013       0.013\n",
      "outcome_code                   0.1181      0.050      2.354      0.019       0.020       0.216\n",
      "condition_code                -0.0384      0.044     -0.870      0.384      -0.125       0.048\n",
      "Much too little/Too little    -2.9971      0.133    -22.473      0.000      -3.258      -2.736\n",
      "Too little/Just right          0.4266      0.054      7.874      0.000       0.320       0.533\n",
      "Just right/Too much            0.9190      0.022     41.142      0.000       0.875       0.963\n",
      "Too much/Much too much         0.1510      0.044      3.398      0.001       0.064       0.238\n",
      "==============================================================================================\n"
     ]
    }
   ],
   "source": [
    "ind_vars = ['trial_time_seconds', 'feedback_time_seconds', 'trial', 'outcome_code', 'condition_code']\n",
    "\n",
    "dep_var = 'manageable'\n",
    "\n",
    "utils.run_ordered_model(dep_var, ind_vars, trial_file)"
   ]
  },
  {
   "cell_type": "code",
   "execution_count": 25,
   "metadata": {},
   "outputs": [
    {
     "name": "stdout",
     "output_type": "stream",
     "text": [
      "Optimization terminated successfully.\n",
      "         Current function value: 0.990022\n",
      "         Iterations: 18\n",
      "         Function evaluations: 22\n",
      "         Gradient evaluations: 22\n",
      "                              OrderedModel Results                              \n",
      "================================================================================\n",
      "Dep. Variable:     manageable_collapsed   Log-Likelihood:                -2712.7\n",
      "Model:                     OrderedModel   AIC:                             5439.\n",
      "Method:              Maximum Likelihood   BIC:                             5481.\n",
      "Date:                  Wed, 01 May 2024                                         \n",
      "Time:                          11:37:51                                         \n",
      "No. Observations:                  2740                                         \n",
      "Df Residuals:                      2733                                         \n",
      "Df Model:                             5                                         \n",
      "=========================================================================================\n",
      "                            coef    std err          z      P>|z|      [0.025      0.975]\n",
      "-----------------------------------------------------------------------------------------\n",
      "trial_time_seconds        0.0005      0.001      0.436      0.663      -0.002       0.003\n",
      "feedback_time_seconds    -0.0005      0.000     -1.150      0.250      -0.001       0.000\n",
      "trial                    -0.0005      0.007     -0.076      0.939      -0.014       0.013\n",
      "outcome_code              0.0945      0.051      1.865      0.062      -0.005       0.194\n",
      "condition_code           -0.0264      0.045     -0.592      0.554      -0.114       0.061\n",
      "Too little/Just right    -1.4773      0.111    -13.368      0.000      -1.694      -1.261\n",
      "Just right/Too much       0.9191      0.022     41.150      0.000       0.875       0.963\n",
      "=========================================================================================\n"
     ]
    }
   ],
   "source": [
    "ind_vars = ['trial_time_seconds', 'feedback_time_seconds', 'trial', 'outcome_code', 'condition_code']\n",
    "\n",
    "dep_var = 'manageable_collapsed'\n",
    "\n",
    "utils.run_ordered_model(dep_var, ind_vars, trial_file)"
   ]
  },
  {
   "cell_type": "code",
   "execution_count": 26,
   "metadata": {},
   "outputs": [
    {
     "name": "stdout",
     "output_type": "stream",
     "text": [
      "Optimization terminated successfully.\n",
      "         Current function value: 1.032956\n",
      "         Iterations: 31\n",
      "         Function evaluations: 35\n",
      "         Gradient evaluations: 35\n",
      "                             OrderedModel Results                             \n",
      "==============================================================================\n",
      "Dep. Variable:                 timely   Log-Likelihood:                -2830.3\n",
      "Model:                   OrderedModel   AIC:                             5679.\n",
      "Method:            Maximum Likelihood   BIC:                             5732.\n",
      "Date:                Wed, 01 May 2024                                         \n",
      "Time:                        11:38:33                                         \n",
      "No. Observations:                2740                                         \n",
      "Df Residuals:                    2731                                         \n",
      "Df Model:                           5                                         \n",
      "======================================================================================================\n",
      "                                         coef    std err          z      P>|z|      [0.025      0.975]\n",
      "------------------------------------------------------------------------------------------------------\n",
      "trial_time_seconds                    -0.0004      0.001     -0.318      0.750      -0.003       0.002\n",
      "feedback_time_seconds                  0.0004      0.000      1.358      0.174      -0.000       0.001\n",
      "trial                                  0.0139      0.007      1.953      0.051   -4.84e-05       0.028\n",
      "outcome_code                           0.2948      0.054      5.434      0.000       0.188       0.401\n",
      "condition_code                         0.0908      0.048      1.909      0.056      -0.002       0.184\n",
      "Much too infrequent/Too infrequent    -3.5412      0.180    -19.718      0.000      -3.893      -3.189\n",
      "Too infrequent/Just enough             0.2633      0.099      2.670      0.008       0.070       0.457\n",
      "Just enough/Too often                  1.3095      0.023     55.757      0.000       1.263       1.356\n",
      "Too often/Much too often               0.1206      0.044      2.767      0.006       0.035       0.206\n",
      "======================================================================================================\n"
     ]
    }
   ],
   "source": [
    "ind_vars = ['trial_time_seconds', 'feedback_time_seconds', 'trial', 'outcome_code', 'condition_code']\n",
    "\n",
    "dep_var = 'timely'\n",
    "\n",
    "utils.run_ordered_model(dep_var, ind_vars, trial_file)"
   ]
  },
  {
   "cell_type": "code",
   "execution_count": 27,
   "metadata": {},
   "outputs": [
    {
     "name": "stdout",
     "output_type": "stream",
     "text": [
      "Optimization terminated successfully.\n",
      "         Current function value: 0.799492\n",
      "         Iterations: 24\n",
      "         Function evaluations: 29\n",
      "         Gradient evaluations: 29\n",
      "                             OrderedModel Results                             \n",
      "==============================================================================\n",
      "Dep. Variable:       timely_collapsed   Log-Likelihood:                -2190.6\n",
      "Model:                   OrderedModel   AIC:                             4395.\n",
      "Method:            Maximum Likelihood   BIC:                             4437.\n",
      "Date:                Wed, 01 May 2024                                         \n",
      "Time:                        11:40:13                                         \n",
      "No. Observations:                2740                                         \n",
      "Df Residuals:                    2733                                         \n",
      "Df Model:                           5                                         \n",
      "==============================================================================================\n",
      "                                 coef    std err          z      P>|z|      [0.025      0.975]\n",
      "----------------------------------------------------------------------------------------------\n",
      "trial_time_seconds            -0.0005      0.001     -0.387      0.699      -0.003       0.002\n",
      "feedback_time_seconds          0.0008      0.001      1.415      0.157      -0.000       0.002\n",
      "trial                          0.0108      0.007      1.497      0.134      -0.003       0.025\n",
      "outcome_code                   0.2805      0.055      5.108      0.000       0.173       0.388\n",
      "condition_code                 0.0862      0.048      1.792      0.073      -0.008       0.180\n",
      "Too infrequent/Just enough    -2.2781      0.131    -17.358      0.000      -2.535      -2.021\n",
      "Just enough/Too often          1.3087      0.023     55.731      0.000       1.263       1.355\n",
      "==============================================================================================\n"
     ]
    }
   ],
   "source": [
    "ind_vars = ['trial_time_seconds', 'feedback_time_seconds', 'trial', 'outcome_code', 'condition_code']\n",
    "\n",
    "dep_var = 'timely_collapsed'\n",
    "\n",
    "utils.run_ordered_model(dep_var, ind_vars, trial_file)"
   ]
  },
  {
   "cell_type": "code",
   "execution_count": 28,
   "metadata": {},
   "outputs": [
    {
     "name": "stdout",
     "output_type": "stream",
     "text": [
      "Optimization terminated successfully.\n",
      "         Current function value: 1.455330\n",
      "         Iterations: 27\n",
      "         Function evaluations: 31\n",
      "         Gradient evaluations: 31\n",
      "                             OrderedModel Results                             \n",
      "==============================================================================\n",
      "Dep. Variable:             reflection   Log-Likelihood:                -3987.6\n",
      "Model:                   OrderedModel   AIC:                             7993.\n",
      "Method:            Maximum Likelihood   BIC:                             8046.\n",
      "Date:                Wed, 01 May 2024                                         \n",
      "Time:                        11:41:08                                         \n",
      "No. Observations:                2740                                         \n",
      "Df Residuals:                    2731                                         \n",
      "Df Model:                           5                                         \n",
      "==============================================================================================\n",
      "                                 coef    std err          z      P>|z|      [0.025      0.975]\n",
      "----------------------------------------------------------------------------------------------\n",
      "trial_time_seconds             0.0026      0.001      2.025      0.043    8.27e-05       0.005\n",
      "feedback_time_seconds          0.0003      0.000      0.872      0.383      -0.000       0.001\n",
      "trial                         -0.0244      0.006     -3.894      0.000      -0.037      -0.012\n",
      "outcome_code                  -0.0422      0.047     -0.888      0.374      -0.135       0.051\n",
      "condition_code                 0.0850      0.042      2.034      0.042       0.003       0.167\n",
      "Strongly Disagree/Disagree    -2.7362      0.121    -22.674      0.000      -2.973      -2.500\n",
      "Disagree/Neutral              -0.0079      0.060     -0.131      0.896      -0.126       0.110\n",
      "Neutral/Agree                  0.2007      0.036      5.502      0.000       0.129       0.272\n",
      "Agree/Strongly Agree           0.4731      0.028     16.908      0.000       0.418       0.528\n",
      "==============================================================================================\n"
     ]
    }
   ],
   "source": [
    "ind_vars = ['trial_time_seconds', 'feedback_time_seconds', 'trial', 'outcome_code', 'condition_code']\n",
    "\n",
    "dep_var = 'reflection'\n",
    "\n",
    "utils.run_ordered_model(dep_var, ind_vars, trial_file)"
   ]
  },
  {
   "cell_type": "code",
   "execution_count": 29,
   "metadata": {},
   "outputs": [
    {
     "name": "stdout",
     "output_type": "stream",
     "text": [
      "Optimization terminated successfully.\n",
      "         Current function value: 0.939224\n",
      "         Iterations: 22\n",
      "         Function evaluations: 25\n",
      "         Gradient evaluations: 25\n",
      "                              OrderedModel Results                              \n",
      "================================================================================\n",
      "Dep. Variable:     reflection_collapsed   Log-Likelihood:                -2573.5\n",
      "Model:                     OrderedModel   AIC:                             5161.\n",
      "Method:              Maximum Likelihood   BIC:                             5202.\n",
      "Date:                  Wed, 01 May 2024                                         \n",
      "Time:                          11:42:25                                         \n",
      "No. Observations:                  2740                                         \n",
      "Df Residuals:                      2733                                         \n",
      "Df Model:                             5                                         \n",
      "=========================================================================================\n",
      "                            coef    std err          z      P>|z|      [0.025      0.975]\n",
      "-----------------------------------------------------------------------------------------\n",
      "trial_time_seconds        0.0026      0.001      1.845      0.065      -0.000       0.005\n",
      "feedback_time_seconds     0.0038      0.001      2.889      0.004       0.001       0.006\n",
      "trial                    -0.0348      0.007     -4.987      0.000      -0.048      -0.021\n",
      "outcome_code              0.0659      0.052      1.269      0.204      -0.036       0.168\n",
      "condition_code            0.0724      0.046      1.574      0.116      -0.018       0.163\n",
      "Disagree/Neutral         -1.6428      0.122    -13.422      0.000      -1.883      -1.403\n",
      "Neutral/Agree             0.2066      0.036      5.667      0.000       0.135       0.278\n",
      "=========================================================================================\n"
     ]
    }
   ],
   "source": [
    "ind_vars = ['trial_time_seconds', 'feedback_time_seconds', 'trial', 'outcome_code', 'condition_code']\n",
    "\n",
    "dep_var = 'reflection_collapsed'\n",
    "\n",
    "utils.run_ordered_model(dep_var, ind_vars, trial_file)"
   ]
  },
  {
   "cell_type": "code",
   "execution_count": 30,
   "metadata": {},
   "outputs": [
    {
     "name": "stdout",
     "output_type": "stream",
     "text": [
      "Optimization terminated successfully.\n",
      "         Current function value: 1.498881\n",
      "         Iterations: 25\n",
      "         Function evaluations: 29\n",
      "         Gradient evaluations: 29\n",
      "                             OrderedModel Results                             \n",
      "==============================================================================\n",
      "Dep. Variable:             actionable   Log-Likelihood:                -4106.9\n",
      "Model:                   OrderedModel   AIC:                             8232.\n",
      "Method:            Maximum Likelihood   BIC:                             8285.\n",
      "Date:                Wed, 01 May 2024                                         \n",
      "Time:                        11:44:03                                         \n",
      "No. Observations:                2740                                         \n",
      "Df Residuals:                    2731                                         \n",
      "Df Model:                           5                                         \n",
      "==============================================================================================\n",
      "                                 coef    std err          z      P>|z|      [0.025      0.975]\n",
      "----------------------------------------------------------------------------------------------\n",
      "trial_time_seconds             0.0034      0.001      2.760      0.006       0.001       0.006\n",
      "feedback_time_seconds         -0.0005      0.000     -1.245      0.213      -0.001       0.000\n",
      "trial                         -0.0153      0.006     -2.461      0.014      -0.028      -0.003\n",
      "outcome_code                   0.0264      0.047      0.561      0.575      -0.066       0.119\n",
      "condition_code                 0.0625      0.041      1.513      0.130      -0.018       0.143\n",
      "Strongly Disagree/Disagree    -2.4436      0.117    -20.910      0.000      -2.673      -2.215\n",
      "Disagree/Neutral               0.2318      0.048      4.835      0.000       0.138       0.326\n",
      "Neutral/Agree                  0.1019      0.035      2.882      0.004       0.033       0.171\n",
      "Agree/Strongly Agree           0.5158      0.029     17.756      0.000       0.459       0.573\n",
      "==============================================================================================\n"
     ]
    }
   ],
   "source": [
    "ind_vars = ['trial_time_seconds', 'feedback_time_seconds', 'trial', 'outcome_code', 'condition_code']\n",
    "\n",
    "dep_var = 'actionable'\n",
    "\n",
    "utils.run_ordered_model(dep_var, ind_vars, trial_file)"
   ]
  },
  {
   "cell_type": "code",
   "execution_count": 31,
   "metadata": {},
   "outputs": [
    {
     "name": "stdout",
     "output_type": "stream",
     "text": [
      "Optimization terminated successfully.\n",
      "         Current function value: 1.018012\n",
      "         Iterations: 21\n",
      "         Function evaluations: 26\n",
      "         Gradient evaluations: 26\n",
      "                              OrderedModel Results                              \n",
      "================================================================================\n",
      "Dep. Variable:     actionable_collapsed   Log-Likelihood:                -2789.4\n",
      "Model:                     OrderedModel   AIC:                             5593.\n",
      "Method:              Maximum Likelihood   BIC:                             5634.\n",
      "Date:                  Wed, 01 May 2024                                         \n",
      "Time:                          11:44:53                                         \n",
      "No. Observations:                  2740                                         \n",
      "Df Residuals:                      2733                                         \n",
      "Df Model:                             5                                         \n",
      "=========================================================================================\n",
      "                            coef    std err          z      P>|z|      [0.025      0.975]\n",
      "-----------------------------------------------------------------------------------------\n",
      "trial_time_seconds        0.0038      0.001      2.587      0.010       0.001       0.007\n",
      "feedback_time_seconds    -0.0003      0.000     -0.777      0.437      -0.001       0.000\n",
      "trial                    -0.0223      0.007     -3.353      0.001      -0.035      -0.009\n",
      "outcome_code              0.0532      0.050      1.066      0.286      -0.045       0.151\n",
      "condition_code            0.0296      0.044      0.667      0.505      -0.057       0.117\n",
      "Disagree/Neutral         -1.2446      0.112    -11.133      0.000      -1.464      -1.025\n",
      "Neutral/Agree             0.1030      0.035      2.915      0.004       0.034       0.172\n",
      "=========================================================================================\n"
     ]
    }
   ],
   "source": [
    "ind_vars = ['trial_time_seconds', 'feedback_time_seconds', 'trial', 'outcome_code', 'condition_code']\n",
    "\n",
    "dep_var = 'actionable_collapsed'\n",
    "\n",
    "utils.run_ordered_model(dep_var, ind_vars, trial_file)"
   ]
  },
  {
   "cell_type": "markdown",
   "metadata": {},
   "source": [
    "### Distributions of dimensional ratings across groups"
   ]
  },
  {
   "cell_type": "markdown",
   "metadata": {},
   "source": [
    "**MOTIVATION**"
   ]
  },
  {
   "cell_type": "code",
   "execution_count": 32,
   "metadata": {},
   "outputs": [
    {
     "name": "stdout",
     "output_type": "stream",
     "text": [
      "mode_motivation_code     0     1     2     3     4\n",
      "condition                                         \n",
      "full                  0.04  0.09  0.28  0.41  0.17\n",
      "score                 0.02  0.13  0.29  0.33  0.22\n",
      "text                  0.13  0.04  0.17  0.43  0.22\n",
      "KruskalResult(statistic=0.1463963278630341, pvalue=0.9294166349215891)\n"
     ]
    }
   ],
   "source": [
    "utils.run_kruskal('mode_motivation_code', part_file)"
   ]
  },
  {
   "cell_type": "code",
   "execution_count": 33,
   "metadata": {},
   "outputs": [
    {
     "name": "stdout",
     "output_type": "stream",
     "text": [
      "mode_motivation_collapsed_code     0     1     2\n",
      "condition                                       \n",
      "full                            0.17  0.24  0.59\n",
      "score                           0.16  0.29  0.56\n",
      "text                            0.17  0.17  0.65\n",
      "KruskalResult(statistic=0.5094110183965355, pvalue=0.7751447373473915)\n"
     ]
    }
   ],
   "source": [
    "utils.run_kruskal('mode_motivation_collapsed_code', part_file)"
   ]
  },
  {
   "cell_type": "markdown",
   "metadata": {},
   "source": [
    "**MANAGEABLE**"
   ]
  },
  {
   "cell_type": "code",
   "execution_count": 34,
   "metadata": {},
   "outputs": [
    {
     "name": "stdout",
     "output_type": "stream",
     "text": [
      "mode_manageable_code     0     1     2     3     4\n",
      "condition                                         \n",
      "full                  0.02  0.09  0.63  0.15  0.11\n",
      "score                 0.07  0.22  0.60  0.04  0.07\n",
      "text                  0.07  0.04  0.59  0.20  0.11\n",
      "KruskalResult(statistic=8.5469918210492, pvalue=0.01393298942940031)\n",
      "           full     score      text\n",
      "full   1.000000  0.047528  1.000000\n",
      "score  0.047528  1.000000  0.024559\n",
      "text   1.000000  0.024559  1.000000\n"
     ]
    }
   ],
   "source": [
    "utils.run_kruskal('mode_manageable_code', part_file)"
   ]
  },
  {
   "cell_type": "code",
   "execution_count": 35,
   "metadata": {},
   "outputs": [
    {
     "name": "stdout",
     "output_type": "stream",
     "text": [
      "mode_manageable_collapsed_code     0     1     2\n",
      "condition                                       \n",
      "full                            0.11  0.57  0.33\n",
      "score                           0.31  0.60  0.09\n",
      "text                            0.11  0.54  0.35\n",
      "KruskalResult(statistic=14.348114574947575, pvalue=0.0007662076913257851)\n",
      "           full     score      text\n",
      "full   1.000000  0.004117  1.000000\n",
      "score  0.004117  1.000000  0.002287\n",
      "text   1.000000  0.002287  1.000000\n"
     ]
    }
   ],
   "source": [
    "utils.run_kruskal('mode_manageable_collapsed_code', part_file)"
   ]
  },
  {
   "cell_type": "markdown",
   "metadata": {},
   "source": [
    "**ACTIONABLE**"
   ]
  },
  {
   "cell_type": "code",
   "execution_count": 36,
   "metadata": {},
   "outputs": [
    {
     "name": "stdout",
     "output_type": "stream",
     "text": [
      "mode_actionable_code     0     1     2     3     4\n",
      "condition                                         \n",
      "full                  0.02  0.09  0.24  0.52  0.13\n",
      "score                 0.16  0.27  0.29  0.16  0.13\n",
      "text                  0.07  0.09  0.15  0.50  0.20\n",
      "KruskalResult(statistic=14.91318951191215, pvalue=0.0005776197625926082)\n",
      "           full     score      text\n",
      "full   1.000000  0.004388  1.000000\n",
      "score  0.004388  1.000000  0.001414\n",
      "text   1.000000  0.001414  1.000000\n"
     ]
    }
   ],
   "source": [
    "utils.run_kruskal('mode_actionable_code', part_file)"
   ]
  },
  {
   "cell_type": "code",
   "execution_count": 37,
   "metadata": {},
   "outputs": [
    {
     "name": "stdout",
     "output_type": "stream",
     "text": [
      "mode_actionable_collapsed_code     0     1     2\n",
      "condition                                       \n",
      "full                            0.13  0.22  0.65\n",
      "score                           0.40  0.29  0.31\n",
      "text                            0.17  0.15  0.67\n",
      "KruskalResult(statistic=16.15022994037241, pvalue=0.00031118748860296607)\n",
      "           full     score      text\n",
      "full   1.000000  0.001394  1.000000\n",
      "score  0.001394  1.000000  0.001545\n",
      "text   1.000000  0.001545  1.000000\n"
     ]
    }
   ],
   "source": [
    "utils.run_kruskal('mode_actionable_collapsed_code', part_file)"
   ]
  },
  {
   "cell_type": "markdown",
   "metadata": {},
   "source": [
    "**TIMELY**"
   ]
  },
  {
   "cell_type": "code",
   "execution_count": 38,
   "metadata": {},
   "outputs": [
    {
     "name": "stdout",
     "output_type": "stream",
     "text": [
      "mode_timely_code     0     1     2     3     4\n",
      "condition                                     \n",
      "full              0.00  0.00  0.74  0.13  0.13\n",
      "score             0.02  0.07  0.64  0.18  0.09\n",
      "text              0.02  0.00  0.61  0.17  0.20\n",
      "KruskalResult(statistic=2.5897813753657135, pvalue=0.2739278063781436)\n"
     ]
    }
   ],
   "source": [
    "utils.run_kruskal('mode_timely_code', part_file)"
   ]
  },
  {
   "cell_type": "code",
   "execution_count": 39,
   "metadata": {},
   "outputs": [
    {
     "name": "stdout",
     "output_type": "stream",
     "text": [
      "mode_timely_collapsed_code     0     1     2\n",
      "condition                                   \n",
      "full                        0.02  0.72  0.26\n",
      "score                       0.09  0.64  0.27\n",
      "text                        0.02  0.59  0.39\n",
      "KruskalResult(statistic=2.9089328827839984, pvalue=0.23352492990309748)\n"
     ]
    }
   ],
   "source": [
    "utils.run_kruskal('mode_timely_collapsed_code', part_file)"
   ]
  },
  {
   "cell_type": "markdown",
   "metadata": {},
   "source": [
    "**REFLECTION**"
   ]
  },
  {
   "cell_type": "code",
   "execution_count": 40,
   "metadata": {},
   "outputs": [
    {
     "name": "stdout",
     "output_type": "stream",
     "text": [
      "mode_reflection_code     0     1     2     3     4\n",
      "condition                                         \n",
      "full                  0.04  0.04  0.22  0.46  0.24\n",
      "score                 0.09  0.11  0.18  0.40  0.22\n",
      "text                  0.07  0.07  0.22  0.43  0.22\n",
      "KruskalResult(statistic=0.6951396880264286, pvalue=0.7064026742088294)\n"
     ]
    }
   ],
   "source": [
    "utils.run_kruskal('mode_reflection_code', part_file)"
   ]
  },
  {
   "cell_type": "code",
   "execution_count": 41,
   "metadata": {},
   "outputs": [
    {
     "name": "stdout",
     "output_type": "stream",
     "text": [
      "mode_reflection_collapsed_code     0     1     2\n",
      "condition                                       \n",
      "full                            0.13  0.20  0.67\n",
      "score                           0.22  0.16  0.62\n",
      "text                            0.13  0.20  0.67\n",
      "KruskalResult(statistic=0.7144449998691459, pvalue=0.6996168157199105)\n"
     ]
    }
   ],
   "source": [
    "utils.run_kruskal('mode_reflection_collapsed_code', part_file)"
   ]
  },
  {
   "cell_type": "markdown",
   "metadata": {},
   "source": [
    "### Did they think the feedback helped?"
   ]
  },
  {
   "cell_type": "code",
   "execution_count": 42,
   "metadata": {},
   "outputs": [
    {
     "name": "stdout",
     "output_type": "stream",
     "text": [
      "feedback_helped_code     0     1     2     3     4\n",
      "condition                                         \n",
      "full                  0.09  0.13  0.22  0.43  0.13\n",
      "score                 0.22  0.16  0.20  0.31  0.11\n",
      "text                  0.17  0.09  0.07  0.54  0.13\n",
      "KruskalResult(statistic=3.7471395176659312, pvalue=0.15357445835716177)\n"
     ]
    }
   ],
   "source": [
    "utils.run_kruskal('feedback_helped_code', part_file)"
   ]
  },
  {
   "cell_type": "code",
   "execution_count": 43,
   "metadata": {},
   "outputs": [
    {
     "name": "stdout",
     "output_type": "stream",
     "text": [
      "feedback_helped_collapsed_code     0     1     2\n",
      "condition                                       \n",
      "full                            0.22  0.22  0.57\n",
      "score                           0.38  0.20  0.42\n",
      "text                            0.26  0.07  0.67\n",
      "KruskalResult(statistic=4.9103711719278245, pvalue=0.08584726191584136)\n"
     ]
    }
   ],
   "source": [
    "utils.run_kruskal('feedback_helped_collapsed_code', part_file)"
   ]
  },
  {
   "cell_type": "markdown",
   "metadata": {},
   "source": [
    "## Evolution of Performance"
   ]
  },
  {
   "cell_type": "markdown",
   "metadata": {},
   "source": [
    "For each condition, plot out the success of the trial for each participant"
   ]
  },
  {
   "cell_type": "code",
   "execution_count": 44,
   "metadata": {},
   "outputs": [
    {
     "name": "stdout",
     "output_type": "stream",
     "text": [
      "skipping participant 6522a86994a5ce0d7bb9feba trial 9\n"
     ]
    },
    {
     "data": {
      "image/png": "[encoded data removed]",
      "text/plain": [
       "<Figure size 800x600 with 3 Axes>"
      ]
     },
     "metadata": {},
     "output_type": "display_data"
    }
   ],
   "source": [
    "fig, axs = plt.subplots(1,3, figsize=(8,6))\n",
    "n_trials = 20\n",
    "\n",
    "conditions = list(ids.keys())\n",
    "\n",
    "# for each condition\n",
    "for a in range(len(axs)):\n",
    "    overall_scores = []\n",
    "\n",
    "    # for each participant in that condition\n",
    "    for i in range(len(ids[conditions[a]])):\n",
    "        part = ids[conditions[a]].iloc[i]\n",
    "        data = pd.read_csv(data_dir + part + '/survey_responses.csv')\n",
    "\n",
    "        # score for that participant\n",
    "        data['outcome_sore'] = 0\n",
    "        data.loc[data['outcome'] == 'Unsafe', 'outcome_score'] = 3\n",
    "        data.loc[data['outcome'] == 'Crash', 'outcome_score'] = 5\n",
    "\n",
    "        total_score = data['outcome_score'].sum()\n",
    "        overall_scores.append((i, part, total_score))\n",
    "\n",
    "    # sort participants for this condition\n",
    "    sorted_participants = sorted(overall_scores, key=lambda x: x[2], reverse=True)\n",
    "\n",
    "    # plot all participants in sorted order\n",
    "    for sorted_index, (_, part, _) in enumerate(sorted_participants):\n",
    "        data = pd.read_csv(data_dir + part + '/survey_responses.csv')\n",
    "\n",
    "        # plot all trials for that participant\n",
    "        for trial in range(n_trials):\n",
    "            try:\n",
    "                outcome = data[data['trial'] == trial+1]['outcome'].values[0]\n",
    "                if outcome == 'Safe':\n",
    "                    axs[a].plot(trial, sorted_index, 'go')\n",
    "                elif outcome == 'Unsafe':\n",
    "                    axs[a].plot(trial, sorted_index, 'ko')\n",
    "                else:\n",
    "                    axs[a].plot(trial, sorted_index, 'ro')\n",
    "            except:\n",
    "                print(f\"skipping participant {part} trial {trial}\")\n",
    "\n",
    "    axs[a].set_aspect('equal')\n",
    "    axs[a].set_title(f'{conditions[a]}')\n",
    "\n",
    "plt.show()"
   ]
  },
  {
   "cell_type": "code",
   "execution_count": 45,
   "metadata": {},
   "outputs": [
    {
     "data": {
      "text/plain": [
       "condition\n",
       "full     368\n",
       "score    374\n",
       "text     354\n",
       "Name: n_safe_landings, dtype: int64"
      ]
     },
     "execution_count": 45,
     "metadata": {},
     "output_type": "execute_result"
    }
   ],
   "source": [
    "part_file.groupby('condition')['n_safe_landings'].sum()"
   ]
  },
  {
   "cell_type": "code",
   "execution_count": 46,
   "metadata": {},
   "outputs": [
    {
     "data": {
      "text/plain": [
       "condition\n",
       "full     380\n",
       "score    317\n",
       "text     345\n",
       "Name: n_unsafe_landings, dtype: int64"
      ]
     },
     "execution_count": 46,
     "metadata": {},
     "output_type": "execute_result"
    }
   ],
   "source": [
    "part_file.groupby('condition')['n_unsafe_landings'].sum()"
   ]
  },
  {
   "cell_type": "code",
   "execution_count": 47,
   "metadata": {},
   "outputs": [
    {
     "data": {
      "text/plain": [
       "condition\n",
       "full     172\n",
       "score    209\n",
       "text     221\n",
       "Name: n_crashes, dtype: int64"
      ]
     },
     "execution_count": 47,
     "metadata": {},
     "output_type": "execute_result"
    }
   ],
   "source": [
    "part_file.groupby('condition')['n_crashes'].sum()"
   ]
  },
  {
   "cell_type": "markdown",
   "metadata": {},
   "source": [
    "- Number of people who failed all the trials? difference between baseline and full conditions\n",
    "- When did they first get 3 successes in a row? parallels to mastery heuristics\n",
    "- What kinds of mistakes are people making?\n",
    "\n",
    "Dig into robustness/learning curve stuff after doing the above questions"
   ]
  },
  {
   "cell_type": "code",
   "execution_count": 48,
   "metadata": {},
   "outputs": [],
   "source": [
    "part_file['any_safe_landings'] = part_file['n_safe_landings'] > 0\n",
    "part_file['3_safe_landings'] = part_file['n_safe_landings'] >= 3"
   ]
  },
  {
   "cell_type": "code",
   "execution_count": 49,
   "metadata": {},
   "outputs": [
    {
     "name": "stdout",
     "output_type": "stream",
     "text": [
      "any_safe_landings  False  True \n",
      "condition                      \n",
      "full                   1     45\n",
      "score                  8     37\n",
      "text                   4     42\n",
      "3_safe_landings  False  True \n",
      "condition                    \n",
      "full                 6     40\n",
      "score               12     33\n",
      "text                10     36\n"
     ]
    }
   ],
   "source": [
    "print(part_file.groupby('condition')['any_safe_landings'].value_counts().unstack())\n",
    "print(part_file.groupby('condition')['3_safe_landings'].value_counts().unstack())"
   ]
  },
  {
   "cell_type": "code",
   "execution_count": 50,
   "metadata": {},
   "outputs": [
    {
     "name": "stdout",
     "output_type": "stream",
     "text": [
      "Adjusted alpha (Bonferroni): 0.016666666666666666\n",
      "P-values: [0.015187307563778372, 0.3610322262007656, 0.23052995536170712]\n",
      "Significant results: [True, False, False]\n"
     ]
    }
   ],
   "source": [
    "c_table = part_file.groupby('condition')['any_safe_landings'].value_counts().unstack()\n",
    "\n",
    "# Performing Fisher's Exact Test for each pair and applying Bonferroni correction\n",
    "p_values = []\n",
    "comparisons = [('full', 'score'), ('full', 'text'), ('score', 'text')]\n",
    "for group1, group2 in comparisons:\n",
    "    table = c_table.loc[[group1, group2], :]\n",
    "    oddsratio, p_value = stats.fisher_exact(table)\n",
    "    p_values.append(p_value)\n",
    "\n",
    "# Adjust p-values for multiple comparisons (Bonferroni correction)\n",
    "alpha = 0.05 / len(comparisons)\n",
    "significant_results = [p < alpha for p in p_values]\n",
    "\n",
    "# Output results\n",
    "print(f\"Adjusted alpha (Bonferroni): {alpha}\")\n",
    "print(f\"P-values: {p_values}\")\n",
    "print(f\"Significant results: {significant_results}\")"
   ]
  },
  {
   "cell_type": "code",
   "execution_count": 51,
   "metadata": {},
   "outputs": [
    {
     "name": "stdout",
     "output_type": "stream",
     "text": [
      "Adjusted alpha (Bonferroni): 0.016666666666666666\n",
      "P-values: [0.17132894795244324, 0.40926974331915433, 0.7610881571468915]\n",
      "Significant results: [False, False, False]\n"
     ]
    }
   ],
   "source": [
    "c_table = part_file.groupby('condition')['3_safe_landings'].value_counts().unstack()\n",
    "\n",
    "# Performing Fisher's Exact Test for each pair and applying Bonferroni correction\n",
    "p_values = []\n",
    "comparisons = [('full', 'score'), ('full', 'text'), ('score', 'text')]\n",
    "for group1, group2 in comparisons:\n",
    "    table = c_table.loc[[group1, group2], :]\n",
    "    res = stats.chi2_contingency(table)\n",
    "    p_values.append(res.pvalue)\n",
    "\n",
    "# Adjust p-values for multiple comparisons (Bonferroni correction)\n",
    "alpha = 0.05 / len(comparisons)\n",
    "significant_results = [p < alpha for p in p_values]\n",
    "\n",
    "# Output results\n",
    "print(f\"Adjusted alpha (Bonferroni): {alpha}\")\n",
    "print(f\"P-values: {p_values}\")\n",
    "print(f\"Significant results: {significant_results}\")"
   ]
  },
  {
   "cell_type": "code",
   "execution_count": 52,
   "metadata": {},
   "outputs": [
    {
     "name": "stdout",
     "output_type": "stream",
     "text": [
      "skipping participant 6522a86994a5ce0d7bb9feba trial 17\n"
     ]
    }
   ],
   "source": [
    "# calculate which trial they first achieved three successes in a row\n",
    "part_file['three_in_a_row_idx'] = 0\n",
    "n_trials = 20\n",
    "for i in range(len(part_file)):\n",
    "    part = part_file.iloc[i]\n",
    "    data = pd.read_csv(data_dir + part['prolific_id'] + '/survey_responses.csv')\n",
    "    for trial in range(n_trials-2):\n",
    "        try:\n",
    "            if (data['outcome'].iloc[trial] == 'Safe') & (data['outcome'].iloc[trial+1] == 'Safe') & (data['outcome'].iloc[trial+2] == 'Safe'):\n",
    "                part_file.loc[part_file['prolific_id'] == part['prolific_id'], 'three_in_a_row_idx'] = trial + 1\n",
    "                break\n",
    "        except:\n",
    "            print(f\"skipping participant {part['prolific_id']} trial {trial}\")"
   ]
  },
  {
   "cell_type": "code",
   "execution_count": null,
   "metadata": {},
   "outputs": [],
   "source": [
    "part_file[['prolific_id', 'three_in_a_row_idx']].head(10)"
   ]
  },
  {
   "cell_type": "code",
   "execution_count": 53,
   "metadata": {},
   "outputs": [
    {
     "name": "stdout",
     "output_type": "stream",
     "text": [
      "skipping participant 6522a86994a5ce0d7bb9feba trial 15\n"
     ]
    }
   ],
   "source": [
    "part_file['five_in_a_row_idx'] = 0\n",
    "n_trials = 20\n",
    "for i in range(len(part_file)):\n",
    "    part = part_file.iloc[i]\n",
    "    data = pd.read_csv(data_dir + part['prolific_id'] + '/survey_responses.csv')\n",
    "    for trial in range(n_trials-4):\n",
    "        try:\n",
    "            if (data['outcome'].iloc[trial] == 'Safe') & (data['outcome'].iloc[trial+1] == 'Safe') & (data['outcome'].iloc[trial+2] == 'Safe') & (data['outcome'].iloc[trial+3] == 'Safe') & (data['outcome'].iloc[trial+4] == 'Safe'):\n",
    "                part_file.loc[part_file['prolific_id'] == part['prolific_id'], 'five_in_a_row_idx'] = trial + 1\n",
    "                break\n",
    "        except:\n",
    "            print(f\"skipping participant {part['prolific_id']} trial {trial}\")"
   ]
  },
  {
   "cell_type": "code",
   "execution_count": 54,
   "metadata": {},
   "outputs": [
    {
     "name": "stdout",
     "output_type": "stream",
     "text": [
      "reached_mastery_3  False  True \n",
      "condition                      \n",
      "full                  17     29\n",
      "score                 16     29\n",
      "text                  21     25\n",
      "reached_mastery_5  False  True \n",
      "condition                      \n",
      "full                  31     15\n",
      "score                 27     18\n",
      "text                  30     16\n"
     ]
    }
   ],
   "source": [
    "part_file['reached_mastery_3'] = part_file['three_in_a_row_idx'] > 0\n",
    "part_file['reached_mastery_5'] = part_file['five_in_a_row_idx'] > 0\n",
    "\n",
    "print(part_file.groupby('condition')['reached_mastery_3'].value_counts().unstack())\n",
    "print(part_file.groupby('condition')['reached_mastery_5'].value_counts().unstack())"
   ]
  },
  {
   "cell_type": "code",
   "execution_count": 55,
   "metadata": {},
   "outputs": [
    {
     "data": {
      "text/plain": [
       "83"
      ]
     },
     "execution_count": 55,
     "metadata": {},
     "output_type": "execute_result"
    }
   ],
   "source": [
    "len(part_file[part_file['reached_mastery_3'] == True])"
   ]
  },
  {
   "cell_type": "code",
   "execution_count": 56,
   "metadata": {},
   "outputs": [
    {
     "name": "stdout",
     "output_type": "stream",
     "text": [
      "Adjusted alpha (Bonferroni): 0.016666666666666666\n",
      "P-values: [1.0, 0.5255688467805519, 0.39522767071234843]\n",
      "Significant results: [False, False, False]\n"
     ]
    }
   ],
   "source": [
    "c_table = part_file.groupby('condition')['reached_mastery_3'].value_counts().unstack()\n",
    "\n",
    "# Performing Fisher's Exact Test for each pair and applying Bonferroni correction\n",
    "p_values = []\n",
    "comparisons = [('full', 'score'), ('full', 'text'), ('score', 'text')]\n",
    "for group1, group2 in comparisons:\n",
    "    table = c_table.loc[[group1, group2], :]\n",
    "    res = stats.fisher_exact(table)\n",
    "    p_values.append(res.pvalue)\n",
    "\n",
    "# Adjust p-values for multiple comparisons (Bonferroni correction)\n",
    "alpha = 0.05 / len(comparisons)\n",
    "significant_results = [p < alpha for p in p_values]\n",
    "\n",
    "# Output results\n",
    "print(f\"Adjusted alpha (Bonferroni): {alpha}\")\n",
    "print(f\"P-values: {p_values}\")\n",
    "print(f\"Significant results: {significant_results}\")"
   ]
  },
  {
   "cell_type": "code",
   "execution_count": 57,
   "metadata": {},
   "outputs": [
    {
     "name": "stdout",
     "output_type": "stream",
     "text": [
      "Adjusted alpha (Bonferroni): 0.016666666666666666\n",
      "P-values: [0.517322927130677, 1.0, 0.6678827480256951]\n",
      "Significant results: [False, False, False]\n"
     ]
    }
   ],
   "source": [
    "c_table = part_file.groupby('condition')['reached_mastery_5'].value_counts().unstack()\n",
    "\n",
    "# Performing Fisher's Exact Test for each pair and applying Bonferroni correction\n",
    "p_values = []\n",
    "comparisons = [('full', 'score'), ('full', 'text'), ('score', 'text')]\n",
    "for group1, group2 in comparisons:\n",
    "    table = c_table.loc[[group1, group2], :]\n",
    "    res = stats.fisher_exact(table)\n",
    "    p_values.append(res.pvalue)\n",
    "\n",
    "# Adjust p-values for multiple comparisons (Bonferroni correction)\n",
    "alpha = 0.05 / len(comparisons)\n",
    "significant_results = [p < alpha for p in p_values]\n",
    "\n",
    "# Output results\n",
    "print(f\"Adjusted alpha (Bonferroni): {alpha}\")\n",
    "print(f\"P-values: {p_values}\")\n",
    "print(f\"Significant results: {significant_results}\")"
   ]
  },
  {
   "cell_type": "code",
   "execution_count": 58,
   "metadata": {},
   "outputs": [
    {
     "name": "stdout",
     "output_type": "stream",
     "text": [
      "condition\n",
      "full     9.241379\n",
      "score    8.517241\n",
      "text     8.200000\n",
      "Name: three_in_a_row_idx, dtype: float64\n",
      "condition\n",
      "full     8.333333\n",
      "score    9.111111\n",
      "text     7.187500\n",
      "Name: five_in_a_row_idx, dtype: float64\n"
     ]
    }
   ],
   "source": [
    "print(part_file[part_file['three_in_a_row_idx'] > 0].groupby('condition')['three_in_a_row_idx'].mean())\n",
    "print(part_file[part_file['five_in_a_row_idx'] > 0].groupby('condition')['five_in_a_row_idx'].mean())"
   ]
  },
  {
   "cell_type": "code",
   "execution_count": 59,
   "metadata": {},
   "outputs": [
    {
     "name": "stdout",
     "output_type": "stream",
     "text": [
      "N reached mastery: 83\n",
      "Average index of reaching mastery:\n",
      "condition\n",
      "full     9.24\n",
      "score    8.52\n",
      "text     8.20\n",
      "Name: three_in_a_row_idx, dtype: float64\n"
     ]
    }
   ],
   "source": [
    "reached_mastery = part_file[part_file['three_in_a_row_idx'] > 0]\n",
    "print(f\"N reached mastery: {len(reached_mastery)}\")\n",
    "print(\"Average index of reaching mastery:\")\n",
    "print(reached_mastery.groupby('condition')['three_in_a_row_idx'].mean().round(2))"
   ]
  },
  {
   "cell_type": "code",
   "execution_count": 60,
   "metadata": {},
   "outputs": [
    {
     "name": "stdout",
     "output_type": "stream",
     "text": [
      "N participants for ANOVA: 83\n",
      "Mean (SD) index for each group:\n",
      "score: 8.517241379310345 (4.725468152583799)\n",
      "text: 8.2 (5.5901699437494745)\n",
      "full: 9.241379310344827 (4.8745342078851355)\n"
     ]
    }
   ],
   "source": [
    "data_score = reached_mastery.loc[reached_mastery['condition'] == 'score', 'three_in_a_row_idx']\n",
    "data_text = reached_mastery.loc[reached_mastery['condition'] == 'text', 'three_in_a_row_idx']\n",
    "data_full = reached_mastery.loc[reached_mastery['condition'] == 'full', 'three_in_a_row_idx']\n",
    "print(f\"N participants for ANOVA: {len(data_score) + len(data_text) + len(data_full)}\")\n",
    "print(\"Mean (SD) index for each group:\")\n",
    "print(f\"score: {data_score.mean()} ({data_score.std()})\")\n",
    "print(f\"text: {data_text.mean()} ({data_text.std()})\")\n",
    "print(f\"full: {data_full.mean()} ({data_full.std()})\")"
   ]
  },
  {
   "cell_type": "code",
   "execution_count": 61,
   "metadata": {},
   "outputs": [
    {
     "data": {
      "text/plain": [
       "F_onewayResult(statistic=0.3070766233787386, pvalue=0.7364573743489766)"
      ]
     },
     "execution_count": 61,
     "metadata": {},
     "output_type": "execute_result"
    }
   ],
   "source": [
    "stats.f_oneway(data_score, data_text, data_full)"
   ]
  },
  {
   "cell_type": "code",
   "execution_count": 62,
   "metadata": {},
   "outputs": [
    {
     "name": "stdout",
     "output_type": "stream",
     "text": [
      "three_in_a_row_idx    1     2     3     4     5     6     7     8     9   \\\n",
      "condition                                                                  \n",
      "full                0.03  0.07  0.00  0.14  0.07  0.00  0.10  0.00  0.03   \n",
      "score               0.00  0.07  0.07  0.03  0.14  0.07  0.10  0.17  0.03   \n",
      "text                0.12  0.04  0.04  0.12  0.04  0.12  0.08  0.08  0.04   \n",
      "\n",
      "three_in_a_row_idx    10    11    12    13    14    15    16    17    18  \n",
      "condition                                                                 \n",
      "full                0.10  0.17  0.03  0.00  0.07  0.03  0.07  0.03  0.03  \n",
      "score               0.03  0.00  0.03  0.03  0.07  0.03  0.00  0.03  0.07  \n",
      "text                0.00  0.00  0.04  0.04  0.04  0.04  0.04  0.04  0.08  \n",
      "KruskalResult(statistic=0.8359763583772802, pvalue=0.6583700108465329)\n"
     ]
    }
   ],
   "source": [
    "utils.run_kruskal('three_in_a_row_idx', part_file[part_file['three_in_a_row_idx'] > 0])"
   ]
  },
  {
   "cell_type": "code",
   "execution_count": 63,
   "metadata": {},
   "outputs": [
    {
     "name": "stdout",
     "output_type": "stream",
     "text": [
      "F_onewayResult(statistic=0.3070766233787385, pvalue=0.7364573743489766)\n"
     ]
    }
   ],
   "source": [
    "utils.run_anova('three_in_a_row_idx', part_file[part_file['three_in_a_row_idx'] > 0])"
   ]
  },
  {
   "cell_type": "code",
   "execution_count": 64,
   "metadata": {},
   "outputs": [
    {
     "name": "stdout",
     "output_type": "stream",
     "text": [
      "five_in_a_row_idx    1     2     3     4     5     6     7     8     9     10  \\\n",
      "condition                                                                       \n",
      "full               0.00  0.07  0.00  0.27  0.07  0.00  0.13  0.00  0.07  0.07   \n",
      "score              0.00  0.00  0.06  0.00  0.17  0.00  0.11  0.28  0.00  0.00   \n",
      "text               0.12  0.06  0.00  0.12  0.06  0.12  0.06  0.06  0.12  0.00   \n",
      "\n",
      "five_in_a_row_idx    11    12    13    14    15    16  \n",
      "condition                                              \n",
      "full               0.07  0.07  0.00  0.07  0.00  0.13  \n",
      "score              0.06  0.11  0.06  0.06  0.11  0.00  \n",
      "text               0.00  0.06  0.12  0.00  0.06  0.00  \n",
      "KruskalResult(statistic=1.7639930805329855, pvalue=0.4139556070448809)\n"
     ]
    }
   ],
   "source": [
    "utils.run_kruskal('five_in_a_row_idx', part_file[part_file['five_in_a_row_idx'] > 0])"
   ]
  },
  {
   "cell_type": "code",
   "execution_count": 65,
   "metadata": {},
   "outputs": [
    {
     "data": {
      "text/html": [
       "<div>\n",
       "<style scoped>\n",
       "    .dataframe tbody tr th:only-of-type {\n",
       "        vertical-align: middle;\n",
       "    }\n",
       "\n",
       "    .dataframe tbody tr th {\n",
       "        vertical-align: top;\n",
       "    }\n",
       "\n",
       "    .dataframe thead th {\n",
       "        text-align: right;\n",
       "    }\n",
       "</style>\n",
       "<table border=\"1\" class=\"dataframe\">\n",
       "  <thead>\n",
       "    <tr style=\"text-align: right;\">\n",
       "      <th>achieved_mastery_3</th>\n",
       "      <th>False</th>\n",
       "      <th>True</th>\n",
       "    </tr>\n",
       "    <tr>\n",
       "      <th>condition</th>\n",
       "      <th></th>\n",
       "      <th></th>\n",
       "    </tr>\n",
       "  </thead>\n",
       "  <tbody>\n",
       "    <tr>\n",
       "      <th>full</th>\n",
       "      <td>17</td>\n",
       "      <td>29</td>\n",
       "    </tr>\n",
       "    <tr>\n",
       "      <th>score</th>\n",
       "      <td>16</td>\n",
       "      <td>29</td>\n",
       "    </tr>\n",
       "    <tr>\n",
       "      <th>text</th>\n",
       "      <td>21</td>\n",
       "      <td>25</td>\n",
       "    </tr>\n",
       "  </tbody>\n",
       "</table>\n",
       "</div>"
      ],
      "text/plain": [
       "achieved_mastery_3  False  True \n",
       "condition                       \n",
       "full                   17     29\n",
       "score                  16     29\n",
       "text                   21     25"
      ]
     },
     "execution_count": 65,
     "metadata": {},
     "output_type": "execute_result"
    }
   ],
   "source": [
    "part_file['achieved_mastery_3'] = part_file['three_in_a_row_idx'] > 0\n",
    "part_file.groupby('condition')['achieved_mastery_3'].value_counts().unstack()"
   ]
  },
  {
   "cell_type": "code",
   "execution_count": 66,
   "metadata": {},
   "outputs": [
    {
     "name": "stdout",
     "output_type": "stream",
     "text": [
      "Adjusted alpha (Bonferroni): 0.016666666666666666\n",
      "P-values: [1.0, 0.5255688467805519, 0.39522767071234843]\n",
      "Significant results: [False, False, False]\n"
     ]
    }
   ],
   "source": [
    "c_table = part_file.groupby('condition')['achieved_mastery_3'].value_counts().unstack()\n",
    "\n",
    "# Performing Fisher's Exact Test for each pair and applying Bonferroni correction\n",
    "p_values = []\n",
    "comparisons = [('full', 'score'), ('full', 'text'), ('score', 'text')]\n",
    "for group1, group2 in comparisons:\n",
    "    table = c_table.loc[[group1, group2], :]\n",
    "    res = stats.fisher_exact(table)\n",
    "    p_values.append(res.pvalue)\n",
    "\n",
    "# Adjust p-values for multiple comparisons (Bonferroni correction)\n",
    "alpha = 0.05 / len(comparisons)\n",
    "significant_results = [p < alpha for p in p_values]\n",
    "\n",
    "# Output results\n",
    "print(f\"Adjusted alpha (Bonferroni): {alpha}\")\n",
    "print(f\"P-values: {p_values}\")\n",
    "print(f\"Significant results: {significant_results}\")"
   ]
  },
  {
   "cell_type": "code",
   "execution_count": 67,
   "metadata": {},
   "outputs": [
    {
     "name": "stdout",
     "output_type": "stream",
     "text": [
      "Adjusted alpha (Bonferroni): 0.016666666666666666\n",
      "P-values: [0.517322927130677, 1.0, 0.6678827480256951]\n",
      "Significant results: [False, False, False]\n"
     ]
    }
   ],
   "source": [
    "part_file['achieved_mastery_5'] = part_file['five_in_a_row_idx'] > 0\n",
    "c_table = part_file.groupby('condition')['achieved_mastery_5'].value_counts().unstack()\n",
    "\n",
    "# Performing Fisher's Exact Test for each pair and applying Bonferroni correction\n",
    "p_values = []\n",
    "comparisons = [('full', 'score'), ('full', 'text'), ('score', 'text')]\n",
    "for group1, group2 in comparisons:\n",
    "    table = c_table.loc[[group1, group2], :]\n",
    "    res = stats.fisher_exact(table)\n",
    "    p_values.append(res.pvalue)\n",
    "\n",
    "# Adjust p-values for multiple comparisons (Bonferroni correction)\n",
    "alpha = 0.05 / len(comparisons)\n",
    "significant_results = [p < alpha for p in p_values]\n",
    "\n",
    "# Output results\n",
    "print(f\"Adjusted alpha (Bonferroni): {alpha}\")\n",
    "print(f\"P-values: {p_values}\")\n",
    "print(f\"Significant results: {significant_results}\")"
   ]
  },
  {
   "cell_type": "code",
   "execution_count": 68,
   "metadata": {},
   "outputs": [],
   "source": [
    "# label each unsafe trial with which mistake they are making\n",
    "trial_file['mistake'] = ''\n",
    "for part in part_file['prolific_id']:\n",
    "    data = pd.read_csv(data_dir + part + '/survey_responses.csv')\n",
    "    for trial in data['trial']:\n",
    "        if data.loc[data['trial'] == trial, 'outcome'].values[0] == 'Unsafe':\n",
    "            # read in robusness file\n",
    "            robustness = pd.read_csv(data_dir + part + f'/trial_{trial}/robustness.csv')\n",
    "            reasons = \"\"\n",
    "            if robustness.iloc[-1]['landing_speed'] < 0:\n",
    "                reasons += \"landing_speed \"\n",
    "            if robustness.iloc[-1]['landing_angle'] < 0:\n",
    "                reasons += \"landing_angle \"\n",
    "            elif (robustness.iloc[-1]['landing_angle'] > 0) & (robustness.iloc[-1]['landing_speed'] > 0):\n",
    "                reasons += \"something else \"\n",
    "            trial_file.loc[(trial_file['prolific_id'] == part) & (trial_file['trial'] == trial), 'mistake'] = reasons"
   ]
  },
  {
   "cell_type": "code",
   "execution_count": 69,
   "metadata": {},
   "outputs": [
    {
     "data": {
      "text/plain": [
       "mistake\n",
       "                                1698\n",
       "landing_speed landing_angle      405\n",
       "landing_speed                    341\n",
       "landing_angle                    198\n",
       "something else                    98\n",
       "Name: count, dtype: int64"
      ]
     },
     "execution_count": 69,
     "metadata": {},
     "output_type": "execute_result"
    }
   ],
   "source": [
    "trial_file['mistake'].value_counts()"
   ]
  },
  {
   "cell_type": "code",
   "execution_count": 70,
   "metadata": {},
   "outputs": [
    {
     "data": {
      "text/html": [
       "<div>\n",
       "<style scoped>\n",
       "    .dataframe tbody tr th:only-of-type {\n",
       "        vertical-align: middle;\n",
       "    }\n",
       "\n",
       "    .dataframe tbody tr th {\n",
       "        vertical-align: top;\n",
       "    }\n",
       "\n",
       "    .dataframe thead th {\n",
       "        text-align: right;\n",
       "    }\n",
       "</style>\n",
       "<table border=\"1\" class=\"dataframe\">\n",
       "  <thead>\n",
       "    <tr style=\"text-align: right;\">\n",
       "      <th>mistake</th>\n",
       "      <th>landing_angle</th>\n",
       "      <th>landing_speed</th>\n",
       "      <th>landing_speed landing_angle</th>\n",
       "      <th>something else</th>\n",
       "    </tr>\n",
       "    <tr>\n",
       "      <th>condition</th>\n",
       "      <th></th>\n",
       "      <th></th>\n",
       "      <th></th>\n",
       "      <th></th>\n",
       "    </tr>\n",
       "  </thead>\n",
       "  <tbody>\n",
       "    <tr>\n",
       "      <th>score</th>\n",
       "      <td>51</td>\n",
       "      <td>111</td>\n",
       "      <td>129</td>\n",
       "      <td>26</td>\n",
       "    </tr>\n",
       "    <tr>\n",
       "      <th>text</th>\n",
       "      <td>73</td>\n",
       "      <td>107</td>\n",
       "      <td>135</td>\n",
       "      <td>30</td>\n",
       "    </tr>\n",
       "    <tr>\n",
       "      <th>full</th>\n",
       "      <td>74</td>\n",
       "      <td>123</td>\n",
       "      <td>141</td>\n",
       "      <td>42</td>\n",
       "    </tr>\n",
       "  </tbody>\n",
       "</table>\n",
       "</div>"
      ],
      "text/plain": [
       "mistake    landing_angle   landing_speed   landing_speed landing_angle   \\\n",
       "condition                                                                 \n",
       "score                  51             111                           129   \n",
       "text                   73             107                           135   \n",
       "full                   74             123                           141   \n",
       "\n",
       "mistake    something else   \n",
       "condition                   \n",
       "score                   26  \n",
       "text                    30  \n",
       "full                    42  "
      ]
     },
     "execution_count": 70,
     "metadata": {},
     "output_type": "execute_result"
    }
   ],
   "source": [
    "trial_file.groupby(['condition', 'mistake'])['trial'].count().unstack().drop(columns=[''])"
   ]
  },
  {
   "cell_type": "code",
   "execution_count": 71,
   "metadata": {},
   "outputs": [
    {
     "data": {
      "text/html": [
       "<div>\n",
       "<style scoped>\n",
       "    .dataframe tbody tr th:only-of-type {\n",
       "        vertical-align: middle;\n",
       "    }\n",
       "\n",
       "    .dataframe tbody tr th {\n",
       "        vertical-align: top;\n",
       "    }\n",
       "\n",
       "    .dataframe thead th {\n",
       "        text-align: right;\n",
       "    }\n",
       "</style>\n",
       "<table border=\"1\" class=\"dataframe\">\n",
       "  <thead>\n",
       "    <tr style=\"text-align: right;\">\n",
       "      <th>mistake</th>\n",
       "      <th>landing_angle</th>\n",
       "      <th>landing_speed</th>\n",
       "      <th>landing_speed landing_angle</th>\n",
       "      <th>something else</th>\n",
       "    </tr>\n",
       "    <tr>\n",
       "      <th>condition</th>\n",
       "      <th></th>\n",
       "      <th></th>\n",
       "      <th></th>\n",
       "      <th></th>\n",
       "    </tr>\n",
       "  </thead>\n",
       "  <tbody>\n",
       "    <tr>\n",
       "      <th>score</th>\n",
       "      <td>9.98</td>\n",
       "      <td>10.84</td>\n",
       "      <td>8.89</td>\n",
       "      <td>12.46</td>\n",
       "    </tr>\n",
       "    <tr>\n",
       "      <th>text</th>\n",
       "      <td>10.81</td>\n",
       "      <td>11.70</td>\n",
       "      <td>9.24</td>\n",
       "      <td>13.30</td>\n",
       "    </tr>\n",
       "    <tr>\n",
       "      <th>full</th>\n",
       "      <td>11.92</td>\n",
       "      <td>10.36</td>\n",
       "      <td>8.87</td>\n",
       "      <td>11.14</td>\n",
       "    </tr>\n",
       "  </tbody>\n",
       "</table>\n",
       "</div>"
      ],
      "text/plain": [
       "mistake    landing_angle   landing_speed   landing_speed landing_angle   \\\n",
       "condition                                                                 \n",
       "score                9.98           10.84                          8.89   \n",
       "text                10.81           11.70                          9.24   \n",
       "full                11.92           10.36                          8.87   \n",
       "\n",
       "mistake    something else   \n",
       "condition                   \n",
       "score                12.46  \n",
       "text                 13.30  \n",
       "full                 11.14  "
      ]
     },
     "execution_count": 71,
     "metadata": {},
     "output_type": "execute_result"
    }
   ],
   "source": [
    "trial_file.groupby(['condition', 'mistake'])['trial'].mean().unstack().drop(columns=['']).round(2)"
   ]
  },
  {
   "cell_type": "code",
   "execution_count": null,
   "metadata": {},
   "outputs": [],
   "source": [
    "trial_file[trial_file['mistake'] == 'something else ']"
   ]
  },
  {
   "cell_type": "markdown",
   "metadata": {},
   "source": [
    "From manual inspection, it looks like the \"something else\" instances are edge cases where the drone lands right on the edge of the landing pad. it is technically in bounds by my measures, but may have been counted as out of bounds by the javascript simulation. Should we leave as is?"
   ]
  },
  {
   "cell_type": "code",
   "execution_count": 72,
   "metadata": {},
   "outputs": [
    {
     "name": "stdout",
     "output_type": "stream",
     "text": [
      "skipping participant 6522a86994a5ce0d7bb9feba trial 9\n"
     ]
    },
    {
     "data": {
      "image/png": "[encoded data removed]",
      "text/plain": [
       "<Figure size 800x600 with 3 Axes>"
      ]
     },
     "metadata": {},
     "output_type": "display_data"
    }
   ],
   "source": [
    "fig, axs = plt.subplots(1,3, figsize=(8,6))\n",
    "n_trials = 20\n",
    "\n",
    "conditions = list(ids.keys())\n",
    "\n",
    "for a in range(len(axs)):\n",
    "    for i in range(len(ids[conditions[a]])):\n",
    "        part = ids[conditions[a]].iloc[i]\n",
    "        for trial in range(n_trials):\n",
    "            try:\n",
    "                reason = trial_file[(trial_file['prolific_id'] == part) & (trial_file['trial'] == trial+1)]['mistake'].values[0]\n",
    "                if 'speed' in reason and 'angle' not in reason:\n",
    "                    axs[a].plot(trial, i, 'ro')\n",
    "                elif 'angle' in reason and 'speed' not in reason:\n",
    "                    axs[a].plot(trial, i, 'bo')\n",
    "                elif 'angle' in reason and 'speed' in reason:\n",
    "                    axs[a].plot(trial, i, 'ko')\n",
    "            except:\n",
    "                print(f\"skipping participant {part} trial {trial}\")\n",
    "\n",
    "    axs[a].set_aspect('equal')\n",
    "    axs[a].set_title(f'{conditions[a]}')\n",
    "\n",
    "plt.show()"
   ]
  },
  {
   "cell_type": "markdown",
   "metadata": {},
   "source": [
    "### Are there different numbers of successful trials between conditions?"
   ]
  },
  {
   "cell_type": "code",
   "execution_count": 73,
   "metadata": {},
   "outputs": [
    {
     "name": "stdout",
     "output_type": "stream",
     "text": [
      "n_safe_landings    0     1     2     3     4     5     6     7     8     9   \\\n",
      "condition                                                                     \n",
      "full             0.02  0.04  0.07  0.09  0.02  0.09  0.07  0.09  0.07  0.02   \n",
      "score            0.18  0.04  0.04  0.02  0.04  0.02  0.02  0.02  0.04  0.09   \n",
      "text             0.09  0.07  0.07  0.04  0.04  0.09  0.11  0.04  0.04  0.04   \n",
      "\n",
      "n_safe_landings    10    11    12    13    14    15    16    17    18    19  \n",
      "condition                                                                    \n",
      "full             0.09  0.13  0.04  0.09  0.02  0.00  0.04  0.02  0.00  0.00  \n",
      "score            0.04  0.04  0.04  0.09  0.07  0.07  0.07  0.04  0.00  0.00  \n",
      "text             0.04  0.04  0.07  0.07  0.02  0.02  0.04  0.00  0.04  0.02  \n",
      "KruskalResult(statistic=0.40403237913950363, pvalue=0.8170816996339875)\n"
     ]
    }
   ],
   "source": [
    "utils.run_kruskal('n_safe_landings', part_file)"
   ]
  },
  {
   "cell_type": "code",
   "execution_count": 74,
   "metadata": {},
   "outputs": [
    {
     "name": "stdout",
     "output_type": "stream",
     "text": [
      "F_onewayResult(statistic=0.1544664794301834, pvalue=0.8570245676784923)\n"
     ]
    }
   ],
   "source": [
    "utils.run_anova('n_safe_landings', part_file)"
   ]
  },
  {
   "cell_type": "code",
   "execution_count": 75,
   "metadata": {},
   "outputs": [
    {
     "name": "stdout",
     "output_type": "stream",
     "text": [
      "n_unsafe_landings    1     2     3     4     5     6     7     8     9     10  \\\n",
      "condition                                                                       \n",
      "full               0.00  0.02  0.02  0.11  0.00  0.13  0.09  0.17  0.13  0.09   \n",
      "score              0.02  0.04  0.13  0.13  0.13  0.02  0.09  0.09  0.04  0.02   \n",
      "text               0.02  0.11  0.04  0.11  0.07  0.04  0.07  0.13  0.09  0.04   \n",
      "\n",
      "n_unsafe_landings    11    12    13    14    15    16  \n",
      "condition                                              \n",
      "full               0.13  0.04  0.02  0.02  0.00  0.02  \n",
      "score              0.09  0.07  0.09  0.02  0.00  0.00  \n",
      "text               0.11  0.11  0.04  0.00  0.02  0.00  \n",
      "KruskalResult(statistic=2.6519178902378977, pvalue=0.26554819081262687)\n"
     ]
    }
   ],
   "source": [
    "utils.run_kruskal('n_unsafe_landings', part_file)"
   ]
  },
  {
   "cell_type": "code",
   "execution_count": 76,
   "metadata": {},
   "outputs": [
    {
     "name": "stdout",
     "output_type": "stream",
     "text": [
      "F_onewayResult(statistic=1.4117046886173055, pvalue=0.24732849441554897)\n"
     ]
    }
   ],
   "source": [
    "utils.run_anova('n_unsafe_landings', part_file)"
   ]
  },
  {
   "cell_type": "code",
   "execution_count": 77,
   "metadata": {},
   "outputs": [
    {
     "name": "stdout",
     "output_type": "stream",
     "text": [
      "n_crashes    0     1     2     3     4     5     6     7     8     10    11  \\\n",
      "condition                                                                     \n",
      "full       0.13  0.20  0.09  0.15  0.07  0.07  0.09  0.11  0.04  0.02  0.04   \n",
      "score      0.07  0.18  0.11  0.16  0.07  0.04  0.07  0.16  0.07  0.00  0.02   \n",
      "text       0.13  0.07  0.13  0.11  0.07  0.13  0.09  0.11  0.04  0.02  0.04   \n",
      "\n",
      "n_crashes    12    13    16    17  \n",
      "condition                          \n",
      "full       0.00  0.00  0.00  0.00  \n",
      "score      0.00  0.02  0.02  0.02  \n",
      "text       0.02  0.02  0.00  0.02  \n",
      "KruskalResult(statistic=1.7063744591666914, pvalue=0.4260548310615224)\n"
     ]
    }
   ],
   "source": [
    "utils.run_kruskal('n_crashes', part_file)"
   ]
  },
  {
   "cell_type": "code",
   "execution_count": 78,
   "metadata": {},
   "outputs": [
    {
     "name": "stdout",
     "output_type": "stream",
     "text": [
      "F_onewayResult(statistic=1.1324355748023924, pvalue=0.32531158360812246)\n"
     ]
    }
   ],
   "source": [
    "utils.run_anova('n_crashes', part_file)"
   ]
  },
  {
   "cell_type": "markdown",
   "metadata": {},
   "source": [
    "### Differences in outcomes in first/last half of the experiment?"
   ]
  },
  {
   "cell_type": "code",
   "execution_count": 79,
   "metadata": {},
   "outputs": [
    {
     "name": "stdout",
     "output_type": "stream",
     "text": [
      "TtestResult(statistic=6.42601126121808, pvalue=5.839419658834739e-10, df=272.0)\n"
     ]
    }
   ],
   "source": [
    "utils.run_ttest_quantiles('Crash', [0.5, 0.5], part_file, trial_file)"
   ]
  },
  {
   "cell_type": "code",
   "execution_count": 80,
   "metadata": {},
   "outputs": [
    {
     "name": "stdout",
     "output_type": "stream",
     "text": [
      "TtestResult(statistic=0.8813891963603686, pvalue=0.3788853739506316, df=272.0)\n"
     ]
    }
   ],
   "source": [
    "utils.run_ttest_quantiles('Unsafe', [0.5, 0.5], part_file, trial_file)"
   ]
  },
  {
   "cell_type": "code",
   "execution_count": 81,
   "metadata": {},
   "outputs": [
    {
     "name": "stdout",
     "output_type": "stream",
     "text": [
      "TtestResult(statistic=-5.347808582405001, pvalue=1.8887492099418041e-07, df=272.0)\n"
     ]
    }
   ],
   "source": [
    "utils.run_ttest_quantiles('Safe', [0.5, 0.5], part_file, trial_file)"
   ]
  },
  {
   "cell_type": "code",
   "execution_count": 82,
   "metadata": {},
   "outputs": [
    {
     "name": "stdout",
     "output_type": "stream",
     "text": [
      "TtestResult(statistic=3.026951340479153, pvalue=0.0032398988937017725, df=88.0)\n"
     ]
    }
   ],
   "source": [
    "utils.run_ttest_quantiles('Crash', [0.5, 0.5], part_file, trial_file, idx=ids['score'])"
   ]
  },
  {
   "cell_type": "code",
   "execution_count": 83,
   "metadata": {},
   "outputs": [
    {
     "name": "stdout",
     "output_type": "stream",
     "text": [
      "TtestResult(statistic=1.5331069428702035, pvalue=0.1288369172670517, df=88.0)\n"
     ]
    }
   ],
   "source": [
    "utils.run_ttest_quantiles('Unsafe', [0.5, 0.5], part_file, trial_file, idx=ids['score'])"
   ]
  },
  {
   "cell_type": "code",
   "execution_count": 84,
   "metadata": {},
   "outputs": [
    {
     "name": "stdout",
     "output_type": "stream",
     "text": [
      "TtestResult(statistic=-3.1850684935869764, pvalue=0.0020023267771152697, df=88.0)\n"
     ]
    }
   ],
   "source": [
    "utils.run_ttest_quantiles('Safe', [0.5, 0.5], part_file, trial_file, idx=ids['score'])"
   ]
  },
  {
   "cell_type": "code",
   "execution_count": 85,
   "metadata": {},
   "outputs": [
    {
     "name": "stdout",
     "output_type": "stream",
     "text": [
      "TtestResult(statistic=3.5677218082154054, pvalue=0.0005796911536565601, df=90.0)\n"
     ]
    }
   ],
   "source": [
    "utils.run_ttest_quantiles('Crash', [0.5, 0.5], part_file, trial_file, idx=ids['text'])"
   ]
  },
  {
   "cell_type": "code",
   "execution_count": 86,
   "metadata": {},
   "outputs": [
    {
     "name": "stdout",
     "output_type": "stream",
     "text": [
      "TtestResult(statistic=-0.8343631557676711, pvalue=0.40628557143453614, df=90.0)\n"
     ]
    }
   ],
   "source": [
    "utils.run_ttest_quantiles('Unsafe', [0.5, 0.5], part_file, trial_file, idx=ids['text'])"
   ]
  },
  {
   "cell_type": "code",
   "execution_count": 87,
   "metadata": {},
   "outputs": [
    {
     "name": "stdout",
     "output_type": "stream",
     "text": [
      "TtestResult(statistic=-2.1131997972031957, pvalue=0.03735151112832957, df=90.0)\n"
     ]
    }
   ],
   "source": [
    "utils.run_ttest_quantiles('Safe', [0.5, 0.5], part_file, trial_file, idx=ids['text'])"
   ]
  },
  {
   "cell_type": "code",
   "execution_count": 88,
   "metadata": {},
   "outputs": [
    {
     "name": "stdout",
     "output_type": "stream",
     "text": [
      "TtestResult(statistic=4.720723780858188, pvalue=8.586253857861992e-06, df=90.0)\n"
     ]
    }
   ],
   "source": [
    "utils.run_ttest_quantiles('Crash', [0.5, 0.5], part_file, trial_file, idx=ids['full'])"
   ]
  },
  {
   "cell_type": "code",
   "execution_count": 89,
   "metadata": {},
   "outputs": [
    {
     "name": "stdout",
     "output_type": "stream",
     "text": [
      "TtestResult(statistic=0.893558875097702, pvalue=0.37394117316444864, df=90.0)\n"
     ]
    }
   ],
   "source": [
    "utils.run_ttest_quantiles('Unsafe', [0.5, 0.5], part_file, trial_file, idx=ids['full'])"
   ]
  },
  {
   "cell_type": "code",
   "execution_count": 90,
   "metadata": {},
   "outputs": [
    {
     "name": "stdout",
     "output_type": "stream",
     "text": [
      "TtestResult(statistic=-4.152592211179453, pvalue=7.459320283752578e-05, df=90.0)\n"
     ]
    }
   ],
   "source": [
    "utils.run_ttest_quantiles('Safe', [0.5, 0.5], part_file, trial_file, idx=ids['full'])"
   ]
  },
  {
   "cell_type": "code",
   "execution_count": 111,
   "metadata": {},
   "outputs": [],
   "source": [
    "trialsh1 = trial_file[trial_file['trial'] <= 10]\n",
    "outcomesh1 = pd.merge(trialsh1.groupby('prolific_id')['outcome'].value_counts().unstack(), part_file[['prolific_id', 'condition']], left_index=True, right_on='prolific_id')\n",
    "\n",
    "trialsh2 = trial_file[trial_file['trial'] > 10]\n",
    "outcomesh2 = pd.merge(trialsh2.groupby('prolific_id')['outcome'].value_counts().unstack(), part_file[['prolific_id', 'condition']], left_index=True, right_on='prolific_id')\n",
    "\n",
    "outcomesh2['safe_diffs'] = outcomesh2['Safe'] - outcomesh1['Safe']\n",
    "outcomesh2['unsafe_diffs'] = outcomesh2['Unsafe'] - outcomesh1['Unsafe']\n",
    "outcomesh2['crash_diffs'] = outcomesh2['Crash'] - outcomesh1['Crash']"
   ]
  },
  {
   "cell_type": "code",
   "execution_count": 112,
   "metadata": {},
   "outputs": [
    {
     "data": {
      "text/plain": [
       "F_onewayResult(statistic=1.6177853478651985, pvalue=0.20218693156258985)"
      ]
     },
     "execution_count": 112,
     "metadata": {},
     "output_type": "execute_result"
    }
   ],
   "source": [
    "stats.f_oneway(outcomesh2[outcomesh2['condition'] == 'score']['safe_diffs'],\n",
    "              outcomesh2[outcomesh2['condition'] == 'text']['safe_diffs'],\n",
    "              outcomesh2[outcomesh2['condition'] == 'full']['safe_diffs'])"
   ]
  },
  {
   "cell_type": "code",
   "execution_count": 113,
   "metadata": {},
   "outputs": [
    {
     "data": {
      "text/plain": [
       "KruskalResult(statistic=2.6571513802458013, pvalue=0.2648542272698107)"
      ]
     },
     "execution_count": 113,
     "metadata": {},
     "output_type": "execute_result"
    }
   ],
   "source": [
    "stats.kruskal(outcomesh2[outcomesh2['condition'] == 'score']['safe_diffs'],\n",
    "              outcomesh2[outcomesh2['condition'] == 'text']['safe_diffs'],\n",
    "              outcomesh2[outcomesh2['condition'] == 'full']['safe_diffs'])"
   ]
  },
  {
   "cell_type": "code",
   "execution_count": 114,
   "metadata": {},
   "outputs": [
    {
     "data": {
      "text/plain": [
       "F_onewayResult(statistic=2.950546564716512, pvalue=0.055719506456013784)"
      ]
     },
     "execution_count": 114,
     "metadata": {},
     "output_type": "execute_result"
    }
   ],
   "source": [
    "stats.f_oneway(outcomesh2[outcomesh2['condition'] == 'score']['unsafe_diffs'],\n",
    "              outcomesh2[outcomesh2['condition'] == 'text']['unsafe_diffs'],\n",
    "              outcomesh2[outcomesh2['condition'] == 'full']['unsafe_diffs'])"
   ]
  },
  {
   "cell_type": "code",
   "execution_count": 115,
   "metadata": {},
   "outputs": [
    {
     "data": {
      "text/plain": [
       "KruskalResult(statistic=6.955756966372621, pvalue=0.030872838851812433)"
      ]
     },
     "execution_count": 115,
     "metadata": {},
     "output_type": "execute_result"
    }
   ],
   "source": [
    "stats.kruskal(outcomesh2[outcomesh2['condition'] == 'score']['unsafe_diffs'],\n",
    "              outcomesh2[outcomesh2['condition'] == 'text']['unsafe_diffs'],\n",
    "              outcomesh2[outcomesh2['condition'] == 'full']['unsafe_diffs'])"
   ]
  },
  {
   "cell_type": "code",
   "execution_count": 117,
   "metadata": {},
   "outputs": [
    {
     "data": {
      "text/html": [
       "<div>\n",
       "<style scoped>\n",
       "    .dataframe tbody tr th:only-of-type {\n",
       "        vertical-align: middle;\n",
       "    }\n",
       "\n",
       "    .dataframe tbody tr th {\n",
       "        vertical-align: top;\n",
       "    }\n",
       "\n",
       "    .dataframe thead th {\n",
       "        text-align: right;\n",
       "    }\n",
       "</style>\n",
       "<table border=\"1\" class=\"dataframe\">\n",
       "  <thead>\n",
       "    <tr style=\"text-align: right;\">\n",
       "      <th></th>\n",
       "      <th>full</th>\n",
       "      <th>score</th>\n",
       "      <th>text</th>\n",
       "    </tr>\n",
       "  </thead>\n",
       "  <tbody>\n",
       "    <tr>\n",
       "      <th>full</th>\n",
       "      <td>1.000000</td>\n",
       "      <td>1.000000</td>\n",
       "      <td>0.227066</td>\n",
       "    </tr>\n",
       "    <tr>\n",
       "      <th>score</th>\n",
       "      <td>1.000000</td>\n",
       "      <td>1.000000</td>\n",
       "      <td>0.030101</td>\n",
       "    </tr>\n",
       "    <tr>\n",
       "      <th>text</th>\n",
       "      <td>0.227066</td>\n",
       "      <td>0.030101</td>\n",
       "      <td>1.000000</td>\n",
       "    </tr>\n",
       "  </tbody>\n",
       "</table>\n",
       "</div>"
      ],
      "text/plain": [
       "           full     score      text\n",
       "full   1.000000  1.000000  0.227066\n",
       "score  1.000000  1.000000  0.030101\n",
       "text   0.227066  0.030101  1.000000"
      ]
     },
     "execution_count": 117,
     "metadata": {},
     "output_type": "execute_result"
    }
   ],
   "source": [
    "sp.posthoc_dunn(outcomesh2, val_col='unsafe_diffs', group_col='condition', p_adjust='bonferroni')"
   ]
  },
  {
   "cell_type": "code",
   "execution_count": 118,
   "metadata": {},
   "outputs": [
    {
     "data": {
      "text/plain": [
       "F_onewayResult(statistic=0.484540766159667, pvalue=0.6170550233333271)"
      ]
     },
     "execution_count": 118,
     "metadata": {},
     "output_type": "execute_result"
    }
   ],
   "source": [
    "stats.f_oneway(outcomesh2[outcomesh2['condition'] == 'score']['crash_diffs'],\n",
    "              outcomesh2[outcomesh2['condition'] == 'text']['crash_diffs'],\n",
    "              outcomesh2[outcomesh2['condition'] == 'full']['crash_diffs'])"
   ]
  },
  {
   "cell_type": "code",
   "execution_count": 119,
   "metadata": {},
   "outputs": [
    {
     "data": {
      "text/plain": [
       "KruskalResult(statistic=0.5367345575747211, pvalue=0.7646268982848856)"
      ]
     },
     "execution_count": 119,
     "metadata": {},
     "output_type": "execute_result"
    }
   ],
   "source": [
    "stats.kruskal(outcomesh2[outcomesh2['condition'] == 'score']['crash_diffs'],\n",
    "              outcomesh2[outcomesh2['condition'] == 'text']['crash_diffs'],\n",
    "              outcomesh2[outcomesh2['condition'] == 'full']['crash_diffs'])"
   ]
  },
  {
   "cell_type": "code",
   "execution_count": 120,
   "metadata": {},
   "outputs": [
    {
     "data": {
      "text/html": [
       "<div>\n",
       "<style scoped>\n",
       "    .dataframe tbody tr th:only-of-type {\n",
       "        vertical-align: middle;\n",
       "    }\n",
       "\n",
       "    .dataframe tbody tr th {\n",
       "        vertical-align: top;\n",
       "    }\n",
       "\n",
       "    .dataframe thead th {\n",
       "        text-align: right;\n",
       "    }\n",
       "</style>\n",
       "<table border=\"1\" class=\"dataframe\">\n",
       "  <thead>\n",
       "    <tr style=\"text-align: right;\">\n",
       "      <th></th>\n",
       "      <th>crash_diffs</th>\n",
       "      <th>unsafe_diffs</th>\n",
       "      <th>safe_diffs</th>\n",
       "    </tr>\n",
       "    <tr>\n",
       "      <th>condition</th>\n",
       "      <th></th>\n",
       "      <th></th>\n",
       "      <th></th>\n",
       "    </tr>\n",
       "  </thead>\n",
       "  <tbody>\n",
       "    <tr>\n",
       "      <th>full</th>\n",
       "      <td>-1.83</td>\n",
       "      <td>-0.35</td>\n",
       "      <td>2.17</td>\n",
       "    </tr>\n",
       "    <tr>\n",
       "      <th>score</th>\n",
       "      <td>-1.40</td>\n",
       "      <td>-0.69</td>\n",
       "      <td>2.09</td>\n",
       "    </tr>\n",
       "    <tr>\n",
       "      <th>text</th>\n",
       "      <td>-1.67</td>\n",
       "      <td>0.37</td>\n",
       "      <td>1.35</td>\n",
       "    </tr>\n",
       "  </tbody>\n",
       "</table>\n",
       "</div>"
      ],
      "text/plain": [
       "           crash_diffs  unsafe_diffs  safe_diffs\n",
       "condition                                       \n",
       "full             -1.83         -0.35        2.17\n",
       "score            -1.40         -0.69        2.09\n",
       "text             -1.67          0.37        1.35"
      ]
     },
     "execution_count": 120,
     "metadata": {},
     "output_type": "execute_result"
    }
   ],
   "source": [
    "outcomesh2.groupby('condition')[['crash_diffs','unsafe_diffs','safe_diffs']].mean().round(2)"
   ]
  },
  {
   "cell_type": "markdown",
   "metadata": {},
   "source": [
    "### What about first and last quarter?"
   ]
  },
  {
   "cell_type": "code",
   "execution_count": 91,
   "metadata": {},
   "outputs": [
    {
     "name": "stdout",
     "output_type": "stream",
     "text": [
      "TtestResult(statistic=8.708347181087547, pvalue=3.048234499562215e-16, df=272.0)\n"
     ]
    }
   ],
   "source": [
    "utils.run_ttest_quantiles('Crash', [0.25, 0.75], part_file, trial_file)"
   ]
  },
  {
   "cell_type": "code",
   "execution_count": 92,
   "metadata": {},
   "outputs": [
    {
     "name": "stdout",
     "output_type": "stream",
     "text": [
      "TtestResult(statistic=1.4488855620559828, pvalue=0.14852139663957453, df=272.0)\n"
     ]
    }
   ],
   "source": [
    "utils.run_ttest_quantiles('Unsafe', [0.25, 0.75], part_file, trial_file)"
   ]
  },
  {
   "cell_type": "code",
   "execution_count": 93,
   "metadata": {},
   "outputs": [
    {
     "name": "stdout",
     "output_type": "stream",
     "text": [
      "TtestResult(statistic=-8.585671757343798, pvalue=7.080760230007296e-16, df=272.0)\n"
     ]
    }
   ],
   "source": [
    "utils.run_ttest_quantiles('Safe', [0.25, 0.75], part_file, trial_file)"
   ]
  },
  {
   "cell_type": "code",
   "execution_count": 94,
   "metadata": {},
   "outputs": [
    {
     "name": "stdout",
     "output_type": "stream",
     "text": [
      "TtestResult(statistic=4.196915011481976, pvalue=6.447463543840786e-05, df=88.0)\n"
     ]
    }
   ],
   "source": [
    "utils.run_ttest_quantiles('Crash', [0.25, 0.75], part_file, trial_file, idx=ids['score'])"
   ]
  },
  {
   "cell_type": "code",
   "execution_count": 95,
   "metadata": {},
   "outputs": [
    {
     "name": "stdout",
     "output_type": "stream",
     "text": [
      "TtestResult(statistic=1.4883011784456084, pvalue=0.14024637474374846, df=88.0)\n"
     ]
    }
   ],
   "source": [
    "utils.run_ttest_quantiles('Unsafe', [0.25, 0.75], part_file, trial_file, idx=ids['score'])"
   ]
  },
  {
   "cell_type": "code",
   "execution_count": 96,
   "metadata": {},
   "outputs": [
    {
     "name": "stdout",
     "output_type": "stream",
     "text": [
      "TtestResult(statistic=-4.890096469218257, pvalue=4.506240952251832e-06, df=88.0)\n"
     ]
    }
   ],
   "source": [
    "utils.run_ttest_quantiles('Safe', [0.25, 0.75], part_file, trial_file, idx=ids['score'])"
   ]
  },
  {
   "cell_type": "code",
   "execution_count": 97,
   "metadata": {},
   "outputs": [
    {
     "name": "stdout",
     "output_type": "stream",
     "text": [
      "TtestResult(statistic=5.258820388032773, pvalue=9.710123288098551e-07, df=90.0)\n"
     ]
    }
   ],
   "source": [
    "utils.run_ttest_quantiles('Crash', [0.25, 0.75], part_file, trial_file, idx=ids['text'])"
   ]
  },
  {
   "cell_type": "code",
   "execution_count": 98,
   "metadata": {},
   "outputs": [
    {
     "name": "stdout",
     "output_type": "stream",
     "text": [
      "TtestResult(statistic=-0.5719290198427756, pvalue=0.5687958277009968, df=90.0)\n"
     ]
    }
   ],
   "source": [
    "utils.run_ttest_quantiles('Unsafe', [0.25, 0.75], part_file, trial_file, idx=ids['text'])"
   ]
  },
  {
   "cell_type": "code",
   "execution_count": 99,
   "metadata": {},
   "outputs": [
    {
     "name": "stdout",
     "output_type": "stream",
     "text": [
      "TtestResult(statistic=-3.792837791693285, pvalue=0.00026934453066489194, df=90.0)\n"
     ]
    }
   ],
   "source": [
    "utils.run_ttest_quantiles('Safe', [0.25, 0.75], part_file, trial_file, idx=ids['text'])"
   ]
  },
  {
   "cell_type": "code",
   "execution_count": 100,
   "metadata": {},
   "outputs": [
    {
     "name": "stdout",
     "output_type": "stream",
     "text": [
      "TtestResult(statistic=5.952522654434597, pvalue=5.0037872772396944e-08, df=90.0)\n"
     ]
    }
   ],
   "source": [
    "utils.run_ttest_quantiles('Crash', [0.25, 0.75], part_file, trial_file, idx=ids['full'])"
   ]
  },
  {
   "cell_type": "code",
   "execution_count": 101,
   "metadata": {},
   "outputs": [
    {
     "name": "stdout",
     "output_type": "stream",
     "text": [
      "TtestResult(statistic=1.680399992113654, pvalue=0.09634737767740048, df=90.0)\n"
     ]
    }
   ],
   "source": [
    "utils.run_ttest_quantiles('Unsafe', [0.25, 0.75], part_file, trial_file, idx=ids['full'])"
   ]
  },
  {
   "cell_type": "code",
   "execution_count": 102,
   "metadata": {},
   "outputs": [
    {
     "name": "stdout",
     "output_type": "stream",
     "text": [
      "TtestResult(statistic=-6.418463814719516, pvalue=6.306000288633041e-09, df=90.0)\n"
     ]
    }
   ],
   "source": [
    "utils.run_ttest_quantiles('Safe', [0.25, 0.75], part_file, trial_file, idx=ids['full'])"
   ]
  },
  {
   "cell_type": "code",
   "execution_count": 103,
   "metadata": {},
   "outputs": [],
   "source": [
    "trialsq1 = trial_file[trial_file['trial'] <= 5]\n",
    "outcomesq1 = pd.merge(trialsq1.groupby('prolific_id')['outcome'].value_counts().unstack(), part_file[['prolific_id', 'condition']], left_index=True, right_on='prolific_id')\n",
    "\n",
    "trialsq4 = trial_file[trial_file['trial'] > 15]\n",
    "outcomesq4 = pd.merge(trialsq4.groupby('prolific_id')['outcome'].value_counts().unstack(), part_file[['prolific_id', 'condition']], left_index=True, right_on='prolific_id')\n",
    "\n",
    "outcomesq4['safe_diffs'] = outcomesq4['Safe'] - outcomesq1['Safe']\n",
    "outcomesq4['unsafe_diffs'] = outcomesq4['Unsafe'] - outcomesq1['Unsafe']\n",
    "outcomesq4['crash_diffs'] = outcomesq4['Crash'] - outcomesq1['Crash']"
   ]
  },
  {
   "cell_type": "code",
   "execution_count": 104,
   "metadata": {},
   "outputs": [
    {
     "data": {
      "text/plain": [
       "F_onewayResult(statistic=1.1829862712346384, pvalue=0.30954125702849083)"
      ]
     },
     "execution_count": 104,
     "metadata": {},
     "output_type": "execute_result"
    }
   ],
   "source": [
    "stats.f_oneway(outcomesq4[outcomesq4['condition'] == 'score']['safe_diffs'],\n",
    "              outcomesq4[outcomesq4['condition'] == 'text']['safe_diffs'],\n",
    "              outcomesq4[outcomesq4['condition'] == 'full']['safe_diffs'])"
   ]
  },
  {
   "cell_type": "code",
   "execution_count": 105,
   "metadata": {},
   "outputs": [
    {
     "data": {
      "text/plain": [
       "KruskalResult(statistic=2.159483084029801, pvalue=0.33968330816380404)"
      ]
     },
     "execution_count": 105,
     "metadata": {},
     "output_type": "execute_result"
    }
   ],
   "source": [
    "stats.kruskal(outcomesq4[outcomesq4['condition'] == 'score']['safe_diffs'],\n",
    "              outcomesq4[outcomesq4['condition'] == 'text']['safe_diffs'],\n",
    "              outcomesq4[outcomesq4['condition'] == 'full']['safe_diffs'])"
   ]
  },
  {
   "cell_type": "code",
   "execution_count": 106,
   "metadata": {},
   "outputs": [
    {
     "data": {
      "text/plain": [
       "F_onewayResult(statistic=1.757215850092768, pvalue=0.17647648263873533)"
      ]
     },
     "execution_count": 106,
     "metadata": {},
     "output_type": "execute_result"
    }
   ],
   "source": [
    "stats.f_oneway(outcomesq4[outcomesq4['condition'] == 'score']['unsafe_diffs'],\n",
    "              outcomesq4[outcomesq4['condition'] == 'text']['unsafe_diffs'],\n",
    "              outcomesq4[outcomesq4['condition'] == 'full']['unsafe_diffs'])"
   ]
  },
  {
   "cell_type": "code",
   "execution_count": 107,
   "metadata": {},
   "outputs": [
    {
     "data": {
      "text/plain": [
       "KruskalResult(statistic=3.919504207861307, pvalue=0.14089334349833166)"
      ]
     },
     "execution_count": 107,
     "metadata": {},
     "output_type": "execute_result"
    }
   ],
   "source": [
    "stats.kruskal(outcomesq4[outcomesq4['condition'] == 'score']['unsafe_diffs'],\n",
    "              outcomesq4[outcomesq4['condition'] == 'text']['unsafe_diffs'],\n",
    "              outcomesq4[outcomesq4['condition'] == 'full']['unsafe_diffs'])"
   ]
  },
  {
   "cell_type": "code",
   "execution_count": 108,
   "metadata": {},
   "outputs": [
    {
     "data": {
      "text/plain": [
       "F_onewayResult(statistic=0.13983531779202837, pvalue=0.8696281297612048)"
      ]
     },
     "execution_count": 108,
     "metadata": {},
     "output_type": "execute_result"
    }
   ],
   "source": [
    "stats.f_oneway(outcomesq4[outcomesq4['condition'] == 'score']['crash_diffs'],\n",
    "              outcomesq4[outcomesq4['condition'] == 'text']['crash_diffs'],\n",
    "              outcomesq4[outcomesq4['condition'] == 'full']['crash_diffs'])"
   ]
  },
  {
   "cell_type": "code",
   "execution_count": 109,
   "metadata": {},
   "outputs": [
    {
     "data": {
      "text/plain": [
       "KruskalResult(statistic=0.30337308857634976, pvalue=0.8592575777282471)"
      ]
     },
     "execution_count": 109,
     "metadata": {},
     "output_type": "execute_result"
    }
   ],
   "source": [
    "stats.kruskal(outcomesq4[outcomesq4['condition'] == 'score']['crash_diffs'],\n",
    "              outcomesq4[outcomesq4['condition'] == 'text']['crash_diffs'],\n",
    "              outcomesq4[outcomesq4['condition'] == 'full']['crash_diffs'])"
   ]
  },
  {
   "cell_type": "code",
   "execution_count": 110,
   "metadata": {},
   "outputs": [
    {
     "data": {
      "text/html": [
       "<div>\n",
       "<style scoped>\n",
       "    .dataframe tbody tr th:only-of-type {\n",
       "        vertical-align: middle;\n",
       "    }\n",
       "\n",
       "    .dataframe tbody tr th {\n",
       "        vertical-align: top;\n",
       "    }\n",
       "\n",
       "    .dataframe thead th {\n",
       "        text-align: right;\n",
       "    }\n",
       "</style>\n",
       "<table border=\"1\" class=\"dataframe\">\n",
       "  <thead>\n",
       "    <tr style=\"text-align: right;\">\n",
       "      <th></th>\n",
       "      <th>crash_diffs</th>\n",
       "      <th>unsafe_diffs</th>\n",
       "      <th>safe_diffs</th>\n",
       "    </tr>\n",
       "    <tr>\n",
       "      <th>condition</th>\n",
       "      <th></th>\n",
       "      <th></th>\n",
       "      <th></th>\n",
       "    </tr>\n",
       "  </thead>\n",
       "  <tbody>\n",
       "    <tr>\n",
       "      <th>full</th>\n",
       "      <td>-1.391304</td>\n",
       "      <td>-0.413043</td>\n",
       "      <td>1.804348</td>\n",
       "    </tr>\n",
       "    <tr>\n",
       "      <th>score</th>\n",
       "      <td>-1.266667</td>\n",
       "      <td>-0.400000</td>\n",
       "      <td>1.666667</td>\n",
       "    </tr>\n",
       "    <tr>\n",
       "      <th>text</th>\n",
       "      <td>-1.434783</td>\n",
       "      <td>0.152174</td>\n",
       "      <td>1.282609</td>\n",
       "    </tr>\n",
       "  </tbody>\n",
       "</table>\n",
       "</div>"
      ],
      "text/plain": [
       "           crash_diffs  unsafe_diffs  safe_diffs\n",
       "condition                                       \n",
       "full         -1.391304     -0.413043    1.804348\n",
       "score        -1.266667     -0.400000    1.666667\n",
       "text         -1.434783      0.152174    1.282609"
      ]
     },
     "execution_count": 110,
     "metadata": {},
     "output_type": "execute_result"
    }
   ],
   "source": [
    "outcomesq4.groupby('condition')[['crash_diffs','unsafe_diffs','safe_diffs']].mean()"
   ]
  },
  {
   "cell_type": "markdown",
   "metadata": {},
   "source": [
    "### Look at robustness and efficiency"
   ]
  },
  {
   "cell_type": "code",
   "execution_count": null,
   "metadata": {},
   "outputs": [],
   "source": [
    "# what are max and min values for the robustness and efficiency measures?\n",
    "robustness_cols = ['left_boundary',\t'right_boundary', 'top_boundary', 'bottom_boundary', 'landing_left', 'landing_right', 'landing_speed','landing_angle']\n",
    "robustness_files = glob.glob(f'{data_dir}*/*/robustness.csv')\n",
    "robustness_vals = {v : {'max':-99999, 'min':99999} for v in robustness_cols}"
   ]
  },
  {
   "cell_type": "code",
   "execution_count": null,
   "metadata": {},
   "outputs": [],
   "source": [
    "for f in robustness_files:\n",
    "    df = pd.read_csv(f)\n",
    "    for col in robustness_cols:\n",
    "        if df[col].min() < robustness_vals[col]['min']:\n",
    "            robustness_vals[col]['min'] = min(df[col])\n",
    "        if df[col].max() > robustness_vals[col]['max']:\n",
    "            robustness_vals[col]['max'] = max(df[col])\n",
    "\n",
    "robustness_vals"
   ]
  },
  {
   "cell_type": "code",
   "execution_count": null,
   "metadata": {},
   "outputs": [],
   "source": [
    "fig, axs = plt.subplots(1,4, figsize=(10,6))\n",
    "n_trials = 20\n",
    "var = 'landing_speed'\n",
    "\n",
    "cmap = mpl.cm.seismic\n",
    "norm = mpl.colors.Normalize(vmin=robustness_vals[var]['max'], vmax=robustness_vals[var]['min'])\n",
    "\n",
    "conditions = list(ids.keys())\n",
    "\n",
    "for a in range(len(axs)-1):\n",
    "    for i in range(len(ids[conditions[a]])):\n",
    "        part = ids[conditions[a]].iloc[i]\n",
    "        data = pd.read_csv(data_dir + part + '/survey_responses.csv')\n",
    "        for trial in range(n_trials):\n",
    "            try:\n",
    "                outcome = data[data['trial'] == trial+1]['outcome'].values[0]\n",
    "                if outcome in ['Safe', 'Unsafe']:\n",
    "                    trial_data = pd.read_csv(f\"{data_dir}{part}/trial_{trial+1}/robustness.csv\")\n",
    "                    val = trial_data.iloc[-1][var]\n",
    "                    val_normed = (val - robustness_vals[var]['min'])/(robustness_vals[var]['max'] - robustness_vals[var]['min'])\n",
    "                    c = cmap(val_normed)\n",
    "                    axs[a].plot(trial, i, marker='o', color=c)\n",
    "            except:\n",
    "                print(f\"skipping participant {part} trial {trial}\")\n",
    "\n",
    "    axs[a].set_aspect('equal')\n",
    "    axs[a].set_title(f'{conditions[a]}')\n",
    "\n",
    "fig.colorbar(mpl.cm.ScalarMappable(norm=norm, cmap=cmap), orientation='vertical', label='robustness',cax=axs[-1])\n",
    "plt.show()"
   ]
  },
  {
   "cell_type": "code",
   "execution_count": null,
   "metadata": {},
   "outputs": [],
   "source": [
    "fig, axs = plt.subplots(1,4, figsize=(10,6))\n",
    "n_trials = 20\n",
    "var = 'landing_angle'\n",
    "\n",
    "cmap = mpl.cm.seismic\n",
    "norm = mpl.colors.Normalize(vmin=robustness_vals[var]['min'], vmax=robustness_vals[var]['max'])\n",
    "\n",
    "conditions = list(ids.keys())\n",
    "\n",
    "for a in range(len(axs)-1):\n",
    "    for i in range(len(ids[conditions[a]])):\n",
    "        part = ids[conditions[a]].iloc[i]\n",
    "        data = pd.read_csv(data_dir + part + '/survey_responses.csv')\n",
    "        for trial in range(n_trials):\n",
    "            try:\n",
    "                outcome = data[data['trial'] == trial+1]['outcome'].values[0]\n",
    "                if outcome in ['Safe', 'Unsafe']:\n",
    "                    trial_data = pd.read_csv(f\"{data_dir}{part}/trial_{trial+1}/robustness.csv\")\n",
    "                    val = trial_data.iloc[-1][var]\n",
    "                    val_normed = (val - robustness_vals[var]['min'])/(robustness_vals[var]['max'] - robustness_vals[var]['min'])\n",
    "                    c = cmap(val_normed)\n",
    "                    axs[a].plot(trial, i, marker='o', color=c)\n",
    "            except:\n",
    "                print(f\"skipping participant {part} trial {trial}\")\n",
    "\n",
    "    axs[a].set_aspect('equal')\n",
    "    axs[a].set_title(f'{conditions[a]}')\n",
    "\n",
    "fig.colorbar(mpl.cm.ScalarMappable(norm=norm, cmap=cmap), orientation='vertical', label='robustness',cax=axs[-1])\n",
    "plt.show()"
   ]
  },
  {
   "cell_type": "markdown",
   "metadata": {},
   "source": [
    "# Pulling out qualitative stuff"
   ]
  },
  {
   "cell_type": "markdown",
   "metadata": {},
   "source": [
    "Grab all the images. This only needs to be done once."
   ]
  },
  {
   "cell_type": "code",
   "execution_count": null,
   "metadata": {},
   "outputs": [],
   "source": [
    "utils.copy_images(part_file['prolific_id'])"
   ]
  }
 ],
 "metadata": {
  "kernelspec": {
   "display_name": "venv",
   "language": "python",
   "name": "python3"
  },
  "language_info": {
   "codemirror_mode": {
    "name": "ipython",
    "version": 3
   },
   "file_extension": ".py",
   "mimetype": "text/x-python",
   "name": "python",
   "nbconvert_exporter": "python",
   "pygments_lexer": "ipython3",
   "version": "3.10.4"
  }
 },
 "nbformat": 4,
 "nbformat_minor": 2
}

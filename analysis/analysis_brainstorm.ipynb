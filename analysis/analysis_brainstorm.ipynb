{
 "cells": [
  {
   "cell_type": "markdown",
   "metadata": {},
   "source": [
    "# Run this on startup"
   ]
  },
  {
   "cell_type": "code",
   "execution_count": 1,
   "metadata": {},
   "outputs": [
    {
     "name": "stderr",
     "output_type": "stream",
     "text": [
      "C:\\Users\\Emily Jensen\\AppData\\Local\\Temp\\ipykernel_11604\\4080736814.py:1: DeprecationWarning: \n",
      "Pyarrow will become a required dependency of pandas in the next major release of pandas (pandas 3.0),\n",
      "(to allow more performant data types, such as the Arrow string type, and better interoperability with other libraries)\n",
      "but was not found to be installed on your system.\n",
      "If this would cause problems for you,\n",
      "please provide us feedback at https://github.com/pandas-dev/pandas/issues/54466\n",
      "        \n",
      "  import pandas as pd\n"
     ]
    }
   ],
   "source": [
    "import pandas as pd"
   ]
  },
  {
   "cell_type": "markdown",
   "metadata": {},
   "source": [
    "Open all of the relevant data files/directories"
   ]
  },
  {
   "cell_type": "code",
   "execution_count": 9,
   "metadata": {},
   "outputs": [],
   "source": [
    "data_dir = '../static/data/'\n",
    "\n",
    "conditions_file = data_dir + 'conditions.csv'\n",
    "conditions = pd.read_csv(conditions_file)\n",
    "\n",
    "exit_survey_file = data_dir + 'exit_survey.csv'\n",
    "exit_survey = pd.read_csv(exit_survey_file)\n",
    "exit_survey = exit_survey.drop([0,1]) # drop extra qualtrics rows"
   ]
  },
  {
   "cell_type": "markdown",
   "metadata": {},
   "source": [
    "Define mapping between qualtrics question number and something understandable by people. Only relevant columns are defined here."
   ]
  },
  {
   "cell_type": "code",
   "execution_count": 32,
   "metadata": {},
   "outputs": [],
   "source": [
    "qualtrics_columns = {\n",
    "    'start_date': 'StartDate',\n",
    "    'end_date': 'EndDate',\n",
    "    'duration': 'Duration (in seconds)',\n",
    "    'finished': 'Finished', # 1 is finished\n",
    "    'prolific_id': 'Q9', # user inputted prolific id\n",
    "    'gender': 'Q1', # mapping below\n",
    "    'age': 'Q8', # number input\n",
    "    'drone_experience': 'Q3', # mapping below\n",
    "    'video_game_experience': 'Q4', # mapping below\n",
    "    'feedback_helped': 'Q5', # likert mapping below\n",
    "    'change_from_feedback': 'Q6', # open text response\n",
    "    'comments': 'Q7' # open text response, optional\n",
    "}\n",
    "\n",
    "gender_map = {'1': \"Man\", '2': \"Woman\", '3': \"Non-binary\", '4': \"Prefer not to say\"}\n",
    "drone_map = {'1': \"None\", '2': \"Some\", '3': \"Regularly\", '4': \"Professional\"}\n",
    "game_map = {'1': \"None\", '2': \"Monthly\", '3': \"Weekly\", '4': \"Daily\"}\n",
    "likert_map = {'1': \"Strongly Disagree\", '2': \"Disagree\", '3': \"Neutral\", '4': \"Agree\", '5': \"Strongly Agree\"}"
   ]
  },
  {
   "cell_type": "markdown",
   "metadata": {},
   "source": [
    "# Check participant data"
   ]
  },
  {
   "cell_type": "markdown",
   "metadata": {},
   "source": [
    "## Match data sources"
   ]
  },
  {
   "cell_type": "markdown",
   "metadata": {},
   "source": [
    "Do participants match between data from webpage and data from exit survey?"
   ]
  },
  {
   "cell_type": "code",
   "execution_count": 15,
   "metadata": {},
   "outputs": [
    {
     "name": "stdout",
     "output_type": "stream",
     "text": [
      "Web participants not in exit survey:\n",
      "\tbreanne\n",
      "\temily\n",
      "\temily\n",
      "\tShivendra Agrawal\n",
      "\temily\n",
      "\temily\n",
      "\temily\n",
      "\temily\n",
      "\temily\n",
      "\temily\n",
      "Exit survey participants not in web:\n",
      "\tb\n",
      "\tShivendra\n",
      "\t8aksf09q\n",
      "\tapel09210h\n",
      "\t9sk3h59s\n",
      "\t9wbnns76\n",
      "\ts92hfks3\n"
     ]
    }
   ],
   "source": [
    "web_participants = conditions['user_id']\n",
    "exit_survey_participants = exit_survey[qualtrics_columns['prolific_id']]\n",
    "\n",
    "# check if all web participants are in exit survey\n",
    "print(\"Web participants not in exit survey:\")\n",
    "for user_id in web_participants:\n",
    "    if user_id not in exit_survey_participants:\n",
    "        print(\"\\t\" + user_id)\n",
    "\n",
    "# check if all exit survey participants are in web\n",
    "print(\"Exit survey participants not in web:\")\n",
    "for user_id in exit_survey_participants:\n",
    "    if user_id not in web_participants:\n",
    "        print(\"\\t\" + user_id)"
   ]
  },
  {
   "cell_type": "markdown",
   "metadata": {},
   "source": [
    "Notes about manually fixing mismatches between web and exit survey data:\n",
    "- Example here"
   ]
  },
  {
   "cell_type": "markdown",
   "metadata": {},
   "source": [
    "## Distributions of demographic data"
   ]
  },
  {
   "cell_type": "code",
   "execution_count": 25,
   "metadata": {},
   "outputs": [
    {
     "data": {
      "text/plain": [
       "Q1\n",
       "Man                  3\n",
       "Woman                2\n",
       "Non-binary           1\n",
       "Prefer not to say    1\n",
       "Name: count, dtype: int64"
      ]
     },
     "execution_count": 25,
     "metadata": {},
     "output_type": "execute_result"
    }
   ],
   "source": [
    "gender_counts = exit_survey[qualtrics_columns['gender']].value_counts()\n",
    "gender_counts_renamed = gender_counts.rename(index=gender_map)\n",
    "gender_counts_renamed"
   ]
  },
  {
   "cell_type": "code",
   "execution_count": 27,
   "metadata": {},
   "outputs": [
    {
     "data": {
      "text/plain": [
       "count     7.000000\n",
       "mean     36.000000\n",
       "std      19.373521\n",
       "min      19.000000\n",
       "25%      24.500000\n",
       "50%      31.000000\n",
       "75%      38.500000\n",
       "max      76.000000\n",
       "Name: Q8, dtype: float64"
      ]
     },
     "execution_count": 27,
     "metadata": {},
     "output_type": "execute_result"
    }
   ],
   "source": [
    "exit_survey[qualtrics_columns['age']].astype(int).describe()"
   ]
  },
  {
   "cell_type": "code",
   "execution_count": 30,
   "metadata": {},
   "outputs": [
    {
     "data": {
      "text/plain": [
       "Q3\n",
       "Some            4\n",
       "None            1\n",
       "Regularly       1\n",
       "Professional    1\n",
       "Name: count, dtype: int64"
      ]
     },
     "execution_count": 30,
     "metadata": {},
     "output_type": "execute_result"
    }
   ],
   "source": [
    "drone_experience_counts = exit_survey[qualtrics_columns['drone_experience']].value_counts()\n",
    "drone_experience_counts_renamed = drone_experience_counts.rename(index=drone_map)\n",
    "drone_experience_counts_renamed"
   ]
  },
  {
   "cell_type": "code",
   "execution_count": 33,
   "metadata": {},
   "outputs": [
    {
     "data": {
      "text/plain": [
       "Q4\n",
       "Weekly     3\n",
       "None       2\n",
       "Monthly    1\n",
       "Daily      1\n",
       "Name: count, dtype: int64"
      ]
     },
     "execution_count": 33,
     "metadata": {},
     "output_type": "execute_result"
    }
   ],
   "source": [
    "game_experience_counts = exit_survey[qualtrics_columns['video_game_experience']].value_counts()\n",
    "game_experience_counts_renamed = game_experience_counts.rename(index=game_map)\n",
    "game_experience_counts_renamed"
   ]
  },
  {
   "cell_type": "code",
   "execution_count": 34,
   "metadata": {},
   "outputs": [
    {
     "data": {
      "text/plain": [
       "Q5\n",
       "Agree                3\n",
       "Strongly Disagree    1\n",
       "Disagree             1\n",
       "Neutral              1\n",
       "Strongly Agree       1\n",
       "Name: count, dtype: int64"
      ]
     },
     "execution_count": 34,
     "metadata": {},
     "output_type": "execute_result"
    }
   ],
   "source": [
    "feedback_helped_counts = exit_survey[qualtrics_columns['feedback_helped']].value_counts()\n",
    "feedback_helped_counts_renamed = feedback_helped_counts.rename(index=likert_map)\n",
    "feedback_helped_counts_renamed"
   ]
  },
  {
   "cell_type": "code",
   "execution_count": null,
   "metadata": {},
   "outputs": [],
   "source": []
  }
 ],
 "metadata": {
  "kernelspec": {
   "display_name": "venv",
   "language": "python",
   "name": "python3"
  },
  "language_info": {
   "codemirror_mode": {
    "name": "ipython",
    "version": 3
   },
   "file_extension": ".py",
   "mimetype": "text/x-python",
   "name": "python",
   "nbconvert_exporter": "python",
   "pygments_lexer": "ipython3",
   "version": "3.10.4"
  }
 },
 "nbformat": 4,
 "nbformat_minor": 2
}

{
 "cells": [
  {
   "cell_type": "markdown",
   "metadata": {},
   "source": [
    "# Imports"
   ]
  },
  {
   "cell_type": "code",
   "execution_count": 1,
   "metadata": {},
   "outputs": [],
   "source": [
    "import warnings\n",
    "warnings.filterwarnings(\"ignore\")\n",
    "\n",
    "import pandas as pd\n",
    "import matplotlib.pyplot as plt\n",
    "import matplotlib as mpl\n",
    "import glob\n",
    "import scipy.stats as stats\n",
    "import scikit_posthocs as sp\n",
    "import numpy as np\n",
    "\n",
    "import utils # offload data processing into .py file"
   ]
  },
  {
   "cell_type": "code",
   "execution_count": 2,
   "metadata": {},
   "outputs": [],
   "source": [
    "data_dir = 'C:/Users/Emily Jensen/OneDrive - UCB-O365/Drone Feedback Data/data/'\n",
    "\n",
    "# data_dir = '/Users/emilyjensen/Library/CloudStorage/OneDrive-UCB-O365/Drone Feedback Data/data/'"
   ]
  },
  {
   "cell_type": "markdown",
   "metadata": {},
   "source": [
    "Open all of the relevant data files/directories\n",
    "\n",
    "Emily downloaded the final data and Qualtrics surveys on 5/17/24"
   ]
  },
  {
   "cell_type": "markdown",
   "metadata": {},
   "source": [
    "Qualtrics export settings:\n",
    "\n",
    "<img src=\"qualtrics_export_settings.png\" alt=\"Qualtrics Export Settings\" width=\"500px\">"
   ]
  },
  {
   "cell_type": "markdown",
   "metadata": {},
   "source": [
    "# Load Data"
   ]
  },
  {
   "cell_type": "markdown",
   "metadata": {},
   "source": [
    "Notes on participants that seem to have restarted the experiment:\n",
    "- `5bd49bcc25db7b0001794063` restarted after trial 1 - KEEP\n",
    "- `5c90094e71f3100016181ea9` restarted after trial 3 and again after trial 1 - KEEP\n",
    "- `5ef9f528c7ae587afa25fe9b` restarted after trial 6 - REMOVE\n",
    "- `60fcc292d13ae9614d4a77a7` restarted after trial 3 - KEEP\n",
    "- `6105c41aa4fe602501d5a8cc` restarted after trial 8 - REMOVE\n",
    "- `610796f1301fccdca446af57` restarted after trial 7 - REMOVE\n",
    "- `629658baad2881aba974c6c3` restarted after trial 2 - KEEP\n",
    "- `63026a8fd8429b224cd2a134` restarted before completing trial 1 - KEEP\n",
    "- `631f1b608af38f654d2a3b1f` restarted after trial 15 - REMOVE\n",
    "- `637d4196c70a66e28ecede34` restarted before completing trial 1 - KEEP\n",
    "- `6388b6c86e47b08e1eded1fd` restarted before completing trial 1 - KEEP\n",
    "- `63ba10de73415d047e1d6731` restarted after trial 5 and again after trial 1 - REMOVE\n",
    "- `643c6175d46d41e74033994f` restarted after trial 8 and again after trial 1 - REMOVE\n",
    "- `652ab7948cb59f4c50c7972a` restarted after trial 1 - KEEP\n",
    "- `6596a5cad60ef105b6c18897` restarted after trial 1 - KEEP\n",
    "- `65cba99c92b362b45e414da7` restarted after trial 17 - REMOVE\n",
    "\n",
    "We will keep the participants who complete less than 5 trials before completing a complete run.\n",
    "\n",
    "Participant `6400dc9f84ed19aeedc1a2cc` seems to have filled out the qualtrics survey twice. The numerical data are the same and the free response questions have very similar content so I feel fine only keeping the first entry.\n",
    "\n",
    "This has been implemented in `utils.load_data()`"
   ]
  },
  {
   "cell_type": "markdown",
   "metadata": {},
   "source": [
    "Participants removed for not providing a good-faith effort:\n",
    "\n",
    "- `63026a8fd8429b224cd2a134` \n",
    "- `637d4196c70a66e28ecede34` \n",
    "- `5f90581950d8520e8c7d3890`\n",
    "- `60706b67613f243aabd7f7bf`\n",
    "\n",
    "These participants crashed on every trial and never used horizontal inputs"
   ]
  },
  {
   "cell_type": "code",
   "execution_count": 3,
   "metadata": {},
   "outputs": [
    {
     "name": "stdout",
     "output_type": "stream",
     "text": [
      "Dropped 8 duplicate IDs:\n",
      "['5bd49bcc25db7b0001794063' '5c90094e71f3100016181ea9'\n",
      " '60fcc292d13ae9614d4a77a7' '629658baad2881aba974c6c3'\n",
      " '6388b6c86e47b08e1eded1fd' '6400dc9f84ed19aeedc1a2cc'\n",
      " '652ab7948cb59f4c50c7972a' '6596a5cad60ef105b6c18897']\n",
      "Final number of IDs in participant file: 167\n",
      "Final number of IDs in trial file: 167\n"
     ]
    }
   ],
   "source": [
    "part_file, trial_file, ids = utils.load_data()"
   ]
  },
  {
   "cell_type": "markdown",
   "metadata": {},
   "source": [
    "# Basic stats\n",
    "\n",
    "This is after filtering out participants that restarted the experiment"
   ]
  },
  {
   "cell_type": "code",
   "execution_count": 4,
   "metadata": {},
   "outputs": [
    {
     "name": "stdout",
     "output_type": "stream",
     "text": [
      "           count  proportion\n",
      "condition                   \n",
      "demo           0        0.00\n",
      "full          56        0.34\n",
      "score         55        0.33\n",
      "text          56        0.34\n",
      "            count  proportion\n",
      "gender                       \n",
      "Man            73        0.44\n",
      "Non-binary      7        0.04\n",
      "Woman          87        0.52\n",
      "                  count  proportion\n",
      "drone_experience                   \n",
      "None                136        0.81\n",
      "Some                 26        0.16\n",
      "Regularly             5        0.03\n",
      "Professional          0        0.00\n",
      "                       count  proportion\n",
      "video_game_experience                   \n",
      "None                      30        0.18\n",
      "Monthly                   46        0.28\n",
      "Weekly                    40        0.24\n",
      "Daily                     51        0.31\n",
      "                   count  proportion\n",
      "feedback_helped                     \n",
      "Strongly Disagree     23        0.14\n",
      "Disagree              22        0.13\n",
      "Neutral               26        0.16\n",
      "Agree                 71        0.43\n",
      "Strongly Agree        25        0.15\n",
      "                           count  proportion\n",
      "feedback_helped_collapsed                   \n",
      "Disagree                      45        0.27\n",
      "Neutral                       26        0.16\n",
      "Agree                         96        0.57\n",
      "\n",
      "age:\n",
      "count    167.00\n",
      "mean      38.02\n",
      "std       12.53\n",
      "min       18.00\n",
      "25%       28.00\n",
      "50%       35.00\n",
      "75%       47.00\n",
      "max       74.00\n",
      "Name: age, dtype: float64\n",
      "\n",
      "total_time_seconds:\n",
      "count     167.00\n",
      "mean     1746.99\n",
      "std       614.49\n",
      "min       805.44\n",
      "25%      1314.83\n",
      "50%      1581.18\n",
      "75%      2025.21\n",
      "max      5192.21\n",
      "Name: total_time_seconds, dtype: float64\n",
      "\n",
      "avg_feedback_time_seconds:\n",
      "count    167.00\n",
      "mean      28.12\n",
      "std       11.08\n",
      "min        0.86\n",
      "25%       20.65\n",
      "50%       27.34\n",
      "75%       33.13\n",
      "max       76.66\n",
      "Name: avg_feedback_time_seconds, dtype: float64\n",
      "\n",
      "n_safe_landings:\n",
      "count    167.00\n",
      "mean       8.22\n",
      "std        5.28\n",
      "min        0.00\n",
      "25%        4.00\n",
      "50%        8.00\n",
      "75%       13.00\n",
      "max       19.00\n",
      "Name: n_safe_landings, dtype: float64\n"
     ]
    }
   ],
   "source": [
    "utils.run_basic_stats(part_file)"
   ]
  },
  {
   "cell_type": "markdown",
   "metadata": {},
   "source": [
    "# Research Themes"
   ]
  },
  {
   "cell_type": "code",
   "execution_count": 17,
   "metadata": {},
   "outputs": [
    {
     "data": {
      "text/html": [
       "<div>\n",
       "<style scoped>\n",
       "    .dataframe tbody tr th:only-of-type {\n",
       "        vertical-align: middle;\n",
       "    }\n",
       "\n",
       "    .dataframe tbody tr th {\n",
       "        vertical-align: top;\n",
       "    }\n",
       "\n",
       "    .dataframe thead th {\n",
       "        text-align: right;\n",
       "    }\n",
       "</style>\n",
       "<table border=\"1\" class=\"dataframe\">\n",
       "  <thead>\n",
       "    <tr style=\"text-align: right;\">\n",
       "      <th>mode_actionable_collapsed</th>\n",
       "      <th>Disagree</th>\n",
       "      <th>Neutral</th>\n",
       "      <th>Agree</th>\n",
       "    </tr>\n",
       "    <tr>\n",
       "      <th>condition</th>\n",
       "      <th></th>\n",
       "      <th></th>\n",
       "      <th></th>\n",
       "    </tr>\n",
       "  </thead>\n",
       "  <tbody>\n",
       "    <tr>\n",
       "      <th>score</th>\n",
       "      <td>0.381818</td>\n",
       "      <td>0.272727</td>\n",
       "      <td>0.345455</td>\n",
       "    </tr>\n",
       "    <tr>\n",
       "      <th>text</th>\n",
       "      <td>0.160714</td>\n",
       "      <td>0.142857</td>\n",
       "      <td>0.696429</td>\n",
       "    </tr>\n",
       "    <tr>\n",
       "      <th>full</th>\n",
       "      <td>0.125000</td>\n",
       "      <td>0.214286</td>\n",
       "      <td>0.660714</td>\n",
       "    </tr>\n",
       "  </tbody>\n",
       "</table>\n",
       "</div>"
      ],
      "text/plain": [
       "mode_actionable_collapsed  Disagree   Neutral     Agree\n",
       "condition                                              \n",
       "score                      0.381818  0.272727  0.345455\n",
       "text                       0.160714  0.142857  0.696429\n",
       "full                       0.125000  0.214286  0.660714"
      ]
     },
     "execution_count": 17,
     "metadata": {},
     "output_type": "execute_result"
    }
   ],
   "source": [
    "table = part_file.groupby(['condition', 'mode_actionable_collapsed']).size().unstack()\n",
    "table = table.drop('demo')\n",
    "table = table.div(table.sum(axis=1), axis=0)\n",
    "order_of_conditions = ['score', 'text', 'full']  # Replace with your actual condition names\n",
    "table = table.loc[order_of_conditions]\n",
    "\n",
    "order_of_survey_responses = ['Disagree', 'Neutral', 'Agree']\n",
    "table = table[order_of_survey_responses]\n",
    "\n",
    "table"
   ]
  },
  {
   "cell_type": "code",
   "execution_count": 53,
   "metadata": {},
   "outputs": [
    {
     "data": {
      "image/png": "[encoded data removed]",
      "text/plain": [
       "<Figure size 600x300 with 1 Axes>"
      ]
     },
     "metadata": {},
     "output_type": "display_data"
    }
   ],
   "source": [
    "custom_colors = ['#CC6677', '#DDCC77', '#999933']\n",
    "ax = table.plot(kind='barh', stacked=True, color=custom_colors, edgecolor='black', figsize=(6,3))\n",
    "\n",
    "custom_y_labels = ['Baseline', 'Text', 'Multimodal']\n",
    "ax.set_yticklabels(custom_y_labels)\n",
    "\n",
    "plt.xlabel('Proportion of Responses')\n",
    "plt.ylabel('Feedback Condition')\n",
    "plt.legend(loc='upper center', bbox_to_anchor=(0.5, 1.1), ncol=3)\n",
    "plt.xticks(rotation=0)\n",
    "\n",
    "ax.spines['top'].set_visible(False)\n",
    "ax.spines['right'].set_visible(False)\n",
    "ax.spines['left'].set_visible(False)\n",
    "ax.spines['bottom'].set_visible(False)\n",
    "\n",
    "ax.set_xticks([])\n",
    "\n",
    "for i in range(len(table)):\n",
    "    cumulative_sum=0\n",
    "    for j in range(len(order_of_survey_responses)):\n",
    "        percentage = table.iloc[i, j]\n",
    "        if percentage > 0:  # Add text only for non-zero proportions\n",
    "            #print(f\"{order_of_conditions[i]} {order_of_survey_responses[j]}: {percentage:.1f}\")\n",
    "            ax.text(cumulative_sum + (percentage / 2), i, f'{percentage*100:.1f}%', va='center', \n",
    "                    ha='center', color='black', fontsize=8, fontweight='bold')\n",
    "        cumulative_sum += percentage\n",
    "\n",
    "plt.show()"
   ]
  },
  {
   "cell_type": "code",
   "execution_count": 47,
   "metadata": {},
   "outputs": [
    {
     "data": {
      "text/html": [
       "<div>\n",
       "<style scoped>\n",
       "    .dataframe tbody tr th:only-of-type {\n",
       "        vertical-align: middle;\n",
       "    }\n",
       "\n",
       "    .dataframe tbody tr th {\n",
       "        vertical-align: top;\n",
       "    }\n",
       "\n",
       "    .dataframe thead th {\n",
       "        text-align: right;\n",
       "    }\n",
       "</style>\n",
       "<table border=\"1\" class=\"dataframe\">\n",
       "  <thead>\n",
       "    <tr style=\"text-align: right;\">\n",
       "      <th>mode_manageable_collapsed</th>\n",
       "      <th>Too little</th>\n",
       "      <th>Just right</th>\n",
       "      <th>Too much</th>\n",
       "    </tr>\n",
       "    <tr>\n",
       "      <th>condition</th>\n",
       "      <th></th>\n",
       "      <th></th>\n",
       "      <th></th>\n",
       "    </tr>\n",
       "  </thead>\n",
       "  <tbody>\n",
       "    <tr>\n",
       "      <th>score</th>\n",
       "      <td>0.290909</td>\n",
       "      <td>0.600000</td>\n",
       "      <td>0.109091</td>\n",
       "    </tr>\n",
       "    <tr>\n",
       "      <th>text</th>\n",
       "      <td>0.089286</td>\n",
       "      <td>0.500000</td>\n",
       "      <td>0.410714</td>\n",
       "    </tr>\n",
       "    <tr>\n",
       "      <th>full</th>\n",
       "      <td>0.107143</td>\n",
       "      <td>0.571429</td>\n",
       "      <td>0.321429</td>\n",
       "    </tr>\n",
       "  </tbody>\n",
       "</table>\n",
       "</div>"
      ],
      "text/plain": [
       "mode_manageable_collapsed  Too little  Just right  Too much\n",
       "condition                                                  \n",
       "score                        0.290909    0.600000  0.109091\n",
       "text                         0.089286    0.500000  0.410714\n",
       "full                         0.107143    0.571429  0.321429"
      ]
     },
     "execution_count": 47,
     "metadata": {},
     "output_type": "execute_result"
    }
   ],
   "source": [
    "table = part_file.groupby(['condition', 'mode_manageable_collapsed']).size().unstack()\n",
    "table = table.drop('demo')\n",
    "table = table.div(table.sum(axis=1), axis=0)\n",
    "order_of_conditions = ['score', 'text', 'full']  # Replace with your actual condition names\n",
    "table = table.loc[order_of_conditions]\n",
    "\n",
    "order_of_survey_responses = ['Too little', 'Just right', 'Too much']\n",
    "table = table[order_of_survey_responses]\n",
    "\n",
    "table"
   ]
  },
  {
   "cell_type": "code",
   "execution_count": 52,
   "metadata": {},
   "outputs": [
    {
     "data": {
      "image/png": "[encoded data removed]",
      "text/plain": [
       "<Figure size 600x300 with 1 Axes>"
      ]
     },
     "metadata": {},
     "output_type": "display_data"
    }
   ],
   "source": [
    "custom_colors = ['#CC6677', '#999933', '#88CCEE']\n",
    "ax = table.plot(kind='barh', stacked=True, color=custom_colors, edgecolor='black', figsize=(6,3))\n",
    "\n",
    "custom_y_labels = ['Baseline', 'Text', 'Multimodal']\n",
    "ax.set_yticklabels(custom_y_labels)\n",
    "\n",
    "plt.xlabel('Proportion of Responses')\n",
    "plt.ylabel('Feedback Condition')\n",
    "plt.legend(loc='upper center', bbox_to_anchor=(0.5, 1.1), ncol=3)\n",
    "plt.xticks(rotation=0)\n",
    "\n",
    "ax.spines['top'].set_visible(False)\n",
    "ax.spines['right'].set_visible(False)\n",
    "ax.spines['left'].set_visible(False)\n",
    "ax.spines['bottom'].set_visible(False)\n",
    "\n",
    "ax.set_xticks([])\n",
    "\n",
    "for i in range(len(table)):\n",
    "    cumulative_sum=0\n",
    "    for j in range(len(order_of_survey_responses)):\n",
    "        percentage = table.iloc[i, j]\n",
    "        if percentage > 0:  # Add text only for non-zero proportions\n",
    "            #print(f\"{order_of_conditions[i]} {order_of_survey_responses[j]}: {percentage:.1f}\")\n",
    "            ax.text(cumulative_sum + (percentage / 2), i, f'{percentage*100:.1f}%', va='center', \n",
    "                    ha='center', color='black', fontsize=8, fontweight='bold')\n",
    "        cumulative_sum += percentage\n",
    "\n",
    "plt.show()"
   ]
  },
  {
   "cell_type": "markdown",
   "metadata": {},
   "source": [
    "## Perception of Feedback"
   ]
  },
  {
   "cell_type": "markdown",
   "metadata": {},
   "source": [
    "### What is associated with overall feedback helpfulness rating?"
   ]
  },
  {
   "cell_type": "code",
   "execution_count": 5,
   "metadata": {},
   "outputs": [
    {
     "name": "stdout",
     "output_type": "stream",
     "text": [
      "Optimization terminated successfully.\n",
      "         Current function value: 0.719001\n",
      "         Iterations: 67\n",
      "         Function evaluations: 74\n",
      "         Gradient evaluations: 74\n",
      "                                 OrderedModel Results                                \n",
      "=====================================================================================\n",
      "Dep. Variable:     feedback_helped_collapsed   Log-Likelihood:                -120.07\n",
      "Model:                          OrderedModel   AIC:                             272.1\n",
      "Method:                   Maximum Likelihood   BIC:                             322.0\n",
      "Date:                       Sat, 18 May 2024                                         \n",
      "Time:                               19:28:49                                         \n",
      "No. Observations:                        167                                         \n",
      "Df Residuals:                            151                                         \n",
      "Df Model:                                 14                                         \n",
      "==================================================================================================\n",
      "                                     coef    std err          z      P>|z|      [0.025      0.975]\n",
      "--------------------------------------------------------------------------------------------------\n",
      "age                                0.0081      0.018      0.440      0.660      -0.028       0.044\n",
      "drone_experience_code             -0.3332      0.408     -0.817      0.414      -1.132       0.466\n",
      "video_game_experience_code         0.0230      0.197      0.117      0.907      -0.363       0.409\n",
      "total_time_seconds                -0.0005      0.000     -1.308      0.191      -0.001       0.000\n",
      "avg_feedback_time_seconds          0.0028      0.021      0.130      0.896      -0.039       0.044\n",
      "avg_trial_time_seconds             0.0366      0.023      1.567      0.117      -0.009       0.082\n",
      "gender_Non-binary                  0.8596      1.017      0.845      0.398      -1.134       2.854\n",
      "gender_Woman                       0.2823      0.442      0.639      0.523      -0.584       1.148\n",
      "n_safe_landings                    0.0851      0.045      1.893      0.058      -0.003       0.173\n",
      "mode_motivation_collapsed_code     0.9702      0.385      2.520      0.012       0.216       1.725\n",
      "mode_manageable_collapsed_code     1.1017      0.391      2.821      0.005       0.336       1.867\n",
      "mode_actionable_collapsed_code     0.3334      0.295      1.132      0.258      -0.244       0.911\n",
      "mode_timely_collapsed_code        -1.1172      0.426     -2.625      0.009      -1.952      -0.283\n",
      "mode_reflection_collapsed_code     0.7619      0.372      2.046      0.041       0.032       1.492\n",
      "Disagree/Neutral                   2.7193      1.282      2.122      0.034       0.207       5.231\n",
      "Neutral/Agree                      0.1042      0.184      0.565      0.572      -0.257       0.466\n",
      "==================================================================================================\n",
      "\n",
      "Odds Ratios:\n",
      "age                                1.008123\n",
      "drone_experience_code              0.716636\n",
      "video_game_experience_code         1.023241\n",
      "total_time_seconds                 0.999482\n",
      "avg_feedback_time_seconds          1.002757\n",
      "avg_trial_time_seconds             1.037242\n",
      "gender_Non-binary                  2.362212\n",
      "gender_Woman                       1.326202\n",
      "n_safe_landings                    1.088783\n",
      "mode_motivation_collapsed_code     2.638407\n",
      "mode_manageable_collapsed_code     3.009164\n",
      "mode_actionable_collapsed_code     1.395749\n",
      "mode_timely_collapsed_code         0.327188\n",
      "mode_reflection_collapsed_code     2.142390\n",
      "Disagree/Neutral                  15.169839\n",
      "Neutral/Agree                      1.109838\n",
      "dtype: float64\n"
     ]
    }
   ],
   "source": [
    "ind_vars = ['age', 'drone_experience_code', \n",
    "            'video_game_experience_code', 'total_time_seconds', \n",
    "            'avg_feedback_time_seconds','avg_trial_time_seconds', \n",
    "            'gender_Non-binary', 'gender_Woman', \n",
    "            'n_safe_landings'] + [f'mode_{q}_code' for q in ['motivation_collapsed', 'manageable_collapsed', 'actionable_collapsed', 'timely_collapsed', 'reflection_collapsed']]\n",
    "\n",
    "dep_var = 'feedback_helped_collapsed'\n",
    "\n",
    "utils.run_ordered_model(dep_var, ind_vars, part_file)"
   ]
  },
  {
   "cell_type": "markdown",
   "metadata": {},
   "source": [
    "### What is associated with overall rating for each dimension?"
   ]
  },
  {
   "cell_type": "code",
   "execution_count": 6,
   "metadata": {},
   "outputs": [
    {
     "name": "stdout",
     "output_type": "stream",
     "text": [
      "Optimization terminated successfully.\n",
      "         Current function value: 0.894534\n",
      "         Iterations: 41\n",
      "         Function evaluations: 49\n",
      "         Gradient evaluations: 49\n",
      "                                   OrderedModel Results                                   \n",
      "==========================================================================================\n",
      "Dep. Variable:     mode_motivation_collapsed_code   Log-Likelihood:                -149.39\n",
      "Model:                               OrderedModel   AIC:                             320.8\n",
      "Method:                        Maximum Likelihood   BIC:                             355.1\n",
      "Date:                            Sat, 18 May 2024                                         \n",
      "Time:                                    19:30:45                                         \n",
      "No. Observations:                             167                                         \n",
      "Df Residuals:                                 156                                         \n",
      "Df Model:                                       9                                         \n",
      "==============================================================================================\n",
      "                                 coef    std err          z      P>|z|      [0.025      0.975]\n",
      "----------------------------------------------------------------------------------------------\n",
      "age                            0.0193      0.015      1.279      0.201      -0.010       0.049\n",
      "drone_experience_code          0.3985      0.373      1.068      0.285      -0.333       1.130\n",
      "video_game_experience_code    -0.0238      0.170     -0.140      0.889      -0.357       0.309\n",
      "total_time_seconds            -0.0002      0.000     -0.513      0.608      -0.001       0.000\n",
      "avg_feedback_time_seconds      0.0373      0.020      1.866      0.062      -0.002       0.076\n",
      "avg_trial_time_seconds         0.0110      0.021      0.534      0.593      -0.029       0.051\n",
      "gender_Non-binary              0.4237      0.813      0.521      0.602      -1.170       2.018\n",
      "gender_Woman                   0.4608      0.371      1.242      0.214      -0.267       1.188\n",
      "n_safe_landings                0.0041      0.037      0.112      0.911      -0.068       0.076\n",
      "0/1                            0.4164      0.963      0.432      0.665      -1.471       2.304\n",
      "1/2                            0.1999      0.152      1.311      0.190      -0.099       0.499\n",
      "==============================================================================================\n",
      "\n",
      "Odds Ratios:\n",
      "age                           1.019470\n",
      "drone_experience_code         1.489647\n",
      "video_game_experience_code    0.976507\n",
      "total_time_seconds            0.999828\n",
      "avg_feedback_time_seconds     1.037993\n",
      "avg_trial_time_seconds        1.011084\n",
      "gender_Non-binary             1.527540\n",
      "gender_Woman                  1.585378\n",
      "n_safe_landings               1.004109\n",
      "0/1                           1.516525\n",
      "1/2                           1.221248\n",
      "dtype: float64\n"
     ]
    }
   ],
   "source": [
    "ind_vars = ['age', 'drone_experience_code', \n",
    "            'video_game_experience_code', 'total_time_seconds', \n",
    "            'avg_feedback_time_seconds','avg_trial_time_seconds', \n",
    "            'gender_Non-binary', 'gender_Woman', \n",
    "            'n_safe_landings']\n",
    "\n",
    "dep_var = 'mode_motivation_collapsed_code'\n",
    "\n",
    "utils.run_ordered_model(dep_var, ind_vars, part_file)"
   ]
  },
  {
   "cell_type": "code",
   "execution_count": 7,
   "metadata": {},
   "outputs": [
    {
     "name": "stdout",
     "output_type": "stream",
     "text": [
      "Optimization terminated successfully.\n",
      "         Current function value: 0.948278\n",
      "         Iterations: 39\n",
      "         Function evaluations: 44\n",
      "         Gradient evaluations: 44\n",
      "                                   OrderedModel Results                                   \n",
      "==========================================================================================\n",
      "Dep. Variable:     mode_manageable_collapsed_code   Log-Likelihood:                -158.36\n",
      "Model:                               OrderedModel   AIC:                             338.7\n",
      "Method:                        Maximum Likelihood   BIC:                             373.0\n",
      "Date:                            Sat, 18 May 2024                                         \n",
      "Time:                                    19:31:11                                         \n",
      "No. Observations:                             167                                         \n",
      "Df Residuals:                                 156                                         \n",
      "Df Model:                                       9                                         \n",
      "==============================================================================================\n",
      "                                 coef    std err          z      P>|z|      [0.025      0.975]\n",
      "----------------------------------------------------------------------------------------------\n",
      "age                           -0.0098      0.014     -0.677      0.498      -0.038       0.018\n",
      "drone_experience_code         -0.8003      0.337     -2.378      0.017      -1.460      -0.141\n",
      "video_game_experience_code     0.0886      0.160      0.555      0.579      -0.224       0.402\n",
      "total_time_seconds            -0.0003      0.000     -0.988      0.323      -0.001       0.000\n",
      "avg_feedback_time_seconds      0.0071      0.018      0.405      0.686      -0.027       0.042\n",
      "avg_trial_time_seconds         0.0034      0.019      0.181      0.857      -0.034       0.041\n",
      "gender_Non-binary             -0.9552      0.775     -1.232      0.218      -2.475       0.565\n",
      "gender_Woman                  -0.4443      0.365     -1.216      0.224      -1.161       0.272\n",
      "n_safe_landings                0.0081      0.035      0.230      0.818      -0.061       0.077\n",
      "0/1                           -2.6135      0.982     -2.662      0.008      -4.538      -0.689\n",
      "1/2                            0.9966      0.092     10.871      0.000       0.817       1.176\n",
      "==============================================================================================\n",
      "\n",
      "Odds Ratios:\n",
      "age                           0.990296\n",
      "drone_experience_code         0.449198\n",
      "video_game_experience_code    1.092635\n",
      "total_time_seconds            0.999678\n",
      "avg_feedback_time_seconds     1.007165\n",
      "avg_trial_time_seconds        1.003425\n",
      "gender_Non-binary             0.384742\n",
      "gender_Woman                  0.641290\n",
      "n_safe_landings               1.008127\n",
      "0/1                           0.073280\n",
      "1/2                           2.708993\n",
      "dtype: float64\n"
     ]
    }
   ],
   "source": [
    "ind_vars = ['age', 'drone_experience_code', \n",
    "            'video_game_experience_code', 'total_time_seconds', \n",
    "            'avg_feedback_time_seconds','avg_trial_time_seconds', \n",
    "            'gender_Non-binary', 'gender_Woman', \n",
    "            'n_safe_landings']\n",
    "\n",
    "dep_var = 'mode_manageable_collapsed_code'\n",
    "\n",
    "utils.run_ordered_model(dep_var, ind_vars, part_file)"
   ]
  },
  {
   "cell_type": "code",
   "execution_count": 8,
   "metadata": {},
   "outputs": [
    {
     "name": "stdout",
     "output_type": "stream",
     "text": [
      "Optimization terminated successfully.\n",
      "         Current function value: 0.708858\n",
      "         Iterations: 42\n",
      "         Function evaluations: 47\n",
      "         Gradient evaluations: 47\n",
      "                                 OrderedModel Results                                 \n",
      "======================================================================================\n",
      "Dep. Variable:     mode_timely_collapsed_code   Log-Likelihood:                -118.38\n",
      "Model:                           OrderedModel   AIC:                             258.8\n",
      "Method:                    Maximum Likelihood   BIC:                             293.1\n",
      "Date:                        Sat, 18 May 2024                                         \n",
      "Time:                                19:31:48                                         \n",
      "No. Observations:                         167                                         \n",
      "Df Residuals:                             156                                         \n",
      "Df Model:                                   9                                         \n",
      "==============================================================================================\n",
      "                                 coef    std err          z      P>|z|      [0.025      0.975]\n",
      "----------------------------------------------------------------------------------------------\n",
      "age                           -0.0022      0.016     -0.141      0.888      -0.033       0.029\n",
      "drone_experience_code         -0.2335      0.388     -0.602      0.547      -0.994       0.526\n",
      "video_game_experience_code     0.2894      0.178      1.630      0.103      -0.059       0.637\n",
      "total_time_seconds            -0.0007      0.000     -1.776      0.076      -0.001    6.91e-05\n",
      "avg_feedback_time_seconds      0.0172      0.020      0.858      0.391      -0.022       0.056\n",
      "avg_trial_time_seconds        -0.0010      0.022     -0.046      0.963      -0.044       0.042\n",
      "gender_Non-binary             -0.2354      0.853     -0.276      0.783      -1.908       1.437\n",
      "gender_Woman                   0.3900      0.394      0.989      0.323      -0.383       1.163\n",
      "n_safe_landings                0.0915      0.039      2.343      0.019       0.015       0.168\n",
      "0/1                           -2.9475      1.112     -2.651      0.008      -5.127      -0.769\n",
      "1/2                            1.4914      0.105     14.159      0.000       1.285       1.698\n",
      "==============================================================================================\n",
      "\n",
      "Odds Ratios:\n",
      "age                           0.997774\n",
      "drone_experience_code         0.791719\n",
      "video_game_experience_code    1.335567\n",
      "total_time_seconds            0.999335\n",
      "avg_feedback_time_seconds     1.017344\n",
      "avg_trial_time_seconds        0.998982\n",
      "gender_Non-binary             0.790258\n",
      "gender_Woman                  1.476938\n",
      "n_safe_landings               1.095859\n",
      "0/1                           0.052469\n",
      "1/2                           4.443358\n",
      "dtype: float64\n"
     ]
    }
   ],
   "source": [
    "ind_vars = ['age', 'drone_experience_code', \n",
    "            'video_game_experience_code', 'total_time_seconds', \n",
    "            'avg_feedback_time_seconds','avg_trial_time_seconds', \n",
    "            'gender_Non-binary', 'gender_Woman', \n",
    "            'n_safe_landings']\n",
    "\n",
    "dep_var = 'mode_timely_collapsed_code'\n",
    "\n",
    "utils.run_ordered_model(dep_var, ind_vars, part_file)"
   ]
  },
  {
   "cell_type": "code",
   "execution_count": 9,
   "metadata": {},
   "outputs": [
    {
     "name": "stdout",
     "output_type": "stream",
     "text": [
      "Optimization terminated successfully.\n",
      "         Current function value: 0.780575\n",
      "         Iterations: 45\n",
      "         Function evaluations: 54\n",
      "         Gradient evaluations: 54\n",
      "                                   OrderedModel Results                                   \n",
      "==========================================================================================\n",
      "Dep. Variable:     mode_reflection_collapsed_code   Log-Likelihood:                -130.36\n",
      "Model:                               OrderedModel   AIC:                             282.7\n",
      "Method:                        Maximum Likelihood   BIC:                             317.0\n",
      "Date:                            Sat, 18 May 2024                                         \n",
      "Time:                                    19:32:28                                         \n",
      "No. Observations:                             167                                         \n",
      "Df Residuals:                                 156                                         \n",
      "Df Model:                                       9                                         \n",
      "==============================================================================================\n",
      "                                 coef    std err          z      P>|z|      [0.025      0.975]\n",
      "----------------------------------------------------------------------------------------------\n",
      "age                            0.0559      0.018      3.083      0.002       0.020       0.091\n",
      "drone_experience_code          0.6465      0.437      1.478      0.139      -0.211       1.504\n",
      "video_game_experience_code    -0.1051      0.186     -0.566      0.571      -0.469       0.259\n",
      "total_time_seconds            -0.0008      0.000     -2.082      0.037      -0.002   -4.83e-05\n",
      "avg_feedback_time_seconds      0.0404      0.022      1.847      0.065      -0.002       0.083\n",
      "avg_trial_time_seconds         0.0413      0.023      1.784      0.074      -0.004       0.087\n",
      "gender_Non-binary             -0.1218      0.761     -0.160      0.873      -1.614       1.370\n",
      "gender_Woman                   0.1203      0.400      0.301      0.763      -0.663       0.904\n",
      "n_safe_landings            -4.695e-05      0.040     -0.001      0.999      -0.078       0.078\n",
      "0/1                            0.9106      1.058      0.861      0.389      -1.163       2.985\n",
      "1/2                            0.2251      0.165      1.366      0.172      -0.098       0.548\n",
      "==============================================================================================\n",
      "\n",
      "Odds Ratios:\n",
      "age                           1.057496\n",
      "drone_experience_code         1.908890\n",
      "video_game_experience_code    0.900255\n",
      "total_time_seconds            0.999175\n",
      "avg_feedback_time_seconds     1.041202\n",
      "avg_trial_time_seconds        1.042202\n",
      "gender_Non-binary             0.885321\n",
      "gender_Woman                  1.127827\n",
      "n_safe_landings               0.999953\n",
      "0/1                           2.485871\n",
      "1/2                           1.252479\n",
      "dtype: float64\n"
     ]
    }
   ],
   "source": [
    "ind_vars = ['age', 'drone_experience_code', \n",
    "            'video_game_experience_code', 'total_time_seconds', \n",
    "            'avg_feedback_time_seconds','avg_trial_time_seconds', \n",
    "            'gender_Non-binary', 'gender_Woman', \n",
    "            'n_safe_landings']\n",
    "\n",
    "dep_var = 'mode_reflection_collapsed_code'\n",
    "\n",
    "utils.run_ordered_model(dep_var, ind_vars, part_file)"
   ]
  },
  {
   "cell_type": "code",
   "execution_count": 10,
   "metadata": {},
   "outputs": [
    {
     "name": "stdout",
     "output_type": "stream",
     "text": [
      "Optimization terminated successfully.\n",
      "         Current function value: 0.956640\n",
      "         Iterations: 39\n",
      "         Function evaluations: 48\n",
      "         Gradient evaluations: 48\n",
      "                                   OrderedModel Results                                   \n",
      "==========================================================================================\n",
      "Dep. Variable:     mode_actionable_collapsed_code   Log-Likelihood:                -159.76\n",
      "Model:                               OrderedModel   AIC:                             341.5\n",
      "Method:                        Maximum Likelihood   BIC:                             375.8\n",
      "Date:                            Sat, 18 May 2024                                         \n",
      "Time:                                    19:33:14                                         \n",
      "No. Observations:                             167                                         \n",
      "Df Residuals:                                 156                                         \n",
      "Df Model:                                       9                                         \n",
      "==============================================================================================\n",
      "                                 coef    std err          z      P>|z|      [0.025      0.975]\n",
      "----------------------------------------------------------------------------------------------\n",
      "age                            0.0142      0.015      0.959      0.338      -0.015       0.043\n",
      "drone_experience_code          0.1171      0.360      0.325      0.745      -0.589       0.823\n",
      "video_game_experience_code     0.1227      0.164      0.749      0.454      -0.198       0.444\n",
      "total_time_seconds            -0.0004      0.000     -1.369      0.171      -0.001       0.000\n",
      "avg_feedback_time_seconds      0.0224      0.019      1.196      0.232      -0.014       0.059\n",
      "avg_trial_time_seconds         0.0238      0.020      1.205      0.228      -0.015       0.063\n",
      "gender_Non-binary             -0.7173      0.725     -0.990      0.322      -2.138       0.703\n",
      "gender_Woman                  -0.3014      0.368     -0.819      0.413      -1.023       0.420\n",
      "n_safe_landings               -0.0277      0.035     -0.787      0.431      -0.097       0.041\n",
      "0/1                           -0.4435      0.948     -0.468      0.640      -2.301       1.414\n",
      "1/2                            0.0218      0.156      0.140      0.889      -0.285       0.328\n",
      "==============================================================================================\n",
      "\n",
      "Odds Ratios:\n",
      "age                           1.014334\n",
      "drone_experience_code         1.124218\n",
      "video_game_experience_code    1.130601\n",
      "total_time_seconds            0.999565\n",
      "avg_feedback_time_seconds     1.022639\n",
      "avg_trial_time_seconds        1.024098\n",
      "gender_Non-binary             0.488044\n",
      "gender_Woman                  0.739763\n",
      "n_safe_landings               0.972648\n",
      "0/1                           0.641800\n",
      "1/2                           1.022084\n",
      "dtype: float64\n"
     ]
    }
   ],
   "source": [
    "ind_vars = ['age', 'drone_experience_code', \n",
    "            'video_game_experience_code', 'total_time_seconds', \n",
    "            'avg_feedback_time_seconds','avg_trial_time_seconds', \n",
    "            'gender_Non-binary', 'gender_Woman', \n",
    "            'n_safe_landings']\n",
    "\n",
    "dep_var = 'mode_actionable_collapsed_code'\n",
    "\n",
    "utils.run_ordered_model(dep_var, ind_vars, part_file)"
   ]
  },
  {
   "cell_type": "markdown",
   "metadata": {},
   "source": [
    "### What is associated with trial rating for each dimension?"
   ]
  },
  {
   "cell_type": "code",
   "execution_count": 11,
   "metadata": {},
   "outputs": [
    {
     "name": "stdout",
     "output_type": "stream",
     "text": [
      "Optimization terminated successfully.\n",
      "         Current function value: 0.965110\n",
      "         Iterations: 18\n",
      "         Function evaluations: 21\n",
      "         Gradient evaluations: 21\n",
      "                              OrderedModel Results                              \n",
      "================================================================================\n",
      "Dep. Variable:     motivation_collapsed   Log-Likelihood:                -3158.8\n",
      "Model:                     OrderedModel   AIC:                             6330.\n",
      "Method:              Maximum Likelihood   BIC:                             6366.\n",
      "Date:                  Sat, 18 May 2024                                         \n",
      "Time:                          19:33:43                                         \n",
      "No. Observations:                  3273                                         \n",
      "Df Residuals:                      3267                                         \n",
      "Df Model:                             4                                         \n",
      "=========================================================================================\n",
      "                            coef    std err          z      P>|z|      [0.025      0.975]\n",
      "-----------------------------------------------------------------------------------------\n",
      "trial_time_seconds        0.0049      0.002      2.628      0.009       0.001       0.009\n",
      "feedback_time_seconds     0.0104      0.002      5.621      0.000       0.007       0.014\n",
      "trial                    -0.0338      0.006     -5.343      0.000      -0.046      -0.021\n",
      "outcome_code              0.0741      0.047      1.584      0.113      -0.018       0.166\n",
      "Disagree/Neutral         -1.4496      0.109    -13.276      0.000      -1.664      -1.236\n",
      "Neutral/Agree             0.2987      0.031      9.597      0.000       0.238       0.360\n",
      "=========================================================================================\n",
      "\n",
      "Odds Ratios:\n",
      "trial_time_seconds       1.004935\n",
      "feedback_time_seconds    1.010418\n",
      "trial                    0.966810\n",
      "outcome_code             1.076920\n",
      "Disagree/Neutral         0.234676\n",
      "Neutral/Agree            1.348067\n",
      "dtype: float64\n"
     ]
    }
   ],
   "source": [
    "ind_vars = ['trial_time_seconds', 'feedback_time_seconds', \n",
    "            'trial', 'outcome_code']\n",
    "\n",
    "dep_var = 'motivation_collapsed'\n",
    "\n",
    "utils.run_ordered_model(dep_var, ind_vars, trial_file)"
   ]
  },
  {
   "cell_type": "code",
   "execution_count": 12,
   "metadata": {},
   "outputs": [
    {
     "name": "stdout",
     "output_type": "stream",
     "text": [
      "Optimization terminated successfully.\n",
      "         Current function value: 0.988160\n",
      "         Iterations: 15\n",
      "         Function evaluations: 20\n",
      "         Gradient evaluations: 20\n",
      "                              OrderedModel Results                              \n",
      "================================================================================\n",
      "Dep. Variable:     manageable_collapsed   Log-Likelihood:                -3234.2\n",
      "Model:                     OrderedModel   AIC:                             6480.\n",
      "Method:              Maximum Likelihood   BIC:                             6517.\n",
      "Date:                  Sat, 18 May 2024                                         \n",
      "Time:                          19:34:28                                         \n",
      "No. Observations:                  3273                                         \n",
      "Df Residuals:                      3267                                         \n",
      "Df Model:                             4                                         \n",
      "=========================================================================================\n",
      "                            coef    std err          z      P>|z|      [0.025      0.975]\n",
      "-----------------------------------------------------------------------------------------\n",
      "trial_time_seconds       -0.0022      0.002     -1.214      0.225      -0.006       0.001\n",
      "feedback_time_seconds     0.0015      0.002      0.961      0.337      -0.002       0.005\n",
      "trial                    -0.0019      0.006     -0.304      0.761      -0.014       0.010\n",
      "outcome_code              0.1534      0.046      3.302      0.001       0.062       0.245\n",
      "Too little/Just right    -1.4881      0.107    -13.889      0.000      -1.698      -1.278\n",
      "Just right/Too much       0.9157      0.021     44.222      0.000       0.875       0.956\n",
      "=========================================================================================\n",
      "\n",
      "Odds Ratios:\n",
      "trial_time_seconds       0.997827\n",
      "feedback_time_seconds    1.001544\n",
      "trial                    0.998106\n",
      "outcome_code             1.165838\n",
      "Too little/Just right    0.225810\n",
      "Just right/Too much      2.498408\n",
      "dtype: float64\n"
     ]
    }
   ],
   "source": [
    "ind_vars = ['trial_time_seconds', 'feedback_time_seconds', \n",
    "            'trial', 'outcome_code',]\n",
    "\n",
    "dep_var = 'manageable_collapsed'\n",
    "\n",
    "utils.run_ordered_model(dep_var, ind_vars, trial_file)"
   ]
  },
  {
   "cell_type": "code",
   "execution_count": 13,
   "metadata": {},
   "outputs": [
    {
     "name": "stdout",
     "output_type": "stream",
     "text": [
      "Optimization terminated successfully.\n",
      "         Current function value: 0.792971\n",
      "         Iterations: 19\n",
      "         Function evaluations: 22\n",
      "         Gradient evaluations: 22\n",
      "                             OrderedModel Results                             \n",
      "==============================================================================\n",
      "Dep. Variable:       timely_collapsed   Log-Likelihood:                -2595.4\n",
      "Model:                   OrderedModel   AIC:                             5203.\n",
      "Method:            Maximum Likelihood   BIC:                             5239.\n",
      "Date:                Sat, 18 May 2024                                         \n",
      "Time:                        19:34:57                                         \n",
      "No. Observations:                3273                                         \n",
      "Df Residuals:                    3267                                         \n",
      "Df Model:                           4                                         \n",
      "==============================================================================================\n",
      "                                 coef    std err          z      P>|z|      [0.025      0.975]\n",
      "----------------------------------------------------------------------------------------------\n",
      "trial_time_seconds            -0.0068      0.002     -3.436      0.001      -0.011      -0.003\n",
      "feedback_time_seconds          0.0050      0.002      2.938      0.003       0.002       0.008\n",
      "trial                          0.0172      0.007      2.547      0.011       0.004       0.030\n",
      "outcome_code                   0.3337      0.051      6.563      0.000       0.234       0.433\n",
      "Too infrequent/Just enough    -2.3038      0.126    -18.355      0.000      -2.550      -2.058\n",
      "Just enough/Too often          1.3194      0.021     61.530      0.000       1.277       1.361\n",
      "==============================================================================================\n",
      "\n",
      "Odds Ratios:\n",
      "trial_time_seconds            0.993221\n",
      "feedback_time_seconds         1.005033\n",
      "trial                         1.017356\n",
      "outcome_code                  1.396105\n",
      "Too infrequent/Just enough    0.099875\n",
      "Just enough/Too often         3.741136\n",
      "dtype: float64\n"
     ]
    }
   ],
   "source": [
    "ind_vars = ['trial_time_seconds', 'feedback_time_seconds', \n",
    "            'trial', 'outcome_code']\n",
    "\n",
    "dep_var = 'timely_collapsed'\n",
    "\n",
    "utils.run_ordered_model(dep_var, ind_vars, trial_file)"
   ]
  },
  {
   "cell_type": "code",
   "execution_count": 14,
   "metadata": {},
   "outputs": [
    {
     "name": "stdout",
     "output_type": "stream",
     "text": [
      "Optimization terminated successfully.\n",
      "         Current function value: 0.927775\n",
      "         Iterations: 18\n",
      "         Function evaluations: 22\n",
      "         Gradient evaluations: 22\n",
      "                              OrderedModel Results                              \n",
      "================================================================================\n",
      "Dep. Variable:     reflection_collapsed   Log-Likelihood:                -3036.6\n",
      "Model:                     OrderedModel   AIC:                             6085.\n",
      "Method:              Maximum Likelihood   BIC:                             6122.\n",
      "Date:                  Sat, 18 May 2024                                         \n",
      "Time:                          19:35:43                                         \n",
      "No. Observations:                  3273                                         \n",
      "Df Residuals:                      3267                                         \n",
      "Df Model:                             4                                         \n",
      "=========================================================================================\n",
      "                            coef    std err          z      P>|z|      [0.025      0.975]\n",
      "-----------------------------------------------------------------------------------------\n",
      "trial_time_seconds        0.0082      0.002      4.159      0.000       0.004       0.012\n",
      "feedback_time_seconds     0.0098      0.002      5.190      0.000       0.006       0.014\n",
      "trial                    -0.0270      0.006     -4.172      0.000      -0.040      -0.014\n",
      "outcome_code              0.0864      0.048      1.803      0.071      -0.008       0.180\n",
      "Disagree/Neutral         -1.3487      0.111    -12.160      0.000      -1.566      -1.131\n",
      "Neutral/Agree             0.2131      0.034      6.355      0.000       0.147       0.279\n",
      "=========================================================================================\n",
      "\n",
      "Odds Ratios:\n",
      "trial_time_seconds       1.008238\n",
      "feedback_time_seconds    1.009857\n",
      "trial                    0.973389\n",
      "outcome_code             1.090240\n",
      "Disagree/Neutral         0.259578\n",
      "Neutral/Agree            1.237567\n",
      "dtype: float64\n"
     ]
    }
   ],
   "source": [
    "ind_vars = ['trial_time_seconds', 'feedback_time_seconds', \n",
    "            'trial', 'outcome_code']\n",
    "\n",
    "dep_var = 'reflection_collapsed'\n",
    "\n",
    "utils.run_ordered_model(dep_var, ind_vars, trial_file)"
   ]
  },
  {
   "cell_type": "code",
   "execution_count": 15,
   "metadata": {},
   "outputs": [
    {
     "name": "stdout",
     "output_type": "stream",
     "text": [
      "Optimization terminated successfully.\n",
      "         Current function value: 1.004104\n",
      "         Iterations: 20\n",
      "         Function evaluations: 23\n",
      "         Gradient evaluations: 23\n",
      "                              OrderedModel Results                              \n",
      "================================================================================\n",
      "Dep. Variable:     actionable_collapsed   Log-Likelihood:                -3286.4\n",
      "Model:                     OrderedModel   AIC:                             6585.\n",
      "Method:              Maximum Likelihood   BIC:                             6621.\n",
      "Date:                  Sat, 18 May 2024                                         \n",
      "Time:                          19:36:28                                         \n",
      "No. Observations:                  3273                                         \n",
      "Df Residuals:                      3267                                         \n",
      "Df Model:                             4                                         \n",
      "=========================================================================================\n",
      "                            coef    std err          z      P>|z|      [0.025      0.975]\n",
      "-----------------------------------------------------------------------------------------\n",
      "trial_time_seconds        0.0044      0.002      2.417      0.016       0.001       0.008\n",
      "feedback_time_seconds     0.0051      0.002      3.085      0.002       0.002       0.008\n",
      "trial                    -0.0185      0.006     -2.977      0.003      -0.031      -0.006\n",
      "outcome_code              0.0409      0.046      0.889      0.374      -0.049       0.131\n",
      "Disagree/Neutral         -1.1360      0.105    -10.806      0.000      -1.342      -0.930\n",
      "Neutral/Agree             0.0914      0.033      2.777      0.005       0.027       0.156\n",
      "=========================================================================================\n",
      "\n",
      "Odds Ratios:\n",
      "trial_time_seconds       1.004410\n",
      "feedback_time_seconds    1.005154\n",
      "trial                    0.981718\n",
      "outcome_code             1.041790\n",
      "Disagree/Neutral         0.321110\n",
      "Neutral/Agree            1.095701\n",
      "dtype: float64\n"
     ]
    }
   ],
   "source": [
    "ind_vars = ['trial_time_seconds', 'feedback_time_seconds', \n",
    "            'trial', 'outcome_code']\n",
    "\n",
    "dep_var = 'actionable_collapsed'\n",
    "\n",
    "utils.run_ordered_model(dep_var, ind_vars, trial_file)"
   ]
  },
  {
   "cell_type": "markdown",
   "metadata": {},
   "source": [
    "### Distributions of dimensional ratings across groups"
   ]
  },
  {
   "cell_type": "code",
   "execution_count": null,
   "metadata": {},
   "outputs": [],
   "source": [
    "utils.run_kruskal('mode_motivation_collapsed_code', part_file)"
   ]
  },
  {
   "cell_type": "code",
   "execution_count": null,
   "metadata": {},
   "outputs": [],
   "source": [
    "utils.run_kruskal('mode_manageable_collapsed_code', part_file)"
   ]
  },
  {
   "cell_type": "code",
   "execution_count": null,
   "metadata": {},
   "outputs": [],
   "source": [
    "utils.run_kruskal('mode_actionable_collapsed_code', part_file)"
   ]
  },
  {
   "cell_type": "code",
   "execution_count": null,
   "metadata": {},
   "outputs": [],
   "source": [
    "utils.run_kruskal('mode_timely_collapsed_code', part_file)"
   ]
  },
  {
   "cell_type": "code",
   "execution_count": null,
   "metadata": {},
   "outputs": [],
   "source": [
    "utils.run_kruskal('mode_reflection_collapsed_code', part_file)"
   ]
  },
  {
   "cell_type": "markdown",
   "metadata": {},
   "source": [
    "### Did they think the feedback helped?"
   ]
  },
  {
   "cell_type": "code",
   "execution_count": null,
   "metadata": {},
   "outputs": [],
   "source": [
    "utils.run_kruskal('feedback_helped_collapsed_code', part_file)"
   ]
  },
  {
   "cell_type": "markdown",
   "metadata": {},
   "source": [
    "## Evolution of Performance"
   ]
  },
  {
   "cell_type": "markdown",
   "metadata": {},
   "source": [
    "For each condition, plot out the success of the trial for each participant"
   ]
  },
  {
   "cell_type": "code",
   "execution_count": 52,
   "metadata": {},
   "outputs": [
    {
     "name": "stdout",
     "output_type": "stream",
     "text": [
      "skipping participant 6522a86994a5ce0d7bb9feba trial 9\n"
     ]
    },
    {
     "data": {
      "image/png": "[encoded data removed]",
      "text/plain": [
       "<Figure size 800x600 with 3 Axes>"
      ]
     },
     "metadata": {},
     "output_type": "display_data"
    }
   ],
   "source": [
    "fig, axs = plt.subplots(1,3, figsize=(8,6))\n",
    "n_trials = 20\n",
    "\n",
    "conditions = list(ids.keys())\n",
    "\n",
    "# for each condition\n",
    "for a in range(len(axs)):\n",
    "    overall_scores = []\n",
    "\n",
    "    # for each participant in that condition\n",
    "    for i in range(len(ids[conditions[a]])):\n",
    "        part = ids[conditions[a]].iloc[i]\n",
    "        data = pd.read_csv(data_dir + part + '/survey_responses.csv')\n",
    "\n",
    "        # score for that participant\n",
    "        data['outcome_sore'] = 0\n",
    "        data.loc[data['outcome'] == 'Unsafe', 'outcome_score'] = 3\n",
    "        data.loc[data['outcome'] == 'Crash', 'outcome_score'] = 5\n",
    "\n",
    "        total_score = data['outcome_score'].sum()\n",
    "        overall_scores.append((i, part, total_score))\n",
    "\n",
    "    # sort participants for this condition\n",
    "    sorted_participants = sorted(overall_scores, key=lambda x: x[2], reverse=True)\n",
    "\n",
    "    # plot all participants in sorted order\n",
    "    for sorted_index, (_, part, _) in enumerate(sorted_participants):\n",
    "        data = pd.read_csv(data_dir + part + '/survey_responses.csv')\n",
    "\n",
    "        # plot all trials for that participant\n",
    "        for trial in range(n_trials):\n",
    "            try:\n",
    "                outcome = data[data['trial'] == trial+1]['outcome'].values[0]\n",
    "                if outcome == 'Safe':\n",
    "                    axs[a].plot(trial, sorted_index, 'go')\n",
    "                elif outcome == 'Unsafe':\n",
    "                    axs[a].plot(trial, sorted_index, 'ko')\n",
    "                else:\n",
    "                    axs[a].plot(trial, sorted_index, 'ro')\n",
    "            except:\n",
    "                print(f\"skipping participant {part} trial {trial}\")\n",
    "\n",
    "    axs[a].set_aspect('equal')\n",
    "    axs[a].set_title(f'{conditions[a]}')\n",
    "\n",
    "plt.show()"
   ]
  },
  {
   "cell_type": "code",
   "execution_count": 53,
   "metadata": {},
   "outputs": [
    {
     "name": "stdout",
     "output_type": "stream",
     "text": [
      "skipping participant 6522a86994a5ce0d7bb9feba trial 9\n"
     ]
    },
    {
     "data": {
      "image/png": "[encoded data removed]",
      "text/plain": [
       "<Figure size 800x600 with 3 Axes>"
      ]
     },
     "metadata": {},
     "output_type": "display_data"
    }
   ],
   "source": [
    "fig, axs = plt.subplots(1,3, figsize=(8,6))\n",
    "n_trials = 20\n",
    "\n",
    "conditions = list(ids.keys())\n",
    "\n",
    "# for each condition\n",
    "for a in range(len(axs)):\n",
    "    overall_scores = []\n",
    "\n",
    "    # for each participant in that condition\n",
    "    for i in range(len(ids[conditions[a]])):\n",
    "        part = ids[conditions[a]].iloc[i]\n",
    "        data = pd.read_csv(data_dir + part + '/survey_responses.csv')\n",
    "\n",
    "        # score for that participant\n",
    "        data['outcome_sore'] = 0\n",
    "        data.loc[data['outcome'] == 'Crash', 'outcome_score'] = 3\n",
    "\n",
    "        total_score = data['outcome_score'].sum()\n",
    "        overall_scores.append((i, part, total_score))\n",
    "\n",
    "    # sort participants for this condition\n",
    "    sorted_participants = sorted(overall_scores, key=lambda x: x[2], reverse=True)\n",
    "\n",
    "    # plot all participants in sorted order\n",
    "    for sorted_index, (_, part, _) in enumerate(sorted_participants):\n",
    "        data = pd.read_csv(data_dir + part + '/survey_responses.csv')\n",
    "\n",
    "        # plot all trials for that participant\n",
    "        for trial in range(n_trials):\n",
    "            try:\n",
    "                outcome = data[data['trial'] == trial+1]['outcome'].values[0]\n",
    "                if outcome == 'Safe' or outcome == 'Unsafe':\n",
    "                    axs[a].plot(trial, sorted_index, 'ko')\n",
    "                else:\n",
    "                    axs[a].plot(trial, sorted_index, 'ro')\n",
    "            except:\n",
    "                print(f\"skipping participant {part} trial {trial}\")\n",
    "\n",
    "    axs[a].set_aspect('equal')\n",
    "    axs[a].set_title(f'{conditions[a]}')\n",
    "\n",
    "plt.show()"
   ]
  },
  {
   "cell_type": "markdown",
   "metadata": {},
   "source": [
    "### Recent stuff I haven't organized yet"
   ]
  },
  {
   "cell_type": "code",
   "execution_count": 54,
   "metadata": {},
   "outputs": [],
   "source": [
    "# calculate if each participant got a safe landing within the first 5 trials\n",
    "part_file['safe_in_first_5'] = False\n",
    "part_file['land_in_first_5'] = False\n",
    "part_file['safe_last_5'] = 0\n",
    "part_file['unsafe_last_5'] = 0\n",
    "part_file['land_last_5'] = 0\n",
    "part_file['crash_last_5'] = 0\n",
    "\n",
    "for part in part_file['prolific_id']:\n",
    "    data = pd.read_csv(data_dir + part + '/survey_responses.csv')\n",
    "    first_five = data[data['trial'] <= 5]\n",
    "    last_five = data[data['trial'] >= 16]\n",
    "\n",
    "    n_safe = (first_five['outcome'] == 'Safe').sum()\n",
    "    if n_safe > 0:\n",
    "        part_file.loc[part_file['prolific_id'] == part, 'safe_in_first_5'] = True\n",
    "    n_land = (first_five['outcome'].isin(['Safe', 'Unsafe'])).sum()\n",
    "    if n_land > 0:\n",
    "        part_file.loc[part_file['prolific_id'] == part, 'land_in_first_5'] = True\n",
    "\n",
    "    n_safe = (last_five['outcome'] == 'Safe').sum()\n",
    "    n_unsafe = (last_five['outcome'] == 'Unsafe').sum()\n",
    "    n_crash = (last_five['outcome'] == 'Crash').sum()\n",
    "    n_land = n_safe + n_unsafe\n",
    "    part_file.loc[part_file['prolific_id'] == part, 'safe_last_5'] = n_safe\n",
    "    part_file.loc[part_file['prolific_id'] == part, 'unsafe_last_5'] = n_unsafe\n",
    "    part_file.loc[part_file['prolific_id'] == part, 'land_last_5'] = n_land\n",
    "    part_file.loc[part_file['prolific_id'] == part, 'crash_last_5'] = n_crash"
   ]
  },
  {
   "cell_type": "code",
   "execution_count": 55,
   "metadata": {},
   "outputs": [],
   "source": [
    "struggle_land_ids = part_file[part_file['land_in_first_5'] == False]['prolific_id']\n",
    "struggle_safe_ids = part_file[part_file['safe_in_first_5'] == False]['prolific_id']"
   ]
  },
  {
   "cell_type": "code",
   "execution_count": 56,
   "metadata": {},
   "outputs": [
    {
     "data": {
      "text/html": [
       "<div>\n",
       "<style scoped>\n",
       "    .dataframe tbody tr th:only-of-type {\n",
       "        vertical-align: middle;\n",
       "    }\n",
       "\n",
       "    .dataframe tbody tr th {\n",
       "        vertical-align: top;\n",
       "    }\n",
       "\n",
       "    .dataframe thead th {\n",
       "        text-align: right;\n",
       "    }\n",
       "</style>\n",
       "<table border=\"1\" class=\"dataframe\">\n",
       "  <thead>\n",
       "    <tr style=\"text-align: right;\">\n",
       "      <th>safe_in_first_5</th>\n",
       "      <th>False</th>\n",
       "      <th>True</th>\n",
       "    </tr>\n",
       "    <tr>\n",
       "      <th>condition</th>\n",
       "      <th></th>\n",
       "      <th></th>\n",
       "    </tr>\n",
       "  </thead>\n",
       "  <tbody>\n",
       "    <tr>\n",
       "      <th>demo</th>\n",
       "      <td>0</td>\n",
       "      <td>0</td>\n",
       "    </tr>\n",
       "    <tr>\n",
       "      <th>full</th>\n",
       "      <td>28</td>\n",
       "      <td>28</td>\n",
       "    </tr>\n",
       "    <tr>\n",
       "      <th>score</th>\n",
       "      <td>27</td>\n",
       "      <td>28</td>\n",
       "    </tr>\n",
       "    <tr>\n",
       "      <th>text</th>\n",
       "      <td>28</td>\n",
       "      <td>28</td>\n",
       "    </tr>\n",
       "  </tbody>\n",
       "</table>\n",
       "</div>"
      ],
      "text/plain": [
       "safe_in_first_5  False  True \n",
       "condition                    \n",
       "demo                 0      0\n",
       "full                28     28\n",
       "score               27     28\n",
       "text                28     28"
      ]
     },
     "execution_count": 56,
     "metadata": {},
     "output_type": "execute_result"
    }
   ],
   "source": [
    "part_file.groupby('condition')['safe_in_first_5'].value_counts().unstack()"
   ]
  },
  {
   "cell_type": "code",
   "execution_count": 57,
   "metadata": {},
   "outputs": [],
   "source": [
    "part_file['n_landings'] = part_file['n_safe_landings'] + part_file['n_unsafe_landings']\n",
    "part_file['any_landings'] = part_file['n_landings'] > 0"
   ]
  },
  {
   "cell_type": "code",
   "execution_count": 58,
   "metadata": {},
   "outputs": [
    {
     "data": {
      "text/html": [
       "<div>\n",
       "<style scoped>\n",
       "    .dataframe tbody tr th:only-of-type {\n",
       "        vertical-align: middle;\n",
       "    }\n",
       "\n",
       "    .dataframe tbody tr th {\n",
       "        vertical-align: top;\n",
       "    }\n",
       "\n",
       "    .dataframe thead th {\n",
       "        text-align: right;\n",
       "    }\n",
       "</style>\n",
       "<table border=\"1\" class=\"dataframe\">\n",
       "  <thead>\n",
       "    <tr style=\"text-align: right;\">\n",
       "      <th>land_in_first_5</th>\n",
       "      <th>False</th>\n",
       "      <th>True</th>\n",
       "    </tr>\n",
       "    <tr>\n",
       "      <th>condition</th>\n",
       "      <th></th>\n",
       "      <th></th>\n",
       "    </tr>\n",
       "  </thead>\n",
       "  <tbody>\n",
       "    <tr>\n",
       "      <th>demo</th>\n",
       "      <td>0</td>\n",
       "      <td>0</td>\n",
       "    </tr>\n",
       "    <tr>\n",
       "      <th>full</th>\n",
       "      <td>2</td>\n",
       "      <td>54</td>\n",
       "    </tr>\n",
       "    <tr>\n",
       "      <th>score</th>\n",
       "      <td>5</td>\n",
       "      <td>50</td>\n",
       "    </tr>\n",
       "    <tr>\n",
       "      <th>text</th>\n",
       "      <td>5</td>\n",
       "      <td>51</td>\n",
       "    </tr>\n",
       "  </tbody>\n",
       "</table>\n",
       "</div>"
      ],
      "text/plain": [
       "land_in_first_5  False  True \n",
       "condition                    \n",
       "demo                 0      0\n",
       "full                 2     54\n",
       "score                5     50\n",
       "text                 5     51"
      ]
     },
     "execution_count": 58,
     "metadata": {},
     "output_type": "execute_result"
    }
   ],
   "source": [
    "part_file.groupby('condition')['land_in_first_5'].value_counts().unstack()"
   ]
  },
  {
   "cell_type": "code",
   "execution_count": 59,
   "metadata": {},
   "outputs": [
    {
     "data": {
      "text/html": [
       "<div>\n",
       "<style scoped>\n",
       "    .dataframe tbody tr th:only-of-type {\n",
       "        vertical-align: middle;\n",
       "    }\n",
       "\n",
       "    .dataframe tbody tr th {\n",
       "        vertical-align: top;\n",
       "    }\n",
       "\n",
       "    .dataframe thead th {\n",
       "        text-align: right;\n",
       "    }\n",
       "</style>\n",
       "<table border=\"1\" class=\"dataframe\">\n",
       "  <thead>\n",
       "    <tr style=\"text-align: right;\">\n",
       "      <th></th>\n",
       "      <th>mean</th>\n",
       "      <th>std</th>\n",
       "    </tr>\n",
       "    <tr>\n",
       "      <th>condition</th>\n",
       "      <th></th>\n",
       "      <th></th>\n",
       "    </tr>\n",
       "  </thead>\n",
       "  <tbody>\n",
       "    <tr>\n",
       "      <th>demo</th>\n",
       "      <td>NaN</td>\n",
       "      <td>NaN</td>\n",
       "    </tr>\n",
       "    <tr>\n",
       "      <th>full</th>\n",
       "      <td>2.214286</td>\n",
       "      <td>1.227981</td>\n",
       "    </tr>\n",
       "    <tr>\n",
       "      <th>score</th>\n",
       "      <td>1.962963</td>\n",
       "      <td>1.556166</td>\n",
       "    </tr>\n",
       "    <tr>\n",
       "      <th>text</th>\n",
       "      <td>2.000000</td>\n",
       "      <td>1.333333</td>\n",
       "    </tr>\n",
       "  </tbody>\n",
       "</table>\n",
       "</div>"
      ],
      "text/plain": [
       "               mean       std\n",
       "condition                    \n",
       "demo            NaN       NaN\n",
       "full       2.214286  1.227981\n",
       "score      1.962963  1.556166\n",
       "text       2.000000  1.333333"
      ]
     },
     "execution_count": 59,
     "metadata": {},
     "output_type": "execute_result"
    }
   ],
   "source": [
    "part_file[part_file['prolific_id'].isin(struggle_safe_ids)].groupby('condition')['unsafe_last_5'].agg(['mean', 'std'])"
   ]
  },
  {
   "cell_type": "code",
   "execution_count": 60,
   "metadata": {},
   "outputs": [
    {
     "data": {
      "text/plain": [
       "TtestResult(statistic=-0.8870253332415172, pvalue=0.37907279878923783, df=53.0)"
      ]
     },
     "execution_count": 60,
     "metadata": {},
     "output_type": "execute_result"
    }
   ],
   "source": [
    "stats.ttest_ind(part_file.loc[(part_file['prolific_id'].isin(struggle_safe_ids)) & (part_file['condition'] == 'full'), 'n_crashes'],\n",
    "part_file.loc[(part_file['prolific_id'].isin(struggle_safe_ids)) & (part_file['condition'] == 'score'), 'n_crashes'])"
   ]
  },
  {
   "cell_type": "code",
   "execution_count": 61,
   "metadata": {},
   "outputs": [
    {
     "data": {
      "text/plain": [
       "TtestResult(statistic=-2.134422841118956, pvalue=0.0374517182693368, df=53.0)"
      ]
     },
     "execution_count": 61,
     "metadata": {},
     "output_type": "execute_result"
    }
   ],
   "source": [
    "stats.ttest_ind(part_file.loc[(part_file['prolific_id'].isin(struggle_safe_ids)) & (part_file['condition'] == 'full'), 'crash_last_5'],\n",
    "part_file.loc[(part_file['prolific_id'].isin(struggle_safe_ids)) & (part_file['condition'] == 'score'), 'crash_last_5'])\n",
    "\n",
    "# difference between number of crashes in last 5 trials between score and full conditions"
   ]
  },
  {
   "cell_type": "code",
   "execution_count": 64,
   "metadata": {},
   "outputs": [
    {
     "data": {
      "image/png": "[encoded data removed]",
      "text/plain": [
       "<Figure size 1200x400 with 3 Axes>"
      ]
     },
     "metadata": {},
     "output_type": "display_data"
    }
   ],
   "source": [
    "fig, axs = plt.subplots(1,3, figsize=(12,4), sharey=True)\n",
    "\n",
    "conditions = list(ids.keys())\n",
    "\n",
    "# for each condition\n",
    "for a in range(len(axs)):\n",
    "    data = part_file[part_file['condition'] == conditions[a]]['n_landings']\n",
    "    axs[a].hist(data,bins=10,range=(0,20))\n",
    "    axs[a].set_title(f'{conditions[a]}')\n",
    "    axs[a].set_xlim(0,20)\n",
    "\n",
    "plt.show()"
   ]
  },
  {
   "cell_type": "code",
   "execution_count": 67,
   "metadata": {},
   "outputs": [
    {
     "data": {
      "image/png": "[encoded data removed]",
      "text/plain": [
       "<Figure size 800x400 with 2 Axes>"
      ]
     },
     "metadata": {},
     "output_type": "display_data"
    }
   ],
   "source": [
    "fig, axs = plt.subplots(1,2, figsize=(8,4))\n",
    "\n",
    "conditions = list(ids.keys())\n",
    "quarters = [(1,5), (6,10), (11,15), (16,20)]\n",
    "\n",
    "for c in conditions:\n",
    "    points = []\n",
    "    errs = []\n",
    "    for first, last in quarters:\n",
    "        data = trial_file.loc[(trial_file['condition'] == c) & (trial_file['trial'] >= first) & (trial_file['trial'] <= last)]\n",
    "        data['landed'] = data['outcome'].isin(['Safe', 'Unsafe'])\n",
    "        data['successful'] = data['outcome'] == 'Safe'\n",
    "        avg_land = data.groupby('prolific_id')['landed'].sum().mean()\n",
    "        land_err = data.groupby('prolific_id')['landed'].sum().std()\n",
    "        avg_success = data.groupby('prolific_id')['successful'].sum().mean()\n",
    "        success_err = data.groupby('prolific_id')['successful'].sum().std()\n",
    "        points.append((avg_land, avg_success))\n",
    "        errs.append((land_err, success_err))\n",
    "    for a in range(len(axs)):\n",
    "        x = list(range(len(quarters)))\n",
    "        # axs[a].errorbar(x, [pt[a] for pt in points], [er[a] for er in errs], label=c)\n",
    "        axs[a].plot(x, [pt[a] for pt in points], label=c)\n",
    "        axs[a].set_ylim(0,5)\n",
    "        axs[a].set_title(['non-crashes', 'safe'][a])\n",
    "\n",
    "plt.legend()\n",
    "plt.show()"
   ]
  },
  {
   "cell_type": "code",
   "execution_count": 204,
   "metadata": {},
   "outputs": [
    {
     "data": {
      "image/png": "[encoded data removed]",
      "text/plain": [
       "<Figure size 640x480 with 1 Axes>"
      ]
     },
     "metadata": {},
     "output_type": "display_data"
    }
   ],
   "source": [
    "fig, ax = plt.subplots(1,1)\n",
    "trial_file['outcome_int'] = trial_file['outcome_code'].astype(int)\n",
    "\n",
    "conditions = list(ids.keys())\n",
    "quarters = [(1,5), (6,10), (11,15), (16,20)]\n",
    "\n",
    "for c in conditions:\n",
    "    points = []\n",
    "    errs = []\n",
    "    for first, last in quarters:\n",
    "        data = trial_file.loc[(trial_file['condition'] == c) & (trial_file['trial'] >= first) & (trial_file['trial'] <= last)]\n",
    "        avg_var = data.groupby('prolific_id')['outcome_int'].std().mean()\n",
    "        var_err = data.groupby('prolific_id')['outcome_int'].std().std()\n",
    "        points.append(avg_var)\n",
    "        errs.append(var_err)\n",
    "    x = list(range(len(quarters)))\n",
    "    ax.errorbar(x, points, errs, label=c)\n",
    "    # ax.plot(x, points, label=c)\n",
    "    # ax.set_ylim(0,5)\n",
    "\n",
    "plt.legend()\n",
    "plt.show()"
   ]
  },
  {
   "cell_type": "code",
   "execution_count": 69,
   "metadata": {},
   "outputs": [
    {
     "data": {
      "image/png": "[encoded data removed]",
      "text/plain": [
       "<Figure size 640x480 with 1 Axes>"
      ]
     },
     "metadata": {},
     "output_type": "display_data"
    }
   ],
   "source": [
    "conditions = list(ids.keys())\n",
    "n_trials = 20\n",
    "\n",
    "for c in conditions:\n",
    "    points = []\n",
    "    errs = []\n",
    "    for t in range(n_trials):\n",
    "        data = trial_file.loc[(trial_file['condition'] == c) &  (trial_file['trial'] == t)]\n",
    "        avg_time = data['trial_time_seconds'].mean()\n",
    "        time_err = data['trial_time_seconds'].std()\n",
    "        points.append(avg_time)\n",
    "        errs.append(time_err)\n",
    "    x = list(range(n_trials))\n",
    "    # plt.errorbar(x, points, errs, label=c)\n",
    "    plt.plot(x, points, alpha=0.35, label=c)\n",
    "\n",
    "points_all = []\n",
    "for t in range(n_trials):\n",
    "        data = trial_file.loc[(trial_file['trial'] == t)]\n",
    "        avg_time = data['trial_time_seconds'].mean()\n",
    "        # time_err = data['trial_time_seconds'].std()\n",
    "        points_all.append(avg_time)\n",
    "        # errs.append(time_err)\n",
    "plt.plot(points_all, 'k', label='overall')\n",
    "\n",
    "\n",
    "plt.title('average trial time')\n",
    "plt.legend()\n",
    "plt.show()"
   ]
  },
  {
   "cell_type": "code",
   "execution_count": 70,
   "metadata": {},
   "outputs": [
    {
     "data": {
      "image/png": "[encoded data removed]",
      "text/plain": [
       "<Figure size 640x480 with 1 Axes>"
      ]
     },
     "metadata": {},
     "output_type": "display_data"
    }
   ],
   "source": [
    "conditions = list(ids.keys())\n",
    "n_trials = 20\n",
    "\n",
    "for c in conditions:\n",
    "    points = []\n",
    "    errs = []\n",
    "    for t in range(n_trials):\n",
    "        data = trial_file.loc[(trial_file['condition'] == c) &  (trial_file['trial'] == t)]\n",
    "        avg_time = data['feedback_time_seconds'].mean()\n",
    "        time_err = data['feedback_time_seconds'].std()\n",
    "        points.append(avg_time)\n",
    "        errs.append(time_err)\n",
    "    x = list(range(n_trials))\n",
    "    # plt.errorbar(x, points, errs, label=c)\n",
    "    plt.plot(x, points, alpha=0.35, label=c)\n",
    "\n",
    "points_all = []\n",
    "for t in range(n_trials):\n",
    "        data = trial_file.loc[(trial_file['trial'] == t)]\n",
    "        avg_time = data['feedback_time_seconds'].mean()\n",
    "        # time_err = data['trial_time_seconds'].std()\n",
    "        points_all.append(avg_time)\n",
    "        # errs.append(time_err)\n",
    "plt.plot(points_all, 'k', label='overall')\n",
    "\n",
    "\n",
    "plt.title('average feedback time')\n",
    "plt.legend()\n",
    "plt.show()"
   ]
  },
  {
   "cell_type": "code",
   "execution_count": 205,
   "metadata": {},
   "outputs": [
    {
     "name": "stdout",
     "output_type": "stream",
     "text": [
      "F_onewayResult(statistic=1.024648911669257, pvalue=0.36120851437815293)\n"
     ]
    }
   ],
   "source": [
    "utils.run_anova('avg_trial_time_seconds', part_file)"
   ]
  },
  {
   "cell_type": "code",
   "execution_count": 206,
   "metadata": {},
   "outputs": [
    {
     "name": "stdout",
     "output_type": "stream",
     "text": [
      "F_onewayResult(statistic=1.0869473546713804, pvalue=0.33966127814481895)\n"
     ]
    }
   ],
   "source": [
    "utils.run_anova('avg_feedback_time_seconds', part_file)"
   ]
  },
  {
   "cell_type": "code",
   "execution_count": 207,
   "metadata": {},
   "outputs": [
    {
     "data": {
      "text/plain": [
       "condition\n",
       "demo          NaN\n",
       "full     0.964286\n",
       "score    0.927273\n",
       "text     0.875000\n",
       "Name: got_10_landings, dtype: float64"
      ]
     },
     "execution_count": 207,
     "metadata": {},
     "output_type": "execute_result"
    }
   ],
   "source": [
    "part_file['got_10_landings'] = part_file['n_landings'] >= 10\n",
    "part_file.groupby('condition')['got_10_landings'].mean()"
   ]
  },
  {
   "cell_type": "code",
   "execution_count": 208,
   "metadata": {},
   "outputs": [
    {
     "data": {
      "text/plain": [
       "condition\n",
       "demo          NaN\n",
       "full     0.696429\n",
       "score    0.672727\n",
       "text     0.625000\n",
       "Name: got_15_landings, dtype: float64"
      ]
     },
     "execution_count": 208,
     "metadata": {},
     "output_type": "execute_result"
    }
   ],
   "source": [
    "part_file['got_15_landings'] = part_file['n_landings'] >= 15\n",
    "part_file.groupby('condition')['got_15_landings'].mean()"
   ]
  },
  {
   "cell_type": "code",
   "execution_count": 210,
   "metadata": {},
   "outputs": [
    {
     "name": "stdout",
     "output_type": "stream",
     "text": [
      "Adjusted alpha (Bonferroni): 0.016666666666666666\n",
      "P-values: [0.4379314579949066, 0.16171491735240345, 0.5273323184625129]\n",
      "Significant results: [False, False, False]\n"
     ]
    }
   ],
   "source": [
    "c_table = part_file.groupby('condition')['got_10_landings'].value_counts().unstack()\n",
    "\n",
    "# Performing Fisher's Exact Test for each pair and applying Bonferroni correction\n",
    "p_values = []\n",
    "comparisons = [('full', 'score'), ('full', 'text'), ('score', 'text')]\n",
    "for group1, group2 in comparisons:\n",
    "    table = c_table.loc[[group1, group2], :]\n",
    "    oddsratio, p_value = stats.fisher_exact(table)\n",
    "    p_values.append(p_value)\n",
    "\n",
    "# Adjust p-values for multiple comparisons (Bonferroni correction)\n",
    "alpha = 0.05 / len(comparisons)\n",
    "significant_results = [p < alpha for p in p_values]\n",
    "\n",
    "# Output results\n",
    "print(f\"Adjusted alpha (Bonferroni): {alpha}\")\n",
    "print(f\"P-values: {p_values}\")\n",
    "print(f\"Significant results: {significant_results}\")"
   ]
  },
  {
   "cell_type": "code",
   "execution_count": null,
   "metadata": {},
   "outputs": [],
   "source": [
    "part_file.groupby('condition')['n_landings'].mean().round(2)"
   ]
  },
  {
   "cell_type": "code",
   "execution_count": null,
   "metadata": {},
   "outputs": [],
   "source": [
    "part_file.groupby('condition')['n_safe_landings'].sum()"
   ]
  },
  {
   "cell_type": "code",
   "execution_count": null,
   "metadata": {},
   "outputs": [],
   "source": [
    "part_file.groupby('condition')['n_unsafe_landings'].sum()"
   ]
  },
  {
   "cell_type": "code",
   "execution_count": null,
   "metadata": {},
   "outputs": [],
   "source": [
    "part_file.groupby('condition')['n_crashes'].sum()"
   ]
  },
  {
   "cell_type": "code",
   "execution_count": 211,
   "metadata": {},
   "outputs": [
    {
     "data": {
      "text/html": [
       "<div>\n",
       "<style scoped>\n",
       "    .dataframe tbody tr th:only-of-type {\n",
       "        vertical-align: middle;\n",
       "    }\n",
       "\n",
       "    .dataframe tbody tr th {\n",
       "        vertical-align: top;\n",
       "    }\n",
       "\n",
       "    .dataframe thead th {\n",
       "        text-align: right;\n",
       "    }\n",
       "</style>\n",
       "<table border=\"1\" class=\"dataframe\">\n",
       "  <thead>\n",
       "    <tr style=\"text-align: right;\">\n",
       "      <th></th>\n",
       "      <th>sum</th>\n",
       "      <th>mean</th>\n",
       "      <th>std</th>\n",
       "    </tr>\n",
       "    <tr>\n",
       "      <th>condition</th>\n",
       "      <th></th>\n",
       "      <th></th>\n",
       "      <th></th>\n",
       "    </tr>\n",
       "  </thead>\n",
       "  <tbody>\n",
       "    <tr>\n",
       "      <th>demo</th>\n",
       "      <td>0</td>\n",
       "      <td>NaN</td>\n",
       "      <td>NaN</td>\n",
       "    </tr>\n",
       "    <tr>\n",
       "      <th>full</th>\n",
       "      <td>909</td>\n",
       "      <td>16.23</td>\n",
       "      <td>2.90</td>\n",
       "    </tr>\n",
       "    <tr>\n",
       "      <th>score</th>\n",
       "      <td>868</td>\n",
       "      <td>15.78</td>\n",
       "      <td>3.79</td>\n",
       "    </tr>\n",
       "    <tr>\n",
       "      <th>text</th>\n",
       "      <td>842</td>\n",
       "      <td>15.04</td>\n",
       "      <td>4.27</td>\n",
       "    </tr>\n",
       "  </tbody>\n",
       "</table>\n",
       "</div>"
      ],
      "text/plain": [
       "           sum   mean   std\n",
       "condition                  \n",
       "demo         0    NaN   NaN\n",
       "full       909  16.23  2.90\n",
       "score      868  15.78  3.79\n",
       "text       842  15.04  4.27"
      ]
     },
     "execution_count": 211,
     "metadata": {},
     "output_type": "execute_result"
    }
   ],
   "source": [
    "part_file.groupby('condition')['n_landings'].agg(['sum', 'mean', 'std']).round(2)"
   ]
  },
  {
   "cell_type": "code",
   "execution_count": 212,
   "metadata": {},
   "outputs": [
    {
     "name": "stdout",
     "output_type": "stream",
     "text": [
      "F_onewayResult(statistic=1.4958970451274913, pvalue=0.22708833675543932)\n"
     ]
    }
   ],
   "source": [
    "utils.run_anova('n_landings', part_file)"
   ]
  },
  {
   "cell_type": "code",
   "execution_count": 94,
   "metadata": {},
   "outputs": [],
   "source": [
    "part_file['any_safe_landings'] = part_file['n_safe_landings'] > 0\n",
    "part_file['3_safe_landings'] = part_file['n_safe_landings'] >= 3"
   ]
  },
  {
   "cell_type": "code",
   "execution_count": 95,
   "metadata": {},
   "outputs": [
    {
     "name": "stdout",
     "output_type": "stream",
     "text": [
      "any_safe_landings  False  True \n",
      "condition                      \n",
      "demo                   0      0\n",
      "full                   2     54\n",
      "score                  8     47\n",
      "text                   7     49\n",
      "3_safe_landings  False  True \n",
      "condition                    \n",
      "demo                 0      0\n",
      "full                 7     49\n",
      "score               12     43\n",
      "text                13     43\n"
     ]
    }
   ],
   "source": [
    "print(part_file.groupby('condition')['any_safe_landings'].value_counts().unstack())\n",
    "print(part_file.groupby('condition')['3_safe_landings'].value_counts().unstack())"
   ]
  },
  {
   "cell_type": "code",
   "execution_count": 103,
   "metadata": {},
   "outputs": [
    {
     "name": "stdout",
     "output_type": "stream",
     "text": [
      "Adjusted alpha (Bonferroni): 0.016666666666666666\n",
      "P-values: [0.04029126704877053, 0.14295227524972248, 0.7680537861294822]\n",
      "Significant results: [False, False, False]\n"
     ]
    }
   ],
   "source": [
    "c_table = part_file[part_file['prolific_id'].isin(struggle_safe_ids)].groupby('condition')['any_safe_landings'].value_counts().unstack()\n",
    "\n",
    "# Performing Fisher's Exact Test for each pair and applying Bonferroni correction\n",
    "p_values = []\n",
    "comparisons = [('full', 'score'), ('full', 'text'), ('score', 'text')]\n",
    "for group1, group2 in comparisons:\n",
    "    table = c_table.loc[[group1, group2], :]\n",
    "    oddsratio, p_value = stats.fisher_exact(table)\n",
    "    # res = stats.chi2_contingency(table)\n",
    "    p_values.append(p_value)\n",
    "    # p_values.append(res.pvalue)\n",
    "\n",
    "# Adjust p-values for multiple comparisons (Bonferroni correction)\n",
    "alpha = 0.05 / len(comparisons)\n",
    "significant_results = [p < alpha for p in p_values]\n",
    "\n",
    "# Output results\n",
    "print(f\"Adjusted alpha (Bonferroni): {alpha}\")\n",
    "print(f\"P-values: {p_values}\")\n",
    "print(f\"Significant results: {significant_results}\")"
   ]
  },
  {
   "cell_type": "code",
   "execution_count": 100,
   "metadata": {},
   "outputs": [
    {
     "name": "stdout",
     "output_type": "stream",
     "text": [
      "Adjusted alpha (Bonferroni): 0.016666666666666666\n",
      "P-values: [0.29318779388914956, 0.21735650056954303, 1.0]\n",
      "Significant results: [False, False, False]\n"
     ]
    }
   ],
   "source": [
    "c_table = part_file.groupby('condition')['3_safe_landings'].value_counts().unstack()\n",
    "\n",
    "# Performing Fisher's Exact Test for each pair and applying Bonferroni correction\n",
    "p_values = []\n",
    "comparisons = [('full', 'score'), ('full', 'text'), ('score', 'text')]\n",
    "for group1, group2 in comparisons:\n",
    "    table = c_table.loc[[group1, group2], :]\n",
    "    res = stats.chi2_contingency(table)\n",
    "    p_values.append(res.pvalue)\n",
    "\n",
    "# Adjust p-values for multiple comparisons (Bonferroni correction)\n",
    "alpha = 0.05 / len(comparisons)\n",
    "significant_results = [p < alpha for p in p_values]\n",
    "\n",
    "# Output results\n",
    "print(f\"Adjusted alpha (Bonferroni): {alpha}\")\n",
    "print(f\"P-values: {p_values}\")\n",
    "print(f\"Significant results: {significant_results}\")"
   ]
  },
  {
   "cell_type": "code",
   "execution_count": 105,
   "metadata": {},
   "outputs": [
    {
     "name": "stdout",
     "output_type": "stream",
     "text": [
      "skipping participant 6522a86994a5ce0d7bb9feba trial 17\n"
     ]
    }
   ],
   "source": [
    "# calculate which trial they first achieved three successes in a row\n",
    "part_file['three_in_a_row_idx'] = 0\n",
    "n_trials = 20\n",
    "for i in range(len(part_file)):\n",
    "    part = part_file.iloc[i]\n",
    "    data = pd.read_csv(data_dir + part['prolific_id'] + '/survey_responses.csv')\n",
    "    for trial in range(n_trials-2):\n",
    "        try:\n",
    "            if (data['outcome'].iloc[trial] == 'Safe') & (data['outcome'].iloc[trial+1] == 'Safe') & (data['outcome'].iloc[trial+2] == 'Safe'):\n",
    "                part_file.loc[part_file['prolific_id'] == part['prolific_id'], 'three_in_a_row_idx'] = trial + 1\n",
    "                break\n",
    "        except:\n",
    "            print(f\"skipping participant {part['prolific_id']} trial {trial}\")"
   ]
  },
  {
   "cell_type": "code",
   "execution_count": null,
   "metadata": {},
   "outputs": [],
   "source": [
    "part_file[['prolific_id', 'three_in_a_row_idx']].head(10)"
   ]
  },
  {
   "cell_type": "code",
   "execution_count": 106,
   "metadata": {},
   "outputs": [
    {
     "name": "stdout",
     "output_type": "stream",
     "text": [
      "skipping participant 6522a86994a5ce0d7bb9feba trial 15\n"
     ]
    }
   ],
   "source": [
    "part_file['five_in_a_row_idx'] = 0\n",
    "n_trials = 20\n",
    "for i in range(len(part_file)):\n",
    "    part = part_file.iloc[i]\n",
    "    data = pd.read_csv(data_dir + part['prolific_id'] + '/survey_responses.csv')\n",
    "    for trial in range(n_trials-4):\n",
    "        try:\n",
    "            if (data['outcome'].iloc[trial] == 'Safe') & (data['outcome'].iloc[trial+1] == 'Safe') & (data['outcome'].iloc[trial+2] == 'Safe') & (data['outcome'].iloc[trial+3] == 'Safe') & (data['outcome'].iloc[trial+4] == 'Safe'):\n",
    "                part_file.loc[part_file['prolific_id'] == part['prolific_id'], 'five_in_a_row_idx'] = trial + 1\n",
    "                break\n",
    "        except:\n",
    "            print(f\"skipping participant {part['prolific_id']} trial {trial}\")"
   ]
  },
  {
   "cell_type": "code",
   "execution_count": 113,
   "metadata": {},
   "outputs": [
    {
     "name": "stdout",
     "output_type": "stream",
     "text": [
      "reached_mastery_3  False  True \n",
      "condition                      \n",
      "demo                   0      0\n",
      "full                  15     13\n",
      "score                 16     11\n",
      "text                  18     10\n",
      "reached_mastery_5  False  True \n",
      "condition                      \n",
      "demo                   0      0\n",
      "full                  23      5\n",
      "score                 20      7\n",
      "text                  23      5\n"
     ]
    }
   ],
   "source": [
    "part_file['reached_mastery_3'] = part_file['three_in_a_row_idx'] > 0\n",
    "part_file['reached_mastery_5'] = part_file['five_in_a_row_idx'] > 0\n",
    "\n",
    "print(part_file[part_file['prolific_id'].isin(struggle_safe_ids)].groupby('condition')['reached_mastery_3'].value_counts().unstack())\n",
    "print(part_file[part_file['prolific_id'].isin(struggle_safe_ids)].groupby('condition')['reached_mastery_5'].value_counts().unstack())"
   ]
  },
  {
   "cell_type": "code",
   "execution_count": 112,
   "metadata": {},
   "outputs": [
    {
     "name": "stdout",
     "output_type": "stream",
     "text": [
      "Adjusted alpha (Bonferroni): 0.016666666666666666\n",
      "P-values: [0.7874910585428516, 0.5874826430537712, 0.7847735528976195]\n",
      "Significant results: [False, False, False]\n"
     ]
    }
   ],
   "source": [
    "c_table = part_file[part_file['prolific_id'].isin(struggle_safe_ids)].groupby('condition')['reached_mastery_3'].value_counts().unstack()\n",
    "\n",
    "# Performing Fisher's Exact Test for each pair and applying Bonferroni correction\n",
    "p_values = []\n",
    "comparisons = [('full', 'score'), ('full', 'text'), ('score', 'text')]\n",
    "for group1, group2 in comparisons:\n",
    "    table = c_table.loc[[group1, group2], :]\n",
    "    res = stats.fisher_exact(table)\n",
    "    p_values.append(res.pvalue)\n",
    "\n",
    "# Adjust p-values for multiple comparisons (Bonferroni correction)\n",
    "alpha = 0.05 / len(comparisons)\n",
    "significant_results = [p < alpha for p in p_values]\n",
    "\n",
    "# Output results\n",
    "print(f\"Adjusted alpha (Bonferroni): {alpha}\")\n",
    "print(f\"P-values: {p_values}\")\n",
    "print(f\"Significant results: {significant_results}\")"
   ]
  },
  {
   "cell_type": "code",
   "execution_count": 109,
   "metadata": {},
   "outputs": [
    {
     "name": "stdout",
     "output_type": "stream",
     "text": [
      "Adjusted alpha (Bonferroni): 0.016666666666666666\n",
      "P-values: [0.17851774356430208, 1.0, 0.1785177435643021]\n",
      "Significant results: [False, False, False]\n"
     ]
    }
   ],
   "source": [
    "c_table = part_file.groupby('condition')['reached_mastery_5'].value_counts().unstack()\n",
    "\n",
    "# Performing Fisher's Exact Test for each pair and applying Bonferroni correction\n",
    "p_values = []\n",
    "comparisons = [('full', 'score'), ('full', 'text'), ('score', 'text')]\n",
    "for group1, group2 in comparisons:\n",
    "    table = c_table.loc[[group1, group2], :]\n",
    "    res = stats.fisher_exact(table)\n",
    "    p_values.append(res.pvalue)\n",
    "\n",
    "# Adjust p-values for multiple comparisons (Bonferroni correction)\n",
    "alpha = 0.05 / len(comparisons)\n",
    "significant_results = [p < alpha for p in p_values]\n",
    "\n",
    "# Output results\n",
    "print(f\"Adjusted alpha (Bonferroni): {alpha}\")\n",
    "print(f\"P-values: {p_values}\")\n",
    "print(f\"Significant results: {significant_results}\")"
   ]
  },
  {
   "cell_type": "code",
   "execution_count": 116,
   "metadata": {},
   "outputs": [
    {
     "name": "stdout",
     "output_type": "stream",
     "text": [
      "               mean       std\n",
      "condition                    \n",
      "demo            NaN       NaN\n",
      "full       9.777778  4.733535\n",
      "score      7.921053  4.738466\n",
      "text       8.866667  5.679566\n",
      "               mean       std\n",
      "condition                    \n",
      "demo            NaN       NaN\n",
      "full       9.526316  4.776894\n",
      "score      8.269231  3.650290\n",
      "text       7.526316  4.439325\n"
     ]
    }
   ],
   "source": [
    "print(part_file[part_file['three_in_a_row_idx'] > 0].groupby('condition')['three_in_a_row_idx'].agg(['mean', 'std']))\n",
    "print(part_file[part_file['five_in_a_row_idx'] > 0].groupby('condition')['five_in_a_row_idx'].agg(['mean', 'std']))"
   ]
  },
  {
   "cell_type": "code",
   "execution_count": 118,
   "metadata": {},
   "outputs": [
    {
     "name": "stdout",
     "output_type": "stream",
     "text": [
      "three_in_a_row_idx   6     7     8    9     10    11    12    13    14    15  \\\n",
      "condition                                                                      \n",
      "full                0.0  0.00  0.00  0.0  0.08  0.31  0.08  0.08  0.23  0.08   \n",
      "score               0.0  0.18  0.45  0.0  0.00  0.00  0.00  0.00  0.18  0.09   \n",
      "text                0.1  0.00  0.20  0.1  0.00  0.00  0.10  0.00  0.00  0.20   \n",
      "\n",
      "three_in_a_row_idx    17    18  \n",
      "condition                       \n",
      "full                0.08  0.08  \n",
      "score               0.09  0.00  \n",
      "text                0.10  0.20  \n",
      "KruskalResult(statistic=3.7720232477570796, pvalue=0.15167554319089402)\n"
     ]
    }
   ],
   "source": [
    "utils.run_kruskal('three_in_a_row_idx', part_file[(part_file['three_in_a_row_idx'] > 0) & (part_file['prolific_id'].isin(struggle_safe_ids))])"
   ]
  },
  {
   "cell_type": "code",
   "execution_count": 120,
   "metadata": {},
   "outputs": [
    {
     "name": "stdout",
     "output_type": "stream",
     "text": [
      "F_onewayResult(statistic=1.919029355648576, pvalue=0.16378347458076276)\n"
     ]
    }
   ],
   "source": [
    "utils.run_anova('three_in_a_row_idx', part_file[(part_file['three_in_a_row_idx'] > 0) & (part_file['prolific_id'].isin(struggle_safe_ids))])"
   ]
  },
  {
   "cell_type": "code",
   "execution_count": 122,
   "metadata": {},
   "outputs": [
    {
     "name": "stdout",
     "output_type": "stream",
     "text": [
      "five_in_a_row_idx    8    9     11   12   13   14    15\n",
      "condition                                              \n",
      "full               0.00  0.0  0.20  0.2  0.0  0.4  0.20\n",
      "score              0.71  0.0  0.14  0.0  0.0  0.0  0.14\n",
      "text               0.20  0.2  0.00  0.2  0.2  0.0  0.20\n",
      "KruskalResult(statistic=5.1266149870801, pvalue=0.07704947788600189)\n"
     ]
    }
   ],
   "source": [
    "utils.run_kruskal('five_in_a_row_idx', part_file[(part_file['five_in_a_row_idx'] > 0) & (part_file['prolific_id'].isin(struggle_safe_ids))])"
   ]
  },
  {
   "cell_type": "code",
   "execution_count": 125,
   "metadata": {},
   "outputs": [
    {
     "name": "stdout",
     "output_type": "stream",
     "text": [
      "Adjusted alpha (Bonferroni): 0.016666666666666666\n",
      "P-values: [0.7874910585428516, 0.5874826430537712, 0.7847735528976195]\n",
      "Significant results: [False, False, False]\n"
     ]
    }
   ],
   "source": [
    "part_file['achieved_mastery_3'] = part_file['three_in_a_row_idx'] > 0\n",
    "c_table = part_file[part_file['prolific_id'].isin(struggle_safe_ids)].groupby('condition')['achieved_mastery_3'].value_counts().unstack()\n",
    "\n",
    "# Performing Fisher's Exact Test for each pair and applying Bonferroni correction\n",
    "p_values = []\n",
    "comparisons = [('full', 'score'), ('full', 'text'), ('score', 'text')]\n",
    "for group1, group2 in comparisons:\n",
    "    table = c_table.loc[[group1, group2], :]\n",
    "    res = stats.fisher_exact(table)\n",
    "    p_values.append(res.pvalue)\n",
    "\n",
    "# Adjust p-values for multiple comparisons (Bonferroni correction)\n",
    "alpha = 0.05 / len(comparisons)\n",
    "significant_results = [p < alpha for p in p_values]\n",
    "\n",
    "# Output results\n",
    "print(f\"Adjusted alpha (Bonferroni): {alpha}\")\n",
    "print(f\"P-values: {p_values}\")\n",
    "print(f\"Significant results: {significant_results}\")"
   ]
  },
  {
   "cell_type": "code",
   "execution_count": 127,
   "metadata": {},
   "outputs": [
    {
     "name": "stdout",
     "output_type": "stream",
     "text": [
      "Adjusted alpha (Bonferroni): 0.016666666666666666\n",
      "P-values: [0.5279409234589058, 1.0, 0.5279409234589056]\n",
      "Significant results: [False, False, False]\n"
     ]
    }
   ],
   "source": [
    "part_file['achieved_mastery_5'] = part_file['five_in_a_row_idx'] > 0\n",
    "c_table = part_file[part_file['prolific_id'].isin(struggle_safe_ids)].groupby('condition')['achieved_mastery_5'].value_counts().unstack()\n",
    "\n",
    "# Performing Fisher's Exact Test for each pair and applying Bonferroni correction\n",
    "p_values = []\n",
    "comparisons = [('full', 'score'), ('full', 'text'), ('score', 'text')]\n",
    "for group1, group2 in comparisons:\n",
    "    table = c_table.loc[[group1, group2], :]\n",
    "    res = stats.fisher_exact(table)\n",
    "    p_values.append(res.pvalue)\n",
    "\n",
    "# Adjust p-values for multiple comparisons (Bonferroni correction)\n",
    "alpha = 0.05 / len(comparisons)\n",
    "significant_results = [p < alpha for p in p_values]\n",
    "\n",
    "# Output results\n",
    "print(f\"Adjusted alpha (Bonferroni): {alpha}\")\n",
    "print(f\"P-values: {p_values}\")\n",
    "print(f\"Significant results: {significant_results}\")"
   ]
  },
  {
   "cell_type": "code",
   "execution_count": null,
   "metadata": {},
   "outputs": [],
   "source": [
    "# label each unsafe trial with which mistake they are making\n",
    "trial_file['mistake'] = ''\n",
    "for part in part_file['prolific_id']:\n",
    "    data = pd.read_csv(data_dir + part + '/survey_responses.csv')\n",
    "    for trial in data['trial']:\n",
    "        if data.loc[data['trial'] == trial, 'outcome'].values[0] == 'Unsafe':\n",
    "            # read in robusness file\n",
    "            robustness = pd.read_csv(data_dir + part + f'/trial_{trial}/robustness.csv')\n",
    "            reasons = \"\"\n",
    "            if robustness.iloc[-1]['landing_speed'] < 0:\n",
    "                reasons += \"landing_speed \"\n",
    "            if robustness.iloc[-1]['landing_angle'] < 0:\n",
    "                reasons += \"landing_angle \"\n",
    "            elif (robustness.iloc[-1]['landing_angle'] > 0) & (robustness.iloc[-1]['landing_speed'] > 0):\n",
    "                reasons += \"something else \"\n",
    "            trial_file.loc[(trial_file['prolific_id'] == part) & (trial_file['trial'] == trial), 'mistake'] = reasons"
   ]
  },
  {
   "cell_type": "code",
   "execution_count": null,
   "metadata": {},
   "outputs": [],
   "source": [
    "trial_file['mistake'].value_counts()"
   ]
  },
  {
   "cell_type": "code",
   "execution_count": null,
   "metadata": {},
   "outputs": [],
   "source": [
    "trial_file.groupby(['condition', 'mistake'])['trial'].count().unstack().drop(columns=[''])"
   ]
  },
  {
   "cell_type": "code",
   "execution_count": null,
   "metadata": {},
   "outputs": [],
   "source": [
    "trial_file.groupby(['condition', 'mistake'])['trial'].mean().unstack().drop(columns=['']).round(2)"
   ]
  },
  {
   "cell_type": "code",
   "execution_count": null,
   "metadata": {},
   "outputs": [],
   "source": [
    "trial_file[trial_file['mistake'] == 'something else ']"
   ]
  },
  {
   "cell_type": "markdown",
   "metadata": {},
   "source": [
    "From manual inspection, it looks like the \"something else\" instances are edge cases where the drone lands right on the edge of the landing pad. it is technically in bounds by my measures, but may have been counted as out of bounds by the javascript simulation. Should we leave as is?"
   ]
  },
  {
   "cell_type": "code",
   "execution_count": null,
   "metadata": {},
   "outputs": [],
   "source": [
    "fig, axs = plt.subplots(1,3, figsize=(8,6))\n",
    "n_trials = 20\n",
    "\n",
    "conditions = list(ids.keys())\n",
    "\n",
    "for a in range(len(axs)):\n",
    "    for i in range(len(ids[conditions[a]])):\n",
    "        part = ids[conditions[a]].iloc[i]\n",
    "        for trial in range(n_trials):\n",
    "            try:\n",
    "                reason = trial_file[(trial_file['prolific_id'] == part) & (trial_file['trial'] == trial+1)]['mistake'].values[0]\n",
    "                if 'speed' in reason and 'angle' not in reason:\n",
    "                    axs[a].plot(trial, i, 'ro')\n",
    "                elif 'angle' in reason and 'speed' not in reason:\n",
    "                    axs[a].plot(trial, i, 'bo')\n",
    "                elif 'angle' in reason and 'speed' in reason:\n",
    "                    axs[a].plot(trial, i, 'ko')\n",
    "            except:\n",
    "                print(f\"skipping participant {part} trial {trial}\")\n",
    "\n",
    "    axs[a].set_aspect('equal')\n",
    "    axs[a].set_title(f'{conditions[a]}')\n",
    "\n",
    "plt.show()"
   ]
  },
  {
   "cell_type": "code",
   "execution_count": null,
   "metadata": {},
   "outputs": [],
   "source": [
    "part_file.groupby('condition')['land_last_5'].agg(['mean', 'std'])"
   ]
  },
  {
   "cell_type": "markdown",
   "metadata": {},
   "source": [
    "### Are there different numbers of successful trials between conditions?"
   ]
  },
  {
   "cell_type": "code",
   "execution_count": 129,
   "metadata": {},
   "outputs": [
    {
     "data": {
      "text/html": [
       "<div>\n",
       "<style scoped>\n",
       "    .dataframe tbody tr th:only-of-type {\n",
       "        vertical-align: middle;\n",
       "    }\n",
       "\n",
       "    .dataframe tbody tr th {\n",
       "        vertical-align: top;\n",
       "    }\n",
       "\n",
       "    .dataframe thead th {\n",
       "        text-align: right;\n",
       "    }\n",
       "</style>\n",
       "<table border=\"1\" class=\"dataframe\">\n",
       "  <thead>\n",
       "    <tr style=\"text-align: right;\">\n",
       "      <th></th>\n",
       "      <th>mean</th>\n",
       "      <th>std</th>\n",
       "    </tr>\n",
       "    <tr>\n",
       "      <th>condition</th>\n",
       "      <th></th>\n",
       "      <th></th>\n",
       "    </tr>\n",
       "  </thead>\n",
       "  <tbody>\n",
       "    <tr>\n",
       "      <th>demo</th>\n",
       "      <td>NaN</td>\n",
       "      <td>NaN</td>\n",
       "    </tr>\n",
       "    <tr>\n",
       "      <th>full</th>\n",
       "      <td>5.821429</td>\n",
       "      <td>2.510033</td>\n",
       "    </tr>\n",
       "    <tr>\n",
       "      <th>score</th>\n",
       "      <td>6.592593</td>\n",
       "      <td>3.825615</td>\n",
       "    </tr>\n",
       "    <tr>\n",
       "      <th>text</th>\n",
       "      <td>7.821429</td>\n",
       "      <td>4.055664</td>\n",
       "    </tr>\n",
       "  </tbody>\n",
       "</table>\n",
       "</div>"
      ],
      "text/plain": [
       "               mean       std\n",
       "condition                    \n",
       "demo            NaN       NaN\n",
       "full       5.821429  2.510033\n",
       "score      6.592593  3.825615\n",
       "text       7.821429  4.055664"
      ]
     },
     "execution_count": 129,
     "metadata": {},
     "output_type": "execute_result"
    }
   ],
   "source": [
    "part_file[part_file['prolific_id'].isin(struggle_safe_ids)].groupby('condition')['n_crashes'].agg(['mean', 'std'])"
   ]
  },
  {
   "cell_type": "code",
   "execution_count": 131,
   "metadata": {},
   "outputs": [
    {
     "name": "stdout",
     "output_type": "stream",
     "text": [
      "n_safe_landings    0     1     2     3     4     5     6     7     8     9   \\\n",
      "condition                                                                     \n",
      "full             0.07  0.07  0.11  0.14  0.04  0.11  0.11  0.14  0.11  0.04   \n",
      "score            0.30  0.07  0.07  0.07  0.07  0.04  0.04  0.07  0.04  0.00   \n",
      "text             0.25  0.11  0.11  0.04  0.04  0.07  0.11  0.07  0.04  0.07   \n",
      "\n",
      "n_safe_landings    10    11    12    13  \n",
      "condition                                \n",
      "full             0.00  0.07  0.00  0.00  \n",
      "score            0.04  0.04  0.04  0.11  \n",
      "text             0.00  0.04  0.04  0.04  \n",
      "KruskalResult(statistic=1.330498930512734, pvalue=0.5141452503302397)\n"
     ]
    }
   ],
   "source": [
    "utils.run_kruskal('n_safe_landings', part_file[part_file['prolific_id'].isin(struggle_safe_ids)])"
   ]
  },
  {
   "cell_type": "code",
   "execution_count": 133,
   "metadata": {},
   "outputs": [
    {
     "name": "stdout",
     "output_type": "stream",
     "text": [
      "F_onewayResult(statistic=0.22366151254240285, pvalue=0.8000840231786424)\n"
     ]
    }
   ],
   "source": [
    "utils.run_anova('n_safe_landings', part_file[part_file['prolific_id'].isin(struggle_safe_ids)])"
   ]
  },
  {
   "cell_type": "code",
   "execution_count": 135,
   "metadata": {},
   "outputs": [
    {
     "name": "stdout",
     "output_type": "stream",
     "text": [
      "n_unsafe_landings    1     2     3     4     5     6     7     8     9     10  \\\n",
      "condition                                                                       \n",
      "full               0.00  0.00  0.00  0.07  0.04  0.14  0.00  0.25  0.04  0.11   \n",
      "score              0.00  0.04  0.07  0.11  0.00  0.04  0.11  0.07  0.07  0.04   \n",
      "text               0.04  0.04  0.07  0.04  0.04  0.07  0.11  0.21  0.07  0.04   \n",
      "\n",
      "n_unsafe_landings    11    12    13    14    16  \n",
      "condition                                        \n",
      "full               0.14  0.07  0.04  0.07  0.04  \n",
      "score              0.15  0.11  0.15  0.04  0.00  \n",
      "text               0.14  0.11  0.04  0.00  0.00  \n",
      "KruskalResult(statistic=1.864218439263347, pvalue=0.3937223869699551)\n"
     ]
    }
   ],
   "source": [
    "utils.run_kruskal('n_unsafe_landings', part_file[part_file['prolific_id'].isin(struggle_safe_ids)])"
   ]
  },
  {
   "cell_type": "code",
   "execution_count": 137,
   "metadata": {},
   "outputs": [
    {
     "name": "stdout",
     "output_type": "stream",
     "text": [
      "F_onewayResult(statistic=1.1460419059642084, pvalue=0.3230554636864928)\n"
     ]
    }
   ],
   "source": [
    "utils.run_anova('n_unsafe_landings', part_file[part_file['prolific_id'].isin(struggle_safe_ids)])"
   ]
  },
  {
   "cell_type": "code",
   "execution_count": 139,
   "metadata": {},
   "outputs": [
    {
     "name": "stdout",
     "output_type": "stream",
     "text": [
      "n_crashes    1     2     3     4     5     6     7     8     9     10    11  \\\n",
      "condition                                                                     \n",
      "full       0.04  0.07  0.11  0.04  0.14  0.25  0.18  0.07  0.00  0.04  0.07   \n",
      "score      0.04  0.00  0.19  0.07  0.11  0.15  0.22  0.07  0.00  0.00  0.04   \n",
      "text       0.00  0.00  0.11  0.07  0.14  0.14  0.14  0.07  0.04  0.04  0.07   \n",
      "\n",
      "n_crashes    12    13    16    17    19  \n",
      "condition                                \n",
      "full       0.00  0.00  0.00  0.00  0.00  \n",
      "score      0.00  0.04  0.04  0.04  0.00  \n",
      "text       0.07  0.04  0.00  0.04  0.04  \n",
      "KruskalResult(statistic=3.0696214295121806, pvalue=0.215496477612811)\n"
     ]
    }
   ],
   "source": [
    "utils.run_kruskal('n_crashes', part_file[part_file['prolific_id'].isin(struggle_safe_ids)])"
   ]
  },
  {
   "cell_type": "code",
   "execution_count": 141,
   "metadata": {},
   "outputs": [
    {
     "name": "stdout",
     "output_type": "stream",
     "text": [
      "F_onewayResult(statistic=2.2902207512528467, pvalue=0.10784538565910622)\n"
     ]
    }
   ],
   "source": [
    "utils.run_anova('n_crashes', part_file[part_file['prolific_id'].isin(struggle_safe_ids)])"
   ]
  },
  {
   "cell_type": "markdown",
   "metadata": {},
   "source": [
    "### Differences in outcomes in first/last half of the experiment?"
   ]
  },
  {
   "cell_type": "code",
   "execution_count": 142,
   "metadata": {},
   "outputs": [
    {
     "name": "stdout",
     "output_type": "stream",
     "text": [
      "TtestResult(statistic=7.208956908117774, pvalue=3.829327147266577e-12, df=332.0)\n"
     ]
    }
   ],
   "source": [
    "utils.run_ttest_quantiles('Crash', [0.5, 0.5], part_file, trial_file)"
   ]
  },
  {
   "cell_type": "code",
   "execution_count": 143,
   "metadata": {},
   "outputs": [
    {
     "name": "stdout",
     "output_type": "stream",
     "text": [
      "TtestResult(statistic=0.9108621490413038, pvalue=0.3630288585959077, df=332.0)\n"
     ]
    }
   ],
   "source": [
    "utils.run_ttest_quantiles('Unsafe', [0.5, 0.5], part_file, trial_file)"
   ]
  },
  {
   "cell_type": "code",
   "execution_count": 144,
   "metadata": {},
   "outputs": [
    {
     "name": "stdout",
     "output_type": "stream",
     "text": [
      "TtestResult(statistic=-6.053502225290444, pvalue=3.830216443483691e-09, df=332.0)\n"
     ]
    }
   ],
   "source": [
    "utils.run_ttest_quantiles('Safe', [0.5, 0.5], part_file, trial_file)"
   ]
  },
  {
   "cell_type": "code",
   "execution_count": 145,
   "metadata": {},
   "outputs": [
    {
     "name": "stdout",
     "output_type": "stream",
     "text": [
      "TtestResult(statistic=3.745662096886137, pvalue=0.00029055260441882686, df=108.0)\n"
     ]
    }
   ],
   "source": [
    "utils.run_ttest_quantiles('Crash', [0.5, 0.5], part_file, trial_file, idx=ids['score'])"
   ]
  },
  {
   "cell_type": "code",
   "execution_count": 146,
   "metadata": {},
   "outputs": [
    {
     "name": "stdout",
     "output_type": "stream",
     "text": [
      "TtestResult(statistic=1.212200021191791, pvalue=0.22808103596205506, df=108.0)\n"
     ]
    }
   ],
   "source": [
    "utils.run_ttest_quantiles('Unsafe', [0.5, 0.5], part_file, trial_file, idx=ids['score'])"
   ]
  },
  {
   "cell_type": "code",
   "execution_count": 147,
   "metadata": {},
   "outputs": [
    {
     "name": "stdout",
     "output_type": "stream",
     "text": [
      "TtestResult(statistic=-3.380789412013998, pvalue=0.0010069648581391116, df=108.0)\n"
     ]
    }
   ],
   "source": [
    "utils.run_ttest_quantiles('Safe', [0.5, 0.5], part_file, trial_file, idx=ids['score'])"
   ]
  },
  {
   "cell_type": "code",
   "execution_count": 148,
   "metadata": {},
   "outputs": [
    {
     "name": "stdout",
     "output_type": "stream",
     "text": [
      "TtestResult(statistic=3.4421535843007476, pvalue=0.0008170374093530136, df=110.0)\n"
     ]
    }
   ],
   "source": [
    "utils.run_ttest_quantiles('Crash', [0.5, 0.5], part_file, trial_file, idx=ids['text'])"
   ]
  },
  {
   "cell_type": "code",
   "execution_count": 149,
   "metadata": {},
   "outputs": [
    {
     "name": "stdout",
     "output_type": "stream",
     "text": [
      "TtestResult(statistic=-0.7167416705480839, pvalue=0.4750525752938308, df=110.0)\n"
     ]
    }
   ],
   "source": [
    "utils.run_ttest_quantiles('Unsafe', [0.5, 0.5], part_file, trial_file, idx=ids['text'])"
   ]
  },
  {
   "cell_type": "code",
   "execution_count": 150,
   "metadata": {},
   "outputs": [
    {
     "name": "stdout",
     "output_type": "stream",
     "text": [
      "TtestResult(statistic=-2.3813083369430736, pvalue=0.01896942686329226, df=110.0)\n"
     ]
    }
   ],
   "source": [
    "utils.run_ttest_quantiles('Safe', [0.5, 0.5], part_file, trial_file, idx=ids['text'])"
   ]
  },
  {
   "cell_type": "code",
   "execution_count": 151,
   "metadata": {},
   "outputs": [
    {
     "name": "stdout",
     "output_type": "stream",
     "text": [
      "TtestResult(statistic=5.727578685022427, pvalue=8.977972634551725e-08, df=110.0)\n"
     ]
    }
   ],
   "source": [
    "utils.run_ttest_quantiles('Crash', [0.5, 0.5], part_file, trial_file, idx=ids['full'])"
   ]
  },
  {
   "cell_type": "code",
   "execution_count": 152,
   "metadata": {},
   "outputs": [
    {
     "name": "stdout",
     "output_type": "stream",
     "text": [
      "TtestResult(statistic=1.1720778416057256, pvalue=0.24369807289744258, df=110.0)\n"
     ]
    }
   ],
   "source": [
    "utils.run_ttest_quantiles('Unsafe', [0.5, 0.5], part_file, trial_file, idx=ids['full'])"
   ]
  },
  {
   "cell_type": "code",
   "execution_count": 153,
   "metadata": {},
   "outputs": [
    {
     "name": "stdout",
     "output_type": "stream",
     "text": [
      "TtestResult(statistic=-5.052252223043949, pvalue=1.7494428392195221e-06, df=110.0)\n"
     ]
    }
   ],
   "source": [
    "utils.run_ttest_quantiles('Safe', [0.5, 0.5], part_file, trial_file, idx=ids['full'])"
   ]
  },
  {
   "cell_type": "code",
   "execution_count": 169,
   "metadata": {},
   "outputs": [],
   "source": [
    "trialsh1 = trial_file[trial_file['trial'] <= 10]\n",
    "outcomesh1 = pd.merge(trialsh1.groupby('prolific_id')['outcome'].value_counts().unstack(), part_file[['prolific_id', 'condition']], left_index=True, right_on='prolific_id')\n",
    "\n",
    "trialsh2 = trial_file[trial_file['trial'] > 10]\n",
    "outcomesh2 = pd.merge(trialsh2.groupby('prolific_id')['outcome'].value_counts().unstack(), part_file[['prolific_id', 'condition']], left_index=True, right_on='prolific_id')\n",
    "\n",
    "outcomesh2['safe_diffs'] = outcomesh2['Safe'] - outcomesh1['Safe']\n",
    "outcomesh2['unsafe_diffs'] = outcomesh2['Unsafe'] - outcomesh1['Unsafe']\n",
    "outcomesh2['crash_diffs'] = outcomesh2['Crash'] - outcomesh1['Crash']\n",
    "\n",
    "outcomes_struggle = outcomesh2[outcomesh2['prolific_id'].isin(struggle_safe_ids)]"
   ]
  },
  {
   "cell_type": "code",
   "execution_count": 216,
   "metadata": {},
   "outputs": [
    {
     "data": {
      "text/html": [
       "<div>\n",
       "<style scoped>\n",
       "    .dataframe tbody tr th:only-of-type {\n",
       "        vertical-align: middle;\n",
       "    }\n",
       "\n",
       "    .dataframe tbody tr th {\n",
       "        vertical-align: top;\n",
       "    }\n",
       "\n",
       "    .dataframe thead th {\n",
       "        text-align: right;\n",
       "    }\n",
       "</style>\n",
       "<table border=\"1\" class=\"dataframe\">\n",
       "  <thead>\n",
       "    <tr style=\"text-align: right;\">\n",
       "      <th></th>\n",
       "      <th>mean</th>\n",
       "      <th>std</th>\n",
       "    </tr>\n",
       "    <tr>\n",
       "      <th>condition</th>\n",
       "      <th></th>\n",
       "      <th></th>\n",
       "    </tr>\n",
       "  </thead>\n",
       "  <tbody>\n",
       "    <tr>\n",
       "      <th>demo</th>\n",
       "      <td>NaN</td>\n",
       "      <td>NaN</td>\n",
       "    </tr>\n",
       "    <tr>\n",
       "      <th>full</th>\n",
       "      <td>2.375000</td>\n",
       "      <td>2.332088</td>\n",
       "    </tr>\n",
       "    <tr>\n",
       "      <th>score</th>\n",
       "      <td>1.981818</td>\n",
       "      <td>2.181495</td>\n",
       "    </tr>\n",
       "    <tr>\n",
       "      <th>text</th>\n",
       "      <td>1.357143</td>\n",
       "      <td>2.652125</td>\n",
       "    </tr>\n",
       "  </tbody>\n",
       "</table>\n",
       "</div>"
      ],
      "text/plain": [
       "               mean       std\n",
       "condition                    \n",
       "demo            NaN       NaN\n",
       "full       2.375000  2.332088\n",
       "score      1.981818  2.181495\n",
       "text       1.357143  2.652125"
      ]
     },
     "execution_count": 216,
     "metadata": {},
     "output_type": "execute_result"
    }
   ],
   "source": [
    "outcomesh2.groupby('condition')['safe_diffs'].agg(['mean', 'std'])"
   ]
  },
  {
   "cell_type": "code",
   "execution_count": 218,
   "metadata": {},
   "outputs": [
    {
     "data": {
      "text/plain": [
       "TtestResult(statistic=2.1567796723939736, pvalue=0.03319992159363631, df=110.0)"
      ]
     },
     "execution_count": 218,
     "metadata": {},
     "output_type": "execute_result"
    }
   ],
   "source": [
    "stats.ttest_ind(outcomesh2[outcomesh2['condition'] == 'full']['safe_diffs'],\n",
    "                outcomesh2[outcomesh2['condition'] == 'text']['safe_diffs'])"
   ]
  },
  {
   "cell_type": "code",
   "execution_count": 155,
   "metadata": {},
   "outputs": [
    {
     "data": {
      "text/plain": [
       "F_onewayResult(statistic=2.5655854263372446, pvalue=0.07995687240086118)"
      ]
     },
     "execution_count": 155,
     "metadata": {},
     "output_type": "execute_result"
    }
   ],
   "source": [
    "stats.f_oneway(outcomesh2[outcomesh2['condition'] == 'score']['safe_diffs'],\n",
    "              outcomesh2[outcomesh2['condition'] == 'text']['safe_diffs'],\n",
    "              outcomesh2[outcomesh2['condition'] == 'full']['safe_diffs'])"
   ]
  },
  {
   "cell_type": "code",
   "execution_count": 214,
   "metadata": {},
   "outputs": [
    {
     "data": {
      "text/plain": [
       "TtestResult(statistic=-1.3539194963187393, pvalue=0.17856261670454238, df=109.0)"
      ]
     },
     "execution_count": 214,
     "metadata": {},
     "output_type": "execute_result"
    }
   ],
   "source": [
    "stats.ttest_ind(outcomesh2[outcomesh2['condition'] == 'text']['safe_diffs'],\n",
    "                outcomesh2[outcomesh2['condition'] == 'score']['safe_diffs'])"
   ]
  },
  {
   "cell_type": "code",
   "execution_count": 156,
   "metadata": {},
   "outputs": [
    {
     "data": {
      "text/plain": [
       "KruskalResult(statistic=4.690758582010283, pvalue=0.09581085504236013)"
      ]
     },
     "execution_count": 156,
     "metadata": {},
     "output_type": "execute_result"
    }
   ],
   "source": [
    "stats.kruskal(outcomesh2[outcomesh2['condition'] == 'score']['safe_diffs'],\n",
    "              outcomesh2[outcomesh2['condition'] == 'text']['safe_diffs'],\n",
    "              outcomesh2[outcomesh2['condition'] == 'full']['safe_diffs'])"
   ]
  },
  {
   "cell_type": "code",
   "execution_count": 161,
   "metadata": {},
   "outputs": [
    {
     "data": {
      "text/plain": [
       "F_onewayResult(statistic=2.211023225151518, pvalue=0.11284503519291417)"
      ]
     },
     "execution_count": 161,
     "metadata": {},
     "output_type": "execute_result"
    }
   ],
   "source": [
    "stats.f_oneway(outcomesh2[outcomesh2['condition'] == 'score']['unsafe_diffs'],\n",
    "              outcomesh2[outcomesh2['condition'] == 'text']['unsafe_diffs'],\n",
    "              outcomesh2[outcomesh2['condition'] == 'full']['unsafe_diffs'])"
   ]
  },
  {
   "cell_type": "code",
   "execution_count": 162,
   "metadata": {},
   "outputs": [
    {
     "data": {
      "text/plain": [
       "KruskalResult(statistic=5.086178213878921, pvalue=0.07862314895515005)"
      ]
     },
     "execution_count": 162,
     "metadata": {},
     "output_type": "execute_result"
    }
   ],
   "source": [
    "stats.kruskal(outcomesh2[outcomesh2['condition'] == 'score']['unsafe_diffs'],\n",
    "              outcomesh2[outcomesh2['condition'] == 'text']['unsafe_diffs'],\n",
    "              outcomesh2[outcomesh2['condition'] == 'full']['unsafe_diffs'])"
   ]
  },
  {
   "cell_type": "code",
   "execution_count": 176,
   "metadata": {},
   "outputs": [
    {
     "data": {
      "text/html": [
       "<div>\n",
       "<style scoped>\n",
       "    .dataframe tbody tr th:only-of-type {\n",
       "        vertical-align: middle;\n",
       "    }\n",
       "\n",
       "    .dataframe tbody tr th {\n",
       "        vertical-align: top;\n",
       "    }\n",
       "\n",
       "    .dataframe thead th {\n",
       "        text-align: right;\n",
       "    }\n",
       "</style>\n",
       "<table border=\"1\" class=\"dataframe\">\n",
       "  <thead>\n",
       "    <tr style=\"text-align: right;\">\n",
       "      <th></th>\n",
       "      <th>mean</th>\n",
       "      <th>std</th>\n",
       "    </tr>\n",
       "    <tr>\n",
       "      <th>condition</th>\n",
       "      <th></th>\n",
       "      <th></th>\n",
       "    </tr>\n",
       "  </thead>\n",
       "  <tbody>\n",
       "    <tr>\n",
       "      <th>demo</th>\n",
       "      <td>NaN</td>\n",
       "      <td>NaN</td>\n",
       "    </tr>\n",
       "    <tr>\n",
       "      <th>full</th>\n",
       "      <td>-0.250000</td>\n",
       "      <td>2.443813</td>\n",
       "    </tr>\n",
       "    <tr>\n",
       "      <th>score</th>\n",
       "      <td>-0.222222</td>\n",
       "      <td>2.708013</td>\n",
       "    </tr>\n",
       "    <tr>\n",
       "      <th>text</th>\n",
       "      <td>0.142857</td>\n",
       "      <td>2.429972</td>\n",
       "    </tr>\n",
       "  </tbody>\n",
       "</table>\n",
       "</div>"
      ],
      "text/plain": [
       "               mean       std\n",
       "condition                    \n",
       "demo            NaN       NaN\n",
       "full      -0.250000  2.443813\n",
       "score     -0.222222  2.708013\n",
       "text       0.142857  2.429972"
      ]
     },
     "execution_count": 176,
     "metadata": {},
     "output_type": "execute_result"
    }
   ],
   "source": [
    "outcomes_struggle.groupby('condition')['unsafe_diffs'].agg(['mean', 'std'])"
   ]
  },
  {
   "cell_type": "code",
   "execution_count": 178,
   "metadata": {},
   "outputs": [
    {
     "data": {
      "text/plain": [
       "TtestResult(statistic=0.603198956361467, pvalue=0.5489016193433884, df=54.0)"
      ]
     },
     "execution_count": 178,
     "metadata": {},
     "output_type": "execute_result"
    }
   ],
   "source": [
    "stats.ttest_ind(outcomes_struggle[outcomes_struggle['condition'] == 'text']['unsafe_diffs'],\n",
    "                outcomes_struggle[outcomes_struggle['condition'] == 'full']['unsafe_diffs'])"
   ]
  },
  {
   "cell_type": "code",
   "execution_count": null,
   "metadata": {},
   "outputs": [],
   "source": [
    "sp.posthoc_dunn(outcomesh2, val_col='unsafe_diffs', group_col='condition', p_adjust='bonferroni')"
   ]
  },
  {
   "cell_type": "code",
   "execution_count": 166,
   "metadata": {},
   "outputs": [
    {
     "data": {
      "text/plain": [
       "F_onewayResult(statistic=0.7167261873661696, pvalue=0.4898715695100194)"
      ]
     },
     "execution_count": 166,
     "metadata": {},
     "output_type": "execute_result"
    }
   ],
   "source": [
    "stats.f_oneway(outcomesh2[outcomesh2['condition'] == 'score']['crash_diffs'],\n",
    "              outcomesh2[outcomesh2['condition'] == 'text']['crash_diffs'],\n",
    "              outcomesh2[outcomesh2['condition'] == 'full']['crash_diffs'])"
   ]
  },
  {
   "cell_type": "code",
   "execution_count": 167,
   "metadata": {},
   "outputs": [
    {
     "data": {
      "text/plain": [
       "KruskalResult(statistic=1.034322618515905, pvalue=0.5962106055862317)"
      ]
     },
     "execution_count": 167,
     "metadata": {},
     "output_type": "execute_result"
    }
   ],
   "source": [
    "stats.kruskal(outcomesh2[outcomesh2['condition'] == 'score']['crash_diffs'],\n",
    "              outcomesh2[outcomesh2['condition'] == 'text']['crash_diffs'],\n",
    "              outcomesh2[outcomesh2['condition'] == 'full']['crash_diffs'])"
   ]
  },
  {
   "cell_type": "code",
   "execution_count": 179,
   "metadata": {},
   "outputs": [
    {
     "data": {
      "text/html": [
       "<div>\n",
       "<style scoped>\n",
       "    .dataframe tbody tr th:only-of-type {\n",
       "        vertical-align: middle;\n",
       "    }\n",
       "\n",
       "    .dataframe tbody tr th {\n",
       "        vertical-align: top;\n",
       "    }\n",
       "\n",
       "    .dataframe thead th {\n",
       "        text-align: right;\n",
       "    }\n",
       "</style>\n",
       "<table border=\"1\" class=\"dataframe\">\n",
       "  <thead>\n",
       "    <tr style=\"text-align: right;\">\n",
       "      <th></th>\n",
       "      <th>crash_diffs</th>\n",
       "      <th>unsafe_diffs</th>\n",
       "      <th>safe_diffs</th>\n",
       "    </tr>\n",
       "    <tr>\n",
       "      <th>condition</th>\n",
       "      <th></th>\n",
       "      <th></th>\n",
       "      <th></th>\n",
       "    </tr>\n",
       "  </thead>\n",
       "  <tbody>\n",
       "    <tr>\n",
       "      <th>demo</th>\n",
       "      <td>NaN</td>\n",
       "      <td>NaN</td>\n",
       "      <td>NaN</td>\n",
       "    </tr>\n",
       "    <tr>\n",
       "      <th>full</th>\n",
       "      <td>-3.04</td>\n",
       "      <td>-0.25</td>\n",
       "      <td>3.32</td>\n",
       "    </tr>\n",
       "    <tr>\n",
       "      <th>score</th>\n",
       "      <td>-2.07</td>\n",
       "      <td>-0.22</td>\n",
       "      <td>2.30</td>\n",
       "    </tr>\n",
       "    <tr>\n",
       "      <th>text</th>\n",
       "      <td>-2.32</td>\n",
       "      <td>0.14</td>\n",
       "      <td>2.36</td>\n",
       "    </tr>\n",
       "  </tbody>\n",
       "</table>\n",
       "</div>"
      ],
      "text/plain": [
       "           crash_diffs  unsafe_diffs  safe_diffs\n",
       "condition                                       \n",
       "demo               NaN           NaN         NaN\n",
       "full             -3.04         -0.25        3.32\n",
       "score            -2.07         -0.22        2.30\n",
       "text             -2.32          0.14        2.36"
      ]
     },
     "execution_count": 179,
     "metadata": {},
     "output_type": "execute_result"
    }
   ],
   "source": [
    "outcomes_struggle.groupby('condition')[['crash_diffs','unsafe_diffs','safe_diffs']].mean().round(2)"
   ]
  },
  {
   "cell_type": "markdown",
   "metadata": {},
   "source": [
    "### What about first and last quarter?"
   ]
  },
  {
   "cell_type": "code",
   "execution_count": 180,
   "metadata": {},
   "outputs": [
    {
     "name": "stdout",
     "output_type": "stream",
     "text": [
      "TtestResult(statistic=10.028846230962033, pvalue=7.514513119341363e-21, df=332.0)\n"
     ]
    }
   ],
   "source": [
    "utils.run_ttest_quantiles('Crash', [0.25, 0.75], part_file, trial_file)"
   ]
  },
  {
   "cell_type": "code",
   "execution_count": 181,
   "metadata": {},
   "outputs": [
    {
     "name": "stdout",
     "output_type": "stream",
     "text": [
      "TtestResult(statistic=1.3495827913746654, pvalue=0.17806937138725573, df=332.0)\n"
     ]
    }
   ],
   "source": [
    "utils.run_ttest_quantiles('Unsafe', [0.25, 0.75], part_file, trial_file)"
   ]
  },
  {
   "cell_type": "code",
   "execution_count": 182,
   "metadata": {},
   "outputs": [
    {
     "name": "stdout",
     "output_type": "stream",
     "text": [
      "TtestResult(statistic=-9.885521305751617, pvalue=2.2795711295876254e-20, df=332.0)\n"
     ]
    }
   ],
   "source": [
    "utils.run_ttest_quantiles('Safe', [0.25, 0.75], part_file, trial_file)"
   ]
  },
  {
   "cell_type": "code",
   "execution_count": 183,
   "metadata": {},
   "outputs": [
    {
     "name": "stdout",
     "output_type": "stream",
     "text": [
      "TtestResult(statistic=5.007953872596047, pvalue=2.157075261832122e-06, df=108.0)\n"
     ]
    }
   ],
   "source": [
    "utils.run_ttest_quantiles('Crash', [0.25, 0.75], part_file, trial_file, idx=ids['score'])"
   ]
  },
  {
   "cell_type": "code",
   "execution_count": 184,
   "metadata": {},
   "outputs": [
    {
     "name": "stdout",
     "output_type": "stream",
     "text": [
      "TtestResult(statistic=1.3559452945699282, pvalue=0.17794495007976247, df=108.0)\n"
     ]
    }
   ],
   "source": [
    "utils.run_ttest_quantiles('Unsafe', [0.25, 0.75], part_file, trial_file, idx=ids['score'])"
   ]
  },
  {
   "cell_type": "code",
   "execution_count": 185,
   "metadata": {},
   "outputs": [
    {
     "name": "stdout",
     "output_type": "stream",
     "text": [
      "TtestResult(statistic=-5.486077705313302, pvalue=2.7339917994325286e-07, df=108.0)\n"
     ]
    }
   ],
   "source": [
    "utils.run_ttest_quantiles('Safe', [0.25, 0.75], part_file, trial_file, idx=ids['score'])"
   ]
  },
  {
   "cell_type": "code",
   "execution_count": 186,
   "metadata": {},
   "outputs": [
    {
     "name": "stdout",
     "output_type": "stream",
     "text": [
      "TtestResult(statistic=5.453735897164996, pvalue=3.0640831731314436e-07, df=110.0)\n"
     ]
    }
   ],
   "source": [
    "utils.run_ttest_quantiles('Crash', [0.25, 0.75], part_file, trial_file, idx=ids['text'])"
   ]
  },
  {
   "cell_type": "code",
   "execution_count": 187,
   "metadata": {},
   "outputs": [
    {
     "name": "stdout",
     "output_type": "stream",
     "text": [
      "TtestResult(statistic=-0.44734917640211813, pvalue=0.6555026253337277, df=110.0)\n"
     ]
    }
   ],
   "source": [
    "utils.run_ttest_quantiles('Unsafe', [0.25, 0.75], part_file, trial_file, idx=ids['text'])"
   ]
  },
  {
   "cell_type": "code",
   "execution_count": 188,
   "metadata": {},
   "outputs": [
    {
     "name": "stdout",
     "output_type": "stream",
     "text": [
      "TtestResult(statistic=-4.453899981173935, pvalue=2.0346689222092292e-05, df=110.0)\n"
     ]
    }
   ],
   "source": [
    "utils.run_ttest_quantiles('Safe', [0.25, 0.75], part_file, trial_file, idx=ids['text'])"
   ]
  },
  {
   "cell_type": "code",
   "execution_count": 189,
   "metadata": {},
   "outputs": [
    {
     "name": "stdout",
     "output_type": "stream",
     "text": [
      "TtestResult(statistic=7.1885394807877505, pvalue=8.341835390112227e-11, df=110.0)\n"
     ]
    }
   ],
   "source": [
    "utils.run_ttest_quantiles('Crash', [0.25, 0.75], part_file, trial_file, idx=ids['full'])"
   ]
  },
  {
   "cell_type": "code",
   "execution_count": 190,
   "metadata": {},
   "outputs": [
    {
     "name": "stdout",
     "output_type": "stream",
     "text": [
      "TtestResult(statistic=1.54204485079309, pvalue=0.12593466190182978, df=110.0)\n"
     ]
    }
   ],
   "source": [
    "utils.run_ttest_quantiles('Unsafe', [0.25, 0.75], part_file, trial_file, idx=ids['full'])"
   ]
  },
  {
   "cell_type": "code",
   "execution_count": 191,
   "metadata": {},
   "outputs": [
    {
     "name": "stdout",
     "output_type": "stream",
     "text": [
      "TtestResult(statistic=-7.4685431748029485, pvalue=2.050681554603695e-11, df=110.0)\n"
     ]
    }
   ],
   "source": [
    "utils.run_ttest_quantiles('Safe', [0.25, 0.75], part_file, trial_file, idx=ids['full'])"
   ]
  },
  {
   "cell_type": "code",
   "execution_count": 192,
   "metadata": {},
   "outputs": [],
   "source": [
    "trialsq1 = trial_file[trial_file['trial'] <= 5]\n",
    "outcomesq1 = pd.merge(trialsq1.groupby('prolific_id')['outcome'].value_counts().unstack(), part_file[['prolific_id', 'condition']], left_index=True, right_on='prolific_id')\n",
    "\n",
    "trialsq4 = trial_file[trial_file['trial'] > 15]\n",
    "outcomesq4 = pd.merge(trialsq4.groupby('prolific_id')['outcome'].value_counts().unstack(), part_file[['prolific_id', 'condition']], left_index=True, right_on='prolific_id')\n",
    "\n",
    "outcomesq4['safe_diffs'] = outcomesq4['Safe'] - outcomesq1['Safe']\n",
    "outcomesq4['unsafe_diffs'] = outcomesq4['Unsafe'] - outcomesq1['Unsafe']\n",
    "outcomesq4['crash_diffs'] = outcomesq4['Crash'] - outcomesq1['Crash']\n",
    "\n",
    "outcomes_struggle = outcomesq4[outcomesq4['prolific_id'].isin(struggle_safe_ids)]"
   ]
  },
  {
   "cell_type": "code",
   "execution_count": 193,
   "metadata": {},
   "outputs": [
    {
     "data": {
      "text/plain": [
       "F_onewayResult(statistic=1.7521515209539669, pvalue=0.17663068372149035)"
      ]
     },
     "execution_count": 193,
     "metadata": {},
     "output_type": "execute_result"
    }
   ],
   "source": [
    "stats.f_oneway(outcomesq4[outcomesq4['condition'] == 'score']['safe_diffs'],\n",
    "              outcomesq4[outcomesq4['condition'] == 'text']['safe_diffs'],\n",
    "              outcomesq4[outcomesq4['condition'] == 'full']['safe_diffs'])"
   ]
  },
  {
   "cell_type": "code",
   "execution_count": 194,
   "metadata": {},
   "outputs": [
    {
     "data": {
      "text/plain": [
       "KruskalResult(statistic=3.1765243172166504, pvalue=0.20428031021869325)"
      ]
     },
     "execution_count": 194,
     "metadata": {},
     "output_type": "execute_result"
    }
   ],
   "source": [
    "stats.kruskal(outcomesq4[outcomesq4['condition'] == 'score']['safe_diffs'],\n",
    "              outcomesq4[outcomesq4['condition'] == 'text']['safe_diffs'],\n",
    "              outcomesq4[outcomesq4['condition'] == 'full']['safe_diffs'])"
   ]
  },
  {
   "cell_type": "code",
   "execution_count": 195,
   "metadata": {},
   "outputs": [
    {
     "data": {
      "text/plain": [
       "F_onewayResult(statistic=1.280834316544031, pvalue=0.28056944564581704)"
      ]
     },
     "execution_count": 195,
     "metadata": {},
     "output_type": "execute_result"
    }
   ],
   "source": [
    "stats.f_oneway(outcomesq4[outcomesq4['condition'] == 'score']['unsafe_diffs'],\n",
    "              outcomesq4[outcomesq4['condition'] == 'text']['unsafe_diffs'],\n",
    "              outcomesq4[outcomesq4['condition'] == 'full']['unsafe_diffs'])"
   ]
  },
  {
   "cell_type": "code",
   "execution_count": 196,
   "metadata": {},
   "outputs": [
    {
     "data": {
      "text/plain": [
       "KruskalResult(statistic=2.8428054004678187, pvalue=0.24137520227222597)"
      ]
     },
     "execution_count": 196,
     "metadata": {},
     "output_type": "execute_result"
    }
   ],
   "source": [
    "stats.kruskal(outcomesq4[outcomesq4['condition'] == 'score']['unsafe_diffs'],\n",
    "              outcomesq4[outcomesq4['condition'] == 'text']['unsafe_diffs'],\n",
    "              outcomesq4[outcomesq4['condition'] == 'full']['unsafe_diffs'])"
   ]
  },
  {
   "cell_type": "code",
   "execution_count": 197,
   "metadata": {},
   "outputs": [
    {
     "data": {
      "text/plain": [
       "F_onewayResult(statistic=0.3089001087055771, pvalue=0.7346803730763186)"
      ]
     },
     "execution_count": 197,
     "metadata": {},
     "output_type": "execute_result"
    }
   ],
   "source": [
    "stats.f_oneway(outcomesq4[outcomesq4['condition'] == 'score']['crash_diffs'],\n",
    "              outcomesq4[outcomesq4['condition'] == 'text']['crash_diffs'],\n",
    "              outcomesq4[outcomesq4['condition'] == 'full']['crash_diffs'])"
   ]
  },
  {
   "cell_type": "code",
   "execution_count": 198,
   "metadata": {},
   "outputs": [
    {
     "data": {
      "text/plain": [
       "KruskalResult(statistic=0.3556346759251577, pvalue=0.8370953150603646)"
      ]
     },
     "execution_count": 198,
     "metadata": {},
     "output_type": "execute_result"
    }
   ],
   "source": [
    "stats.kruskal(outcomesq4[outcomesq4['condition'] == 'score']['crash_diffs'],\n",
    "              outcomesq4[outcomesq4['condition'] == 'text']['crash_diffs'],\n",
    "              outcomesq4[outcomesq4['condition'] == 'full']['crash_diffs'])"
   ]
  },
  {
   "cell_type": "code",
   "execution_count": 199,
   "metadata": {},
   "outputs": [
    {
     "data": {
      "text/html": [
       "<div>\n",
       "<style scoped>\n",
       "    .dataframe tbody tr th:only-of-type {\n",
       "        vertical-align: middle;\n",
       "    }\n",
       "\n",
       "    .dataframe tbody tr th {\n",
       "        vertical-align: top;\n",
       "    }\n",
       "\n",
       "    .dataframe thead th {\n",
       "        text-align: right;\n",
       "    }\n",
       "</style>\n",
       "<table border=\"1\" class=\"dataframe\">\n",
       "  <thead>\n",
       "    <tr style=\"text-align: right;\">\n",
       "      <th></th>\n",
       "      <th>crash_diffs</th>\n",
       "      <th>unsafe_diffs</th>\n",
       "      <th>safe_diffs</th>\n",
       "    </tr>\n",
       "    <tr>\n",
       "      <th>condition</th>\n",
       "      <th></th>\n",
       "      <th></th>\n",
       "      <th></th>\n",
       "    </tr>\n",
       "  </thead>\n",
       "  <tbody>\n",
       "    <tr>\n",
       "      <th>demo</th>\n",
       "      <td>NaN</td>\n",
       "      <td>NaN</td>\n",
       "      <td>NaN</td>\n",
       "    </tr>\n",
       "    <tr>\n",
       "      <th>full</th>\n",
       "      <td>-1.500000</td>\n",
       "      <td>-0.321429</td>\n",
       "      <td>1.875000</td>\n",
       "    </tr>\n",
       "    <tr>\n",
       "      <th>score</th>\n",
       "      <td>-1.290909</td>\n",
       "      <td>-0.327273</td>\n",
       "      <td>1.690909</td>\n",
       "    </tr>\n",
       "    <tr>\n",
       "      <th>text</th>\n",
       "      <td>-1.321429</td>\n",
       "      <td>0.107143</td>\n",
       "      <td>1.303571</td>\n",
       "    </tr>\n",
       "  </tbody>\n",
       "</table>\n",
       "</div>"
      ],
      "text/plain": [
       "           crash_diffs  unsafe_diffs  safe_diffs\n",
       "condition                                       \n",
       "demo               NaN           NaN         NaN\n",
       "full         -1.500000     -0.321429    1.875000\n",
       "score        -1.290909     -0.327273    1.690909\n",
       "text         -1.321429      0.107143    1.303571"
      ]
     },
     "execution_count": 199,
     "metadata": {},
     "output_type": "execute_result"
    }
   ],
   "source": [
    "outcomesq4.groupby('condition')[['crash_diffs','unsafe_diffs','safe_diffs']].mean()"
   ]
  },
  {
   "cell_type": "markdown",
   "metadata": {},
   "source": [
    "### Look at robustness and efficiency"
   ]
  },
  {
   "cell_type": "code",
   "execution_count": null,
   "metadata": {},
   "outputs": [],
   "source": [
    "# what are max and min values for the robustness and efficiency measures?\n",
    "robustness_cols = ['left_boundary',\t'right_boundary', 'top_boundary', 'bottom_boundary', 'landing_left', 'landing_right', 'landing_speed','landing_angle']\n",
    "robustness_files = glob.glob(f'{data_dir}*/*/robustness.csv')\n",
    "robustness_vals = {v : {'max':-99999, 'min':99999} for v in robustness_cols}"
   ]
  },
  {
   "cell_type": "code",
   "execution_count": null,
   "metadata": {},
   "outputs": [],
   "source": [
    "for f in robustness_files:\n",
    "    df = pd.read_csv(f)\n",
    "    for col in robustness_cols:\n",
    "        if df[col].min() < robustness_vals[col]['min']:\n",
    "            robustness_vals[col]['min'] = min(df[col])\n",
    "        if df[col].max() > robustness_vals[col]['max']:\n",
    "            robustness_vals[col]['max'] = max(df[col])\n",
    "\n",
    "robustness_vals"
   ]
  },
  {
   "cell_type": "code",
   "execution_count": null,
   "metadata": {},
   "outputs": [],
   "source": [
    "fig, axs = plt.subplots(1,4, figsize=(10,6))\n",
    "n_trials = 20\n",
    "var = 'landing_speed'\n",
    "\n",
    "cmap = mpl.cm.seismic\n",
    "norm = mpl.colors.Normalize(vmin=robustness_vals[var]['max'], vmax=robustness_vals[var]['min'])\n",
    "\n",
    "conditions = list(ids.keys())\n",
    "\n",
    "for a in range(len(axs)-1):\n",
    "    for i in range(len(ids[conditions[a]])):\n",
    "        part = ids[conditions[a]].iloc[i]\n",
    "        data = pd.read_csv(data_dir + part + '/survey_responses.csv')\n",
    "        for trial in range(n_trials):\n",
    "            try:\n",
    "                outcome = data[data['trial'] == trial+1]['outcome'].values[0]\n",
    "                if outcome in ['Safe', 'Unsafe']:\n",
    "                    trial_data = pd.read_csv(f\"{data_dir}{part}/trial_{trial+1}/robustness.csv\")\n",
    "                    val = trial_data.iloc[-1][var]\n",
    "                    val_normed = (val - robustness_vals[var]['min'])/(robustness_vals[var]['max'] - robustness_vals[var]['min'])\n",
    "                    c = cmap(val_normed)\n",
    "                    axs[a].plot(trial, i, marker='o', color=c)\n",
    "            except:\n",
    "                print(f\"skipping participant {part} trial {trial}\")\n",
    "\n",
    "    axs[a].set_aspect('equal')\n",
    "    axs[a].set_title(f'{conditions[a]}')\n",
    "\n",
    "fig.colorbar(mpl.cm.ScalarMappable(norm=norm, cmap=cmap), orientation='vertical', label='robustness',cax=axs[-1])\n",
    "plt.show()"
   ]
  },
  {
   "cell_type": "code",
   "execution_count": null,
   "metadata": {},
   "outputs": [],
   "source": [
    "fig, axs = plt.subplots(1,4, figsize=(10,6))\n",
    "n_trials = 20\n",
    "var = 'landing_angle'\n",
    "\n",
    "cmap = mpl.cm.seismic\n",
    "norm = mpl.colors.Normalize(vmin=robustness_vals[var]['min'], vmax=robustness_vals[var]['max'])\n",
    "\n",
    "conditions = list(ids.keys())\n",
    "\n",
    "for a in range(len(axs)-1):\n",
    "    for i in range(len(ids[conditions[a]])):\n",
    "        part = ids[conditions[a]].iloc[i]\n",
    "        data = pd.read_csv(data_dir + part + '/survey_responses.csv')\n",
    "        for trial in range(n_trials):\n",
    "            try:\n",
    "                outcome = data[data['trial'] == trial+1]['outcome'].values[0]\n",
    "                if outcome in ['Safe', 'Unsafe']:\n",
    "                    trial_data = pd.read_csv(f\"{data_dir}{part}/trial_{trial+1}/robustness.csv\")\n",
    "                    val = trial_data.iloc[-1][var]\n",
    "                    val_normed = (val - robustness_vals[var]['min'])/(robustness_vals[var]['max'] - robustness_vals[var]['min'])\n",
    "                    c = cmap(val_normed)\n",
    "                    axs[a].plot(trial, i, marker='o', color=c)\n",
    "            except:\n",
    "                print(f\"skipping participant {part} trial {trial}\")\n",
    "\n",
    "    axs[a].set_aspect('equal')\n",
    "    axs[a].set_title(f'{conditions[a]}')\n",
    "\n",
    "fig.colorbar(mpl.cm.ScalarMappable(norm=norm, cmap=cmap), orientation='vertical', label='robustness',cax=axs[-1])\n",
    "plt.show()"
   ]
  },
  {
   "cell_type": "markdown",
   "metadata": {},
   "source": [
    "# Stuff ChatGPT suggested"
   ]
  },
  {
   "cell_type": "code",
   "execution_count": 71,
   "metadata": {},
   "outputs": [],
   "source": [
    "# Merge dataframes on prolific_id\n",
    "data = pd.merge(trial_file, part_file, on='prolific_id')\n",
    "data_struggle = data[data['prolific_id'].isin(struggle_safe_ids)]"
   ]
  },
  {
   "cell_type": "markdown",
   "metadata": {},
   "source": [
    "Proportion safe landings"
   ]
  },
  {
   "cell_type": "code",
   "execution_count": 26,
   "metadata": {},
   "outputs": [
    {
     "data": {
      "text/html": [
       "<div>\n",
       "<style scoped>\n",
       "    .dataframe tbody tr th:only-of-type {\n",
       "        vertical-align: middle;\n",
       "    }\n",
       "\n",
       "    .dataframe tbody tr th {\n",
       "        vertical-align: top;\n",
       "    }\n",
       "\n",
       "    .dataframe thead th {\n",
       "        text-align: right;\n",
       "    }\n",
       "</style>\n",
       "<table border=\"1\" class=\"dataframe\">\n",
       "  <thead>\n",
       "    <tr style=\"text-align: right;\">\n",
       "      <th></th>\n",
       "      <th>prolific_id</th>\n",
       "      <th>safe_landing</th>\n",
       "      <th>condition</th>\n",
       "    </tr>\n",
       "  </thead>\n",
       "  <tbody>\n",
       "    <tr>\n",
       "      <th>0</th>\n",
       "      <td>569b36e3af9ad70006640dd9</td>\n",
       "      <td>0.400000</td>\n",
       "      <td>score</td>\n",
       "    </tr>\n",
       "    <tr>\n",
       "      <th>1</th>\n",
       "      <td>56bae08f30d6b30005f8537a</td>\n",
       "      <td>0.850000</td>\n",
       "      <td>full</td>\n",
       "    </tr>\n",
       "    <tr>\n",
       "      <th>2</th>\n",
       "      <td>5760a995f371330006a47cb3</td>\n",
       "      <td>0.312500</td>\n",
       "      <td>full</td>\n",
       "    </tr>\n",
       "    <tr>\n",
       "      <th>3</th>\n",
       "      <td>5834a80a106ee1000120abd3</td>\n",
       "      <td>0.250000</td>\n",
       "      <td>text</td>\n",
       "    </tr>\n",
       "    <tr>\n",
       "      <th>4</th>\n",
       "      <td>587674406e2f8d00015c6148</td>\n",
       "      <td>0.800000</td>\n",
       "      <td>score</td>\n",
       "    </tr>\n",
       "    <tr>\n",
       "      <th>...</th>\n",
       "      <td>...</td>\n",
       "      <td>...</td>\n",
       "      <td>...</td>\n",
       "    </tr>\n",
       "    <tr>\n",
       "      <th>162</th>\n",
       "      <td>65a8e09cb517c52021059686</td>\n",
       "      <td>0.650000</td>\n",
       "      <td>score</td>\n",
       "    </tr>\n",
       "    <tr>\n",
       "      <th>163</th>\n",
       "      <td>65c10c2abe42175a96e3ef2f</td>\n",
       "      <td>0.000000</td>\n",
       "      <td>full</td>\n",
       "    </tr>\n",
       "    <tr>\n",
       "      <th>164</th>\n",
       "      <td>65c1779a3f438c1cdcd9641a</td>\n",
       "      <td>0.000000</td>\n",
       "      <td>text</td>\n",
       "    </tr>\n",
       "    <tr>\n",
       "      <th>165</th>\n",
       "      <td>65cefb1a4565306b90516a56</td>\n",
       "      <td>0.210526</td>\n",
       "      <td>text</td>\n",
       "    </tr>\n",
       "    <tr>\n",
       "      <th>166</th>\n",
       "      <td>65ede6b8d079917c5421785e</td>\n",
       "      <td>0.100000</td>\n",
       "      <td>text</td>\n",
       "    </tr>\n",
       "  </tbody>\n",
       "</table>\n",
       "<p>167 rows × 3 columns</p>\n",
       "</div>"
      ],
      "text/plain": [
       "                  prolific_id  safe_landing condition\n",
       "0    569b36e3af9ad70006640dd9      0.400000     score\n",
       "1    56bae08f30d6b30005f8537a      0.850000      full\n",
       "2    5760a995f371330006a47cb3      0.312500      full\n",
       "3    5834a80a106ee1000120abd3      0.250000      text\n",
       "4    587674406e2f8d00015c6148      0.800000     score\n",
       "..                        ...           ...       ...\n",
       "162  65a8e09cb517c52021059686      0.650000     score\n",
       "163  65c10c2abe42175a96e3ef2f      0.000000      full\n",
       "164  65c1779a3f438c1cdcd9641a      0.000000      text\n",
       "165  65cefb1a4565306b90516a56      0.210526      text\n",
       "166  65ede6b8d079917c5421785e      0.100000      text\n",
       "\n",
       "[167 rows x 3 columns]"
      ]
     },
     "execution_count": 26,
     "metadata": {},
     "output_type": "execute_result"
    }
   ],
   "source": [
    "# Proportion of Safe Landings\n",
    "data['safe_landing'] = data['outcome_code'].apply(lambda x: 1 if x == 2 else 0)\n",
    "proportion_safe = data.groupby('prolific_id')['safe_landing'].mean().reset_index()\n",
    "proportion_safe = pd.merge(proportion_safe, part_file[['prolific_id', 'condition']], on='prolific_id')\n",
    "proportion_safe"
   ]
  },
  {
   "cell_type": "code",
   "execution_count": 27,
   "metadata": {},
   "outputs": [
    {
     "data": {
      "text/html": [
       "<div>\n",
       "<style scoped>\n",
       "    .dataframe tbody tr th:only-of-type {\n",
       "        vertical-align: middle;\n",
       "    }\n",
       "\n",
       "    .dataframe tbody tr th {\n",
       "        vertical-align: top;\n",
       "    }\n",
       "\n",
       "    .dataframe thead th {\n",
       "        text-align: right;\n",
       "    }\n",
       "</style>\n",
       "<table border=\"1\" class=\"dataframe\">\n",
       "  <thead>\n",
       "    <tr style=\"text-align: right;\">\n",
       "      <th></th>\n",
       "      <th>mean</th>\n",
       "      <th>std</th>\n",
       "    </tr>\n",
       "    <tr>\n",
       "      <th>condition</th>\n",
       "      <th></th>\n",
       "      <th></th>\n",
       "    </tr>\n",
       "  </thead>\n",
       "  <tbody>\n",
       "    <tr>\n",
       "      <th>demo</th>\n",
       "      <td>NaN</td>\n",
       "      <td>NaN</td>\n",
       "    </tr>\n",
       "    <tr>\n",
       "      <th>full</th>\n",
       "      <td>0.402268</td>\n",
       "      <td>0.220739</td>\n",
       "    </tr>\n",
       "    <tr>\n",
       "      <th>score</th>\n",
       "      <td>0.448923</td>\n",
       "      <td>0.292863</td>\n",
       "    </tr>\n",
       "    <tr>\n",
       "      <th>text</th>\n",
       "      <td>0.381720</td>\n",
       "      <td>0.276648</td>\n",
       "    </tr>\n",
       "  </tbody>\n",
       "</table>\n",
       "</div>"
      ],
      "text/plain": [
       "               mean       std\n",
       "condition                    \n",
       "demo            NaN       NaN\n",
       "full       0.402268  0.220739\n",
       "score      0.448923  0.292863\n",
       "text       0.381720  0.276648"
      ]
     },
     "execution_count": 27,
     "metadata": {},
     "output_type": "execute_result"
    }
   ],
   "source": [
    "proportion_safe.groupby('condition')['safe_landing'].agg(['mean', 'std'])\n",
    "# not going to bother with anova, these are very similar"
   ]
  },
  {
   "cell_type": "code",
   "execution_count": 73,
   "metadata": {},
   "outputs": [
    {
     "data": {
      "text/html": [
       "<div>\n",
       "<style scoped>\n",
       "    .dataframe tbody tr th:only-of-type {\n",
       "        vertical-align: middle;\n",
       "    }\n",
       "\n",
       "    .dataframe tbody tr th {\n",
       "        vertical-align: top;\n",
       "    }\n",
       "\n",
       "    .dataframe thead th {\n",
       "        text-align: right;\n",
       "    }\n",
       "</style>\n",
       "<table border=\"1\" class=\"dataframe\">\n",
       "  <thead>\n",
       "    <tr style=\"text-align: right;\">\n",
       "      <th></th>\n",
       "      <th>prolific_id</th>\n",
       "      <th>safe_landing</th>\n",
       "      <th>condition</th>\n",
       "    </tr>\n",
       "  </thead>\n",
       "  <tbody>\n",
       "    <tr>\n",
       "      <th>0</th>\n",
       "      <td>5760a995f371330006a47cb3</td>\n",
       "      <td>0.3125</td>\n",
       "      <td>full</td>\n",
       "    </tr>\n",
       "    <tr>\n",
       "      <th>1</th>\n",
       "      <td>5834a80a106ee1000120abd3</td>\n",
       "      <td>0.2500</td>\n",
       "      <td>text</td>\n",
       "    </tr>\n",
       "    <tr>\n",
       "      <th>2</th>\n",
       "      <td>58cb138127e23a0001b4fb5d</td>\n",
       "      <td>0.4500</td>\n",
       "      <td>full</td>\n",
       "    </tr>\n",
       "    <tr>\n",
       "      <th>3</th>\n",
       "      <td>5904dd5b352dd30001fb5e43</td>\n",
       "      <td>0.3500</td>\n",
       "      <td>full</td>\n",
       "    </tr>\n",
       "    <tr>\n",
       "      <th>4</th>\n",
       "      <td>590eb4006d77630001d3a28a</td>\n",
       "      <td>0.0000</td>\n",
       "      <td>score</td>\n",
       "    </tr>\n",
       "    <tr>\n",
       "      <th>...</th>\n",
       "      <td>...</td>\n",
       "      <td>...</td>\n",
       "      <td>...</td>\n",
       "    </tr>\n",
       "    <tr>\n",
       "      <th>78</th>\n",
       "      <td>659f1e6392a74cfe36923af7</td>\n",
       "      <td>0.0500</td>\n",
       "      <td>text</td>\n",
       "    </tr>\n",
       "    <tr>\n",
       "      <th>79</th>\n",
       "      <td>65a03d9edc0d74b929e38a76</td>\n",
       "      <td>0.0500</td>\n",
       "      <td>score</td>\n",
       "    </tr>\n",
       "    <tr>\n",
       "      <th>80</th>\n",
       "      <td>65c10c2abe42175a96e3ef2f</td>\n",
       "      <td>0.0000</td>\n",
       "      <td>full</td>\n",
       "    </tr>\n",
       "    <tr>\n",
       "      <th>81</th>\n",
       "      <td>65c1779a3f438c1cdcd9641a</td>\n",
       "      <td>0.0000</td>\n",
       "      <td>text</td>\n",
       "    </tr>\n",
       "    <tr>\n",
       "      <th>82</th>\n",
       "      <td>65ede6b8d079917c5421785e</td>\n",
       "      <td>0.1000</td>\n",
       "      <td>text</td>\n",
       "    </tr>\n",
       "  </tbody>\n",
       "</table>\n",
       "<p>83 rows × 3 columns</p>\n",
       "</div>"
      ],
      "text/plain": [
       "                 prolific_id  safe_landing condition\n",
       "0   5760a995f371330006a47cb3        0.3125      full\n",
       "1   5834a80a106ee1000120abd3        0.2500      text\n",
       "2   58cb138127e23a0001b4fb5d        0.4500      full\n",
       "3   5904dd5b352dd30001fb5e43        0.3500      full\n",
       "4   590eb4006d77630001d3a28a        0.0000     score\n",
       "..                       ...           ...       ...\n",
       "78  659f1e6392a74cfe36923af7        0.0500      text\n",
       "79  65a03d9edc0d74b929e38a76        0.0500     score\n",
       "80  65c10c2abe42175a96e3ef2f        0.0000      full\n",
       "81  65c1779a3f438c1cdcd9641a        0.0000      text\n",
       "82  65ede6b8d079917c5421785e        0.1000      text\n",
       "\n",
       "[83 rows x 3 columns]"
      ]
     },
     "execution_count": 73,
     "metadata": {},
     "output_type": "execute_result"
    }
   ],
   "source": [
    "# Proportion of Safe Landings\n",
    "data_struggle['safe_landing'] = data['outcome_code'].apply(lambda x: 1 if x == 2 else 0)\n",
    "proportion_safe = data_struggle.groupby('prolific_id')['safe_landing'].mean().reset_index()\n",
    "proportion_safe = pd.merge(proportion_safe, part_file[['prolific_id', 'condition']], on='prolific_id')\n",
    "proportion_safe"
   ]
  },
  {
   "cell_type": "code",
   "execution_count": 75,
   "metadata": {},
   "outputs": [
    {
     "data": {
      "text/html": [
       "<div>\n",
       "<style scoped>\n",
       "    .dataframe tbody tr th:only-of-type {\n",
       "        vertical-align: middle;\n",
       "    }\n",
       "\n",
       "    .dataframe tbody tr th {\n",
       "        vertical-align: top;\n",
       "    }\n",
       "\n",
       "    .dataframe thead th {\n",
       "        text-align: right;\n",
       "    }\n",
       "</style>\n",
       "<table border=\"1\" class=\"dataframe\">\n",
       "  <thead>\n",
       "    <tr style=\"text-align: right;\">\n",
       "      <th></th>\n",
       "      <th>mean</th>\n",
       "      <th>std</th>\n",
       "    </tr>\n",
       "    <tr>\n",
       "      <th>condition</th>\n",
       "      <th></th>\n",
       "      <th></th>\n",
       "    </tr>\n",
       "  </thead>\n",
       "  <tbody>\n",
       "    <tr>\n",
       "      <th>demo</th>\n",
       "      <td>NaN</td>\n",
       "      <td>NaN</td>\n",
       "    </tr>\n",
       "    <tr>\n",
       "      <th>full</th>\n",
       "      <td>0.248566</td>\n",
       "      <td>0.152054</td>\n",
       "    </tr>\n",
       "    <tr>\n",
       "      <th>score</th>\n",
       "      <td>0.232749</td>\n",
       "      <td>0.235581</td>\n",
       "    </tr>\n",
       "    <tr>\n",
       "      <th>text</th>\n",
       "      <td>0.214818</td>\n",
       "      <td>0.205669</td>\n",
       "    </tr>\n",
       "  </tbody>\n",
       "</table>\n",
       "</div>"
      ],
      "text/plain": [
       "               mean       std\n",
       "condition                    \n",
       "demo            NaN       NaN\n",
       "full       0.248566  0.152054\n",
       "score      0.232749  0.235581\n",
       "text       0.214818  0.205669"
      ]
     },
     "execution_count": 75,
     "metadata": {},
     "output_type": "execute_result"
    }
   ],
   "source": [
    "proportion_safe.groupby('condition')['safe_landing'].agg(['mean', 'std'])"
   ]
  },
  {
   "cell_type": "markdown",
   "metadata": {},
   "source": [
    "Time to first mastery"
   ]
  },
  {
   "cell_type": "code",
   "execution_count": 31,
   "metadata": {},
   "outputs": [],
   "source": [
    "# Time to First Mastery\n",
    "# look at code above\n"
   ]
  },
  {
   "cell_type": "markdown",
   "metadata": {},
   "source": [
    "Consistency of performance"
   ]
  },
  {
   "cell_type": "code",
   "execution_count": 36,
   "metadata": {},
   "outputs": [
    {
     "data": {
      "text/html": [
       "<div>\n",
       "<style scoped>\n",
       "    .dataframe tbody tr th:only-of-type {\n",
       "        vertical-align: middle;\n",
       "    }\n",
       "\n",
       "    .dataframe tbody tr th {\n",
       "        vertical-align: top;\n",
       "    }\n",
       "\n",
       "    .dataframe thead th {\n",
       "        text-align: right;\n",
       "    }\n",
       "</style>\n",
       "<table border=\"1\" class=\"dataframe\">\n",
       "  <thead>\n",
       "    <tr style=\"text-align: right;\">\n",
       "      <th></th>\n",
       "      <th>prolific_id</th>\n",
       "      <th>outcome_int</th>\n",
       "      <th>condition</th>\n",
       "    </tr>\n",
       "  </thead>\n",
       "  <tbody>\n",
       "    <tr>\n",
       "      <th>0</th>\n",
       "      <td>569b36e3af9ad70006640dd9</td>\n",
       "      <td>0.917663</td>\n",
       "      <td>score</td>\n",
       "    </tr>\n",
       "    <tr>\n",
       "      <th>1</th>\n",
       "      <td>56bae08f30d6b30005f8537a</td>\n",
       "      <td>0.523148</td>\n",
       "      <td>full</td>\n",
       "    </tr>\n",
       "    <tr>\n",
       "      <th>2</th>\n",
       "      <td>5760a995f371330006a47cb3</td>\n",
       "      <td>0.771902</td>\n",
       "      <td>full</td>\n",
       "    </tr>\n",
       "    <tr>\n",
       "      <th>3</th>\n",
       "      <td>5834a80a106ee1000120abd3</td>\n",
       "      <td>0.812728</td>\n",
       "      <td>text</td>\n",
       "    </tr>\n",
       "    <tr>\n",
       "      <th>4</th>\n",
       "      <td>587674406e2f8d00015c6148</td>\n",
       "      <td>0.550120</td>\n",
       "      <td>score</td>\n",
       "    </tr>\n",
       "    <tr>\n",
       "      <th>...</th>\n",
       "      <td>...</td>\n",
       "      <td>...</td>\n",
       "      <td>...</td>\n",
       "    </tr>\n",
       "    <tr>\n",
       "      <th>162</th>\n",
       "      <td>65a8e09cb517c52021059686</td>\n",
       "      <td>0.686333</td>\n",
       "      <td>score</td>\n",
       "    </tr>\n",
       "    <tr>\n",
       "      <th>163</th>\n",
       "      <td>65c10c2abe42175a96e3ef2f</td>\n",
       "      <td>0.512989</td>\n",
       "      <td>full</td>\n",
       "    </tr>\n",
       "    <tr>\n",
       "      <th>164</th>\n",
       "      <td>65c1779a3f438c1cdcd9641a</td>\n",
       "      <td>0.383482</td>\n",
       "      <td>text</td>\n",
       "    </tr>\n",
       "    <tr>\n",
       "      <th>165</th>\n",
       "      <td>65cefb1a4565306b90516a56</td>\n",
       "      <td>0.764719</td>\n",
       "      <td>text</td>\n",
       "    </tr>\n",
       "    <tr>\n",
       "      <th>166</th>\n",
       "      <td>65ede6b8d079917c5421785e</td>\n",
       "      <td>0.587143</td>\n",
       "      <td>text</td>\n",
       "    </tr>\n",
       "  </tbody>\n",
       "</table>\n",
       "<p>167 rows × 3 columns</p>\n",
       "</div>"
      ],
      "text/plain": [
       "                  prolific_id  outcome_int condition\n",
       "0    569b36e3af9ad70006640dd9     0.917663     score\n",
       "1    56bae08f30d6b30005f8537a     0.523148      full\n",
       "2    5760a995f371330006a47cb3     0.771902      full\n",
       "3    5834a80a106ee1000120abd3     0.812728      text\n",
       "4    587674406e2f8d00015c6148     0.550120     score\n",
       "..                        ...          ...       ...\n",
       "162  65a8e09cb517c52021059686     0.686333     score\n",
       "163  65c10c2abe42175a96e3ef2f     0.512989      full\n",
       "164  65c1779a3f438c1cdcd9641a     0.383482      text\n",
       "165  65cefb1a4565306b90516a56     0.764719      text\n",
       "166  65ede6b8d079917c5421785e     0.587143      text\n",
       "\n",
       "[167 rows x 3 columns]"
      ]
     },
     "execution_count": 36,
     "metadata": {},
     "output_type": "execute_result"
    }
   ],
   "source": [
    "# Consistency of Performance\n",
    "data['outcome_int'] = data['outcome_code'].astype(int)\n",
    "consistency = data.groupby('prolific_id')['outcome_int'].std().reset_index()\n",
    "consistency = pd.merge(consistency, part_file[['prolific_id', 'condition']], on='prolific_id')\n",
    "consistency"
   ]
  },
  {
   "cell_type": "code",
   "execution_count": 38,
   "metadata": {},
   "outputs": [
    {
     "data": {
      "text/html": [
       "<div>\n",
       "<style scoped>\n",
       "    .dataframe tbody tr th:only-of-type {\n",
       "        vertical-align: middle;\n",
       "    }\n",
       "\n",
       "    .dataframe tbody tr th {\n",
       "        vertical-align: top;\n",
       "    }\n",
       "\n",
       "    .dataframe thead th {\n",
       "        text-align: right;\n",
       "    }\n",
       "</style>\n",
       "<table border=\"1\" class=\"dataframe\">\n",
       "  <thead>\n",
       "    <tr style=\"text-align: right;\">\n",
       "      <th></th>\n",
       "      <th>mean</th>\n",
       "      <th>std</th>\n",
       "    </tr>\n",
       "    <tr>\n",
       "      <th>condition</th>\n",
       "      <th></th>\n",
       "      <th></th>\n",
       "    </tr>\n",
       "  </thead>\n",
       "  <tbody>\n",
       "    <tr>\n",
       "      <th>demo</th>\n",
       "      <td>NaN</td>\n",
       "      <td>NaN</td>\n",
       "    </tr>\n",
       "    <tr>\n",
       "      <th>full</th>\n",
       "      <td>0.665943</td>\n",
       "      <td>0.123133</td>\n",
       "    </tr>\n",
       "    <tr>\n",
       "      <th>score</th>\n",
       "      <td>0.628818</td>\n",
       "      <td>0.142138</td>\n",
       "    </tr>\n",
       "    <tr>\n",
       "      <th>text</th>\n",
       "      <td>0.632115</td>\n",
       "      <td>0.162630</td>\n",
       "    </tr>\n",
       "  </tbody>\n",
       "</table>\n",
       "</div>"
      ],
      "text/plain": [
       "               mean       std\n",
       "condition                    \n",
       "demo            NaN       NaN\n",
       "full       0.665943  0.123133\n",
       "score      0.628818  0.142138\n",
       "text       0.632115  0.162630"
      ]
     },
     "execution_count": 38,
     "metadata": {},
     "output_type": "execute_result"
    }
   ],
   "source": [
    "consistency.groupby('condition')['outcome_int'].agg(['mean', 'std'])\n",
    "# these are very similar as well"
   ]
  },
  {
   "cell_type": "code",
   "execution_count": 77,
   "metadata": {},
   "outputs": [
    {
     "data": {
      "text/html": [
       "<div>\n",
       "<style scoped>\n",
       "    .dataframe tbody tr th:only-of-type {\n",
       "        vertical-align: middle;\n",
       "    }\n",
       "\n",
       "    .dataframe tbody tr th {\n",
       "        vertical-align: top;\n",
       "    }\n",
       "\n",
       "    .dataframe thead th {\n",
       "        text-align: right;\n",
       "    }\n",
       "</style>\n",
       "<table border=\"1\" class=\"dataframe\">\n",
       "  <thead>\n",
       "    <tr style=\"text-align: right;\">\n",
       "      <th></th>\n",
       "      <th>prolific_id</th>\n",
       "      <th>outcome_int</th>\n",
       "      <th>condition</th>\n",
       "    </tr>\n",
       "  </thead>\n",
       "  <tbody>\n",
       "    <tr>\n",
       "      <th>0</th>\n",
       "      <td>5760a995f371330006a47cb3</td>\n",
       "      <td>0.771902</td>\n",
       "      <td>full</td>\n",
       "    </tr>\n",
       "    <tr>\n",
       "      <th>1</th>\n",
       "      <td>5834a80a106ee1000120abd3</td>\n",
       "      <td>0.812728</td>\n",
       "      <td>text</td>\n",
       "    </tr>\n",
       "    <tr>\n",
       "      <th>2</th>\n",
       "      <td>58cb138127e23a0001b4fb5d</td>\n",
       "      <td>0.875094</td>\n",
       "      <td>full</td>\n",
       "    </tr>\n",
       "    <tr>\n",
       "      <th>3</th>\n",
       "      <td>5904dd5b352dd30001fb5e43</td>\n",
       "      <td>0.788069</td>\n",
       "      <td>full</td>\n",
       "    </tr>\n",
       "    <tr>\n",
       "      <th>4</th>\n",
       "      <td>590eb4006d77630001d3a28a</td>\n",
       "      <td>0.502625</td>\n",
       "      <td>score</td>\n",
       "    </tr>\n",
       "    <tr>\n",
       "      <th>...</th>\n",
       "      <td>...</td>\n",
       "      <td>...</td>\n",
       "      <td>...</td>\n",
       "    </tr>\n",
       "    <tr>\n",
       "      <th>78</th>\n",
       "      <td>659f1e6392a74cfe36923af7</td>\n",
       "      <td>0.606977</td>\n",
       "      <td>text</td>\n",
       "    </tr>\n",
       "    <tr>\n",
       "      <th>79</th>\n",
       "      <td>65a03d9edc0d74b929e38a76</td>\n",
       "      <td>0.571241</td>\n",
       "      <td>score</td>\n",
       "    </tr>\n",
       "    <tr>\n",
       "      <th>80</th>\n",
       "      <td>65c10c2abe42175a96e3ef2f</td>\n",
       "      <td>0.512989</td>\n",
       "      <td>full</td>\n",
       "    </tr>\n",
       "    <tr>\n",
       "      <th>81</th>\n",
       "      <td>65c1779a3f438c1cdcd9641a</td>\n",
       "      <td>0.383482</td>\n",
       "      <td>text</td>\n",
       "    </tr>\n",
       "    <tr>\n",
       "      <th>82</th>\n",
       "      <td>65ede6b8d079917c5421785e</td>\n",
       "      <td>0.587143</td>\n",
       "      <td>text</td>\n",
       "    </tr>\n",
       "  </tbody>\n",
       "</table>\n",
       "<p>83 rows × 3 columns</p>\n",
       "</div>"
      ],
      "text/plain": [
       "                 prolific_id  outcome_int condition\n",
       "0   5760a995f371330006a47cb3     0.771902      full\n",
       "1   5834a80a106ee1000120abd3     0.812728      text\n",
       "2   58cb138127e23a0001b4fb5d     0.875094      full\n",
       "3   5904dd5b352dd30001fb5e43     0.788069      full\n",
       "4   590eb4006d77630001d3a28a     0.502625     score\n",
       "..                       ...          ...       ...\n",
       "78  659f1e6392a74cfe36923af7     0.606977      text\n",
       "79  65a03d9edc0d74b929e38a76     0.571241     score\n",
       "80  65c10c2abe42175a96e3ef2f     0.512989      full\n",
       "81  65c1779a3f438c1cdcd9641a     0.383482      text\n",
       "82  65ede6b8d079917c5421785e     0.587143      text\n",
       "\n",
       "[83 rows x 3 columns]"
      ]
     },
     "execution_count": 77,
     "metadata": {},
     "output_type": "execute_result"
    }
   ],
   "source": [
    "data_struggle['outcome_int'] = data['outcome_code'].astype(int)\n",
    "consistency = data_struggle.groupby('prolific_id')['outcome_int'].std().reset_index()\n",
    "consistency = pd.merge(consistency, part_file[['prolific_id', 'condition']], on='prolific_id')\n",
    "consistency"
   ]
  },
  {
   "cell_type": "code",
   "execution_count": 78,
   "metadata": {},
   "outputs": [
    {
     "data": {
      "text/html": [
       "<div>\n",
       "<style scoped>\n",
       "    .dataframe tbody tr th:only-of-type {\n",
       "        vertical-align: middle;\n",
       "    }\n",
       "\n",
       "    .dataframe tbody tr th {\n",
       "        vertical-align: top;\n",
       "    }\n",
       "\n",
       "    .dataframe thead th {\n",
       "        text-align: right;\n",
       "    }\n",
       "</style>\n",
       "<table border=\"1\" class=\"dataframe\">\n",
       "  <thead>\n",
       "    <tr style=\"text-align: right;\">\n",
       "      <th></th>\n",
       "      <th>mean</th>\n",
       "      <th>std</th>\n",
       "    </tr>\n",
       "    <tr>\n",
       "      <th>condition</th>\n",
       "      <th></th>\n",
       "      <th></th>\n",
       "    </tr>\n",
       "  </thead>\n",
       "  <tbody>\n",
       "    <tr>\n",
       "      <th>demo</th>\n",
       "      <td>NaN</td>\n",
       "      <td>NaN</td>\n",
       "    </tr>\n",
       "    <tr>\n",
       "      <th>full</th>\n",
       "      <td>0.709791</td>\n",
       "      <td>0.130359</td>\n",
       "    </tr>\n",
       "    <tr>\n",
       "      <th>score</th>\n",
       "      <td>0.640337</td>\n",
       "      <td>0.142042</td>\n",
       "    </tr>\n",
       "    <tr>\n",
       "      <th>text</th>\n",
       "      <td>0.657436</td>\n",
       "      <td>0.167624</td>\n",
       "    </tr>\n",
       "  </tbody>\n",
       "</table>\n",
       "</div>"
      ],
      "text/plain": [
       "               mean       std\n",
       "condition                    \n",
       "demo            NaN       NaN\n",
       "full       0.709791  0.130359\n",
       "score      0.640337  0.142042\n",
       "text       0.657436  0.167624"
      ]
     },
     "execution_count": 78,
     "metadata": {},
     "output_type": "execute_result"
    }
   ],
   "source": [
    "consistency.groupby('condition')['outcome_int'].agg(['mean', 'std'])"
   ]
  },
  {
   "cell_type": "code",
   "execution_count": 79,
   "metadata": {},
   "outputs": [
    {
     "data": {
      "text/plain": [
       "F_onewayResult(statistic=1.664534708288707, pvalue=0.1957664232735365)"
      ]
     },
     "execution_count": 79,
     "metadata": {},
     "output_type": "execute_result"
    }
   ],
   "source": [
    "stats.f_oneway(\n",
    "    consistency[consistency['condition'] == 'full']['outcome_int'],\n",
    "    consistency[consistency['condition'] == 'text']['outcome_int'],\n",
    "    consistency[consistency['condition'] == 'score']['outcome_int']\n",
    ")"
   ]
  },
  {
   "cell_type": "markdown",
   "metadata": {},
   "source": [
    "Improvement over time"
   ]
  },
  {
   "cell_type": "code",
   "execution_count": 41,
   "metadata": {},
   "outputs": [
    {
     "data": {
      "text/html": [
       "<div>\n",
       "<style scoped>\n",
       "    .dataframe tbody tr th:only-of-type {\n",
       "        vertical-align: middle;\n",
       "    }\n",
       "\n",
       "    .dataframe tbody tr th {\n",
       "        vertical-align: top;\n",
       "    }\n",
       "\n",
       "    .dataframe thead th {\n",
       "        text-align: right;\n",
       "    }\n",
       "</style>\n",
       "<table border=\"1\" class=\"dataframe\">\n",
       "  <thead>\n",
       "    <tr style=\"text-align: right;\">\n",
       "      <th></th>\n",
       "      <th>prolific_id</th>\n",
       "      <th>trend</th>\n",
       "      <th>condition</th>\n",
       "    </tr>\n",
       "  </thead>\n",
       "  <tbody>\n",
       "    <tr>\n",
       "      <th>0</th>\n",
       "      <td>569b36e3af9ad70006640dd9</td>\n",
       "      <td>0.063158</td>\n",
       "      <td>score</td>\n",
       "    </tr>\n",
       "    <tr>\n",
       "      <th>1</th>\n",
       "      <td>56bae08f30d6b30005f8537a</td>\n",
       "      <td>0.033083</td>\n",
       "      <td>full</td>\n",
       "    </tr>\n",
       "    <tr>\n",
       "      <th>2</th>\n",
       "      <td>5760a995f371330006a47cb3</td>\n",
       "      <td>0.101471</td>\n",
       "      <td>full</td>\n",
       "    </tr>\n",
       "    <tr>\n",
       "      <th>3</th>\n",
       "      <td>5834a80a106ee1000120abd3</td>\n",
       "      <td>0.087970</td>\n",
       "      <td>text</td>\n",
       "    </tr>\n",
       "    <tr>\n",
       "      <th>4</th>\n",
       "      <td>587674406e2f8d00015c6148</td>\n",
       "      <td>0.023308</td>\n",
       "      <td>score</td>\n",
       "    </tr>\n",
       "    <tr>\n",
       "      <th>...</th>\n",
       "      <td>...</td>\n",
       "      <td>...</td>\n",
       "      <td>...</td>\n",
       "    </tr>\n",
       "    <tr>\n",
       "      <th>162</th>\n",
       "      <td>65a8e09cb517c52021059686</td>\n",
       "      <td>0.048872</td>\n",
       "      <td>score</td>\n",
       "    </tr>\n",
       "    <tr>\n",
       "      <th>163</th>\n",
       "      <td>65c10c2abe42175a96e3ef2f</td>\n",
       "      <td>0.052632</td>\n",
       "      <td>full</td>\n",
       "    </tr>\n",
       "    <tr>\n",
       "      <th>164</th>\n",
       "      <td>65c1779a3f438c1cdcd9641a</td>\n",
       "      <td>0.009288</td>\n",
       "      <td>text</td>\n",
       "    </tr>\n",
       "    <tr>\n",
       "      <th>165</th>\n",
       "      <td>65cefb1a4565306b90516a56</td>\n",
       "      <td>0.022807</td>\n",
       "      <td>text</td>\n",
       "    </tr>\n",
       "    <tr>\n",
       "      <th>166</th>\n",
       "      <td>65ede6b8d079917c5421785e</td>\n",
       "      <td>0.023308</td>\n",
       "      <td>text</td>\n",
       "    </tr>\n",
       "  </tbody>\n",
       "</table>\n",
       "<p>167 rows × 3 columns</p>\n",
       "</div>"
      ],
      "text/plain": [
       "                  prolific_id     trend condition\n",
       "0    569b36e3af9ad70006640dd9  0.063158     score\n",
       "1    56bae08f30d6b30005f8537a  0.033083      full\n",
       "2    5760a995f371330006a47cb3  0.101471      full\n",
       "3    5834a80a106ee1000120abd3  0.087970      text\n",
       "4    587674406e2f8d00015c6148  0.023308     score\n",
       "..                        ...       ...       ...\n",
       "162  65a8e09cb517c52021059686  0.048872     score\n",
       "163  65c10c2abe42175a96e3ef2f  0.052632      full\n",
       "164  65c1779a3f438c1cdcd9641a  0.009288      text\n",
       "165  65cefb1a4565306b90516a56  0.022807      text\n",
       "166  65ede6b8d079917c5421785e  0.023308      text\n",
       "\n",
       "[167 rows x 3 columns]"
      ]
     },
     "execution_count": 41,
     "metadata": {},
     "output_type": "execute_result"
    }
   ],
   "source": [
    "# Improvement Over Time\n",
    "def improvement_trend(df):\n",
    "    df = df.reset_index()\n",
    "    df['attempt'] = df.index + 1\n",
    "    trend = np.polyfit(df['attempt'], df['outcome_int'], 1)[0]\n",
    "    return trend\n",
    "\n",
    "improvement = data.groupby('prolific_id').apply(improvement_trend).reset_index()\n",
    "improvement = pd.merge(improvement, part_file[['prolific_id', 'condition']], on='prolific_id')\n",
    "improvement.columns = ['prolific_id', 'trend', 'condition']\n",
    "improvement"
   ]
  },
  {
   "cell_type": "code",
   "execution_count": 42,
   "metadata": {},
   "outputs": [
    {
     "data": {
      "text/html": [
       "<div>\n",
       "<style scoped>\n",
       "    .dataframe tbody tr th:only-of-type {\n",
       "        vertical-align: middle;\n",
       "    }\n",
       "\n",
       "    .dataframe tbody tr th {\n",
       "        vertical-align: top;\n",
       "    }\n",
       "\n",
       "    .dataframe thead th {\n",
       "        text-align: right;\n",
       "    }\n",
       "</style>\n",
       "<table border=\"1\" class=\"dataframe\">\n",
       "  <thead>\n",
       "    <tr style=\"text-align: right;\">\n",
       "      <th></th>\n",
       "      <th>mean</th>\n",
       "      <th>std</th>\n",
       "    </tr>\n",
       "    <tr>\n",
       "      <th>condition</th>\n",
       "      <th></th>\n",
       "      <th></th>\n",
       "    </tr>\n",
       "  </thead>\n",
       "  <tbody>\n",
       "    <tr>\n",
       "      <th>demo</th>\n",
       "      <td>NaN</td>\n",
       "      <td>NaN</td>\n",
       "    </tr>\n",
       "    <tr>\n",
       "      <th>full</th>\n",
       "      <td>0.045588</td>\n",
       "      <td>0.035695</td>\n",
       "    </tr>\n",
       "    <tr>\n",
       "      <th>score</th>\n",
       "      <td>0.040267</td>\n",
       "      <td>0.033285</td>\n",
       "    </tr>\n",
       "    <tr>\n",
       "      <th>text</th>\n",
       "      <td>0.034291</td>\n",
       "      <td>0.040585</td>\n",
       "    </tr>\n",
       "  </tbody>\n",
       "</table>\n",
       "</div>"
      ],
      "text/plain": [
       "               mean       std\n",
       "condition                    \n",
       "demo            NaN       NaN\n",
       "full       0.045588  0.035695\n",
       "score      0.040267  0.033285\n",
       "text       0.034291  0.040585"
      ]
     },
     "execution_count": 42,
     "metadata": {},
     "output_type": "execute_result"
    }
   ],
   "source": [
    "improvement.groupby('condition')['trend'].agg(['mean', 'std'])"
   ]
  },
  {
   "cell_type": "code",
   "execution_count": 44,
   "metadata": {},
   "outputs": [
    {
     "data": {
      "text/plain": [
       "F_onewayResult(statistic=1.3302530523158445, pvalue=0.26724798584243226)"
      ]
     },
     "execution_count": 44,
     "metadata": {},
     "output_type": "execute_result"
    }
   ],
   "source": [
    "stats.f_oneway(\n",
    "    improvement[improvement['condition'] == 'full']['trend'],\n",
    "    improvement[improvement['condition'] == 'text']['trend'],\n",
    "    improvement[improvement['condition'] == 'score']['trend']\n",
    ")"
   ]
  },
  {
   "cell_type": "code",
   "execution_count": 80,
   "metadata": {},
   "outputs": [
    {
     "data": {
      "text/html": [
       "<div>\n",
       "<style scoped>\n",
       "    .dataframe tbody tr th:only-of-type {\n",
       "        vertical-align: middle;\n",
       "    }\n",
       "\n",
       "    .dataframe tbody tr th {\n",
       "        vertical-align: top;\n",
       "    }\n",
       "\n",
       "    .dataframe thead th {\n",
       "        text-align: right;\n",
       "    }\n",
       "</style>\n",
       "<table border=\"1\" class=\"dataframe\">\n",
       "  <thead>\n",
       "    <tr style=\"text-align: right;\">\n",
       "      <th></th>\n",
       "      <th>prolific_id</th>\n",
       "      <th>trend</th>\n",
       "      <th>condition</th>\n",
       "    </tr>\n",
       "  </thead>\n",
       "  <tbody>\n",
       "    <tr>\n",
       "      <th>0</th>\n",
       "      <td>5760a995f371330006a47cb3</td>\n",
       "      <td>1.014706e-01</td>\n",
       "      <td>full</td>\n",
       "    </tr>\n",
       "    <tr>\n",
       "      <th>1</th>\n",
       "      <td>5834a80a106ee1000120abd3</td>\n",
       "      <td>8.796992e-02</td>\n",
       "      <td>text</td>\n",
       "    </tr>\n",
       "    <tr>\n",
       "      <th>2</th>\n",
       "      <td>58cb138127e23a0001b4fb5d</td>\n",
       "      <td>1.165414e-01</td>\n",
       "      <td>full</td>\n",
       "    </tr>\n",
       "    <tr>\n",
       "      <th>3</th>\n",
       "      <td>5904dd5b352dd30001fb5e43</td>\n",
       "      <td>9.022556e-02</td>\n",
       "      <td>full</td>\n",
       "    </tr>\n",
       "    <tr>\n",
       "      <th>4</th>\n",
       "      <td>590eb4006d77630001d3a28a</td>\n",
       "      <td>2.728848e-17</td>\n",
       "      <td>score</td>\n",
       "    </tr>\n",
       "    <tr>\n",
       "      <th>...</th>\n",
       "      <td>...</td>\n",
       "      <td>...</td>\n",
       "      <td>...</td>\n",
       "    </tr>\n",
       "    <tr>\n",
       "      <th>78</th>\n",
       "      <td>659f1e6392a74cfe36923af7</td>\n",
       "      <td>7.518797e-03</td>\n",
       "      <td>text</td>\n",
       "    </tr>\n",
       "    <tr>\n",
       "      <th>79</th>\n",
       "      <td>65a03d9edc0d74b929e38a76</td>\n",
       "      <td>1.954887e-02</td>\n",
       "      <td>score</td>\n",
       "    </tr>\n",
       "    <tr>\n",
       "      <th>80</th>\n",
       "      <td>65c10c2abe42175a96e3ef2f</td>\n",
       "      <td>5.263158e-02</td>\n",
       "      <td>full</td>\n",
       "    </tr>\n",
       "    <tr>\n",
       "      <th>81</th>\n",
       "      <td>65c1779a3f438c1cdcd9641a</td>\n",
       "      <td>9.287926e-03</td>\n",
       "      <td>text</td>\n",
       "    </tr>\n",
       "    <tr>\n",
       "      <th>82</th>\n",
       "      <td>65ede6b8d079917c5421785e</td>\n",
       "      <td>2.330827e-02</td>\n",
       "      <td>text</td>\n",
       "    </tr>\n",
       "  </tbody>\n",
       "</table>\n",
       "<p>83 rows × 3 columns</p>\n",
       "</div>"
      ],
      "text/plain": [
       "                 prolific_id         trend condition\n",
       "0   5760a995f371330006a47cb3  1.014706e-01      full\n",
       "1   5834a80a106ee1000120abd3  8.796992e-02      text\n",
       "2   58cb138127e23a0001b4fb5d  1.165414e-01      full\n",
       "3   5904dd5b352dd30001fb5e43  9.022556e-02      full\n",
       "4   590eb4006d77630001d3a28a  2.728848e-17     score\n",
       "..                       ...           ...       ...\n",
       "78  659f1e6392a74cfe36923af7  7.518797e-03      text\n",
       "79  65a03d9edc0d74b929e38a76  1.954887e-02     score\n",
       "80  65c10c2abe42175a96e3ef2f  5.263158e-02      full\n",
       "81  65c1779a3f438c1cdcd9641a  9.287926e-03      text\n",
       "82  65ede6b8d079917c5421785e  2.330827e-02      text\n",
       "\n",
       "[83 rows x 3 columns]"
      ]
     },
     "execution_count": 80,
     "metadata": {},
     "output_type": "execute_result"
    }
   ],
   "source": [
    "# Improvement Over Time\n",
    "def improvement_trend(df):\n",
    "    df = df.reset_index()\n",
    "    df['attempt'] = df.index + 1\n",
    "    trend = np.polyfit(df['attempt'], df['outcome_int'], 1)[0]\n",
    "    return trend\n",
    "\n",
    "improvement = data_struggle.groupby('prolific_id').apply(improvement_trend).reset_index()\n",
    "improvement = pd.merge(improvement, part_file[['prolific_id', 'condition']], on='prolific_id')\n",
    "improvement.columns = ['prolific_id', 'trend', 'condition']\n",
    "improvement"
   ]
  },
  {
   "cell_type": "code",
   "execution_count": 81,
   "metadata": {},
   "outputs": [
    {
     "data": {
      "text/html": [
       "<div>\n",
       "<style scoped>\n",
       "    .dataframe tbody tr th:only-of-type {\n",
       "        vertical-align: middle;\n",
       "    }\n",
       "\n",
       "    .dataframe tbody tr th {\n",
       "        vertical-align: top;\n",
       "    }\n",
       "\n",
       "    .dataframe thead th {\n",
       "        text-align: right;\n",
       "    }\n",
       "</style>\n",
       "<table border=\"1\" class=\"dataframe\">\n",
       "  <thead>\n",
       "    <tr style=\"text-align: right;\">\n",
       "      <th></th>\n",
       "      <th>mean</th>\n",
       "      <th>std</th>\n",
       "    </tr>\n",
       "    <tr>\n",
       "      <th>condition</th>\n",
       "      <th></th>\n",
       "      <th></th>\n",
       "    </tr>\n",
       "  </thead>\n",
       "  <tbody>\n",
       "    <tr>\n",
       "      <th>demo</th>\n",
       "      <td>NaN</td>\n",
       "      <td>NaN</td>\n",
       "    </tr>\n",
       "    <tr>\n",
       "      <th>full</th>\n",
       "      <td>0.063832</td>\n",
       "      <td>0.038161</td>\n",
       "    </tr>\n",
       "    <tr>\n",
       "      <th>score</th>\n",
       "      <td>0.048646</td>\n",
       "      <td>0.037370</td>\n",
       "    </tr>\n",
       "    <tr>\n",
       "      <th>text</th>\n",
       "      <td>0.052901</td>\n",
       "      <td>0.037327</td>\n",
       "    </tr>\n",
       "  </tbody>\n",
       "</table>\n",
       "</div>"
      ],
      "text/plain": [
       "               mean       std\n",
       "condition                    \n",
       "demo            NaN       NaN\n",
       "full       0.063832  0.038161\n",
       "score      0.048646  0.037370\n",
       "text       0.052901  0.037327"
      ]
     },
     "execution_count": 81,
     "metadata": {},
     "output_type": "execute_result"
    }
   ],
   "source": [
    "improvement.groupby('condition')['trend'].agg(['mean', 'std'])"
   ]
  },
  {
   "cell_type": "code",
   "execution_count": 82,
   "metadata": {},
   "outputs": [
    {
     "data": {
      "text/plain": [
       "F_onewayResult(statistic=1.1989493603837234, pvalue=0.306869704070658)"
      ]
     },
     "execution_count": 82,
     "metadata": {},
     "output_type": "execute_result"
    }
   ],
   "source": [
    "stats.f_oneway(\n",
    "    improvement[improvement['condition'] == 'full']['trend'],\n",
    "    improvement[improvement['condition'] == 'text']['trend'],\n",
    "    improvement[improvement['condition'] == 'score']['trend']\n",
    ")"
   ]
  },
  {
   "cell_type": "code",
   "execution_count": 83,
   "metadata": {},
   "outputs": [
    {
     "data": {
      "text/plain": [
       "TtestResult(statistic=1.4905212750511792, pvalue=0.14201506102411185, df=53.0)"
      ]
     },
     "execution_count": 83,
     "metadata": {},
     "output_type": "execute_result"
    }
   ],
   "source": [
    "stats.ttest_ind(improvement[improvement['condition'] == 'full']['trend'], improvement[improvement['condition'] == 'score']['trend'])"
   ]
  },
  {
   "cell_type": "markdown",
   "metadata": {},
   "source": [
    "Last N landings"
   ]
  },
  {
   "cell_type": "code",
   "execution_count": 45,
   "metadata": {},
   "outputs": [
    {
     "data": {
      "text/html": [
       "<div>\n",
       "<style scoped>\n",
       "    .dataframe tbody tr th:only-of-type {\n",
       "        vertical-align: middle;\n",
       "    }\n",
       "\n",
       "    .dataframe tbody tr th {\n",
       "        vertical-align: top;\n",
       "    }\n",
       "\n",
       "    .dataframe thead th {\n",
       "        text-align: right;\n",
       "    }\n",
       "</style>\n",
       "<table border=\"1\" class=\"dataframe\">\n",
       "  <thead>\n",
       "    <tr style=\"text-align: right;\">\n",
       "      <th></th>\n",
       "      <th>prolific_id</th>\n",
       "      <th>last_n_safe</th>\n",
       "      <th>condition</th>\n",
       "    </tr>\n",
       "  </thead>\n",
       "  <tbody>\n",
       "    <tr>\n",
       "      <th>0</th>\n",
       "      <td>569b36e3af9ad70006640dd9</td>\n",
       "      <td>0.6</td>\n",
       "      <td>score</td>\n",
       "    </tr>\n",
       "    <tr>\n",
       "      <th>1</th>\n",
       "      <td>56bae08f30d6b30005f8537a</td>\n",
       "      <td>1.0</td>\n",
       "      <td>full</td>\n",
       "    </tr>\n",
       "    <tr>\n",
       "      <th>2</th>\n",
       "      <td>5760a995f371330006a47cb3</td>\n",
       "      <td>0.4</td>\n",
       "      <td>full</td>\n",
       "    </tr>\n",
       "    <tr>\n",
       "      <th>3</th>\n",
       "      <td>5834a80a106ee1000120abd3</td>\n",
       "      <td>0.8</td>\n",
       "      <td>text</td>\n",
       "    </tr>\n",
       "    <tr>\n",
       "      <th>4</th>\n",
       "      <td>587674406e2f8d00015c6148</td>\n",
       "      <td>1.0</td>\n",
       "      <td>score</td>\n",
       "    </tr>\n",
       "    <tr>\n",
       "      <th>...</th>\n",
       "      <td>...</td>\n",
       "      <td>...</td>\n",
       "      <td>...</td>\n",
       "    </tr>\n",
       "    <tr>\n",
       "      <th>162</th>\n",
       "      <td>65a8e09cb517c52021059686</td>\n",
       "      <td>1.0</td>\n",
       "      <td>score</td>\n",
       "    </tr>\n",
       "    <tr>\n",
       "      <th>163</th>\n",
       "      <td>65c10c2abe42175a96e3ef2f</td>\n",
       "      <td>0.0</td>\n",
       "      <td>full</td>\n",
       "    </tr>\n",
       "    <tr>\n",
       "      <th>164</th>\n",
       "      <td>65c1779a3f438c1cdcd9641a</td>\n",
       "      <td>0.0</td>\n",
       "      <td>text</td>\n",
       "    </tr>\n",
       "    <tr>\n",
       "      <th>165</th>\n",
       "      <td>65cefb1a4565306b90516a56</td>\n",
       "      <td>0.2</td>\n",
       "      <td>text</td>\n",
       "    </tr>\n",
       "    <tr>\n",
       "      <th>166</th>\n",
       "      <td>65ede6b8d079917c5421785e</td>\n",
       "      <td>0.0</td>\n",
       "      <td>text</td>\n",
       "    </tr>\n",
       "  </tbody>\n",
       "</table>\n",
       "<p>167 rows × 3 columns</p>\n",
       "</div>"
      ],
      "text/plain": [
       "                  prolific_id  last_n_safe condition\n",
       "0    569b36e3af9ad70006640dd9          0.6     score\n",
       "1    56bae08f30d6b30005f8537a          1.0      full\n",
       "2    5760a995f371330006a47cb3          0.4      full\n",
       "3    5834a80a106ee1000120abd3          0.8      text\n",
       "4    587674406e2f8d00015c6148          1.0     score\n",
       "..                        ...          ...       ...\n",
       "162  65a8e09cb517c52021059686          1.0     score\n",
       "163  65c10c2abe42175a96e3ef2f          0.0      full\n",
       "164  65c1779a3f438c1cdcd9641a          0.0      text\n",
       "165  65cefb1a4565306b90516a56          0.2      text\n",
       "166  65ede6b8d079917c5421785e          0.0      text\n",
       "\n",
       "[167 rows x 3 columns]"
      ]
     },
     "execution_count": 45,
     "metadata": {},
     "output_type": "execute_result"
    }
   ],
   "source": [
    "# Last N Landings\n",
    "def last_n_safe(df, n=5):\n",
    "    return df['safe_landing'].iloc[-n:].mean()\n",
    "\n",
    "last_n_landings = data.groupby('prolific_id').apply(last_n_safe).reset_index()\n",
    "last_n_landings = pd.merge(last_n_landings, part_file[['prolific_id', 'condition']], on='prolific_id')\n",
    "last_n_landings.columns = ['prolific_id', 'last_n_safe', 'condition']\n",
    "last_n_landings"
   ]
  },
  {
   "cell_type": "code",
   "execution_count": 46,
   "metadata": {},
   "outputs": [
    {
     "data": {
      "text/html": [
       "<div>\n",
       "<style scoped>\n",
       "    .dataframe tbody tr th:only-of-type {\n",
       "        vertical-align: middle;\n",
       "    }\n",
       "\n",
       "    .dataframe tbody tr th {\n",
       "        vertical-align: top;\n",
       "    }\n",
       "\n",
       "    .dataframe thead th {\n",
       "        text-align: right;\n",
       "    }\n",
       "</style>\n",
       "<table border=\"1\" class=\"dataframe\">\n",
       "  <thead>\n",
       "    <tr style=\"text-align: right;\">\n",
       "      <th></th>\n",
       "      <th>mean</th>\n",
       "      <th>std</th>\n",
       "    </tr>\n",
       "    <tr>\n",
       "      <th>condition</th>\n",
       "      <th></th>\n",
       "      <th></th>\n",
       "    </tr>\n",
       "  </thead>\n",
       "  <tbody>\n",
       "    <tr>\n",
       "      <th>demo</th>\n",
       "      <td>NaN</td>\n",
       "      <td>NaN</td>\n",
       "    </tr>\n",
       "    <tr>\n",
       "      <th>full</th>\n",
       "      <td>0.578571</td>\n",
       "      <td>0.292148</td>\n",
       "    </tr>\n",
       "    <tr>\n",
       "      <th>score</th>\n",
       "      <td>0.560000</td>\n",
       "      <td>0.371982</td>\n",
       "    </tr>\n",
       "    <tr>\n",
       "      <th>text</th>\n",
       "      <td>0.500000</td>\n",
       "      <td>0.349545</td>\n",
       "    </tr>\n",
       "  </tbody>\n",
       "</table>\n",
       "</div>"
      ],
      "text/plain": [
       "               mean       std\n",
       "condition                    \n",
       "demo            NaN       NaN\n",
       "full       0.578571  0.292148\n",
       "score      0.560000  0.371982\n",
       "text       0.500000  0.349545"
      ]
     },
     "execution_count": 46,
     "metadata": {},
     "output_type": "execute_result"
    }
   ],
   "source": [
    "last_n_landings.groupby('condition')['last_n_safe'].agg(['mean','std'])\n",
    "# no difference for n=1 or n=3 or n=10"
   ]
  },
  {
   "cell_type": "code",
   "execution_count": 90,
   "metadata": {},
   "outputs": [
    {
     "data": {
      "text/html": [
       "<div>\n",
       "<style scoped>\n",
       "    .dataframe tbody tr th:only-of-type {\n",
       "        vertical-align: middle;\n",
       "    }\n",
       "\n",
       "    .dataframe tbody tr th {\n",
       "        vertical-align: top;\n",
       "    }\n",
       "\n",
       "    .dataframe thead th {\n",
       "        text-align: right;\n",
       "    }\n",
       "</style>\n",
       "<table border=\"1\" class=\"dataframe\">\n",
       "  <thead>\n",
       "    <tr style=\"text-align: right;\">\n",
       "      <th></th>\n",
       "      <th>prolific_id</th>\n",
       "      <th>last_n_safe</th>\n",
       "      <th>condition</th>\n",
       "    </tr>\n",
       "  </thead>\n",
       "  <tbody>\n",
       "    <tr>\n",
       "      <th>0</th>\n",
       "      <td>5760a995f371330006a47cb3</td>\n",
       "      <td>0.666667</td>\n",
       "      <td>full</td>\n",
       "    </tr>\n",
       "    <tr>\n",
       "      <th>1</th>\n",
       "      <td>5834a80a106ee1000120abd3</td>\n",
       "      <td>1.000000</td>\n",
       "      <td>text</td>\n",
       "    </tr>\n",
       "    <tr>\n",
       "      <th>2</th>\n",
       "      <td>58cb138127e23a0001b4fb5d</td>\n",
       "      <td>1.000000</td>\n",
       "      <td>full</td>\n",
       "    </tr>\n",
       "    <tr>\n",
       "      <th>3</th>\n",
       "      <td>5904dd5b352dd30001fb5e43</td>\n",
       "      <td>0.666667</td>\n",
       "      <td>full</td>\n",
       "    </tr>\n",
       "    <tr>\n",
       "      <th>4</th>\n",
       "      <td>590eb4006d77630001d3a28a</td>\n",
       "      <td>0.000000</td>\n",
       "      <td>score</td>\n",
       "    </tr>\n",
       "    <tr>\n",
       "      <th>...</th>\n",
       "      <td>...</td>\n",
       "      <td>...</td>\n",
       "      <td>...</td>\n",
       "    </tr>\n",
       "    <tr>\n",
       "      <th>78</th>\n",
       "      <td>659f1e6392a74cfe36923af7</td>\n",
       "      <td>0.333333</td>\n",
       "      <td>text</td>\n",
       "    </tr>\n",
       "    <tr>\n",
       "      <th>79</th>\n",
       "      <td>65a03d9edc0d74b929e38a76</td>\n",
       "      <td>0.333333</td>\n",
       "      <td>score</td>\n",
       "    </tr>\n",
       "    <tr>\n",
       "      <th>80</th>\n",
       "      <td>65c10c2abe42175a96e3ef2f</td>\n",
       "      <td>0.000000</td>\n",
       "      <td>full</td>\n",
       "    </tr>\n",
       "    <tr>\n",
       "      <th>81</th>\n",
       "      <td>65c1779a3f438c1cdcd9641a</td>\n",
       "      <td>0.000000</td>\n",
       "      <td>text</td>\n",
       "    </tr>\n",
       "    <tr>\n",
       "      <th>82</th>\n",
       "      <td>65ede6b8d079917c5421785e</td>\n",
       "      <td>0.000000</td>\n",
       "      <td>text</td>\n",
       "    </tr>\n",
       "  </tbody>\n",
       "</table>\n",
       "<p>83 rows × 3 columns</p>\n",
       "</div>"
      ],
      "text/plain": [
       "                 prolific_id  last_n_safe condition\n",
       "0   5760a995f371330006a47cb3     0.666667      full\n",
       "1   5834a80a106ee1000120abd3     1.000000      text\n",
       "2   58cb138127e23a0001b4fb5d     1.000000      full\n",
       "3   5904dd5b352dd30001fb5e43     0.666667      full\n",
       "4   590eb4006d77630001d3a28a     0.000000     score\n",
       "..                       ...          ...       ...\n",
       "78  659f1e6392a74cfe36923af7     0.333333      text\n",
       "79  65a03d9edc0d74b929e38a76     0.333333     score\n",
       "80  65c10c2abe42175a96e3ef2f     0.000000      full\n",
       "81  65c1779a3f438c1cdcd9641a     0.000000      text\n",
       "82  65ede6b8d079917c5421785e     0.000000      text\n",
       "\n",
       "[83 rows x 3 columns]"
      ]
     },
     "execution_count": 90,
     "metadata": {},
     "output_type": "execute_result"
    }
   ],
   "source": [
    "# Last N Landings\n",
    "def last_n_safe(df, n=3):\n",
    "    return df['safe_landing'].iloc[-n:].mean()\n",
    "\n",
    "last_n_landings = data_struggle.groupby('prolific_id').apply(last_n_safe).reset_index()\n",
    "last_n_landings = pd.merge(last_n_landings, part_file[['prolific_id', 'condition']], on='prolific_id')\n",
    "last_n_landings.columns = ['prolific_id', 'last_n_safe', 'condition']\n",
    "last_n_landings"
   ]
  },
  {
   "cell_type": "code",
   "execution_count": 91,
   "metadata": {},
   "outputs": [
    {
     "data": {
      "text/html": [
       "<div>\n",
       "<style scoped>\n",
       "    .dataframe tbody tr th:only-of-type {\n",
       "        vertical-align: middle;\n",
       "    }\n",
       "\n",
       "    .dataframe tbody tr th {\n",
       "        vertical-align: top;\n",
       "    }\n",
       "\n",
       "    .dataframe thead th {\n",
       "        text-align: right;\n",
       "    }\n",
       "</style>\n",
       "<table border=\"1\" class=\"dataframe\">\n",
       "  <thead>\n",
       "    <tr style=\"text-align: right;\">\n",
       "      <th></th>\n",
       "      <th>mean</th>\n",
       "      <th>std</th>\n",
       "    </tr>\n",
       "    <tr>\n",
       "      <th>condition</th>\n",
       "      <th></th>\n",
       "      <th></th>\n",
       "    </tr>\n",
       "  </thead>\n",
       "  <tbody>\n",
       "    <tr>\n",
       "      <th>demo</th>\n",
       "      <td>NaN</td>\n",
       "      <td>NaN</td>\n",
       "    </tr>\n",
       "    <tr>\n",
       "      <th>full</th>\n",
       "      <td>0.476190</td>\n",
       "      <td>0.306696</td>\n",
       "    </tr>\n",
       "    <tr>\n",
       "      <th>score</th>\n",
       "      <td>0.320988</td>\n",
       "      <td>0.375323</td>\n",
       "    </tr>\n",
       "    <tr>\n",
       "      <th>text</th>\n",
       "      <td>0.452381</td>\n",
       "      <td>0.397671</td>\n",
       "    </tr>\n",
       "  </tbody>\n",
       "</table>\n",
       "</div>"
      ],
      "text/plain": [
       "               mean       std\n",
       "condition                    \n",
       "demo            NaN       NaN\n",
       "full       0.476190  0.306696\n",
       "score      0.320988  0.375323\n",
       "text       0.452381  0.397671"
      ]
     },
     "execution_count": 91,
     "metadata": {},
     "output_type": "execute_result"
    }
   ],
   "source": [
    "last_n_landings.groupby('condition')['last_n_safe'].agg(['mean', 'std'])"
   ]
  },
  {
   "cell_type": "markdown",
   "metadata": {},
   "source": [
    "Cumulative safe landings"
   ]
  },
  {
   "cell_type": "code",
   "execution_count": 50,
   "metadata": {},
   "outputs": [
    {
     "data": {
      "text/html": [
       "<div>\n",
       "<style scoped>\n",
       "    .dataframe tbody tr th:only-of-type {\n",
       "        vertical-align: middle;\n",
       "    }\n",
       "\n",
       "    .dataframe tbody tr th {\n",
       "        vertical-align: top;\n",
       "    }\n",
       "\n",
       "    .dataframe thead th {\n",
       "        text-align: right;\n",
       "    }\n",
       "</style>\n",
       "<table border=\"1\" class=\"dataframe\">\n",
       "  <thead>\n",
       "    <tr style=\"text-align: right;\">\n",
       "      <th></th>\n",
       "      <th>prolific_id</th>\n",
       "      <th>safe_landing</th>\n",
       "      <th>condition</th>\n",
       "    </tr>\n",
       "  </thead>\n",
       "  <tbody>\n",
       "    <tr>\n",
       "      <th>0</th>\n",
       "      <td>569b36e3af9ad70006640dd9</td>\n",
       "      <td>8</td>\n",
       "      <td>score</td>\n",
       "    </tr>\n",
       "    <tr>\n",
       "      <th>1</th>\n",
       "      <td>56bae08f30d6b30005f8537a</td>\n",
       "      <td>17</td>\n",
       "      <td>full</td>\n",
       "    </tr>\n",
       "    <tr>\n",
       "      <th>2</th>\n",
       "      <td>5760a995f371330006a47cb3</td>\n",
       "      <td>5</td>\n",
       "      <td>full</td>\n",
       "    </tr>\n",
       "    <tr>\n",
       "      <th>3</th>\n",
       "      <td>5834a80a106ee1000120abd3</td>\n",
       "      <td>5</td>\n",
       "      <td>text</td>\n",
       "    </tr>\n",
       "    <tr>\n",
       "      <th>4</th>\n",
       "      <td>587674406e2f8d00015c6148</td>\n",
       "      <td>16</td>\n",
       "      <td>score</td>\n",
       "    </tr>\n",
       "    <tr>\n",
       "      <th>...</th>\n",
       "      <td>...</td>\n",
       "      <td>...</td>\n",
       "      <td>...</td>\n",
       "    </tr>\n",
       "    <tr>\n",
       "      <th>162</th>\n",
       "      <td>65a8e09cb517c52021059686</td>\n",
       "      <td>13</td>\n",
       "      <td>score</td>\n",
       "    </tr>\n",
       "    <tr>\n",
       "      <th>163</th>\n",
       "      <td>65c10c2abe42175a96e3ef2f</td>\n",
       "      <td>0</td>\n",
       "      <td>full</td>\n",
       "    </tr>\n",
       "    <tr>\n",
       "      <th>164</th>\n",
       "      <td>65c1779a3f438c1cdcd9641a</td>\n",
       "      <td>0</td>\n",
       "      <td>text</td>\n",
       "    </tr>\n",
       "    <tr>\n",
       "      <th>165</th>\n",
       "      <td>65cefb1a4565306b90516a56</td>\n",
       "      <td>4</td>\n",
       "      <td>text</td>\n",
       "    </tr>\n",
       "    <tr>\n",
       "      <th>166</th>\n",
       "      <td>65ede6b8d079917c5421785e</td>\n",
       "      <td>2</td>\n",
       "      <td>text</td>\n",
       "    </tr>\n",
       "  </tbody>\n",
       "</table>\n",
       "<p>167 rows × 3 columns</p>\n",
       "</div>"
      ],
      "text/plain": [
       "                  prolific_id  safe_landing condition\n",
       "0    569b36e3af9ad70006640dd9             8     score\n",
       "1    56bae08f30d6b30005f8537a            17      full\n",
       "2    5760a995f371330006a47cb3             5      full\n",
       "3    5834a80a106ee1000120abd3             5      text\n",
       "4    587674406e2f8d00015c6148            16     score\n",
       "..                        ...           ...       ...\n",
       "162  65a8e09cb517c52021059686            13     score\n",
       "163  65c10c2abe42175a96e3ef2f             0      full\n",
       "164  65c1779a3f438c1cdcd9641a             0      text\n",
       "165  65cefb1a4565306b90516a56             4      text\n",
       "166  65ede6b8d079917c5421785e             2      text\n",
       "\n",
       "[167 rows x 3 columns]"
      ]
     },
     "execution_count": 50,
     "metadata": {},
     "output_type": "execute_result"
    }
   ],
   "source": [
    "# Cumulative Safe Landings\n",
    "cumulative_safe = data.groupby('prolific_id')['safe_landing'].sum().reset_index()\n",
    "cumulative_safe = pd.merge(cumulative_safe, part_file[['prolific_id', 'condition']], on='prolific_id')\n",
    "cumulative_safe"
   ]
  },
  {
   "cell_type": "code",
   "execution_count": 51,
   "metadata": {},
   "outputs": [
    {
     "data": {
      "text/html": [
       "<div>\n",
       "<style scoped>\n",
       "    .dataframe tbody tr th:only-of-type {\n",
       "        vertical-align: middle;\n",
       "    }\n",
       "\n",
       "    .dataframe tbody tr th {\n",
       "        vertical-align: top;\n",
       "    }\n",
       "\n",
       "    .dataframe thead th {\n",
       "        text-align: right;\n",
       "    }\n",
       "</style>\n",
       "<table border=\"1\" class=\"dataframe\">\n",
       "  <thead>\n",
       "    <tr style=\"text-align: right;\">\n",
       "      <th></th>\n",
       "      <th>mean</th>\n",
       "      <th>std</th>\n",
       "    </tr>\n",
       "    <tr>\n",
       "      <th>condition</th>\n",
       "      <th></th>\n",
       "      <th></th>\n",
       "    </tr>\n",
       "  </thead>\n",
       "  <tbody>\n",
       "    <tr>\n",
       "      <th>demo</th>\n",
       "      <td>NaN</td>\n",
       "      <td>NaN</td>\n",
       "    </tr>\n",
       "    <tr>\n",
       "      <th>full</th>\n",
       "      <td>7.875000</td>\n",
       "      <td>4.394470</td>\n",
       "    </tr>\n",
       "    <tr>\n",
       "      <th>score</th>\n",
       "      <td>8.818182</td>\n",
       "      <td>5.748078</td>\n",
       "    </tr>\n",
       "    <tr>\n",
       "      <th>text</th>\n",
       "      <td>7.464286</td>\n",
       "      <td>5.417025</td>\n",
       "    </tr>\n",
       "  </tbody>\n",
       "</table>\n",
       "</div>"
      ],
      "text/plain": [
       "               mean       std\n",
       "condition                    \n",
       "demo            NaN       NaN\n",
       "full       7.875000  4.394470\n",
       "score      8.818182  5.748078\n",
       "text       7.464286  5.417025"
      ]
     },
     "execution_count": 51,
     "metadata": {},
     "output_type": "execute_result"
    }
   ],
   "source": [
    "cumulative_safe.groupby('condition')['safe_landing'].agg(['mean','std'])"
   ]
  },
  {
   "cell_type": "code",
   "execution_count": 92,
   "metadata": {},
   "outputs": [
    {
     "data": {
      "text/html": [
       "<div>\n",
       "<style scoped>\n",
       "    .dataframe tbody tr th:only-of-type {\n",
       "        vertical-align: middle;\n",
       "    }\n",
       "\n",
       "    .dataframe tbody tr th {\n",
       "        vertical-align: top;\n",
       "    }\n",
       "\n",
       "    .dataframe thead th {\n",
       "        text-align: right;\n",
       "    }\n",
       "</style>\n",
       "<table border=\"1\" class=\"dataframe\">\n",
       "  <thead>\n",
       "    <tr style=\"text-align: right;\">\n",
       "      <th></th>\n",
       "      <th>prolific_id</th>\n",
       "      <th>safe_landing</th>\n",
       "      <th>condition</th>\n",
       "    </tr>\n",
       "  </thead>\n",
       "  <tbody>\n",
       "    <tr>\n",
       "      <th>0</th>\n",
       "      <td>5760a995f371330006a47cb3</td>\n",
       "      <td>5</td>\n",
       "      <td>full</td>\n",
       "    </tr>\n",
       "    <tr>\n",
       "      <th>1</th>\n",
       "      <td>5834a80a106ee1000120abd3</td>\n",
       "      <td>5</td>\n",
       "      <td>text</td>\n",
       "    </tr>\n",
       "    <tr>\n",
       "      <th>2</th>\n",
       "      <td>58cb138127e23a0001b4fb5d</td>\n",
       "      <td>9</td>\n",
       "      <td>full</td>\n",
       "    </tr>\n",
       "    <tr>\n",
       "      <th>3</th>\n",
       "      <td>5904dd5b352dd30001fb5e43</td>\n",
       "      <td>7</td>\n",
       "      <td>full</td>\n",
       "    </tr>\n",
       "    <tr>\n",
       "      <th>4</th>\n",
       "      <td>590eb4006d77630001d3a28a</td>\n",
       "      <td>0</td>\n",
       "      <td>score</td>\n",
       "    </tr>\n",
       "    <tr>\n",
       "      <th>...</th>\n",
       "      <td>...</td>\n",
       "      <td>...</td>\n",
       "      <td>...</td>\n",
       "    </tr>\n",
       "    <tr>\n",
       "      <th>78</th>\n",
       "      <td>659f1e6392a74cfe36923af7</td>\n",
       "      <td>1</td>\n",
       "      <td>text</td>\n",
       "    </tr>\n",
       "    <tr>\n",
       "      <th>79</th>\n",
       "      <td>65a03d9edc0d74b929e38a76</td>\n",
       "      <td>1</td>\n",
       "      <td>score</td>\n",
       "    </tr>\n",
       "    <tr>\n",
       "      <th>80</th>\n",
       "      <td>65c10c2abe42175a96e3ef2f</td>\n",
       "      <td>0</td>\n",
       "      <td>full</td>\n",
       "    </tr>\n",
       "    <tr>\n",
       "      <th>81</th>\n",
       "      <td>65c1779a3f438c1cdcd9641a</td>\n",
       "      <td>0</td>\n",
       "      <td>text</td>\n",
       "    </tr>\n",
       "    <tr>\n",
       "      <th>82</th>\n",
       "      <td>65ede6b8d079917c5421785e</td>\n",
       "      <td>2</td>\n",
       "      <td>text</td>\n",
       "    </tr>\n",
       "  </tbody>\n",
       "</table>\n",
       "<p>83 rows × 3 columns</p>\n",
       "</div>"
      ],
      "text/plain": [
       "                 prolific_id  safe_landing condition\n",
       "0   5760a995f371330006a47cb3             5      full\n",
       "1   5834a80a106ee1000120abd3             5      text\n",
       "2   58cb138127e23a0001b4fb5d             9      full\n",
       "3   5904dd5b352dd30001fb5e43             7      full\n",
       "4   590eb4006d77630001d3a28a             0     score\n",
       "..                       ...           ...       ...\n",
       "78  659f1e6392a74cfe36923af7             1      text\n",
       "79  65a03d9edc0d74b929e38a76             1     score\n",
       "80  65c10c2abe42175a96e3ef2f             0      full\n",
       "81  65c1779a3f438c1cdcd9641a             0      text\n",
       "82  65ede6b8d079917c5421785e             2      text\n",
       "\n",
       "[83 rows x 3 columns]"
      ]
     },
     "execution_count": 92,
     "metadata": {},
     "output_type": "execute_result"
    }
   ],
   "source": [
    "# Cumulative Safe Landings\n",
    "cumulative_safe = data_struggle.groupby('prolific_id')['safe_landing'].sum().reset_index()\n",
    "cumulative_safe = pd.merge(cumulative_safe, part_file[['prolific_id', 'condition']], on='prolific_id')\n",
    "cumulative_safe"
   ]
  },
  {
   "cell_type": "code",
   "execution_count": 93,
   "metadata": {},
   "outputs": [
    {
     "data": {
      "text/html": [
       "<div>\n",
       "<style scoped>\n",
       "    .dataframe tbody tr th:only-of-type {\n",
       "        vertical-align: middle;\n",
       "    }\n",
       "\n",
       "    .dataframe tbody tr th {\n",
       "        vertical-align: top;\n",
       "    }\n",
       "\n",
       "    .dataframe thead th {\n",
       "        text-align: right;\n",
       "    }\n",
       "</style>\n",
       "<table border=\"1\" class=\"dataframe\">\n",
       "  <thead>\n",
       "    <tr style=\"text-align: right;\">\n",
       "      <th></th>\n",
       "      <th>mean</th>\n",
       "      <th>std</th>\n",
       "    </tr>\n",
       "    <tr>\n",
       "      <th>condition</th>\n",
       "      <th></th>\n",
       "      <th></th>\n",
       "    </tr>\n",
       "  </thead>\n",
       "  <tbody>\n",
       "    <tr>\n",
       "      <th>demo</th>\n",
       "      <td>NaN</td>\n",
       "      <td>NaN</td>\n",
       "    </tr>\n",
       "    <tr>\n",
       "      <th>full</th>\n",
       "      <td>4.750000</td>\n",
       "      <td>2.849626</td>\n",
       "    </tr>\n",
       "    <tr>\n",
       "      <th>score</th>\n",
       "      <td>4.592593</td>\n",
       "      <td>4.667888</td>\n",
       "    </tr>\n",
       "    <tr>\n",
       "      <th>text</th>\n",
       "      <td>4.214286</td>\n",
       "      <td>4.049299</td>\n",
       "    </tr>\n",
       "  </tbody>\n",
       "</table>\n",
       "</div>"
      ],
      "text/plain": [
       "               mean       std\n",
       "condition                    \n",
       "demo            NaN       NaN\n",
       "full       4.750000  2.849626\n",
       "score      4.592593  4.667888\n",
       "text       4.214286  4.049299"
      ]
     },
     "execution_count": 93,
     "metadata": {},
     "output_type": "execute_result"
    }
   ],
   "source": [
    "cumulative_safe.groupby('condition')['safe_landing'].agg(['mean', 'std'])"
   ]
  },
  {
   "cell_type": "markdown",
   "metadata": {},
   "source": [
    "# Pulling out qualitative stuff"
   ]
  },
  {
   "cell_type": "markdown",
   "metadata": {},
   "source": [
    "Grab all the images. This only needs to be done once."
   ]
  },
  {
   "cell_type": "code",
   "execution_count": null,
   "metadata": {},
   "outputs": [],
   "source": [
    "utils.copy_images(part_file['prolific_id'])"
   ]
  }
 ],
 "metadata": {
  "kernelspec": {
   "display_name": "venv",
   "language": "python",
   "name": "python3"
  },
  "language_info": {
   "codemirror_mode": {
    "name": "ipython",
    "version": 3
   },
   "file_extension": ".py",
   "mimetype": "text/x-python",
   "name": "python",
   "nbconvert_exporter": "python",
   "pygments_lexer": "ipython3",
   "version": "3.10.4"
  }
 },
 "nbformat": 4,
 "nbformat_minor": 2
}
